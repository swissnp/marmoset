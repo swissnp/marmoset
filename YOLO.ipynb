{
  "cells": [
    {
      "cell_type": "code",
      "execution_count": null,
      "metadata": {
        "colab": {
          "base_uri": "https://localhost:8080/"
        },
        "id": "4HdF2s4faRvk",
        "outputId": "8a7e9ea6-155c-40eb-d10a-7b6d9bd8b986"
      },
      "outputs": [
        {
          "name": "stdout",
          "output_type": "stream",
          "text": [
            "--2024-09-03 05:44:41--  https://zenodo.org/records/5849371/files/marmoset-dlc-2021-05-07.zip\n",
            "Resolving zenodo.org (zenodo.org)... 188.184.98.238, 188.184.103.159, 188.185.79.172, ...\n",
            "Connecting to zenodo.org (zenodo.org)|188.184.98.238|:443... connected.\n",
            "HTTP request sent, awaiting response... 200 OK\n",
            "Length: 1924072708 (1.8G) [application/octet-stream]\n",
            "Saving to: ‘marmoset-train.zip’\n",
            "\n",
            "marmoset-train.zip   92%[=================>  ]   1.66G  18.0MB/s    eta 7s     "
          ]
        }
      ],
      "source": [
        "!yes | wget https://zenodo.org/records/5849371/files/marmoset-dlc-2021-05-07.zip -O marmoset-train.zip\n",
        "!yes | unzip marmoset-train.zip -d .\n",
        "!mv marmoset-dlc-2021-05-07 marmoset-train\n",
        "!rm -r ./__MACOSX; rm -r **/__MACOSX\n",
        "!mkdir marmoset-train/labels\n",
        "!mkdir marmoset-train/labels/train\n",
        "!mkdir marmoset-train/labels/val\n",
        "# !yes | wget https://zenodo.org/records/8437121/files/marmoset-dlc-2021-05-07.zip -O marmoset-test.zip\n",
        "# !yes | unzip marmoset-test.zip -d .\n",
        "# !mv marmoset-dlc-2021-05-07 marmoset-test"
      ]
    },
    {
      "cell_type": "code",
      "execution_count": null,
      "metadata": {
        "colab": {
          "base_uri": "https://localhost:8080/"
        },
        "id": "JVcqywa-aUXA",
        "outputId": "1fd3c29e-e8d9-4f8c-f981-5e7aeb8c67ca"
      },
      "outputs": [
        {
          "name": "stdout",
          "output_type": "stream",
          "text": [
            "Starting processing...\n"
          ]
        },
        {
          "name": "stderr",
          "output_type": "stream",
          "text": [
            "Processing Annotations: 100%|██████████| 3964/3964 [00:00<00:00, 6157.07it/s]\n"
          ]
        }
      ],
      "source": [
        "## transform the json file to YOLO format\n",
        "import json\n",
        "import os\n",
        "from collections import defaultdict\n",
        "from pathlib import Path\n",
        "import numpy as np\n",
        "from tqdm import tqdm\n",
        "\n",
        "def normalize_keypoints(keypoints, img_width, img_height, precision=6):\n",
        "    normalized = []\n",
        "\n",
        "    for i in range(0, len(keypoints), 3):\n",
        "        x = max(0, min(1, round(keypoints[i] / img_width, precision)))\n",
        "        y = max(0, min(1, round(keypoints[i+1] / img_height, precision)))\n",
        "        v = keypoints[i+2]\n",
        "        normalized.extend([x, y, v])\n",
        "\n",
        "    return normalized\n",
        "\n",
        "def compute_bounding_box(keypoints):\n",
        "    points = [keypoints[i:i+3] for i in range(0, len(keypoints), 3) if keypoints[i+2] != 0]\n",
        "    x_coords, y_coords = zip(*[(p[0], p[1]) for p in points])\n",
        "\n",
        "    min_x, max_x = min(x_coords), max(x_coords)\n",
        "    min_y, max_y = min(y_coords), max(y_coords)\n",
        "\n",
        "    return [min_x, min_y, max_x - min_x, max_y - min_y]\n",
        "\n",
        "def process_annotations(data, train_save_path, val_save_path, root_dir):\n",
        "    id_map = {category['id']: i for i, category in enumerate(data['categories'])}\n",
        "    images = {str(x['id']): x for x in data['images']}\n",
        "    imgToAnns = defaultdict(list)\n",
        "\n",
        "    for ann in data['annotations']:\n",
        "        imgToAnns[ann['image_id']].append(ann)\n",
        "\n",
        "    train_output_file = Path(root_dir, \"train.txt\").open('w')\n",
        "    val_output_file = Path(root_dir, \"val.txt\").open('w')\n",
        "\n",
        "    for img_id, anns in tqdm(imgToAnns.items(), desc=\"Processing Annotations\"):\n",
        "        img = images[str(img_id)]\n",
        "        h, w, filename = img['height'], img['width'], img['file_name']\n",
        "        actual_filename = filename.split(\"_\")[-1]\n",
        "        bboxes = []\n",
        "\n",
        "        for ann in anns:\n",
        "            keypoints = normalize_keypoints(ann['keypoints'], w, h)\n",
        "            bbox = compute_bounding_box(keypoints)\n",
        "            bbox[:2] = [x + y / 2 for x, y in zip(bbox[:2], bbox[2:])]  # Convert top-left to center\n",
        "            cls = id_map[ann['category_id']]\n",
        "            bbox = [cls] + bbox + keypoints\n",
        "\n",
        "            if bbox not in bboxes:\n",
        "                bboxes.append(bbox)\n",
        "\n",
        "        save_path = val_save_path if \"refinement\" in filename else train_save_path\n",
        "        with (Path(save_path) / actual_filename).with_suffix('.txt').open('w') as file:\n",
        "            for bbox in bboxes:\n",
        "                file.write(' '.join(map(str, bbox)) + '\\n')\n",
        "\n",
        "        if \"refinement\" in filename:\n",
        "            val_output_file.write(f\"./images/val/{actual_filename}\\n\")\n",
        "        else:\n",
        "            train_output_file.write(f\"./images/train/{actual_filename}\\n\")\n",
        "\n",
        "    val_output_file.close()\n",
        "    train_output_file.close()\n",
        "\n",
        "def main():\n",
        "    print(\"Starting processing...\")\n",
        "    ROOT_DIR = \"marmoset-train\"\n",
        "    JSON_FILE = \"marmoset-train/training-datasets/iteration-0/UnaugmentedDataSet_marmosetMay7/dlc_shuffle1_train.json\"\n",
        "    TRAIN_SAVE_PATH = os.path.join(ROOT_DIR, \"labels/train\")\n",
        "    VAL_SAVE_PATH = os.path.join(ROOT_DIR, \"labels/val\")\n",
        "\n",
        "    with open(JSON_FILE, 'r') as file:\n",
        "        data = json.load(file)\n",
        "\n",
        "    process_annotations(data, TRAIN_SAVE_PATH, VAL_SAVE_PATH, ROOT_DIR)\n",
        "\n",
        "if __name__ == \"__main__\":\n",
        "    main()\n"
      ]
    },
    {
      "cell_type": "code",
      "execution_count": null,
      "metadata": {
        "colab": {
          "base_uri": "https://localhost:8080/"
        },
        "id": "GOGbHdX9arsf",
        "outputId": "6305dd85-4791-47f4-9479-522decebe8ae"
      },
      "outputs": [
        {
          "name": "stdout",
          "output_type": "stream",
          "text": [
            "mkdir: cannot create directory ‘marmoset-train/images’: File exists\n",
            "mkdir: cannot create directory ‘marmoset-train/images/train’: File exists\n",
            "mkdir: cannot create directory ‘marmoset-train/images/val’: File exists\n",
            "mv: cannot stat 'marmoset-train/labeled-data/reachingvideo1/*': No such file or directory\n",
            "mv: cannot stat 'marmoset-train/labeled-data/refinement1/*': No such file or directory\n",
            "rm: cannot remove 'marmoset-train/labeled-data': No such file or directory\n"
          ]
        }
      ],
      "source": [
        "# # clean up\n",
        "!rm -rf marmoset-train/training-datasets\n",
        "\n",
        "# create image folders\n",
        "!mkdir marmoset-train/images\n",
        "!mkdir marmoset-train/images/train\n",
        "!mkdir marmoset-train/images/val\n",
        "\n",
        "# move images to correct folders\n",
        "!mv marmoset-train/labeled-data/reachingvideo1/* marmoset-train/images/train\n",
        "!mv marmoset-train/labeled-data/refinement1/* marmoset-train/images/val\n",
        "!rm -r marmoset-train/labeled-data\n",
        "!mkdir datasets\n",
        "!mv marmoset-train ./datasets/marmoset-train"
      ]
    },
    {
      "cell_type": "code",
      "execution_count": null,
      "metadata": {
        "id": "gj7bxXViat1v"
      },
      "outputs": [],
      "source": [
        "import yaml\n",
        "\n",
        "data = {\n",
        "    \"path\": \"./marmoset-train\",\n",
        "    \"train\": \"train.txt\",\n",
        "    \"val\": \"val.txt\",\n",
        "    \"kpt_shape\": [15, 3],\n",
        "    \"flip_idx\": [0, 3, 2, 1, 6, 7, 4, 5, 9, 8, 11, 10, 12, 13, 14],\n",
        "    \"names\": {\n",
        "        \"0\": \"marmoset\"\n",
        "    }\n",
        "}\n",
        "\n",
        "with open(\"marmoset-train.yaml\", \"w\") as file:\n",
        "    yaml.dump(data, file, default_flow_style=None, sort_keys=False)"
      ]
    },
    {
      "cell_type": "code",
      "execution_count": null,
      "metadata": {
        "colab": {
          "base_uri": "https://localhost:8080/"
        },
        "id": "vWrN-ovjawmi",
        "outputId": "2bbbc444-cfa8-4aa0-8651-ae8d272ed3e8"
      },
      "outputs": [
        {
          "name": "stdout",
          "output_type": "stream",
          "text": [
            "Requirement already satisfied: ultralytics in /usr/local/lib/python3.10/dist-packages (8.2.86)\n",
            "Requirement already satisfied: numpy<2.0.0,>=1.23.0 in /usr/local/lib/python3.10/dist-packages (from ultralytics) (1.26.4)\n",
            "Requirement already satisfied: matplotlib>=3.3.0 in /usr/local/lib/python3.10/dist-packages (from ultralytics) (3.7.1)\n",
            "Requirement already satisfied: opencv-python>=4.6.0 in /usr/local/lib/python3.10/dist-packages (from ultralytics) (4.10.0.84)\n",
            "Requirement already satisfied: pillow>=7.1.2 in /usr/local/lib/python3.10/dist-packages (from ultralytics) (9.4.0)\n",
            "Requirement already satisfied: pyyaml>=5.3.1 in /usr/local/lib/python3.10/dist-packages (from ultralytics) (6.0.2)\n",
            "Requirement already satisfied: requests>=2.23.0 in /usr/local/lib/python3.10/dist-packages (from ultralytics) (2.32.3)\n",
            "Requirement already satisfied: scipy>=1.4.1 in /usr/local/lib/python3.10/dist-packages (from ultralytics) (1.13.1)\n",
            "Requirement already satisfied: torch>=1.8.0 in /usr/local/lib/python3.10/dist-packages (from ultralytics) (2.4.0+cu121)\n",
            "Requirement already satisfied: torchvision>=0.9.0 in /usr/local/lib/python3.10/dist-packages (from ultralytics) (0.19.0+cu121)\n",
            "Requirement already satisfied: tqdm>=4.64.0 in /usr/local/lib/python3.10/dist-packages (from ultralytics) (4.66.5)\n",
            "Requirement already satisfied: psutil in /usr/local/lib/python3.10/dist-packages (from ultralytics) (5.9.5)\n",
            "Requirement already satisfied: py-cpuinfo in /usr/local/lib/python3.10/dist-packages (from ultralytics) (9.0.0)\n",
            "Requirement already satisfied: pandas>=1.1.4 in /usr/local/lib/python3.10/dist-packages (from ultralytics) (2.1.4)\n",
            "Requirement already satisfied: seaborn>=0.11.0 in /usr/local/lib/python3.10/dist-packages (from ultralytics) (0.13.1)\n",
            "Requirement already satisfied: ultralytics-thop>=2.0.0 in /usr/local/lib/python3.10/dist-packages (from ultralytics) (2.0.6)\n",
            "Requirement already satisfied: contourpy>=1.0.1 in /usr/local/lib/python3.10/dist-packages (from matplotlib>=3.3.0->ultralytics) (1.2.1)\n",
            "Requirement already satisfied: cycler>=0.10 in /usr/local/lib/python3.10/dist-packages (from matplotlib>=3.3.0->ultralytics) (0.12.1)\n",
            "Requirement already satisfied: fonttools>=4.22.0 in /usr/local/lib/python3.10/dist-packages (from matplotlib>=3.3.0->ultralytics) (4.53.1)\n",
            "Requirement already satisfied: kiwisolver>=1.0.1 in /usr/local/lib/python3.10/dist-packages (from matplotlib>=3.3.0->ultralytics) (1.4.5)\n",
            "Requirement already satisfied: packaging>=20.0 in /usr/local/lib/python3.10/dist-packages (from matplotlib>=3.3.0->ultralytics) (24.1)\n",
            "Requirement already satisfied: pyparsing>=2.3.1 in /usr/local/lib/python3.10/dist-packages (from matplotlib>=3.3.0->ultralytics) (3.1.4)\n",
            "Requirement already satisfied: python-dateutil>=2.7 in /usr/local/lib/python3.10/dist-packages (from matplotlib>=3.3.0->ultralytics) (2.8.2)\n",
            "Requirement already satisfied: pytz>=2020.1 in /usr/local/lib/python3.10/dist-packages (from pandas>=1.1.4->ultralytics) (2024.1)\n",
            "Requirement already satisfied: tzdata>=2022.1 in /usr/local/lib/python3.10/dist-packages (from pandas>=1.1.4->ultralytics) (2024.1)\n",
            "Requirement already satisfied: charset-normalizer<4,>=2 in /usr/local/lib/python3.10/dist-packages (from requests>=2.23.0->ultralytics) (3.3.2)\n",
            "Requirement already satisfied: idna<4,>=2.5 in /usr/local/lib/python3.10/dist-packages (from requests>=2.23.0->ultralytics) (3.8)\n",
            "Requirement already satisfied: urllib3<3,>=1.21.1 in /usr/local/lib/python3.10/dist-packages (from requests>=2.23.0->ultralytics) (2.0.7)\n",
            "Requirement already satisfied: certifi>=2017.4.17 in /usr/local/lib/python3.10/dist-packages (from requests>=2.23.0->ultralytics) (2024.7.4)\n",
            "Requirement already satisfied: filelock in /usr/local/lib/python3.10/dist-packages (from torch>=1.8.0->ultralytics) (3.15.4)\n",
            "Requirement already satisfied: typing-extensions>=4.8.0 in /usr/local/lib/python3.10/dist-packages (from torch>=1.8.0->ultralytics) (4.12.2)\n",
            "Requirement already satisfied: sympy in /usr/local/lib/python3.10/dist-packages (from torch>=1.8.0->ultralytics) (1.13.2)\n",
            "Requirement already satisfied: networkx in /usr/local/lib/python3.10/dist-packages (from torch>=1.8.0->ultralytics) (3.3)\n",
            "Requirement already satisfied: jinja2 in /usr/local/lib/python3.10/dist-packages (from torch>=1.8.0->ultralytics) (3.1.4)\n",
            "Requirement already satisfied: fsspec in /usr/local/lib/python3.10/dist-packages (from torch>=1.8.0->ultralytics) (2024.6.1)\n",
            "Requirement already satisfied: six>=1.5 in /usr/local/lib/python3.10/dist-packages (from python-dateutil>=2.7->matplotlib>=3.3.0->ultralytics) (1.16.0)\n",
            "Requirement already satisfied: MarkupSafe>=2.0 in /usr/local/lib/python3.10/dist-packages (from jinja2->torch>=1.8.0->ultralytics) (2.1.5)\n",
            "Requirement already satisfied: mpmath<1.4,>=1.1.0 in /usr/local/lib/python3.10/dist-packages (from sympy->torch>=1.8.0->ultralytics) (1.3.0)\n",
            "Ultralytics YOLOv8.2.86 🚀 Python-3.10.12 torch-2.4.0+cu121 CUDA:0 (Tesla T4, 15102MiB)\n",
            "\u001b[34m\u001b[1mengine/trainer: \u001b[0mtask=pose, mode=train, model=yolov8n-pose.pt, data=marmoset-train.yaml, epochs=10, time=None, patience=100, batch=16, imgsz=640, save=True, save_period=-1, cache=False, device=None, workers=8, project=None, name=train2, exist_ok=False, pretrained=True, optimizer=auto, verbose=True, seed=0, deterministic=True, single_cls=False, rect=False, cos_lr=False, close_mosaic=10, resume=False, amp=True, fraction=1.0, profile=False, freeze=None, multi_scale=False, overlap_mask=True, mask_ratio=4, dropout=0.0, val=True, split=val, save_json=False, save_hybrid=False, conf=None, iou=0.7, max_det=300, half=False, dnn=False, plots=True, source=None, vid_stride=1, stream_buffer=False, visualize=False, augment=False, agnostic_nms=False, classes=None, retina_masks=False, embed=None, show=False, save_frames=False, save_txt=False, save_conf=False, save_crop=False, show_labels=True, show_conf=True, show_boxes=True, line_width=None, format=torchscript, keras=False, optimize=False, int8=False, dynamic=False, simplify=False, opset=None, workspace=4, nms=False, lr0=0.01, lrf=0.01, momentum=0.937, weight_decay=0.0005, warmup_epochs=3.0, warmup_momentum=0.8, warmup_bias_lr=0.1, box=7.5, cls=0.5, dfl=1.5, pose=12.0, kobj=1.0, label_smoothing=0.0, nbs=64, hsv_h=0.015, hsv_s=0.7, hsv_v=0.4, degrees=0.0, translate=0.1, scale=0.5, shear=0.0, perspective=0.0, flipud=0.0, fliplr=0.5, bgr=0.0, mosaic=1.0, mixup=0.0, copy_paste=0.0, auto_augment=randaugment, erasing=0.4, crop_fraction=1.0, cfg=None, tracker=botsort.yaml, save_dir=runs/pose/train2\n",
            "Downloading https://ultralytics.com/assets/Arial.ttf to '/root/.config/Ultralytics/Arial.ttf'...\n"
          ]
        },
        {
          "name": "stderr",
          "output_type": "stream",
          "text": [
            "100%|██████████| 755k/755k [00:00<00:00, 77.7MB/s]\n"
          ]
        },
        {
          "name": "stdout",
          "output_type": "stream",
          "text": [
            "Overriding model.yaml kpt_shape=[17, 3] with kpt_shape=[15, 3]\n",
            "\n",
            "                   from  n    params  module                                       arguments                     \n",
            "  0                  -1  1       464  ultralytics.nn.modules.conv.Conv             [3, 16, 3, 2]                 \n",
            "  1                  -1  1      4672  ultralytics.nn.modules.conv.Conv             [16, 32, 3, 2]                \n",
            "  2                  -1  1      7360  ultralytics.nn.modules.block.C2f             [32, 32, 1, True]             \n",
            "  3                  -1  1     18560  ultralytics.nn.modules.conv.Conv             [32, 64, 3, 2]                \n",
            "  4                  -1  2     49664  ultralytics.nn.modules.block.C2f             [64, 64, 2, True]             \n",
            "  5                  -1  1     73984  ultralytics.nn.modules.conv.Conv             [64, 128, 3, 2]               \n",
            "  6                  -1  2    197632  ultralytics.nn.modules.block.C2f             [128, 128, 2, True]           \n",
            "  7                  -1  1    295424  ultralytics.nn.modules.conv.Conv             [128, 256, 3, 2]              \n",
            "  8                  -1  1    460288  ultralytics.nn.modules.block.C2f             [256, 256, 1, True]           \n",
            "  9                  -1  1    164608  ultralytics.nn.modules.block.SPPF            [256, 256, 5]                 \n",
            " 10                  -1  1         0  torch.nn.modules.upsampling.Upsample         [None, 2, 'nearest']          \n",
            " 11             [-1, 6]  1         0  ultralytics.nn.modules.conv.Concat           [1]                           \n",
            " 12                  -1  1    148224  ultralytics.nn.modules.block.C2f             [384, 128, 1]                 \n",
            " 13                  -1  1         0  torch.nn.modules.upsampling.Upsample         [None, 2, 'nearest']          \n",
            " 14             [-1, 4]  1         0  ultralytics.nn.modules.conv.Concat           [1]                           \n",
            " 15                  -1  1     37248  ultralytics.nn.modules.block.C2f             [192, 64, 1]                  \n",
            " 16                  -1  1     36992  ultralytics.nn.modules.conv.Conv             [64, 64, 3, 2]                \n",
            " 17            [-1, 12]  1         0  ultralytics.nn.modules.conv.Concat           [1]                           \n",
            " 18                  -1  1    123648  ultralytics.nn.modules.block.C2f             [192, 128, 1]                 \n",
            " 19                  -1  1    147712  ultralytics.nn.modules.conv.Conv             [128, 128, 3, 2]              \n",
            " 20             [-1, 9]  1         0  ultralytics.nn.modules.conv.Concat           [1]                           \n",
            " 21                  -1  1    493056  ultralytics.nn.modules.block.C2f             [384, 256, 1]                 \n",
            " 22        [15, 18, 21]  1    994372  ultralytics.nn.modules.head.Pose             [1, [15, 3], [64, 128, 256]]  \n",
            "YOLOv8n-pose summary: 250 layers, 3,253,908 parameters, 3,253,892 gradients, 9.1 GFLOPs\n",
            "\n",
            "Transferred 361/397 items from pretrained weights\n",
            "\u001b[34m\u001b[1mTensorBoard: \u001b[0mStart with 'tensorboard --logdir runs/pose/train2', view at http://localhost:6006/\n",
            "Freezing layer 'model.22.dfl.conv.weight'\n",
            "\u001b[34m\u001b[1mAMP: \u001b[0mrunning Automatic Mixed Precision (AMP) checks with YOLOv8n...\n",
            "Downloading https://github.com/ultralytics/assets/releases/download/v8.2.0/yolov8n.pt to 'yolov8n.pt'...\n"
          ]
        },
        {
          "name": "stderr",
          "output_type": "stream",
          "text": [
            "100%|██████████| 6.25M/6.25M [00:00<00:00, 88.6MB/s]\n"
          ]
        },
        {
          "name": "stdout",
          "output_type": "stream",
          "text": [
            "\u001b[34m\u001b[1mAMP: \u001b[0mchecks passed ✅\n"
          ]
        },
        {
          "name": "stderr",
          "output_type": "stream",
          "text": [
            "/usr/local/lib/python3.10/dist-packages/ultralytics/engine/trainer.py:268: FutureWarning: `torch.cuda.amp.GradScaler(args...)` is deprecated. Please use `torch.amp.GradScaler('cuda', args...)` instead.\n",
            "  self.scaler = torch.cuda.amp.GradScaler(enabled=self.amp)\n",
            "\u001b[34m\u001b[1mtrain: \u001b[0mScanning /content/datasets/marmoset-train/labels/train... 3638 images, 0 backgrounds, 0 corrupt: 100%|██████████| 3638/3638 [00:04<00:00, 866.77it/s]\n"
          ]
        },
        {
          "name": "stdout",
          "output_type": "stream",
          "text": [
            "\u001b[34m\u001b[1mtrain: \u001b[0mNew cache created: /content/datasets/marmoset-train/labels/train.cache\n",
            "\u001b[34m\u001b[1malbumentations: \u001b[0mBlur(p=0.01, blur_limit=(3, 7)), MedianBlur(p=0.01, blur_limit=(3, 7)), ToGray(p=0.01), CLAHE(p=0.01, clip_limit=(1, 4.0), tile_grid_size=(8, 8))\n"
          ]
        },
        {
          "name": "stderr",
          "output_type": "stream",
          "text": [
            "/usr/lib/python3.10/multiprocessing/popen_fork.py:66: RuntimeWarning: os.fork() was called. os.fork() is incompatible with multithreaded code, and JAX is multithreaded, so this will likely lead to a deadlock.\n",
            "  self.pid = os.fork()\n",
            "\u001b[34m\u001b[1mval: \u001b[0mScanning /content/datasets/marmoset-train/labels/val... 326 images, 0 backgrounds, 0 corrupt: 100%|██████████| 326/326 [00:01<00:00, 245.37it/s]\n"
          ]
        },
        {
          "name": "stdout",
          "output_type": "stream",
          "text": [
            "\u001b[34m\u001b[1mval: \u001b[0mNew cache created: /content/datasets/marmoset-train/labels/val.cache\n",
            "Plotting labels to runs/pose/train2/labels.jpg... \n",
            "\u001b[34m\u001b[1moptimizer:\u001b[0m 'optimizer=auto' found, ignoring 'lr0=0.01' and 'momentum=0.937' and determining best 'optimizer', 'lr0' and 'momentum' automatically... \n",
            "\u001b[34m\u001b[1moptimizer:\u001b[0m AdamW(lr=0.002, momentum=0.9) with parameter groups 63 weight(decay=0.0), 73 weight(decay=0.0005), 72 bias(decay=0.0)\n",
            "\u001b[34m\u001b[1mTensorBoard: \u001b[0mmodel graph visualization added ✅\n",
            "Image sizes 640 train, 640 val\n",
            "Using 2 dataloader workers\n",
            "Logging results to \u001b[1mruns/pose/train2\u001b[0m\n",
            "Starting training for 10 epochs...\n",
            "Closing dataloader mosaic\n",
            "\u001b[34m\u001b[1malbumentations: \u001b[0mBlur(p=0.01, blur_limit=(3, 7)), MedianBlur(p=0.01, blur_limit=(3, 7)), ToGray(p=0.01), CLAHE(p=0.01, clip_limit=(1, 4.0), tile_grid_size=(8, 8))\n"
          ]
        },
        {
          "name": "stderr",
          "output_type": "stream",
          "text": [
            "/usr/lib/python3.10/multiprocessing/popen_fork.py:66: RuntimeWarning: os.fork() was called. os.fork() is incompatible with multithreaded code, and JAX is multithreaded, so this will likely lead to a deadlock.\n",
            "  self.pid = os.fork()\n"
          ]
        },
        {
          "name": "stdout",
          "output_type": "stream",
          "text": [
            "\n",
            "      Epoch    GPU_mem   box_loss  pose_loss  kobj_loss   cls_loss   dfl_loss  Instances       Size\n"
          ]
        },
        {
          "name": "stderr",
          "output_type": "stream",
          "text": [
            "       1/10      2.65G      1.689      10.31     0.5846      1.456      1.621          7        640: 100%|██████████| 228/228 [01:36<00:00,  2.36it/s]\n",
            "                 Class     Images  Instances      Box(P          R      mAP50  mAP50-95)     Pose(P          R      mAP50  mAP50-95): 100%|██████████| 11/11 [00:04<00:00,  2.26it/s]"
          ]
        },
        {
          "name": "stdout",
          "output_type": "stream",
          "text": [
            "                   all        326        608      0.547      0.539      0.491      0.176          0          0          0          0\n"
          ]
        },
        {
          "name": "stderr",
          "output_type": "stream",
          "text": [
            "\n"
          ]
        },
        {
          "name": "stdout",
          "output_type": "stream",
          "text": [
            "\n",
            "      Epoch    GPU_mem   box_loss  pose_loss  kobj_loss   cls_loss   dfl_loss  Instances       Size\n"
          ]
        },
        {
          "name": "stderr",
          "output_type": "stream",
          "text": [
            "       2/10      2.29G      1.524      8.882     0.4194      1.025      1.445          8        640: 100%|██████████| 228/228 [01:30<00:00,  2.52it/s]\n",
            "                 Class     Images  Instances      Box(P          R      mAP50  mAP50-95)     Pose(P          R      mAP50  mAP50-95): 100%|██████████| 11/11 [00:06<00:00,  1.68it/s]"
          ]
        },
        {
          "name": "stdout",
          "output_type": "stream",
          "text": [
            "                   all        326        608      0.596      0.594      0.589      0.241     0.0132    0.00493    0.00022    3.2e-05\n"
          ]
        },
        {
          "name": "stderr",
          "output_type": "stream",
          "text": [
            "\n"
          ]
        },
        {
          "name": "stdout",
          "output_type": "stream",
          "text": [
            "\n",
            "      Epoch    GPU_mem   box_loss  pose_loss  kobj_loss   cls_loss   dfl_loss  Instances       Size\n"
          ]
        },
        {
          "name": "stderr",
          "output_type": "stream",
          "text": [
            "       3/10      2.29G      1.497      8.345     0.4093     0.9963      1.428         10        640: 100%|██████████| 228/228 [01:25<00:00,  2.66it/s]\n",
            "                 Class     Images  Instances      Box(P          R      mAP50  mAP50-95)     Pose(P          R      mAP50  mAP50-95): 100%|██████████| 11/11 [00:05<00:00,  1.84it/s]"
          ]
        },
        {
          "name": "stdout",
          "output_type": "stream",
          "text": [
            "                   all        326        608      0.584      0.628      0.598      0.247     0.0179     0.0115    0.00119   0.000127\n"
          ]
        },
        {
          "name": "stderr",
          "output_type": "stream",
          "text": [
            "\n"
          ]
        },
        {
          "name": "stdout",
          "output_type": "stream",
          "text": [
            "\n",
            "      Epoch    GPU_mem   box_loss  pose_loss  kobj_loss   cls_loss   dfl_loss  Instances       Size\n"
          ]
        },
        {
          "name": "stderr",
          "output_type": "stream",
          "text": [
            "       4/10      2.29G      1.416          8     0.4102     0.9112      1.369          6        640: 100%|██████████| 228/228 [01:27<00:00,  2.62it/s]\n",
            "                 Class     Images  Instances      Box(P          R      mAP50  mAP50-95)     Pose(P          R      mAP50  mAP50-95): 100%|██████████| 11/11 [00:04<00:00,  2.30it/s]"
          ]
        },
        {
          "name": "stdout",
          "output_type": "stream",
          "text": [
            "                   all        326        608      0.646      0.627      0.637      0.283     0.0207    0.00987    0.00145    0.00026\n"
          ]
        },
        {
          "name": "stderr",
          "output_type": "stream",
          "text": [
            "\n"
          ]
        },
        {
          "name": "stdout",
          "output_type": "stream",
          "text": [
            "\n",
            "      Epoch    GPU_mem   box_loss  pose_loss  kobj_loss   cls_loss   dfl_loss  Instances       Size\n"
          ]
        },
        {
          "name": "stderr",
          "output_type": "stream",
          "text": [
            "       5/10      2.28G      1.305      7.662     0.4061     0.8058      1.308          7        640: 100%|██████████| 228/228 [01:26<00:00,  2.64it/s]\n",
            "                 Class     Images  Instances      Box(P          R      mAP50  mAP50-95)     Pose(P          R      mAP50  mAP50-95): 100%|██████████| 11/11 [00:07<00:00,  1.53it/s]"
          ]
        },
        {
          "name": "stdout",
          "output_type": "stream",
          "text": [
            "                   all        326        608      0.671       0.64      0.657      0.317     0.0473     0.0214    0.00386   0.000413\n"
          ]
        },
        {
          "name": "stderr",
          "output_type": "stream",
          "text": [
            "\n"
          ]
        },
        {
          "name": "stdout",
          "output_type": "stream",
          "text": [
            "\n",
            "      Epoch    GPU_mem   box_loss  pose_loss  kobj_loss   cls_loss   dfl_loss  Instances       Size\n"
          ]
        },
        {
          "name": "stderr",
          "output_type": "stream",
          "text": [
            "       6/10      2.29G      1.241      7.423     0.4026     0.7475      1.247         10        640: 100%|██████████| 228/228 [01:23<00:00,  2.72it/s]\n",
            "                 Class     Images  Instances      Box(P          R      mAP50  mAP50-95)     Pose(P          R      mAP50  mAP50-95): 100%|██████████| 11/11 [00:07<00:00,  1.54it/s]"
          ]
        },
        {
          "name": "stdout",
          "output_type": "stream",
          "text": [
            "                   all        326        608      0.672      0.628      0.661      0.311     0.0466      0.023     0.0045   0.000646\n"
          ]
        },
        {
          "name": "stderr",
          "output_type": "stream",
          "text": [
            "\n"
          ]
        },
        {
          "name": "stdout",
          "output_type": "stream",
          "text": [
            "\n",
            "      Epoch    GPU_mem   box_loss  pose_loss  kobj_loss   cls_loss   dfl_loss  Instances       Size\n"
          ]
        },
        {
          "name": "stderr",
          "output_type": "stream",
          "text": [
            "       7/10      2.28G      1.198      7.204     0.3982     0.6907      1.225          7        640: 100%|██████████| 228/228 [01:23<00:00,  2.72it/s]\n",
            "                 Class     Images  Instances      Box(P          R      mAP50  mAP50-95)     Pose(P          R      mAP50  mAP50-95): 100%|██████████| 11/11 [00:04<00:00,  2.35it/s]"
          ]
        },
        {
          "name": "stdout",
          "output_type": "stream",
          "text": [
            "                   all        326        608      0.693      0.679      0.722      0.354     0.0555      0.028    0.00669   0.000977\n"
          ]
        },
        {
          "name": "stderr",
          "output_type": "stream",
          "text": [
            "\n"
          ]
        },
        {
          "name": "stdout",
          "output_type": "stream",
          "text": [
            "\n",
            "      Epoch    GPU_mem   box_loss  pose_loss  kobj_loss   cls_loss   dfl_loss  Instances       Size\n"
          ]
        },
        {
          "name": "stderr",
          "output_type": "stream",
          "text": [
            "       8/10      2.28G      1.121      7.024     0.3973     0.6311       1.18          8        640: 100%|██████████| 228/228 [01:26<00:00,  2.63it/s]\n",
            "                 Class     Images  Instances      Box(P          R      mAP50  mAP50-95)     Pose(P          R      mAP50  mAP50-95): 100%|██████████| 11/11 [00:07<00:00,  1.56it/s]"
          ]
        },
        {
          "name": "stdout",
          "output_type": "stream",
          "text": [
            "                   all        326        608      0.725      0.681      0.723      0.371     0.0583     0.0329    0.00519   0.000661\n"
          ]
        },
        {
          "name": "stderr",
          "output_type": "stream",
          "text": [
            "\n"
          ]
        },
        {
          "name": "stdout",
          "output_type": "stream",
          "text": [
            "\n",
            "      Epoch    GPU_mem   box_loss  pose_loss  kobj_loss   cls_loss   dfl_loss  Instances       Size\n"
          ]
        },
        {
          "name": "stderr",
          "output_type": "stream",
          "text": [
            "       9/10      2.28G      1.068       6.83      0.393     0.5874      1.148          6        640: 100%|██████████| 228/228 [01:23<00:00,  2.72it/s]\n",
            "                 Class     Images  Instances      Box(P          R      mAP50  mAP50-95)     Pose(P          R      mAP50  mAP50-95): 100%|██████████| 11/11 [00:07<00:00,  1.41it/s]\n"
          ]
        },
        {
          "name": "stdout",
          "output_type": "stream",
          "text": [
            "                   all        326        608      0.779      0.681       0.77      0.421      0.118     0.0444     0.0199    0.00277\n",
            "\n",
            "      Epoch    GPU_mem   box_loss  pose_loss  kobj_loss   cls_loss   dfl_loss  Instances       Size\n"
          ]
        },
        {
          "name": "stderr",
          "output_type": "stream",
          "text": [
            "      10/10      2.28G      1.008       6.67     0.3923     0.5471      1.116          7        640: 100%|██████████| 228/228 [01:25<00:00,  2.67it/s]\n",
            "                 Class     Images  Instances      Box(P          R      mAP50  mAP50-95)     Pose(P          R      mAP50  mAP50-95): 100%|██████████| 11/11 [00:04<00:00,  2.22it/s]"
          ]
        },
        {
          "name": "stdout",
          "output_type": "stream",
          "text": [
            "                   all        326        608      0.784      0.704       0.77      0.431      0.113     0.0707     0.0265    0.00331\n"
          ]
        },
        {
          "name": "stderr",
          "output_type": "stream",
          "text": [
            "\n"
          ]
        },
        {
          "name": "stdout",
          "output_type": "stream",
          "text": [
            "\n",
            "10 epochs completed in 0.265 hours.\n",
            "Optimizer stripped from runs/pose/train2/weights/last.pt, 6.7MB\n",
            "Optimizer stripped from runs/pose/train2/weights/best.pt, 6.7MB\n",
            "\n",
            "Validating runs/pose/train2/weights/best.pt...\n",
            "Ultralytics YOLOv8.2.86 🚀 Python-3.10.12 torch-2.4.0+cu121 CUDA:0 (Tesla T4, 15102MiB)\n",
            "YOLOv8n-pose summary (fused): 187 layers, 3,248,438 parameters, 0 gradients, 9.0 GFLOPs\n"
          ]
        },
        {
          "name": "stderr",
          "output_type": "stream",
          "text": [
            "                 Class     Images  Instances      Box(P          R      mAP50  mAP50-95)     Pose(P          R      mAP50  mAP50-95): 100%|██████████| 11/11 [00:12<00:00,  1.14s/it]\n"
          ]
        },
        {
          "name": "stdout",
          "output_type": "stream",
          "text": [
            "                   all        326        608      0.784      0.704       0.77      0.432      0.113     0.0707     0.0264     0.0033\n",
            "Speed: 0.4ms preprocess, 3.5ms inference, 0.0ms loss, 5.8ms postprocess per image\n",
            "Results saved to \u001b[1mruns/pose/train2\u001b[0m\n"
          ]
        },
        {
          "data": {
            "text/plain": [
              "ultralytics.utils.metrics.PoseMetrics object with attributes:\n",
              "\n",
              "ap_class_index: array([0])\n",
              "box: ultralytics.utils.metrics.Metric object\n",
              "confusion_matrix: <ultralytics.utils.metrics.ConfusionMatrix object at 0x7eb20334c760>\n",
              "curves: ['Precision-Recall(B)', 'F1-Confidence(B)', 'Precision-Confidence(B)', 'Recall-Confidence(B)', 'Precision-Recall(P)', 'F1-Confidence(P)', 'Precision-Confidence(P)', 'Recall-Confidence(P)']\n",
              "curves_results: [[array([          0,    0.001001,    0.002002,    0.003003,    0.004004,    0.005005,    0.006006,    0.007007,    0.008008,    0.009009,     0.01001,    0.011011,    0.012012,    0.013013,    0.014014,    0.015015,    0.016016,    0.017017,    0.018018,    0.019019,     0.02002,    0.021021,    0.022022,    0.023023,\n",
              "          0.024024,    0.025025,    0.026026,    0.027027,    0.028028,    0.029029,     0.03003,    0.031031,    0.032032,    0.033033,    0.034034,    0.035035,    0.036036,    0.037037,    0.038038,    0.039039,     0.04004,    0.041041,    0.042042,    0.043043,    0.044044,    0.045045,    0.046046,    0.047047,\n",
              "          0.048048,    0.049049,     0.05005,    0.051051,    0.052052,    0.053053,    0.054054,    0.055055,    0.056056,    0.057057,    0.058058,    0.059059,     0.06006,    0.061061,    0.062062,    0.063063,    0.064064,    0.065065,    0.066066,    0.067067,    0.068068,    0.069069,     0.07007,    0.071071,\n",
              "          0.072072,    0.073073,    0.074074,    0.075075,    0.076076,    0.077077,    0.078078,    0.079079,     0.08008,    0.081081,    0.082082,    0.083083,    0.084084,    0.085085,    0.086086,    0.087087,    0.088088,    0.089089,     0.09009,    0.091091,    0.092092,    0.093093,    0.094094,    0.095095,\n",
              "          0.096096,    0.097097,    0.098098,    0.099099,      0.1001,      0.1011,      0.1021,      0.1031,      0.1041,     0.10511,     0.10611,     0.10711,     0.10811,     0.10911,     0.11011,     0.11111,     0.11211,     0.11311,     0.11411,     0.11512,     0.11612,     0.11712,     0.11812,     0.11912,\n",
              "           0.12012,     0.12112,     0.12212,     0.12312,     0.12412,     0.12513,     0.12613,     0.12713,     0.12813,     0.12913,     0.13013,     0.13113,     0.13213,     0.13313,     0.13413,     0.13514,     0.13614,     0.13714,     0.13814,     0.13914,     0.14014,     0.14114,     0.14214,     0.14314,\n",
              "           0.14414,     0.14515,     0.14615,     0.14715,     0.14815,     0.14915,     0.15015,     0.15115,     0.15215,     0.15315,     0.15415,     0.15516,     0.15616,     0.15716,     0.15816,     0.15916,     0.16016,     0.16116,     0.16216,     0.16316,     0.16416,     0.16517,     0.16617,     0.16717,\n",
              "           0.16817,     0.16917,     0.17017,     0.17117,     0.17217,     0.17317,     0.17417,     0.17518,     0.17618,     0.17718,     0.17818,     0.17918,     0.18018,     0.18118,     0.18218,     0.18318,     0.18418,     0.18519,     0.18619,     0.18719,     0.18819,     0.18919,     0.19019,     0.19119,\n",
              "           0.19219,     0.19319,     0.19419,      0.1952,      0.1962,      0.1972,      0.1982,      0.1992,      0.2002,      0.2012,      0.2022,      0.2032,      0.2042,     0.20521,     0.20621,     0.20721,     0.20821,     0.20921,     0.21021,     0.21121,     0.21221,     0.21321,     0.21421,     0.21522,\n",
              "           0.21622,     0.21722,     0.21822,     0.21922,     0.22022,     0.22122,     0.22222,     0.22322,     0.22422,     0.22523,     0.22623,     0.22723,     0.22823,     0.22923,     0.23023,     0.23123,     0.23223,     0.23323,     0.23423,     0.23524,     0.23624,     0.23724,     0.23824,     0.23924,\n",
              "           0.24024,     0.24124,     0.24224,     0.24324,     0.24424,     0.24525,     0.24625,     0.24725,     0.24825,     0.24925,     0.25025,     0.25125,     0.25225,     0.25325,     0.25425,     0.25526,     0.25626,     0.25726,     0.25826,     0.25926,     0.26026,     0.26126,     0.26226,     0.26326,\n",
              "           0.26426,     0.26527,     0.26627,     0.26727,     0.26827,     0.26927,     0.27027,     0.27127,     0.27227,     0.27327,     0.27427,     0.27528,     0.27628,     0.27728,     0.27828,     0.27928,     0.28028,     0.28128,     0.28228,     0.28328,     0.28428,     0.28529,     0.28629,     0.28729,\n",
              "           0.28829,     0.28929,     0.29029,     0.29129,     0.29229,     0.29329,     0.29429,      0.2953,      0.2963,      0.2973,      0.2983,      0.2993,      0.3003,      0.3013,      0.3023,      0.3033,      0.3043,     0.30531,     0.30631,     0.30731,     0.30831,     0.30931,     0.31031,     0.31131,\n",
              "           0.31231,     0.31331,     0.31431,     0.31532,     0.31632,     0.31732,     0.31832,     0.31932,     0.32032,     0.32132,     0.32232,     0.32332,     0.32432,     0.32533,     0.32633,     0.32733,     0.32833,     0.32933,     0.33033,     0.33133,     0.33233,     0.33333,     0.33433,     0.33534,\n",
              "           0.33634,     0.33734,     0.33834,     0.33934,     0.34034,     0.34134,     0.34234,     0.34334,     0.34434,     0.34535,     0.34635,     0.34735,     0.34835,     0.34935,     0.35035,     0.35135,     0.35235,     0.35335,     0.35435,     0.35536,     0.35636,     0.35736,     0.35836,     0.35936,\n",
              "           0.36036,     0.36136,     0.36236,     0.36336,     0.36436,     0.36537,     0.36637,     0.36737,     0.36837,     0.36937,     0.37037,     0.37137,     0.37237,     0.37337,     0.37437,     0.37538,     0.37638,     0.37738,     0.37838,     0.37938,     0.38038,     0.38138,     0.38238,     0.38338,\n",
              "           0.38438,     0.38539,     0.38639,     0.38739,     0.38839,     0.38939,     0.39039,     0.39139,     0.39239,     0.39339,     0.39439,      0.3954,      0.3964,      0.3974,      0.3984,      0.3994,      0.4004,      0.4014,      0.4024,      0.4034,      0.4044,     0.40541,     0.40641,     0.40741,\n",
              "           0.40841,     0.40941,     0.41041,     0.41141,     0.41241,     0.41341,     0.41441,     0.41542,     0.41642,     0.41742,     0.41842,     0.41942,     0.42042,     0.42142,     0.42242,     0.42342,     0.42442,     0.42543,     0.42643,     0.42743,     0.42843,     0.42943,     0.43043,     0.43143,\n",
              "           0.43243,     0.43343,     0.43443,     0.43544,     0.43644,     0.43744,     0.43844,     0.43944,     0.44044,     0.44144,     0.44244,     0.44344,     0.44444,     0.44545,     0.44645,     0.44745,     0.44845,     0.44945,     0.45045,     0.45145,     0.45245,     0.45345,     0.45445,     0.45546,\n",
              "           0.45646,     0.45746,     0.45846,     0.45946,     0.46046,     0.46146,     0.46246,     0.46346,     0.46446,     0.46547,     0.46647,     0.46747,     0.46847,     0.46947,     0.47047,     0.47147,     0.47247,     0.47347,     0.47447,     0.47548,     0.47648,     0.47748,     0.47848,     0.47948,\n",
              "           0.48048,     0.48148,     0.48248,     0.48348,     0.48448,     0.48549,     0.48649,     0.48749,     0.48849,     0.48949,     0.49049,     0.49149,     0.49249,     0.49349,     0.49449,      0.4955,      0.4965,      0.4975,      0.4985,      0.4995,      0.5005,      0.5015,      0.5025,      0.5035,\n",
              "            0.5045,     0.50551,     0.50651,     0.50751,     0.50851,     0.50951,     0.51051,     0.51151,     0.51251,     0.51351,     0.51451,     0.51552,     0.51652,     0.51752,     0.51852,     0.51952,     0.52052,     0.52152,     0.52252,     0.52352,     0.52452,     0.52553,     0.52653,     0.52753,\n",
              "           0.52853,     0.52953,     0.53053,     0.53153,     0.53253,     0.53353,     0.53453,     0.53554,     0.53654,     0.53754,     0.53854,     0.53954,     0.54054,     0.54154,     0.54254,     0.54354,     0.54454,     0.54555,     0.54655,     0.54755,     0.54855,     0.54955,     0.55055,     0.55155,\n",
              "           0.55255,     0.55355,     0.55455,     0.55556,     0.55656,     0.55756,     0.55856,     0.55956,     0.56056,     0.56156,     0.56256,     0.56356,     0.56456,     0.56557,     0.56657,     0.56757,     0.56857,     0.56957,     0.57057,     0.57157,     0.57257,     0.57357,     0.57457,     0.57558,\n",
              "           0.57658,     0.57758,     0.57858,     0.57958,     0.58058,     0.58158,     0.58258,     0.58358,     0.58458,     0.58559,     0.58659,     0.58759,     0.58859,     0.58959,     0.59059,     0.59159,     0.59259,     0.59359,     0.59459,      0.5956,      0.5966,      0.5976,      0.5986,      0.5996,\n",
              "            0.6006,      0.6016,      0.6026,      0.6036,      0.6046,     0.60561,     0.60661,     0.60761,     0.60861,     0.60961,     0.61061,     0.61161,     0.61261,     0.61361,     0.61461,     0.61562,     0.61662,     0.61762,     0.61862,     0.61962,     0.62062,     0.62162,     0.62262,     0.62362,\n",
              "           0.62462,     0.62563,     0.62663,     0.62763,     0.62863,     0.62963,     0.63063,     0.63163,     0.63263,     0.63363,     0.63463,     0.63564,     0.63664,     0.63764,     0.63864,     0.63964,     0.64064,     0.64164,     0.64264,     0.64364,     0.64464,     0.64565,     0.64665,     0.64765,\n",
              "           0.64865,     0.64965,     0.65065,     0.65165,     0.65265,     0.65365,     0.65465,     0.65566,     0.65666,     0.65766,     0.65866,     0.65966,     0.66066,     0.66166,     0.66266,     0.66366,     0.66466,     0.66567,     0.66667,     0.66767,     0.66867,     0.66967,     0.67067,     0.67167,\n",
              "           0.67267,     0.67367,     0.67467,     0.67568,     0.67668,     0.67768,     0.67868,     0.67968,     0.68068,     0.68168,     0.68268,     0.68368,     0.68468,     0.68569,     0.68669,     0.68769,     0.68869,     0.68969,     0.69069,     0.69169,     0.69269,     0.69369,     0.69469,      0.6957,\n",
              "            0.6967,      0.6977,      0.6987,      0.6997,      0.7007,      0.7017,      0.7027,      0.7037,      0.7047,     0.70571,     0.70671,     0.70771,     0.70871,     0.70971,     0.71071,     0.71171,     0.71271,     0.71371,     0.71471,     0.71572,     0.71672,     0.71772,     0.71872,     0.71972,\n",
              "           0.72072,     0.72172,     0.72272,     0.72372,     0.72472,     0.72573,     0.72673,     0.72773,     0.72873,     0.72973,     0.73073,     0.73173,     0.73273,     0.73373,     0.73473,     0.73574,     0.73674,     0.73774,     0.73874,     0.73974,     0.74074,     0.74174,     0.74274,     0.74374,\n",
              "           0.74474,     0.74575,     0.74675,     0.74775,     0.74875,     0.74975,     0.75075,     0.75175,     0.75275,     0.75375,     0.75475,     0.75576,     0.75676,     0.75776,     0.75876,     0.75976,     0.76076,     0.76176,     0.76276,     0.76376,     0.76476,     0.76577,     0.76677,     0.76777,\n",
              "           0.76877,     0.76977,     0.77077,     0.77177,     0.77277,     0.77377,     0.77477,     0.77578,     0.77678,     0.77778,     0.77878,     0.77978,     0.78078,     0.78178,     0.78278,     0.78378,     0.78478,     0.78579,     0.78679,     0.78779,     0.78879,     0.78979,     0.79079,     0.79179,\n",
              "           0.79279,     0.79379,     0.79479,      0.7958,      0.7968,      0.7978,      0.7988,      0.7998,      0.8008,      0.8018,      0.8028,      0.8038,      0.8048,     0.80581,     0.80681,     0.80781,     0.80881,     0.80981,     0.81081,     0.81181,     0.81281,     0.81381,     0.81481,     0.81582,\n",
              "           0.81682,     0.81782,     0.81882,     0.81982,     0.82082,     0.82182,     0.82282,     0.82382,     0.82482,     0.82583,     0.82683,     0.82783,     0.82883,     0.82983,     0.83083,     0.83183,     0.83283,     0.83383,     0.83483,     0.83584,     0.83684,     0.83784,     0.83884,     0.83984,\n",
              "           0.84084,     0.84184,     0.84284,     0.84384,     0.84484,     0.84585,     0.84685,     0.84785,     0.84885,     0.84985,     0.85085,     0.85185,     0.85285,     0.85385,     0.85485,     0.85586,     0.85686,     0.85786,     0.85886,     0.85986,     0.86086,     0.86186,     0.86286,     0.86386,\n",
              "           0.86486,     0.86587,     0.86687,     0.86787,     0.86887,     0.86987,     0.87087,     0.87187,     0.87287,     0.87387,     0.87487,     0.87588,     0.87688,     0.87788,     0.87888,     0.87988,     0.88088,     0.88188,     0.88288,     0.88388,     0.88488,     0.88589,     0.88689,     0.88789,\n",
              "           0.88889,     0.88989,     0.89089,     0.89189,     0.89289,     0.89389,     0.89489,      0.8959,      0.8969,      0.8979,      0.8989,      0.8999,      0.9009,      0.9019,      0.9029,      0.9039,      0.9049,     0.90591,     0.90691,     0.90791,     0.90891,     0.90991,     0.91091,     0.91191,\n",
              "           0.91291,     0.91391,     0.91491,     0.91592,     0.91692,     0.91792,     0.91892,     0.91992,     0.92092,     0.92192,     0.92292,     0.92392,     0.92492,     0.92593,     0.92693,     0.92793,     0.92893,     0.92993,     0.93093,     0.93193,     0.93293,     0.93393,     0.93493,     0.93594,\n",
              "           0.93694,     0.93794,     0.93894,     0.93994,     0.94094,     0.94194,     0.94294,     0.94394,     0.94494,     0.94595,     0.94695,     0.94795,     0.94895,     0.94995,     0.95095,     0.95195,     0.95295,     0.95395,     0.95495,     0.95596,     0.95696,     0.95796,     0.95896,     0.95996,\n",
              "           0.96096,     0.96196,     0.96296,     0.96396,     0.96496,     0.96597,     0.96697,     0.96797,     0.96897,     0.96997,     0.97097,     0.97197,     0.97297,     0.97397,     0.97497,     0.97598,     0.97698,     0.97798,     0.97898,     0.97998,     0.98098,     0.98198,     0.98298,     0.98398,\n",
              "           0.98498,     0.98599,     0.98699,     0.98799,     0.98899,     0.98999,     0.99099,     0.99199,     0.99299,     0.99399,     0.99499,       0.996,       0.997,       0.998,       0.999,           1]), array([[          1,           1,           1,           1,           1,           1,           1,           1,           1,           1,           1,           1,           1,           1,           1,           1,           1,           1,           1,           1,           1,           1,           1,\n",
              "                  1,           1,           1,           1,           1,           1,           1,           1,           1,           1,           1,           1,           1,           1,           1,           1,           1,           1,           1,           1,           1,           1,           1,\n",
              "                  1,           1,           1,           1,           1,           1,           1,           1,           1,           1,           1,           1,           1,           1,           1,           1,           1,           1,           1,           1,           1,           1,           1,\n",
              "                  1,           1,           1,           1,           1,           1,           1,           1,           1,           1,           1,           1,           1,           1,           1,           1,           1,           1,           1,           1,           1,           1,           1,\n",
              "                  1,           1,           1,           1,           1,           1,           1,           1,           1,     0.97222,     0.97222,     0.97222,     0.97222,     0.97222,     0.97222,     0.97222,     0.97222,     0.97222,     0.97222,     0.97222,     0.97222,     0.97222,     0.97222,\n",
              "            0.97222,     0.96629,     0.96629,     0.96629,     0.96629,     0.96629,     0.96629,     0.96629,     0.96629,     0.96629,     0.96629,     0.96629,     0.96629,     0.96629,     0.96629,     0.96629,     0.96629,     0.96629,     0.96629,     0.96629,     0.96629,     0.96629,     0.96629,\n",
              "            0.96629,     0.96629,     0.96629,     0.96629,     0.95833,     0.95833,     0.95833,     0.95833,     0.95833,     0.95833,     0.95833,     0.95833,     0.95833,     0.95833,     0.95238,     0.95238,     0.95238,     0.95238,     0.95238,     0.95238,     0.95238,     0.95238,     0.95238,\n",
              "            0.95238,     0.95238,     0.95238,     0.95238,     0.94393,     0.94355,     0.94355,     0.94355,     0.94355,     0.94355,     0.94355,     0.94355,     0.94355,     0.94355,     0.94355,     0.94355,     0.94355,     0.94355,     0.94355,     0.94355,     0.94355,     0.94355,     0.94355,\n",
              "            0.94355,     0.94355,     0.94355,     0.94355,     0.94355,     0.94355,     0.94355,     0.94355,     0.94355,     0.94118,     0.94118,     0.94118,     0.94118,     0.94118,     0.94118,     0.94118,     0.94118,     0.94118,     0.94118,     0.94118,     0.94118,     0.94118,     0.94118,\n",
              "            0.94118,     0.94118,     0.94118,     0.94118,     0.93684,     0.93684,     0.93684,     0.93684,     0.93684,     0.93684,     0.93684,     0.93684,     0.93684,     0.93684,     0.93684,     0.93684,     0.93684,     0.93684,     0.93684,     0.93684,     0.93684,     0.93684,     0.93684,\n",
              "            0.93684,     0.93684,     0.93684,     0.93684,     0.93684,     0.93684,     0.93684,     0.93684,     0.93684,     0.93684,     0.93684,     0.93684,     0.93684,     0.93684,     0.93684,     0.93684,     0.93684,     0.93684,     0.93684,     0.93684,     0.93684,     0.93684,     0.93684,\n",
              "            0.93684,     0.93684,     0.93684,     0.93684,     0.93684,     0.93684,     0.93684,     0.93684,     0.93684,     0.93684,     0.93684,     0.93684,     0.93684,     0.93684,     0.93684,     0.93684,     0.93684,     0.93684,     0.93684,     0.93684,     0.93684,     0.93684,     0.93684,\n",
              "            0.93684,     0.93684,     0.93684,     0.93684,     0.93684,     0.93684,     0.93684,     0.93684,     0.93684,     0.93684,     0.93684,     0.93684,     0.93684,     0.93684,     0.93684,     0.93684,     0.93684,     0.93299,     0.93299,     0.93299,     0.93299,     0.93299,     0.93191,\n",
              "            0.93191,     0.93191,     0.93191,     0.93191,     0.93191,     0.93191,     0.93191,     0.93191,     0.93191,     0.93191,     0.93191,     0.93191,     0.93191,     0.93191,     0.93191,     0.93191,     0.93191,     0.93191,     0.93191,     0.93191,     0.93191,     0.93191,     0.93191,\n",
              "            0.93191,     0.93191,     0.93191,     0.93191,     0.93191,     0.93191,     0.93191,     0.93191,     0.93191,     0.93191,     0.93191,     0.93191,     0.93191,     0.93191,     0.93191,     0.93191,     0.93191,     0.93191,     0.93191,     0.93191,     0.93191,     0.93191,     0.93191,\n",
              "            0.93191,     0.93191,     0.93191,     0.93191,     0.93191,     0.93191,     0.93191,     0.93191,     0.93191,     0.93191,     0.93191,     0.93191,     0.93191,     0.93191,     0.93191,     0.93145,     0.93145,     0.93145,     0.93145,     0.93145,     0.93145,     0.93145,     0.93145,\n",
              "            0.93145,     0.93145,     0.93145,     0.93145,     0.93145,     0.93145,     0.93145,     0.93145,     0.93145,     0.93145,     0.93145,     0.93145,     0.92885,     0.92885,     0.92885,     0.92885,     0.92885,     0.92885,     0.92885,     0.92692,     0.92692,     0.92692,     0.92692,\n",
              "            0.92692,     0.92692,     0.92692,     0.92692,     0.92692,     0.92015,     0.92015,     0.91857,     0.91857,     0.91857,     0.91857,     0.91857,     0.91857,     0.91857,     0.91857,     0.91857,     0.91857,     0.91857,     0.91857,     0.91857,     0.91857,     0.91857,     0.91857,\n",
              "            0.91857,     0.91857,     0.91857,     0.91857,     0.91857,     0.91857,     0.91857,     0.91857,     0.91857,     0.91857,     0.91857,     0.91857,     0.91857,     0.91857,     0.91857,     0.91857,     0.91857,     0.91857,     0.91857,     0.91857,     0.91857,     0.91857,     0.91857,\n",
              "            0.91857,     0.91857,     0.91857,     0.91857,     0.91857,     0.91857,     0.91857,     0.91857,     0.91857,     0.91857,     0.91857,     0.91857,     0.91857,     0.91857,     0.91857,     0.91857,     0.91857,     0.91857,     0.91857,     0.91857,     0.91857,     0.91857,     0.91857,\n",
              "            0.91857,     0.91857,     0.91857,     0.91857,     0.91693,     0.91693,     0.91693,     0.91693,     0.91693,     0.91693,     0.91693,     0.91693,     0.91304,     0.91304,     0.91304,     0.91304,     0.91304,     0.91304,     0.91304,     0.91304,     0.91304,     0.91304,     0.91304,\n",
              "            0.91304,     0.91049,     0.90448,     0.90448,     0.90448,     0.90448,     0.90448,     0.90448,     0.90448,     0.90448,     0.90448,     0.90448,     0.90448,     0.90448,     0.90448,     0.90323,     0.90323,     0.90323,     0.90323,     0.90323,     0.90323,     0.90323,     0.90323,\n",
              "            0.90323,     0.90116,     0.90116,     0.90116,     0.89694,     0.89694,     0.89694,     0.89694,     0.89694,     0.89694,     0.89694,     0.89694,     0.89694,     0.89694,     0.89694,     0.89694,     0.89694,     0.89694,     0.89694,     0.89694,     0.89694,     0.89694,     0.89694,\n",
              "            0.89694,     0.89674,     0.89674,     0.89674,     0.89674,     0.89674,     0.89674,     0.89674,     0.89674,     0.89674,     0.89674,     0.89674,     0.89674,     0.89674,     0.89276,     0.89276,     0.89276,     0.89276,     0.89276,     0.89211,     0.89211,     0.89211,     0.89211,\n",
              "            0.89211,     0.89211,     0.89211,     0.89211,     0.89211,     0.89211,     0.89005,     0.88571,     0.88571,     0.88462,     0.88462,     0.88462,     0.88462,     0.88462,     0.88462,     0.88161,     0.88161,     0.88161,     0.88161,     0.88161,     0.88161,     0.88161,     0.88161,\n",
              "            0.88161,      0.8806,      0.8806,      0.8806,      0.8806,      0.8806,      0.8806,     0.87871,     0.87871,     0.87685,       0.875,       0.875,     0.87136,     0.87136,     0.87136,     0.86429,     0.86429,     0.86429,     0.86429,     0.86429,     0.86429,     0.86429,     0.86288,\n",
              "            0.86288,     0.86288,      0.8588,      0.8588,      0.8588,      0.8588,      0.8588,      0.8588,      0.8588,      0.8588,      0.8588,      0.8588,     0.85747,     0.85747,     0.85747,     0.85616,     0.85616,     0.85616,     0.85616,      0.8552,      0.8552,      0.8552,      0.8552,\n",
              "             0.8552,     0.85459,     0.85459,     0.85459,     0.85459,     0.85459,     0.85459,     0.85301,     0.85301,      0.8521,      0.8521,      0.8521,      0.8521,      0.8521,     0.85088,     0.85088,     0.85088,     0.84599,     0.84599,     0.84599,     0.84449,     0.84449,     0.84301,\n",
              "            0.84301,     0.84188,     0.84188,     0.84188,      0.8351,      0.8351,     0.83438,     0.83438,     0.83438,     0.83438,      0.8316,      0.8316,      0.8316,      0.8316,     0.83058,     0.83058,     0.83058,     0.82922,     0.82922,     0.82317,     0.82317,     0.82317,     0.82056,\n",
              "            0.82056,     0.82056,     0.81836,     0.81836,     0.81836,     0.81836,     0.81836,      0.8171,      0.8171,     0.81423,     0.81139,     0.81139,     0.80971,     0.80971,     0.80971,     0.80971,     0.80971,     0.80971,     0.80971,     0.80077,     0.79886,     0.79886,     0.79886,\n",
              "            0.79886,     0.79886,     0.79849,     0.79849,     0.79849,     0.79849,     0.79849,     0.79626,     0.79626,     0.79626,     0.79074,     0.79074,     0.78532,     0.78532,     0.78142,     0.77899,     0.77899,     0.77798,     0.77798,     0.77419,     0.77321,     0.77321,     0.76491,\n",
              "            0.76491,     0.76491,     0.76491,     0.76491,     0.76265,     0.76265,     0.75648,     0.74957,     0.74957,     0.74957,     0.74619,     0.74619,     0.73466,     0.73466,     0.73466,     0.73311,     0.73311,     0.73311,     0.73311,     0.73115,     0.72683,     0.72683,     0.72492,\n",
              "            0.72492,     0.71315,     0.71315,     0.71315,     0.71248,     0.71248,     0.70736,     0.70451,     0.70451,     0.69739,     0.69466,     0.69466,     0.69406,     0.69406,     0.69394,     0.69394,     0.69394,     0.69277,     0.69277,     0.69277,     0.68741,     0.68741,     0.68741,\n",
              "            0.68741,     0.68741,     0.68741,     0.68741,     0.68483,     0.68483,      0.6793,     0.67486,     0.67486,     0.66195,     0.66056,     0.66056,     0.65642,     0.65642,     0.65055,     0.64481,     0.64481,     0.64179,     0.64179,     0.63539,     0.62336,     0.62336,     0.61818,\n",
              "            0.61818,     0.60227,     0.60202,     0.60202,     0.59627,     0.59627,     0.59627,     0.59603,     0.59603,     0.59214,     0.58974,     0.58974,     0.58384,     0.58384,     0.56792,     0.56709,     0.56709,     0.56366,     0.56366,     0.55631,     0.55631,     0.55631,     0.55305,\n",
              "            0.55305,     0.54922,     0.54788,     0.54788,     0.53413,     0.53413,     0.52991,     0.52991,     0.52991,     0.52991,     0.52929,     0.52929,     0.52698,     0.52698,     0.52526,     0.52138,     0.52138,     0.52079,     0.52079,     0.51329,       0.503,       0.503,      0.5005,\n",
              "             0.5005,     0.49803,     0.49414,     0.49414,     0.49225,     0.49225,     0.49225,     0.48848,     0.48848,     0.48341,     0.48026,     0.48026,     0.45633,     0.45633,        0.45,     0.44696,     0.44696,     0.44666,     0.44666,      0.4456,     0.43687,     0.43687,     0.43687,\n",
              "            0.43687,     0.43687,     0.43442,     0.43442,       0.426,       0.426,     0.41396,     0.41279,     0.41279,     0.40937,     0.40138,     0.40138,     0.39955,     0.39955,     0.39955,     0.39759,     0.39759,     0.38698,     0.38698,     0.37966,     0.37794,     0.37794,     0.36614,\n",
              "            0.36614,     0.36154,     0.36154,     0.36154,      0.3474,      0.3474,     0.34648,     0.34467,     0.34467,     0.34399,     0.34136,     0.34136,     0.32827,     0.32827,     0.32649,      0.3192,      0.3192,     0.31103,     0.31103,     0.31103,     0.30044,     0.30044,     0.29755,\n",
              "            0.29755,     0.28416,     0.27831,     0.27831,     0.27708,     0.27708,     0.27708,     0.27661,     0.27661,      0.2545,     0.24832,     0.24832,     0.23665,     0.23665,     0.22488,     0.21149,     0.21149,     0.20869,     0.20869,     0.20462,     0.20312,     0.20312,     0.19684,\n",
              "            0.19684,     0.19479,      0.1795,      0.1795,     0.16058,     0.16058,     0.15649,     0.15229,     0.15229,     0.14315,      0.1336,      0.1336,     0.13151,     0.12955,     0.12758,     0.12562,     0.12366,      0.1217,     0.11973,     0.11777,     0.11581,     0.11384,     0.11188,\n",
              "            0.10992,     0.10796,     0.10599,     0.10403,     0.10207,      0.1001,    0.098141,    0.096179,    0.094216,    0.092253,     0.09029,    0.088327,    0.086364,    0.084402,    0.082439,    0.080476,    0.078513,     0.07655,    0.074588,    0.072625,    0.070662,    0.068699,    0.066736,\n",
              "           0.064773,    0.062811,    0.060848,    0.058885,    0.056922,    0.054959,    0.052996,    0.051034,    0.049071,    0.047108,    0.045145,    0.043182,    0.041219,    0.039257,    0.037294,    0.035331,    0.033368,    0.031405,    0.029442,     0.02748,    0.025517,    0.023554,    0.021591,\n",
              "           0.019628,    0.017665,    0.015703,     0.01374,    0.011777,   0.0098141,   0.0078513,   0.0058885,   0.0039257,   0.0019628,           0]]), 'Recall', 'Precision'], [array([          0,    0.001001,    0.002002,    0.003003,    0.004004,    0.005005,    0.006006,    0.007007,    0.008008,    0.009009,     0.01001,    0.011011,    0.012012,    0.013013,    0.014014,    0.015015,    0.016016,    0.017017,    0.018018,    0.019019,     0.02002,    0.021021,    0.022022,    0.023023,\n",
              "          0.024024,    0.025025,    0.026026,    0.027027,    0.028028,    0.029029,     0.03003,    0.031031,    0.032032,    0.033033,    0.034034,    0.035035,    0.036036,    0.037037,    0.038038,    0.039039,     0.04004,    0.041041,    0.042042,    0.043043,    0.044044,    0.045045,    0.046046,    0.047047,\n",
              "          0.048048,    0.049049,     0.05005,    0.051051,    0.052052,    0.053053,    0.054054,    0.055055,    0.056056,    0.057057,    0.058058,    0.059059,     0.06006,    0.061061,    0.062062,    0.063063,    0.064064,    0.065065,    0.066066,    0.067067,    0.068068,    0.069069,     0.07007,    0.071071,\n",
              "          0.072072,    0.073073,    0.074074,    0.075075,    0.076076,    0.077077,    0.078078,    0.079079,     0.08008,    0.081081,    0.082082,    0.083083,    0.084084,    0.085085,    0.086086,    0.087087,    0.088088,    0.089089,     0.09009,    0.091091,    0.092092,    0.093093,    0.094094,    0.095095,\n",
              "          0.096096,    0.097097,    0.098098,    0.099099,      0.1001,      0.1011,      0.1021,      0.1031,      0.1041,     0.10511,     0.10611,     0.10711,     0.10811,     0.10911,     0.11011,     0.11111,     0.11211,     0.11311,     0.11411,     0.11512,     0.11612,     0.11712,     0.11812,     0.11912,\n",
              "           0.12012,     0.12112,     0.12212,     0.12312,     0.12412,     0.12513,     0.12613,     0.12713,     0.12813,     0.12913,     0.13013,     0.13113,     0.13213,     0.13313,     0.13413,     0.13514,     0.13614,     0.13714,     0.13814,     0.13914,     0.14014,     0.14114,     0.14214,     0.14314,\n",
              "           0.14414,     0.14515,     0.14615,     0.14715,     0.14815,     0.14915,     0.15015,     0.15115,     0.15215,     0.15315,     0.15415,     0.15516,     0.15616,     0.15716,     0.15816,     0.15916,     0.16016,     0.16116,     0.16216,     0.16316,     0.16416,     0.16517,     0.16617,     0.16717,\n",
              "           0.16817,     0.16917,     0.17017,     0.17117,     0.17217,     0.17317,     0.17417,     0.17518,     0.17618,     0.17718,     0.17818,     0.17918,     0.18018,     0.18118,     0.18218,     0.18318,     0.18418,     0.18519,     0.18619,     0.18719,     0.18819,     0.18919,     0.19019,     0.19119,\n",
              "           0.19219,     0.19319,     0.19419,      0.1952,      0.1962,      0.1972,      0.1982,      0.1992,      0.2002,      0.2012,      0.2022,      0.2032,      0.2042,     0.20521,     0.20621,     0.20721,     0.20821,     0.20921,     0.21021,     0.21121,     0.21221,     0.21321,     0.21421,     0.21522,\n",
              "           0.21622,     0.21722,     0.21822,     0.21922,     0.22022,     0.22122,     0.22222,     0.22322,     0.22422,     0.22523,     0.22623,     0.22723,     0.22823,     0.22923,     0.23023,     0.23123,     0.23223,     0.23323,     0.23423,     0.23524,     0.23624,     0.23724,     0.23824,     0.23924,\n",
              "           0.24024,     0.24124,     0.24224,     0.24324,     0.24424,     0.24525,     0.24625,     0.24725,     0.24825,     0.24925,     0.25025,     0.25125,     0.25225,     0.25325,     0.25425,     0.25526,     0.25626,     0.25726,     0.25826,     0.25926,     0.26026,     0.26126,     0.26226,     0.26326,\n",
              "           0.26426,     0.26527,     0.26627,     0.26727,     0.26827,     0.26927,     0.27027,     0.27127,     0.27227,     0.27327,     0.27427,     0.27528,     0.27628,     0.27728,     0.27828,     0.27928,     0.28028,     0.28128,     0.28228,     0.28328,     0.28428,     0.28529,     0.28629,     0.28729,\n",
              "           0.28829,     0.28929,     0.29029,     0.29129,     0.29229,     0.29329,     0.29429,      0.2953,      0.2963,      0.2973,      0.2983,      0.2993,      0.3003,      0.3013,      0.3023,      0.3033,      0.3043,     0.30531,     0.30631,     0.30731,     0.30831,     0.30931,     0.31031,     0.31131,\n",
              "           0.31231,     0.31331,     0.31431,     0.31532,     0.31632,     0.31732,     0.31832,     0.31932,     0.32032,     0.32132,     0.32232,     0.32332,     0.32432,     0.32533,     0.32633,     0.32733,     0.32833,     0.32933,     0.33033,     0.33133,     0.33233,     0.33333,     0.33433,     0.33534,\n",
              "           0.33634,     0.33734,     0.33834,     0.33934,     0.34034,     0.34134,     0.34234,     0.34334,     0.34434,     0.34535,     0.34635,     0.34735,     0.34835,     0.34935,     0.35035,     0.35135,     0.35235,     0.35335,     0.35435,     0.35536,     0.35636,     0.35736,     0.35836,     0.35936,\n",
              "           0.36036,     0.36136,     0.36236,     0.36336,     0.36436,     0.36537,     0.36637,     0.36737,     0.36837,     0.36937,     0.37037,     0.37137,     0.37237,     0.37337,     0.37437,     0.37538,     0.37638,     0.37738,     0.37838,     0.37938,     0.38038,     0.38138,     0.38238,     0.38338,\n",
              "           0.38438,     0.38539,     0.38639,     0.38739,     0.38839,     0.38939,     0.39039,     0.39139,     0.39239,     0.39339,     0.39439,      0.3954,      0.3964,      0.3974,      0.3984,      0.3994,      0.4004,      0.4014,      0.4024,      0.4034,      0.4044,     0.40541,     0.40641,     0.40741,\n",
              "           0.40841,     0.40941,     0.41041,     0.41141,     0.41241,     0.41341,     0.41441,     0.41542,     0.41642,     0.41742,     0.41842,     0.41942,     0.42042,     0.42142,     0.42242,     0.42342,     0.42442,     0.42543,     0.42643,     0.42743,     0.42843,     0.42943,     0.43043,     0.43143,\n",
              "           0.43243,     0.43343,     0.43443,     0.43544,     0.43644,     0.43744,     0.43844,     0.43944,     0.44044,     0.44144,     0.44244,     0.44344,     0.44444,     0.44545,     0.44645,     0.44745,     0.44845,     0.44945,     0.45045,     0.45145,     0.45245,     0.45345,     0.45445,     0.45546,\n",
              "           0.45646,     0.45746,     0.45846,     0.45946,     0.46046,     0.46146,     0.46246,     0.46346,     0.46446,     0.46547,     0.46647,     0.46747,     0.46847,     0.46947,     0.47047,     0.47147,     0.47247,     0.47347,     0.47447,     0.47548,     0.47648,     0.47748,     0.47848,     0.47948,\n",
              "           0.48048,     0.48148,     0.48248,     0.48348,     0.48448,     0.48549,     0.48649,     0.48749,     0.48849,     0.48949,     0.49049,     0.49149,     0.49249,     0.49349,     0.49449,      0.4955,      0.4965,      0.4975,      0.4985,      0.4995,      0.5005,      0.5015,      0.5025,      0.5035,\n",
              "            0.5045,     0.50551,     0.50651,     0.50751,     0.50851,     0.50951,     0.51051,     0.51151,     0.51251,     0.51351,     0.51451,     0.51552,     0.51652,     0.51752,     0.51852,     0.51952,     0.52052,     0.52152,     0.52252,     0.52352,     0.52452,     0.52553,     0.52653,     0.52753,\n",
              "           0.52853,     0.52953,     0.53053,     0.53153,     0.53253,     0.53353,     0.53453,     0.53554,     0.53654,     0.53754,     0.53854,     0.53954,     0.54054,     0.54154,     0.54254,     0.54354,     0.54454,     0.54555,     0.54655,     0.54755,     0.54855,     0.54955,     0.55055,     0.55155,\n",
              "           0.55255,     0.55355,     0.55455,     0.55556,     0.55656,     0.55756,     0.55856,     0.55956,     0.56056,     0.56156,     0.56256,     0.56356,     0.56456,     0.56557,     0.56657,     0.56757,     0.56857,     0.56957,     0.57057,     0.57157,     0.57257,     0.57357,     0.57457,     0.57558,\n",
              "           0.57658,     0.57758,     0.57858,     0.57958,     0.58058,     0.58158,     0.58258,     0.58358,     0.58458,     0.58559,     0.58659,     0.58759,     0.58859,     0.58959,     0.59059,     0.59159,     0.59259,     0.59359,     0.59459,      0.5956,      0.5966,      0.5976,      0.5986,      0.5996,\n",
              "            0.6006,      0.6016,      0.6026,      0.6036,      0.6046,     0.60561,     0.60661,     0.60761,     0.60861,     0.60961,     0.61061,     0.61161,     0.61261,     0.61361,     0.61461,     0.61562,     0.61662,     0.61762,     0.61862,     0.61962,     0.62062,     0.62162,     0.62262,     0.62362,\n",
              "           0.62462,     0.62563,     0.62663,     0.62763,     0.62863,     0.62963,     0.63063,     0.63163,     0.63263,     0.63363,     0.63463,     0.63564,     0.63664,     0.63764,     0.63864,     0.63964,     0.64064,     0.64164,     0.64264,     0.64364,     0.64464,     0.64565,     0.64665,     0.64765,\n",
              "           0.64865,     0.64965,     0.65065,     0.65165,     0.65265,     0.65365,     0.65465,     0.65566,     0.65666,     0.65766,     0.65866,     0.65966,     0.66066,     0.66166,     0.66266,     0.66366,     0.66466,     0.66567,     0.66667,     0.66767,     0.66867,     0.66967,     0.67067,     0.67167,\n",
              "           0.67267,     0.67367,     0.67467,     0.67568,     0.67668,     0.67768,     0.67868,     0.67968,     0.68068,     0.68168,     0.68268,     0.68368,     0.68468,     0.68569,     0.68669,     0.68769,     0.68869,     0.68969,     0.69069,     0.69169,     0.69269,     0.69369,     0.69469,      0.6957,\n",
              "            0.6967,      0.6977,      0.6987,      0.6997,      0.7007,      0.7017,      0.7027,      0.7037,      0.7047,     0.70571,     0.70671,     0.70771,     0.70871,     0.70971,     0.71071,     0.71171,     0.71271,     0.71371,     0.71471,     0.71572,     0.71672,     0.71772,     0.71872,     0.71972,\n",
              "           0.72072,     0.72172,     0.72272,     0.72372,     0.72472,     0.72573,     0.72673,     0.72773,     0.72873,     0.72973,     0.73073,     0.73173,     0.73273,     0.73373,     0.73473,     0.73574,     0.73674,     0.73774,     0.73874,     0.73974,     0.74074,     0.74174,     0.74274,     0.74374,\n",
              "           0.74474,     0.74575,     0.74675,     0.74775,     0.74875,     0.74975,     0.75075,     0.75175,     0.75275,     0.75375,     0.75475,     0.75576,     0.75676,     0.75776,     0.75876,     0.75976,     0.76076,     0.76176,     0.76276,     0.76376,     0.76476,     0.76577,     0.76677,     0.76777,\n",
              "           0.76877,     0.76977,     0.77077,     0.77177,     0.77277,     0.77377,     0.77477,     0.77578,     0.77678,     0.77778,     0.77878,     0.77978,     0.78078,     0.78178,     0.78278,     0.78378,     0.78478,     0.78579,     0.78679,     0.78779,     0.78879,     0.78979,     0.79079,     0.79179,\n",
              "           0.79279,     0.79379,     0.79479,      0.7958,      0.7968,      0.7978,      0.7988,      0.7998,      0.8008,      0.8018,      0.8028,      0.8038,      0.8048,     0.80581,     0.80681,     0.80781,     0.80881,     0.80981,     0.81081,     0.81181,     0.81281,     0.81381,     0.81481,     0.81582,\n",
              "           0.81682,     0.81782,     0.81882,     0.81982,     0.82082,     0.82182,     0.82282,     0.82382,     0.82482,     0.82583,     0.82683,     0.82783,     0.82883,     0.82983,     0.83083,     0.83183,     0.83283,     0.83383,     0.83483,     0.83584,     0.83684,     0.83784,     0.83884,     0.83984,\n",
              "           0.84084,     0.84184,     0.84284,     0.84384,     0.84484,     0.84585,     0.84685,     0.84785,     0.84885,     0.84985,     0.85085,     0.85185,     0.85285,     0.85385,     0.85485,     0.85586,     0.85686,     0.85786,     0.85886,     0.85986,     0.86086,     0.86186,     0.86286,     0.86386,\n",
              "           0.86486,     0.86587,     0.86687,     0.86787,     0.86887,     0.86987,     0.87087,     0.87187,     0.87287,     0.87387,     0.87487,     0.87588,     0.87688,     0.87788,     0.87888,     0.87988,     0.88088,     0.88188,     0.88288,     0.88388,     0.88488,     0.88589,     0.88689,     0.88789,\n",
              "           0.88889,     0.88989,     0.89089,     0.89189,     0.89289,     0.89389,     0.89489,      0.8959,      0.8969,      0.8979,      0.8989,      0.8999,      0.9009,      0.9019,      0.9029,      0.9039,      0.9049,     0.90591,     0.90691,     0.90791,     0.90891,     0.90991,     0.91091,     0.91191,\n",
              "           0.91291,     0.91391,     0.91491,     0.91592,     0.91692,     0.91792,     0.91892,     0.91992,     0.92092,     0.92192,     0.92292,     0.92392,     0.92492,     0.92593,     0.92693,     0.92793,     0.92893,     0.92993,     0.93093,     0.93193,     0.93293,     0.93393,     0.93493,     0.93594,\n",
              "           0.93694,     0.93794,     0.93894,     0.93994,     0.94094,     0.94194,     0.94294,     0.94394,     0.94494,     0.94595,     0.94695,     0.94795,     0.94895,     0.94995,     0.95095,     0.95195,     0.95295,     0.95395,     0.95495,     0.95596,     0.95696,     0.95796,     0.95896,     0.95996,\n",
              "           0.96096,     0.96196,     0.96296,     0.96396,     0.96496,     0.96597,     0.96697,     0.96797,     0.96897,     0.96997,     0.97097,     0.97197,     0.97297,     0.97397,     0.97497,     0.97598,     0.97698,     0.97798,     0.97898,     0.97998,     0.98098,     0.98198,     0.98298,     0.98398,\n",
              "           0.98498,     0.98599,     0.98699,     0.98799,     0.98899,     0.98999,     0.99099,     0.99199,     0.99299,     0.99399,     0.99499,       0.996,       0.997,       0.998,       0.999,           1]), array([[    0.23162,     0.23162,     0.33096,     0.39455,     0.43018,     0.45622,     0.47688,     0.49331,     0.50476,     0.51621,     0.52705,     0.53341,       0.541,     0.54586,     0.55074,      0.5576,     0.55928,     0.56513,     0.56861,      0.5718,     0.57477,     0.57732,     0.58006,\n",
              "            0.58439,     0.58634,      0.5877,     0.59128,     0.59426,     0.59597,       0.599,     0.60039,      0.6032,     0.60401,     0.60764,     0.61052,     0.61083,     0.61325,     0.61412,      0.6166,     0.61634,     0.61716,     0.61858,      0.6192,      0.6199,     0.62036,     0.62278,\n",
              "            0.62468,     0.62537,     0.62675,     0.62875,     0.62937,     0.63063,     0.63285,     0.63301,     0.63464,     0.63543,     0.63671,     0.63801,     0.63768,     0.63793,     0.64032,     0.64004,     0.64198,     0.64213,     0.64148,     0.64009,     0.64087,     0.64149,       0.643,\n",
              "            0.64316,     0.64426,     0.64568,     0.64659,     0.64837,     0.64933,      0.6505,      0.6514,     0.65208,     0.65337,     0.65278,     0.65362,     0.65398,     0.65529,     0.65572,     0.65581,     0.65517,     0.65684,     0.65716,     0.65644,     0.65721,     0.65784,     0.65834,\n",
              "            0.65957,     0.66086,     0.66116,     0.66123,     0.66153,     0.66261,     0.66334,     0.66322,     0.66327,     0.66537,     0.66575,     0.66616,     0.66757,     0.66786,     0.66826,     0.66904,     0.66983,      0.6715,     0.67316,     0.67352,     0.67308,     0.67375,     0.67452,\n",
              "            0.67569,     0.67692,     0.67713,     0.67753,     0.67779,     0.67717,     0.67733,     0.67777,      0.6796,     0.67912,     0.67784,     0.67792,     0.67846,     0.67948,      0.6797,     0.67992,      0.6806,     0.68104,     0.68179,     0.68108,     0.68073,     0.68108,     0.68134,\n",
              "            0.68154,     0.68167,      0.6818,     0.68194,      0.6824,     0.68485,     0.68636,      0.6867,     0.68722,     0.68856,     0.68902,     0.68931,     0.68992,      0.6904,     0.69072,     0.69049,     0.69144,     0.69172,      0.6921,     0.69323,     0.69372,     0.69448,     0.69473,\n",
              "            0.69496,     0.69515,     0.69533,      0.6955,     0.69761,     0.69794,     0.69828,     0.69863,     0.69901,     0.69984,     0.69943,     0.70027,      0.7008,     0.70093,     0.70107,      0.7012,     0.70188,     0.70205,     0.70223,     0.70301,     0.70332,     0.70252,     0.70308,\n",
              "            0.70434,     0.70394,     0.70355,     0.70461,     0.70522,     0.70551,     0.70584,      0.7062,     0.70656,     0.70688,     0.70717,      0.7069,     0.70784,     0.70803,     0.70822,     0.70842,     0.70866,     0.70892,     0.70952,     0.70973,     0.70994,     0.70928,     0.70979,\n",
              "            0.71104,     0.71165,     0.71114,     0.71128,     0.71156,     0.71171,     0.71129,     0.71087,     0.71108,     0.71148,     0.71199,     0.71216,     0.71234,     0.71271,     0.71319,     0.71355,     0.71371,     0.71387,     0.71403,     0.71465,     0.71492,     0.71519,      0.7156,\n",
              "            0.71599,     0.71641,     0.71696,     0.71766,      0.7177,     0.71818,     0.71848,     0.71918,     0.71985,     0.71943,      0.7201,     0.72077,     0.72153,      0.7221,     0.72225,     0.72241,     0.72256,      0.7232,     0.72286,     0.72238,     0.72203,      0.7217,     0.72137,\n",
              "            0.72076,     0.71996,     0.71974,     0.72078,     0.72133,     0.72165,     0.72176,     0.72188,       0.722,     0.72211,     0.72251,     0.72145,     0.72192,     0.72206,     0.72221,     0.72236,     0.72181,     0.72071,     0.72058,     0.72084,     0.72007,      0.7203,      0.7204,\n",
              "            0.71957,     0.71992,     0.72078,     0.72112,     0.72058,     0.72179,     0.72262,     0.72345,     0.72399,     0.72402,      0.7237,     0.72338,     0.72388,     0.72435,     0.72469,     0.72455,     0.72405,     0.72428,     0.72458,      0.7253,     0.72578,     0.72608,     0.72646,\n",
              "            0.72652,     0.72598,     0.72632,     0.72622,       0.726,     0.72577,     0.72555,     0.72504,     0.72449,     0.72473,       0.725,     0.72534,     0.72626,     0.72683,     0.72731,      0.7278,      0.7281,     0.72837,     0.72857,     0.72874,     0.72892,     0.72985,     0.73042,\n",
              "            0.73077,     0.73054,     0.73019,     0.72984,     0.73064,     0.73004,     0.73024,     0.73045,     0.73175,     0.73205,     0.73155,      0.7321,     0.73101,     0.73054,     0.73068,     0.73081,     0.73095,     0.73129,     0.73057,     0.72971,     0.72985,     0.73079,     0.73148,\n",
              "            0.73328,     0.73383,     0.73397,     0.73411,     0.73425,     0.73439,     0.73452,     0.73465,     0.73479,     0.73492,     0.73582,     0.73605,     0.73628,     0.73592,       0.735,     0.73428,     0.73439,     0.73449,      0.7346,     0.73471,     0.73481,     0.73496,     0.73532,\n",
              "             0.7356,      0.7358,     0.73599,      0.7362,     0.73646,     0.73671,     0.73699,     0.73727,     0.73778,     0.73697,     0.73716,     0.73736,     0.73756,     0.73853,     0.73957,     0.73975,     0.73994,     0.73994,     0.73965,     0.73936,     0.73907,     0.73981,      0.7401,\n",
              "            0.74009,     0.73982,     0.73955,     0.73927,     0.73886,     0.73838,     0.73786,     0.73731,     0.73763,     0.73836,     0.73854,     0.73871,     0.73888,     0.73918,      0.7395,     0.73987,     0.74023,     0.74055,     0.74088,      0.7412,     0.74113,     0.74043,     0.74067,\n",
              "             0.7409,     0.74005,     0.74027,     0.74048,     0.74105,     0.74098,      0.7413,      0.7412,     0.74097,     0.74073,      0.7405,     0.74102,      0.7414,      0.7406,     0.74126,     0.74184,     0.74217,     0.74215,     0.74346,     0.74353,     0.74424,     0.74462,     0.74519,\n",
              "            0.74366,     0.74401,     0.74424,     0.74446,     0.74408,     0.74351,     0.74295,     0.74238,     0.74025,     0.73968,     0.73859,     0.73929,     0.73943,     0.73956,      0.7397,     0.73979,     0.73922,     0.73873,     0.73891,     0.73908,     0.73926,     0.73966,     0.74078,\n",
              "            0.74101,     0.74123,     0.74218,     0.74252,     0.74119,     0.74061,     0.73891,     0.73834,     0.73832,     0.73854,     0.73877,     0.73908,     0.73942,     0.73863,     0.73897,     0.73931,     0.73965,     0.73917,     0.73985,      0.7394,     0.73712,     0.73673,     0.73634,\n",
              "            0.73604,     0.73673,     0.73612,     0.73573,     0.73534,     0.73517,     0.73609,     0.73506,     0.73447,     0.73551,     0.73585,     0.73633,     0.73585,     0.73603,     0.73543,     0.73426,     0.73289,     0.73246,     0.73281,     0.73316,      0.7335,     0.73293,     0.73055,\n",
              "            0.73035,      0.7307,     0.73047,      0.7307,     0.73093,     0.73184,     0.73207,     0.73231,     0.73014,      0.7301,     0.73024,     0.73038,     0.73052,     0.73066,     0.72956,       0.729,     0.72958,     0.72836,     0.72735,     0.72869,     0.72904,      0.7279,     0.72736,\n",
              "            0.72613,      0.7249,     0.72421,     0.72431,     0.72255,     0.72009,     0.71953,     0.71853,      0.7179,     0.71727,     0.71665,     0.71639,     0.71546,     0.71483,     0.71466,     0.71484,     0.71501,     0.71519,     0.71316,     0.71258,     0.71006,     0.70802,     0.70738,\n",
              "            0.70655,     0.70687,     0.70711,     0.70734,      0.7069,     0.70441,     0.70312,     0.70151,      0.7029,      0.7036,      0.7032,     0.70227,     0.70162,     0.70182,     0.70229,     0.70265,     0.70245,     0.70202,     0.70158,     0.70175,     0.70211,      0.7005,     0.69988,\n",
              "            0.69654,     0.69588,     0.69648,     0.69266,     0.69225,     0.69186,     0.69148,     0.69106,     0.69062,     0.69017,      0.6908,     0.69098,     0.69116,     0.69133,     0.68827,     0.68759,     0.68576,     0.68611,     0.68575,     0.68508,     0.68144,     0.68034,     0.67696,\n",
              "            0.67557,      0.6761,     0.67582,     0.67554,     0.67526,     0.67498,     0.67309,     0.67239,      0.6685,     0.66542,     0.66173,     0.66125,     0.66078,     0.66003,     0.65743,     0.65671,     0.65574,     0.65308,     0.65212,     0.64998,     0.65124,     0.64986,     0.64877,\n",
              "            0.64762,     0.64473,     0.64326,      0.6423,     0.64026,     0.63942,     0.63893,     0.63844,     0.63631,     0.63556,     0.63368,     0.63335,     0.63302,     0.63268,     0.63191,      0.6313,     0.63297,     0.63223,     0.62785,     0.62256,     0.62276,     0.62296,     0.62316,\n",
              "             0.6163,     0.61615,     0.61539,     0.61383,     0.60922,     0.60228,     0.60069,     0.59911,     0.59752,     0.59383,     0.59362,     0.59396,     0.59171,      0.5909,     0.58895,     0.58859,     0.58823,     0.58787,     0.58451,     0.58397,     0.58343,     0.58281,     0.58172,\n",
              "            0.58027,     0.57543,     0.57384,     0.57057,     0.56974,     0.56702,     0.56316,      0.5632,     0.56182,     0.55792,     0.55744,     0.55695,     0.55589,     0.55565,     0.55405,      0.5547,      0.5552,     0.55406,     0.55089,     0.54917,     0.54537,     0.54551,     0.54337,\n",
              "            0.53949,     0.53666,      0.5349,     0.53362,     0.53261,      0.5319,      0.5312,     0.52778,     0.52656,     0.52014,     0.51778,     0.51421,      0.5105,      0.5079,     0.50069,     0.49613,      0.4888,     0.48473,     0.48227,     0.47853,     0.47594,     0.47499,     0.47314,\n",
              "            0.47088,     0.46896,     0.46609,     0.46499,      0.4637,     0.46236,     0.45563,     0.45366,     0.44742,     0.44558,     0.44596,     0.44296,     0.43604,     0.43368,     0.42784,     0.42702,     0.42591,     0.42332,     0.41528,     0.41406,     0.41323,      0.4124,     0.41047,\n",
              "            0.40901,     0.40023,       0.398,     0.38858,     0.38377,     0.38166,     0.38079,     0.37993,     0.37721,     0.37258,     0.36962,     0.36791,     0.36697,     0.36563,      0.3538,      0.3523,     0.34799,     0.34378,     0.33907,     0.33754,     0.33532,     0.33075,     0.32045,\n",
              "            0.31967,     0.31811,     0.31381,     0.30801,     0.30642,     0.29385,     0.29223,     0.29008,     0.28644,     0.28347,     0.28021,     0.27534,      0.2741,     0.27041,     0.26916,     0.26501,     0.26129,     0.25661,     0.24848,     0.24745,     0.24642,     0.24169,     0.23996,\n",
              "            0.23775,     0.23514,      0.2258,     0.22273,     0.22037,     0.21746,     0.21307,     0.21128,     0.20983,     0.20848,     0.20577,     0.20365,     0.20094,     0.19287,     0.19095,     0.18872,     0.18469,     0.18273,     0.18225,     0.17409,     0.17222,      0.1685,     0.16661,\n",
              "            0.16472,     0.16291,     0.16148,     0.15995,     0.15805,      0.1544,     0.15296,     0.15108,     0.14722,     0.14564,     0.14481,     0.14398,     0.14225,     0.13514,     0.12926,     0.12535,     0.12029,     0.11139,    0.096457,     0.08919,     0.08374,    0.080986,    0.075651,\n",
              "           0.074089,     0.06954,    0.068283,    0.067024,    0.065089,    0.062627,    0.055204,    0.050664,    0.049061,    0.047455,    0.045847,    0.044571,    0.043649,    0.042727,    0.041778,    0.040484,    0.039189,    0.038301,    0.037652,    0.037002,    0.036353,    0.035702,    0.034725,\n",
              "           0.033639,    0.032552,    0.031592,    0.030659,    0.029724,    0.028789,    0.027852,    0.026915,    0.025977,    0.022429,    0.021769,    0.021109,    0.020449,    0.019788,    0.016245,    0.015771,    0.015297,    0.014823,    0.014348,    0.013873,    0.013398,    0.012773,    0.011822,\n",
              "           0.010869,   0.0099159,   0.0062126,   0.0053745,   0.0045358,   0.0036963,           0,           0,           0,           0,           0,           0,           0,           0,           0,           0,           0,           0,           0,           0,           0,           0,           0,\n",
              "                  0,           0,           0,           0,           0,           0,           0,           0,           0,           0,           0,           0,           0,           0,           0,           0,           0,           0,           0,           0,           0,           0,           0,\n",
              "                  0,           0,           0,           0,           0,           0,           0,           0,           0,           0,           0,           0,           0,           0,           0,           0,           0,           0,           0,           0,           0,           0,           0,\n",
              "                  0,           0,           0,           0,           0,           0,           0,           0,           0,           0,           0,           0,           0,           0,           0,           0,           0,           0,           0,           0,           0,           0,           0,\n",
              "                  0,           0,           0,           0,           0,           0,           0,           0,           0,           0,           0,           0,           0,           0,           0,           0,           0,           0,           0,           0,           0,           0,           0,\n",
              "                  0,           0,           0,           0,           0,           0,           0,           0,           0,           0,           0]]), 'Confidence', 'F1'], [array([          0,    0.001001,    0.002002,    0.003003,    0.004004,    0.005005,    0.006006,    0.007007,    0.008008,    0.009009,     0.01001,    0.011011,    0.012012,    0.013013,    0.014014,    0.015015,    0.016016,    0.017017,    0.018018,    0.019019,     0.02002,    0.021021,    0.022022,    0.023023,\n",
              "          0.024024,    0.025025,    0.026026,    0.027027,    0.028028,    0.029029,     0.03003,    0.031031,    0.032032,    0.033033,    0.034034,    0.035035,    0.036036,    0.037037,    0.038038,    0.039039,     0.04004,    0.041041,    0.042042,    0.043043,    0.044044,    0.045045,    0.046046,    0.047047,\n",
              "          0.048048,    0.049049,     0.05005,    0.051051,    0.052052,    0.053053,    0.054054,    0.055055,    0.056056,    0.057057,    0.058058,    0.059059,     0.06006,    0.061061,    0.062062,    0.063063,    0.064064,    0.065065,    0.066066,    0.067067,    0.068068,    0.069069,     0.07007,    0.071071,\n",
              "          0.072072,    0.073073,    0.074074,    0.075075,    0.076076,    0.077077,    0.078078,    0.079079,     0.08008,    0.081081,    0.082082,    0.083083,    0.084084,    0.085085,    0.086086,    0.087087,    0.088088,    0.089089,     0.09009,    0.091091,    0.092092,    0.093093,    0.094094,    0.095095,\n",
              "          0.096096,    0.097097,    0.098098,    0.099099,      0.1001,      0.1011,      0.1021,      0.1031,      0.1041,     0.10511,     0.10611,     0.10711,     0.10811,     0.10911,     0.11011,     0.11111,     0.11211,     0.11311,     0.11411,     0.11512,     0.11612,     0.11712,     0.11812,     0.11912,\n",
              "           0.12012,     0.12112,     0.12212,     0.12312,     0.12412,     0.12513,     0.12613,     0.12713,     0.12813,     0.12913,     0.13013,     0.13113,     0.13213,     0.13313,     0.13413,     0.13514,     0.13614,     0.13714,     0.13814,     0.13914,     0.14014,     0.14114,     0.14214,     0.14314,\n",
              "           0.14414,     0.14515,     0.14615,     0.14715,     0.14815,     0.14915,     0.15015,     0.15115,     0.15215,     0.15315,     0.15415,     0.15516,     0.15616,     0.15716,     0.15816,     0.15916,     0.16016,     0.16116,     0.16216,     0.16316,     0.16416,     0.16517,     0.16617,     0.16717,\n",
              "           0.16817,     0.16917,     0.17017,     0.17117,     0.17217,     0.17317,     0.17417,     0.17518,     0.17618,     0.17718,     0.17818,     0.17918,     0.18018,     0.18118,     0.18218,     0.18318,     0.18418,     0.18519,     0.18619,     0.18719,     0.18819,     0.18919,     0.19019,     0.19119,\n",
              "           0.19219,     0.19319,     0.19419,      0.1952,      0.1962,      0.1972,      0.1982,      0.1992,      0.2002,      0.2012,      0.2022,      0.2032,      0.2042,     0.20521,     0.20621,     0.20721,     0.20821,     0.20921,     0.21021,     0.21121,     0.21221,     0.21321,     0.21421,     0.21522,\n",
              "           0.21622,     0.21722,     0.21822,     0.21922,     0.22022,     0.22122,     0.22222,     0.22322,     0.22422,     0.22523,     0.22623,     0.22723,     0.22823,     0.22923,     0.23023,     0.23123,     0.23223,     0.23323,     0.23423,     0.23524,     0.23624,     0.23724,     0.23824,     0.23924,\n",
              "           0.24024,     0.24124,     0.24224,     0.24324,     0.24424,     0.24525,     0.24625,     0.24725,     0.24825,     0.24925,     0.25025,     0.25125,     0.25225,     0.25325,     0.25425,     0.25526,     0.25626,     0.25726,     0.25826,     0.25926,     0.26026,     0.26126,     0.26226,     0.26326,\n",
              "           0.26426,     0.26527,     0.26627,     0.26727,     0.26827,     0.26927,     0.27027,     0.27127,     0.27227,     0.27327,     0.27427,     0.27528,     0.27628,     0.27728,     0.27828,     0.27928,     0.28028,     0.28128,     0.28228,     0.28328,     0.28428,     0.28529,     0.28629,     0.28729,\n",
              "           0.28829,     0.28929,     0.29029,     0.29129,     0.29229,     0.29329,     0.29429,      0.2953,      0.2963,      0.2973,      0.2983,      0.2993,      0.3003,      0.3013,      0.3023,      0.3033,      0.3043,     0.30531,     0.30631,     0.30731,     0.30831,     0.30931,     0.31031,     0.31131,\n",
              "           0.31231,     0.31331,     0.31431,     0.31532,     0.31632,     0.31732,     0.31832,     0.31932,     0.32032,     0.32132,     0.32232,     0.32332,     0.32432,     0.32533,     0.32633,     0.32733,     0.32833,     0.32933,     0.33033,     0.33133,     0.33233,     0.33333,     0.33433,     0.33534,\n",
              "           0.33634,     0.33734,     0.33834,     0.33934,     0.34034,     0.34134,     0.34234,     0.34334,     0.34434,     0.34535,     0.34635,     0.34735,     0.34835,     0.34935,     0.35035,     0.35135,     0.35235,     0.35335,     0.35435,     0.35536,     0.35636,     0.35736,     0.35836,     0.35936,\n",
              "           0.36036,     0.36136,     0.36236,     0.36336,     0.36436,     0.36537,     0.36637,     0.36737,     0.36837,     0.36937,     0.37037,     0.37137,     0.37237,     0.37337,     0.37437,     0.37538,     0.37638,     0.37738,     0.37838,     0.37938,     0.38038,     0.38138,     0.38238,     0.38338,\n",
              "           0.38438,     0.38539,     0.38639,     0.38739,     0.38839,     0.38939,     0.39039,     0.39139,     0.39239,     0.39339,     0.39439,      0.3954,      0.3964,      0.3974,      0.3984,      0.3994,      0.4004,      0.4014,      0.4024,      0.4034,      0.4044,     0.40541,     0.40641,     0.40741,\n",
              "           0.40841,     0.40941,     0.41041,     0.41141,     0.41241,     0.41341,     0.41441,     0.41542,     0.41642,     0.41742,     0.41842,     0.41942,     0.42042,     0.42142,     0.42242,     0.42342,     0.42442,     0.42543,     0.42643,     0.42743,     0.42843,     0.42943,     0.43043,     0.43143,\n",
              "           0.43243,     0.43343,     0.43443,     0.43544,     0.43644,     0.43744,     0.43844,     0.43944,     0.44044,     0.44144,     0.44244,     0.44344,     0.44444,     0.44545,     0.44645,     0.44745,     0.44845,     0.44945,     0.45045,     0.45145,     0.45245,     0.45345,     0.45445,     0.45546,\n",
              "           0.45646,     0.45746,     0.45846,     0.45946,     0.46046,     0.46146,     0.46246,     0.46346,     0.46446,     0.46547,     0.46647,     0.46747,     0.46847,     0.46947,     0.47047,     0.47147,     0.47247,     0.47347,     0.47447,     0.47548,     0.47648,     0.47748,     0.47848,     0.47948,\n",
              "           0.48048,     0.48148,     0.48248,     0.48348,     0.48448,     0.48549,     0.48649,     0.48749,     0.48849,     0.48949,     0.49049,     0.49149,     0.49249,     0.49349,     0.49449,      0.4955,      0.4965,      0.4975,      0.4985,      0.4995,      0.5005,      0.5015,      0.5025,      0.5035,\n",
              "            0.5045,     0.50551,     0.50651,     0.50751,     0.50851,     0.50951,     0.51051,     0.51151,     0.51251,     0.51351,     0.51451,     0.51552,     0.51652,     0.51752,     0.51852,     0.51952,     0.52052,     0.52152,     0.52252,     0.52352,     0.52452,     0.52553,     0.52653,     0.52753,\n",
              "           0.52853,     0.52953,     0.53053,     0.53153,     0.53253,     0.53353,     0.53453,     0.53554,     0.53654,     0.53754,     0.53854,     0.53954,     0.54054,     0.54154,     0.54254,     0.54354,     0.54454,     0.54555,     0.54655,     0.54755,     0.54855,     0.54955,     0.55055,     0.55155,\n",
              "           0.55255,     0.55355,     0.55455,     0.55556,     0.55656,     0.55756,     0.55856,     0.55956,     0.56056,     0.56156,     0.56256,     0.56356,     0.56456,     0.56557,     0.56657,     0.56757,     0.56857,     0.56957,     0.57057,     0.57157,     0.57257,     0.57357,     0.57457,     0.57558,\n",
              "           0.57658,     0.57758,     0.57858,     0.57958,     0.58058,     0.58158,     0.58258,     0.58358,     0.58458,     0.58559,     0.58659,     0.58759,     0.58859,     0.58959,     0.59059,     0.59159,     0.59259,     0.59359,     0.59459,      0.5956,      0.5966,      0.5976,      0.5986,      0.5996,\n",
              "            0.6006,      0.6016,      0.6026,      0.6036,      0.6046,     0.60561,     0.60661,     0.60761,     0.60861,     0.60961,     0.61061,     0.61161,     0.61261,     0.61361,     0.61461,     0.61562,     0.61662,     0.61762,     0.61862,     0.61962,     0.62062,     0.62162,     0.62262,     0.62362,\n",
              "           0.62462,     0.62563,     0.62663,     0.62763,     0.62863,     0.62963,     0.63063,     0.63163,     0.63263,     0.63363,     0.63463,     0.63564,     0.63664,     0.63764,     0.63864,     0.63964,     0.64064,     0.64164,     0.64264,     0.64364,     0.64464,     0.64565,     0.64665,     0.64765,\n",
              "           0.64865,     0.64965,     0.65065,     0.65165,     0.65265,     0.65365,     0.65465,     0.65566,     0.65666,     0.65766,     0.65866,     0.65966,     0.66066,     0.66166,     0.66266,     0.66366,     0.66466,     0.66567,     0.66667,     0.66767,     0.66867,     0.66967,     0.67067,     0.67167,\n",
              "           0.67267,     0.67367,     0.67467,     0.67568,     0.67668,     0.67768,     0.67868,     0.67968,     0.68068,     0.68168,     0.68268,     0.68368,     0.68468,     0.68569,     0.68669,     0.68769,     0.68869,     0.68969,     0.69069,     0.69169,     0.69269,     0.69369,     0.69469,      0.6957,\n",
              "            0.6967,      0.6977,      0.6987,      0.6997,      0.7007,      0.7017,      0.7027,      0.7037,      0.7047,     0.70571,     0.70671,     0.70771,     0.70871,     0.70971,     0.71071,     0.71171,     0.71271,     0.71371,     0.71471,     0.71572,     0.71672,     0.71772,     0.71872,     0.71972,\n",
              "           0.72072,     0.72172,     0.72272,     0.72372,     0.72472,     0.72573,     0.72673,     0.72773,     0.72873,     0.72973,     0.73073,     0.73173,     0.73273,     0.73373,     0.73473,     0.73574,     0.73674,     0.73774,     0.73874,     0.73974,     0.74074,     0.74174,     0.74274,     0.74374,\n",
              "           0.74474,     0.74575,     0.74675,     0.74775,     0.74875,     0.74975,     0.75075,     0.75175,     0.75275,     0.75375,     0.75475,     0.75576,     0.75676,     0.75776,     0.75876,     0.75976,     0.76076,     0.76176,     0.76276,     0.76376,     0.76476,     0.76577,     0.76677,     0.76777,\n",
              "           0.76877,     0.76977,     0.77077,     0.77177,     0.77277,     0.77377,     0.77477,     0.77578,     0.77678,     0.77778,     0.77878,     0.77978,     0.78078,     0.78178,     0.78278,     0.78378,     0.78478,     0.78579,     0.78679,     0.78779,     0.78879,     0.78979,     0.79079,     0.79179,\n",
              "           0.79279,     0.79379,     0.79479,      0.7958,      0.7968,      0.7978,      0.7988,      0.7998,      0.8008,      0.8018,      0.8028,      0.8038,      0.8048,     0.80581,     0.80681,     0.80781,     0.80881,     0.80981,     0.81081,     0.81181,     0.81281,     0.81381,     0.81481,     0.81582,\n",
              "           0.81682,     0.81782,     0.81882,     0.81982,     0.82082,     0.82182,     0.82282,     0.82382,     0.82482,     0.82583,     0.82683,     0.82783,     0.82883,     0.82983,     0.83083,     0.83183,     0.83283,     0.83383,     0.83483,     0.83584,     0.83684,     0.83784,     0.83884,     0.83984,\n",
              "           0.84084,     0.84184,     0.84284,     0.84384,     0.84484,     0.84585,     0.84685,     0.84785,     0.84885,     0.84985,     0.85085,     0.85185,     0.85285,     0.85385,     0.85485,     0.85586,     0.85686,     0.85786,     0.85886,     0.85986,     0.86086,     0.86186,     0.86286,     0.86386,\n",
              "           0.86486,     0.86587,     0.86687,     0.86787,     0.86887,     0.86987,     0.87087,     0.87187,     0.87287,     0.87387,     0.87487,     0.87588,     0.87688,     0.87788,     0.87888,     0.87988,     0.88088,     0.88188,     0.88288,     0.88388,     0.88488,     0.88589,     0.88689,     0.88789,\n",
              "           0.88889,     0.88989,     0.89089,     0.89189,     0.89289,     0.89389,     0.89489,      0.8959,      0.8969,      0.8979,      0.8989,      0.8999,      0.9009,      0.9019,      0.9029,      0.9039,      0.9049,     0.90591,     0.90691,     0.90791,     0.90891,     0.90991,     0.91091,     0.91191,\n",
              "           0.91291,     0.91391,     0.91491,     0.91592,     0.91692,     0.91792,     0.91892,     0.91992,     0.92092,     0.92192,     0.92292,     0.92392,     0.92492,     0.92593,     0.92693,     0.92793,     0.92893,     0.92993,     0.93093,     0.93193,     0.93293,     0.93393,     0.93493,     0.93594,\n",
              "           0.93694,     0.93794,     0.93894,     0.93994,     0.94094,     0.94194,     0.94294,     0.94394,     0.94494,     0.94595,     0.94695,     0.94795,     0.94895,     0.94995,     0.95095,     0.95195,     0.95295,     0.95395,     0.95495,     0.95596,     0.95696,     0.95796,     0.95896,     0.95996,\n",
              "           0.96096,     0.96196,     0.96296,     0.96396,     0.96496,     0.96597,     0.96697,     0.96797,     0.96897,     0.96997,     0.97097,     0.97197,     0.97297,     0.97397,     0.97497,     0.97598,     0.97698,     0.97798,     0.97898,     0.97998,     0.98098,     0.98198,     0.98298,     0.98398,\n",
              "           0.98498,     0.98599,     0.98699,     0.98799,     0.98899,     0.98999,     0.99099,     0.99199,     0.99299,     0.99399,     0.99499,       0.996,       0.997,       0.998,       0.999,           1]), array([[    0.13223,     0.13223,      0.2018,     0.25204,     0.28267,     0.30617,     0.32572,     0.34199,     0.35415,     0.36639,      0.3774,      0.3846,     0.39288,     0.39907,     0.40467,      0.4125,     0.41511,     0.42158,     0.42546,     0.42946,     0.43282,     0.43658,      0.4406,\n",
              "            0.44636,     0.44927,     0.45134,     0.45558,     0.45962,     0.46167,     0.46532,     0.46699,      0.4704,      0.4714,     0.47582,     0.47937,     0.48029,     0.48335,     0.48492,     0.48803,     0.48812,     0.48929,     0.49107,     0.49207,     0.49389,     0.49506,     0.49874,\n",
              "            0.50178,     0.50328,     0.50507,     0.50768,     0.50848,     0.51013,     0.51319,     0.51389,     0.51605,     0.51709,     0.51878,     0.52051,     0.52048,     0.52173,     0.52512,     0.52524,     0.52853,     0.52971,     0.52934,     0.52873,     0.52981,     0.53065,     0.53272,\n",
              "            0.53366,     0.53517,     0.53714,     0.53839,     0.54087,     0.54221,     0.54384,      0.5451,     0.54605,     0.54787,     0.54778,     0.54898,     0.55025,      0.5521,     0.55272,     0.55297,     0.55261,     0.55509,     0.55554,     0.55609,     0.55719,     0.55809,     0.55882,\n",
              "            0.56059,     0.56247,     0.56289,      0.5634,     0.56425,     0.56582,     0.56689,     0.56754,     0.56845,     0.57154,      0.5721,     0.57271,     0.57479,     0.57523,     0.57582,     0.57697,     0.57816,     0.58064,     0.58313,     0.58378,      0.5839,      0.5849,     0.58607,\n",
              "            0.58784,      0.5897,     0.59094,     0.59154,     0.59194,     0.59173,     0.59216,     0.59283,     0.59564,     0.59583,     0.59543,     0.59586,     0.59669,     0.59827,     0.59862,     0.59896,     0.60002,     0.60071,     0.60187,     0.60209,     0.60215,      0.6027,     0.60311,\n",
              "            0.60341,     0.60362,     0.60383,     0.60404,     0.60477,     0.60862,     0.61102,     0.61157,     0.61238,     0.61451,     0.61525,     0.61572,     0.61668,     0.61746,     0.61796,     0.61862,     0.62015,     0.62059,     0.62122,     0.62409,     0.62488,     0.62612,     0.62653,\n",
              "             0.6269,     0.62721,     0.62749,     0.62777,     0.63123,     0.63176,     0.63231,     0.63289,     0.63352,     0.63488,     0.63502,     0.63668,     0.63756,     0.63778,       0.638,     0.63823,     0.63935,     0.63964,     0.63994,     0.64123,     0.64174,     0.64154,     0.64246,\n",
              "            0.64474,     0.64454,     0.64434,     0.64617,     0.64719,     0.64768,     0.64824,     0.64885,     0.64946,     0.64999,     0.65048,      0.6512,     0.65279,     0.65311,     0.65343,     0.65378,     0.65419,     0.65464,     0.65566,     0.65602,     0.65637,     0.65609,      0.6573,\n",
              "            0.65946,     0.66054,      0.6603,     0.66108,     0.66156,     0.66192,     0.66171,      0.6615,     0.66195,     0.66265,     0.66352,     0.66383,     0.66414,     0.66477,     0.66561,     0.66624,     0.66652,      0.6668,     0.66708,     0.66817,     0.66863,     0.66911,     0.66983,\n",
              "             0.6705,     0.67125,     0.67221,     0.67344,     0.67449,     0.67563,     0.67616,      0.6774,      0.6786,     0.67914,     0.68033,     0.68153,     0.68289,     0.68391,     0.68419,     0.68446,     0.68474,     0.68722,      0.6872,     0.68697,     0.68681,     0.68666,     0.68651,\n",
              "            0.68622,     0.68585,     0.68632,     0.68822,     0.68922,      0.6898,     0.69001,     0.69023,     0.69044,     0.69065,     0.69138,     0.69193,     0.69306,     0.69332,     0.69359,     0.69386,     0.69367,     0.69316,     0.69338,     0.69386,     0.69384,     0.69428,     0.69461,\n",
              "            0.69422,     0.69498,      0.6966,     0.69722,     0.69765,     0.69992,     0.70149,     0.70305,     0.70408,     0.70442,     0.70428,     0.70413,     0.70533,     0.70623,     0.70689,     0.70718,     0.70714,      0.7076,     0.70817,     0.70955,     0.71046,     0.71104,     0.71177,\n",
              "            0.71234,     0.71235,     0.71301,     0.71308,     0.71298,     0.71288,     0.71278,     0.71255,     0.71255,     0.71302,     0.71353,     0.71419,     0.71598,     0.71708,     0.71803,     0.71897,     0.71955,     0.72008,     0.72048,     0.72082,     0.72116,     0.72298,      0.7241,\n",
              "            0.72479,      0.7248,     0.72464,     0.72449,     0.72613,     0.72656,     0.72696,     0.72737,     0.72996,     0.73102,      0.7312,     0.73294,     0.73248,     0.73247,     0.73275,     0.73302,      0.7333,     0.73452,     0.73422,     0.73385,     0.73444,     0.73633,     0.73773,\n",
              "             0.7414,     0.74254,     0.74282,     0.74311,     0.74339,     0.74368,     0.74395,     0.74422,     0.74449,     0.74476,     0.74836,     0.74884,     0.74931,     0.74938,     0.74901,     0.74872,     0.74894,     0.74916,     0.74938,      0.7496,     0.74981,     0.75012,     0.75087,\n",
              "            0.75147,     0.75188,     0.75228,     0.75272,     0.75326,     0.75379,     0.75437,     0.75496,     0.75603,     0.75613,     0.75654,     0.75696,     0.75738,     0.75943,     0.76163,     0.76202,     0.76241,     0.76261,      0.7625,     0.76238,     0.76227,     0.76401,     0.76462,\n",
              "            0.76486,     0.76475,     0.76465,     0.76454,     0.76438,     0.76419,     0.76399,     0.76378,     0.76498,     0.76656,     0.76693,      0.7673,     0.76767,     0.76832,     0.76902,     0.76981,     0.77059,     0.77129,       0.772,      0.7727,      0.7731,     0.77296,     0.77348,\n",
              "              0.774,     0.77408,     0.77456,     0.77503,     0.77769,     0.77809,     0.77882,     0.77892,     0.77883,     0.77875,     0.77866,     0.78019,     0.78136,     0.78129,     0.78275,     0.78405,     0.78479,     0.78679,     0.78973,     0.79061,      0.7936,     0.79447,     0.79576,\n",
              "            0.79652,     0.79735,     0.79786,     0.79837,     0.79834,     0.79815,     0.79795,     0.79776,     0.79831,     0.79811,     0.79773,     0.79953,     0.79984,     0.80016,     0.80047,     0.80075,     0.80056,     0.80043,     0.80085,     0.80127,     0.80169,     0.80264,     0.80527,\n",
              "             0.8058,     0.80634,     0.80858,     0.80938,     0.80922,     0.80903,     0.80847,     0.80828,      0.8086,     0.80914,     0.80968,     0.81043,     0.81125,     0.81169,     0.81251,     0.81334,     0.81416,     0.81537,     0.81704,     0.81834,     0.81763,     0.81751,     0.81738,\n",
              "            0.81741,      0.8191,     0.82019,     0.82006,     0.81994,     0.82019,     0.82309,     0.82276,     0.82258,     0.82608,     0.82695,     0.82909,     0.82953,     0.83051,     0.83033,     0.83067,     0.83108,     0.83134,     0.83223,     0.83313,     0.83402,     0.83417,     0.83346,\n",
              "            0.83392,     0.83482,     0.83694,     0.83755,     0.83816,     0.84056,     0.84117,     0.84178,     0.84125,     0.84152,     0.84189,     0.84226,     0.84264,     0.84301,     0.84432,     0.84423,     0.84597,     0.84562,     0.84552,     0.84914,      0.8501,     0.85049,     0.85203,\n",
              "            0.85169,     0.85135,     0.85166,      0.8529,     0.85415,     0.85348,     0.85508,     0.85481,     0.85464,     0.85447,      0.8543,       0.856,     0.85575,     0.85558,     0.85579,      0.8563,      0.8568,     0.85731,     0.85692,     0.85856,      0.8579,     0.85735,     0.85718,\n",
              "            0.85845,     0.85939,     0.86008,     0.86077,     0.86259,     0.86382,     0.86348,       0.864,     0.86823,     0.87039,     0.87118,     0.87095,     0.87079,     0.87209,     0.87357,     0.87467,     0.87493,     0.87482,     0.87472,     0.87554,     0.87665,     0.87846,     0.88034,\n",
              "            0.87956,     0.87941,     0.88148,     0.88072,     0.88062,     0.88054,     0.88045,     0.88035,     0.88025,     0.88014,     0.88271,     0.88329,     0.88387,     0.88445,     0.88391,     0.88376,     0.88633,     0.88751,     0.88981,     0.89186,     0.89108,     0.89084,     0.89235,\n",
              "            0.89205,     0.89671,     0.89665,      0.8966,     0.89654,     0.89648,     0.89609,     0.89594,     0.89512,     0.89492,     0.89605,     0.89595,     0.89585,     0.89569,     0.89514,     0.89498,     0.89478,     0.89421,       0.894,     0.89597,     0.90107,     0.90088,     0.90193,\n",
              "            0.90293,     0.90235,     0.90205,     0.90441,     0.90401,     0.90384,     0.90374,     0.90364,     0.90321,     0.90306,     0.90268,     0.90262,     0.90255,     0.90248,     0.90232,     0.90329,     0.91016,     0.91295,     0.91223,     0.91403,     0.91488,     0.91574,     0.91659,\n",
              "            0.91569,      0.9175,     0.91839,     0.91812,      0.9173,     0.91604,     0.91575,     0.91546,     0.91516,     0.91448,     0.91574,     0.91736,     0.91711,     0.91696,      0.9166,     0.91654,     0.91647,     0.91641,     0.91578,     0.91568,     0.91558,     0.91546,     0.91526,\n",
              "            0.91499,     0.91407,     0.91612,     0.91632,     0.91617,     0.91565,     0.91491,     0.91776,     0.91794,     0.91721,     0.91712,     0.91703,     0.91683,     0.92015,        0.92,     0.92361,     0.92691,     0.92671,     0.92617,     0.92588,      0.9259,     0.92879,     0.92843,\n",
              "            0.92778,     0.93095,     0.93066,     0.93045,     0.93029,     0.93017,     0.93005,     0.92948,     0.92927,     0.92817,     0.93162,     0.93102,     0.93039,     0.92995,     0.92869,     0.92788,     0.92655,     0.92579,     0.92533,     0.92462,     0.92412,     0.92394,     0.92358,\n",
              "            0.92313,     0.92275,     0.92218,     0.92637,     0.92612,     0.93036,     0.92912,     0.92875,     0.93228,     0.93216,     0.93551,      0.9363,     0.93508,     0.93466,      0.9336,     0.93345,     0.93324,     0.93276,     0.93122,     0.93098,     0.93082,     0.93066,     0.93028,\n",
              "            0.92998,     0.92819,     0.92772,      0.9257,     0.93037,     0.92993,     0.92974,     0.92956,     0.92898,     0.92797,     0.92731,     0.92693,     0.92939,     0.93255,     0.92998,     0.92965,     0.92866,     0.93667,     0.94019,     0.93988,     0.93943,     0.93849,     0.93627,\n",
              "            0.94346,     0.94324,     0.94236,     0.94115,     0.94081,     0.93801,     0.93763,     0.93712,     0.93625,     0.93552,     0.94559,     0.95139,     0.95115,     0.95042,     0.95016,      0.9493,     0.95625,     0.95748,     0.95596,     0.95576,     0.95556,     0.96551,     0.96524,\n",
              "            0.96488,     0.96446,     0.96285,      0.9623,     0.96186,     0.96131,     0.96045,     0.96009,     0.95979,     0.95951,     0.96742,     0.97189,     0.97148,      0.9702,     0.96987,     0.96949,     0.96878,     0.96842,           1,           1,           1,           1,           1,\n",
              "                  1,           1,           1,           1,           1,           1,           1,           1,           1,           1,           1,           1,           1,           1,           1,           1,           1,           1,           1,           1,           1,           1,           1,\n",
              "                  1,           1,           1,           1,           1,           1,           1,           1,           1,           1,           1,           1,           1,           1,           1,           1,           1,           1,           1,           1,           1,           1,           1,\n",
              "                  1,           1,           1,           1,           1,           1,           1,           1,           1,           1,           1,           1,           1,           1,           1,           1,           1,           1,           1,           1,           1,           1,           1,\n",
              "                  1,           1,           1,           1,           1,           1,           1,           1,           1,           1,           1,           1,           1,           1,           1,           1,           1,           1,           1,           1,           1,           1,           1,\n",
              "                  1,           1,           1,           1,           1,           1,           1,           1,           1,           1,           1,           1,           1,           1,           1,           1,           1,           1,           1,           1,           1,           1,           1,\n",
              "                  1,           1,           1,           1,           1,           1,           1,           1,           1,           1,           1,           1,           1,           1,           1,           1,           1,           1,           1,           1,           1,           1,           1,\n",
              "                  1,           1,           1,           1,           1,           1,           1,           1,           1,           1,           1,           1,           1,           1,           1,           1,           1,           1,           1,           1,           1,           1,           1,\n",
              "                  1,           1,           1,           1,           1,           1,           1,           1,           1,           1,           1,           1,           1,           1,           1,           1,           1,           1,           1,           1,           1,           1,           1,\n",
              "                  1,           1,           1,           1,           1,           1,           1,           1,           1,           1,           1]]), 'Confidence', 'Precision'], [array([          0,    0.001001,    0.002002,    0.003003,    0.004004,    0.005005,    0.006006,    0.007007,    0.008008,    0.009009,     0.01001,    0.011011,    0.012012,    0.013013,    0.014014,    0.015015,    0.016016,    0.017017,    0.018018,    0.019019,     0.02002,    0.021021,    0.022022,    0.023023,\n",
              "          0.024024,    0.025025,    0.026026,    0.027027,    0.028028,    0.029029,     0.03003,    0.031031,    0.032032,    0.033033,    0.034034,    0.035035,    0.036036,    0.037037,    0.038038,    0.039039,     0.04004,    0.041041,    0.042042,    0.043043,    0.044044,    0.045045,    0.046046,    0.047047,\n",
              "          0.048048,    0.049049,     0.05005,    0.051051,    0.052052,    0.053053,    0.054054,    0.055055,    0.056056,    0.057057,    0.058058,    0.059059,     0.06006,    0.061061,    0.062062,    0.063063,    0.064064,    0.065065,    0.066066,    0.067067,    0.068068,    0.069069,     0.07007,    0.071071,\n",
              "          0.072072,    0.073073,    0.074074,    0.075075,    0.076076,    0.077077,    0.078078,    0.079079,     0.08008,    0.081081,    0.082082,    0.083083,    0.084084,    0.085085,    0.086086,    0.087087,    0.088088,    0.089089,     0.09009,    0.091091,    0.092092,    0.093093,    0.094094,    0.095095,\n",
              "          0.096096,    0.097097,    0.098098,    0.099099,      0.1001,      0.1011,      0.1021,      0.1031,      0.1041,     0.10511,     0.10611,     0.10711,     0.10811,     0.10911,     0.11011,     0.11111,     0.11211,     0.11311,     0.11411,     0.11512,     0.11612,     0.11712,     0.11812,     0.11912,\n",
              "           0.12012,     0.12112,     0.12212,     0.12312,     0.12412,     0.12513,     0.12613,     0.12713,     0.12813,     0.12913,     0.13013,     0.13113,     0.13213,     0.13313,     0.13413,     0.13514,     0.13614,     0.13714,     0.13814,     0.13914,     0.14014,     0.14114,     0.14214,     0.14314,\n",
              "           0.14414,     0.14515,     0.14615,     0.14715,     0.14815,     0.14915,     0.15015,     0.15115,     0.15215,     0.15315,     0.15415,     0.15516,     0.15616,     0.15716,     0.15816,     0.15916,     0.16016,     0.16116,     0.16216,     0.16316,     0.16416,     0.16517,     0.16617,     0.16717,\n",
              "           0.16817,     0.16917,     0.17017,     0.17117,     0.17217,     0.17317,     0.17417,     0.17518,     0.17618,     0.17718,     0.17818,     0.17918,     0.18018,     0.18118,     0.18218,     0.18318,     0.18418,     0.18519,     0.18619,     0.18719,     0.18819,     0.18919,     0.19019,     0.19119,\n",
              "           0.19219,     0.19319,     0.19419,      0.1952,      0.1962,      0.1972,      0.1982,      0.1992,      0.2002,      0.2012,      0.2022,      0.2032,      0.2042,     0.20521,     0.20621,     0.20721,     0.20821,     0.20921,     0.21021,     0.21121,     0.21221,     0.21321,     0.21421,     0.21522,\n",
              "           0.21622,     0.21722,     0.21822,     0.21922,     0.22022,     0.22122,     0.22222,     0.22322,     0.22422,     0.22523,     0.22623,     0.22723,     0.22823,     0.22923,     0.23023,     0.23123,     0.23223,     0.23323,     0.23423,     0.23524,     0.23624,     0.23724,     0.23824,     0.23924,\n",
              "           0.24024,     0.24124,     0.24224,     0.24324,     0.24424,     0.24525,     0.24625,     0.24725,     0.24825,     0.24925,     0.25025,     0.25125,     0.25225,     0.25325,     0.25425,     0.25526,     0.25626,     0.25726,     0.25826,     0.25926,     0.26026,     0.26126,     0.26226,     0.26326,\n",
              "           0.26426,     0.26527,     0.26627,     0.26727,     0.26827,     0.26927,     0.27027,     0.27127,     0.27227,     0.27327,     0.27427,     0.27528,     0.27628,     0.27728,     0.27828,     0.27928,     0.28028,     0.28128,     0.28228,     0.28328,     0.28428,     0.28529,     0.28629,     0.28729,\n",
              "           0.28829,     0.28929,     0.29029,     0.29129,     0.29229,     0.29329,     0.29429,      0.2953,      0.2963,      0.2973,      0.2983,      0.2993,      0.3003,      0.3013,      0.3023,      0.3033,      0.3043,     0.30531,     0.30631,     0.30731,     0.30831,     0.30931,     0.31031,     0.31131,\n",
              "           0.31231,     0.31331,     0.31431,     0.31532,     0.31632,     0.31732,     0.31832,     0.31932,     0.32032,     0.32132,     0.32232,     0.32332,     0.32432,     0.32533,     0.32633,     0.32733,     0.32833,     0.32933,     0.33033,     0.33133,     0.33233,     0.33333,     0.33433,     0.33534,\n",
              "           0.33634,     0.33734,     0.33834,     0.33934,     0.34034,     0.34134,     0.34234,     0.34334,     0.34434,     0.34535,     0.34635,     0.34735,     0.34835,     0.34935,     0.35035,     0.35135,     0.35235,     0.35335,     0.35435,     0.35536,     0.35636,     0.35736,     0.35836,     0.35936,\n",
              "           0.36036,     0.36136,     0.36236,     0.36336,     0.36436,     0.36537,     0.36637,     0.36737,     0.36837,     0.36937,     0.37037,     0.37137,     0.37237,     0.37337,     0.37437,     0.37538,     0.37638,     0.37738,     0.37838,     0.37938,     0.38038,     0.38138,     0.38238,     0.38338,\n",
              "           0.38438,     0.38539,     0.38639,     0.38739,     0.38839,     0.38939,     0.39039,     0.39139,     0.39239,     0.39339,     0.39439,      0.3954,      0.3964,      0.3974,      0.3984,      0.3994,      0.4004,      0.4014,      0.4024,      0.4034,      0.4044,     0.40541,     0.40641,     0.40741,\n",
              "           0.40841,     0.40941,     0.41041,     0.41141,     0.41241,     0.41341,     0.41441,     0.41542,     0.41642,     0.41742,     0.41842,     0.41942,     0.42042,     0.42142,     0.42242,     0.42342,     0.42442,     0.42543,     0.42643,     0.42743,     0.42843,     0.42943,     0.43043,     0.43143,\n",
              "           0.43243,     0.43343,     0.43443,     0.43544,     0.43644,     0.43744,     0.43844,     0.43944,     0.44044,     0.44144,     0.44244,     0.44344,     0.44444,     0.44545,     0.44645,     0.44745,     0.44845,     0.44945,     0.45045,     0.45145,     0.45245,     0.45345,     0.45445,     0.45546,\n",
              "           0.45646,     0.45746,     0.45846,     0.45946,     0.46046,     0.46146,     0.46246,     0.46346,     0.46446,     0.46547,     0.46647,     0.46747,     0.46847,     0.46947,     0.47047,     0.47147,     0.47247,     0.47347,     0.47447,     0.47548,     0.47648,     0.47748,     0.47848,     0.47948,\n",
              "           0.48048,     0.48148,     0.48248,     0.48348,     0.48448,     0.48549,     0.48649,     0.48749,     0.48849,     0.48949,     0.49049,     0.49149,     0.49249,     0.49349,     0.49449,      0.4955,      0.4965,      0.4975,      0.4985,      0.4995,      0.5005,      0.5015,      0.5025,      0.5035,\n",
              "            0.5045,     0.50551,     0.50651,     0.50751,     0.50851,     0.50951,     0.51051,     0.51151,     0.51251,     0.51351,     0.51451,     0.51552,     0.51652,     0.51752,     0.51852,     0.51952,     0.52052,     0.52152,     0.52252,     0.52352,     0.52452,     0.52553,     0.52653,     0.52753,\n",
              "           0.52853,     0.52953,     0.53053,     0.53153,     0.53253,     0.53353,     0.53453,     0.53554,     0.53654,     0.53754,     0.53854,     0.53954,     0.54054,     0.54154,     0.54254,     0.54354,     0.54454,     0.54555,     0.54655,     0.54755,     0.54855,     0.54955,     0.55055,     0.55155,\n",
              "           0.55255,     0.55355,     0.55455,     0.55556,     0.55656,     0.55756,     0.55856,     0.55956,     0.56056,     0.56156,     0.56256,     0.56356,     0.56456,     0.56557,     0.56657,     0.56757,     0.56857,     0.56957,     0.57057,     0.57157,     0.57257,     0.57357,     0.57457,     0.57558,\n",
              "           0.57658,     0.57758,     0.57858,     0.57958,     0.58058,     0.58158,     0.58258,     0.58358,     0.58458,     0.58559,     0.58659,     0.58759,     0.58859,     0.58959,     0.59059,     0.59159,     0.59259,     0.59359,     0.59459,      0.5956,      0.5966,      0.5976,      0.5986,      0.5996,\n",
              "            0.6006,      0.6016,      0.6026,      0.6036,      0.6046,     0.60561,     0.60661,     0.60761,     0.60861,     0.60961,     0.61061,     0.61161,     0.61261,     0.61361,     0.61461,     0.61562,     0.61662,     0.61762,     0.61862,     0.61962,     0.62062,     0.62162,     0.62262,     0.62362,\n",
              "           0.62462,     0.62563,     0.62663,     0.62763,     0.62863,     0.62963,     0.63063,     0.63163,     0.63263,     0.63363,     0.63463,     0.63564,     0.63664,     0.63764,     0.63864,     0.63964,     0.64064,     0.64164,     0.64264,     0.64364,     0.64464,     0.64565,     0.64665,     0.64765,\n",
              "           0.64865,     0.64965,     0.65065,     0.65165,     0.65265,     0.65365,     0.65465,     0.65566,     0.65666,     0.65766,     0.65866,     0.65966,     0.66066,     0.66166,     0.66266,     0.66366,     0.66466,     0.66567,     0.66667,     0.66767,     0.66867,     0.66967,     0.67067,     0.67167,\n",
              "           0.67267,     0.67367,     0.67467,     0.67568,     0.67668,     0.67768,     0.67868,     0.67968,     0.68068,     0.68168,     0.68268,     0.68368,     0.68468,     0.68569,     0.68669,     0.68769,     0.68869,     0.68969,     0.69069,     0.69169,     0.69269,     0.69369,     0.69469,      0.6957,\n",
              "            0.6967,      0.6977,      0.6987,      0.6997,      0.7007,      0.7017,      0.7027,      0.7037,      0.7047,     0.70571,     0.70671,     0.70771,     0.70871,     0.70971,     0.71071,     0.71171,     0.71271,     0.71371,     0.71471,     0.71572,     0.71672,     0.71772,     0.71872,     0.71972,\n",
              "           0.72072,     0.72172,     0.72272,     0.72372,     0.72472,     0.72573,     0.72673,     0.72773,     0.72873,     0.72973,     0.73073,     0.73173,     0.73273,     0.73373,     0.73473,     0.73574,     0.73674,     0.73774,     0.73874,     0.73974,     0.74074,     0.74174,     0.74274,     0.74374,\n",
              "           0.74474,     0.74575,     0.74675,     0.74775,     0.74875,     0.74975,     0.75075,     0.75175,     0.75275,     0.75375,     0.75475,     0.75576,     0.75676,     0.75776,     0.75876,     0.75976,     0.76076,     0.76176,     0.76276,     0.76376,     0.76476,     0.76577,     0.76677,     0.76777,\n",
              "           0.76877,     0.76977,     0.77077,     0.77177,     0.77277,     0.77377,     0.77477,     0.77578,     0.77678,     0.77778,     0.77878,     0.77978,     0.78078,     0.78178,     0.78278,     0.78378,     0.78478,     0.78579,     0.78679,     0.78779,     0.78879,     0.78979,     0.79079,     0.79179,\n",
              "           0.79279,     0.79379,     0.79479,      0.7958,      0.7968,      0.7978,      0.7988,      0.7998,      0.8008,      0.8018,      0.8028,      0.8038,      0.8048,     0.80581,     0.80681,     0.80781,     0.80881,     0.80981,     0.81081,     0.81181,     0.81281,     0.81381,     0.81481,     0.81582,\n",
              "           0.81682,     0.81782,     0.81882,     0.81982,     0.82082,     0.82182,     0.82282,     0.82382,     0.82482,     0.82583,     0.82683,     0.82783,     0.82883,     0.82983,     0.83083,     0.83183,     0.83283,     0.83383,     0.83483,     0.83584,     0.83684,     0.83784,     0.83884,     0.83984,\n",
              "           0.84084,     0.84184,     0.84284,     0.84384,     0.84484,     0.84585,     0.84685,     0.84785,     0.84885,     0.84985,     0.85085,     0.85185,     0.85285,     0.85385,     0.85485,     0.85586,     0.85686,     0.85786,     0.85886,     0.85986,     0.86086,     0.86186,     0.86286,     0.86386,\n",
              "           0.86486,     0.86587,     0.86687,     0.86787,     0.86887,     0.86987,     0.87087,     0.87187,     0.87287,     0.87387,     0.87487,     0.87588,     0.87688,     0.87788,     0.87888,     0.87988,     0.88088,     0.88188,     0.88288,     0.88388,     0.88488,     0.88589,     0.88689,     0.88789,\n",
              "           0.88889,     0.88989,     0.89089,     0.89189,     0.89289,     0.89389,     0.89489,      0.8959,      0.8969,      0.8979,      0.8989,      0.8999,      0.9009,      0.9019,      0.9029,      0.9039,      0.9049,     0.90591,     0.90691,     0.90791,     0.90891,     0.90991,     0.91091,     0.91191,\n",
              "           0.91291,     0.91391,     0.91491,     0.91592,     0.91692,     0.91792,     0.91892,     0.91992,     0.92092,     0.92192,     0.92292,     0.92392,     0.92492,     0.92593,     0.92693,     0.92793,     0.92893,     0.92993,     0.93093,     0.93193,     0.93293,     0.93393,     0.93493,     0.93594,\n",
              "           0.93694,     0.93794,     0.93894,     0.93994,     0.94094,     0.94194,     0.94294,     0.94394,     0.94494,     0.94595,     0.94695,     0.94795,     0.94895,     0.94995,     0.95095,     0.95195,     0.95295,     0.95395,     0.95495,     0.95596,     0.95696,     0.95796,     0.95896,     0.95996,\n",
              "           0.96096,     0.96196,     0.96296,     0.96396,     0.96496,     0.96597,     0.96697,     0.96797,     0.96897,     0.96997,     0.97097,     0.97197,     0.97297,     0.97397,     0.97497,     0.97598,     0.97698,     0.97798,     0.97898,     0.97998,     0.98098,     0.98198,     0.98298,     0.98398,\n",
              "           0.98498,     0.98599,     0.98699,     0.98799,     0.98899,     0.98999,     0.99099,     0.99199,     0.99299,     0.99399,     0.99499,       0.996,       0.997,       0.998,       0.999,           1]), array([[    0.93257,     0.93257,     0.91941,     0.90789,     0.89967,     0.89474,      0.8898,     0.88487,     0.87829,     0.87336,     0.87336,     0.87007,     0.86842,     0.86349,     0.86184,      0.8602,     0.85691,     0.85691,     0.85691,     0.85526,     0.85526,     0.85197,     0.84868,\n",
              "              0.846,     0.84375,     0.84211,     0.84211,     0.84046,     0.84046,     0.84046,     0.84046,     0.84046,     0.84046,     0.84046,     0.84046,     0.83882,     0.83862,     0.83717,     0.83717,     0.83594,     0.83553,     0.83553,     0.83492,     0.83224,     0.83059,     0.82895,\n",
              "             0.8273,     0.82566,     0.82566,     0.82566,     0.82566,     0.82566,     0.82531,     0.82401,     0.82401,     0.82401,     0.82401,     0.82401,       0.823,     0.82072,     0.82027,     0.81908,     0.81743,     0.81512,      0.8139,     0.81086,     0.81086,     0.81086,     0.81086,\n",
              "            0.80921,     0.80921,     0.80921,     0.80921,     0.80921,     0.80921,     0.80921,     0.80921,     0.80921,     0.80918,     0.80757,     0.80757,     0.80592,     0.80592,     0.80592,     0.80566,     0.80449,     0.80428,     0.80428,     0.80099,     0.80099,     0.80099,     0.80099,\n",
              "            0.80099,     0.80099,     0.80099,     0.80016,     0.79934,     0.79934,     0.79934,      0.7977,     0.79605,     0.79605,     0.79605,     0.79605,     0.79605,     0.79605,     0.79605,     0.79605,     0.79605,     0.79605,     0.79605,     0.79587,     0.79441,     0.79441,     0.79441,\n",
              "            0.79441,     0.79441,     0.79276,     0.79276,     0.79276,     0.79144,     0.79112,     0.79112,     0.79112,     0.78947,     0.78672,     0.78618,     0.78618,     0.78618,     0.78618,     0.78618,     0.78618,     0.78618,     0.78618,     0.78394,     0.78289,     0.78289,     0.78289,\n",
              "            0.78289,     0.78289,     0.78289,     0.78289,     0.78289,     0.78289,     0.78289,     0.78289,     0.78289,     0.78289,     0.78289,     0.78289,     0.78289,     0.78289,     0.78289,     0.78125,     0.78125,     0.78125,     0.78125,     0.77961,     0.77961,     0.77961,     0.77961,\n",
              "            0.77961,     0.77961,     0.77961,     0.77961,     0.77961,     0.77961,     0.77961,     0.77961,     0.77961,     0.77961,     0.77838,     0.77796,     0.77796,     0.77796,     0.77796,     0.77796,     0.77796,     0.77796,     0.77796,     0.77796,     0.77796,     0.77632,     0.77632,\n",
              "            0.77608,     0.77541,     0.77473,     0.77467,     0.77467,     0.77467,     0.77467,     0.77467,     0.77467,     0.77467,     0.77467,     0.77303,     0.77303,     0.77303,     0.77303,     0.77303,     0.77303,     0.77303,     0.77303,     0.77303,     0.77303,     0.77187,     0.77138,\n",
              "            0.77138,     0.77132,     0.77047,     0.76974,     0.76974,     0.76961,      0.7689,     0.76819,     0.76809,     0.76809,     0.76809,     0.76809,     0.76809,     0.76809,     0.76809,     0.76809,     0.76809,     0.76809,     0.76809,     0.76809,     0.76809,     0.76809,     0.76809,\n",
              "            0.76809,     0.76809,     0.76809,     0.76809,     0.76683,     0.76645,     0.76645,     0.76645,     0.76645,      0.7648,      0.7648,      0.7648,      0.7648,      0.7648,      0.7648,      0.7648,      0.7648,     0.76316,     0.76242,     0.76162,     0.76105,     0.76051,     0.75997,\n",
              "            0.75896,     0.75764,     0.75658,     0.75658,     0.75658,     0.75658,     0.75658,     0.75658,     0.75658,     0.75658,     0.75658,      0.7536,     0.75329,     0.75329,     0.75329,     0.75329,     0.75233,     0.75053,        0.75,        0.75,     0.74836,     0.74836,     0.74818,\n",
              "            0.74683,     0.74671,     0.74671,     0.74671,     0.74507,     0.74507,     0.74507,     0.74507,     0.74507,     0.74475,     0.74423,     0.74371,     0.74342,     0.74342,     0.74342,      0.7428,     0.74178,     0.74178,     0.74178,     0.74178,     0.74178,     0.74178,     0.74178,\n",
              "            0.74127,     0.74013,     0.74013,     0.73985,      0.7395,     0.73914,     0.73879,     0.73797,     0.73684,     0.73684,     0.73684,     0.73684,     0.73684,     0.73684,     0.73684,     0.73684,     0.73684,     0.73684,     0.73684,     0.73684,     0.73684,     0.73684,     0.73684,\n",
              "            0.73684,     0.73639,     0.73582,     0.73526,      0.7352,     0.73355,     0.73355,     0.73355,     0.73355,     0.73309,     0.73191,     0.73127,     0.72955,     0.72862,     0.72862,     0.72862,     0.72862,     0.72809,     0.72696,     0.72561,     0.72533,     0.72533,     0.72533,\n",
              "            0.72533,     0.72533,     0.72533,     0.72533,     0.72533,     0.72533,     0.72533,     0.72533,     0.72533,     0.72533,     0.72368,     0.72368,     0.72368,     0.72293,     0.72151,     0.72039,     0.72039,     0.72039,     0.72039,     0.72039,     0.72039,     0.72039,     0.72039,\n",
              "            0.72039,     0.72039,     0.72039,     0.72039,     0.72039,     0.72039,     0.72039,     0.72039,     0.72039,     0.71875,     0.71875,     0.71875,     0.71875,     0.71875,     0.71875,     0.71875,     0.71875,     0.71858,     0.71813,     0.71768,     0.71723,     0.71711,     0.71711,\n",
              "            0.71689,     0.71646,     0.71604,     0.71562,       0.715,     0.71425,     0.71346,     0.71262,     0.71217,     0.71217,     0.71217,     0.71217,     0.71217,     0.71217,     0.71217,     0.71217,     0.71217,     0.71217,     0.71217,     0.71217,      0.7117,     0.71053,     0.71053,\n",
              "            0.71053,     0.70888,     0.70888,     0.70888,     0.70771,     0.70724,     0.70724,     0.70696,     0.70661,     0.70625,      0.7059,     0.70559,     0.70533,     0.70395,     0.70395,     0.70395,     0.70395,      0.7023,      0.7023,     0.70175,     0.70066,     0.70066,     0.70066,\n",
              "            0.69737,     0.69737,     0.69737,     0.69737,     0.69672,     0.69588,     0.69504,     0.69419,     0.69006,     0.68922,      0.6876,      0.6875,      0.6875,      0.6875,      0.6875,     0.68745,     0.68661,     0.68586,     0.68586,     0.68586,     0.68586,     0.68586,     0.68586,\n",
              "            0.68586,     0.68586,     0.68586,     0.68586,     0.68371,     0.68286,     0.68038,     0.67953,     0.67928,     0.67928,     0.67928,     0.67928,     0.67928,     0.67763,     0.67763,     0.67763,     0.67763,     0.67599,     0.67599,     0.67434,     0.67105,     0.67048,     0.66992,\n",
              "            0.66941,     0.66941,     0.66769,     0.66713,     0.66656,     0.66612,     0.66573,     0.66426,     0.66342,     0.66283,     0.66283,     0.66223,     0.66118,     0.66085,        0.66,     0.65789,     0.65545,     0.65461,     0.65461,     0.65461,     0.65461,      0.6536,     0.65027,\n",
              "            0.64967,     0.64967,     0.64803,     0.64803,     0.64803,     0.64803,     0.64803,     0.64803,     0.64496,     0.64474,     0.64474,     0.64474,     0.64474,     0.64474,     0.64226,     0.64145,     0.64134,     0.63966,     0.63816,     0.63816,     0.63816,      0.6362,     0.63452,\n",
              "            0.63283,     0.63115,     0.62993,     0.62942,     0.62609,     0.62276,     0.62107,     0.61973,     0.61888,     0.61804,      0.6172,     0.61593,     0.61469,     0.61385,     0.61349,     0.61349,     0.61349,     0.61349,     0.61071,     0.60902,     0.60569,     0.60299,     0.60215,\n",
              "            0.60033,     0.60033,     0.60033,     0.60033,     0.59883,     0.59467,     0.59299,     0.59046,     0.59046,     0.59046,     0.58953,     0.58833,     0.58749,     0.58717,     0.58717,     0.58717,     0.58678,     0.58622,     0.58566,     0.58553,     0.58553,      0.5825,     0.58082,\n",
              "            0.57657,     0.57573,     0.57566,     0.57078,     0.57026,     0.56978,      0.5693,     0.56877,     0.56821,     0.56765,     0.56743,     0.56743,     0.56743,     0.56743,     0.56354,     0.56269,     0.55921,     0.55921,     0.55783,     0.55614,     0.55166,      0.5503,     0.54533,\n",
              "            0.54364,      0.5426,     0.54226,     0.54193,     0.54159,     0.54125,     0.53897,     0.53812,     0.53345,     0.52961,     0.52455,     0.52399,     0.52343,     0.52255,     0.51948,     0.51863,     0.51749,     0.51437,     0.51325,     0.50997,     0.50987,     0.50824,     0.50658,\n",
              "            0.50487,     0.50154,     0.49985,     0.49797,     0.49566,      0.4947,     0.49414,     0.49358,     0.49117,     0.49032,      0.4882,     0.48782,     0.48745,     0.48707,      0.4862,      0.4852,      0.4852,     0.48355,     0.47863,     0.47204,     0.47204,     0.47204,     0.47204,\n",
              "            0.46445,     0.46382,     0.46272,     0.46103,     0.45606,     0.44862,     0.44693,     0.44524,     0.44356,     0.43967,     0.43914,     0.43914,     0.43675,      0.4359,     0.43386,     0.43348,     0.43311,     0.43273,     0.42924,     0.42868,     0.42812,     0.42748,     0.42635,\n",
              "            0.42485,     0.41987,     0.41776,     0.41425,     0.41341,     0.41066,     0.40677,     0.40625,     0.40478,     0.40088,      0.4004,     0.39992,     0.39886,       0.398,     0.39638,     0.39638,     0.39628,     0.39516,     0.39204,     0.39035,     0.38651,     0.38616,     0.38407,\n",
              "            0.38032,     0.37699,      0.3753,     0.37408,     0.37311,     0.37244,     0.37176,     0.36852,     0.36736,      0.3613,     0.35852,     0.35519,     0.35175,     0.34935,     0.34273,     0.33858,     0.33196,     0.32831,     0.32612,     0.32279,      0.3205,     0.31966,     0.31803,\n",
              "            0.31605,     0.31436,     0.31185,      0.3104,     0.30927,     0.30762,     0.30182,     0.30013,     0.29434,     0.29276,     0.29276,      0.2901,      0.2843,     0.28234,      0.2775,     0.27683,     0.27592,     0.27379,     0.26722,     0.26624,     0.26556,     0.26489,     0.26333,\n",
              "            0.26215,     0.25512,     0.25334,      0.2459,     0.24175,      0.2401,     0.23943,     0.23875,     0.23665,     0.23308,     0.23081,      0.2295,     0.22862,      0.2274,     0.21846,     0.21733,     0.21411,     0.21053,     0.20683,     0.20571,     0.20408,     0.20075,     0.19331,\n",
              "            0.19243,     0.19132,     0.18825,     0.18413,     0.18301,     0.17421,     0.17309,      0.1716,     0.16909,     0.16704,     0.16447,     0.16096,     0.16012,     0.15763,     0.15679,       0.154,     0.15132,     0.14816,      0.1428,     0.14213,     0.14145,     0.13814,     0.13701,\n",
              "            0.13558,     0.13389,      0.1279,     0.12594,     0.12444,     0.12259,     0.11982,      0.1187,     0.11779,     0.11695,     0.11513,     0.11374,     0.11206,     0.10708,      0.1059,     0.10453,     0.10207,     0.10088,     0.10026,    0.095345,    0.094221,    0.092001,    0.090877,\n",
              "           0.089753,    0.088676,    0.087833,     0.08693,    0.085806,    0.083659,    0.082816,     0.08171,    0.079456,    0.078538,    0.078057,    0.077575,     0.07657,    0.072466,    0.069094,    0.066863,    0.063995,    0.058978,    0.050672,    0.046677,      0.0437,    0.042202,    0.039313,\n",
              "            0.03847,    0.036023,    0.035348,    0.034674,    0.033639,    0.032326,    0.028385,     0.02599,    0.025147,    0.024304,    0.023461,    0.022793,    0.022312,     0.02183,    0.021335,     0.02066,    0.019986,    0.019524,    0.019187,     0.01885,    0.018513,    0.018176,    0.017669,\n",
              "           0.017107,    0.016545,     0.01605,    0.015568,    0.015086,    0.014605,    0.014123,    0.013641,     0.01316,    0.011342,    0.011004,    0.010667,     0.01033,   0.0099929,   0.0081892,   0.0079484,   0.0077075,   0.0074667,   0.0072259,    0.006985,   0.0067442,   0.0064277,    0.005946,\n",
              "          0.0054643,   0.0049827,    0.003116,   0.0026945,    0.002273,   0.0018516,           0,           0,           0,           0,           0,           0,           0,           0,           0,           0,           0,           0,           0,           0,           0,           0,           0,\n",
              "                  0,           0,           0,           0,           0,           0,           0,           0,           0,           0,           0,           0,           0,           0,           0,           0,           0,           0,           0,           0,           0,           0,           0,\n",
              "                  0,           0,           0,           0,           0,           0,           0,           0,           0,           0,           0,           0,           0,           0,           0,           0,           0,           0,           0,           0,           0,           0,           0,\n",
              "                  0,           0,           0,           0,           0,           0,           0,           0,           0,           0,           0,           0,           0,           0,           0,           0,           0,           0,           0,           0,           0,           0,           0,\n",
              "                  0,           0,           0,           0,           0,           0,           0,           0,           0,           0,           0,           0,           0,           0,           0,           0,           0,           0,           0,           0,           0,           0,           0,\n",
              "                  0,           0,           0,           0,           0,           0,           0,           0,           0,           0,           0]]), 'Confidence', 'Recall'], [array([          0,    0.001001,    0.002002,    0.003003,    0.004004,    0.005005,    0.006006,    0.007007,    0.008008,    0.009009,     0.01001,    0.011011,    0.012012,    0.013013,    0.014014,    0.015015,    0.016016,    0.017017,    0.018018,    0.019019,     0.02002,    0.021021,    0.022022,    0.023023,\n",
              "          0.024024,    0.025025,    0.026026,    0.027027,    0.028028,    0.029029,     0.03003,    0.031031,    0.032032,    0.033033,    0.034034,    0.035035,    0.036036,    0.037037,    0.038038,    0.039039,     0.04004,    0.041041,    0.042042,    0.043043,    0.044044,    0.045045,    0.046046,    0.047047,\n",
              "          0.048048,    0.049049,     0.05005,    0.051051,    0.052052,    0.053053,    0.054054,    0.055055,    0.056056,    0.057057,    0.058058,    0.059059,     0.06006,    0.061061,    0.062062,    0.063063,    0.064064,    0.065065,    0.066066,    0.067067,    0.068068,    0.069069,     0.07007,    0.071071,\n",
              "          0.072072,    0.073073,    0.074074,    0.075075,    0.076076,    0.077077,    0.078078,    0.079079,     0.08008,    0.081081,    0.082082,    0.083083,    0.084084,    0.085085,    0.086086,    0.087087,    0.088088,    0.089089,     0.09009,    0.091091,    0.092092,    0.093093,    0.094094,    0.095095,\n",
              "          0.096096,    0.097097,    0.098098,    0.099099,      0.1001,      0.1011,      0.1021,      0.1031,      0.1041,     0.10511,     0.10611,     0.10711,     0.10811,     0.10911,     0.11011,     0.11111,     0.11211,     0.11311,     0.11411,     0.11512,     0.11612,     0.11712,     0.11812,     0.11912,\n",
              "           0.12012,     0.12112,     0.12212,     0.12312,     0.12412,     0.12513,     0.12613,     0.12713,     0.12813,     0.12913,     0.13013,     0.13113,     0.13213,     0.13313,     0.13413,     0.13514,     0.13614,     0.13714,     0.13814,     0.13914,     0.14014,     0.14114,     0.14214,     0.14314,\n",
              "           0.14414,     0.14515,     0.14615,     0.14715,     0.14815,     0.14915,     0.15015,     0.15115,     0.15215,     0.15315,     0.15415,     0.15516,     0.15616,     0.15716,     0.15816,     0.15916,     0.16016,     0.16116,     0.16216,     0.16316,     0.16416,     0.16517,     0.16617,     0.16717,\n",
              "           0.16817,     0.16917,     0.17017,     0.17117,     0.17217,     0.17317,     0.17417,     0.17518,     0.17618,     0.17718,     0.17818,     0.17918,     0.18018,     0.18118,     0.18218,     0.18318,     0.18418,     0.18519,     0.18619,     0.18719,     0.18819,     0.18919,     0.19019,     0.19119,\n",
              "           0.19219,     0.19319,     0.19419,      0.1952,      0.1962,      0.1972,      0.1982,      0.1992,      0.2002,      0.2012,      0.2022,      0.2032,      0.2042,     0.20521,     0.20621,     0.20721,     0.20821,     0.20921,     0.21021,     0.21121,     0.21221,     0.21321,     0.21421,     0.21522,\n",
              "           0.21622,     0.21722,     0.21822,     0.21922,     0.22022,     0.22122,     0.22222,     0.22322,     0.22422,     0.22523,     0.22623,     0.22723,     0.22823,     0.22923,     0.23023,     0.23123,     0.23223,     0.23323,     0.23423,     0.23524,     0.23624,     0.23724,     0.23824,     0.23924,\n",
              "           0.24024,     0.24124,     0.24224,     0.24324,     0.24424,     0.24525,     0.24625,     0.24725,     0.24825,     0.24925,     0.25025,     0.25125,     0.25225,     0.25325,     0.25425,     0.25526,     0.25626,     0.25726,     0.25826,     0.25926,     0.26026,     0.26126,     0.26226,     0.26326,\n",
              "           0.26426,     0.26527,     0.26627,     0.26727,     0.26827,     0.26927,     0.27027,     0.27127,     0.27227,     0.27327,     0.27427,     0.27528,     0.27628,     0.27728,     0.27828,     0.27928,     0.28028,     0.28128,     0.28228,     0.28328,     0.28428,     0.28529,     0.28629,     0.28729,\n",
              "           0.28829,     0.28929,     0.29029,     0.29129,     0.29229,     0.29329,     0.29429,      0.2953,      0.2963,      0.2973,      0.2983,      0.2993,      0.3003,      0.3013,      0.3023,      0.3033,      0.3043,     0.30531,     0.30631,     0.30731,     0.30831,     0.30931,     0.31031,     0.31131,\n",
              "           0.31231,     0.31331,     0.31431,     0.31532,     0.31632,     0.31732,     0.31832,     0.31932,     0.32032,     0.32132,     0.32232,     0.32332,     0.32432,     0.32533,     0.32633,     0.32733,     0.32833,     0.32933,     0.33033,     0.33133,     0.33233,     0.33333,     0.33433,     0.33534,\n",
              "           0.33634,     0.33734,     0.33834,     0.33934,     0.34034,     0.34134,     0.34234,     0.34334,     0.34434,     0.34535,     0.34635,     0.34735,     0.34835,     0.34935,     0.35035,     0.35135,     0.35235,     0.35335,     0.35435,     0.35536,     0.35636,     0.35736,     0.35836,     0.35936,\n",
              "           0.36036,     0.36136,     0.36236,     0.36336,     0.36436,     0.36537,     0.36637,     0.36737,     0.36837,     0.36937,     0.37037,     0.37137,     0.37237,     0.37337,     0.37437,     0.37538,     0.37638,     0.37738,     0.37838,     0.37938,     0.38038,     0.38138,     0.38238,     0.38338,\n",
              "           0.38438,     0.38539,     0.38639,     0.38739,     0.38839,     0.38939,     0.39039,     0.39139,     0.39239,     0.39339,     0.39439,      0.3954,      0.3964,      0.3974,      0.3984,      0.3994,      0.4004,      0.4014,      0.4024,      0.4034,      0.4044,     0.40541,     0.40641,     0.40741,\n",
              "           0.40841,     0.40941,     0.41041,     0.41141,     0.41241,     0.41341,     0.41441,     0.41542,     0.41642,     0.41742,     0.41842,     0.41942,     0.42042,     0.42142,     0.42242,     0.42342,     0.42442,     0.42543,     0.42643,     0.42743,     0.42843,     0.42943,     0.43043,     0.43143,\n",
              "           0.43243,     0.43343,     0.43443,     0.43544,     0.43644,     0.43744,     0.43844,     0.43944,     0.44044,     0.44144,     0.44244,     0.44344,     0.44444,     0.44545,     0.44645,     0.44745,     0.44845,     0.44945,     0.45045,     0.45145,     0.45245,     0.45345,     0.45445,     0.45546,\n",
              "           0.45646,     0.45746,     0.45846,     0.45946,     0.46046,     0.46146,     0.46246,     0.46346,     0.46446,     0.46547,     0.46647,     0.46747,     0.46847,     0.46947,     0.47047,     0.47147,     0.47247,     0.47347,     0.47447,     0.47548,     0.47648,     0.47748,     0.47848,     0.47948,\n",
              "           0.48048,     0.48148,     0.48248,     0.48348,     0.48448,     0.48549,     0.48649,     0.48749,     0.48849,     0.48949,     0.49049,     0.49149,     0.49249,     0.49349,     0.49449,      0.4955,      0.4965,      0.4975,      0.4985,      0.4995,      0.5005,      0.5015,      0.5025,      0.5035,\n",
              "            0.5045,     0.50551,     0.50651,     0.50751,     0.50851,     0.50951,     0.51051,     0.51151,     0.51251,     0.51351,     0.51451,     0.51552,     0.51652,     0.51752,     0.51852,     0.51952,     0.52052,     0.52152,     0.52252,     0.52352,     0.52452,     0.52553,     0.52653,     0.52753,\n",
              "           0.52853,     0.52953,     0.53053,     0.53153,     0.53253,     0.53353,     0.53453,     0.53554,     0.53654,     0.53754,     0.53854,     0.53954,     0.54054,     0.54154,     0.54254,     0.54354,     0.54454,     0.54555,     0.54655,     0.54755,     0.54855,     0.54955,     0.55055,     0.55155,\n",
              "           0.55255,     0.55355,     0.55455,     0.55556,     0.55656,     0.55756,     0.55856,     0.55956,     0.56056,     0.56156,     0.56256,     0.56356,     0.56456,     0.56557,     0.56657,     0.56757,     0.56857,     0.56957,     0.57057,     0.57157,     0.57257,     0.57357,     0.57457,     0.57558,\n",
              "           0.57658,     0.57758,     0.57858,     0.57958,     0.58058,     0.58158,     0.58258,     0.58358,     0.58458,     0.58559,     0.58659,     0.58759,     0.58859,     0.58959,     0.59059,     0.59159,     0.59259,     0.59359,     0.59459,      0.5956,      0.5966,      0.5976,      0.5986,      0.5996,\n",
              "            0.6006,      0.6016,      0.6026,      0.6036,      0.6046,     0.60561,     0.60661,     0.60761,     0.60861,     0.60961,     0.61061,     0.61161,     0.61261,     0.61361,     0.61461,     0.61562,     0.61662,     0.61762,     0.61862,     0.61962,     0.62062,     0.62162,     0.62262,     0.62362,\n",
              "           0.62462,     0.62563,     0.62663,     0.62763,     0.62863,     0.62963,     0.63063,     0.63163,     0.63263,     0.63363,     0.63463,     0.63564,     0.63664,     0.63764,     0.63864,     0.63964,     0.64064,     0.64164,     0.64264,     0.64364,     0.64464,     0.64565,     0.64665,     0.64765,\n",
              "           0.64865,     0.64965,     0.65065,     0.65165,     0.65265,     0.65365,     0.65465,     0.65566,     0.65666,     0.65766,     0.65866,     0.65966,     0.66066,     0.66166,     0.66266,     0.66366,     0.66466,     0.66567,     0.66667,     0.66767,     0.66867,     0.66967,     0.67067,     0.67167,\n",
              "           0.67267,     0.67367,     0.67467,     0.67568,     0.67668,     0.67768,     0.67868,     0.67968,     0.68068,     0.68168,     0.68268,     0.68368,     0.68468,     0.68569,     0.68669,     0.68769,     0.68869,     0.68969,     0.69069,     0.69169,     0.69269,     0.69369,     0.69469,      0.6957,\n",
              "            0.6967,      0.6977,      0.6987,      0.6997,      0.7007,      0.7017,      0.7027,      0.7037,      0.7047,     0.70571,     0.70671,     0.70771,     0.70871,     0.70971,     0.71071,     0.71171,     0.71271,     0.71371,     0.71471,     0.71572,     0.71672,     0.71772,     0.71872,     0.71972,\n",
              "           0.72072,     0.72172,     0.72272,     0.72372,     0.72472,     0.72573,     0.72673,     0.72773,     0.72873,     0.72973,     0.73073,     0.73173,     0.73273,     0.73373,     0.73473,     0.73574,     0.73674,     0.73774,     0.73874,     0.73974,     0.74074,     0.74174,     0.74274,     0.74374,\n",
              "           0.74474,     0.74575,     0.74675,     0.74775,     0.74875,     0.74975,     0.75075,     0.75175,     0.75275,     0.75375,     0.75475,     0.75576,     0.75676,     0.75776,     0.75876,     0.75976,     0.76076,     0.76176,     0.76276,     0.76376,     0.76476,     0.76577,     0.76677,     0.76777,\n",
              "           0.76877,     0.76977,     0.77077,     0.77177,     0.77277,     0.77377,     0.77477,     0.77578,     0.77678,     0.77778,     0.77878,     0.77978,     0.78078,     0.78178,     0.78278,     0.78378,     0.78478,     0.78579,     0.78679,     0.78779,     0.78879,     0.78979,     0.79079,     0.79179,\n",
              "           0.79279,     0.79379,     0.79479,      0.7958,      0.7968,      0.7978,      0.7988,      0.7998,      0.8008,      0.8018,      0.8028,      0.8038,      0.8048,     0.80581,     0.80681,     0.80781,     0.80881,     0.80981,     0.81081,     0.81181,     0.81281,     0.81381,     0.81481,     0.81582,\n",
              "           0.81682,     0.81782,     0.81882,     0.81982,     0.82082,     0.82182,     0.82282,     0.82382,     0.82482,     0.82583,     0.82683,     0.82783,     0.82883,     0.82983,     0.83083,     0.83183,     0.83283,     0.83383,     0.83483,     0.83584,     0.83684,     0.83784,     0.83884,     0.83984,\n",
              "           0.84084,     0.84184,     0.84284,     0.84384,     0.84484,     0.84585,     0.84685,     0.84785,     0.84885,     0.84985,     0.85085,     0.85185,     0.85285,     0.85385,     0.85485,     0.85586,     0.85686,     0.85786,     0.85886,     0.85986,     0.86086,     0.86186,     0.86286,     0.86386,\n",
              "           0.86486,     0.86587,     0.86687,     0.86787,     0.86887,     0.86987,     0.87087,     0.87187,     0.87287,     0.87387,     0.87487,     0.87588,     0.87688,     0.87788,     0.87888,     0.87988,     0.88088,     0.88188,     0.88288,     0.88388,     0.88488,     0.88589,     0.88689,     0.88789,\n",
              "           0.88889,     0.88989,     0.89089,     0.89189,     0.89289,     0.89389,     0.89489,      0.8959,      0.8969,      0.8979,      0.8989,      0.8999,      0.9009,      0.9019,      0.9029,      0.9039,      0.9049,     0.90591,     0.90691,     0.90791,     0.90891,     0.90991,     0.91091,     0.91191,\n",
              "           0.91291,     0.91391,     0.91491,     0.91592,     0.91692,     0.91792,     0.91892,     0.91992,     0.92092,     0.92192,     0.92292,     0.92392,     0.92492,     0.92593,     0.92693,     0.92793,     0.92893,     0.92993,     0.93093,     0.93193,     0.93293,     0.93393,     0.93493,     0.93594,\n",
              "           0.93694,     0.93794,     0.93894,     0.93994,     0.94094,     0.94194,     0.94294,     0.94394,     0.94494,     0.94595,     0.94695,     0.94795,     0.94895,     0.94995,     0.95095,     0.95195,     0.95295,     0.95395,     0.95495,     0.95596,     0.95696,     0.95796,     0.95896,     0.95996,\n",
              "           0.96096,     0.96196,     0.96296,     0.96396,     0.96496,     0.96597,     0.96697,     0.96797,     0.96897,     0.96997,     0.97097,     0.97197,     0.97297,     0.97397,     0.97497,     0.97598,     0.97698,     0.97798,     0.97898,     0.97998,     0.98098,     0.98198,     0.98298,     0.98398,\n",
              "           0.98498,     0.98599,     0.98699,     0.98799,     0.98899,     0.98999,     0.99099,     0.99199,     0.99299,     0.99399,     0.99499,       0.996,       0.997,       0.998,       0.999,           1]), array([[          1,           1,           1,           1,           1,         0.8,         0.8,     0.71429,     0.71429,         0.6,     0.46667,     0.46667,     0.34615,     0.34615,     0.34615,     0.23333,     0.23333,     0.23333,     0.23333,     0.23333,     0.23333,     0.23333,     0.23333,\n",
              "            0.23333,     0.20833,         0.2,         0.2,         0.2,     0.19084,     0.19084,     0.19084,     0.19084,     0.19084,     0.19084,     0.19084,     0.19084,     0.19084,     0.19084,     0.19084,     0.19084,     0.19084,     0.19084,      0.1716,      0.1716,      0.1716,      0.1716,\n",
              "             0.1716,      0.1716,      0.1676,      0.1676,     0.16176,     0.16176,     0.16176,     0.16176,     0.16176,     0.15584,     0.15584,     0.15584,     0.15584,     0.15584,     0.14919,     0.13768,     0.13768,     0.13087,     0.13087,     0.12862,     0.12349,     0.12349,     0.12251,\n",
              "            0.12251,     0.12251,     0.11168,     0.11168,     0.10588,    0.093306,    0.093306,    0.090211,    0.090211,    0.084656,    0.084483,    0.084483,    0.020292,    0.020292,    0.012633,    0.011891,    0.011878,    0.011865,    0.011852,    0.011839,    0.011826,    0.011813,      0.0118,\n",
              "           0.011787,    0.011774,    0.011761,    0.011748,    0.011735,    0.011722,    0.011709,    0.011696,    0.011683,     0.01167,    0.011657,    0.011644,    0.011631,    0.011618,    0.011605,    0.011592,    0.011579,    0.011566,    0.011553,     0.01154,    0.011527,    0.011514,    0.011501,\n",
              "           0.011488,    0.011475,    0.011462,    0.011449,    0.011436,    0.011423,     0.01141,    0.011397,    0.011384,    0.011371,    0.011358,    0.011345,    0.011332,    0.011319,    0.011306,    0.011293,     0.01128,    0.011267,    0.011254,    0.011241,    0.011228,    0.011215,    0.011202,\n",
              "           0.011189,    0.011176,    0.011163,     0.01115,    0.011137,    0.011124,    0.011111,    0.011098,    0.011085,    0.011072,    0.011059,    0.011046,    0.011033,     0.01102,    0.011007,    0.010994,    0.010981,    0.010968,    0.010955,    0.010942,    0.010929,    0.010916,    0.010903,\n",
              "            0.01089,    0.010877,    0.010864,    0.010851,    0.010838,    0.010825,    0.010812,    0.010799,    0.010786,    0.010773,     0.01076,    0.010747,    0.010734,    0.010721,    0.010708,    0.010695,    0.010682,    0.010669,    0.010656,    0.010643,     0.01063,    0.010617,    0.010604,\n",
              "           0.010591,    0.010578,    0.010565,    0.010552,    0.010539,    0.010526,    0.010513,      0.0105,    0.010487,    0.010475,    0.010462,    0.010449,    0.010436,    0.010423,     0.01041,    0.010397,    0.010384,    0.010371,    0.010358,    0.010345,    0.010332,    0.010319,    0.010306,\n",
              "           0.010293,     0.01028,    0.010267,    0.010254,    0.010241,    0.010228,    0.010215,    0.010202,    0.010189,    0.010176,    0.010163,     0.01015,    0.010137,    0.010124,    0.010111,    0.010098,    0.010085,    0.010072,    0.010059,    0.010046,    0.010033,     0.01002,    0.010007,\n",
              "          0.0099937,   0.0099807,   0.0099677,   0.0099547,   0.0099417,   0.0099287,   0.0099157,   0.0099027,   0.0098897,   0.0098767,   0.0098637,   0.0098507,   0.0098377,   0.0098247,   0.0098117,   0.0097987,   0.0097857,   0.0097727,   0.0097597,   0.0097467,   0.0097337,   0.0097208,   0.0097078,\n",
              "          0.0096948,   0.0096818,   0.0096688,   0.0096558,   0.0096428,   0.0096298,   0.0096168,   0.0096038,   0.0095908,   0.0095778,   0.0095648,   0.0095518,   0.0095388,   0.0095258,   0.0095128,   0.0094998,   0.0094868,   0.0094738,   0.0094608,   0.0094478,   0.0094348,   0.0094219,   0.0094089,\n",
              "          0.0093959,   0.0093829,   0.0093699,   0.0093569,   0.0093439,   0.0093309,   0.0093179,   0.0093049,   0.0092919,   0.0092789,   0.0092659,   0.0092529,   0.0092399,   0.0092269,   0.0092139,   0.0092009,   0.0091879,   0.0091749,   0.0091619,   0.0091489,   0.0091359,    0.009123,     0.00911,\n",
              "           0.009097,    0.009084,    0.009071,    0.009058,    0.009045,    0.009032,    0.009019,    0.009006,    0.008993,     0.00898,    0.008967,    0.008954,    0.008941,    0.008928,    0.008915,    0.008902,    0.008889,    0.008876,    0.008863,     0.00885,    0.008837,   0.0088241,   0.0088111,\n",
              "          0.0087981,   0.0087851,   0.0087721,   0.0087591,   0.0087461,   0.0087331,   0.0087201,   0.0087071,   0.0086941,   0.0086811,   0.0086681,   0.0086551,   0.0086421,   0.0086291,   0.0086161,   0.0086031,   0.0085901,   0.0085771,   0.0085641,   0.0085511,   0.0085381,   0.0085252,   0.0085122,\n",
              "          0.0084992,   0.0084862,   0.0084732,   0.0084602,   0.0084472,   0.0084342,   0.0084212,   0.0084082,   0.0083952,   0.0083822,   0.0083692,   0.0083562,   0.0083432,   0.0083302,   0.0083172,   0.0083042,   0.0082912,   0.0082782,   0.0082652,   0.0082522,   0.0082392,   0.0082263,   0.0082133,\n",
              "          0.0082003,   0.0081873,   0.0081743,   0.0081613,   0.0081483,   0.0081353,   0.0081223,   0.0081093,   0.0080963,   0.0080833,   0.0080703,   0.0080573,   0.0080443,   0.0080313,   0.0080183,   0.0080053,   0.0079923,   0.0079793,   0.0079663,   0.0079533,   0.0079403,   0.0079274,   0.0079144,\n",
              "          0.0079014,   0.0078884,   0.0078754,   0.0078624,   0.0078494,   0.0078364,   0.0078234,   0.0078104,   0.0077974,   0.0077844,   0.0077714,   0.0077584,   0.0077454,   0.0077324,   0.0077194,   0.0077064,   0.0076934,   0.0076804,   0.0076674,   0.0076544,   0.0076414,   0.0076285,   0.0076155,\n",
              "          0.0076025,   0.0075895,   0.0075765,   0.0075635,   0.0075505,   0.0075375,   0.0075245,   0.0075115,   0.0074985,   0.0074855,   0.0074725,   0.0074595,   0.0074465,   0.0074335,   0.0074205,   0.0074075,   0.0073945,   0.0073815,   0.0073685,   0.0073555,   0.0073425,   0.0073296,   0.0073166,\n",
              "          0.0073036,   0.0072906,   0.0072776,   0.0072646,   0.0072516,   0.0072386,   0.0072256,   0.0072126,   0.0071996,   0.0071866,   0.0071736,   0.0071606,   0.0071476,   0.0071346,   0.0071216,   0.0071086,   0.0070956,   0.0070826,   0.0070696,   0.0070566,   0.0070436,   0.0070307,   0.0070177,\n",
              "          0.0070047,   0.0069917,   0.0069787,   0.0069657,   0.0069527,   0.0069397,   0.0069267,   0.0069137,   0.0069007,   0.0068877,   0.0068747,   0.0068617,   0.0068487,   0.0068357,   0.0068227,   0.0068097,   0.0067967,   0.0067837,   0.0067707,   0.0067577,   0.0067447,   0.0067318,   0.0067188,\n",
              "          0.0067058,   0.0066928,   0.0066798,   0.0066668,   0.0066538,   0.0066408,   0.0066278,   0.0066148,   0.0066018,   0.0065888,   0.0065758,   0.0065628,   0.0065498,   0.0065368,   0.0065238,   0.0065108,   0.0064978,   0.0064848,   0.0064718,   0.0064588,   0.0064458,   0.0064329,   0.0064199,\n",
              "          0.0064069,   0.0063939,   0.0063809,   0.0063679,   0.0063549,   0.0063419,   0.0063289,   0.0063159,   0.0063029,   0.0062899,   0.0062769,   0.0062639,   0.0062509,   0.0062379,   0.0062249,   0.0062119,   0.0061989,   0.0061859,   0.0061729,   0.0061599,   0.0061469,    0.006134,    0.006121,\n",
              "           0.006108,    0.006095,    0.006082,    0.006069,    0.006056,    0.006043,     0.00603,    0.006017,    0.006004,    0.005991,    0.005978,    0.005965,    0.005952,    0.005939,    0.005926,    0.005913,      0.0059,    0.005887,    0.005874,    0.005861,    0.005848,   0.0058351,   0.0058221,\n",
              "          0.0058091,   0.0057961,   0.0057831,   0.0057701,   0.0057571,   0.0057441,   0.0057311,   0.0057181,   0.0057051,   0.0056921,   0.0056791,   0.0056661,   0.0056531,   0.0056401,   0.0056271,   0.0056141,   0.0056011,   0.0055881,   0.0055751,   0.0055621,   0.0055491,   0.0055362,   0.0055232,\n",
              "          0.0055102,   0.0054972,   0.0054842,   0.0054712,   0.0054582,   0.0054452,   0.0054322,   0.0054192,   0.0054062,   0.0053932,   0.0053802,   0.0053672,   0.0053542,   0.0053412,   0.0053282,   0.0053152,   0.0053022,   0.0052892,   0.0052762,   0.0052632,   0.0052502,   0.0052373,   0.0052243,\n",
              "          0.0052113,   0.0051983,   0.0051853,   0.0051723,   0.0051593,   0.0051463,   0.0051333,   0.0051203,   0.0051073,   0.0050943,   0.0050813,   0.0050683,   0.0050553,   0.0050423,   0.0050293,   0.0050163,   0.0050033,   0.0049903,   0.0049773,   0.0049643,   0.0049513,   0.0049384,   0.0049254,\n",
              "          0.0049124,   0.0048994,   0.0048864,   0.0048734,   0.0048604,   0.0048474,   0.0048344,   0.0048214,   0.0048084,   0.0047954,   0.0047824,   0.0047694,   0.0047564,   0.0047434,   0.0047304,   0.0047174,   0.0047044,   0.0046914,   0.0046784,   0.0046654,   0.0046524,   0.0046395,   0.0046265,\n",
              "          0.0046135,   0.0046005,   0.0045875,   0.0045745,   0.0045615,   0.0045485,   0.0045355,   0.0045225,   0.0045095,   0.0044965,   0.0044835,   0.0044705,   0.0044575,   0.0044445,   0.0044315,   0.0044185,   0.0044055,   0.0043925,   0.0043795,   0.0043665,   0.0043535,   0.0043405,   0.0043276,\n",
              "          0.0043146,   0.0043016,   0.0042886,   0.0042756,   0.0042626,   0.0042496,   0.0042366,   0.0042236,   0.0042106,   0.0041976,   0.0041846,   0.0041716,   0.0041586,   0.0041456,   0.0041326,   0.0041196,   0.0041066,   0.0040936,   0.0040806,   0.0040676,   0.0040546,   0.0040416,   0.0040287,\n",
              "          0.0040157,   0.0040027,   0.0039897,   0.0039767,   0.0039637,   0.0039507,   0.0039377,   0.0039247,   0.0039117,   0.0038987,   0.0038857,   0.0038727,   0.0038597,   0.0038467,   0.0038337,   0.0038207,   0.0038077,   0.0037947,   0.0037817,   0.0037687,   0.0037557,   0.0037427,   0.0037298,\n",
              "          0.0037168,   0.0037038,   0.0036908,   0.0036778,   0.0036648,   0.0036518,   0.0036388,   0.0036258,   0.0036128,   0.0035998,   0.0035868,   0.0035738,   0.0035608,   0.0035478,   0.0035348,   0.0035218,   0.0035088,   0.0034958,   0.0034828,   0.0034698,   0.0034568,   0.0034438,   0.0034309,\n",
              "          0.0034179,   0.0034049,   0.0033919,   0.0033789,   0.0033659,   0.0033529,   0.0033399,   0.0033269,   0.0033139,   0.0033009,   0.0032879,   0.0032749,   0.0032619,   0.0032489,   0.0032359,   0.0032229,   0.0032099,   0.0031969,   0.0031839,   0.0031709,   0.0031579,   0.0031449,    0.003132,\n",
              "           0.003119,    0.003106,    0.003093,     0.00308,    0.003067,    0.003054,    0.003041,    0.003028,    0.003015,    0.003002,    0.002989,    0.002976,    0.002963,     0.00295,    0.002937,    0.002924,    0.002911,    0.002898,    0.002885,    0.002872,    0.002859,    0.002846,   0.0028331,\n",
              "          0.0028201,   0.0028071,   0.0027941,   0.0027811,   0.0027681,   0.0027551,   0.0027421,   0.0027291,   0.0027161,   0.0027031,   0.0026901,   0.0026771,   0.0026641,   0.0026511,   0.0026381,   0.0026251,   0.0026121,   0.0025991,   0.0025861,   0.0025731,   0.0025601,   0.0025471,   0.0025342,\n",
              "          0.0025212,   0.0025082,   0.0024952,   0.0024822,   0.0024692,   0.0024562,   0.0024432,   0.0024302,   0.0024172,   0.0024042,   0.0023912,   0.0023782,   0.0023652,   0.0023522,   0.0023392,   0.0023262,   0.0023132,   0.0023002,   0.0022872,   0.0022742,   0.0022612,   0.0022482,   0.0022353,\n",
              "          0.0022223,   0.0022093,   0.0021963,   0.0021833,   0.0021703,   0.0021573,   0.0021443,   0.0021313,   0.0021183,   0.0021053,   0.0020923,   0.0020793,   0.0020663,   0.0020533,   0.0020403,   0.0020273,   0.0020143,   0.0020013,   0.0019883,   0.0019753,   0.0019623,   0.0019493,   0.0019364,\n",
              "          0.0019234,   0.0019104,   0.0018974,   0.0018844,   0.0018714,   0.0018584,   0.0018454,   0.0018324,   0.0018194,   0.0018064,   0.0017934,   0.0017804,   0.0017674,   0.0017544,   0.0017414,   0.0017284,   0.0017154,   0.0017024,   0.0016894,   0.0016764,   0.0016634,   0.0016504,   0.0016375,\n",
              "          0.0016245,   0.0016115,   0.0015985,   0.0015855,   0.0015725,   0.0015595,   0.0015465,   0.0015335,   0.0015205,   0.0015075,   0.0014945,   0.0014815,   0.0014685,   0.0014555,   0.0014425,   0.0014295,   0.0014165,   0.0014035,   0.0013905,   0.0013775,   0.0013645,   0.0013515,   0.0013386,\n",
              "          0.0013256,   0.0013126,   0.0012996,   0.0012866,   0.0012736,   0.0012606,   0.0012476,   0.0012346,   0.0012216,   0.0012086,   0.0011956,   0.0011826,   0.0011696,   0.0011566,   0.0011436,   0.0011306,   0.0011176,   0.0011046,   0.0010916,   0.0010786,   0.0010656,   0.0010526,   0.0010397,\n",
              "          0.0010267,   0.0010137,   0.0010007,  0.00098767,  0.00097467,  0.00096168,  0.00094868,  0.00093569,  0.00092269,   0.0009097,   0.0008967,   0.0008837,  0.00087071,  0.00085771,  0.00084472,  0.00083172,  0.00081873,  0.00080573,  0.00079274,  0.00077974,  0.00076674,  0.00075375,  0.00074075,\n",
              "         0.00072776,  0.00071476,  0.00070177,  0.00068877,  0.00067577,  0.00066278,  0.00064978,  0.00063679,  0.00062379,   0.0006108,   0.0005978,   0.0005848,  0.00057181,  0.00055881,  0.00054582,  0.00053282,  0.00051983,  0.00050683,  0.00049384,  0.00048084,  0.00046784,  0.00045485,  0.00044185,\n",
              "         0.00042886,  0.00041586,  0.00040287,  0.00038987,  0.00037687,  0.00036388,  0.00035088,  0.00033789,  0.00032489,   0.0003119,   0.0002989,   0.0002859,  0.00027291,  0.00025991,  0.00024692,  0.00023392,  0.00022093,  0.00020793,  0.00019493,  0.00018194,  0.00016894,  0.00015595,  0.00014295,\n",
              "         0.00012996,  0.00011696,  0.00010397,   9.097e-05,  7.7974e-05,  6.4978e-05,  5.1983e-05,  3.8987e-05,  2.5991e-05,  1.2996e-05,           0]]), 'Recall', 'Precision'], [array([          0,    0.001001,    0.002002,    0.003003,    0.004004,    0.005005,    0.006006,    0.007007,    0.008008,    0.009009,     0.01001,    0.011011,    0.012012,    0.013013,    0.014014,    0.015015,    0.016016,    0.017017,    0.018018,    0.019019,     0.02002,    0.021021,    0.022022,    0.023023,\n",
              "          0.024024,    0.025025,    0.026026,    0.027027,    0.028028,    0.029029,     0.03003,    0.031031,    0.032032,    0.033033,    0.034034,    0.035035,    0.036036,    0.037037,    0.038038,    0.039039,     0.04004,    0.041041,    0.042042,    0.043043,    0.044044,    0.045045,    0.046046,    0.047047,\n",
              "          0.048048,    0.049049,     0.05005,    0.051051,    0.052052,    0.053053,    0.054054,    0.055055,    0.056056,    0.057057,    0.058058,    0.059059,     0.06006,    0.061061,    0.062062,    0.063063,    0.064064,    0.065065,    0.066066,    0.067067,    0.068068,    0.069069,     0.07007,    0.071071,\n",
              "          0.072072,    0.073073,    0.074074,    0.075075,    0.076076,    0.077077,    0.078078,    0.079079,     0.08008,    0.081081,    0.082082,    0.083083,    0.084084,    0.085085,    0.086086,    0.087087,    0.088088,    0.089089,     0.09009,    0.091091,    0.092092,    0.093093,    0.094094,    0.095095,\n",
              "          0.096096,    0.097097,    0.098098,    0.099099,      0.1001,      0.1011,      0.1021,      0.1031,      0.1041,     0.10511,     0.10611,     0.10711,     0.10811,     0.10911,     0.11011,     0.11111,     0.11211,     0.11311,     0.11411,     0.11512,     0.11612,     0.11712,     0.11812,     0.11912,\n",
              "           0.12012,     0.12112,     0.12212,     0.12312,     0.12412,     0.12513,     0.12613,     0.12713,     0.12813,     0.12913,     0.13013,     0.13113,     0.13213,     0.13313,     0.13413,     0.13514,     0.13614,     0.13714,     0.13814,     0.13914,     0.14014,     0.14114,     0.14214,     0.14314,\n",
              "           0.14414,     0.14515,     0.14615,     0.14715,     0.14815,     0.14915,     0.15015,     0.15115,     0.15215,     0.15315,     0.15415,     0.15516,     0.15616,     0.15716,     0.15816,     0.15916,     0.16016,     0.16116,     0.16216,     0.16316,     0.16416,     0.16517,     0.16617,     0.16717,\n",
              "           0.16817,     0.16917,     0.17017,     0.17117,     0.17217,     0.17317,     0.17417,     0.17518,     0.17618,     0.17718,     0.17818,     0.17918,     0.18018,     0.18118,     0.18218,     0.18318,     0.18418,     0.18519,     0.18619,     0.18719,     0.18819,     0.18919,     0.19019,     0.19119,\n",
              "           0.19219,     0.19319,     0.19419,      0.1952,      0.1962,      0.1972,      0.1982,      0.1992,      0.2002,      0.2012,      0.2022,      0.2032,      0.2042,     0.20521,     0.20621,     0.20721,     0.20821,     0.20921,     0.21021,     0.21121,     0.21221,     0.21321,     0.21421,     0.21522,\n",
              "           0.21622,     0.21722,     0.21822,     0.21922,     0.22022,     0.22122,     0.22222,     0.22322,     0.22422,     0.22523,     0.22623,     0.22723,     0.22823,     0.22923,     0.23023,     0.23123,     0.23223,     0.23323,     0.23423,     0.23524,     0.23624,     0.23724,     0.23824,     0.23924,\n",
              "           0.24024,     0.24124,     0.24224,     0.24324,     0.24424,     0.24525,     0.24625,     0.24725,     0.24825,     0.24925,     0.25025,     0.25125,     0.25225,     0.25325,     0.25425,     0.25526,     0.25626,     0.25726,     0.25826,     0.25926,     0.26026,     0.26126,     0.26226,     0.26326,\n",
              "           0.26426,     0.26527,     0.26627,     0.26727,     0.26827,     0.26927,     0.27027,     0.27127,     0.27227,     0.27327,     0.27427,     0.27528,     0.27628,     0.27728,     0.27828,     0.27928,     0.28028,     0.28128,     0.28228,     0.28328,     0.28428,     0.28529,     0.28629,     0.28729,\n",
              "           0.28829,     0.28929,     0.29029,     0.29129,     0.29229,     0.29329,     0.29429,      0.2953,      0.2963,      0.2973,      0.2983,      0.2993,      0.3003,      0.3013,      0.3023,      0.3033,      0.3043,     0.30531,     0.30631,     0.30731,     0.30831,     0.30931,     0.31031,     0.31131,\n",
              "           0.31231,     0.31331,     0.31431,     0.31532,     0.31632,     0.31732,     0.31832,     0.31932,     0.32032,     0.32132,     0.32232,     0.32332,     0.32432,     0.32533,     0.32633,     0.32733,     0.32833,     0.32933,     0.33033,     0.33133,     0.33233,     0.33333,     0.33433,     0.33534,\n",
              "           0.33634,     0.33734,     0.33834,     0.33934,     0.34034,     0.34134,     0.34234,     0.34334,     0.34434,     0.34535,     0.34635,     0.34735,     0.34835,     0.34935,     0.35035,     0.35135,     0.35235,     0.35335,     0.35435,     0.35536,     0.35636,     0.35736,     0.35836,     0.35936,\n",
              "           0.36036,     0.36136,     0.36236,     0.36336,     0.36436,     0.36537,     0.36637,     0.36737,     0.36837,     0.36937,     0.37037,     0.37137,     0.37237,     0.37337,     0.37437,     0.37538,     0.37638,     0.37738,     0.37838,     0.37938,     0.38038,     0.38138,     0.38238,     0.38338,\n",
              "           0.38438,     0.38539,     0.38639,     0.38739,     0.38839,     0.38939,     0.39039,     0.39139,     0.39239,     0.39339,     0.39439,      0.3954,      0.3964,      0.3974,      0.3984,      0.3994,      0.4004,      0.4014,      0.4024,      0.4034,      0.4044,     0.40541,     0.40641,     0.40741,\n",
              "           0.40841,     0.40941,     0.41041,     0.41141,     0.41241,     0.41341,     0.41441,     0.41542,     0.41642,     0.41742,     0.41842,     0.41942,     0.42042,     0.42142,     0.42242,     0.42342,     0.42442,     0.42543,     0.42643,     0.42743,     0.42843,     0.42943,     0.43043,     0.43143,\n",
              "           0.43243,     0.43343,     0.43443,     0.43544,     0.43644,     0.43744,     0.43844,     0.43944,     0.44044,     0.44144,     0.44244,     0.44344,     0.44444,     0.44545,     0.44645,     0.44745,     0.44845,     0.44945,     0.45045,     0.45145,     0.45245,     0.45345,     0.45445,     0.45546,\n",
              "           0.45646,     0.45746,     0.45846,     0.45946,     0.46046,     0.46146,     0.46246,     0.46346,     0.46446,     0.46547,     0.46647,     0.46747,     0.46847,     0.46947,     0.47047,     0.47147,     0.47247,     0.47347,     0.47447,     0.47548,     0.47648,     0.47748,     0.47848,     0.47948,\n",
              "           0.48048,     0.48148,     0.48248,     0.48348,     0.48448,     0.48549,     0.48649,     0.48749,     0.48849,     0.48949,     0.49049,     0.49149,     0.49249,     0.49349,     0.49449,      0.4955,      0.4965,      0.4975,      0.4985,      0.4995,      0.5005,      0.5015,      0.5025,      0.5035,\n",
              "            0.5045,     0.50551,     0.50651,     0.50751,     0.50851,     0.50951,     0.51051,     0.51151,     0.51251,     0.51351,     0.51451,     0.51552,     0.51652,     0.51752,     0.51852,     0.51952,     0.52052,     0.52152,     0.52252,     0.52352,     0.52452,     0.52553,     0.52653,     0.52753,\n",
              "           0.52853,     0.52953,     0.53053,     0.53153,     0.53253,     0.53353,     0.53453,     0.53554,     0.53654,     0.53754,     0.53854,     0.53954,     0.54054,     0.54154,     0.54254,     0.54354,     0.54454,     0.54555,     0.54655,     0.54755,     0.54855,     0.54955,     0.55055,     0.55155,\n",
              "           0.55255,     0.55355,     0.55455,     0.55556,     0.55656,     0.55756,     0.55856,     0.55956,     0.56056,     0.56156,     0.56256,     0.56356,     0.56456,     0.56557,     0.56657,     0.56757,     0.56857,     0.56957,     0.57057,     0.57157,     0.57257,     0.57357,     0.57457,     0.57558,\n",
              "           0.57658,     0.57758,     0.57858,     0.57958,     0.58058,     0.58158,     0.58258,     0.58358,     0.58458,     0.58559,     0.58659,     0.58759,     0.58859,     0.58959,     0.59059,     0.59159,     0.59259,     0.59359,     0.59459,      0.5956,      0.5966,      0.5976,      0.5986,      0.5996,\n",
              "            0.6006,      0.6016,      0.6026,      0.6036,      0.6046,     0.60561,     0.60661,     0.60761,     0.60861,     0.60961,     0.61061,     0.61161,     0.61261,     0.61361,     0.61461,     0.61562,     0.61662,     0.61762,     0.61862,     0.61962,     0.62062,     0.62162,     0.62262,     0.62362,\n",
              "           0.62462,     0.62563,     0.62663,     0.62763,     0.62863,     0.62963,     0.63063,     0.63163,     0.63263,     0.63363,     0.63463,     0.63564,     0.63664,     0.63764,     0.63864,     0.63964,     0.64064,     0.64164,     0.64264,     0.64364,     0.64464,     0.64565,     0.64665,     0.64765,\n",
              "           0.64865,     0.64965,     0.65065,     0.65165,     0.65265,     0.65365,     0.65465,     0.65566,     0.65666,     0.65766,     0.65866,     0.65966,     0.66066,     0.66166,     0.66266,     0.66366,     0.66466,     0.66567,     0.66667,     0.66767,     0.66867,     0.66967,     0.67067,     0.67167,\n",
              "           0.67267,     0.67367,     0.67467,     0.67568,     0.67668,     0.67768,     0.67868,     0.67968,     0.68068,     0.68168,     0.68268,     0.68368,     0.68468,     0.68569,     0.68669,     0.68769,     0.68869,     0.68969,     0.69069,     0.69169,     0.69269,     0.69369,     0.69469,      0.6957,\n",
              "            0.6967,      0.6977,      0.6987,      0.6997,      0.7007,      0.7017,      0.7027,      0.7037,      0.7047,     0.70571,     0.70671,     0.70771,     0.70871,     0.70971,     0.71071,     0.71171,     0.71271,     0.71371,     0.71471,     0.71572,     0.71672,     0.71772,     0.71872,     0.71972,\n",
              "           0.72072,     0.72172,     0.72272,     0.72372,     0.72472,     0.72573,     0.72673,     0.72773,     0.72873,     0.72973,     0.73073,     0.73173,     0.73273,     0.73373,     0.73473,     0.73574,     0.73674,     0.73774,     0.73874,     0.73974,     0.74074,     0.74174,     0.74274,     0.74374,\n",
              "           0.74474,     0.74575,     0.74675,     0.74775,     0.74875,     0.74975,     0.75075,     0.75175,     0.75275,     0.75375,     0.75475,     0.75576,     0.75676,     0.75776,     0.75876,     0.75976,     0.76076,     0.76176,     0.76276,     0.76376,     0.76476,     0.76577,     0.76677,     0.76777,\n",
              "           0.76877,     0.76977,     0.77077,     0.77177,     0.77277,     0.77377,     0.77477,     0.77578,     0.77678,     0.77778,     0.77878,     0.77978,     0.78078,     0.78178,     0.78278,     0.78378,     0.78478,     0.78579,     0.78679,     0.78779,     0.78879,     0.78979,     0.79079,     0.79179,\n",
              "           0.79279,     0.79379,     0.79479,      0.7958,      0.7968,      0.7978,      0.7988,      0.7998,      0.8008,      0.8018,      0.8028,      0.8038,      0.8048,     0.80581,     0.80681,     0.80781,     0.80881,     0.80981,     0.81081,     0.81181,     0.81281,     0.81381,     0.81481,     0.81582,\n",
              "           0.81682,     0.81782,     0.81882,     0.81982,     0.82082,     0.82182,     0.82282,     0.82382,     0.82482,     0.82583,     0.82683,     0.82783,     0.82883,     0.82983,     0.83083,     0.83183,     0.83283,     0.83383,     0.83483,     0.83584,     0.83684,     0.83784,     0.83884,     0.83984,\n",
              "           0.84084,     0.84184,     0.84284,     0.84384,     0.84484,     0.84585,     0.84685,     0.84785,     0.84885,     0.84985,     0.85085,     0.85185,     0.85285,     0.85385,     0.85485,     0.85586,     0.85686,     0.85786,     0.85886,     0.85986,     0.86086,     0.86186,     0.86286,     0.86386,\n",
              "           0.86486,     0.86587,     0.86687,     0.86787,     0.86887,     0.86987,     0.87087,     0.87187,     0.87287,     0.87387,     0.87487,     0.87588,     0.87688,     0.87788,     0.87888,     0.87988,     0.88088,     0.88188,     0.88288,     0.88388,     0.88488,     0.88589,     0.88689,     0.88789,\n",
              "           0.88889,     0.88989,     0.89089,     0.89189,     0.89289,     0.89389,     0.89489,      0.8959,      0.8969,      0.8979,      0.8989,      0.8999,      0.9009,      0.9019,      0.9029,      0.9039,      0.9049,     0.90591,     0.90691,     0.90791,     0.90891,     0.90991,     0.91091,     0.91191,\n",
              "           0.91291,     0.91391,     0.91491,     0.91592,     0.91692,     0.91792,     0.91892,     0.91992,     0.92092,     0.92192,     0.92292,     0.92392,     0.92492,     0.92593,     0.92693,     0.92793,     0.92893,     0.92993,     0.93093,     0.93193,     0.93293,     0.93393,     0.93493,     0.93594,\n",
              "           0.93694,     0.93794,     0.93894,     0.93994,     0.94094,     0.94194,     0.94294,     0.94394,     0.94494,     0.94595,     0.94695,     0.94795,     0.94895,     0.94995,     0.95095,     0.95195,     0.95295,     0.95395,     0.95495,     0.95596,     0.95696,     0.95796,     0.95896,     0.95996,\n",
              "           0.96096,     0.96196,     0.96296,     0.96396,     0.96496,     0.96597,     0.96697,     0.96797,     0.96897,     0.96997,     0.97097,     0.97197,     0.97297,     0.97397,     0.97497,     0.97598,     0.97698,     0.97798,     0.97898,     0.97998,     0.98098,     0.98198,     0.98298,     0.98398,\n",
              "           0.98498,     0.98599,     0.98699,     0.98799,     0.98899,     0.98999,     0.99099,     0.99199,     0.99299,     0.99399,     0.99499,       0.996,       0.997,       0.998,       0.999,           1]), array([[   0.020833,    0.020833,    0.029602,    0.035024,    0.038536,    0.041094,    0.043192,     0.04493,    0.046317,    0.047635,    0.048635,    0.049409,    0.050207,    0.050947,    0.051501,    0.052242,    0.052601,     0.05315,    0.053478,    0.053881,    0.054161,    0.054612,    0.055083,\n",
              "            0.05567,    0.056005,    0.056244,    0.056587,    0.056984,    0.057148,    0.057439,    0.057571,    0.057841,    0.057919,    0.058266,    0.058543,    0.058688,    0.058934,     0.05912,    0.059359,    0.059421,    0.059529,    0.059666,     0.05977,     0.06003,    0.060193,    0.060548,\n",
              "           0.060853,    0.061042,    0.061176,    0.061372,    0.061432,    0.061555,    0.061799,    0.061911,    0.062071,    0.062148,    0.062273,      0.0624,    0.062445,    0.062642,    0.062912,    0.062976,    0.063294,    0.063488,    0.063519,    0.063619,    0.063697,    0.063759,    0.063908,\n",
              "           0.064055,    0.064164,    0.064306,    0.064396,    0.064574,     0.06467,    0.064785,    0.064876,    0.064943,    0.065074,    0.065145,    0.065229,    0.065398,    0.065529,    0.065572,    0.065603,    0.065634,    0.065819,     0.06585,    0.066049,    0.066126,    0.066189,     0.06624,\n",
              "           0.066363,    0.066493,    0.066523,    0.066599,    0.066697,    0.066806,     0.06688,    0.067006,    0.067149,    0.067362,      0.0674,    0.067442,    0.067584,    0.067614,    0.067654,    0.067733,    0.067814,    0.067982,     0.06815,    0.068203,    0.068284,    0.068351,    0.068429,\n",
              "           0.068548,    0.068673,    0.068837,    0.068877,    0.068904,    0.068956,    0.069001,    0.069045,    0.069232,    0.069327,    0.069438,    0.069494,    0.069549,    0.069653,    0.069676,    0.069699,    0.069769,    0.069814,    0.069891,    0.070018,    0.070075,    0.070111,    0.070138,\n",
              "           0.070158,    0.070172,    0.070186,    0.070199,    0.070247,    0.070499,    0.070655,     0.07069,    0.070743,    0.070881,    0.070929,    0.070959,    0.071021,    0.071071,    0.071103,    0.071229,    0.071327,    0.071356,    0.071396,    0.071663,    0.071714,    0.071793,    0.071818,\n",
              "           0.071842,    0.071862,     0.07188,    0.071898,    0.072116,     0.07215,    0.072185,    0.072221,    0.072261,    0.072346,    0.072418,    0.072544,    0.072599,    0.072613,    0.072626,     0.07264,     0.07271,    0.072729,    0.072747,    0.072828,     0.07286,    0.072931,    0.072989,\n",
              "           0.073142,    0.073164,    0.073187,    0.073303,    0.073367,    0.073397,    0.073431,    0.073469,    0.073507,    0.073539,    0.073569,    0.073698,    0.073796,    0.073816,    0.073835,    0.073856,    0.073882,    0.073909,    0.073971,    0.073993,    0.074015,    0.074058,    0.074157,\n",
              "           0.074288,    0.074357,    0.074386,    0.074472,    0.074501,    0.074529,    0.074554,    0.074578,     0.07461,    0.074652,    0.074705,    0.074724,    0.074743,    0.074781,    0.074831,    0.074869,    0.074886,    0.074903,     0.07492,    0.074985,    0.075013,    0.075042,    0.075085,\n",
              "           0.075125,     0.07517,    0.075227,    0.075301,    0.075429,    0.075516,    0.075548,    0.075622,    0.075693,    0.075811,    0.075881,    0.075952,    0.076032,    0.076092,    0.076108,    0.076125,    0.076141,    0.076373,     0.07641,    0.076439,     0.07646,    0.076479,    0.076499,\n",
              "           0.076536,    0.076584,    0.076668,    0.076779,    0.076837,    0.076871,    0.076884,    0.076896,    0.076908,    0.076921,    0.076963,    0.077154,    0.077236,    0.077251,    0.077267,    0.077283,    0.077323,    0.077389,     0.07743,    0.077458,    0.077546,    0.077571,      0.0776,\n",
              "            0.07765,      0.0777,    0.077794,     0.07783,    0.077943,    0.078074,    0.078164,    0.078254,    0.078313,     0.07835,    0.078369,    0.078389,    0.078473,    0.078525,    0.078562,    0.078612,    0.078666,    0.078692,    0.078724,    0.078802,    0.078854,    0.078887,    0.078928,\n",
              "           0.078988,    0.079051,    0.079088,    0.079107,    0.079121,    0.079134,    0.079148,     0.07918,    0.079241,    0.079268,    0.079297,    0.079334,    0.079435,    0.079497,     0.07955,    0.079603,    0.079635,    0.079665,    0.079687,    0.079706,    0.079725,    0.079827,    0.079889,\n",
              "           0.079928,    0.079953,    0.079975,    0.079997,    0.080092,    0.080206,    0.080228,    0.080251,    0.080394,    0.080479,    0.080553,    0.080684,    0.080754,    0.080805,     0.08082,    0.080835,     0.08085,    0.080946,    0.080992,    0.081047,    0.081095,    0.081199,    0.081275,\n",
              "           0.081475,    0.081537,    0.081552,    0.081568,    0.081583,    0.081599,    0.081613,    0.081628,    0.081643,    0.081657,    0.081943,    0.081969,    0.081994,     0.08204,    0.082099,    0.082146,    0.082158,     0.08217,    0.082181,    0.082193,    0.082205,    0.082221,    0.082261,\n",
              "           0.082294,    0.082315,    0.082337,    0.082361,    0.082389,    0.082418,    0.082449,     0.08248,    0.081426,    0.080948,     0.08097,    0.080991,    0.081014,     0.08112,    0.081234,    0.081254,    0.081274,    0.081294,    0.081313,    0.081332,    0.081351,    0.081448,    0.081479,\n",
              "           0.081503,    0.081521,    0.081539,    0.081557,    0.081583,    0.081614,    0.081648,    0.081683,    0.080117,    0.080146,    0.080164,    0.080183,    0.080202,    0.080234,    0.080269,    0.080309,    0.080348,    0.080383,    0.080419,    0.080454,    0.080499,    0.080556,    0.080582,\n",
              "           0.080608,    0.080701,    0.080725,    0.080749,    0.080945,     0.08099,    0.081026,    0.081046,    0.081061,    0.081076,    0.081091,    0.081184,    0.081256,    0.081328,      0.0814,    0.081464,      0.0815,    0.081688,    0.081832,    0.081906,    0.082111,    0.082153,    0.082215,\n",
              "           0.082433,    0.082473,    0.082498,    0.082523,    0.082557,    0.082594,    0.082631,    0.082669,    0.082925,    0.082962,    0.083034,    0.083126,    0.083142,    0.083157,    0.083172,    0.083188,    0.083226,    0.083209,    0.082745,     0.08228,    0.081816,    0.081594,    0.081717,\n",
              "           0.081742,    0.081767,    0.081871,    0.081908,    0.082019,    0.082056,    0.082167,    0.082205,    0.082234,    0.082259,    0.082284,    0.082319,    0.082357,    0.082468,    0.082506,    0.082544,    0.082582,    0.082729,    0.082805,    0.082957,    0.083108,    0.083133,    0.083159,\n",
              "           0.083189,    0.083266,    0.083412,    0.083438,    0.083464,    0.083501,    0.081836,    0.081902,    0.081941,    0.082129,    0.082167,    0.082294,    0.082371,    0.082433,    0.082472,    0.082604,    0.082758,    0.082816,    0.082855,    0.082894,    0.082934,    0.082996,    0.083151,\n",
              "           0.083205,    0.083244,    0.083429,    0.083455,    0.083482,    0.083586,    0.083612,    0.083639,    0.083788,    0.083813,    0.083829,    0.083845,    0.083861,    0.083877,    0.084073,    0.084115,    0.084196,    0.084277,    0.084358,    0.084513,    0.084553,    0.084681,    0.084843,\n",
              "           0.084925,    0.085007,    0.085089,    0.085172,    0.085416,    0.085581,    0.085746,    0.085813,    0.085855,    0.085897,    0.085939,    0.086084,    0.086147,    0.086189,    0.086219,     0.08624,    0.086261,    0.086283,     0.08643,    0.086598,    0.086767,    0.086905,    0.086948,\n",
              "           0.087109,    0.086607,    0.085973,     0.08534,     0.08543,    0.085723,    0.085809,    0.085979,    0.086149,    0.086236,    0.086322,    0.086384,    0.086428,    0.086498,    0.086557,    0.086601,    0.086635,    0.086664,    0.086693,    0.086733,    0.086777,    0.087029,    0.087203,\n",
              "           0.087427,    0.087471,    0.087557,    0.087821,    0.087284,    0.086725,    0.086165,     0.08593,     0.08596,    0.085989,      0.0861,    0.086122,    0.086144,    0.086166,    0.086378,    0.086422,    0.086728,    0.086773,    0.086942,    0.087121,    0.087362,    0.087435,    0.087795,\n",
              "           0.087887,    0.088124,    0.088142,    0.088161,    0.088179,    0.088198,    0.088324,     0.08837,    0.088629,     0.08886,    0.089218,     0.08925,    0.089282,    0.089331,    0.089505,    0.089553,    0.089618,    0.087707,    0.087769,    0.088045,    0.088232,    0.088327,    0.086362,\n",
              "           0.086502,    0.086687,    0.086781,    0.086978,    0.087108,    0.087162,    0.087194,    0.087225,    0.085231,    0.085277,    0.085395,    0.085416,    0.085436,    0.085457,    0.085506,      0.0856,    0.085826,    0.086018,    0.086299,    0.086768,    0.086796,    0.086824,    0.086851,\n",
              "           0.085117,    0.085213,    0.085308,    0.085404,    0.085688,    0.085583,    0.084003,    0.084098,    0.084193,    0.084415,    0.084485,    0.084533,    0.084676,    0.084724,    0.084842,    0.084863,    0.084885,    0.084907,    0.085109,    0.085141,    0.085174,    0.085211,    0.085276,\n",
              "           0.085364,    0.085655,    0.085851,    0.083818,    0.083867,    0.084026,    0.084252,    0.084366,    0.084464,    0.084694,    0.084722,     0.08475,    0.084813,    0.084961,    0.085062,    0.085162,     0.08526,    0.085327,    0.085514,    0.085615,    0.085866,    0.085968,    0.086095,\n",
              "           0.086324,    0.084289,     0.08439,    0.084464,    0.084522,    0.084562,    0.084603,      0.0848,     0.08487,     0.08524,    0.085512,    0.085719,    0.083223,      0.0813,    0.081693,    0.079532,    0.079919,    0.080135,    0.080264,    0.080463,    0.080599,     0.08065,    0.080747,\n",
              "           0.080867,    0.080969,     0.08112,    0.080622,    0.079005,    0.076714,     0.07697,     0.07578,    0.075004,    0.075098,    0.075163,    0.075341,    0.075676,     0.07579,    0.076072,    0.076112,    0.076166,    0.074926,    0.074124,    0.074181,     0.07422,    0.074259,    0.074349,\n",
              "           0.074418,    0.072248,    0.072348,    0.068892,    0.067887,    0.067975,    0.068012,    0.068048,    0.065541,    0.065728,    0.065848,    0.065916,    0.066001,    0.066115,    0.066594,    0.066655,    0.066829,    0.067145,    0.067408,     0.06747,     0.06756,    0.065187,    0.062711,\n",
              "           0.062841,    0.061041,    0.057577,    0.057775,     0.05783,     0.05271,    0.052761,    0.052827,    0.052939,    0.053031,    0.050438,    0.050643,    0.050679,    0.047966,    0.048001,    0.048116,    0.048281,    0.048428,    0.048653,    0.048682,     0.04871,    0.048922,     0.04897,\n",
              "           0.049032,    0.047386,    0.043557,    0.043632,     0.04369,    0.043762,    0.043869,    0.043913,    0.043949,    0.043982,    0.044094,    0.041684,     0.04129,    0.041475,    0.041519,    0.041571,    0.041663,    0.041708,    0.041856,    0.035947,    0.033929,    0.032945,    0.030917,\n",
              "           0.030186,    0.030215,    0.030239,    0.030264,    0.030295,    0.030355,    0.030379,     0.03041,    0.028368,     0.02745,    0.027462,    0.027474,      0.0275,    0.027605,    0.027692,     0.02775,    0.027825,    0.027957,    0.028178,    0.028285,    0.028366,    0.027328,    0.022155,\n",
              "           0.022174,    0.022226,    0.022241,    0.022255,    0.022277,    0.022306,    0.022391,    0.022443,    0.022462,    0.021763,    0.020134,    0.019297,    0.019307,    0.019316,    0.019325,    0.019338,     0.01935,    0.019359,    0.019366,    0.019372,    0.019379,    0.019385,    0.019395,\n",
              "           0.019406,    0.019416,    0.018642,    0.017702,    0.016761,    0.016211,    0.016219,    0.016227,    0.016234,    0.015923,    0.015262,    0.014599,    0.013937,    0.013274,    0.012983,    0.012508,    0.012033,    0.011557,    0.011082,    0.010606,     0.01013,   0.0098058,   0.0098112,\n",
              "          0.0098157,   0.0098196,   0.0062126,   0.0053745,   0.0045358,   0.0036963,           0,           0,           0,           0,           0,           0,           0,           0,           0,           0,           0,           0,           0,           0,           0,           0,           0,\n",
              "                  0,           0,           0,           0,           0,           0,           0,           0,           0,           0,           0,           0,           0,           0,           0,           0,           0,           0,           0,           0,           0,           0,           0,\n",
              "                  0,           0,           0,           0,           0,           0,           0,           0,           0,           0,           0,           0,           0,           0,           0,           0,           0,           0,           0,           0,           0,           0,           0,\n",
              "                  0,           0,           0,           0,           0,           0,           0,           0,           0,           0,           0,           0,           0,           0,           0,           0,           0,           0,           0,           0,           0,           0,           0,\n",
              "                  0,           0,           0,           0,           0,           0,           0,           0,           0,           0,           0,           0,           0,           0,           0,           0,           0,           0,           0,           0,           0,           0,           0,\n",
              "                  0,           0,           0,           0,           0,           0,           0,           0,           0,           0,           0]]), 'Confidence', 'F1'], [array([          0,    0.001001,    0.002002,    0.003003,    0.004004,    0.005005,    0.006006,    0.007007,    0.008008,    0.009009,     0.01001,    0.011011,    0.012012,    0.013013,    0.014014,    0.015015,    0.016016,    0.017017,    0.018018,    0.019019,     0.02002,    0.021021,    0.022022,    0.023023,\n",
              "          0.024024,    0.025025,    0.026026,    0.027027,    0.028028,    0.029029,     0.03003,    0.031031,    0.032032,    0.033033,    0.034034,    0.035035,    0.036036,    0.037037,    0.038038,    0.039039,     0.04004,    0.041041,    0.042042,    0.043043,    0.044044,    0.045045,    0.046046,    0.047047,\n",
              "          0.048048,    0.049049,     0.05005,    0.051051,    0.052052,    0.053053,    0.054054,    0.055055,    0.056056,    0.057057,    0.058058,    0.059059,     0.06006,    0.061061,    0.062062,    0.063063,    0.064064,    0.065065,    0.066066,    0.067067,    0.068068,    0.069069,     0.07007,    0.071071,\n",
              "          0.072072,    0.073073,    0.074074,    0.075075,    0.076076,    0.077077,    0.078078,    0.079079,     0.08008,    0.081081,    0.082082,    0.083083,    0.084084,    0.085085,    0.086086,    0.087087,    0.088088,    0.089089,     0.09009,    0.091091,    0.092092,    0.093093,    0.094094,    0.095095,\n",
              "          0.096096,    0.097097,    0.098098,    0.099099,      0.1001,      0.1011,      0.1021,      0.1031,      0.1041,     0.10511,     0.10611,     0.10711,     0.10811,     0.10911,     0.11011,     0.11111,     0.11211,     0.11311,     0.11411,     0.11512,     0.11612,     0.11712,     0.11812,     0.11912,\n",
              "           0.12012,     0.12112,     0.12212,     0.12312,     0.12412,     0.12513,     0.12613,     0.12713,     0.12813,     0.12913,     0.13013,     0.13113,     0.13213,     0.13313,     0.13413,     0.13514,     0.13614,     0.13714,     0.13814,     0.13914,     0.14014,     0.14114,     0.14214,     0.14314,\n",
              "           0.14414,     0.14515,     0.14615,     0.14715,     0.14815,     0.14915,     0.15015,     0.15115,     0.15215,     0.15315,     0.15415,     0.15516,     0.15616,     0.15716,     0.15816,     0.15916,     0.16016,     0.16116,     0.16216,     0.16316,     0.16416,     0.16517,     0.16617,     0.16717,\n",
              "           0.16817,     0.16917,     0.17017,     0.17117,     0.17217,     0.17317,     0.17417,     0.17518,     0.17618,     0.17718,     0.17818,     0.17918,     0.18018,     0.18118,     0.18218,     0.18318,     0.18418,     0.18519,     0.18619,     0.18719,     0.18819,     0.18919,     0.19019,     0.19119,\n",
              "           0.19219,     0.19319,     0.19419,      0.1952,      0.1962,      0.1972,      0.1982,      0.1992,      0.2002,      0.2012,      0.2022,      0.2032,      0.2042,     0.20521,     0.20621,     0.20721,     0.20821,     0.20921,     0.21021,     0.21121,     0.21221,     0.21321,     0.21421,     0.21522,\n",
              "           0.21622,     0.21722,     0.21822,     0.21922,     0.22022,     0.22122,     0.22222,     0.22322,     0.22422,     0.22523,     0.22623,     0.22723,     0.22823,     0.22923,     0.23023,     0.23123,     0.23223,     0.23323,     0.23423,     0.23524,     0.23624,     0.23724,     0.23824,     0.23924,\n",
              "           0.24024,     0.24124,     0.24224,     0.24324,     0.24424,     0.24525,     0.24625,     0.24725,     0.24825,     0.24925,     0.25025,     0.25125,     0.25225,     0.25325,     0.25425,     0.25526,     0.25626,     0.25726,     0.25826,     0.25926,     0.26026,     0.26126,     0.26226,     0.26326,\n",
              "           0.26426,     0.26527,     0.26627,     0.26727,     0.26827,     0.26927,     0.27027,     0.27127,     0.27227,     0.27327,     0.27427,     0.27528,     0.27628,     0.27728,     0.27828,     0.27928,     0.28028,     0.28128,     0.28228,     0.28328,     0.28428,     0.28529,     0.28629,     0.28729,\n",
              "           0.28829,     0.28929,     0.29029,     0.29129,     0.29229,     0.29329,     0.29429,      0.2953,      0.2963,      0.2973,      0.2983,      0.2993,      0.3003,      0.3013,      0.3023,      0.3033,      0.3043,     0.30531,     0.30631,     0.30731,     0.30831,     0.30931,     0.31031,     0.31131,\n",
              "           0.31231,     0.31331,     0.31431,     0.31532,     0.31632,     0.31732,     0.31832,     0.31932,     0.32032,     0.32132,     0.32232,     0.32332,     0.32432,     0.32533,     0.32633,     0.32733,     0.32833,     0.32933,     0.33033,     0.33133,     0.33233,     0.33333,     0.33433,     0.33534,\n",
              "           0.33634,     0.33734,     0.33834,     0.33934,     0.34034,     0.34134,     0.34234,     0.34334,     0.34434,     0.34535,     0.34635,     0.34735,     0.34835,     0.34935,     0.35035,     0.35135,     0.35235,     0.35335,     0.35435,     0.35536,     0.35636,     0.35736,     0.35836,     0.35936,\n",
              "           0.36036,     0.36136,     0.36236,     0.36336,     0.36436,     0.36537,     0.36637,     0.36737,     0.36837,     0.36937,     0.37037,     0.37137,     0.37237,     0.37337,     0.37437,     0.37538,     0.37638,     0.37738,     0.37838,     0.37938,     0.38038,     0.38138,     0.38238,     0.38338,\n",
              "           0.38438,     0.38539,     0.38639,     0.38739,     0.38839,     0.38939,     0.39039,     0.39139,     0.39239,     0.39339,     0.39439,      0.3954,      0.3964,      0.3974,      0.3984,      0.3994,      0.4004,      0.4014,      0.4024,      0.4034,      0.4044,     0.40541,     0.40641,     0.40741,\n",
              "           0.40841,     0.40941,     0.41041,     0.41141,     0.41241,     0.41341,     0.41441,     0.41542,     0.41642,     0.41742,     0.41842,     0.41942,     0.42042,     0.42142,     0.42242,     0.42342,     0.42442,     0.42543,     0.42643,     0.42743,     0.42843,     0.42943,     0.43043,     0.43143,\n",
              "           0.43243,     0.43343,     0.43443,     0.43544,     0.43644,     0.43744,     0.43844,     0.43944,     0.44044,     0.44144,     0.44244,     0.44344,     0.44444,     0.44545,     0.44645,     0.44745,     0.44845,     0.44945,     0.45045,     0.45145,     0.45245,     0.45345,     0.45445,     0.45546,\n",
              "           0.45646,     0.45746,     0.45846,     0.45946,     0.46046,     0.46146,     0.46246,     0.46346,     0.46446,     0.46547,     0.46647,     0.46747,     0.46847,     0.46947,     0.47047,     0.47147,     0.47247,     0.47347,     0.47447,     0.47548,     0.47648,     0.47748,     0.47848,     0.47948,\n",
              "           0.48048,     0.48148,     0.48248,     0.48348,     0.48448,     0.48549,     0.48649,     0.48749,     0.48849,     0.48949,     0.49049,     0.49149,     0.49249,     0.49349,     0.49449,      0.4955,      0.4965,      0.4975,      0.4985,      0.4995,      0.5005,      0.5015,      0.5025,      0.5035,\n",
              "            0.5045,     0.50551,     0.50651,     0.50751,     0.50851,     0.50951,     0.51051,     0.51151,     0.51251,     0.51351,     0.51451,     0.51552,     0.51652,     0.51752,     0.51852,     0.51952,     0.52052,     0.52152,     0.52252,     0.52352,     0.52452,     0.52553,     0.52653,     0.52753,\n",
              "           0.52853,     0.52953,     0.53053,     0.53153,     0.53253,     0.53353,     0.53453,     0.53554,     0.53654,     0.53754,     0.53854,     0.53954,     0.54054,     0.54154,     0.54254,     0.54354,     0.54454,     0.54555,     0.54655,     0.54755,     0.54855,     0.54955,     0.55055,     0.55155,\n",
              "           0.55255,     0.55355,     0.55455,     0.55556,     0.55656,     0.55756,     0.55856,     0.55956,     0.56056,     0.56156,     0.56256,     0.56356,     0.56456,     0.56557,     0.56657,     0.56757,     0.56857,     0.56957,     0.57057,     0.57157,     0.57257,     0.57357,     0.57457,     0.57558,\n",
              "           0.57658,     0.57758,     0.57858,     0.57958,     0.58058,     0.58158,     0.58258,     0.58358,     0.58458,     0.58559,     0.58659,     0.58759,     0.58859,     0.58959,     0.59059,     0.59159,     0.59259,     0.59359,     0.59459,      0.5956,      0.5966,      0.5976,      0.5986,      0.5996,\n",
              "            0.6006,      0.6016,      0.6026,      0.6036,      0.6046,     0.60561,     0.60661,     0.60761,     0.60861,     0.60961,     0.61061,     0.61161,     0.61261,     0.61361,     0.61461,     0.61562,     0.61662,     0.61762,     0.61862,     0.61962,     0.62062,     0.62162,     0.62262,     0.62362,\n",
              "           0.62462,     0.62563,     0.62663,     0.62763,     0.62863,     0.62963,     0.63063,     0.63163,     0.63263,     0.63363,     0.63463,     0.63564,     0.63664,     0.63764,     0.63864,     0.63964,     0.64064,     0.64164,     0.64264,     0.64364,     0.64464,     0.64565,     0.64665,     0.64765,\n",
              "           0.64865,     0.64965,     0.65065,     0.65165,     0.65265,     0.65365,     0.65465,     0.65566,     0.65666,     0.65766,     0.65866,     0.65966,     0.66066,     0.66166,     0.66266,     0.66366,     0.66466,     0.66567,     0.66667,     0.66767,     0.66867,     0.66967,     0.67067,     0.67167,\n",
              "           0.67267,     0.67367,     0.67467,     0.67568,     0.67668,     0.67768,     0.67868,     0.67968,     0.68068,     0.68168,     0.68268,     0.68368,     0.68468,     0.68569,     0.68669,     0.68769,     0.68869,     0.68969,     0.69069,     0.69169,     0.69269,     0.69369,     0.69469,      0.6957,\n",
              "            0.6967,      0.6977,      0.6987,      0.6997,      0.7007,      0.7017,      0.7027,      0.7037,      0.7047,     0.70571,     0.70671,     0.70771,     0.70871,     0.70971,     0.71071,     0.71171,     0.71271,     0.71371,     0.71471,     0.71572,     0.71672,     0.71772,     0.71872,     0.71972,\n",
              "           0.72072,     0.72172,     0.72272,     0.72372,     0.72472,     0.72573,     0.72673,     0.72773,     0.72873,     0.72973,     0.73073,     0.73173,     0.73273,     0.73373,     0.73473,     0.73574,     0.73674,     0.73774,     0.73874,     0.73974,     0.74074,     0.74174,     0.74274,     0.74374,\n",
              "           0.74474,     0.74575,     0.74675,     0.74775,     0.74875,     0.74975,     0.75075,     0.75175,     0.75275,     0.75375,     0.75475,     0.75576,     0.75676,     0.75776,     0.75876,     0.75976,     0.76076,     0.76176,     0.76276,     0.76376,     0.76476,     0.76577,     0.76677,     0.76777,\n",
              "           0.76877,     0.76977,     0.77077,     0.77177,     0.77277,     0.77377,     0.77477,     0.77578,     0.77678,     0.77778,     0.77878,     0.77978,     0.78078,     0.78178,     0.78278,     0.78378,     0.78478,     0.78579,     0.78679,     0.78779,     0.78879,     0.78979,     0.79079,     0.79179,\n",
              "           0.79279,     0.79379,     0.79479,      0.7958,      0.7968,      0.7978,      0.7988,      0.7998,      0.8008,      0.8018,      0.8028,      0.8038,      0.8048,     0.80581,     0.80681,     0.80781,     0.80881,     0.80981,     0.81081,     0.81181,     0.81281,     0.81381,     0.81481,     0.81582,\n",
              "           0.81682,     0.81782,     0.81882,     0.81982,     0.82082,     0.82182,     0.82282,     0.82382,     0.82482,     0.82583,     0.82683,     0.82783,     0.82883,     0.82983,     0.83083,     0.83183,     0.83283,     0.83383,     0.83483,     0.83584,     0.83684,     0.83784,     0.83884,     0.83984,\n",
              "           0.84084,     0.84184,     0.84284,     0.84384,     0.84484,     0.84585,     0.84685,     0.84785,     0.84885,     0.84985,     0.85085,     0.85185,     0.85285,     0.85385,     0.85485,     0.85586,     0.85686,     0.85786,     0.85886,     0.85986,     0.86086,     0.86186,     0.86286,     0.86386,\n",
              "           0.86486,     0.86587,     0.86687,     0.86787,     0.86887,     0.86987,     0.87087,     0.87187,     0.87287,     0.87387,     0.87487,     0.87588,     0.87688,     0.87788,     0.87888,     0.87988,     0.88088,     0.88188,     0.88288,     0.88388,     0.88488,     0.88589,     0.88689,     0.88789,\n",
              "           0.88889,     0.88989,     0.89089,     0.89189,     0.89289,     0.89389,     0.89489,      0.8959,      0.8969,      0.8979,      0.8989,      0.8999,      0.9009,      0.9019,      0.9029,      0.9039,      0.9049,     0.90591,     0.90691,     0.90791,     0.90891,     0.90991,     0.91091,     0.91191,\n",
              "           0.91291,     0.91391,     0.91491,     0.91592,     0.91692,     0.91792,     0.91892,     0.91992,     0.92092,     0.92192,     0.92292,     0.92392,     0.92492,     0.92593,     0.92693,     0.92793,     0.92893,     0.92993,     0.93093,     0.93193,     0.93293,     0.93393,     0.93493,     0.93594,\n",
              "           0.93694,     0.93794,     0.93894,     0.93994,     0.94094,     0.94194,     0.94294,     0.94394,     0.94494,     0.94595,     0.94695,     0.94795,     0.94895,     0.94995,     0.95095,     0.95195,     0.95295,     0.95395,     0.95495,     0.95596,     0.95696,     0.95796,     0.95896,     0.95996,\n",
              "           0.96096,     0.96196,     0.96296,     0.96396,     0.96496,     0.96597,     0.96697,     0.96797,     0.96897,     0.96997,     0.97097,     0.97197,     0.97297,     0.97397,     0.97497,     0.97598,     0.97698,     0.97798,     0.97898,     0.97998,     0.98098,     0.98198,     0.98298,     0.98398,\n",
              "           0.98498,     0.98599,     0.98699,     0.98799,     0.98899,     0.98999,     0.99099,     0.99199,     0.99299,     0.99399,     0.99499,       0.996,       0.997,       0.998,       0.999,           1]), array([[   0.011894,    0.011894,     0.01805,    0.022373,    0.025322,    0.027578,    0.029502,    0.031147,    0.032497,     0.03381,    0.034826,    0.035624,     0.03646,    0.037246,    0.037841,    0.038647,    0.039041,     0.03965,    0.040015,    0.040468,    0.040785,    0.041298,     0.04184,\n",
              "           0.042521,    0.042913,    0.043195,    0.043601,    0.044073,    0.044269,     0.04462,     0.04478,    0.045107,    0.045202,    0.045627,    0.045967,    0.046146,    0.046451,    0.046682,    0.046981,    0.047059,    0.047195,    0.047367,    0.047498,    0.047828,    0.048035,    0.048488,\n",
              "           0.048881,    0.049125,    0.049299,    0.049554,    0.049633,    0.049794,    0.050113,     0.05026,    0.050472,    0.050574,    0.050739,    0.050909,    0.050968,    0.051232,    0.051594,     0.05168,    0.052109,    0.052373,    0.052415,    0.052552,    0.052659,    0.052742,    0.052948,\n",
              "           0.053149,      0.0533,    0.053495,     0.05362,    0.053867,    0.054001,    0.054162,    0.054289,    0.054383,    0.054567,    0.054667,    0.054786,    0.055025,     0.05521,    0.055272,    0.055315,    0.055359,    0.055623,    0.055668,    0.055952,    0.056062,    0.056153,    0.056227,\n",
              "           0.056405,    0.056593,    0.056636,    0.056746,    0.056889,    0.057048,    0.057156,    0.057339,     0.05755,    0.057863,    0.057919,    0.057981,    0.058192,    0.058236,    0.058295,    0.058413,    0.058533,    0.058784,    0.059036,    0.059115,    0.059237,    0.059338,    0.059456,\n",
              "           0.059635,    0.059825,    0.060074,    0.060136,    0.060176,    0.060256,    0.060324,    0.060392,    0.060678,    0.060825,    0.060997,    0.061082,    0.061167,    0.061329,    0.061364,    0.061399,    0.061508,    0.061579,    0.061698,    0.061897,    0.061986,    0.062042,    0.062085,\n",
              "           0.062116,    0.062138,    0.062159,    0.062181,    0.062256,    0.062652,    0.062899,    0.062955,    0.063039,    0.063259,    0.063335,    0.063383,    0.063482,    0.063562,    0.063614,    0.063815,    0.063973,    0.064019,    0.064083,    0.064516,    0.064597,    0.064726,    0.064767,\n",
              "           0.064806,    0.064838,    0.064867,    0.064896,    0.065253,    0.065308,    0.065366,    0.065426,    0.065491,    0.065631,     0.06575,    0.065957,    0.066048,    0.066071,    0.066094,    0.066116,    0.066233,    0.066263,    0.066294,    0.066428,    0.066481,    0.066601,    0.066696,\n",
              "           0.066953,     0.06699,    0.067028,    0.067223,     0.06733,    0.067381,    0.067439,    0.067503,    0.067566,    0.067621,    0.067672,    0.067891,    0.068057,     0.06809,    0.068124,     0.06816,    0.068203,     0.06825,    0.068356,    0.068393,     0.06843,    0.068503,    0.068673,\n",
              "           0.068899,    0.069018,    0.069068,    0.069215,    0.069266,    0.069314,    0.069357,    0.069399,    0.069455,    0.069528,     0.06962,    0.069652,    0.069685,    0.069751,    0.069839,    0.069905,    0.069935,    0.069964,    0.069993,    0.070107,    0.070156,    0.070206,    0.070282,\n",
              "           0.070352,    0.070431,    0.070531,    0.070661,    0.070888,    0.071042,    0.071099,    0.071229,    0.071355,    0.071565,    0.071691,    0.071817,    0.071961,    0.072068,    0.072097,    0.072126,    0.072155,    0.072573,    0.072641,    0.072693,    0.072731,    0.072766,    0.072802,\n",
              "           0.072868,    0.072955,    0.073108,     0.07331,    0.073417,    0.073479,    0.073501,    0.073524,    0.073547,    0.073569,    0.073647,    0.073997,    0.074148,    0.074177,    0.074205,    0.074234,    0.074308,    0.074431,    0.074507,    0.074559,    0.074722,    0.074768,    0.074821,\n",
              "           0.074915,    0.075009,    0.075184,    0.075251,    0.075463,    0.075709,    0.075878,    0.076048,    0.076159,    0.076228,    0.076266,    0.076303,    0.076463,    0.076561,    0.076631,    0.076728,    0.076829,    0.076879,     0.07694,     0.07709,     0.07719,    0.077253,    0.077332,\n",
              "           0.077447,    0.077567,    0.077639,    0.077675,    0.077702,    0.077729,    0.077755,    0.077817,    0.077935,    0.077986,    0.078042,    0.078115,     0.07831,    0.078431,    0.078534,    0.078637,    0.078701,    0.078759,    0.078803,     0.07884,    0.078877,    0.079076,    0.079199,\n",
              "           0.079274,    0.079324,    0.079368,    0.079412,    0.079598,    0.079823,    0.079868,    0.079912,    0.080198,    0.080365,    0.080514,    0.080777,    0.080916,    0.081018,    0.081049,    0.081079,     0.08111,    0.081304,    0.081396,    0.081507,    0.081604,    0.081814,     0.08197,\n",
              "           0.082378,    0.082504,    0.082536,    0.082568,    0.082599,    0.082631,    0.082661,    0.082691,    0.082721,    0.082751,     0.08334,    0.083393,    0.083446,    0.083541,    0.083664,    0.083761,    0.083785,     0.08381,    0.083834,    0.083859,    0.083883,    0.083917,    0.084001,\n",
              "           0.084068,    0.084114,     0.08416,    0.084209,    0.084268,    0.084328,    0.084393,    0.084459,     0.08344,    0.083053,    0.083099,    0.083144,    0.083191,    0.083416,    0.083657,      0.0837,    0.083743,    0.083785,    0.083825,    0.083865,    0.083905,    0.084111,    0.084178,\n",
              "            0.08423,    0.084268,    0.084306,    0.084344,      0.0844,    0.084468,    0.084539,    0.084616,    0.083087,    0.083206,    0.083246,    0.083287,    0.083327,    0.083397,    0.083473,    0.083559,    0.083644,     0.08372,    0.083797,    0.083873,    0.083971,    0.084096,    0.084152,\n",
              "           0.084208,    0.084413,    0.084465,    0.084516,    0.084947,    0.085048,    0.085126,     0.08517,    0.085204,    0.085237,    0.085271,    0.085476,    0.085635,    0.085796,    0.085956,    0.086099,     0.08618,    0.086602,    0.086926,    0.087091,    0.087557,    0.087653,    0.087795,\n",
              "           0.088294,    0.088385,    0.088442,    0.088499,    0.088578,    0.088663,    0.088749,    0.088835,    0.089429,    0.089516,    0.089684,    0.089899,    0.089935,     0.08997,    0.090005,    0.090044,    0.090132,    0.090159,    0.089681,    0.089203,    0.088724,     0.08854,    0.088831,\n",
              "            0.08889,    0.088948,    0.089196,    0.089285,    0.089548,    0.089637,    0.089902,    0.089992,    0.090061,    0.090122,    0.090182,    0.090266,    0.090357,    0.090626,    0.090717,    0.090809,    0.090901,    0.091258,    0.091444,    0.091814,    0.092185,    0.092248,    0.092312,\n",
              "           0.092386,    0.092576,    0.092938,    0.093002,    0.093066,    0.093157,    0.091508,    0.091674,     0.09177,    0.092243,     0.09234,    0.092662,    0.092858,    0.093015,    0.093114,    0.093451,    0.093845,    0.093996,    0.094097,    0.094198,    0.094299,    0.094461,    0.094864,\n",
              "           0.095003,    0.095106,     0.09559,    0.095659,    0.095729,    0.096003,    0.096073,    0.096143,    0.096538,    0.096603,    0.096646,    0.096689,    0.096731,    0.096774,    0.097299,    0.097411,    0.097627,    0.097845,    0.098063,    0.098483,    0.098594,    0.098942,    0.099385,\n",
              "            0.09961,    0.099837,     0.10006,     0.10029,     0.10097,     0.10143,      0.1019,     0.10209,     0.10221,     0.10233,     0.10245,     0.10286,     0.10304,     0.10316,     0.10325,     0.10331,     0.10337,     0.10343,     0.10385,     0.10434,     0.10483,     0.10523,     0.10536,\n",
              "            0.10584,     0.10529,     0.10457,     0.10385,     0.10424,     0.10512,     0.10538,     0.10589,     0.10641,     0.10668,     0.10694,     0.10713,     0.10727,     0.10748,     0.10767,      0.1078,     0.10791,       0.108,     0.10809,     0.10821,     0.10835,     0.10914,     0.10969,\n",
              "             0.1104,     0.11054,     0.11081,     0.11167,     0.11104,     0.11037,     0.10971,     0.10947,     0.10956,     0.10966,     0.11002,     0.11009,     0.11016,     0.11024,     0.11093,     0.11108,     0.11209,     0.11224,     0.11281,     0.11342,     0.11424,     0.11449,     0.11573,\n",
              "            0.11605,     0.11688,     0.11694,     0.11701,     0.11707,     0.11714,     0.11759,     0.11775,     0.11867,     0.11951,     0.12081,     0.12093,     0.12104,     0.12123,     0.12187,     0.12204,     0.12229,     0.12009,     0.12032,     0.12137,     0.12208,     0.12245,     0.12006,\n",
              "             0.1206,     0.12133,     0.12169,     0.12247,     0.12299,     0.12321,     0.12333,     0.12346,     0.12098,     0.12117,     0.12165,     0.12173,     0.12181,      0.1219,      0.1221,     0.12248,     0.12341,     0.12421,     0.12539,     0.12739,     0.12751,     0.12763,     0.12775,\n",
              "            0.12647,     0.12689,     0.12731,     0.12774,     0.12902,     0.13017,     0.12806,     0.12851,     0.12895,        0.13,     0.13033,     0.13056,     0.13124,     0.13147,     0.13204,     0.13215,     0.13225,     0.13236,     0.13334,      0.1335,     0.13366,     0.13385,     0.13417,\n",
              "             0.1346,     0.13606,     0.13706,     0.13461,     0.13486,     0.13569,     0.13688,     0.13748,       0.138,     0.13924,     0.13939,     0.13954,     0.13988,     0.14069,     0.14124,      0.1418,     0.14234,     0.14272,     0.14377,     0.14434,     0.14578,     0.14637,     0.14711,\n",
              "            0.14846,     0.14622,     0.14683,     0.14728,     0.14763,     0.14788,     0.14813,     0.14934,     0.14978,     0.15211,     0.15386,      0.1552,     0.15167,     0.14886,     0.15153,     0.14874,     0.15149,     0.15305,       0.154,     0.15547,      0.1565,     0.15688,     0.15762,\n",
              "            0.15853,     0.15932,      0.1605,     0.16061,     0.15779,     0.15436,     0.15696,     0.15513,     0.15629,     0.15711,     0.15767,     0.15925,     0.16229,     0.16334,       0.166,     0.16638,     0.16689,     0.16509,     0.16622,     0.16679,     0.16718,     0.16758,      0.1685,\n",
              "            0.16921,     0.16755,     0.16864,     0.16411,     0.16458,     0.16562,     0.16606,     0.16649,     0.16141,     0.16371,      0.1652,     0.16607,     0.16716,     0.16863,     0.17505,     0.17589,     0.17834,     0.18294,     0.18691,     0.18787,     0.18928,     0.18496,     0.18322,\n",
              "            0.18547,     0.18099,     0.17291,     0.17654,     0.17756,     0.16826,     0.16929,     0.17067,     0.17304,     0.17502,     0.17021,     0.17499,     0.17587,     0.16859,     0.16945,     0.17236,      0.1767,      0.1807,     0.18718,     0.18803,     0.18888,     0.19543,     0.19698,\n",
              "              0.199,     0.19434,     0.18574,     0.18852,      0.1907,     0.19346,     0.19775,     0.19955,     0.20104,     0.20243,      0.2073,     0.19891,     0.19963,     0.20863,      0.2109,     0.21357,     0.21855,     0.22105,     0.22966,     0.20648,     0.19697,      0.1955,     0.18552,\n",
              "            0.18327,     0.18548,     0.18727,     0.18921,     0.19169,     0.19661,     0.19862,     0.20131,     0.19263,     0.18849,     0.18966,     0.19083,     0.19334,     0.20428,     0.21424,     0.22142,     0.23132,     0.25101,     0.29217,     0.31722,     0.33885,     0.33723,     0.29291,\n",
              "            0.29941,     0.31967,     0.32588,      0.3321,     0.34245,     0.35637,     0.40586,     0.44327,     0.45822,     0.45817,     0.43865,     0.43324,      0.4429,     0.45255,     0.46263,      0.4784,     0.49417,     0.50587,     0.51519,     0.52451,     0.53383,     0.54315,     0.55948,\n",
              "            0.57811,     0.59675,     0.58925,     0.57624,     0.56322,     0.56392,     0.58425,     0.60459,     0.62493,     0.70932,     0.69956,     0.68979,     0.68003,     0.67027,     0.79895,     0.79163,     0.78431,     0.77699,     0.76967,     0.76234,     0.75502,     0.77299,      0.8462,\n",
              "            0.91942,     0.99264,           1,           1,           1,           1,           1,           1,           1,           1,           1,           1,           1,           1,           1,           1,           1,           1,           1,           1,           1,           1,           1,\n",
              "                  1,           1,           1,           1,           1,           1,           1,           1,           1,           1,           1,           1,           1,           1,           1,           1,           1,           1,           1,           1,           1,           1,           1,\n",
              "                  1,           1,           1,           1,           1,           1,           1,           1,           1,           1,           1,           1,           1,           1,           1,           1,           1,           1,           1,           1,           1,           1,           1,\n",
              "                  1,           1,           1,           1,           1,           1,           1,           1,           1,           1,           1,           1,           1,           1,           1,           1,           1,           1,           1,           1,           1,           1,           1,\n",
              "                  1,           1,           1,           1,           1,           1,           1,           1,           1,           1,           1,           1,           1,           1,           1,           1,           1,           1,           1,           1,           1,           1,           1,\n",
              "                  1,           1,           1,           1,           1,           1,           1,           1,           1,           1,           1]]), 'Confidence', 'Precision'], [array([          0,    0.001001,    0.002002,    0.003003,    0.004004,    0.005005,    0.006006,    0.007007,    0.008008,    0.009009,     0.01001,    0.011011,    0.012012,    0.013013,    0.014014,    0.015015,    0.016016,    0.017017,    0.018018,    0.019019,     0.02002,    0.021021,    0.022022,    0.023023,\n",
              "          0.024024,    0.025025,    0.026026,    0.027027,    0.028028,    0.029029,     0.03003,    0.031031,    0.032032,    0.033033,    0.034034,    0.035035,    0.036036,    0.037037,    0.038038,    0.039039,     0.04004,    0.041041,    0.042042,    0.043043,    0.044044,    0.045045,    0.046046,    0.047047,\n",
              "          0.048048,    0.049049,     0.05005,    0.051051,    0.052052,    0.053053,    0.054054,    0.055055,    0.056056,    0.057057,    0.058058,    0.059059,     0.06006,    0.061061,    0.062062,    0.063063,    0.064064,    0.065065,    0.066066,    0.067067,    0.068068,    0.069069,     0.07007,    0.071071,\n",
              "          0.072072,    0.073073,    0.074074,    0.075075,    0.076076,    0.077077,    0.078078,    0.079079,     0.08008,    0.081081,    0.082082,    0.083083,    0.084084,    0.085085,    0.086086,    0.087087,    0.088088,    0.089089,     0.09009,    0.091091,    0.092092,    0.093093,    0.094094,    0.095095,\n",
              "          0.096096,    0.097097,    0.098098,    0.099099,      0.1001,      0.1011,      0.1021,      0.1031,      0.1041,     0.10511,     0.10611,     0.10711,     0.10811,     0.10911,     0.11011,     0.11111,     0.11211,     0.11311,     0.11411,     0.11512,     0.11612,     0.11712,     0.11812,     0.11912,\n",
              "           0.12012,     0.12112,     0.12212,     0.12312,     0.12412,     0.12513,     0.12613,     0.12713,     0.12813,     0.12913,     0.13013,     0.13113,     0.13213,     0.13313,     0.13413,     0.13514,     0.13614,     0.13714,     0.13814,     0.13914,     0.14014,     0.14114,     0.14214,     0.14314,\n",
              "           0.14414,     0.14515,     0.14615,     0.14715,     0.14815,     0.14915,     0.15015,     0.15115,     0.15215,     0.15315,     0.15415,     0.15516,     0.15616,     0.15716,     0.15816,     0.15916,     0.16016,     0.16116,     0.16216,     0.16316,     0.16416,     0.16517,     0.16617,     0.16717,\n",
              "           0.16817,     0.16917,     0.17017,     0.17117,     0.17217,     0.17317,     0.17417,     0.17518,     0.17618,     0.17718,     0.17818,     0.17918,     0.18018,     0.18118,     0.18218,     0.18318,     0.18418,     0.18519,     0.18619,     0.18719,     0.18819,     0.18919,     0.19019,     0.19119,\n",
              "           0.19219,     0.19319,     0.19419,      0.1952,      0.1962,      0.1972,      0.1982,      0.1992,      0.2002,      0.2012,      0.2022,      0.2032,      0.2042,     0.20521,     0.20621,     0.20721,     0.20821,     0.20921,     0.21021,     0.21121,     0.21221,     0.21321,     0.21421,     0.21522,\n",
              "           0.21622,     0.21722,     0.21822,     0.21922,     0.22022,     0.22122,     0.22222,     0.22322,     0.22422,     0.22523,     0.22623,     0.22723,     0.22823,     0.22923,     0.23023,     0.23123,     0.23223,     0.23323,     0.23423,     0.23524,     0.23624,     0.23724,     0.23824,     0.23924,\n",
              "           0.24024,     0.24124,     0.24224,     0.24324,     0.24424,     0.24525,     0.24625,     0.24725,     0.24825,     0.24925,     0.25025,     0.25125,     0.25225,     0.25325,     0.25425,     0.25526,     0.25626,     0.25726,     0.25826,     0.25926,     0.26026,     0.26126,     0.26226,     0.26326,\n",
              "           0.26426,     0.26527,     0.26627,     0.26727,     0.26827,     0.26927,     0.27027,     0.27127,     0.27227,     0.27327,     0.27427,     0.27528,     0.27628,     0.27728,     0.27828,     0.27928,     0.28028,     0.28128,     0.28228,     0.28328,     0.28428,     0.28529,     0.28629,     0.28729,\n",
              "           0.28829,     0.28929,     0.29029,     0.29129,     0.29229,     0.29329,     0.29429,      0.2953,      0.2963,      0.2973,      0.2983,      0.2993,      0.3003,      0.3013,      0.3023,      0.3033,      0.3043,     0.30531,     0.30631,     0.30731,     0.30831,     0.30931,     0.31031,     0.31131,\n",
              "           0.31231,     0.31331,     0.31431,     0.31532,     0.31632,     0.31732,     0.31832,     0.31932,     0.32032,     0.32132,     0.32232,     0.32332,     0.32432,     0.32533,     0.32633,     0.32733,     0.32833,     0.32933,     0.33033,     0.33133,     0.33233,     0.33333,     0.33433,     0.33534,\n",
              "           0.33634,     0.33734,     0.33834,     0.33934,     0.34034,     0.34134,     0.34234,     0.34334,     0.34434,     0.34535,     0.34635,     0.34735,     0.34835,     0.34935,     0.35035,     0.35135,     0.35235,     0.35335,     0.35435,     0.35536,     0.35636,     0.35736,     0.35836,     0.35936,\n",
              "           0.36036,     0.36136,     0.36236,     0.36336,     0.36436,     0.36537,     0.36637,     0.36737,     0.36837,     0.36937,     0.37037,     0.37137,     0.37237,     0.37337,     0.37437,     0.37538,     0.37638,     0.37738,     0.37838,     0.37938,     0.38038,     0.38138,     0.38238,     0.38338,\n",
              "           0.38438,     0.38539,     0.38639,     0.38739,     0.38839,     0.38939,     0.39039,     0.39139,     0.39239,     0.39339,     0.39439,      0.3954,      0.3964,      0.3974,      0.3984,      0.3994,      0.4004,      0.4014,      0.4024,      0.4034,      0.4044,     0.40541,     0.40641,     0.40741,\n",
              "           0.40841,     0.40941,     0.41041,     0.41141,     0.41241,     0.41341,     0.41441,     0.41542,     0.41642,     0.41742,     0.41842,     0.41942,     0.42042,     0.42142,     0.42242,     0.42342,     0.42442,     0.42543,     0.42643,     0.42743,     0.42843,     0.42943,     0.43043,     0.43143,\n",
              "           0.43243,     0.43343,     0.43443,     0.43544,     0.43644,     0.43744,     0.43844,     0.43944,     0.44044,     0.44144,     0.44244,     0.44344,     0.44444,     0.44545,     0.44645,     0.44745,     0.44845,     0.44945,     0.45045,     0.45145,     0.45245,     0.45345,     0.45445,     0.45546,\n",
              "           0.45646,     0.45746,     0.45846,     0.45946,     0.46046,     0.46146,     0.46246,     0.46346,     0.46446,     0.46547,     0.46647,     0.46747,     0.46847,     0.46947,     0.47047,     0.47147,     0.47247,     0.47347,     0.47447,     0.47548,     0.47648,     0.47748,     0.47848,     0.47948,\n",
              "           0.48048,     0.48148,     0.48248,     0.48348,     0.48448,     0.48549,     0.48649,     0.48749,     0.48849,     0.48949,     0.49049,     0.49149,     0.49249,     0.49349,     0.49449,      0.4955,      0.4965,      0.4975,      0.4985,      0.4995,      0.5005,      0.5015,      0.5025,      0.5035,\n",
              "            0.5045,     0.50551,     0.50651,     0.50751,     0.50851,     0.50951,     0.51051,     0.51151,     0.51251,     0.51351,     0.51451,     0.51552,     0.51652,     0.51752,     0.51852,     0.51952,     0.52052,     0.52152,     0.52252,     0.52352,     0.52452,     0.52553,     0.52653,     0.52753,\n",
              "           0.52853,     0.52953,     0.53053,     0.53153,     0.53253,     0.53353,     0.53453,     0.53554,     0.53654,     0.53754,     0.53854,     0.53954,     0.54054,     0.54154,     0.54254,     0.54354,     0.54454,     0.54555,     0.54655,     0.54755,     0.54855,     0.54955,     0.55055,     0.55155,\n",
              "           0.55255,     0.55355,     0.55455,     0.55556,     0.55656,     0.55756,     0.55856,     0.55956,     0.56056,     0.56156,     0.56256,     0.56356,     0.56456,     0.56557,     0.56657,     0.56757,     0.56857,     0.56957,     0.57057,     0.57157,     0.57257,     0.57357,     0.57457,     0.57558,\n",
              "           0.57658,     0.57758,     0.57858,     0.57958,     0.58058,     0.58158,     0.58258,     0.58358,     0.58458,     0.58559,     0.58659,     0.58759,     0.58859,     0.58959,     0.59059,     0.59159,     0.59259,     0.59359,     0.59459,      0.5956,      0.5966,      0.5976,      0.5986,      0.5996,\n",
              "            0.6006,      0.6016,      0.6026,      0.6036,      0.6046,     0.60561,     0.60661,     0.60761,     0.60861,     0.60961,     0.61061,     0.61161,     0.61261,     0.61361,     0.61461,     0.61562,     0.61662,     0.61762,     0.61862,     0.61962,     0.62062,     0.62162,     0.62262,     0.62362,\n",
              "           0.62462,     0.62563,     0.62663,     0.62763,     0.62863,     0.62963,     0.63063,     0.63163,     0.63263,     0.63363,     0.63463,     0.63564,     0.63664,     0.63764,     0.63864,     0.63964,     0.64064,     0.64164,     0.64264,     0.64364,     0.64464,     0.64565,     0.64665,     0.64765,\n",
              "           0.64865,     0.64965,     0.65065,     0.65165,     0.65265,     0.65365,     0.65465,     0.65566,     0.65666,     0.65766,     0.65866,     0.65966,     0.66066,     0.66166,     0.66266,     0.66366,     0.66466,     0.66567,     0.66667,     0.66767,     0.66867,     0.66967,     0.67067,     0.67167,\n",
              "           0.67267,     0.67367,     0.67467,     0.67568,     0.67668,     0.67768,     0.67868,     0.67968,     0.68068,     0.68168,     0.68268,     0.68368,     0.68468,     0.68569,     0.68669,     0.68769,     0.68869,     0.68969,     0.69069,     0.69169,     0.69269,     0.69369,     0.69469,      0.6957,\n",
              "            0.6967,      0.6977,      0.6987,      0.6997,      0.7007,      0.7017,      0.7027,      0.7037,      0.7047,     0.70571,     0.70671,     0.70771,     0.70871,     0.70971,     0.71071,     0.71171,     0.71271,     0.71371,     0.71471,     0.71572,     0.71672,     0.71772,     0.71872,     0.71972,\n",
              "           0.72072,     0.72172,     0.72272,     0.72372,     0.72472,     0.72573,     0.72673,     0.72773,     0.72873,     0.72973,     0.73073,     0.73173,     0.73273,     0.73373,     0.73473,     0.73574,     0.73674,     0.73774,     0.73874,     0.73974,     0.74074,     0.74174,     0.74274,     0.74374,\n",
              "           0.74474,     0.74575,     0.74675,     0.74775,     0.74875,     0.74975,     0.75075,     0.75175,     0.75275,     0.75375,     0.75475,     0.75576,     0.75676,     0.75776,     0.75876,     0.75976,     0.76076,     0.76176,     0.76276,     0.76376,     0.76476,     0.76577,     0.76677,     0.76777,\n",
              "           0.76877,     0.76977,     0.77077,     0.77177,     0.77277,     0.77377,     0.77477,     0.77578,     0.77678,     0.77778,     0.77878,     0.77978,     0.78078,     0.78178,     0.78278,     0.78378,     0.78478,     0.78579,     0.78679,     0.78779,     0.78879,     0.78979,     0.79079,     0.79179,\n",
              "           0.79279,     0.79379,     0.79479,      0.7958,      0.7968,      0.7978,      0.7988,      0.7998,      0.8008,      0.8018,      0.8028,      0.8038,      0.8048,     0.80581,     0.80681,     0.80781,     0.80881,     0.80981,     0.81081,     0.81181,     0.81281,     0.81381,     0.81481,     0.81582,\n",
              "           0.81682,     0.81782,     0.81882,     0.81982,     0.82082,     0.82182,     0.82282,     0.82382,     0.82482,     0.82583,     0.82683,     0.82783,     0.82883,     0.82983,     0.83083,     0.83183,     0.83283,     0.83383,     0.83483,     0.83584,     0.83684,     0.83784,     0.83884,     0.83984,\n",
              "           0.84084,     0.84184,     0.84284,     0.84384,     0.84484,     0.84585,     0.84685,     0.84785,     0.84885,     0.84985,     0.85085,     0.85185,     0.85285,     0.85385,     0.85485,     0.85586,     0.85686,     0.85786,     0.85886,     0.85986,     0.86086,     0.86186,     0.86286,     0.86386,\n",
              "           0.86486,     0.86587,     0.86687,     0.86787,     0.86887,     0.86987,     0.87087,     0.87187,     0.87287,     0.87387,     0.87487,     0.87588,     0.87688,     0.87788,     0.87888,     0.87988,     0.88088,     0.88188,     0.88288,     0.88388,     0.88488,     0.88589,     0.88689,     0.88789,\n",
              "           0.88889,     0.88989,     0.89089,     0.89189,     0.89289,     0.89389,     0.89489,      0.8959,      0.8969,      0.8979,      0.8989,      0.8999,      0.9009,      0.9019,      0.9029,      0.9039,      0.9049,     0.90591,     0.90691,     0.90791,     0.90891,     0.90991,     0.91091,     0.91191,\n",
              "           0.91291,     0.91391,     0.91491,     0.91592,     0.91692,     0.91792,     0.91892,     0.91992,     0.92092,     0.92192,     0.92292,     0.92392,     0.92492,     0.92593,     0.92693,     0.92793,     0.92893,     0.92993,     0.93093,     0.93193,     0.93293,     0.93393,     0.93493,     0.93594,\n",
              "           0.93694,     0.93794,     0.93894,     0.93994,     0.94094,     0.94194,     0.94294,     0.94394,     0.94494,     0.94595,     0.94695,     0.94795,     0.94895,     0.94995,     0.95095,     0.95195,     0.95295,     0.95395,     0.95495,     0.95596,     0.95696,     0.95796,     0.95896,     0.95996,\n",
              "           0.96096,     0.96196,     0.96296,     0.96396,     0.96496,     0.96597,     0.96697,     0.96797,     0.96897,     0.96997,     0.97097,     0.97197,     0.97297,     0.97397,     0.97497,     0.97598,     0.97698,     0.97798,     0.97898,     0.97998,     0.98098,     0.98198,     0.98298,     0.98398,\n",
              "           0.98498,     0.98599,     0.98699,     0.98799,     0.98899,     0.98999,     0.99099,     0.99199,     0.99299,     0.99399,     0.99499,       0.996,       0.997,       0.998,       0.999,           1]), array([[   0.083882,    0.083882,    0.082237,    0.080592,    0.080592,    0.080592,    0.080592,    0.080592,    0.080592,    0.080592,    0.080592,    0.080592,    0.080592,    0.080592,    0.080592,    0.080592,    0.080592,    0.080592,    0.080592,    0.080592,    0.080592,    0.080592,    0.080592,\n",
              "           0.080592,    0.080592,    0.080592,    0.080592,    0.080592,    0.080592,    0.080592,    0.080592,    0.080592,    0.080592,    0.080592,    0.080592,    0.080592,    0.080592,    0.080592,    0.080592,    0.080592,    0.080592,    0.080592,    0.080592,    0.080592,    0.080592,    0.080592,\n",
              "           0.080592,    0.080592,    0.080592,    0.080592,    0.080592,    0.080592,    0.080592,    0.080592,    0.080592,    0.080592,    0.080592,    0.080592,    0.080592,    0.080592,    0.080592,    0.080592,    0.080592,    0.080592,    0.080592,    0.080592,    0.080592,    0.080592,    0.080592,\n",
              "           0.080592,    0.080592,    0.080592,    0.080592,    0.080592,    0.080592,    0.080592,    0.080592,    0.080592,    0.080592,    0.080592,    0.080592,    0.080592,    0.080592,    0.080592,    0.080592,    0.080592,    0.080592,    0.080592,    0.080592,    0.080592,    0.080592,    0.080592,\n",
              "           0.080592,    0.080592,    0.080592,    0.080592,    0.080592,    0.080592,    0.080592,    0.080592,    0.080592,    0.080592,    0.080592,    0.080592,    0.080592,    0.080592,    0.080592,    0.080592,    0.080592,    0.080592,    0.080592,    0.080592,    0.080592,    0.080592,    0.080592,\n",
              "           0.080592,    0.080592,    0.080592,    0.080592,    0.080592,    0.080592,    0.080592,    0.080592,    0.080592,    0.080592,    0.080592,    0.080592,    0.080592,    0.080592,    0.080592,    0.080592,    0.080592,    0.080592,    0.080592,    0.080592,    0.080592,    0.080592,    0.080592,\n",
              "           0.080592,    0.080592,    0.080592,    0.080592,    0.080592,    0.080592,    0.080592,    0.080592,    0.080592,    0.080592,    0.080592,    0.080592,    0.080592,    0.080592,    0.080592,    0.080592,    0.080592,    0.080592,    0.080592,    0.080592,    0.080592,    0.080592,    0.080592,\n",
              "           0.080592,    0.080592,    0.080592,    0.080592,    0.080592,    0.080592,    0.080592,    0.080592,    0.080592,    0.080592,    0.080592,    0.080592,    0.080592,    0.080592,    0.080592,    0.080592,    0.080592,    0.080592,    0.080592,    0.080592,    0.080592,    0.080592,    0.080592,\n",
              "           0.080592,    0.080592,    0.080592,    0.080592,    0.080592,    0.080592,    0.080592,    0.080592,    0.080592,    0.080592,    0.080592,    0.080592,    0.080592,    0.080592,    0.080592,    0.080592,    0.080592,    0.080592,    0.080592,    0.080592,    0.080592,    0.080592,    0.080592,\n",
              "           0.080592,    0.080592,    0.080592,    0.080592,    0.080592,    0.080592,    0.080592,    0.080592,    0.080592,    0.080592,    0.080592,    0.080592,    0.080592,    0.080592,    0.080592,    0.080592,    0.080592,    0.080592,    0.080592,    0.080592,    0.080592,    0.080592,    0.080592,\n",
              "           0.080592,    0.080592,    0.080592,    0.080592,    0.080592,    0.080592,    0.080592,    0.080592,    0.080592,    0.080592,    0.080592,    0.080592,    0.080592,    0.080592,    0.080592,    0.080592,    0.080592,    0.080592,    0.080592,    0.080592,    0.080592,    0.080592,    0.080592,\n",
              "           0.080592,    0.080592,    0.080592,    0.080592,    0.080592,    0.080592,    0.080592,    0.080592,    0.080592,    0.080592,    0.080592,    0.080592,    0.080592,    0.080592,    0.080592,    0.080592,    0.080592,    0.080592,    0.080592,    0.080592,    0.080592,    0.080592,    0.080592,\n",
              "           0.080592,    0.080592,    0.080592,    0.080592,    0.080592,    0.080592,    0.080592,    0.080592,    0.080592,    0.080592,    0.080592,    0.080592,    0.080592,    0.080592,    0.080592,    0.080592,    0.080592,    0.080592,    0.080592,    0.080592,    0.080592,    0.080592,    0.080592,\n",
              "           0.080592,    0.080592,    0.080592,    0.080592,    0.080592,    0.080592,    0.080592,    0.080592,    0.080592,    0.080592,    0.080592,    0.080592,    0.080592,    0.080592,    0.080592,    0.080592,    0.080592,    0.080592,    0.080592,    0.080592,    0.080592,    0.080592,    0.080592,\n",
              "           0.080592,    0.080592,    0.080592,    0.080592,    0.080592,    0.080592,    0.080592,    0.080592,    0.080592,    0.080592,    0.080592,    0.080592,    0.080592,    0.080592,    0.080592,    0.080592,    0.080592,    0.080592,    0.080592,    0.080592,    0.080592,    0.080592,    0.080592,\n",
              "           0.080592,    0.080592,    0.080592,    0.080592,    0.080592,    0.080592,    0.080592,    0.080592,    0.080592,    0.080592,    0.080592,    0.080592,    0.080592,    0.080592,    0.080592,    0.080592,    0.080592,    0.080592,    0.080592,    0.080592,    0.080592,    0.080592,    0.080592,\n",
              "           0.080592,    0.080592,    0.080592,    0.080592,    0.080592,    0.080592,    0.080592,    0.080592,    0.079508,    0.078947,    0.078947,    0.078947,    0.078947,    0.078947,    0.078947,    0.078947,    0.078947,    0.078947,    0.078947,    0.078947,    0.078947,    0.078947,    0.078947,\n",
              "           0.078947,    0.078947,    0.078947,    0.078947,    0.078947,    0.078947,    0.078947,    0.078947,    0.077352,    0.077303,    0.077303,    0.077303,    0.077303,    0.077303,    0.077303,    0.077303,    0.077303,    0.077303,    0.077303,    0.077303,    0.077303,    0.077303,    0.077303,\n",
              "           0.077303,    0.077303,    0.077303,    0.077303,    0.077303,    0.077303,    0.077303,    0.077303,    0.077303,    0.077303,    0.077303,    0.077303,    0.077303,    0.077303,    0.077303,    0.077303,    0.077303,    0.077303,    0.077303,    0.077303,    0.077303,    0.077303,    0.077303,\n",
              "           0.077303,    0.077303,    0.077303,    0.077303,    0.077303,    0.077303,    0.077303,    0.077303,    0.077303,    0.077303,    0.077303,    0.077303,    0.077303,    0.077303,    0.077303,    0.077303,    0.077303,    0.077254,    0.076804,    0.076355,    0.075905,    0.075658,    0.075658,\n",
              "           0.075658,    0.075658,    0.075658,    0.075658,    0.075658,    0.075658,    0.075658,    0.075658,    0.075658,    0.075658,    0.075658,    0.075658,    0.075658,    0.075658,    0.075658,    0.075658,    0.075658,    0.075658,    0.075658,    0.075658,    0.075658,    0.075658,    0.075658,\n",
              "           0.075658,    0.075658,    0.075658,    0.075658,    0.075658,    0.075658,    0.074013,    0.074013,    0.074013,    0.074013,    0.074013,    0.074013,    0.074013,    0.074013,    0.074013,    0.074013,    0.074013,    0.074013,    0.074013,    0.074013,    0.074013,    0.074013,    0.074013,\n",
              "           0.074013,    0.074013,    0.074013,    0.074013,    0.074013,    0.074013,    0.074013,    0.074013,    0.074013,    0.074013,    0.074013,    0.074013,    0.074013,    0.074013,    0.074013,    0.074013,    0.074013,    0.074013,    0.074013,    0.074013,    0.074013,    0.074013,    0.074013,\n",
              "           0.074013,    0.074013,    0.074013,    0.074013,    0.074013,    0.074013,    0.074013,    0.074013,    0.074013,    0.074013,    0.074013,    0.074013,    0.074013,    0.074013,    0.074013,    0.074013,    0.074013,    0.074013,    0.074013,    0.074013,    0.074013,    0.074013,    0.074013,\n",
              "           0.074013,    0.073553,    0.072991,    0.072429,    0.072368,    0.072368,    0.072368,    0.072368,    0.072368,    0.072368,    0.072368,    0.072368,    0.072368,    0.072368,    0.072368,    0.072368,    0.072368,    0.072368,    0.072368,    0.072368,    0.072368,    0.072368,    0.072368,\n",
              "           0.072368,    0.072368,    0.072368,    0.072368,    0.071903,    0.071422,     0.07094,    0.070724,    0.070724,    0.070724,    0.070724,    0.070724,    0.070724,    0.070724,    0.070724,    0.070724,    0.070724,    0.070724,    0.070724,    0.070724,    0.070724,    0.070724,    0.070724,\n",
              "           0.070724,    0.070724,    0.070724,    0.070724,    0.070724,    0.070724,    0.070724,    0.070724,    0.070724,    0.070724,    0.070724,    0.070724,    0.070724,    0.070724,    0.070724,    0.070724,    0.070724,    0.069079,    0.069079,    0.069079,    0.069079,    0.069079,    0.067434,\n",
              "           0.067434,    0.067434,    0.067434,    0.067434,    0.067434,    0.067434,    0.067434,    0.067434,    0.065789,    0.065789,    0.065789,    0.065789,    0.065789,    0.065789,    0.065789,    0.065789,    0.065789,    0.065789,    0.065789,    0.065789,    0.065789,    0.065789,    0.065789,\n",
              "           0.064145,    0.064145,    0.064145,    0.064145,    0.064145,    0.063748,      0.0625,      0.0625,      0.0625,      0.0625,      0.0625,      0.0625,      0.0625,      0.0625,      0.0625,      0.0625,      0.0625,      0.0625,      0.0625,      0.0625,      0.0625,      0.0625,      0.0625,\n",
              "             0.0625,      0.0625,      0.0625,    0.060855,    0.060855,    0.060855,    0.060855,    0.060855,    0.060855,    0.060855,    0.060855,    0.060855,    0.060855,    0.060855,    0.060855,    0.060855,    0.060855,    0.060855,    0.060855,    0.060855,    0.060855,    0.060855,    0.060855,\n",
              "           0.060855,    0.059211,    0.059211,    0.059211,    0.059211,    0.059211,    0.059211,    0.059211,    0.059211,    0.059211,    0.059211,    0.059211,    0.057344,    0.055921,    0.055921,    0.054276,    0.054276,    0.054276,    0.054276,    0.054276,    0.054276,    0.054276,    0.054276,\n",
              "           0.054276,    0.054276,    0.054276,    0.053818,    0.052694,     0.05104,    0.050987,    0.050135,    0.049342,    0.049342,    0.049342,    0.049342,    0.049342,    0.049342,    0.049342,    0.049342,    0.049342,     0.04846,    0.047697,    0.047697,    0.047697,    0.047697,    0.047697,\n",
              "           0.047697,    0.046053,    0.046053,    0.043596,    0.042763,    0.042763,    0.042763,    0.042763,    0.041118,    0.041118,    0.041118,    0.041118,    0.041118,    0.041118,    0.041118,    0.041118,    0.041118,    0.041118,    0.041118,    0.041118,    0.041118,    0.039566,    0.037829,\n",
              "           0.037829,    0.036712,    0.034539,    0.034539,    0.034539,     0.03125,     0.03125,     0.03125,     0.03125,     0.03125,    0.029605,    0.029605,    0.029605,    0.027961,    0.027961,    0.027961,    0.027961,    0.027961,    0.027961,    0.027961,    0.027961,    0.027961,    0.027961,\n",
              "           0.027961,    0.026983,    0.024671,    0.024671,    0.024671,    0.024671,    0.024671,    0.024671,    0.024671,    0.024671,    0.024671,    0.023282,    0.023026,    0.023026,    0.023026,    0.023026,    0.023026,    0.023026,    0.023026,    0.019687,    0.018564,    0.017988,    0.016864,\n",
              "           0.016447,    0.016447,    0.016447,    0.016447,    0.016447,    0.016447,    0.016447,    0.016447,    0.015311,    0.014803,    0.014803,    0.014803,    0.014803,    0.014803,    0.014803,    0.014803,    0.014803,    0.014803,    0.014803,    0.014803,    0.014803,    0.014241,    0.011513,\n",
              "           0.011513,    0.011513,    0.011513,    0.011513,    0.011513,    0.011513,    0.011513,    0.011513,    0.011513,    0.011146,    0.010303,   0.0098684,   0.0098684,   0.0098684,   0.0098684,   0.0098684,   0.0098684,   0.0098684,   0.0098684,   0.0098684,   0.0098684,   0.0098684,   0.0098684,\n",
              "          0.0098684,   0.0098684,   0.0094707,    0.008989,   0.0085073,   0.0082237,   0.0082237,   0.0082237,   0.0082237,   0.0080521,    0.007715,   0.0073778,   0.0070406,   0.0067034,   0.0065445,   0.0063036,   0.0060628,    0.005822,   0.0055811,   0.0053403,   0.0050994,   0.0049342,   0.0049342,\n",
              "          0.0049342,   0.0049342,    0.003116,   0.0026945,    0.002273,   0.0018516,           0,           0,           0,           0,           0,           0,           0,           0,           0,           0,           0,           0,           0,           0,           0,           0,           0,\n",
              "                  0,           0,           0,           0,           0,           0,           0,           0,           0,           0,           0,           0,           0,           0,           0,           0,           0,           0,           0,           0,           0,           0,           0,\n",
              "                  0,           0,           0,           0,           0,           0,           0,           0,           0,           0,           0,           0,           0,           0,           0,           0,           0,           0,           0,           0,           0,           0,           0,\n",
              "                  0,           0,           0,           0,           0,           0,           0,           0,           0,           0,           0,           0,           0,           0,           0,           0,           0,           0,           0,           0,           0,           0,           0,\n",
              "                  0,           0,           0,           0,           0,           0,           0,           0,           0,           0,           0,           0,           0,           0,           0,           0,           0,           0,           0,           0,           0,           0,           0,\n",
              "                  0,           0,           0,           0,           0,           0,           0,           0,           0,           0,           0]]), 'Confidence', 'Recall']]\n",
              "fitness: 0.47119236168489886\n",
              "keys: ['metrics/precision(B)', 'metrics/recall(B)', 'metrics/mAP50(B)', 'metrics/mAP50-95(B)', 'metrics/precision(P)', 'metrics/recall(P)', 'metrics/mAP50(P)', 'metrics/mAP50-95(P)']\n",
              "maps: array([    0.43501])\n",
              "names: {0: 'marmoset'}\n",
              "plot: True\n",
              "pose: ultralytics.utils.metrics.Metric object\n",
              "results_dict: {'metrics/precision(B)': 0.7840523152449758, 'metrics/recall(B)': 0.7039473684210527, 'metrics/mAP50(B)': 0.7703830973187707, 'metrics/mAP50-95(B)': 0.43170768769666107, 'metrics/precision(P)': 0.11281357349159081, 'metrics/recall(P)': 0.07072368421052631, 'metrics/mAP50(P)': 0.026430817973327636, 'metrics/mAP50-95(P)': 0.003304501365215551, 'fitness': 0.47119236168489886}\n",
              "save_dir: PosixPath('runs/pose/train2')\n",
              "seg: ultralytics.utils.metrics.Metric object\n",
              "speed: {'preprocess': 0.38079908289061004, 'inference': 3.483927323042981, 'loss': 0.0005550911090125336, 'postprocess': 5.76704045746224}\n",
              "task: 'pose'"
            ]
          },
          "execution_count": 9,
          "metadata": {},
          "output_type": "execute_result"
        }
      ],
      "source": [
        "!pip install ultralytics\n",
        "from ultralytics import YOLO\n",
        "\n",
        "model = YOLO(\"yolov8n-pose.pt\")\n",
        "\n",
        "train_path = 'marmoset-train.yaml'\n",
        "model.train(data=train_path, epochs=10)"
      ]
    },
    {
      "cell_type": "code",
      "execution_count": null,
      "metadata": {
        "colab": {
          "base_uri": "https://localhost:8080/"
        },
        "id": "BplsAfjSbo0h",
        "outputId": "f19646c1-b31a-4065-edf1-a2e2e50b333c"
      },
      "outputs": [
        {
          "name": "stdout",
          "output_type": "stream",
          "text": [
            "/content\n",
            "settings_version: 0.0.5\n",
            "datasets_dir: /content/datasets\n",
            "weights_dir: weights\n",
            "runs_dir: runs\n",
            "uuid: 569f3ba64b326db489132663f79cd37279811de477381b83ac131e6cdd129cbb\n",
            "sync: true\n",
            "api_key: ''\n",
            "openai_api_key: ''\n",
            "clearml: true\n",
            "comet: true\n",
            "dvc: true\n",
            "hub: true\n",
            "mlflow: true\n",
            "neptune: true\n",
            "raytune: true\n",
            "tensorboard: true\n",
            "wandb: true\n",
            "vscode_msg: true\n"
          ]
        }
      ],
      "source": [
        "!mv /content/runs/pose/train/weights/best.pt /content/marmo.pt"
      ]
    }
  ],
  "metadata": {
    "accelerator": "GPU",
    "colab": {
      "gpuType": "T4",
      "provenance": []
    },
    "kernelspec": {
      "display_name": "Python 3",
      "name": "python3"
    },
    "language_info": {
      "name": "python"
    }
  },
  "nbformat": 4,
  "nbformat_minor": 0
}
