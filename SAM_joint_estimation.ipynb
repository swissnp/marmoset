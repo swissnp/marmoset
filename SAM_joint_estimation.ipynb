{
  "cells": [
    {
      "cell_type": "code",
      "execution_count": 3,
      "metadata": {
        "id": "xivbX8cx33s0"
      },
      "outputs": [
        {
          "name": "stdout",
          "output_type": "stream",
          "text": [
            "--2024-09-09 07:14:14--  https://dl.fbaipublicfiles.com/segment_anything/sam_vit_h_4b8939.pth\n",
            "Resolving dl.fbaipublicfiles.com (dl.fbaipublicfiles.com)... 18.172.202.93, 18.172.202.63, 18.172.202.54, ...\n",
            "Connecting to dl.fbaipublicfiles.com (dl.fbaipublicfiles.com)|18.172.202.93|:443... connected.\n",
            "HTTP request sent, awaiting response... 200 OK\n",
            "Length: 2564550879 (2.4G) [binary/octet-stream]\n",
            "Saving to: ‘sam_vit_h.pth’\n",
            "\n",
            "sam_vit_h.pth       100%[===================>]   2.39G  61.9MB/s    in 39s     \n",
            "\n",
            "2024-09-09 07:14:54 (62.0 MB/s) - ‘sam_vit_h.pth’ saved [2564550879/2564550879]\n",
            "\n",
            "Collecting git+https://github.com/facebookresearch/segment-anything.git\n",
            "  Cloning https://github.com/facebookresearch/segment-anything.git to /tmp/pip-req-build-psc7mnpx\n",
            "  Running command git clone --filter=blob:none --quiet https://github.com/facebookresearch/segment-anything.git /tmp/pip-req-build-psc7mnpx\n",
            "  Resolved https://github.com/facebookresearch/segment-anything.git to commit 526fd066dea338ba2ca08886853bd37ffd6a8aec\n",
            "  Preparing metadata (setup.py) ... \u001b[?25ldone\n",
            "\u001b[?25hRequirement already satisfied: ultralytics in /home/swiss/miniconda3/envs/ultralytics/lib/python3.12/site-packages (8.2.90)\n",
            "Requirement already satisfied: numpy<2.0.0,>=1.23.0 in /home/swiss/miniconda3/envs/ultralytics/lib/python3.12/site-packages (from ultralytics) (1.26.4)\n",
            "Requirement already satisfied: matplotlib>=3.3.0 in /home/swiss/miniconda3/envs/ultralytics/lib/python3.12/site-packages (from ultralytics) (3.9.2)\n",
            "Requirement already satisfied: opencv-python>=4.6.0 in /home/swiss/miniconda3/envs/ultralytics/lib/python3.12/site-packages (from ultralytics) (4.10.0.84)\n",
            "Requirement already satisfied: pillow>=7.1.2 in /home/swiss/miniconda3/envs/ultralytics/lib/python3.12/site-packages (from ultralytics) (10.4.0)\n",
            "Requirement already satisfied: pyyaml>=5.3.1 in /home/swiss/miniconda3/envs/ultralytics/lib/python3.12/site-packages (from ultralytics) (6.0.2)\n",
            "Requirement already satisfied: requests>=2.23.0 in /home/swiss/miniconda3/envs/ultralytics/lib/python3.12/site-packages (from ultralytics) (2.32.3)\n",
            "Requirement already satisfied: scipy>=1.4.1 in /home/swiss/miniconda3/envs/ultralytics/lib/python3.12/site-packages (from ultralytics) (1.14.0)\n",
            "Requirement already satisfied: torch>=1.8.0 in /home/swiss/miniconda3/envs/ultralytics/lib/python3.12/site-packages (from ultralytics) (2.4.0)\n",
            "Requirement already satisfied: torchvision>=0.9.0 in /home/swiss/miniconda3/envs/ultralytics/lib/python3.12/site-packages (from ultralytics) (0.19.0)\n",
            "Requirement already satisfied: tqdm>=4.64.0 in /home/swiss/miniconda3/envs/ultralytics/lib/python3.12/site-packages (from ultralytics) (4.66.5)\n",
            "Requirement already satisfied: psutil in /home/swiss/miniconda3/envs/ultralytics/lib/python3.12/site-packages (from ultralytics) (6.0.0)\n",
            "Requirement already satisfied: py-cpuinfo in /home/swiss/miniconda3/envs/ultralytics/lib/python3.12/site-packages (from ultralytics) (9.0.0)\n",
            "Requirement already satisfied: pandas>=1.1.4 in /home/swiss/miniconda3/envs/ultralytics/lib/python3.12/site-packages (from ultralytics) (2.2.2)\n",
            "Requirement already satisfied: seaborn>=0.11.0 in /home/swiss/miniconda3/envs/ultralytics/lib/python3.12/site-packages (from ultralytics) (0.13.2)\n",
            "Requirement already satisfied: ultralytics-thop>=2.0.0 in /home/swiss/miniconda3/envs/ultralytics/lib/python3.12/site-packages (from ultralytics) (2.0.5)\n",
            "Requirement already satisfied: contourpy>=1.0.1 in /home/swiss/miniconda3/envs/ultralytics/lib/python3.12/site-packages (from matplotlib>=3.3.0->ultralytics) (1.2.1)\n",
            "Requirement already satisfied: cycler>=0.10 in /home/swiss/miniconda3/envs/ultralytics/lib/python3.12/site-packages (from matplotlib>=3.3.0->ultralytics) (0.12.1)\n",
            "Requirement already satisfied: fonttools>=4.22.0 in /home/swiss/miniconda3/envs/ultralytics/lib/python3.12/site-packages (from matplotlib>=3.3.0->ultralytics) (4.53.1)\n",
            "Requirement already satisfied: kiwisolver>=1.3.1 in /home/swiss/miniconda3/envs/ultralytics/lib/python3.12/site-packages (from matplotlib>=3.3.0->ultralytics) (1.4.5)\n",
            "Requirement already satisfied: packaging>=20.0 in /home/swiss/miniconda3/envs/ultralytics/lib/python3.12/site-packages (from matplotlib>=3.3.0->ultralytics) (24.1)\n",
            "Requirement already satisfied: pyparsing>=2.3.1 in /home/swiss/miniconda3/envs/ultralytics/lib/python3.12/site-packages (from matplotlib>=3.3.0->ultralytics) (3.1.2)\n",
            "Requirement already satisfied: python-dateutil>=2.7 in /home/swiss/miniconda3/envs/ultralytics/lib/python3.12/site-packages (from matplotlib>=3.3.0->ultralytics) (2.9.0.post0)\n",
            "Requirement already satisfied: pytz>=2020.1 in /home/swiss/miniconda3/envs/ultralytics/lib/python3.12/site-packages (from pandas>=1.1.4->ultralytics) (2024.1)\n",
            "Requirement already satisfied: tzdata>=2022.7 in /home/swiss/miniconda3/envs/ultralytics/lib/python3.12/site-packages (from pandas>=1.1.4->ultralytics) (2024.1)\n",
            "Requirement already satisfied: charset-normalizer<4,>=2 in /home/swiss/miniconda3/envs/ultralytics/lib/python3.12/site-packages (from requests>=2.23.0->ultralytics) (3.3.2)\n",
            "Requirement already satisfied: idna<4,>=2.5 in /home/swiss/miniconda3/envs/ultralytics/lib/python3.12/site-packages (from requests>=2.23.0->ultralytics) (3.7)\n",
            "Requirement already satisfied: urllib3<3,>=1.21.1 in /home/swiss/miniconda3/envs/ultralytics/lib/python3.12/site-packages (from requests>=2.23.0->ultralytics) (2.2.2)\n",
            "Requirement already satisfied: certifi>=2017.4.17 in /home/swiss/miniconda3/envs/ultralytics/lib/python3.12/site-packages (from requests>=2.23.0->ultralytics) (2024.7.4)\n",
            "Requirement already satisfied: filelock in /home/swiss/miniconda3/envs/ultralytics/lib/python3.12/site-packages (from torch>=1.8.0->ultralytics) (3.15.4)\n",
            "Requirement already satisfied: typing-extensions>=4.8.0 in /home/swiss/miniconda3/envs/ultralytics/lib/python3.12/site-packages (from torch>=1.8.0->ultralytics) (4.12.2)\n",
            "Requirement already satisfied: sympy in /home/swiss/miniconda3/envs/ultralytics/lib/python3.12/site-packages (from torch>=1.8.0->ultralytics) (1.13.2)\n",
            "Requirement already satisfied: networkx in /home/swiss/miniconda3/envs/ultralytics/lib/python3.12/site-packages (from torch>=1.8.0->ultralytics) (3.3)\n",
            "Requirement already satisfied: jinja2 in /home/swiss/miniconda3/envs/ultralytics/lib/python3.12/site-packages (from torch>=1.8.0->ultralytics) (3.1.4)\n",
            "Requirement already satisfied: fsspec in /home/swiss/miniconda3/envs/ultralytics/lib/python3.12/site-packages (from torch>=1.8.0->ultralytics) (2024.6.1)\n",
            "Requirement already satisfied: setuptools in /home/swiss/miniconda3/envs/ultralytics/lib/python3.12/site-packages (from torch>=1.8.0->ultralytics) (72.1.0)\n",
            "Requirement already satisfied: nvidia-cuda-nvrtc-cu12==12.1.105 in /home/swiss/miniconda3/envs/ultralytics/lib/python3.12/site-packages (from torch>=1.8.0->ultralytics) (12.1.105)\n",
            "Requirement already satisfied: nvidia-cuda-runtime-cu12==12.1.105 in /home/swiss/miniconda3/envs/ultralytics/lib/python3.12/site-packages (from torch>=1.8.0->ultralytics) (12.1.105)\n",
            "Requirement already satisfied: nvidia-cuda-cupti-cu12==12.1.105 in /home/swiss/miniconda3/envs/ultralytics/lib/python3.12/site-packages (from torch>=1.8.0->ultralytics) (12.1.105)\n",
            "Requirement already satisfied: nvidia-cudnn-cu12==9.1.0.70 in /home/swiss/miniconda3/envs/ultralytics/lib/python3.12/site-packages (from torch>=1.8.0->ultralytics) (9.1.0.70)\n",
            "Requirement already satisfied: nvidia-cublas-cu12==12.1.3.1 in /home/swiss/miniconda3/envs/ultralytics/lib/python3.12/site-packages (from torch>=1.8.0->ultralytics) (12.1.3.1)\n",
            "Requirement already satisfied: nvidia-cufft-cu12==11.0.2.54 in /home/swiss/miniconda3/envs/ultralytics/lib/python3.12/site-packages (from torch>=1.8.0->ultralytics) (11.0.2.54)\n",
            "Requirement already satisfied: nvidia-curand-cu12==10.3.2.106 in /home/swiss/miniconda3/envs/ultralytics/lib/python3.12/site-packages (from torch>=1.8.0->ultralytics) (10.3.2.106)\n",
            "Requirement already satisfied: nvidia-cusolver-cu12==11.4.5.107 in /home/swiss/miniconda3/envs/ultralytics/lib/python3.12/site-packages (from torch>=1.8.0->ultralytics) (11.4.5.107)\n",
            "Requirement already satisfied: nvidia-cusparse-cu12==12.1.0.106 in /home/swiss/miniconda3/envs/ultralytics/lib/python3.12/site-packages (from torch>=1.8.0->ultralytics) (12.1.0.106)\n",
            "Requirement already satisfied: nvidia-nccl-cu12==2.20.5 in /home/swiss/miniconda3/envs/ultralytics/lib/python3.12/site-packages (from torch>=1.8.0->ultralytics) (2.20.5)\n",
            "Requirement already satisfied: nvidia-nvtx-cu12==12.1.105 in /home/swiss/miniconda3/envs/ultralytics/lib/python3.12/site-packages (from torch>=1.8.0->ultralytics) (12.1.105)\n",
            "Requirement already satisfied: triton==3.0.0 in /home/swiss/miniconda3/envs/ultralytics/lib/python3.12/site-packages (from torch>=1.8.0->ultralytics) (3.0.0)\n",
            "Requirement already satisfied: nvidia-nvjitlink-cu12 in /home/swiss/miniconda3/envs/ultralytics/lib/python3.12/site-packages (from nvidia-cusolver-cu12==11.4.5.107->torch>=1.8.0->ultralytics) (12.6.20)\n",
            "Requirement already satisfied: six>=1.5 in /home/swiss/miniconda3/envs/ultralytics/lib/python3.12/site-packages (from python-dateutil>=2.7->matplotlib>=3.3.0->ultralytics) (1.16.0)\n",
            "Requirement already satisfied: MarkupSafe>=2.0 in /home/swiss/miniconda3/envs/ultralytics/lib/python3.12/site-packages (from jinja2->torch>=1.8.0->ultralytics) (2.1.5)\n",
            "Requirement already satisfied: mpmath<1.4,>=1.1.0 in /home/swiss/miniconda3/envs/ultralytics/lib/python3.12/site-packages (from sympy->torch>=1.8.0->ultralytics) (1.3.0)\n"
          ]
        }
      ],
      "source": [
        "!test -d test || (wget -O test.zip https://zenodo.org/records/8437121/files/marmoset-dlc-2021-05-07.zip?download=1 && unzip -q test.zip -d ./test && rm -f test.zip)\n",
        "!wget -O sam_vit_h.pth https://dl.fbaipublicfiles.com/segment_anything/sam_vit_h_4b8939.pth\n",
        "!pip install git+https://github.com/facebookresearch/segment-anything.git\n",
        "!pip install ultralytics"
      ]
    },
    {
      "cell_type": "code",
      "execution_count": 44,
      "metadata": {
        "id": "chY_hSe_61UI"
      },
      "outputs": [],
      "source": [
        "from ultralytics import YOLO\n",
        "import glob\n",
        "import numpy as np\n",
        "import torch\n",
        "import cv2\n",
        "import os\n",
        "from tqdm import tqdm\n",
        "from segment_anything import SamPredictor, sam_model_registry\n",
        "\n",
        "class Marmo:\n",
        "    COLORS = [(255, 255, 0), (255, 0, 255), (0, 255, 255),(255, 0, 0), (0, 255, 0), (0, 0, 255)]\n",
        "    # SKELETON = [(0, 1), (0, 2), (0, 3), (3, 7), (7, 8), (5, 12), (13, 14), (11, 14), (3, 9), (9, 10), (3, 4), (4, 5), (6, 13), (6, 11)]\n",
        "    CONFIDENCE_THRESHOLD = 0.5\n",
        "\n",
        "    def __init__(self, pose_model_path, sam_checkpoint_path):\n",
        "        self.pose_model = YOLO(pose_model_path)\n",
        "        device = 'cuda' if torch.cuda.is_available() else 'cpu'\n",
        "        sam = sam_model_registry[\"default\"](checkpoint=sam_checkpoint_path).to(device)\n",
        "        self.mask_predictor = SamPredictor(sam)\n",
        "\n",
        "    @staticmethod\n",
        "    def apply_color_masks(image, masks):\n",
        "        for i, mask in enumerate(masks):\n",
        "            colored_mask = cv2.cvtColor((mask[0].squeeze() * 255).astype('uint8'), cv2.COLOR_GRAY2BGR)\n",
        "            color_overlay = np.zeros_like(image)\n",
        "            color_overlay[:] = Marmo.COLORS[i]\n",
        "            color_overlay[colored_mask == 0] = 0\n",
        "            image = cv2.addWeighted(image, 0.7, color_overlay, 0.3, 0)\n",
        "        return image\n",
        "    \n",
        "    @staticmethod\n",
        "    def draw_joint(image, points):\n",
        "        for i in range(len(points)):\n",
        "            for x, y in points[i]:\n",
        "                image = cv2.circle(image, (int(x), int(y)), 2, Marmo.COLORS[i+1], -1)\n",
        "        return image\n",
        "\n",
        "    # @staticmethod\n",
        "    # def draw_skeleton(image, points, masks):\n",
        "    #     overlay = image.copy()\n",
        "    #     for i, mask in enumerate(masks):\n",
        "    #         for start_i, end_i in Marmo.SKELETON:\n",
        "    #             if mask[start_i] and mask[end_i]:\n",
        "    #                 start_point = tuple(points[i][start_i].astype(int))\n",
        "    #                 end_point = tuple(points[i][end_i].astype(int))\n",
        "    #                 cv2.line(overlay, start_point, end_point, Marmo.COLORS[i], 2)\n",
        "    #     return cv2.addWeighted(image, 0.3, overlay, 0.7, 0)\n",
        "\n",
        "    def predict_image(self, image, mode=\"points\"):\n",
        "        if mode not in [\"points\", \"box\"]:\n",
        "            raise ValueError(f\"Invalid mode of operation: use {' or '.join(['points', 'box'])}\")\n",
        "\n",
        "        pose_result = self.pose_model(image)[0]\n",
        "        if pose_result is None or pose_result.keypoints is None or pose_result.keypoints.conf is None:\n",
        "            return image\n",
        "\n",
        "        joint_points = pose_result.keypoints.xy.cpu().numpy()\n",
        "        boxes = pose_result.boxes.xyxy.cpu().numpy()\n",
        "        point_confidences = pose_result.keypoints.conf.cpu().numpy()\n",
        "        confidence_mask = point_confidences > self.CONFIDENCE_THRESHOLD\n",
        "        zero_mask = ~np.all(joint_points == 0, axis=2)\n",
        "        point_mask = zero_mask & confidence_mask\n",
        "        input_points = np.where(np.expand_dims(point_mask, axis=2), joint_points, 0)\n",
        "\n",
        "        self.mask_predictor.set_image(image)\n",
        "\n",
        "        if mode == \"points\":\n",
        "            sam_masks = [self.mask_predictor.predict(point_coords=point, point_labels=label.astype(int), multimask_output=False) for point, label in zip(input_points, point_mask)]\n",
        "        else:  # mode \"box\"\n",
        "            sam_masks = [self.mask_predictor.predict(box=box, multimask_output=False) for box in boxes]\n",
        "\n",
        "        image = self.apply_color_masks(image, sam_masks)\n",
        "        # image = self.draw_skeleton(image, input_points, sam_masks)\n",
        "        return self.draw_joint(image, input_points)\n",
        "\n",
        "    def predict_images(self, image_paths, save_path, mode=\"points\"):\n",
        "        os.makedirs(save_path, exist_ok=True)\n",
        "        for image_path in tqdm(image_paths):\n",
        "            image = cv2.imread(image_path)\n",
        "            result = self.predict_image(image, mode)\n",
        "            cv2.imwrite(os.path.join(save_path, os.path.basename(image_path)), result)\n"
      ]
    },
    {
      "cell_type": "code",
      "execution_count": 45,
      "metadata": {
        "id": "kvfXMeAZ66wz"
      },
      "outputs": [
        {
          "name": "stderr",
          "output_type": "stream",
          "text": [
            "  0%|          | 0/2108 [00:00<?, ?it/s]"
          ]
        },
        {
          "name": "stdout",
          "output_type": "stream",
          "text": [
            "\n",
            "0: 640x640 1 marmoset, 3.8ms\n",
            "Speed: 1.8ms preprocess, 3.8ms inference, 0.8ms postprocess per image at shape (1, 3, 640, 640)\n"
          ]
        },
        {
          "name": "stderr",
          "output_type": "stream",
          "text": [
            "  0%|          | 1/2108 [00:00<18:01,  1.95it/s]"
          ]
        },
        {
          "name": "stdout",
          "output_type": "stream",
          "text": [
            "\n",
            "0: 480x640 1 marmoset, 4.5ms\n",
            "Speed: 1.1ms preprocess, 4.5ms inference, 0.8ms postprocess per image at shape (1, 3, 480, 640)\n"
          ]
        },
        {
          "name": "stderr",
          "output_type": "stream",
          "text": [
            "  0%|          | 2/2108 [00:00<16:42,  2.10it/s]"
          ]
        },
        {
          "name": "stdout",
          "output_type": "stream",
          "text": [
            "\n",
            "0: 640x640 1 marmoset, 4.4ms\n",
            "Speed: 1.5ms preprocess, 4.4ms inference, 0.8ms postprocess per image at shape (1, 3, 640, 640)\n"
          ]
        },
        {
          "name": "stderr",
          "output_type": "stream",
          "text": [
            "  0%|          | 3/2108 [00:01<16:32,  2.12it/s]"
          ]
        },
        {
          "name": "stdout",
          "output_type": "stream",
          "text": [
            "\n",
            "0: 640x640 1 marmoset, 4.2ms\n",
            "Speed: 1.5ms preprocess, 4.2ms inference, 0.8ms postprocess per image at shape (1, 3, 640, 640)\n"
          ]
        },
        {
          "name": "stderr",
          "output_type": "stream",
          "text": [
            "  0%|          | 4/2108 [00:01<16:46,  2.09it/s]"
          ]
        },
        {
          "name": "stdout",
          "output_type": "stream",
          "text": [
            "\n",
            "0: 640x640 1 marmoset, 4.2ms\n",
            "Speed: 1.5ms preprocess, 4.2ms inference, 0.8ms postprocess per image at shape (1, 3, 640, 640)\n"
          ]
        },
        {
          "name": "stderr",
          "output_type": "stream",
          "text": [
            "  0%|          | 5/2108 [00:02<16:49,  2.08it/s]"
          ]
        },
        {
          "name": "stdout",
          "output_type": "stream",
          "text": [
            "\n",
            "0: 640x640 1 marmoset, 4.2ms\n",
            "Speed: 1.5ms preprocess, 4.2ms inference, 0.8ms postprocess per image at shape (1, 3, 640, 640)\n"
          ]
        },
        {
          "name": "stderr",
          "output_type": "stream",
          "text": [
            "  0%|          | 6/2108 [00:02<16:53,  2.07it/s]"
          ]
        },
        {
          "name": "stdout",
          "output_type": "stream",
          "text": [
            "\n",
            "0: 640x640 1 marmoset, 4.2ms\n",
            "Speed: 1.5ms preprocess, 4.2ms inference, 0.8ms postprocess per image at shape (1, 3, 640, 640)\n"
          ]
        },
        {
          "name": "stderr",
          "output_type": "stream",
          "text": [
            "  0%|          | 7/2108 [00:03<16:55,  2.07it/s]"
          ]
        },
        {
          "name": "stdout",
          "output_type": "stream",
          "text": [
            "\n",
            "0: 640x640 2 marmosets, 4.2ms\n",
            "Speed: 1.4ms preprocess, 4.2ms inference, 0.8ms postprocess per image at shape (1, 3, 640, 640)\n"
          ]
        },
        {
          "name": "stderr",
          "output_type": "stream",
          "text": [
            "  0%|          | 8/2108 [00:03<17:03,  2.05it/s]"
          ]
        },
        {
          "name": "stdout",
          "output_type": "stream",
          "text": [
            "\n",
            "0: 640x640 1 marmoset, 4.2ms\n",
            "Speed: 1.5ms preprocess, 4.2ms inference, 0.8ms postprocess per image at shape (1, 3, 640, 640)\n"
          ]
        },
        {
          "name": "stderr",
          "output_type": "stream",
          "text": [
            "  0%|          | 9/2108 [00:04<17:12,  2.03it/s]"
          ]
        },
        {
          "name": "stdout",
          "output_type": "stream",
          "text": [
            "\n",
            "0: 640x640 2 marmosets, 4.2ms\n",
            "Speed: 1.5ms preprocess, 4.2ms inference, 0.8ms postprocess per image at shape (1, 3, 640, 640)\n"
          ]
        },
        {
          "name": "stderr",
          "output_type": "stream",
          "text": [
            "  0%|          | 10/2108 [00:04<17:19,  2.02it/s]"
          ]
        },
        {
          "name": "stdout",
          "output_type": "stream",
          "text": [
            "\n",
            "0: 640x640 1 marmoset, 4.1ms\n",
            "Speed: 1.5ms preprocess, 4.1ms inference, 0.8ms postprocess per image at shape (1, 3, 640, 640)\n"
          ]
        },
        {
          "name": "stderr",
          "output_type": "stream",
          "text": [
            "  1%|          | 11/2108 [00:05<17:21,  2.01it/s]"
          ]
        },
        {
          "name": "stdout",
          "output_type": "stream",
          "text": [
            "\n",
            "0: 640x640 1 marmoset, 4.1ms\n",
            "Speed: 1.5ms preprocess, 4.1ms inference, 0.8ms postprocess per image at shape (1, 3, 640, 640)\n"
          ]
        },
        {
          "name": "stderr",
          "output_type": "stream",
          "text": [
            "  1%|          | 12/2108 [00:05<17:16,  2.02it/s]"
          ]
        },
        {
          "name": "stdout",
          "output_type": "stream",
          "text": [
            "\n",
            "0: 640x640 (no detections), 4.1ms\n",
            "Speed: 1.4ms preprocess, 4.1ms inference, 0.3ms postprocess per image at shape (1, 3, 640, 640)\n",
            "\n",
            "0: 640x640 1 marmoset, 3.9ms\n",
            "Speed: 1.5ms preprocess, 3.9ms inference, 0.7ms postprocess per image at shape (1, 3, 640, 640)\n"
          ]
        },
        {
          "name": "stderr",
          "output_type": "stream",
          "text": [
            "  1%|          | 14/2108 [00:06<13:41,  2.55it/s]"
          ]
        },
        {
          "name": "stdout",
          "output_type": "stream",
          "text": [
            "\n",
            "0: 480x640 1 marmoset, 4.4ms\n",
            "Speed: 1.0ms preprocess, 4.4ms inference, 0.7ms postprocess per image at shape (1, 3, 480, 640)\n"
          ]
        },
        {
          "name": "stderr",
          "output_type": "stream",
          "text": [
            "  1%|          | 15/2108 [00:06<14:44,  2.37it/s]"
          ]
        },
        {
          "name": "stdout",
          "output_type": "stream",
          "text": [
            "\n",
            "0: 640x640 1 marmoset, 4.3ms\n",
            "Speed: 1.5ms preprocess, 4.3ms inference, 0.7ms postprocess per image at shape (1, 3, 640, 640)\n"
          ]
        },
        {
          "name": "stderr",
          "output_type": "stream",
          "text": [
            "  1%|          | 16/2108 [00:07<15:39,  2.23it/s]"
          ]
        },
        {
          "name": "stdout",
          "output_type": "stream",
          "text": [
            "\n",
            "0: 640x640 1 marmoset, 4.1ms\n",
            "Speed: 1.5ms preprocess, 4.1ms inference, 0.7ms postprocess per image at shape (1, 3, 640, 640)\n"
          ]
        },
        {
          "name": "stderr",
          "output_type": "stream",
          "text": [
            "  1%|          | 17/2108 [00:07<16:15,  2.14it/s]"
          ]
        },
        {
          "name": "stdout",
          "output_type": "stream",
          "text": [
            "\n",
            "0: 640x640 1 marmoset, 4.0ms\n",
            "Speed: 1.5ms preprocess, 4.0ms inference, 0.7ms postprocess per image at shape (1, 3, 640, 640)\n"
          ]
        },
        {
          "name": "stderr",
          "output_type": "stream",
          "text": [
            "  1%|          | 18/2108 [00:08<16:43,  2.08it/s]"
          ]
        },
        {
          "name": "stdout",
          "output_type": "stream",
          "text": [
            "\n",
            "0: 640x640 1 marmoset, 4.1ms\n",
            "Speed: 1.5ms preprocess, 4.1ms inference, 0.7ms postprocess per image at shape (1, 3, 640, 640)\n"
          ]
        },
        {
          "name": "stderr",
          "output_type": "stream",
          "text": [
            "  1%|          | 19/2108 [00:08<16:55,  2.06it/s]"
          ]
        },
        {
          "name": "stdout",
          "output_type": "stream",
          "text": [
            "\n",
            "0: 640x640 1 marmoset, 4.1ms\n",
            "Speed: 1.5ms preprocess, 4.1ms inference, 0.7ms postprocess per image at shape (1, 3, 640, 640)\n"
          ]
        },
        {
          "name": "stderr",
          "output_type": "stream",
          "text": [
            "  1%|          | 20/2108 [00:09<17:38,  1.97it/s]"
          ]
        },
        {
          "name": "stdout",
          "output_type": "stream",
          "text": [
            "\n",
            "0: 640x640 1 marmoset, 4.1ms\n",
            "Speed: 1.5ms preprocess, 4.1ms inference, 0.8ms postprocess per image at shape (1, 3, 640, 640)\n"
          ]
        },
        {
          "name": "stderr",
          "output_type": "stream",
          "text": [
            "  1%|          | 21/2108 [00:10<17:59,  1.93it/s]"
          ]
        },
        {
          "name": "stdout",
          "output_type": "stream",
          "text": [
            "\n",
            "0: 640x640 1 marmoset, 4.2ms\n",
            "Speed: 1.5ms preprocess, 4.2ms inference, 0.8ms postprocess per image at shape (1, 3, 640, 640)\n"
          ]
        },
        {
          "name": "stderr",
          "output_type": "stream",
          "text": [
            "  1%|          | 22/2108 [00:10<18:11,  1.91it/s]"
          ]
        },
        {
          "name": "stdout",
          "output_type": "stream",
          "text": [
            "\n",
            "0: 640x640 1 marmoset, 4.1ms\n",
            "Speed: 1.5ms preprocess, 4.1ms inference, 0.8ms postprocess per image at shape (1, 3, 640, 640)\n"
          ]
        },
        {
          "name": "stderr",
          "output_type": "stream",
          "text": [
            "  1%|          | 23/2108 [00:11<18:18,  1.90it/s]"
          ]
        },
        {
          "name": "stdout",
          "output_type": "stream",
          "text": [
            "\n",
            "0: 640x640 1 marmoset, 4.0ms\n",
            "Speed: 1.5ms preprocess, 4.0ms inference, 0.7ms postprocess per image at shape (1, 3, 640, 640)\n"
          ]
        },
        {
          "name": "stderr",
          "output_type": "stream",
          "text": [
            "  1%|          | 24/2108 [00:11<18:13,  1.91it/s]"
          ]
        },
        {
          "name": "stdout",
          "output_type": "stream",
          "text": [
            "\n",
            "0: 640x640 1 marmoset, 4.1ms\n",
            "Speed: 1.5ms preprocess, 4.1ms inference, 0.7ms postprocess per image at shape (1, 3, 640, 640)\n"
          ]
        },
        {
          "name": "stderr",
          "output_type": "stream",
          "text": [
            "  1%|          | 25/2108 [00:12<18:10,  1.91it/s]"
          ]
        },
        {
          "name": "stdout",
          "output_type": "stream",
          "text": [
            "\n",
            "0: 640x640 1 marmoset, 4.0ms\n",
            "Speed: 1.5ms preprocess, 4.0ms inference, 0.7ms postprocess per image at shape (1, 3, 640, 640)\n"
          ]
        },
        {
          "name": "stderr",
          "output_type": "stream",
          "text": [
            "  1%|          | 26/2108 [00:12<18:06,  1.92it/s]"
          ]
        },
        {
          "name": "stdout",
          "output_type": "stream",
          "text": [
            "\n",
            "0: 640x640 2 marmosets, 4.1ms\n",
            "Speed: 1.4ms preprocess, 4.1ms inference, 0.7ms postprocess per image at shape (1, 3, 640, 640)\n"
          ]
        },
        {
          "name": "stderr",
          "output_type": "stream",
          "text": [
            "  1%|▏         | 27/2108 [00:13<18:41,  1.86it/s]"
          ]
        },
        {
          "name": "stdout",
          "output_type": "stream",
          "text": [
            "\n",
            "0: 640x640 1 marmoset, 4.1ms\n",
            "Speed: 1.5ms preprocess, 4.1ms inference, 0.7ms postprocess per image at shape (1, 3, 640, 640)\n"
          ]
        },
        {
          "name": "stderr",
          "output_type": "stream",
          "text": [
            "  1%|▏         | 28/2108 [00:13<18:58,  1.83it/s]"
          ]
        },
        {
          "name": "stdout",
          "output_type": "stream",
          "text": [
            "\n",
            "0: 640x640 1 marmoset, 4.1ms\n",
            "Speed: 1.5ms preprocess, 4.1ms inference, 0.7ms postprocess per image at shape (1, 3, 640, 640)\n"
          ]
        },
        {
          "name": "stderr",
          "output_type": "stream",
          "text": [
            "  1%|▏         | 29/2108 [00:14<18:46,  1.84it/s]"
          ]
        },
        {
          "name": "stdout",
          "output_type": "stream",
          "text": [
            "\n",
            "0: 640x640 1 marmoset, 4.1ms\n",
            "Speed: 1.5ms preprocess, 4.1ms inference, 0.7ms postprocess per image at shape (1, 3, 640, 640)\n"
          ]
        },
        {
          "name": "stderr",
          "output_type": "stream",
          "text": [
            "  1%|▏         | 30/2108 [00:14<18:34,  1.86it/s]"
          ]
        },
        {
          "name": "stdout",
          "output_type": "stream",
          "text": [
            "\n",
            "0: 640x640 1 marmoset, 4.0ms\n",
            "Speed: 1.4ms preprocess, 4.0ms inference, 0.7ms postprocess per image at shape (1, 3, 640, 640)\n"
          ]
        },
        {
          "name": "stderr",
          "output_type": "stream",
          "text": [
            "  1%|▏         | 31/2108 [00:15<18:26,  1.88it/s]"
          ]
        },
        {
          "name": "stdout",
          "output_type": "stream",
          "text": [
            "\n",
            "0: 640x640 2 marmosets, 4.1ms\n",
            "Speed: 1.4ms preprocess, 4.1ms inference, 0.7ms postprocess per image at shape (1, 3, 640, 640)\n"
          ]
        },
        {
          "name": "stderr",
          "output_type": "stream",
          "text": [
            "  2%|▏         | 32/2108 [00:15<18:20,  1.89it/s]"
          ]
        },
        {
          "name": "stdout",
          "output_type": "stream",
          "text": [
            "\n",
            "0: 640x640 2 marmosets, 4.1ms\n",
            "Speed: 1.5ms preprocess, 4.1ms inference, 0.7ms postprocess per image at shape (1, 3, 640, 640)\n"
          ]
        },
        {
          "name": "stderr",
          "output_type": "stream",
          "text": [
            "  2%|▏         | 33/2108 [00:16<18:26,  1.87it/s]"
          ]
        },
        {
          "name": "stdout",
          "output_type": "stream",
          "text": [
            "\n",
            "0: 640x640 2 marmosets, 4.1ms\n",
            "Speed: 1.4ms preprocess, 4.1ms inference, 0.8ms postprocess per image at shape (1, 3, 640, 640)\n"
          ]
        },
        {
          "name": "stderr",
          "output_type": "stream",
          "text": [
            "  2%|▏         | 34/2108 [00:17<18:23,  1.88it/s]"
          ]
        },
        {
          "name": "stdout",
          "output_type": "stream",
          "text": [
            "\n",
            "0: 640x640 1 marmoset, 4.1ms\n",
            "Speed: 1.5ms preprocess, 4.1ms inference, 0.7ms postprocess per image at shape (1, 3, 640, 640)\n"
          ]
        },
        {
          "name": "stderr",
          "output_type": "stream",
          "text": [
            "  2%|▏         | 35/2108 [00:17<17:53,  1.93it/s]"
          ]
        },
        {
          "name": "stdout",
          "output_type": "stream",
          "text": [
            "\n",
            "0: 640x640 1 marmoset, 4.1ms\n",
            "Speed: 1.5ms preprocess, 4.1ms inference, 0.7ms postprocess per image at shape (1, 3, 640, 640)\n"
          ]
        },
        {
          "name": "stderr",
          "output_type": "stream",
          "text": [
            "  2%|▏         | 36/2108 [00:18<19:21,  1.78it/s]"
          ]
        },
        {
          "name": "stdout",
          "output_type": "stream",
          "text": [
            "\n",
            "0: 640x640 1 marmoset, 4.1ms\n",
            "Speed: 1.4ms preprocess, 4.1ms inference, 0.7ms postprocess per image at shape (1, 3, 640, 640)\n"
          ]
        },
        {
          "name": "stderr",
          "output_type": "stream",
          "text": [
            "  2%|▏         | 37/2108 [00:18<20:30,  1.68it/s]"
          ]
        },
        {
          "name": "stdout",
          "output_type": "stream",
          "text": [
            "\n",
            "0: 640x640 1 marmoset, 4.1ms\n",
            "Speed: 1.5ms preprocess, 4.1ms inference, 0.7ms postprocess per image at shape (1, 3, 640, 640)\n"
          ]
        },
        {
          "name": "stderr",
          "output_type": "stream",
          "text": [
            "  2%|▏         | 38/2108 [00:19<20:33,  1.68it/s]"
          ]
        },
        {
          "name": "stdout",
          "output_type": "stream",
          "text": [
            "\n",
            "0: 640x640 1 marmoset, 4.1ms\n",
            "Speed: 1.5ms preprocess, 4.1ms inference, 0.7ms postprocess per image at shape (1, 3, 640, 640)\n"
          ]
        },
        {
          "name": "stderr",
          "output_type": "stream",
          "text": [
            "  2%|▏         | 39/2108 [00:19<20:04,  1.72it/s]"
          ]
        },
        {
          "name": "stdout",
          "output_type": "stream",
          "text": [
            "\n",
            "0: 640x640 1 marmoset, 4.1ms\n",
            "Speed: 1.5ms preprocess, 4.1ms inference, 0.8ms postprocess per image at shape (1, 3, 640, 640)\n"
          ]
        },
        {
          "name": "stderr",
          "output_type": "stream",
          "text": [
            "  2%|▏         | 40/2108 [00:20<19:39,  1.75it/s]"
          ]
        },
        {
          "name": "stdout",
          "output_type": "stream",
          "text": [
            "\n",
            "0: 640x640 1 marmoset, 4.1ms\n",
            "Speed: 1.4ms preprocess, 4.1ms inference, 0.7ms postprocess per image at shape (1, 3, 640, 640)\n"
          ]
        },
        {
          "name": "stderr",
          "output_type": "stream",
          "text": [
            "  2%|▏         | 41/2108 [00:21<19:12,  1.79it/s]"
          ]
        },
        {
          "name": "stdout",
          "output_type": "stream",
          "text": [
            "\n",
            "0: 640x640 1 marmoset, 4.2ms\n",
            "Speed: 1.5ms preprocess, 4.2ms inference, 0.8ms postprocess per image at shape (1, 3, 640, 640)\n"
          ]
        },
        {
          "name": "stderr",
          "output_type": "stream",
          "text": [
            "  2%|▏         | 42/2108 [00:21<18:56,  1.82it/s]"
          ]
        },
        {
          "name": "stdout",
          "output_type": "stream",
          "text": [
            "\n",
            "0: 640x640 1 marmoset, 4.2ms\n",
            "Speed: 1.5ms preprocess, 4.2ms inference, 0.8ms postprocess per image at shape (1, 3, 640, 640)\n"
          ]
        },
        {
          "name": "stderr",
          "output_type": "stream",
          "text": [
            "  2%|▏         | 43/2108 [00:22<18:39,  1.84it/s]"
          ]
        },
        {
          "name": "stdout",
          "output_type": "stream",
          "text": [
            "\n",
            "0: 640x640 2 marmosets, 4.1ms\n",
            "Speed: 1.4ms preprocess, 4.1ms inference, 0.8ms postprocess per image at shape (1, 3, 640, 640)\n"
          ]
        },
        {
          "name": "stderr",
          "output_type": "stream",
          "text": [
            "  2%|▏         | 44/2108 [00:22<18:35,  1.85it/s]"
          ]
        },
        {
          "name": "stdout",
          "output_type": "stream",
          "text": [
            "\n",
            "0: 640x640 1 marmoset, 4.1ms\n",
            "Speed: 1.5ms preprocess, 4.1ms inference, 0.8ms postprocess per image at shape (1, 3, 640, 640)\n"
          ]
        },
        {
          "name": "stderr",
          "output_type": "stream",
          "text": [
            "  2%|▏         | 45/2108 [00:23<19:34,  1.76it/s]"
          ]
        },
        {
          "name": "stdout",
          "output_type": "stream",
          "text": [
            "\n",
            "0: 640x640 1 marmoset, 4.1ms\n",
            "Speed: 1.5ms preprocess, 4.1ms inference, 0.8ms postprocess per image at shape (1, 3, 640, 640)\n"
          ]
        },
        {
          "name": "stderr",
          "output_type": "stream",
          "text": [
            "  2%|▏         | 46/2108 [00:23<19:37,  1.75it/s]"
          ]
        },
        {
          "name": "stdout",
          "output_type": "stream",
          "text": [
            "\n",
            "0: 480x640 1 marmoset, 4.4ms\n",
            "Speed: 1.0ms preprocess, 4.4ms inference, 0.7ms postprocess per image at shape (1, 3, 480, 640)\n"
          ]
        },
        {
          "name": "stderr",
          "output_type": "stream",
          "text": [
            "  2%|▏         | 47/2108 [00:24<19:12,  1.79it/s]"
          ]
        },
        {
          "name": "stdout",
          "output_type": "stream",
          "text": [
            "\n",
            "0: 640x640 1 marmoset, 4.3ms\n",
            "Speed: 1.5ms preprocess, 4.3ms inference, 0.7ms postprocess per image at shape (1, 3, 640, 640)\n"
          ]
        },
        {
          "name": "stderr",
          "output_type": "stream",
          "text": [
            "  2%|▏         | 48/2108 [00:24<19:01,  1.80it/s]"
          ]
        },
        {
          "name": "stdout",
          "output_type": "stream",
          "text": [
            "\n",
            "0: 640x640 2 marmosets, 4.1ms\n",
            "Speed: 1.4ms preprocess, 4.1ms inference, 0.7ms postprocess per image at shape (1, 3, 640, 640)\n"
          ]
        },
        {
          "name": "stderr",
          "output_type": "stream",
          "text": [
            "  2%|▏         | 49/2108 [00:25<18:55,  1.81it/s]"
          ]
        },
        {
          "name": "stdout",
          "output_type": "stream",
          "text": [
            "\n",
            "0: 640x640 1 marmoset, 4.1ms\n",
            "Speed: 1.4ms preprocess, 4.1ms inference, 0.7ms postprocess per image at shape (1, 3, 640, 640)\n"
          ]
        },
        {
          "name": "stderr",
          "output_type": "stream",
          "text": [
            "  2%|▏         | 50/2108 [00:26<18:49,  1.82it/s]"
          ]
        },
        {
          "name": "stdout",
          "output_type": "stream",
          "text": [
            "\n",
            "0: 640x640 1 marmoset, 4.2ms\n",
            "Speed: 1.5ms preprocess, 4.2ms inference, 0.8ms postprocess per image at shape (1, 3, 640, 640)\n"
          ]
        },
        {
          "name": "stderr",
          "output_type": "stream",
          "text": [
            "  2%|▏         | 51/2108 [00:26<18:46,  1.83it/s]"
          ]
        },
        {
          "name": "stdout",
          "output_type": "stream",
          "text": [
            "\n",
            "0: 480x640 1 marmoset, 4.5ms\n",
            "Speed: 1.1ms preprocess, 4.5ms inference, 0.8ms postprocess per image at shape (1, 3, 480, 640)\n"
          ]
        },
        {
          "name": "stderr",
          "output_type": "stream",
          "text": [
            "  2%|▏         | 52/2108 [00:27<18:36,  1.84it/s]"
          ]
        },
        {
          "name": "stdout",
          "output_type": "stream",
          "text": [
            "\n",
            "0: 640x640 2 marmosets, 4.4ms\n",
            "Speed: 1.4ms preprocess, 4.4ms inference, 0.7ms postprocess per image at shape (1, 3, 640, 640)\n"
          ]
        },
        {
          "name": "stderr",
          "output_type": "stream",
          "text": [
            "  3%|▎         | 53/2108 [00:27<18:35,  1.84it/s]"
          ]
        },
        {
          "name": "stdout",
          "output_type": "stream",
          "text": [
            "\n",
            "0: 640x640 1 marmoset, 4.1ms\n",
            "Speed: 1.5ms preprocess, 4.1ms inference, 0.8ms postprocess per image at shape (1, 3, 640, 640)\n"
          ]
        },
        {
          "name": "stderr",
          "output_type": "stream",
          "text": [
            "  3%|▎         | 54/2108 [00:28<18:41,  1.83it/s]"
          ]
        },
        {
          "name": "stdout",
          "output_type": "stream",
          "text": [
            "\n",
            "0: 640x640 1 marmoset, 4.1ms\n",
            "Speed: 1.5ms preprocess, 4.1ms inference, 0.8ms postprocess per image at shape (1, 3, 640, 640)\n"
          ]
        },
        {
          "name": "stderr",
          "output_type": "stream",
          "text": [
            "  3%|▎         | 55/2108 [00:28<18:43,  1.83it/s]"
          ]
        },
        {
          "name": "stdout",
          "output_type": "stream",
          "text": [
            "\n",
            "0: 640x640 1 marmoset, 4.1ms\n",
            "Speed: 1.5ms preprocess, 4.1ms inference, 0.8ms postprocess per image at shape (1, 3, 640, 640)\n"
          ]
        },
        {
          "name": "stderr",
          "output_type": "stream",
          "text": [
            "  3%|▎         | 56/2108 [00:29<18:35,  1.84it/s]"
          ]
        },
        {
          "name": "stdout",
          "output_type": "stream",
          "text": [
            "\n",
            "0: 640x640 1 marmoset, 4.0ms\n",
            "Speed: 1.5ms preprocess, 4.0ms inference, 0.7ms postprocess per image at shape (1, 3, 640, 640)\n"
          ]
        },
        {
          "name": "stderr",
          "output_type": "stream",
          "text": [
            "  3%|▎         | 57/2108 [00:29<18:50,  1.81it/s]"
          ]
        },
        {
          "name": "stdout",
          "output_type": "stream",
          "text": [
            "\n",
            "0: 640x640 2 marmosets, 4.1ms\n",
            "Speed: 1.4ms preprocess, 4.1ms inference, 0.7ms postprocess per image at shape (1, 3, 640, 640)\n"
          ]
        },
        {
          "name": "stderr",
          "output_type": "stream",
          "text": [
            "  3%|▎         | 58/2108 [00:30<18:57,  1.80it/s]"
          ]
        },
        {
          "name": "stdout",
          "output_type": "stream",
          "text": [
            "\n",
            "0: 640x640 1 marmoset, 4.1ms\n",
            "Speed: 1.6ms preprocess, 4.1ms inference, 0.7ms postprocess per image at shape (1, 3, 640, 640)\n"
          ]
        },
        {
          "name": "stderr",
          "output_type": "stream",
          "text": [
            "  3%|▎         | 59/2108 [00:30<19:03,  1.79it/s]"
          ]
        },
        {
          "name": "stdout",
          "output_type": "stream",
          "text": [
            "\n",
            "0: 640x640 1 marmoset, 4.1ms\n",
            "Speed: 1.5ms preprocess, 4.1ms inference, 0.7ms postprocess per image at shape (1, 3, 640, 640)\n"
          ]
        },
        {
          "name": "stderr",
          "output_type": "stream",
          "text": [
            "  3%|▎         | 60/2108 [00:31<18:58,  1.80it/s]"
          ]
        },
        {
          "name": "stdout",
          "output_type": "stream",
          "text": [
            "\n",
            "0: 640x640 2 marmosets, 4.1ms\n",
            "Speed: 1.5ms preprocess, 4.1ms inference, 0.8ms postprocess per image at shape (1, 3, 640, 640)\n"
          ]
        },
        {
          "name": "stderr",
          "output_type": "stream",
          "text": [
            "  3%|▎         | 61/2108 [00:32<18:58,  1.80it/s]"
          ]
        },
        {
          "name": "stdout",
          "output_type": "stream",
          "text": [
            "\n",
            "0: 480x640 1 marmoset, 4.4ms\n",
            "Speed: 1.0ms preprocess, 4.4ms inference, 0.7ms postprocess per image at shape (1, 3, 480, 640)\n"
          ]
        },
        {
          "name": "stderr",
          "output_type": "stream",
          "text": [
            "  3%|▎         | 62/2108 [00:32<19:04,  1.79it/s]"
          ]
        },
        {
          "name": "stdout",
          "output_type": "stream",
          "text": [
            "\n",
            "0: 640x640 1 marmoset, 4.3ms\n",
            "Speed: 1.5ms preprocess, 4.3ms inference, 0.7ms postprocess per image at shape (1, 3, 640, 640)\n"
          ]
        },
        {
          "name": "stderr",
          "output_type": "stream",
          "text": [
            "  3%|▎         | 63/2108 [00:33<19:13,  1.77it/s]"
          ]
        },
        {
          "name": "stdout",
          "output_type": "stream",
          "text": [
            "\n",
            "0: 640x640 3 marmosets, 4.1ms\n",
            "Speed: 1.5ms preprocess, 4.1ms inference, 0.7ms postprocess per image at shape (1, 3, 640, 640)\n"
          ]
        },
        {
          "name": "stderr",
          "output_type": "stream",
          "text": [
            "  3%|▎         | 64/2108 [00:33<19:23,  1.76it/s]"
          ]
        },
        {
          "name": "stdout",
          "output_type": "stream",
          "text": [
            "\n",
            "0: 640x640 1 marmoset, 4.1ms\n",
            "Speed: 1.5ms preprocess, 4.1ms inference, 0.8ms postprocess per image at shape (1, 3, 640, 640)\n"
          ]
        },
        {
          "name": "stderr",
          "output_type": "stream",
          "text": [
            "  3%|▎         | 65/2108 [00:34<19:15,  1.77it/s]"
          ]
        },
        {
          "name": "stdout",
          "output_type": "stream",
          "text": [
            "\n",
            "0: 640x640 1 marmoset, 4.1ms\n",
            "Speed: 1.5ms preprocess, 4.1ms inference, 0.7ms postprocess per image at shape (1, 3, 640, 640)\n"
          ]
        },
        {
          "name": "stderr",
          "output_type": "stream",
          "text": [
            "  3%|▎         | 66/2108 [00:34<19:09,  1.78it/s]"
          ]
        },
        {
          "name": "stdout",
          "output_type": "stream",
          "text": [
            "\n",
            "0: 640x640 2 marmosets, 4.0ms\n",
            "Speed: 1.4ms preprocess, 4.0ms inference, 0.7ms postprocess per image at shape (1, 3, 640, 640)\n"
          ]
        },
        {
          "name": "stderr",
          "output_type": "stream",
          "text": [
            "  3%|▎         | 67/2108 [00:35<19:04,  1.78it/s]"
          ]
        },
        {
          "name": "stdout",
          "output_type": "stream",
          "text": [
            "\n",
            "0: 480x640 1 marmoset, 4.4ms\n",
            "Speed: 1.0ms preprocess, 4.4ms inference, 0.7ms postprocess per image at shape (1, 3, 480, 640)\n"
          ]
        },
        {
          "name": "stderr",
          "output_type": "stream",
          "text": [
            "  3%|▎         | 68/2108 [00:36<18:46,  1.81it/s]"
          ]
        },
        {
          "name": "stdout",
          "output_type": "stream",
          "text": [
            "\n",
            "0: 640x640 1 marmoset, 4.3ms\n",
            "Speed: 1.5ms preprocess, 4.3ms inference, 0.7ms postprocess per image at shape (1, 3, 640, 640)\n"
          ]
        },
        {
          "name": "stderr",
          "output_type": "stream",
          "text": [
            "  3%|▎         | 69/2108 [00:36<18:42,  1.82it/s]"
          ]
        },
        {
          "name": "stdout",
          "output_type": "stream",
          "text": [
            "\n",
            "0: 640x640 1 marmoset, 4.1ms\n",
            "Speed: 1.5ms preprocess, 4.1ms inference, 0.7ms postprocess per image at shape (1, 3, 640, 640)\n"
          ]
        },
        {
          "name": "stderr",
          "output_type": "stream",
          "text": [
            "  3%|▎         | 70/2108 [00:37<18:50,  1.80it/s]"
          ]
        },
        {
          "name": "stdout",
          "output_type": "stream",
          "text": [
            "\n",
            "0: 640x640 1 marmoset, 4.0ms\n",
            "Speed: 1.5ms preprocess, 4.0ms inference, 0.7ms postprocess per image at shape (1, 3, 640, 640)\n"
          ]
        },
        {
          "name": "stderr",
          "output_type": "stream",
          "text": [
            "  3%|▎         | 71/2108 [00:37<19:00,  1.79it/s]"
          ]
        },
        {
          "name": "stdout",
          "output_type": "stream",
          "text": [
            "\n",
            "0: 640x640 1 marmoset, 4.1ms\n",
            "Speed: 1.4ms preprocess, 4.1ms inference, 0.7ms postprocess per image at shape (1, 3, 640, 640)\n"
          ]
        },
        {
          "name": "stderr",
          "output_type": "stream",
          "text": [
            "  3%|▎         | 72/2108 [00:38<19:06,  1.78it/s]"
          ]
        },
        {
          "name": "stdout",
          "output_type": "stream",
          "text": [
            "\n",
            "0: 640x640 1 marmoset, 4.1ms\n",
            "Speed: 1.5ms preprocess, 4.1ms inference, 0.7ms postprocess per image at shape (1, 3, 640, 640)\n"
          ]
        },
        {
          "name": "stderr",
          "output_type": "stream",
          "text": [
            "  3%|▎         | 73/2108 [00:38<19:10,  1.77it/s]"
          ]
        },
        {
          "name": "stdout",
          "output_type": "stream",
          "text": [
            "\n",
            "0: 640x640 1 marmoset, 4.1ms\n",
            "Speed: 1.5ms preprocess, 4.1ms inference, 0.7ms postprocess per image at shape (1, 3, 640, 640)\n"
          ]
        },
        {
          "name": "stderr",
          "output_type": "stream",
          "text": [
            "  4%|▎         | 74/2108 [00:39<19:12,  1.76it/s]"
          ]
        },
        {
          "name": "stdout",
          "output_type": "stream",
          "text": [
            "\n",
            "0: 640x640 2 marmosets, 4.1ms\n",
            "Speed: 1.4ms preprocess, 4.1ms inference, 0.7ms postprocess per image at shape (1, 3, 640, 640)\n"
          ]
        },
        {
          "name": "stderr",
          "output_type": "stream",
          "text": [
            "  4%|▎         | 75/2108 [00:39<19:08,  1.77it/s]"
          ]
        },
        {
          "name": "stdout",
          "output_type": "stream",
          "text": [
            "\n",
            "0: 480x640 1 marmoset, 4.5ms\n",
            "Speed: 1.0ms preprocess, 4.5ms inference, 0.7ms postprocess per image at shape (1, 3, 480, 640)\n"
          ]
        },
        {
          "name": "stderr",
          "output_type": "stream",
          "text": [
            "  4%|▎         | 76/2108 [00:40<18:56,  1.79it/s]"
          ]
        },
        {
          "name": "stdout",
          "output_type": "stream",
          "text": [
            "\n",
            "0: 640x640 1 marmoset, 4.3ms\n",
            "Speed: 1.5ms preprocess, 4.3ms inference, 0.7ms postprocess per image at shape (1, 3, 640, 640)\n"
          ]
        },
        {
          "name": "stderr",
          "output_type": "stream",
          "text": [
            "  4%|▎         | 77/2108 [00:41<18:52,  1.79it/s]"
          ]
        },
        {
          "name": "stdout",
          "output_type": "stream",
          "text": [
            "\n",
            "0: 640x640 1 marmoset, 4.1ms\n",
            "Speed: 1.5ms preprocess, 4.1ms inference, 0.7ms postprocess per image at shape (1, 3, 640, 640)\n"
          ]
        },
        {
          "name": "stderr",
          "output_type": "stream",
          "text": [
            "  4%|▎         | 78/2108 [00:41<18:58,  1.78it/s]"
          ]
        },
        {
          "name": "stdout",
          "output_type": "stream",
          "text": [
            "\n",
            "0: 640x640 1 marmoset, 4.1ms\n",
            "Speed: 1.4ms preprocess, 4.1ms inference, 0.7ms postprocess per image at shape (1, 3, 640, 640)\n"
          ]
        },
        {
          "name": "stderr",
          "output_type": "stream",
          "text": [
            "  4%|▎         | 79/2108 [00:42<19:10,  1.76it/s]"
          ]
        },
        {
          "name": "stdout",
          "output_type": "stream",
          "text": [
            "\n",
            "0: 640x640 2 marmosets, 4.1ms\n",
            "Speed: 1.4ms preprocess, 4.1ms inference, 0.7ms postprocess per image at shape (1, 3, 640, 640)\n"
          ]
        },
        {
          "name": "stderr",
          "output_type": "stream",
          "text": [
            "  4%|▍         | 80/2108 [00:42<19:12,  1.76it/s]"
          ]
        },
        {
          "name": "stdout",
          "output_type": "stream",
          "text": [
            "\n",
            "0: 640x640 2 marmosets, 4.1ms\n",
            "Speed: 1.4ms preprocess, 4.1ms inference, 0.7ms postprocess per image at shape (1, 3, 640, 640)\n"
          ]
        },
        {
          "name": "stderr",
          "output_type": "stream",
          "text": [
            "  4%|▍         | 81/2108 [00:43<19:14,  1.76it/s]"
          ]
        },
        {
          "name": "stdout",
          "output_type": "stream",
          "text": [
            "\n",
            "0: 640x640 2 marmosets, 4.1ms\n",
            "Speed: 1.4ms preprocess, 4.1ms inference, 0.7ms postprocess per image at shape (1, 3, 640, 640)\n"
          ]
        },
        {
          "name": "stderr",
          "output_type": "stream",
          "text": [
            "  4%|▍         | 82/2108 [00:43<19:16,  1.75it/s]"
          ]
        },
        {
          "name": "stdout",
          "output_type": "stream",
          "text": [
            "\n",
            "0: 640x640 1 marmoset, 4.1ms\n",
            "Speed: 1.5ms preprocess, 4.1ms inference, 0.7ms postprocess per image at shape (1, 3, 640, 640)\n"
          ]
        },
        {
          "name": "stderr",
          "output_type": "stream",
          "text": [
            "  4%|▍         | 83/2108 [00:44<19:14,  1.75it/s]"
          ]
        },
        {
          "name": "stdout",
          "output_type": "stream",
          "text": [
            "\n",
            "0: 640x640 2 marmosets, 4.1ms\n",
            "Speed: 1.4ms preprocess, 4.1ms inference, 0.7ms postprocess per image at shape (1, 3, 640, 640)\n"
          ]
        },
        {
          "name": "stderr",
          "output_type": "stream",
          "text": [
            "  4%|▍         | 84/2108 [00:45<19:06,  1.77it/s]"
          ]
        },
        {
          "name": "stdout",
          "output_type": "stream",
          "text": [
            "\n",
            "0: 640x640 1 marmoset, 4.1ms\n",
            "Speed: 1.5ms preprocess, 4.1ms inference, 0.7ms postprocess per image at shape (1, 3, 640, 640)\n"
          ]
        },
        {
          "name": "stderr",
          "output_type": "stream",
          "text": [
            "  4%|▍         | 85/2108 [00:45<18:59,  1.78it/s]"
          ]
        },
        {
          "name": "stdout",
          "output_type": "stream",
          "text": [
            "\n",
            "0: 640x640 1 marmoset, 4.1ms\n",
            "Speed: 1.5ms preprocess, 4.1ms inference, 0.7ms postprocess per image at shape (1, 3, 640, 640)\n"
          ]
        },
        {
          "name": "stderr",
          "output_type": "stream",
          "text": [
            "  4%|▍         | 86/2108 [00:46<18:54,  1.78it/s]"
          ]
        },
        {
          "name": "stdout",
          "output_type": "stream",
          "text": [
            "\n",
            "0: 640x640 1 marmoset, 4.1ms\n",
            "Speed: 1.5ms preprocess, 4.1ms inference, 0.7ms postprocess per image at shape (1, 3, 640, 640)\n"
          ]
        },
        {
          "name": "stderr",
          "output_type": "stream",
          "text": [
            "  4%|▍         | 87/2108 [00:46<18:49,  1.79it/s]"
          ]
        },
        {
          "name": "stdout",
          "output_type": "stream",
          "text": [
            "\n",
            "0: 640x640 1 marmoset, 4.1ms\n",
            "Speed: 1.5ms preprocess, 4.1ms inference, 0.7ms postprocess per image at shape (1, 3, 640, 640)\n"
          ]
        },
        {
          "name": "stderr",
          "output_type": "stream",
          "text": [
            "  4%|▍         | 88/2108 [00:47<18:48,  1.79it/s]"
          ]
        },
        {
          "name": "stdout",
          "output_type": "stream",
          "text": [
            "\n",
            "0: 640x640 1 marmoset, 4.1ms\n",
            "Speed: 1.5ms preprocess, 4.1ms inference, 0.8ms postprocess per image at shape (1, 3, 640, 640)\n"
          ]
        },
        {
          "name": "stderr",
          "output_type": "stream",
          "text": [
            "  4%|▍         | 89/2108 [00:47<18:45,  1.79it/s]"
          ]
        },
        {
          "name": "stdout",
          "output_type": "stream",
          "text": [
            "\n",
            "0: 640x640 2 marmosets, 4.1ms\n",
            "Speed: 1.4ms preprocess, 4.1ms inference, 0.8ms postprocess per image at shape (1, 3, 640, 640)\n"
          ]
        },
        {
          "name": "stderr",
          "output_type": "stream",
          "text": [
            "  4%|▍         | 90/2108 [00:48<18:46,  1.79it/s]"
          ]
        },
        {
          "name": "stdout",
          "output_type": "stream",
          "text": [
            "\n",
            "0: 640x640 1 marmoset, 4.1ms\n",
            "Speed: 1.5ms preprocess, 4.1ms inference, 0.7ms postprocess per image at shape (1, 3, 640, 640)\n"
          ]
        },
        {
          "name": "stderr",
          "output_type": "stream",
          "text": [
            "  4%|▍         | 91/2108 [00:48<18:43,  1.80it/s]"
          ]
        },
        {
          "name": "stdout",
          "output_type": "stream",
          "text": [
            "\n",
            "0: 640x640 1 marmoset, 4.2ms\n",
            "Speed: 1.5ms preprocess, 4.2ms inference, 0.8ms postprocess per image at shape (1, 3, 640, 640)\n"
          ]
        },
        {
          "name": "stderr",
          "output_type": "stream",
          "text": [
            "  4%|▍         | 92/2108 [00:49<18:43,  1.79it/s]"
          ]
        },
        {
          "name": "stdout",
          "output_type": "stream",
          "text": [
            "\n",
            "0: 640x640 2 marmosets, 4.2ms\n",
            "Speed: 1.4ms preprocess, 4.2ms inference, 0.8ms postprocess per image at shape (1, 3, 640, 640)\n"
          ]
        },
        {
          "name": "stderr",
          "output_type": "stream",
          "text": [
            "  4%|▍         | 93/2108 [00:50<18:45,  1.79it/s]"
          ]
        },
        {
          "name": "stdout",
          "output_type": "stream",
          "text": [
            "\n",
            "0: 640x640 1 marmoset, 4.0ms\n",
            "Speed: 1.4ms preprocess, 4.0ms inference, 0.8ms postprocess per image at shape (1, 3, 640, 640)\n"
          ]
        },
        {
          "name": "stderr",
          "output_type": "stream",
          "text": [
            "  4%|▍         | 94/2108 [00:50<18:46,  1.79it/s]"
          ]
        },
        {
          "name": "stdout",
          "output_type": "stream",
          "text": [
            "\n",
            "0: 640x640 1 marmoset, 3.9ms\n",
            "Speed: 1.4ms preprocess, 3.9ms inference, 0.7ms postprocess per image at shape (1, 3, 640, 640)\n"
          ]
        },
        {
          "name": "stderr",
          "output_type": "stream",
          "text": [
            "  5%|▍         | 95/2108 [00:51<18:50,  1.78it/s]"
          ]
        },
        {
          "name": "stdout",
          "output_type": "stream",
          "text": [
            "\n",
            "0: 640x640 1 marmoset, 3.9ms\n",
            "Speed: 1.4ms preprocess, 3.9ms inference, 0.7ms postprocess per image at shape (1, 3, 640, 640)\n"
          ]
        },
        {
          "name": "stderr",
          "output_type": "stream",
          "text": [
            "  5%|▍         | 96/2108 [00:51<18:47,  1.78it/s]"
          ]
        },
        {
          "name": "stdout",
          "output_type": "stream",
          "text": [
            "\n",
            "0: 640x640 1 marmoset, 3.9ms\n",
            "Speed: 1.4ms preprocess, 3.9ms inference, 0.7ms postprocess per image at shape (1, 3, 640, 640)\n"
          ]
        },
        {
          "name": "stderr",
          "output_type": "stream",
          "text": [
            "  5%|▍         | 97/2108 [00:52<18:47,  1.78it/s]"
          ]
        },
        {
          "name": "stdout",
          "output_type": "stream",
          "text": [
            "\n",
            "0: 640x640 1 marmoset, 4.2ms\n",
            "Speed: 1.5ms preprocess, 4.2ms inference, 0.8ms postprocess per image at shape (1, 3, 640, 640)\n"
          ]
        },
        {
          "name": "stderr",
          "output_type": "stream",
          "text": [
            "  5%|▍         | 98/2108 [00:52<18:46,  1.78it/s]"
          ]
        },
        {
          "name": "stdout",
          "output_type": "stream",
          "text": [
            "\n",
            "0: 640x640 2 marmosets, 4.3ms\n",
            "Speed: 1.4ms preprocess, 4.3ms inference, 0.8ms postprocess per image at shape (1, 3, 640, 640)\n"
          ]
        },
        {
          "name": "stderr",
          "output_type": "stream",
          "text": [
            "  5%|▍         | 99/2108 [00:53<18:48,  1.78it/s]"
          ]
        },
        {
          "name": "stdout",
          "output_type": "stream",
          "text": [
            "\n",
            "0: 640x640 1 marmoset, 4.2ms\n",
            "Speed: 1.5ms preprocess, 4.2ms inference, 0.8ms postprocess per image at shape (1, 3, 640, 640)\n"
          ]
        },
        {
          "name": "stderr",
          "output_type": "stream",
          "text": [
            "  5%|▍         | 100/2108 [00:54<18:50,  1.78it/s]"
          ]
        },
        {
          "name": "stdout",
          "output_type": "stream",
          "text": [
            "\n",
            "0: 640x640 2 marmosets, 4.2ms\n",
            "Speed: 1.5ms preprocess, 4.2ms inference, 0.8ms postprocess per image at shape (1, 3, 640, 640)\n"
          ]
        },
        {
          "name": "stderr",
          "output_type": "stream",
          "text": [
            "  5%|▍         | 101/2108 [00:54<18:54,  1.77it/s]"
          ]
        },
        {
          "name": "stdout",
          "output_type": "stream",
          "text": [
            "\n",
            "0: 640x640 2 marmosets, 4.2ms\n",
            "Speed: 1.4ms preprocess, 4.2ms inference, 0.8ms postprocess per image at shape (1, 3, 640, 640)\n"
          ]
        },
        {
          "name": "stderr",
          "output_type": "stream",
          "text": [
            "  5%|▍         | 102/2108 [00:55<18:56,  1.76it/s]"
          ]
        },
        {
          "name": "stdout",
          "output_type": "stream",
          "text": [
            "\n",
            "0: 480x640 1 marmoset, 4.5ms\n",
            "Speed: 1.1ms preprocess, 4.5ms inference, 0.8ms postprocess per image at shape (1, 3, 480, 640)\n"
          ]
        },
        {
          "name": "stderr",
          "output_type": "stream",
          "text": [
            "  5%|▍         | 103/2108 [00:55<18:44,  1.78it/s]"
          ]
        },
        {
          "name": "stdout",
          "output_type": "stream",
          "text": [
            "\n",
            "0: 640x640 1 marmoset, 4.5ms\n",
            "Speed: 1.5ms preprocess, 4.5ms inference, 0.8ms postprocess per image at shape (1, 3, 640, 640)\n"
          ]
        },
        {
          "name": "stderr",
          "output_type": "stream",
          "text": [
            "  5%|▍         | 104/2108 [00:56<18:51,  1.77it/s]"
          ]
        },
        {
          "name": "stdout",
          "output_type": "stream",
          "text": [
            "\n",
            "0: 640x640 1 marmoset, 4.2ms\n",
            "Speed: 1.5ms preprocess, 4.2ms inference, 0.8ms postprocess per image at shape (1, 3, 640, 640)\n"
          ]
        },
        {
          "name": "stderr",
          "output_type": "stream",
          "text": [
            "  5%|▍         | 105/2108 [00:56<18:50,  1.77it/s]"
          ]
        },
        {
          "name": "stdout",
          "output_type": "stream",
          "text": [
            "\n",
            "0: 640x640 1 marmoset, 4.3ms\n",
            "Speed: 1.6ms preprocess, 4.3ms inference, 0.8ms postprocess per image at shape (1, 3, 640, 640)\n"
          ]
        },
        {
          "name": "stderr",
          "output_type": "stream",
          "text": [
            "  5%|▌         | 106/2108 [00:57<18:55,  1.76it/s]"
          ]
        },
        {
          "name": "stdout",
          "output_type": "stream",
          "text": [
            "\n",
            "0: 640x640 1 marmoset, 4.3ms\n",
            "Speed: 1.5ms preprocess, 4.3ms inference, 0.8ms postprocess per image at shape (1, 3, 640, 640)\n"
          ]
        },
        {
          "name": "stderr",
          "output_type": "stream",
          "text": [
            "  5%|▌         | 107/2108 [00:57<18:48,  1.77it/s]"
          ]
        },
        {
          "name": "stdout",
          "output_type": "stream",
          "text": [
            "\n",
            "0: 640x640 1 marmoset, 4.2ms\n",
            "Speed: 1.5ms preprocess, 4.2ms inference, 0.8ms postprocess per image at shape (1, 3, 640, 640)\n"
          ]
        },
        {
          "name": "stderr",
          "output_type": "stream",
          "text": [
            "  5%|▌         | 108/2108 [00:58<19:08,  1.74it/s]"
          ]
        },
        {
          "name": "stdout",
          "output_type": "stream",
          "text": [
            "\n",
            "0: 640x640 2 marmosets, 4.2ms\n",
            "Speed: 1.5ms preprocess, 4.2ms inference, 0.8ms postprocess per image at shape (1, 3, 640, 640)\n"
          ]
        },
        {
          "name": "stderr",
          "output_type": "stream",
          "text": [
            "  5%|▌         | 109/2108 [00:59<19:11,  1.74it/s]"
          ]
        },
        {
          "name": "stdout",
          "output_type": "stream",
          "text": [
            "\n",
            "0: 640x640 2 marmosets, 4.2ms\n",
            "Speed: 1.6ms preprocess, 4.2ms inference, 0.8ms postprocess per image at shape (1, 3, 640, 640)\n"
          ]
        },
        {
          "name": "stderr",
          "output_type": "stream",
          "text": [
            "  5%|▌         | 110/2108 [00:59<19:17,  1.73it/s]"
          ]
        },
        {
          "name": "stdout",
          "output_type": "stream",
          "text": [
            "\n",
            "0: 640x640 2 marmosets, 4.2ms\n",
            "Speed: 1.5ms preprocess, 4.2ms inference, 0.8ms postprocess per image at shape (1, 3, 640, 640)\n"
          ]
        },
        {
          "name": "stderr",
          "output_type": "stream",
          "text": [
            "  5%|▌         | 111/2108 [01:00<19:15,  1.73it/s]"
          ]
        },
        {
          "name": "stdout",
          "output_type": "stream",
          "text": [
            "\n",
            "0: 640x640 1 marmoset, 4.3ms\n",
            "Speed: 1.5ms preprocess, 4.3ms inference, 0.8ms postprocess per image at shape (1, 3, 640, 640)\n"
          ]
        },
        {
          "name": "stderr",
          "output_type": "stream",
          "text": [
            "  5%|▌         | 112/2108 [01:00<19:11,  1.73it/s]"
          ]
        },
        {
          "name": "stdout",
          "output_type": "stream",
          "text": [
            "\n",
            "0: 640x640 1 marmoset, 4.0ms\n",
            "Speed: 1.9ms preprocess, 4.0ms inference, 0.7ms postprocess per image at shape (1, 3, 640, 640)\n"
          ]
        },
        {
          "name": "stderr",
          "output_type": "stream",
          "text": [
            "  5%|▌         | 113/2108 [01:01<18:59,  1.75it/s]"
          ]
        },
        {
          "name": "stdout",
          "output_type": "stream",
          "text": [
            "\n",
            "0: 640x640 2 marmosets, 3.9ms\n",
            "Speed: 1.3ms preprocess, 3.9ms inference, 0.7ms postprocess per image at shape (1, 3, 640, 640)\n"
          ]
        },
        {
          "name": "stderr",
          "output_type": "stream",
          "text": [
            "  5%|▌         | 114/2108 [01:02<18:51,  1.76it/s]"
          ]
        },
        {
          "name": "stdout",
          "output_type": "stream",
          "text": [
            "\n",
            "0: 480x640 1 marmoset, 4.2ms\n",
            "Speed: 1.0ms preprocess, 4.2ms inference, 0.7ms postprocess per image at shape (1, 3, 480, 640)\n"
          ]
        },
        {
          "name": "stderr",
          "output_type": "stream",
          "text": [
            "  5%|▌         | 115/2108 [01:02<18:37,  1.78it/s]"
          ]
        },
        {
          "name": "stdout",
          "output_type": "stream",
          "text": [
            "\n",
            "0: 640x640 1 marmoset, 4.1ms\n",
            "Speed: 1.4ms preprocess, 4.1ms inference, 0.7ms postprocess per image at shape (1, 3, 640, 640)\n"
          ]
        },
        {
          "name": "stderr",
          "output_type": "stream",
          "text": [
            "  6%|▌         | 116/2108 [01:03<18:38,  1.78it/s]"
          ]
        },
        {
          "name": "stdout",
          "output_type": "stream",
          "text": [
            "\n",
            "0: 640x640 2 marmosets, 3.9ms\n",
            "Speed: 1.4ms preprocess, 3.9ms inference, 0.7ms postprocess per image at shape (1, 3, 640, 640)\n"
          ]
        },
        {
          "name": "stderr",
          "output_type": "stream",
          "text": [
            "  6%|▌         | 117/2108 [01:03<18:39,  1.78it/s]"
          ]
        },
        {
          "name": "stdout",
          "output_type": "stream",
          "text": [
            "\n",
            "0: 640x640 2 marmosets, 3.9ms\n",
            "Speed: 1.5ms preprocess, 3.9ms inference, 0.7ms postprocess per image at shape (1, 3, 640, 640)\n"
          ]
        },
        {
          "name": "stderr",
          "output_type": "stream",
          "text": [
            "  6%|▌         | 118/2108 [01:04<18:50,  1.76it/s]"
          ]
        },
        {
          "name": "stdout",
          "output_type": "stream",
          "text": [
            "\n",
            "0: 640x640 1 marmoset, 4.2ms\n",
            "Speed: 1.5ms preprocess, 4.2ms inference, 0.8ms postprocess per image at shape (1, 3, 640, 640)\n"
          ]
        },
        {
          "name": "stderr",
          "output_type": "stream",
          "text": [
            "  6%|▌         | 119/2108 [01:04<19:03,  1.74it/s]"
          ]
        },
        {
          "name": "stdout",
          "output_type": "stream",
          "text": [
            "\n",
            "0: 640x640 1 marmoset, 4.2ms\n",
            "Speed: 1.6ms preprocess, 4.2ms inference, 0.8ms postprocess per image at shape (1, 3, 640, 640)\n"
          ]
        },
        {
          "name": "stderr",
          "output_type": "stream",
          "text": [
            "  6%|▌         | 120/2108 [01:05<19:10,  1.73it/s]"
          ]
        },
        {
          "name": "stdout",
          "output_type": "stream",
          "text": [
            "\n",
            "0: 640x640 1 marmoset, 4.2ms\n",
            "Speed: 1.5ms preprocess, 4.2ms inference, 0.8ms postprocess per image at shape (1, 3, 640, 640)\n"
          ]
        },
        {
          "name": "stderr",
          "output_type": "stream",
          "text": [
            "  6%|▌         | 121/2108 [01:05<18:55,  1.75it/s]"
          ]
        },
        {
          "name": "stdout",
          "output_type": "stream",
          "text": [
            "\n",
            "0: 640x640 1 marmoset, 4.2ms\n",
            "Speed: 1.6ms preprocess, 4.2ms inference, 0.8ms postprocess per image at shape (1, 3, 640, 640)\n"
          ]
        },
        {
          "name": "stderr",
          "output_type": "stream",
          "text": [
            "  6%|▌         | 122/2108 [01:06<18:48,  1.76it/s]"
          ]
        },
        {
          "name": "stdout",
          "output_type": "stream",
          "text": [
            "\n",
            "0: 640x640 1 marmoset, 4.2ms\n",
            "Speed: 1.5ms preprocess, 4.2ms inference, 0.8ms postprocess per image at shape (1, 3, 640, 640)\n"
          ]
        },
        {
          "name": "stderr",
          "output_type": "stream",
          "text": [
            "  6%|▌         | 123/2108 [01:07<18:45,  1.76it/s]"
          ]
        },
        {
          "name": "stdout",
          "output_type": "stream",
          "text": [
            "\n",
            "0: 640x640 1 marmoset, 4.2ms\n",
            "Speed: 1.5ms preprocess, 4.2ms inference, 0.8ms postprocess per image at shape (1, 3, 640, 640)\n"
          ]
        },
        {
          "name": "stderr",
          "output_type": "stream",
          "text": [
            "  6%|▌         | 124/2108 [01:07<18:58,  1.74it/s]"
          ]
        },
        {
          "name": "stdout",
          "output_type": "stream",
          "text": [
            "\n",
            "0: 640x640 2 marmosets, 4.2ms\n",
            "Speed: 1.6ms preprocess, 4.2ms inference, 0.8ms postprocess per image at shape (1, 3, 640, 640)\n"
          ]
        },
        {
          "name": "stderr",
          "output_type": "stream",
          "text": [
            "  6%|▌         | 125/2108 [01:08<19:15,  1.72it/s]"
          ]
        },
        {
          "name": "stdout",
          "output_type": "stream",
          "text": [
            "\n",
            "0: 640x640 1 marmoset, 4.2ms\n",
            "Speed: 1.5ms preprocess, 4.2ms inference, 0.8ms postprocess per image at shape (1, 3, 640, 640)\n"
          ]
        },
        {
          "name": "stderr",
          "output_type": "stream",
          "text": [
            "  6%|▌         | 126/2108 [01:08<19:06,  1.73it/s]"
          ]
        },
        {
          "name": "stdout",
          "output_type": "stream",
          "text": [
            "\n",
            "0: 640x640 1 marmoset, 4.2ms\n",
            "Speed: 1.5ms preprocess, 4.2ms inference, 0.8ms postprocess per image at shape (1, 3, 640, 640)\n"
          ]
        },
        {
          "name": "stderr",
          "output_type": "stream",
          "text": [
            "  6%|▌         | 127/2108 [01:09<19:01,  1.74it/s]"
          ]
        },
        {
          "name": "stdout",
          "output_type": "stream",
          "text": [
            "\n",
            "0: 640x640 2 marmosets, 4.2ms\n",
            "Speed: 1.4ms preprocess, 4.2ms inference, 0.8ms postprocess per image at shape (1, 3, 640, 640)\n"
          ]
        },
        {
          "name": "stderr",
          "output_type": "stream",
          "text": [
            "  6%|▌         | 128/2108 [01:10<18:58,  1.74it/s]"
          ]
        },
        {
          "name": "stdout",
          "output_type": "stream",
          "text": [
            "\n",
            "0: 640x640 1 marmoset, 4.3ms\n",
            "Speed: 1.5ms preprocess, 4.3ms inference, 0.8ms postprocess per image at shape (1, 3, 640, 640)\n"
          ]
        },
        {
          "name": "stderr",
          "output_type": "stream",
          "text": [
            "  6%|▌         | 129/2108 [01:10<18:55,  1.74it/s]"
          ]
        },
        {
          "name": "stdout",
          "output_type": "stream",
          "text": [
            "\n",
            "0: 480x640 1 marmoset, 4.6ms\n",
            "Speed: 1.1ms preprocess, 4.6ms inference, 0.8ms postprocess per image at shape (1, 3, 480, 640)\n"
          ]
        },
        {
          "name": "stderr",
          "output_type": "stream",
          "text": [
            "  6%|▌         | 130/2108 [01:11<18:47,  1.75it/s]"
          ]
        },
        {
          "name": "stdout",
          "output_type": "stream",
          "text": [
            "\n",
            "0: 640x640 2 marmosets, 4.5ms\n",
            "Speed: 1.5ms preprocess, 4.5ms inference, 0.7ms postprocess per image at shape (1, 3, 640, 640)\n"
          ]
        },
        {
          "name": "stderr",
          "output_type": "stream",
          "text": [
            "  6%|▌         | 131/2108 [01:11<18:42,  1.76it/s]"
          ]
        },
        {
          "name": "stdout",
          "output_type": "stream",
          "text": [
            "\n",
            "0: 640x640 1 marmoset, 4.2ms\n",
            "Speed: 1.5ms preprocess, 4.2ms inference, 0.8ms postprocess per image at shape (1, 3, 640, 640)\n"
          ]
        },
        {
          "name": "stderr",
          "output_type": "stream",
          "text": [
            "  6%|▋         | 132/2108 [01:12<18:13,  1.81it/s]"
          ]
        },
        {
          "name": "stdout",
          "output_type": "stream",
          "text": [
            "\n",
            "0: 640x640 1 marmoset, 4.2ms\n",
            "Speed: 1.5ms preprocess, 4.2ms inference, 0.8ms postprocess per image at shape (1, 3, 640, 640)\n"
          ]
        },
        {
          "name": "stderr",
          "output_type": "stream",
          "text": [
            "  6%|▋         | 133/2108 [01:12<19:07,  1.72it/s]"
          ]
        },
        {
          "name": "stdout",
          "output_type": "stream",
          "text": [
            "\n",
            "0: 640x640 2 marmosets, 4.3ms\n",
            "Speed: 1.4ms preprocess, 4.3ms inference, 0.8ms postprocess per image at shape (1, 3, 640, 640)\n"
          ]
        },
        {
          "name": "stderr",
          "output_type": "stream",
          "text": [
            "  6%|▋         | 134/2108 [01:13<19:10,  1.72it/s]"
          ]
        },
        {
          "name": "stdout",
          "output_type": "stream",
          "text": [
            "\n",
            "0: 640x640 1 marmoset, 4.2ms\n",
            "Speed: 1.5ms preprocess, 4.2ms inference, 0.8ms postprocess per image at shape (1, 3, 640, 640)\n"
          ]
        },
        {
          "name": "stderr",
          "output_type": "stream",
          "text": [
            "  6%|▋         | 135/2108 [01:14<19:09,  1.72it/s]"
          ]
        },
        {
          "name": "stdout",
          "output_type": "stream",
          "text": [
            "\n",
            "0: 640x640 1 marmoset, 4.2ms\n",
            "Speed: 1.5ms preprocess, 4.2ms inference, 0.8ms postprocess per image at shape (1, 3, 640, 640)\n"
          ]
        },
        {
          "name": "stderr",
          "output_type": "stream",
          "text": [
            "  6%|▋         | 136/2108 [01:14<19:08,  1.72it/s]"
          ]
        },
        {
          "name": "stdout",
          "output_type": "stream",
          "text": [
            "\n",
            "0: 480x640 1 marmoset, 4.6ms\n",
            "Speed: 1.1ms preprocess, 4.6ms inference, 0.8ms postprocess per image at shape (1, 3, 480, 640)\n"
          ]
        },
        {
          "name": "stderr",
          "output_type": "stream",
          "text": [
            "  6%|▋         | 137/2108 [01:15<18:51,  1.74it/s]"
          ]
        },
        {
          "name": "stdout",
          "output_type": "stream",
          "text": [
            "\n",
            "0: 640x640 2 marmosets, 4.5ms\n",
            "Speed: 1.4ms preprocess, 4.5ms inference, 0.7ms postprocess per image at shape (1, 3, 640, 640)\n"
          ]
        },
        {
          "name": "stderr",
          "output_type": "stream",
          "text": [
            "  7%|▋         | 138/2108 [01:15<18:49,  1.74it/s]"
          ]
        },
        {
          "name": "stdout",
          "output_type": "stream",
          "text": [
            "\n",
            "0: 640x640 1 marmoset, 4.2ms\n",
            "Speed: 1.5ms preprocess, 4.2ms inference, 0.8ms postprocess per image at shape (1, 3, 640, 640)\n"
          ]
        },
        {
          "name": "stderr",
          "output_type": "stream",
          "text": [
            "  7%|▋         | 139/2108 [01:16<18:44,  1.75it/s]"
          ]
        },
        {
          "name": "stdout",
          "output_type": "stream",
          "text": [
            "\n",
            "0: 640x640 1 marmoset, 4.2ms\n",
            "Speed: 1.5ms preprocess, 4.2ms inference, 0.8ms postprocess per image at shape (1, 3, 640, 640)\n"
          ]
        },
        {
          "name": "stderr",
          "output_type": "stream",
          "text": [
            "  7%|▋         | 140/2108 [01:16<18:40,  1.76it/s]"
          ]
        },
        {
          "name": "stdout",
          "output_type": "stream",
          "text": [
            "\n",
            "0: 640x640 2 marmosets, 4.2ms\n",
            "Speed: 1.6ms preprocess, 4.2ms inference, 0.8ms postprocess per image at shape (1, 3, 640, 640)\n"
          ]
        },
        {
          "name": "stderr",
          "output_type": "stream",
          "text": [
            "  7%|▋         | 141/2108 [01:17<18:29,  1.77it/s]"
          ]
        },
        {
          "name": "stdout",
          "output_type": "stream",
          "text": [
            "\n",
            "0: 640x640 2 marmosets, 4.2ms\n",
            "Speed: 1.4ms preprocess, 4.2ms inference, 0.8ms postprocess per image at shape (1, 3, 640, 640)\n"
          ]
        },
        {
          "name": "stderr",
          "output_type": "stream",
          "text": [
            "  7%|▋         | 142/2108 [01:18<18:42,  1.75it/s]"
          ]
        },
        {
          "name": "stdout",
          "output_type": "stream",
          "text": [
            "\n",
            "0: 640x640 1 marmoset, 4.2ms\n",
            "Speed: 1.5ms preprocess, 4.2ms inference, 0.8ms postprocess per image at shape (1, 3, 640, 640)\n"
          ]
        },
        {
          "name": "stderr",
          "output_type": "stream",
          "text": [
            "  7%|▋         | 143/2108 [01:18<19:04,  1.72it/s]"
          ]
        },
        {
          "name": "stdout",
          "output_type": "stream",
          "text": [
            "\n",
            "0: 640x640 1 marmoset, 4.2ms\n",
            "Speed: 1.5ms preprocess, 4.2ms inference, 0.8ms postprocess per image at shape (1, 3, 640, 640)\n"
          ]
        },
        {
          "name": "stderr",
          "output_type": "stream",
          "text": [
            "  7%|▋         | 144/2108 [01:19<19:03,  1.72it/s]"
          ]
        },
        {
          "name": "stdout",
          "output_type": "stream",
          "text": [
            "\n",
            "0: 640x640 1 marmoset, 4.2ms\n",
            "Speed: 1.5ms preprocess, 4.2ms inference, 0.8ms postprocess per image at shape (1, 3, 640, 640)\n"
          ]
        },
        {
          "name": "stderr",
          "output_type": "stream",
          "text": [
            "  7%|▋         | 145/2108 [01:19<19:00,  1.72it/s]"
          ]
        },
        {
          "name": "stdout",
          "output_type": "stream",
          "text": [
            "\n",
            "0: 640x640 2 marmosets, 4.2ms\n",
            "Speed: 1.4ms preprocess, 4.2ms inference, 0.8ms postprocess per image at shape (1, 3, 640, 640)\n"
          ]
        },
        {
          "name": "stderr",
          "output_type": "stream",
          "text": [
            "  7%|▋         | 146/2108 [01:20<19:00,  1.72it/s]"
          ]
        },
        {
          "name": "stdout",
          "output_type": "stream",
          "text": [
            "\n",
            "0: 640x640 1 marmoset, 4.2ms\n",
            "Speed: 1.5ms preprocess, 4.2ms inference, 0.8ms postprocess per image at shape (1, 3, 640, 640)\n"
          ]
        },
        {
          "name": "stderr",
          "output_type": "stream",
          "text": [
            "  7%|▋         | 147/2108 [01:20<18:47,  1.74it/s]"
          ]
        },
        {
          "name": "stdout",
          "output_type": "stream",
          "text": [
            "\n",
            "0: 640x640 1 marmoset, 4.2ms\n",
            "Speed: 1.5ms preprocess, 4.2ms inference, 0.8ms postprocess per image at shape (1, 3, 640, 640)\n"
          ]
        },
        {
          "name": "stderr",
          "output_type": "stream",
          "text": [
            "  7%|▋         | 148/2108 [01:21<18:37,  1.75it/s]"
          ]
        },
        {
          "name": "stdout",
          "output_type": "stream",
          "text": [
            "\n",
            "0: 480x640 (no detections), 4.6ms\n",
            "Speed: 1.1ms preprocess, 4.6ms inference, 0.3ms postprocess per image at shape (1, 3, 480, 640)\n",
            "\n",
            "0: 640x640 1 marmoset, 4.2ms\n",
            "Speed: 1.5ms preprocess, 4.2ms inference, 0.7ms postprocess per image at shape (1, 3, 640, 640)\n"
          ]
        },
        {
          "name": "stderr",
          "output_type": "stream",
          "text": [
            "  7%|▋         | 150/2108 [01:22<14:48,  2.20it/s]"
          ]
        },
        {
          "name": "stdout",
          "output_type": "stream",
          "text": [
            "\n",
            "0: 640x640 1 marmoset, 4.2ms\n",
            "Speed: 1.5ms preprocess, 4.2ms inference, 0.8ms postprocess per image at shape (1, 3, 640, 640)\n"
          ]
        },
        {
          "name": "stderr",
          "output_type": "stream",
          "text": [
            "  7%|▋         | 151/2108 [01:22<15:50,  2.06it/s]"
          ]
        },
        {
          "name": "stdout",
          "output_type": "stream",
          "text": [
            "\n",
            "0: 640x640 1 marmoset, 4.2ms\n",
            "Speed: 1.6ms preprocess, 4.2ms inference, 0.8ms postprocess per image at shape (1, 3, 640, 640)\n"
          ]
        },
        {
          "name": "stderr",
          "output_type": "stream",
          "text": [
            "  7%|▋         | 152/2108 [01:23<16:33,  1.97it/s]"
          ]
        },
        {
          "name": "stdout",
          "output_type": "stream",
          "text": [
            "\n",
            "0: 640x640 1 marmoset, 4.3ms\n",
            "Speed: 1.5ms preprocess, 4.3ms inference, 0.8ms postprocess per image at shape (1, 3, 640, 640)\n"
          ]
        },
        {
          "name": "stderr",
          "output_type": "stream",
          "text": [
            "  7%|▋         | 153/2108 [01:23<17:06,  1.90it/s]"
          ]
        },
        {
          "name": "stdout",
          "output_type": "stream",
          "text": [
            "\n",
            "0: 640x640 1 marmoset, 4.2ms\n",
            "Speed: 1.5ms preprocess, 4.2ms inference, 0.8ms postprocess per image at shape (1, 3, 640, 640)\n"
          ]
        },
        {
          "name": "stderr",
          "output_type": "stream",
          "text": [
            "  7%|▋         | 154/2108 [01:24<17:28,  1.86it/s]"
          ]
        },
        {
          "name": "stdout",
          "output_type": "stream",
          "text": [
            "\n",
            "0: 480x640 (no detections), 4.6ms\n",
            "Speed: 1.1ms preprocess, 4.6ms inference, 0.3ms postprocess per image at shape (1, 3, 480, 640)\n",
            "\n",
            "0: 640x640 1 marmoset, 4.2ms\n",
            "Speed: 1.5ms preprocess, 4.2ms inference, 0.7ms postprocess per image at shape (1, 3, 640, 640)\n"
          ]
        },
        {
          "name": "stderr",
          "output_type": "stream",
          "text": [
            "  7%|▋         | 156/2108 [01:25<13:53,  2.34it/s]"
          ]
        },
        {
          "name": "stdout",
          "output_type": "stream",
          "text": [
            "\n",
            "0: 640x640 1 marmoset, 4.2ms\n",
            "Speed: 1.5ms preprocess, 4.2ms inference, 0.8ms postprocess per image at shape (1, 3, 640, 640)\n"
          ]
        },
        {
          "name": "stderr",
          "output_type": "stream",
          "text": [
            "  7%|▋         | 157/2108 [01:25<15:01,  2.16it/s]"
          ]
        },
        {
          "name": "stdout",
          "output_type": "stream",
          "text": [
            "\n",
            "0: 640x640 2 marmosets, 4.2ms\n",
            "Speed: 1.5ms preprocess, 4.2ms inference, 0.8ms postprocess per image at shape (1, 3, 640, 640)\n"
          ]
        },
        {
          "name": "stderr",
          "output_type": "stream",
          "text": [
            "  7%|▋         | 158/2108 [01:26<16:01,  2.03it/s]"
          ]
        },
        {
          "name": "stdout",
          "output_type": "stream",
          "text": [
            "\n",
            "0: 640x640 1 marmoset, 4.2ms\n",
            "Speed: 1.5ms preprocess, 4.2ms inference, 0.8ms postprocess per image at shape (1, 3, 640, 640)\n"
          ]
        },
        {
          "name": "stderr",
          "output_type": "stream",
          "text": [
            "  8%|▊         | 159/2108 [01:26<16:40,  1.95it/s]"
          ]
        },
        {
          "name": "stdout",
          "output_type": "stream",
          "text": [
            "\n",
            "0: 640x640 1 marmoset, 4.2ms\n",
            "Speed: 1.5ms preprocess, 4.2ms inference, 0.8ms postprocess per image at shape (1, 3, 640, 640)\n"
          ]
        },
        {
          "name": "stderr",
          "output_type": "stream",
          "text": [
            "  8%|▊         | 160/2108 [01:27<17:02,  1.90it/s]"
          ]
        },
        {
          "name": "stdout",
          "output_type": "stream",
          "text": [
            "\n",
            "0: 640x640 2 marmosets, 4.2ms\n",
            "Speed: 1.6ms preprocess, 4.2ms inference, 0.8ms postprocess per image at shape (1, 3, 640, 640)\n"
          ]
        },
        {
          "name": "stderr",
          "output_type": "stream",
          "text": [
            "  8%|▊         | 161/2108 [01:27<17:47,  1.82it/s]"
          ]
        },
        {
          "name": "stdout",
          "output_type": "stream",
          "text": [
            "\n",
            "0: 640x640 1 marmoset, 4.3ms\n",
            "Speed: 1.5ms preprocess, 4.3ms inference, 0.8ms postprocess per image at shape (1, 3, 640, 640)\n"
          ]
        },
        {
          "name": "stderr",
          "output_type": "stream",
          "text": [
            "  8%|▊         | 162/2108 [01:28<18:26,  1.76it/s]"
          ]
        },
        {
          "name": "stdout",
          "output_type": "stream",
          "text": [
            "\n",
            "0: 640x640 2 marmosets, 4.2ms\n",
            "Speed: 1.5ms preprocess, 4.2ms inference, 0.8ms postprocess per image at shape (1, 3, 640, 640)\n"
          ]
        },
        {
          "name": "stderr",
          "output_type": "stream",
          "text": [
            "  8%|▊         | 163/2108 [01:29<18:40,  1.74it/s]"
          ]
        },
        {
          "name": "stdout",
          "output_type": "stream",
          "text": [
            "\n",
            "0: 640x640 1 marmoset, 4.2ms\n",
            "Speed: 1.5ms preprocess, 4.2ms inference, 0.8ms postprocess per image at shape (1, 3, 640, 640)\n"
          ]
        },
        {
          "name": "stderr",
          "output_type": "stream",
          "text": [
            "  8%|▊         | 164/2108 [01:29<18:48,  1.72it/s]"
          ]
        },
        {
          "name": "stdout",
          "output_type": "stream",
          "text": [
            "\n",
            "0: 640x640 1 marmoset, 4.2ms\n",
            "Speed: 1.5ms preprocess, 4.2ms inference, 0.8ms postprocess per image at shape (1, 3, 640, 640)\n"
          ]
        },
        {
          "name": "stderr",
          "output_type": "stream",
          "text": [
            "  8%|▊         | 165/2108 [01:30<18:44,  1.73it/s]"
          ]
        },
        {
          "name": "stdout",
          "output_type": "stream",
          "text": [
            "\n",
            "0: 640x640 2 marmosets, 4.2ms\n",
            "Speed: 1.4ms preprocess, 4.2ms inference, 0.8ms postprocess per image at shape (1, 3, 640, 640)\n"
          ]
        },
        {
          "name": "stderr",
          "output_type": "stream",
          "text": [
            "  8%|▊         | 166/2108 [01:30<18:40,  1.73it/s]"
          ]
        },
        {
          "name": "stdout",
          "output_type": "stream",
          "text": [
            "\n",
            "0: 480x640 1 marmoset, 4.6ms\n",
            "Speed: 1.1ms preprocess, 4.6ms inference, 0.8ms postprocess per image at shape (1, 3, 480, 640)\n"
          ]
        },
        {
          "name": "stderr",
          "output_type": "stream",
          "text": [
            "  8%|▊         | 167/2108 [01:31<18:29,  1.75it/s]"
          ]
        },
        {
          "name": "stdout",
          "output_type": "stream",
          "text": [
            "\n",
            "0: 640x640 1 marmoset, 4.5ms\n",
            "Speed: 1.5ms preprocess, 4.5ms inference, 0.8ms postprocess per image at shape (1, 3, 640, 640)\n"
          ]
        },
        {
          "name": "stderr",
          "output_type": "stream",
          "text": [
            "  8%|▊         | 168/2108 [01:31<18:28,  1.75it/s]"
          ]
        },
        {
          "name": "stdout",
          "output_type": "stream",
          "text": [
            "\n",
            "0: 640x640 1 marmoset, 4.2ms\n",
            "Speed: 1.5ms preprocess, 4.2ms inference, 0.8ms postprocess per image at shape (1, 3, 640, 640)\n"
          ]
        },
        {
          "name": "stderr",
          "output_type": "stream",
          "text": [
            "  8%|▊         | 169/2108 [01:32<18:29,  1.75it/s]"
          ]
        },
        {
          "name": "stdout",
          "output_type": "stream",
          "text": [
            "\n",
            "0: 640x640 1 marmoset, 4.2ms\n",
            "Speed: 1.5ms preprocess, 4.2ms inference, 0.8ms postprocess per image at shape (1, 3, 640, 640)\n"
          ]
        },
        {
          "name": "stderr",
          "output_type": "stream",
          "text": [
            "  8%|▊         | 170/2108 [01:33<18:30,  1.75it/s]"
          ]
        },
        {
          "name": "stdout",
          "output_type": "stream",
          "text": [
            "\n",
            "0: 480x640 1 marmoset, 4.6ms\n",
            "Speed: 1.1ms preprocess, 4.6ms inference, 0.8ms postprocess per image at shape (1, 3, 480, 640)\n"
          ]
        },
        {
          "name": "stderr",
          "output_type": "stream",
          "text": [
            "  8%|▊         | 171/2108 [01:33<18:21,  1.76it/s]"
          ]
        },
        {
          "name": "stdout",
          "output_type": "stream",
          "text": [
            "\n",
            "0: 640x640 2 marmosets, 4.4ms\n",
            "Speed: 1.4ms preprocess, 4.4ms inference, 0.8ms postprocess per image at shape (1, 3, 640, 640)\n"
          ]
        },
        {
          "name": "stderr",
          "output_type": "stream",
          "text": [
            "  8%|▊         | 172/2108 [01:34<18:16,  1.77it/s]"
          ]
        },
        {
          "name": "stdout",
          "output_type": "stream",
          "text": [
            "\n",
            "0: 480x640 1 marmoset, 4.5ms\n",
            "Speed: 1.1ms preprocess, 4.5ms inference, 0.8ms postprocess per image at shape (1, 3, 480, 640)\n"
          ]
        },
        {
          "name": "stderr",
          "output_type": "stream",
          "text": [
            "  8%|▊         | 173/2108 [01:34<18:03,  1.79it/s]"
          ]
        },
        {
          "name": "stdout",
          "output_type": "stream",
          "text": [
            "\n",
            "0: 640x640 1 marmoset, 4.5ms\n",
            "Speed: 1.5ms preprocess, 4.5ms inference, 0.8ms postprocess per image at shape (1, 3, 640, 640)\n"
          ]
        },
        {
          "name": "stderr",
          "output_type": "stream",
          "text": [
            "  8%|▊         | 174/2108 [01:35<18:56,  1.70it/s]"
          ]
        },
        {
          "name": "stdout",
          "output_type": "stream",
          "text": [
            "\n",
            "0: 640x640 2 marmosets, 4.3ms\n",
            "Speed: 1.5ms preprocess, 4.3ms inference, 0.8ms postprocess per image at shape (1, 3, 640, 640)\n"
          ]
        },
        {
          "name": "stderr",
          "output_type": "stream",
          "text": [
            "  8%|▊         | 175/2108 [01:36<19:14,  1.67it/s]"
          ]
        },
        {
          "name": "stdout",
          "output_type": "stream",
          "text": [
            "\n",
            "0: 640x640 1 marmoset, 4.2ms\n",
            "Speed: 1.5ms preprocess, 4.2ms inference, 0.8ms postprocess per image at shape (1, 3, 640, 640)\n"
          ]
        },
        {
          "name": "stderr",
          "output_type": "stream",
          "text": [
            "  8%|▊         | 176/2108 [01:36<18:57,  1.70it/s]"
          ]
        },
        {
          "name": "stdout",
          "output_type": "stream",
          "text": [
            "\n",
            "0: 640x640 1 marmoset, 4.0ms\n",
            "Speed: 1.5ms preprocess, 4.0ms inference, 0.8ms postprocess per image at shape (1, 3, 640, 640)\n"
          ]
        },
        {
          "name": "stderr",
          "output_type": "stream",
          "text": [
            "  8%|▊         | 177/2108 [01:37<18:45,  1.72it/s]"
          ]
        },
        {
          "name": "stdout",
          "output_type": "stream",
          "text": [
            "\n",
            "0: 640x640 1 marmoset, 4.2ms\n",
            "Speed: 1.5ms preprocess, 4.2ms inference, 0.8ms postprocess per image at shape (1, 3, 640, 640)\n"
          ]
        },
        {
          "name": "stderr",
          "output_type": "stream",
          "text": [
            "  8%|▊         | 178/2108 [01:37<18:36,  1.73it/s]"
          ]
        },
        {
          "name": "stdout",
          "output_type": "stream",
          "text": [
            "\n",
            "0: 640x640 4 marmosets, 4.2ms\n",
            "Speed: 1.4ms preprocess, 4.2ms inference, 0.8ms postprocess per image at shape (1, 3, 640, 640)\n"
          ]
        },
        {
          "name": "stderr",
          "output_type": "stream",
          "text": [
            "  8%|▊         | 179/2108 [01:38<18:33,  1.73it/s]"
          ]
        },
        {
          "name": "stdout",
          "output_type": "stream",
          "text": [
            "\n",
            "0: 640x640 1 marmoset, 4.2ms\n",
            "Speed: 1.5ms preprocess, 4.2ms inference, 0.8ms postprocess per image at shape (1, 3, 640, 640)\n"
          ]
        },
        {
          "name": "stderr",
          "output_type": "stream",
          "text": [
            "  9%|▊         | 180/2108 [01:38<17:47,  1.81it/s]"
          ]
        },
        {
          "name": "stdout",
          "output_type": "stream",
          "text": [
            "\n",
            "0: 640x640 1 marmoset, 4.2ms\n",
            "Speed: 1.5ms preprocess, 4.2ms inference, 0.8ms postprocess per image at shape (1, 3, 640, 640)\n"
          ]
        },
        {
          "name": "stderr",
          "output_type": "stream",
          "text": [
            "  9%|▊         | 181/2108 [01:39<19:28,  1.65it/s]"
          ]
        },
        {
          "name": "stdout",
          "output_type": "stream",
          "text": [
            "\n",
            "0: 480x640 1 marmoset, 4.6ms\n",
            "Speed: 1.1ms preprocess, 4.6ms inference, 0.8ms postprocess per image at shape (1, 3, 480, 640)\n"
          ]
        },
        {
          "name": "stderr",
          "output_type": "stream",
          "text": [
            "  9%|▊         | 182/2108 [01:40<19:43,  1.63it/s]"
          ]
        },
        {
          "name": "stdout",
          "output_type": "stream",
          "text": [
            "\n",
            "0: 480x640 1 marmoset, 4.2ms\n",
            "Speed: 1.0ms preprocess, 4.2ms inference, 0.8ms postprocess per image at shape (1, 3, 480, 640)\n"
          ]
        },
        {
          "name": "stderr",
          "output_type": "stream",
          "text": [
            "  9%|▊         | 183/2108 [01:40<19:15,  1.67it/s]"
          ]
        },
        {
          "name": "stdout",
          "output_type": "stream",
          "text": [
            "\n",
            "0: 480x640 1 marmoset, 4.2ms\n",
            "Speed: 1.0ms preprocess, 4.2ms inference, 0.7ms postprocess per image at shape (1, 3, 480, 640)\n"
          ]
        },
        {
          "name": "stderr",
          "output_type": "stream",
          "text": [
            "  9%|▊         | 184/2108 [01:41<18:42,  1.71it/s]"
          ]
        },
        {
          "name": "stdout",
          "output_type": "stream",
          "text": [
            "\n",
            "0: 640x640 1 marmoset, 4.4ms\n",
            "Speed: 1.5ms preprocess, 4.4ms inference, 0.7ms postprocess per image at shape (1, 3, 640, 640)\n"
          ]
        },
        {
          "name": "stderr",
          "output_type": "stream",
          "text": [
            "  9%|▉         | 185/2108 [01:41<18:26,  1.74it/s]"
          ]
        },
        {
          "name": "stdout",
          "output_type": "stream",
          "text": [
            "\n",
            "0: 640x640 1 marmoset, 4.2ms\n",
            "Speed: 1.5ms preprocess, 4.2ms inference, 0.8ms postprocess per image at shape (1, 3, 640, 640)\n"
          ]
        },
        {
          "name": "stderr",
          "output_type": "stream",
          "text": [
            "  9%|▉         | 186/2108 [01:42<18:17,  1.75it/s]"
          ]
        },
        {
          "name": "stdout",
          "output_type": "stream",
          "text": [
            "\n",
            "0: 640x640 1 marmoset, 4.2ms\n",
            "Speed: 1.5ms preprocess, 4.2ms inference, 0.8ms postprocess per image at shape (1, 3, 640, 640)\n"
          ]
        },
        {
          "name": "stderr",
          "output_type": "stream",
          "text": [
            "  9%|▉         | 187/2108 [01:43<18:51,  1.70it/s]"
          ]
        },
        {
          "name": "stdout",
          "output_type": "stream",
          "text": [
            "\n",
            "0: 640x640 1 marmoset, 3.9ms\n",
            "Speed: 1.4ms preprocess, 3.9ms inference, 0.7ms postprocess per image at shape (1, 3, 640, 640)\n"
          ]
        },
        {
          "name": "stderr",
          "output_type": "stream",
          "text": [
            "  9%|▉         | 188/2108 [01:43<19:20,  1.65it/s]"
          ]
        },
        {
          "name": "stdout",
          "output_type": "stream",
          "text": [
            "\n",
            "0: 640x640 1 marmoset, 3.9ms\n",
            "Speed: 1.4ms preprocess, 3.9ms inference, 0.7ms postprocess per image at shape (1, 3, 640, 640)\n"
          ]
        },
        {
          "name": "stderr",
          "output_type": "stream",
          "text": [
            "  9%|▉         | 189/2108 [01:44<19:03,  1.68it/s]"
          ]
        },
        {
          "name": "stdout",
          "output_type": "stream",
          "text": [
            "\n",
            "0: 480x640 1 marmoset, 4.2ms\n",
            "Speed: 1.0ms preprocess, 4.2ms inference, 0.7ms postprocess per image at shape (1, 3, 480, 640)\n"
          ]
        },
        {
          "name": "stderr",
          "output_type": "stream",
          "text": [
            "  9%|▉         | 190/2108 [01:44<18:41,  1.71it/s]"
          ]
        },
        {
          "name": "stdout",
          "output_type": "stream",
          "text": [
            "\n",
            "0: 640x640 1 marmoset, 4.1ms\n",
            "Speed: 1.4ms preprocess, 4.1ms inference, 0.7ms postprocess per image at shape (1, 3, 640, 640)\n"
          ]
        },
        {
          "name": "stderr",
          "output_type": "stream",
          "text": [
            "  9%|▉         | 191/2108 [01:45<18:31,  1.72it/s]"
          ]
        },
        {
          "name": "stdout",
          "output_type": "stream",
          "text": [
            "\n",
            "0: 640x640 1 marmoset, 3.9ms\n",
            "Speed: 1.4ms preprocess, 3.9ms inference, 0.7ms postprocess per image at shape (1, 3, 640, 640)\n"
          ]
        },
        {
          "name": "stderr",
          "output_type": "stream",
          "text": [
            "  9%|▉         | 192/2108 [01:46<18:42,  1.71it/s]"
          ]
        },
        {
          "name": "stdout",
          "output_type": "stream",
          "text": [
            "\n",
            "0: 640x640 2 marmosets, 3.9ms\n",
            "Speed: 1.3ms preprocess, 3.9ms inference, 0.7ms postprocess per image at shape (1, 3, 640, 640)\n"
          ]
        },
        {
          "name": "stderr",
          "output_type": "stream",
          "text": [
            "  9%|▉         | 193/2108 [01:46<18:44,  1.70it/s]"
          ]
        },
        {
          "name": "stdout",
          "output_type": "stream",
          "text": [
            "\n",
            "0: 640x640 2 marmosets, 3.8ms\n",
            "Speed: 1.3ms preprocess, 3.8ms inference, 0.7ms postprocess per image at shape (1, 3, 640, 640)\n"
          ]
        },
        {
          "name": "stderr",
          "output_type": "stream",
          "text": [
            "  9%|▉         | 194/2108 [01:47<18:33,  1.72it/s]"
          ]
        },
        {
          "name": "stdout",
          "output_type": "stream",
          "text": [
            "\n",
            "0: 640x640 1 marmoset, 3.9ms\n",
            "Speed: 1.4ms preprocess, 3.9ms inference, 0.7ms postprocess per image at shape (1, 3, 640, 640)\n"
          ]
        },
        {
          "name": "stderr",
          "output_type": "stream",
          "text": [
            "  9%|▉         | 195/2108 [01:47<18:25,  1.73it/s]"
          ]
        },
        {
          "name": "stdout",
          "output_type": "stream",
          "text": [
            "\n",
            "0: 640x640 2 marmosets, 3.9ms\n",
            "Speed: 1.3ms preprocess, 3.9ms inference, 0.7ms postprocess per image at shape (1, 3, 640, 640)\n"
          ]
        },
        {
          "name": "stderr",
          "output_type": "stream",
          "text": [
            "  9%|▉         | 196/2108 [01:48<18:21,  1.74it/s]"
          ]
        },
        {
          "name": "stdout",
          "output_type": "stream",
          "text": [
            "\n",
            "0: 640x640 1 marmoset, 3.9ms\n",
            "Speed: 1.4ms preprocess, 3.9ms inference, 0.7ms postprocess per image at shape (1, 3, 640, 640)\n"
          ]
        },
        {
          "name": "stderr",
          "output_type": "stream",
          "text": [
            "  9%|▉         | 197/2108 [01:48<18:17,  1.74it/s]"
          ]
        },
        {
          "name": "stdout",
          "output_type": "stream",
          "text": [
            "\n",
            "0: 640x640 1 marmoset, 3.9ms\n",
            "Speed: 1.4ms preprocess, 3.9ms inference, 0.7ms postprocess per image at shape (1, 3, 640, 640)\n"
          ]
        },
        {
          "name": "stderr",
          "output_type": "stream",
          "text": [
            "  9%|▉         | 198/2108 [01:49<18:15,  1.74it/s]"
          ]
        },
        {
          "name": "stdout",
          "output_type": "stream",
          "text": [
            "\n",
            "0: 480x640 1 marmoset, 4.6ms\n",
            "Speed: 1.1ms preprocess, 4.6ms inference, 0.8ms postprocess per image at shape (1, 3, 480, 640)\n"
          ]
        },
        {
          "name": "stderr",
          "output_type": "stream",
          "text": [
            "  9%|▉         | 199/2108 [01:50<18:08,  1.75it/s]"
          ]
        },
        {
          "name": "stdout",
          "output_type": "stream",
          "text": [
            "\n",
            "0: 640x640 1 marmoset, 4.5ms\n",
            "Speed: 1.5ms preprocess, 4.5ms inference, 0.8ms postprocess per image at shape (1, 3, 640, 640)\n"
          ]
        },
        {
          "name": "stderr",
          "output_type": "stream",
          "text": [
            "  9%|▉         | 200/2108 [01:50<18:08,  1.75it/s]"
          ]
        },
        {
          "name": "stdout",
          "output_type": "stream",
          "text": [
            "\n",
            "0: 640x640 1 marmoset, 4.2ms\n",
            "Speed: 1.5ms preprocess, 4.2ms inference, 0.8ms postprocess per image at shape (1, 3, 640, 640)\n"
          ]
        },
        {
          "name": "stderr",
          "output_type": "stream",
          "text": [
            " 10%|▉         | 201/2108 [01:51<18:08,  1.75it/s]"
          ]
        },
        {
          "name": "stdout",
          "output_type": "stream",
          "text": [
            "\n",
            "0: 640x640 2 marmosets, 4.2ms\n",
            "Speed: 1.4ms preprocess, 4.2ms inference, 0.8ms postprocess per image at shape (1, 3, 640, 640)\n"
          ]
        },
        {
          "name": "stderr",
          "output_type": "stream",
          "text": [
            " 10%|▉         | 202/2108 [01:51<18:08,  1.75it/s]"
          ]
        },
        {
          "name": "stdout",
          "output_type": "stream",
          "text": [
            "\n",
            "0: 640x640 2 marmosets, 4.2ms\n",
            "Speed: 1.4ms preprocess, 4.2ms inference, 0.8ms postprocess per image at shape (1, 3, 640, 640)\n"
          ]
        },
        {
          "name": "stderr",
          "output_type": "stream",
          "text": [
            " 10%|▉         | 203/2108 [01:52<18:18,  1.73it/s]"
          ]
        },
        {
          "name": "stdout",
          "output_type": "stream",
          "text": [
            "\n",
            "0: 640x640 2 marmosets, 4.2ms\n",
            "Speed: 1.4ms preprocess, 4.2ms inference, 0.8ms postprocess per image at shape (1, 3, 640, 640)\n"
          ]
        },
        {
          "name": "stderr",
          "output_type": "stream",
          "text": [
            " 10%|▉         | 204/2108 [01:52<18:45,  1.69it/s]"
          ]
        },
        {
          "name": "stdout",
          "output_type": "stream",
          "text": [
            "\n",
            "0: 480x640 1 marmoset, 4.6ms\n",
            "Speed: 1.1ms preprocess, 4.6ms inference, 0.8ms postprocess per image at shape (1, 3, 480, 640)\n"
          ]
        },
        {
          "name": "stderr",
          "output_type": "stream",
          "text": [
            " 10%|▉         | 205/2108 [01:53<18:32,  1.71it/s]"
          ]
        },
        {
          "name": "stdout",
          "output_type": "stream",
          "text": [
            "\n",
            "0: 480x640 1 marmoset, 4.2ms\n",
            "Speed: 1.1ms preprocess, 4.2ms inference, 0.7ms postprocess per image at shape (1, 3, 480, 640)\n"
          ]
        },
        {
          "name": "stderr",
          "output_type": "stream",
          "text": [
            " 10%|▉         | 206/2108 [01:54<18:23,  1.72it/s]"
          ]
        },
        {
          "name": "stdout",
          "output_type": "stream",
          "text": [
            "\n",
            "0: 640x640 1 marmoset, 4.5ms\n",
            "Speed: 1.5ms preprocess, 4.5ms inference, 0.8ms postprocess per image at shape (1, 3, 640, 640)\n"
          ]
        },
        {
          "name": "stderr",
          "output_type": "stream",
          "text": [
            " 10%|▉         | 207/2108 [01:54<18:22,  1.72it/s]"
          ]
        },
        {
          "name": "stdout",
          "output_type": "stream",
          "text": [
            "\n",
            "0: 640x640 1 marmoset, 4.2ms\n",
            "Speed: 1.5ms preprocess, 4.2ms inference, 0.8ms postprocess per image at shape (1, 3, 640, 640)\n"
          ]
        },
        {
          "name": "stderr",
          "output_type": "stream",
          "text": [
            " 10%|▉         | 208/2108 [01:55<18:22,  1.72it/s]"
          ]
        },
        {
          "name": "stdout",
          "output_type": "stream",
          "text": [
            "\n",
            "0: 640x640 1 marmoset, 4.2ms\n",
            "Speed: 1.5ms preprocess, 4.2ms inference, 0.8ms postprocess per image at shape (1, 3, 640, 640)\n"
          ]
        },
        {
          "name": "stderr",
          "output_type": "stream",
          "text": [
            " 10%|▉         | 209/2108 [01:55<18:25,  1.72it/s]"
          ]
        },
        {
          "name": "stdout",
          "output_type": "stream",
          "text": [
            "\n",
            "0: 640x640 2 marmosets, 4.2ms\n",
            "Speed: 1.4ms preprocess, 4.2ms inference, 0.8ms postprocess per image at shape (1, 3, 640, 640)\n"
          ]
        },
        {
          "name": "stderr",
          "output_type": "stream",
          "text": [
            " 10%|▉         | 210/2108 [01:56<18:26,  1.72it/s]"
          ]
        },
        {
          "name": "stdout",
          "output_type": "stream",
          "text": [
            "\n",
            "0: 640x640 1 marmoset, 4.2ms\n",
            "Speed: 1.5ms preprocess, 4.2ms inference, 0.8ms postprocess per image at shape (1, 3, 640, 640)\n"
          ]
        },
        {
          "name": "stderr",
          "output_type": "stream",
          "text": [
            " 10%|█         | 211/2108 [01:56<18:14,  1.73it/s]"
          ]
        },
        {
          "name": "stdout",
          "output_type": "stream",
          "text": [
            "\n",
            "0: 640x640 2 marmosets, 4.2ms\n",
            "Speed: 1.5ms preprocess, 4.2ms inference, 0.8ms postprocess per image at shape (1, 3, 640, 640)\n"
          ]
        },
        {
          "name": "stderr",
          "output_type": "stream",
          "text": [
            " 10%|█         | 212/2108 [01:57<18:14,  1.73it/s]"
          ]
        },
        {
          "name": "stdout",
          "output_type": "stream",
          "text": [
            "\n",
            "0: 640x640 1 marmoset, 4.3ms\n",
            "Speed: 1.5ms preprocess, 4.3ms inference, 0.8ms postprocess per image at shape (1, 3, 640, 640)\n"
          ]
        },
        {
          "name": "stderr",
          "output_type": "stream",
          "text": [
            " 10%|█         | 213/2108 [01:58<18:05,  1.75it/s]"
          ]
        },
        {
          "name": "stdout",
          "output_type": "stream",
          "text": [
            "\n",
            "0: 640x640 1 marmoset, 4.3ms\n",
            "Speed: 1.5ms preprocess, 4.3ms inference, 0.8ms postprocess per image at shape (1, 3, 640, 640)\n"
          ]
        },
        {
          "name": "stderr",
          "output_type": "stream",
          "text": [
            " 10%|█         | 214/2108 [01:58<17:58,  1.76it/s]"
          ]
        },
        {
          "name": "stdout",
          "output_type": "stream",
          "text": [
            "\n",
            "0: 640x640 1 marmoset, 4.2ms\n",
            "Speed: 1.5ms preprocess, 4.2ms inference, 0.8ms postprocess per image at shape (1, 3, 640, 640)\n"
          ]
        },
        {
          "name": "stderr",
          "output_type": "stream",
          "text": [
            " 10%|█         | 215/2108 [01:59<17:44,  1.78it/s]"
          ]
        },
        {
          "name": "stdout",
          "output_type": "stream",
          "text": [
            "\n",
            "0: 640x640 1 marmoset, 4.2ms\n",
            "Speed: 1.5ms preprocess, 4.2ms inference, 0.8ms postprocess per image at shape (1, 3, 640, 640)\n"
          ]
        },
        {
          "name": "stderr",
          "output_type": "stream",
          "text": [
            " 10%|█         | 216/2108 [01:59<18:31,  1.70it/s]"
          ]
        },
        {
          "name": "stdout",
          "output_type": "stream",
          "text": [
            "\n",
            "0: 480x640 1 marmoset, 4.3ms\n",
            "Speed: 1.0ms preprocess, 4.3ms inference, 0.7ms postprocess per image at shape (1, 3, 480, 640)\n"
          ]
        },
        {
          "name": "stderr",
          "output_type": "stream",
          "text": [
            " 10%|█         | 217/2108 [02:00<19:00,  1.66it/s]"
          ]
        },
        {
          "name": "stdout",
          "output_type": "stream",
          "text": [
            "\n",
            "0: 640x640 1 marmoset, 4.1ms\n",
            "Speed: 1.4ms preprocess, 4.1ms inference, 0.7ms postprocess per image at shape (1, 3, 640, 640)\n"
          ]
        },
        {
          "name": "stderr",
          "output_type": "stream",
          "text": [
            " 10%|█         | 218/2108 [02:01<18:47,  1.68it/s]"
          ]
        },
        {
          "name": "stdout",
          "output_type": "stream",
          "text": [
            "\n",
            "0: 640x640 1 marmoset, 3.9ms\n",
            "Speed: 1.4ms preprocess, 3.9ms inference, 0.7ms postprocess per image at shape (1, 3, 640, 640)\n"
          ]
        },
        {
          "name": "stderr",
          "output_type": "stream",
          "text": [
            " 10%|█         | 219/2108 [02:01<18:33,  1.70it/s]"
          ]
        },
        {
          "name": "stdout",
          "output_type": "stream",
          "text": [
            "\n",
            "0: 640x640 2 marmosets, 3.9ms\n",
            "Speed: 1.3ms preprocess, 3.9ms inference, 0.7ms postprocess per image at shape (1, 3, 640, 640)\n"
          ]
        },
        {
          "name": "stderr",
          "output_type": "stream",
          "text": [
            " 10%|█         | 220/2108 [02:02<18:25,  1.71it/s]"
          ]
        },
        {
          "name": "stdout",
          "output_type": "stream",
          "text": [
            "\n",
            "0: 640x640 1 marmoset, 3.9ms\n",
            "Speed: 1.4ms preprocess, 3.9ms inference, 0.7ms postprocess per image at shape (1, 3, 640, 640)\n"
          ]
        },
        {
          "name": "stderr",
          "output_type": "stream",
          "text": [
            " 10%|█         | 221/2108 [02:02<18:17,  1.72it/s]"
          ]
        },
        {
          "name": "stdout",
          "output_type": "stream",
          "text": [
            "\n",
            "0: 640x640 1 marmoset, 3.9ms\n",
            "Speed: 1.4ms preprocess, 3.9ms inference, 0.7ms postprocess per image at shape (1, 3, 640, 640)\n"
          ]
        },
        {
          "name": "stderr",
          "output_type": "stream",
          "text": [
            " 11%|█         | 222/2108 [02:03<18:11,  1.73it/s]"
          ]
        },
        {
          "name": "stdout",
          "output_type": "stream",
          "text": [
            "\n",
            "0: 640x640 2 marmosets, 3.9ms\n",
            "Speed: 1.3ms preprocess, 3.9ms inference, 0.7ms postprocess per image at shape (1, 3, 640, 640)\n"
          ]
        },
        {
          "name": "stderr",
          "output_type": "stream",
          "text": [
            " 11%|█         | 223/2108 [02:03<18:00,  1.74it/s]"
          ]
        },
        {
          "name": "stdout",
          "output_type": "stream",
          "text": [
            "\n",
            "0: 480x640 1 marmoset, 4.2ms\n",
            "Speed: 1.0ms preprocess, 4.2ms inference, 0.7ms postprocess per image at shape (1, 3, 480, 640)\n"
          ]
        },
        {
          "name": "stderr",
          "output_type": "stream",
          "text": [
            " 11%|█         | 224/2108 [02:04<17:10,  1.83it/s]"
          ]
        },
        {
          "name": "stdout",
          "output_type": "stream",
          "text": [
            "\n",
            "0: 640x640 1 marmoset, 4.1ms\n",
            "Speed: 1.4ms preprocess, 4.1ms inference, 0.7ms postprocess per image at shape (1, 3, 640, 640)\n"
          ]
        },
        {
          "name": "stderr",
          "output_type": "stream",
          "text": [
            " 11%|█         | 225/2108 [02:05<18:30,  1.70it/s]"
          ]
        },
        {
          "name": "stdout",
          "output_type": "stream",
          "text": [
            "\n",
            "0: 640x640 1 marmoset, 3.9ms\n",
            "Speed: 1.4ms preprocess, 3.9ms inference, 0.7ms postprocess per image at shape (1, 3, 640, 640)\n"
          ]
        },
        {
          "name": "stderr",
          "output_type": "stream",
          "text": [
            " 11%|█         | 226/2108 [02:05<18:41,  1.68it/s]"
          ]
        },
        {
          "name": "stdout",
          "output_type": "stream",
          "text": [
            "\n",
            "0: 640x640 1 marmoset, 3.9ms\n",
            "Speed: 1.4ms preprocess, 3.9ms inference, 0.7ms postprocess per image at shape (1, 3, 640, 640)\n"
          ]
        },
        {
          "name": "stderr",
          "output_type": "stream",
          "text": [
            " 11%|█         | 227/2108 [02:06<18:29,  1.69it/s]"
          ]
        },
        {
          "name": "stdout",
          "output_type": "stream",
          "text": [
            "\n",
            "0: 640x640 1 marmoset, 3.9ms\n",
            "Speed: 1.4ms preprocess, 3.9ms inference, 0.7ms postprocess per image at shape (1, 3, 640, 640)\n"
          ]
        },
        {
          "name": "stderr",
          "output_type": "stream",
          "text": [
            " 11%|█         | 228/2108 [02:06<18:23,  1.70it/s]"
          ]
        },
        {
          "name": "stdout",
          "output_type": "stream",
          "text": [
            "\n",
            "0: 480x640 1 marmoset, 4.2ms\n",
            "Speed: 1.0ms preprocess, 4.2ms inference, 0.7ms postprocess per image at shape (1, 3, 480, 640)\n"
          ]
        },
        {
          "name": "stderr",
          "output_type": "stream",
          "text": [
            " 11%|█         | 229/2108 [02:07<18:02,  1.74it/s]"
          ]
        },
        {
          "name": "stdout",
          "output_type": "stream",
          "text": [
            "\n",
            "0: 640x640 1 marmoset, 4.1ms\n",
            "Speed: 1.4ms preprocess, 4.1ms inference, 0.7ms postprocess per image at shape (1, 3, 640, 640)\n"
          ]
        },
        {
          "name": "stderr",
          "output_type": "stream",
          "text": [
            " 11%|█         | 230/2108 [02:07<17:53,  1.75it/s]"
          ]
        },
        {
          "name": "stdout",
          "output_type": "stream",
          "text": [
            "\n",
            "0: 640x640 1 marmoset, 3.9ms\n",
            "Speed: 1.4ms preprocess, 3.9ms inference, 0.7ms postprocess per image at shape (1, 3, 640, 640)\n"
          ]
        },
        {
          "name": "stderr",
          "output_type": "stream",
          "text": [
            " 11%|█         | 231/2108 [02:08<17:49,  1.75it/s]"
          ]
        },
        {
          "name": "stdout",
          "output_type": "stream",
          "text": [
            "\n",
            "0: 480x640 1 marmoset, 4.2ms\n",
            "Speed: 1.0ms preprocess, 4.2ms inference, 0.7ms postprocess per image at shape (1, 3, 480, 640)\n"
          ]
        },
        {
          "name": "stderr",
          "output_type": "stream",
          "text": [
            " 11%|█         | 232/2108 [02:09<17:45,  1.76it/s]"
          ]
        },
        {
          "name": "stdout",
          "output_type": "stream",
          "text": [
            "\n",
            "0: 640x640 2 marmosets, 4.1ms\n",
            "Speed: 1.4ms preprocess, 4.1ms inference, 0.7ms postprocess per image at shape (1, 3, 640, 640)\n"
          ]
        },
        {
          "name": "stderr",
          "output_type": "stream",
          "text": [
            " 11%|█         | 233/2108 [02:09<17:48,  1.76it/s]"
          ]
        },
        {
          "name": "stdout",
          "output_type": "stream",
          "text": [
            "\n",
            "0: 640x640 2 marmosets, 3.9ms\n",
            "Speed: 1.4ms preprocess, 3.9ms inference, 0.7ms postprocess per image at shape (1, 3, 640, 640)\n"
          ]
        },
        {
          "name": "stderr",
          "output_type": "stream",
          "text": [
            " 11%|█         | 234/2108 [02:10<17:41,  1.77it/s]"
          ]
        },
        {
          "name": "stdout",
          "output_type": "stream",
          "text": [
            "\n",
            "0: 640x640 1 marmoset, 3.9ms\n",
            "Speed: 1.4ms preprocess, 3.9ms inference, 0.7ms postprocess per image at shape (1, 3, 640, 640)\n"
          ]
        },
        {
          "name": "stderr",
          "output_type": "stream",
          "text": [
            " 11%|█         | 235/2108 [02:10<18:15,  1.71it/s]"
          ]
        },
        {
          "name": "stdout",
          "output_type": "stream",
          "text": [
            "\n",
            "0: 640x640 1 marmoset, 3.9ms\n",
            "Speed: 1.5ms preprocess, 3.9ms inference, 0.7ms postprocess per image at shape (1, 3, 640, 640)\n"
          ]
        },
        {
          "name": "stderr",
          "output_type": "stream",
          "text": [
            " 11%|█         | 236/2108 [02:11<18:35,  1.68it/s]"
          ]
        },
        {
          "name": "stdout",
          "output_type": "stream",
          "text": [
            "\n",
            "0: 640x640 1 marmoset, 3.9ms\n",
            "Speed: 1.4ms preprocess, 3.9ms inference, 0.7ms postprocess per image at shape (1, 3, 640, 640)\n"
          ]
        },
        {
          "name": "stderr",
          "output_type": "stream",
          "text": [
            " 11%|█         | 237/2108 [02:12<18:23,  1.70it/s]"
          ]
        },
        {
          "name": "stdout",
          "output_type": "stream",
          "text": [
            "\n",
            "0: 640x640 1 marmoset, 3.9ms\n",
            "Speed: 1.5ms preprocess, 3.9ms inference, 0.7ms postprocess per image at shape (1, 3, 640, 640)\n"
          ]
        },
        {
          "name": "stderr",
          "output_type": "stream",
          "text": [
            " 11%|█▏        | 238/2108 [02:12<18:17,  1.70it/s]"
          ]
        },
        {
          "name": "stdout",
          "output_type": "stream",
          "text": [
            "\n",
            "0: 640x640 1 marmoset, 3.9ms\n",
            "Speed: 1.4ms preprocess, 3.9ms inference, 0.7ms postprocess per image at shape (1, 3, 640, 640)\n"
          ]
        },
        {
          "name": "stderr",
          "output_type": "stream",
          "text": [
            " 11%|█▏        | 239/2108 [02:13<18:12,  1.71it/s]"
          ]
        },
        {
          "name": "stdout",
          "output_type": "stream",
          "text": [
            "\n",
            "0: 640x640 1 marmoset, 4.3ms\n",
            "Speed: 1.5ms preprocess, 4.3ms inference, 0.8ms postprocess per image at shape (1, 3, 640, 640)\n"
          ]
        },
        {
          "name": "stderr",
          "output_type": "stream",
          "text": [
            " 11%|█▏        | 240/2108 [02:13<18:09,  1.71it/s]"
          ]
        },
        {
          "name": "stdout",
          "output_type": "stream",
          "text": [
            "\n",
            "0: 640x640 1 marmoset, 4.2ms\n",
            "Speed: 1.5ms preprocess, 4.2ms inference, 0.8ms postprocess per image at shape (1, 3, 640, 640)\n"
          ]
        },
        {
          "name": "stderr",
          "output_type": "stream",
          "text": [
            " 11%|█▏        | 241/2108 [02:14<17:56,  1.73it/s]"
          ]
        },
        {
          "name": "stdout",
          "output_type": "stream",
          "text": [
            "\n",
            "0: 640x640 1 marmoset, 4.2ms\n",
            "Speed: 1.5ms preprocess, 4.2ms inference, 0.8ms postprocess per image at shape (1, 3, 640, 640)\n"
          ]
        },
        {
          "name": "stderr",
          "output_type": "stream",
          "text": [
            " 11%|█▏        | 242/2108 [02:14<17:47,  1.75it/s]"
          ]
        },
        {
          "name": "stdout",
          "output_type": "stream",
          "text": [
            "\n",
            "0: 640x640 1 marmoset, 4.2ms\n",
            "Speed: 1.5ms preprocess, 4.2ms inference, 0.8ms postprocess per image at shape (1, 3, 640, 640)\n"
          ]
        },
        {
          "name": "stderr",
          "output_type": "stream",
          "text": [
            " 12%|█▏        | 243/2108 [02:15<17:40,  1.76it/s]"
          ]
        },
        {
          "name": "stdout",
          "output_type": "stream",
          "text": [
            "\n",
            "0: 640x640 1 marmoset, 4.2ms\n",
            "Speed: 1.5ms preprocess, 4.2ms inference, 0.8ms postprocess per image at shape (1, 3, 640, 640)\n"
          ]
        },
        {
          "name": "stderr",
          "output_type": "stream",
          "text": [
            " 12%|█▏        | 244/2108 [02:16<17:40,  1.76it/s]"
          ]
        },
        {
          "name": "stdout",
          "output_type": "stream",
          "text": [
            "\n",
            "0: 640x640 1 marmoset, 4.2ms\n",
            "Speed: 1.4ms preprocess, 4.2ms inference, 0.8ms postprocess per image at shape (1, 3, 640, 640)\n"
          ]
        },
        {
          "name": "stderr",
          "output_type": "stream",
          "text": [
            " 12%|█▏        | 245/2108 [02:16<17:45,  1.75it/s]"
          ]
        },
        {
          "name": "stdout",
          "output_type": "stream",
          "text": [
            "\n",
            "0: 640x640 2 marmosets, 4.2ms\n",
            "Speed: 1.6ms preprocess, 4.2ms inference, 0.8ms postprocess per image at shape (1, 3, 640, 640)\n"
          ]
        },
        {
          "name": "stderr",
          "output_type": "stream",
          "text": [
            " 12%|█▏        | 246/2108 [02:17<17:48,  1.74it/s]"
          ]
        },
        {
          "name": "stdout",
          "output_type": "stream",
          "text": [
            "\n",
            "0: 480x640 1 marmoset, 4.6ms\n",
            "Speed: 1.0ms preprocess, 4.6ms inference, 0.8ms postprocess per image at shape (1, 3, 480, 640)\n"
          ]
        },
        {
          "name": "stderr",
          "output_type": "stream",
          "text": [
            " 12%|█▏        | 247/2108 [02:17<17:33,  1.77it/s]"
          ]
        },
        {
          "name": "stdout",
          "output_type": "stream",
          "text": [
            "\n",
            "0: 480x640 1 marmoset, 4.2ms\n",
            "Speed: 1.1ms preprocess, 4.2ms inference, 0.8ms postprocess per image at shape (1, 3, 480, 640)\n"
          ]
        },
        {
          "name": "stderr",
          "output_type": "stream",
          "text": [
            " 12%|█▏        | 248/2108 [02:18<17:33,  1.77it/s]"
          ]
        },
        {
          "name": "stdout",
          "output_type": "stream",
          "text": [
            "\n",
            "0: 640x640 1 marmoset, 4.5ms\n",
            "Speed: 1.5ms preprocess, 4.5ms inference, 0.8ms postprocess per image at shape (1, 3, 640, 640)\n"
          ]
        },
        {
          "name": "stderr",
          "output_type": "stream",
          "text": [
            " 12%|█▏        | 249/2108 [02:18<17:49,  1.74it/s]"
          ]
        },
        {
          "name": "stdout",
          "output_type": "stream",
          "text": [
            "\n",
            "0: 640x640 2 marmosets, 4.2ms\n",
            "Speed: 1.5ms preprocess, 4.2ms inference, 0.8ms postprocess per image at shape (1, 3, 640, 640)\n"
          ]
        },
        {
          "name": "stderr",
          "output_type": "stream",
          "text": [
            " 12%|█▏        | 250/2108 [02:19<17:58,  1.72it/s]"
          ]
        },
        {
          "name": "stdout",
          "output_type": "stream",
          "text": [
            "\n",
            "0: 640x640 1 marmoset, 4.3ms\n",
            "Speed: 1.5ms preprocess, 4.3ms inference, 0.8ms postprocess per image at shape (1, 3, 640, 640)\n"
          ]
        },
        {
          "name": "stderr",
          "output_type": "stream",
          "text": [
            " 12%|█▏        | 251/2108 [02:20<17:49,  1.74it/s]"
          ]
        },
        {
          "name": "stdout",
          "output_type": "stream",
          "text": [
            "\n",
            "0: 480x640 1 marmoset, 4.6ms\n",
            "Speed: 1.1ms preprocess, 4.6ms inference, 0.8ms postprocess per image at shape (1, 3, 480, 640)\n"
          ]
        },
        {
          "name": "stderr",
          "output_type": "stream",
          "text": [
            " 12%|█▏        | 252/2108 [02:20<17:40,  1.75it/s]"
          ]
        },
        {
          "name": "stdout",
          "output_type": "stream",
          "text": [
            "\n",
            "0: 480x640 1 marmoset, 4.2ms\n",
            "Speed: 1.1ms preprocess, 4.2ms inference, 0.8ms postprocess per image at shape (1, 3, 480, 640)\n"
          ]
        },
        {
          "name": "stderr",
          "output_type": "stream",
          "text": [
            " 12%|█▏        | 253/2108 [02:21<18:13,  1.70it/s]"
          ]
        },
        {
          "name": "stdout",
          "output_type": "stream",
          "text": [
            "\n",
            "0: 480x640 1 marmoset, 4.2ms\n",
            "Speed: 1.1ms preprocess, 4.2ms inference, 0.7ms postprocess per image at shape (1, 3, 480, 640)\n"
          ]
        },
        {
          "name": "stderr",
          "output_type": "stream",
          "text": [
            " 12%|█▏        | 254/2108 [02:21<18:10,  1.70it/s]"
          ]
        },
        {
          "name": "stdout",
          "output_type": "stream",
          "text": [
            "\n",
            "0: 640x640 2 marmosets, 4.2ms\n",
            "Speed: 1.4ms preprocess, 4.2ms inference, 0.7ms postprocess per image at shape (1, 3, 640, 640)\n"
          ]
        },
        {
          "name": "stderr",
          "output_type": "stream",
          "text": [
            " 12%|█▏        | 255/2108 [02:22<18:08,  1.70it/s]"
          ]
        },
        {
          "name": "stdout",
          "output_type": "stream",
          "text": [
            "\n",
            "0: 640x640 2 marmosets, 4.2ms\n",
            "Speed: 1.6ms preprocess, 4.2ms inference, 0.8ms postprocess per image at shape (1, 3, 640, 640)\n"
          ]
        },
        {
          "name": "stderr",
          "output_type": "stream",
          "text": [
            " 12%|█▏        | 256/2108 [02:23<18:13,  1.69it/s]"
          ]
        },
        {
          "name": "stdout",
          "output_type": "stream",
          "text": [
            "\n",
            "0: 480x640 1 marmoset, 4.6ms\n",
            "Speed: 1.1ms preprocess, 4.6ms inference, 0.8ms postprocess per image at shape (1, 3, 480, 640)\n"
          ]
        },
        {
          "name": "stderr",
          "output_type": "stream",
          "text": [
            " 12%|█▏        | 257/2108 [02:23<18:03,  1.71it/s]"
          ]
        },
        {
          "name": "stdout",
          "output_type": "stream",
          "text": [
            "\n",
            "0: 640x640 1 marmoset, 4.5ms\n",
            "Speed: 1.5ms preprocess, 4.5ms inference, 0.8ms postprocess per image at shape (1, 3, 640, 640)\n"
          ]
        },
        {
          "name": "stderr",
          "output_type": "stream",
          "text": [
            " 12%|█▏        | 258/2108 [02:24<17:53,  1.72it/s]"
          ]
        },
        {
          "name": "stdout",
          "output_type": "stream",
          "text": [
            "\n",
            "0: 640x640 2 marmosets, 4.3ms\n",
            "Speed: 1.5ms preprocess, 4.3ms inference, 0.8ms postprocess per image at shape (1, 3, 640, 640)\n"
          ]
        },
        {
          "name": "stderr",
          "output_type": "stream",
          "text": [
            " 12%|█▏        | 259/2108 [02:24<17:46,  1.73it/s]"
          ]
        },
        {
          "name": "stdout",
          "output_type": "stream",
          "text": [
            "\n",
            "0: 480x640 1 marmoset, 4.6ms\n",
            "Speed: 1.1ms preprocess, 4.6ms inference, 0.8ms postprocess per image at shape (1, 3, 480, 640)\n"
          ]
        },
        {
          "name": "stderr",
          "output_type": "stream",
          "text": [
            " 12%|█▏        | 260/2108 [02:25<17:34,  1.75it/s]"
          ]
        },
        {
          "name": "stdout",
          "output_type": "stream",
          "text": [
            "\n",
            "0: 640x640 1 marmoset, 4.5ms\n",
            "Speed: 1.5ms preprocess, 4.5ms inference, 0.8ms postprocess per image at shape (1, 3, 640, 640)\n"
          ]
        },
        {
          "name": "stderr",
          "output_type": "stream",
          "text": [
            " 12%|█▏        | 261/2108 [02:25<18:19,  1.68it/s]"
          ]
        },
        {
          "name": "stdout",
          "output_type": "stream",
          "text": [
            "\n",
            "0: 640x640 1 marmoset, 4.2ms\n",
            "Speed: 1.5ms preprocess, 4.2ms inference, 0.8ms postprocess per image at shape (1, 3, 640, 640)\n"
          ]
        },
        {
          "name": "stderr",
          "output_type": "stream",
          "text": [
            " 12%|█▏        | 262/2108 [02:26<18:15,  1.68it/s]"
          ]
        },
        {
          "name": "stdout",
          "output_type": "stream",
          "text": [
            "\n",
            "0: 640x640 1 marmoset, 4.2ms\n",
            "Speed: 1.5ms preprocess, 4.2ms inference, 0.8ms postprocess per image at shape (1, 3, 640, 640)\n"
          ]
        },
        {
          "name": "stderr",
          "output_type": "stream",
          "text": [
            " 12%|█▏        | 263/2108 [02:27<18:04,  1.70it/s]"
          ]
        },
        {
          "name": "stdout",
          "output_type": "stream",
          "text": [
            "\n",
            "0: 640x640 1 marmoset, 4.2ms\n",
            "Speed: 1.5ms preprocess, 4.2ms inference, 0.8ms postprocess per image at shape (1, 3, 640, 640)\n"
          ]
        },
        {
          "name": "stderr",
          "output_type": "stream",
          "text": [
            " 13%|█▎        | 264/2108 [02:27<17:55,  1.71it/s]"
          ]
        },
        {
          "name": "stdout",
          "output_type": "stream",
          "text": [
            "\n",
            "0: 640x640 2 marmosets, 4.2ms\n",
            "Speed: 1.4ms preprocess, 4.2ms inference, 0.8ms postprocess per image at shape (1, 3, 640, 640)\n"
          ]
        },
        {
          "name": "stderr",
          "output_type": "stream",
          "text": [
            " 13%|█▎        | 265/2108 [02:28<17:52,  1.72it/s]"
          ]
        },
        {
          "name": "stdout",
          "output_type": "stream",
          "text": [
            "\n",
            "0: 480x640 1 marmoset, 4.6ms\n",
            "Speed: 1.1ms preprocess, 4.6ms inference, 0.8ms postprocess per image at shape (1, 3, 480, 640)\n"
          ]
        },
        {
          "name": "stderr",
          "output_type": "stream",
          "text": [
            " 13%|█▎        | 266/2108 [02:28<17:43,  1.73it/s]"
          ]
        },
        {
          "name": "stdout",
          "output_type": "stream",
          "text": [
            "\n",
            "0: 480x640 1 marmoset, 4.2ms\n",
            "Speed: 1.1ms preprocess, 4.2ms inference, 0.8ms postprocess per image at shape (1, 3, 480, 640)\n"
          ]
        },
        {
          "name": "stderr",
          "output_type": "stream",
          "text": [
            " 13%|█▎        | 267/2108 [02:29<17:34,  1.75it/s]"
          ]
        },
        {
          "name": "stdout",
          "output_type": "stream",
          "text": [
            "\n",
            "0: 640x640 1 marmoset, 4.5ms\n",
            "Speed: 1.5ms preprocess, 4.5ms inference, 0.7ms postprocess per image at shape (1, 3, 640, 640)\n"
          ]
        },
        {
          "name": "stderr",
          "output_type": "stream",
          "text": [
            " 13%|█▎        | 268/2108 [02:29<17:33,  1.75it/s]"
          ]
        },
        {
          "name": "stdout",
          "output_type": "stream",
          "text": [
            "\n",
            "0: 480x640 1 marmoset, 4.6ms\n",
            "Speed: 1.1ms preprocess, 4.6ms inference, 0.8ms postprocess per image at shape (1, 3, 480, 640)\n"
          ]
        },
        {
          "name": "stderr",
          "output_type": "stream",
          "text": [
            " 13%|█▎        | 269/2108 [02:30<17:28,  1.75it/s]"
          ]
        },
        {
          "name": "stdout",
          "output_type": "stream",
          "text": [
            "\n",
            "0: 480x640 1 marmoset, 4.2ms\n",
            "Speed: 1.0ms preprocess, 4.2ms inference, 0.8ms postprocess per image at shape (1, 3, 480, 640)\n"
          ]
        },
        {
          "name": "stderr",
          "output_type": "stream",
          "text": [
            " 13%|█▎        | 270/2108 [02:31<17:28,  1.75it/s]"
          ]
        },
        {
          "name": "stdout",
          "output_type": "stream",
          "text": [
            "\n",
            "0: 480x640 1 marmoset, 4.1ms\n",
            "Speed: 1.1ms preprocess, 4.1ms inference, 0.7ms postprocess per image at shape (1, 3, 480, 640)\n"
          ]
        },
        {
          "name": "stderr",
          "output_type": "stream",
          "text": [
            " 13%|█▎        | 271/2108 [02:31<17:30,  1.75it/s]"
          ]
        },
        {
          "name": "stdout",
          "output_type": "stream",
          "text": [
            "\n",
            "0: 640x640 1 marmoset, 4.4ms\n",
            "Speed: 1.5ms preprocess, 4.4ms inference, 0.8ms postprocess per image at shape (1, 3, 640, 640)\n"
          ]
        },
        {
          "name": "stderr",
          "output_type": "stream",
          "text": [
            " 13%|█▎        | 272/2108 [02:32<17:38,  1.74it/s]"
          ]
        },
        {
          "name": "stdout",
          "output_type": "stream",
          "text": [
            "\n",
            "0: 640x640 2 marmosets, 4.2ms\n",
            "Speed: 1.5ms preprocess, 4.2ms inference, 0.8ms postprocess per image at shape (1, 3, 640, 640)\n"
          ]
        },
        {
          "name": "stderr",
          "output_type": "stream",
          "text": [
            " 13%|█▎        | 273/2108 [02:32<17:44,  1.72it/s]"
          ]
        },
        {
          "name": "stdout",
          "output_type": "stream",
          "text": [
            "\n",
            "0: 640x640 1 marmoset, 4.2ms\n",
            "Speed: 1.5ms preprocess, 4.2ms inference, 0.8ms postprocess per image at shape (1, 3, 640, 640)\n"
          ]
        },
        {
          "name": "stderr",
          "output_type": "stream",
          "text": [
            " 13%|█▎        | 274/2108 [02:33<17:36,  1.74it/s]"
          ]
        },
        {
          "name": "stdout",
          "output_type": "stream",
          "text": [
            "\n",
            "0: 480x640 2 marmosets, 4.6ms\n",
            "Speed: 1.1ms preprocess, 4.6ms inference, 0.8ms postprocess per image at shape (1, 3, 480, 640)\n"
          ]
        },
        {
          "name": "stderr",
          "output_type": "stream",
          "text": [
            " 13%|█▎        | 275/2108 [02:34<17:29,  1.75it/s]"
          ]
        },
        {
          "name": "stdout",
          "output_type": "stream",
          "text": [
            "\n",
            "0: 640x640 1 marmoset, 4.5ms\n",
            "Speed: 1.5ms preprocess, 4.5ms inference, 0.8ms postprocess per image at shape (1, 3, 640, 640)\n"
          ]
        },
        {
          "name": "stderr",
          "output_type": "stream",
          "text": [
            " 13%|█▎        | 276/2108 [02:34<17:27,  1.75it/s]"
          ]
        },
        {
          "name": "stdout",
          "output_type": "stream",
          "text": [
            "\n",
            "0: 640x640 1 marmoset, 4.2ms\n",
            "Speed: 1.5ms preprocess, 4.2ms inference, 0.8ms postprocess per image at shape (1, 3, 640, 640)\n"
          ]
        },
        {
          "name": "stderr",
          "output_type": "stream",
          "text": [
            " 13%|█▎        | 277/2108 [02:35<18:26,  1.65it/s]"
          ]
        },
        {
          "name": "stdout",
          "output_type": "stream",
          "text": [
            "\n",
            "0: 640x640 1 marmoset, 4.2ms\n",
            "Speed: 1.5ms preprocess, 4.2ms inference, 0.8ms postprocess per image at shape (1, 3, 640, 640)\n"
          ]
        },
        {
          "name": "stderr",
          "output_type": "stream",
          "text": [
            " 13%|█▎        | 278/2108 [02:35<18:40,  1.63it/s]"
          ]
        },
        {
          "name": "stdout",
          "output_type": "stream",
          "text": [
            "\n",
            "0: 640x640 1 marmoset, 4.2ms\n",
            "Speed: 1.5ms preprocess, 4.2ms inference, 0.8ms postprocess per image at shape (1, 3, 640, 640)\n"
          ]
        },
        {
          "name": "stderr",
          "output_type": "stream",
          "text": [
            " 13%|█▎        | 279/2108 [02:36<18:17,  1.67it/s]"
          ]
        },
        {
          "name": "stdout",
          "output_type": "stream",
          "text": [
            "\n",
            "0: 640x640 1 marmoset, 4.2ms\n",
            "Speed: 1.5ms preprocess, 4.2ms inference, 0.8ms postprocess per image at shape (1, 3, 640, 640)\n"
          ]
        },
        {
          "name": "stderr",
          "output_type": "stream",
          "text": [
            " 13%|█▎        | 280/2108 [02:37<17:58,  1.70it/s]"
          ]
        },
        {
          "name": "stdout",
          "output_type": "stream",
          "text": [
            "\n",
            "0: 640x640 1 marmoset, 4.2ms\n",
            "Speed: 1.5ms preprocess, 4.2ms inference, 0.8ms postprocess per image at shape (1, 3, 640, 640)\n"
          ]
        },
        {
          "name": "stderr",
          "output_type": "stream",
          "text": [
            " 13%|█▎        | 281/2108 [02:37<17:43,  1.72it/s]"
          ]
        },
        {
          "name": "stdout",
          "output_type": "stream",
          "text": [
            "\n",
            "0: 640x640 1 marmoset, 4.2ms\n",
            "Speed: 1.5ms preprocess, 4.2ms inference, 0.8ms postprocess per image at shape (1, 3, 640, 640)\n"
          ]
        },
        {
          "name": "stderr",
          "output_type": "stream",
          "text": [
            " 13%|█▎        | 282/2108 [02:38<17:22,  1.75it/s]"
          ]
        },
        {
          "name": "stdout",
          "output_type": "stream",
          "text": [
            "\n",
            "0: 640x640 1 marmoset, 4.2ms\n",
            "Speed: 1.5ms preprocess, 4.2ms inference, 0.8ms postprocess per image at shape (1, 3, 640, 640)\n"
          ]
        },
        {
          "name": "stderr",
          "output_type": "stream",
          "text": [
            " 13%|█▎        | 283/2108 [02:38<16:54,  1.80it/s]"
          ]
        },
        {
          "name": "stdout",
          "output_type": "stream",
          "text": [
            "\n",
            "0: 640x640 2 marmosets, 4.2ms\n",
            "Speed: 1.4ms preprocess, 4.2ms inference, 0.8ms postprocess per image at shape (1, 3, 640, 640)\n"
          ]
        },
        {
          "name": "stderr",
          "output_type": "stream",
          "text": [
            " 13%|█▎        | 284/2108 [02:39<17:35,  1.73it/s]"
          ]
        },
        {
          "name": "stdout",
          "output_type": "stream",
          "text": [
            "\n",
            "0: 640x640 1 marmoset, 4.2ms\n",
            "Speed: 1.5ms preprocess, 4.2ms inference, 0.8ms postprocess per image at shape (1, 3, 640, 640)\n"
          ]
        },
        {
          "name": "stderr",
          "output_type": "stream",
          "text": [
            " 14%|█▎        | 285/2108 [02:39<18:10,  1.67it/s]"
          ]
        },
        {
          "name": "stdout",
          "output_type": "stream",
          "text": [
            "\n",
            "0: 640x640 1 marmoset, 4.3ms\n",
            "Speed: 1.6ms preprocess, 4.3ms inference, 0.8ms postprocess per image at shape (1, 3, 640, 640)\n"
          ]
        },
        {
          "name": "stderr",
          "output_type": "stream",
          "text": [
            " 14%|█▎        | 286/2108 [02:40<18:06,  1.68it/s]"
          ]
        },
        {
          "name": "stdout",
          "output_type": "stream",
          "text": [
            "\n",
            "0: 640x640 1 marmoset, 4.2ms\n",
            "Speed: 1.5ms preprocess, 4.2ms inference, 0.8ms postprocess per image at shape (1, 3, 640, 640)\n"
          ]
        },
        {
          "name": "stderr",
          "output_type": "stream",
          "text": [
            " 14%|█▎        | 287/2108 [02:41<18:02,  1.68it/s]"
          ]
        },
        {
          "name": "stdout",
          "output_type": "stream",
          "text": [
            "\n",
            "0: 640x640 1 marmoset, 4.2ms\n",
            "Speed: 1.5ms preprocess, 4.2ms inference, 0.8ms postprocess per image at shape (1, 3, 640, 640)\n"
          ]
        },
        {
          "name": "stderr",
          "output_type": "stream",
          "text": [
            " 14%|█▎        | 288/2108 [02:41<17:56,  1.69it/s]"
          ]
        },
        {
          "name": "stdout",
          "output_type": "stream",
          "text": [
            "\n",
            "0: 640x640 2 marmosets, 4.2ms\n",
            "Speed: 1.4ms preprocess, 4.2ms inference, 0.8ms postprocess per image at shape (1, 3, 640, 640)\n"
          ]
        },
        {
          "name": "stderr",
          "output_type": "stream",
          "text": [
            " 14%|█▎        | 289/2108 [02:42<17:54,  1.69it/s]"
          ]
        },
        {
          "name": "stdout",
          "output_type": "stream",
          "text": [
            "\n",
            "0: 640x640 1 marmoset, 4.2ms\n",
            "Speed: 1.5ms preprocess, 4.2ms inference, 0.8ms postprocess per image at shape (1, 3, 640, 640)\n"
          ]
        },
        {
          "name": "stderr",
          "output_type": "stream",
          "text": [
            " 14%|█▍        | 290/2108 [02:42<17:38,  1.72it/s]"
          ]
        },
        {
          "name": "stdout",
          "output_type": "stream",
          "text": [
            "\n",
            "0: 480x640 1 marmoset, 4.6ms\n",
            "Speed: 1.1ms preprocess, 4.6ms inference, 0.8ms postprocess per image at shape (1, 3, 480, 640)\n"
          ]
        },
        {
          "name": "stderr",
          "output_type": "stream",
          "text": [
            " 14%|█▍        | 291/2108 [02:43<17:22,  1.74it/s]"
          ]
        },
        {
          "name": "stdout",
          "output_type": "stream",
          "text": [
            "\n",
            "0: 640x640 1 marmoset, 4.4ms\n",
            "Speed: 1.5ms preprocess, 4.4ms inference, 0.8ms postprocess per image at shape (1, 3, 640, 640)\n"
          ]
        },
        {
          "name": "stderr",
          "output_type": "stream",
          "text": [
            " 14%|█▍        | 292/2108 [02:44<17:44,  1.71it/s]"
          ]
        },
        {
          "name": "stdout",
          "output_type": "stream",
          "text": [
            "\n",
            "0: 640x640 1 marmoset, 4.2ms\n",
            "Speed: 1.5ms preprocess, 4.2ms inference, 0.8ms postprocess per image at shape (1, 3, 640, 640)\n"
          ]
        },
        {
          "name": "stderr",
          "output_type": "stream",
          "text": [
            " 14%|█▍        | 293/2108 [02:44<18:03,  1.67it/s]"
          ]
        },
        {
          "name": "stdout",
          "output_type": "stream",
          "text": [
            "\n",
            "0: 640x640 1 marmoset, 4.2ms\n",
            "Speed: 1.5ms preprocess, 4.2ms inference, 0.8ms postprocess per image at shape (1, 3, 640, 640)\n"
          ]
        },
        {
          "name": "stderr",
          "output_type": "stream",
          "text": [
            " 14%|█▍        | 294/2108 [02:45<17:57,  1.68it/s]"
          ]
        },
        {
          "name": "stdout",
          "output_type": "stream",
          "text": [
            "\n",
            "0: 480x640 1 marmoset, 4.6ms\n",
            "Speed: 1.1ms preprocess, 4.6ms inference, 0.8ms postprocess per image at shape (1, 3, 480, 640)\n"
          ]
        },
        {
          "name": "stderr",
          "output_type": "stream",
          "text": [
            " 14%|█▍        | 295/2108 [02:45<17:44,  1.70it/s]"
          ]
        },
        {
          "name": "stdout",
          "output_type": "stream",
          "text": [
            "\n",
            "0: 640x640 1 marmoset, 4.5ms\n",
            "Speed: 1.5ms preprocess, 4.5ms inference, 0.8ms postprocess per image at shape (1, 3, 640, 640)\n"
          ]
        },
        {
          "name": "stderr",
          "output_type": "stream",
          "text": [
            " 14%|█▍        | 296/2108 [02:46<17:43,  1.70it/s]"
          ]
        },
        {
          "name": "stdout",
          "output_type": "stream",
          "text": [
            "\n",
            "0: 640x640 1 marmoset, 4.2ms\n",
            "Speed: 1.5ms preprocess, 4.2ms inference, 0.8ms postprocess per image at shape (1, 3, 640, 640)\n"
          ]
        },
        {
          "name": "stderr",
          "output_type": "stream",
          "text": [
            " 14%|█▍        | 297/2108 [02:46<17:40,  1.71it/s]"
          ]
        },
        {
          "name": "stdout",
          "output_type": "stream",
          "text": [
            "\n",
            "0: 640x640 2 marmosets, 4.2ms\n",
            "Speed: 1.4ms preprocess, 4.2ms inference, 0.8ms postprocess per image at shape (1, 3, 640, 640)\n"
          ]
        },
        {
          "name": "stderr",
          "output_type": "stream",
          "text": [
            " 14%|█▍        | 298/2108 [02:47<17:38,  1.71it/s]"
          ]
        },
        {
          "name": "stdout",
          "output_type": "stream",
          "text": [
            "\n",
            "0: 640x640 1 marmoset, 4.2ms\n",
            "Speed: 1.5ms preprocess, 4.2ms inference, 0.8ms postprocess per image at shape (1, 3, 640, 640)\n"
          ]
        },
        {
          "name": "stderr",
          "output_type": "stream",
          "text": [
            " 14%|█▍        | 299/2108 [02:48<17:36,  1.71it/s]"
          ]
        },
        {
          "name": "stdout",
          "output_type": "stream",
          "text": [
            "\n",
            "0: 640x640 1 marmoset, 4.2ms\n",
            "Speed: 1.5ms preprocess, 4.2ms inference, 0.8ms postprocess per image at shape (1, 3, 640, 640)\n"
          ]
        },
        {
          "name": "stderr",
          "output_type": "stream",
          "text": [
            " 14%|█▍        | 300/2108 [02:48<17:34,  1.71it/s]"
          ]
        },
        {
          "name": "stdout",
          "output_type": "stream",
          "text": [
            "\n",
            "0: 640x640 1 marmoset, 4.2ms\n",
            "Speed: 1.5ms preprocess, 4.2ms inference, 0.8ms postprocess per image at shape (1, 3, 640, 640)\n"
          ]
        },
        {
          "name": "stderr",
          "output_type": "stream",
          "text": [
            " 14%|█▍        | 301/2108 [02:49<17:29,  1.72it/s]"
          ]
        },
        {
          "name": "stdout",
          "output_type": "stream",
          "text": [
            "\n",
            "0: 640x640 1 marmoset, 4.2ms\n",
            "Speed: 1.5ms preprocess, 4.2ms inference, 0.8ms postprocess per image at shape (1, 3, 640, 640)\n"
          ]
        },
        {
          "name": "stderr",
          "output_type": "stream",
          "text": [
            " 14%|█▍        | 302/2108 [02:49<17:30,  1.72it/s]"
          ]
        },
        {
          "name": "stdout",
          "output_type": "stream",
          "text": [
            "\n",
            "0: 640x640 1 marmoset, 4.2ms\n",
            "Speed: 1.5ms preprocess, 4.2ms inference, 0.8ms postprocess per image at shape (1, 3, 640, 640)\n"
          ]
        },
        {
          "name": "stderr",
          "output_type": "stream",
          "text": [
            " 14%|█▍        | 303/2108 [02:50<17:29,  1.72it/s]"
          ]
        },
        {
          "name": "stdout",
          "output_type": "stream",
          "text": [
            "\n",
            "0: 640x640 1 marmoset, 4.2ms\n",
            "Speed: 1.5ms preprocess, 4.2ms inference, 0.8ms postprocess per image at shape (1, 3, 640, 640)\n"
          ]
        },
        {
          "name": "stderr",
          "output_type": "stream",
          "text": [
            " 14%|█▍        | 304/2108 [02:51<17:21,  1.73it/s]"
          ]
        },
        {
          "name": "stdout",
          "output_type": "stream",
          "text": [
            "\n",
            "0: 480x640 1 marmoset, 4.6ms\n",
            "Speed: 1.1ms preprocess, 4.6ms inference, 0.8ms postprocess per image at shape (1, 3, 480, 640)\n"
          ]
        },
        {
          "name": "stderr",
          "output_type": "stream",
          "text": [
            " 14%|█▍        | 305/2108 [02:51<17:32,  1.71it/s]"
          ]
        },
        {
          "name": "stdout",
          "output_type": "stream",
          "text": [
            "\n",
            "0: 640x640 1 marmoset, 4.5ms\n",
            "Speed: 1.5ms preprocess, 4.5ms inference, 0.8ms postprocess per image at shape (1, 3, 640, 640)\n"
          ]
        },
        {
          "name": "stderr",
          "output_type": "stream",
          "text": [
            " 15%|█▍        | 306/2108 [02:52<17:39,  1.70it/s]"
          ]
        },
        {
          "name": "stdout",
          "output_type": "stream",
          "text": [
            "\n",
            "0: 480x640 1 marmoset, 4.6ms\n",
            "Speed: 1.1ms preprocess, 4.6ms inference, 0.8ms postprocess per image at shape (1, 3, 480, 640)\n"
          ]
        },
        {
          "name": "stderr",
          "output_type": "stream",
          "text": [
            " 15%|█▍        | 307/2108 [02:52<17:36,  1.70it/s]"
          ]
        },
        {
          "name": "stdout",
          "output_type": "stream",
          "text": [
            "\n",
            "0: 640x640 1 marmoset, 4.4ms\n",
            "Speed: 1.5ms preprocess, 4.4ms inference, 0.8ms postprocess per image at shape (1, 3, 640, 640)\n"
          ]
        },
        {
          "name": "stderr",
          "output_type": "stream",
          "text": [
            " 15%|█▍        | 308/2108 [02:53<17:41,  1.70it/s]"
          ]
        },
        {
          "name": "stdout",
          "output_type": "stream",
          "text": [
            "\n",
            "0: 640x640 1 marmoset, 4.2ms\n",
            "Speed: 1.5ms preprocess, 4.2ms inference, 0.8ms postprocess per image at shape (1, 3, 640, 640)\n"
          ]
        },
        {
          "name": "stderr",
          "output_type": "stream",
          "text": [
            " 15%|█▍        | 309/2108 [02:53<17:43,  1.69it/s]"
          ]
        },
        {
          "name": "stdout",
          "output_type": "stream",
          "text": [
            "\n",
            "0: 640x640 2 marmosets, 4.2ms\n",
            "Speed: 1.4ms preprocess, 4.2ms inference, 0.8ms postprocess per image at shape (1, 3, 640, 640)\n"
          ]
        },
        {
          "name": "stderr",
          "output_type": "stream",
          "text": [
            " 15%|█▍        | 310/2108 [02:54<17:45,  1.69it/s]"
          ]
        },
        {
          "name": "stdout",
          "output_type": "stream",
          "text": [
            "\n",
            "0: 640x640 1 marmoset, 4.2ms\n",
            "Speed: 1.5ms preprocess, 4.2ms inference, 0.8ms postprocess per image at shape (1, 3, 640, 640)\n"
          ]
        },
        {
          "name": "stderr",
          "output_type": "stream",
          "text": [
            " 15%|█▍        | 311/2108 [02:55<17:34,  1.70it/s]"
          ]
        },
        {
          "name": "stdout",
          "output_type": "stream",
          "text": [
            "\n",
            "0: 640x640 2 marmosets, 4.2ms\n",
            "Speed: 1.5ms preprocess, 4.2ms inference, 0.8ms postprocess per image at shape (1, 3, 640, 640)\n"
          ]
        },
        {
          "name": "stderr",
          "output_type": "stream",
          "text": [
            " 15%|█▍        | 312/2108 [02:55<17:30,  1.71it/s]"
          ]
        },
        {
          "name": "stdout",
          "output_type": "stream",
          "text": [
            "\n",
            "0: 480x640 1 marmoset, 4.6ms\n",
            "Speed: 1.1ms preprocess, 4.6ms inference, 0.8ms postprocess per image at shape (1, 3, 480, 640)\n"
          ]
        },
        {
          "name": "stderr",
          "output_type": "stream",
          "text": [
            " 15%|█▍        | 313/2108 [02:56<17:20,  1.73it/s]"
          ]
        },
        {
          "name": "stdout",
          "output_type": "stream",
          "text": [
            "\n",
            "0: 640x640 1 marmoset, 4.5ms\n",
            "Speed: 1.5ms preprocess, 4.5ms inference, 0.8ms postprocess per image at shape (1, 3, 640, 640)\n"
          ]
        },
        {
          "name": "stderr",
          "output_type": "stream",
          "text": [
            " 15%|█▍        | 314/2108 [02:56<17:26,  1.71it/s]"
          ]
        },
        {
          "name": "stdout",
          "output_type": "stream",
          "text": [
            "\n",
            "0: 640x640 1 marmoset, 4.2ms\n",
            "Speed: 1.5ms preprocess, 4.2ms inference, 0.8ms postprocess per image at shape (1, 3, 640, 640)\n"
          ]
        },
        {
          "name": "stderr",
          "output_type": "stream",
          "text": [
            " 15%|█▍        | 315/2108 [02:57<17:28,  1.71it/s]"
          ]
        },
        {
          "name": "stdout",
          "output_type": "stream",
          "text": [
            "\n",
            "0: 640x640 2 marmosets, 4.2ms\n",
            "Speed: 1.4ms preprocess, 4.2ms inference, 0.8ms postprocess per image at shape (1, 3, 640, 640)\n"
          ]
        },
        {
          "name": "stderr",
          "output_type": "stream",
          "text": [
            " 15%|█▍        | 316/2108 [02:58<17:32,  1.70it/s]"
          ]
        },
        {
          "name": "stdout",
          "output_type": "stream",
          "text": [
            "\n",
            "0: 640x640 1 marmoset, 4.2ms\n",
            "Speed: 1.5ms preprocess, 4.2ms inference, 0.8ms postprocess per image at shape (1, 3, 640, 640)\n"
          ]
        },
        {
          "name": "stderr",
          "output_type": "stream",
          "text": [
            " 15%|█▌        | 317/2108 [02:58<17:31,  1.70it/s]"
          ]
        },
        {
          "name": "stdout",
          "output_type": "stream",
          "text": [
            "\n",
            "0: 640x640 1 marmoset, 4.3ms\n",
            "Speed: 1.5ms preprocess, 4.3ms inference, 0.8ms postprocess per image at shape (1, 3, 640, 640)\n"
          ]
        },
        {
          "name": "stderr",
          "output_type": "stream",
          "text": [
            " 15%|█▌        | 318/2108 [02:59<17:23,  1.71it/s]"
          ]
        },
        {
          "name": "stdout",
          "output_type": "stream",
          "text": [
            "\n",
            "0: 480x640 1 marmoset, 4.6ms\n",
            "Speed: 1.1ms preprocess, 4.6ms inference, 0.8ms postprocess per image at shape (1, 3, 480, 640)\n"
          ]
        },
        {
          "name": "stderr",
          "output_type": "stream",
          "text": [
            " 15%|█▌        | 319/2108 [02:59<17:10,  1.74it/s]"
          ]
        },
        {
          "name": "stdout",
          "output_type": "stream",
          "text": [
            "\n",
            "0: 480x640 1 marmoset, 4.2ms\n",
            "Speed: 1.1ms preprocess, 4.2ms inference, 0.8ms postprocess per image at shape (1, 3, 480, 640)\n"
          ]
        },
        {
          "name": "stderr",
          "output_type": "stream",
          "text": [
            " 15%|█▌        | 320/2108 [03:00<17:01,  1.75it/s]"
          ]
        },
        {
          "name": "stdout",
          "output_type": "stream",
          "text": [
            "\n",
            "0: 640x640 1 marmoset, 4.5ms\n",
            "Speed: 1.5ms preprocess, 4.5ms inference, 0.8ms postprocess per image at shape (1, 3, 640, 640)\n"
          ]
        },
        {
          "name": "stderr",
          "output_type": "stream",
          "text": [
            " 15%|█▌        | 321/2108 [03:00<17:04,  1.74it/s]"
          ]
        },
        {
          "name": "stdout",
          "output_type": "stream",
          "text": [
            "\n",
            "0: 640x640 2 marmosets, 4.3ms\n",
            "Speed: 1.5ms preprocess, 4.3ms inference, 0.8ms postprocess per image at shape (1, 3, 640, 640)\n"
          ]
        },
        {
          "name": "stderr",
          "output_type": "stream",
          "text": [
            " 15%|█▌        | 322/2108 [03:01<17:11,  1.73it/s]"
          ]
        },
        {
          "name": "stdout",
          "output_type": "stream",
          "text": [
            "\n",
            "0: 640x640 1 marmoset, 4.2ms\n",
            "Speed: 1.6ms preprocess, 4.2ms inference, 0.8ms postprocess per image at shape (1, 3, 640, 640)\n"
          ]
        },
        {
          "name": "stderr",
          "output_type": "stream",
          "text": [
            " 15%|█▌        | 323/2108 [03:02<17:08,  1.74it/s]"
          ]
        },
        {
          "name": "stdout",
          "output_type": "stream",
          "text": [
            "\n",
            "0: 640x640 1 marmoset, 4.2ms\n",
            "Speed: 1.5ms preprocess, 4.2ms inference, 0.8ms postprocess per image at shape (1, 3, 640, 640)\n"
          ]
        },
        {
          "name": "stderr",
          "output_type": "stream",
          "text": [
            " 15%|█▌        | 324/2108 [03:02<17:28,  1.70it/s]"
          ]
        },
        {
          "name": "stdout",
          "output_type": "stream",
          "text": [
            "\n",
            "0: 640x640 1 marmoset, 4.2ms\n",
            "Speed: 1.6ms preprocess, 4.2ms inference, 0.8ms postprocess per image at shape (1, 3, 640, 640)\n"
          ]
        },
        {
          "name": "stderr",
          "output_type": "stream",
          "text": [
            " 15%|█▌        | 325/2108 [03:03<17:48,  1.67it/s]"
          ]
        },
        {
          "name": "stdout",
          "output_type": "stream",
          "text": [
            "\n",
            "0: 640x640 1 marmoset, 4.3ms\n",
            "Speed: 1.5ms preprocess, 4.3ms inference, 0.8ms postprocess per image at shape (1, 3, 640, 640)\n"
          ]
        },
        {
          "name": "stderr",
          "output_type": "stream",
          "text": [
            " 15%|█▌        | 326/2108 [03:03<17:41,  1.68it/s]"
          ]
        },
        {
          "name": "stdout",
          "output_type": "stream",
          "text": [
            "\n",
            "0: 640x640 2 marmosets, 4.2ms\n",
            "Speed: 1.4ms preprocess, 4.2ms inference, 0.8ms postprocess per image at shape (1, 3, 640, 640)\n"
          ]
        },
        {
          "name": "stderr",
          "output_type": "stream",
          "text": [
            " 16%|█▌        | 327/2108 [03:04<17:38,  1.68it/s]"
          ]
        },
        {
          "name": "stdout",
          "output_type": "stream",
          "text": [
            "\n",
            "0: 640x640 1 marmoset, 4.2ms\n",
            "Speed: 1.5ms preprocess, 4.2ms inference, 0.8ms postprocess per image at shape (1, 3, 640, 640)\n"
          ]
        },
        {
          "name": "stderr",
          "output_type": "stream",
          "text": [
            " 16%|█▌        | 328/2108 [03:05<17:32,  1.69it/s]"
          ]
        },
        {
          "name": "stdout",
          "output_type": "stream",
          "text": [
            "\n",
            "0: 640x640 1 marmoset, 4.2ms\n",
            "Speed: 1.5ms preprocess, 4.2ms inference, 0.8ms postprocess per image at shape (1, 3, 640, 640)\n"
          ]
        },
        {
          "name": "stderr",
          "output_type": "stream",
          "text": [
            " 16%|█▌        | 329/2108 [03:05<17:30,  1.69it/s]"
          ]
        },
        {
          "name": "stdout",
          "output_type": "stream",
          "text": [
            "\n",
            "0: 480x640 1 marmoset, 4.6ms\n",
            "Speed: 1.1ms preprocess, 4.6ms inference, 0.8ms postprocess per image at shape (1, 3, 480, 640)\n"
          ]
        },
        {
          "name": "stderr",
          "output_type": "stream",
          "text": [
            " 16%|█▌        | 330/2108 [03:06<17:23,  1.70it/s]"
          ]
        },
        {
          "name": "stdout",
          "output_type": "stream",
          "text": [
            "\n",
            "0: 640x640 1 marmoset, 4.5ms\n",
            "Speed: 1.5ms preprocess, 4.5ms inference, 0.8ms postprocess per image at shape (1, 3, 640, 640)\n"
          ]
        },
        {
          "name": "stderr",
          "output_type": "stream",
          "text": [
            " 16%|█▌        | 331/2108 [03:06<17:22,  1.70it/s]"
          ]
        },
        {
          "name": "stdout",
          "output_type": "stream",
          "text": [
            "\n",
            "0: 640x640 2 marmosets, 4.2ms\n",
            "Speed: 1.5ms preprocess, 4.2ms inference, 0.8ms postprocess per image at shape (1, 3, 640, 640)\n"
          ]
        },
        {
          "name": "stderr",
          "output_type": "stream",
          "text": [
            " 16%|█▌        | 332/2108 [03:07<17:14,  1.72it/s]"
          ]
        },
        {
          "name": "stdout",
          "output_type": "stream",
          "text": [
            "\n",
            "0: 640x640 1 marmoset, 4.2ms\n",
            "Speed: 1.5ms preprocess, 4.2ms inference, 0.8ms postprocess per image at shape (1, 3, 640, 640)\n"
          ]
        },
        {
          "name": "stderr",
          "output_type": "stream",
          "text": [
            " 16%|█▌        | 333/2108 [03:08<17:07,  1.73it/s]"
          ]
        },
        {
          "name": "stdout",
          "output_type": "stream",
          "text": [
            "\n",
            "0: 640x640 1 marmoset, 4.2ms\n",
            "Speed: 1.5ms preprocess, 4.2ms inference, 0.8ms postprocess per image at shape (1, 3, 640, 640)\n"
          ]
        },
        {
          "name": "stderr",
          "output_type": "stream",
          "text": [
            " 16%|█▌        | 334/2108 [03:08<16:59,  1.74it/s]"
          ]
        },
        {
          "name": "stdout",
          "output_type": "stream",
          "text": [
            "\n",
            "0: 640x640 1 marmoset, 4.2ms\n",
            "Speed: 1.5ms preprocess, 4.2ms inference, 0.8ms postprocess per image at shape (1, 3, 640, 640)\n"
          ]
        },
        {
          "name": "stderr",
          "output_type": "stream",
          "text": [
            " 16%|█▌        | 335/2108 [03:09<16:55,  1.75it/s]"
          ]
        },
        {
          "name": "stdout",
          "output_type": "stream",
          "text": [
            "\n",
            "0: 640x640 2 marmosets, 4.2ms\n",
            "Speed: 1.4ms preprocess, 4.2ms inference, 0.8ms postprocess per image at shape (1, 3, 640, 640)\n"
          ]
        },
        {
          "name": "stderr",
          "output_type": "stream",
          "text": [
            " 16%|█▌        | 336/2108 [03:09<16:59,  1.74it/s]"
          ]
        },
        {
          "name": "stdout",
          "output_type": "stream",
          "text": [
            "\n",
            "0: 480x640 1 marmoset, 4.6ms\n",
            "Speed: 1.1ms preprocess, 4.6ms inference, 0.8ms postprocess per image at shape (1, 3, 480, 640)\n"
          ]
        },
        {
          "name": "stderr",
          "output_type": "stream",
          "text": [
            " 16%|█▌        | 337/2108 [03:10<17:07,  1.72it/s]"
          ]
        },
        {
          "name": "stdout",
          "output_type": "stream",
          "text": [
            "\n",
            "0: 640x640 1 marmoset, 4.5ms\n",
            "Speed: 1.5ms preprocess, 4.5ms inference, 0.8ms postprocess per image at shape (1, 3, 640, 640)\n"
          ]
        },
        {
          "name": "stderr",
          "output_type": "stream",
          "text": [
            " 16%|█▌        | 338/2108 [03:10<17:14,  1.71it/s]"
          ]
        },
        {
          "name": "stdout",
          "output_type": "stream",
          "text": [
            "\n",
            "0: 640x640 1 marmoset, 4.2ms\n",
            "Speed: 1.5ms preprocess, 4.2ms inference, 0.8ms postprocess per image at shape (1, 3, 640, 640)\n"
          ]
        },
        {
          "name": "stderr",
          "output_type": "stream",
          "text": [
            " 16%|█▌        | 339/2108 [03:11<17:21,  1.70it/s]"
          ]
        },
        {
          "name": "stdout",
          "output_type": "stream",
          "text": [
            "\n",
            "0: 640x640 2 marmosets, 4.2ms\n",
            "Speed: 1.4ms preprocess, 4.2ms inference, 0.8ms postprocess per image at shape (1, 3, 640, 640)\n"
          ]
        },
        {
          "name": "stderr",
          "output_type": "stream",
          "text": [
            " 16%|█▌        | 340/2108 [03:12<17:27,  1.69it/s]"
          ]
        },
        {
          "name": "stdout",
          "output_type": "stream",
          "text": [
            "\n",
            "0: 640x640 1 marmoset, 4.2ms\n",
            "Speed: 1.5ms preprocess, 4.2ms inference, 0.8ms postprocess per image at shape (1, 3, 640, 640)\n"
          ]
        },
        {
          "name": "stderr",
          "output_type": "stream",
          "text": [
            " 16%|█▌        | 341/2108 [03:12<17:28,  1.68it/s]"
          ]
        },
        {
          "name": "stdout",
          "output_type": "stream",
          "text": [
            "\n",
            "0: 640x640 1 marmoset, 4.3ms\n",
            "Speed: 1.5ms preprocess, 4.3ms inference, 0.8ms postprocess per image at shape (1, 3, 640, 640)\n"
          ]
        },
        {
          "name": "stderr",
          "output_type": "stream",
          "text": [
            " 16%|█▌        | 342/2108 [03:13<17:30,  1.68it/s]"
          ]
        },
        {
          "name": "stdout",
          "output_type": "stream",
          "text": [
            "\n",
            "0: 640x640 1 marmoset, 4.2ms\n",
            "Speed: 1.5ms preprocess, 4.2ms inference, 0.8ms postprocess per image at shape (1, 3, 640, 640)\n"
          ]
        },
        {
          "name": "stderr",
          "output_type": "stream",
          "text": [
            " 16%|█▋        | 343/2108 [03:13<17:23,  1.69it/s]"
          ]
        },
        {
          "name": "stdout",
          "output_type": "stream",
          "text": [
            "\n",
            "0: 640x640 1 marmoset, 4.2ms\n",
            "Speed: 1.5ms preprocess, 4.2ms inference, 0.8ms postprocess per image at shape (1, 3, 640, 640)\n"
          ]
        },
        {
          "name": "stderr",
          "output_type": "stream",
          "text": [
            " 16%|█▋        | 344/2108 [03:14<17:16,  1.70it/s]"
          ]
        },
        {
          "name": "stdout",
          "output_type": "stream",
          "text": [
            "\n",
            "0: 640x640 1 marmoset, 4.2ms\n",
            "Speed: 1.5ms preprocess, 4.2ms inference, 0.8ms postprocess per image at shape (1, 3, 640, 640)\n"
          ]
        },
        {
          "name": "stderr",
          "output_type": "stream",
          "text": [
            " 16%|█▋        | 345/2108 [03:15<17:10,  1.71it/s]"
          ]
        },
        {
          "name": "stdout",
          "output_type": "stream",
          "text": [
            "\n",
            "0: 640x640 1 marmoset, 4.2ms\n",
            "Speed: 1.5ms preprocess, 4.2ms inference, 0.8ms postprocess per image at shape (1, 3, 640, 640)\n"
          ]
        },
        {
          "name": "stderr",
          "output_type": "stream",
          "text": [
            " 16%|█▋        | 346/2108 [03:15<17:06,  1.72it/s]"
          ]
        },
        {
          "name": "stdout",
          "output_type": "stream",
          "text": [
            "\n",
            "0: 640x640 2 marmosets, 4.2ms\n",
            "Speed: 1.4ms preprocess, 4.2ms inference, 0.8ms postprocess per image at shape (1, 3, 640, 640)\n"
          ]
        },
        {
          "name": "stderr",
          "output_type": "stream",
          "text": [
            " 16%|█▋        | 347/2108 [03:16<17:06,  1.72it/s]"
          ]
        },
        {
          "name": "stdout",
          "output_type": "stream",
          "text": [
            "\n",
            "0: 480x640 1 marmoset, 4.6ms\n",
            "Speed: 1.1ms preprocess, 4.6ms inference, 0.8ms postprocess per image at shape (1, 3, 480, 640)\n"
          ]
        },
        {
          "name": "stderr",
          "output_type": "stream",
          "text": [
            " 17%|█▋        | 348/2108 [03:16<16:57,  1.73it/s]"
          ]
        },
        {
          "name": "stdout",
          "output_type": "stream",
          "text": [
            "\n",
            "0: 640x640 1 marmoset, 4.5ms\n",
            "Speed: 1.5ms preprocess, 4.5ms inference, 0.8ms postprocess per image at shape (1, 3, 640, 640)\n"
          ]
        },
        {
          "name": "stderr",
          "output_type": "stream",
          "text": [
            " 17%|█▋        | 349/2108 [03:17<17:47,  1.65it/s]"
          ]
        },
        {
          "name": "stdout",
          "output_type": "stream",
          "text": [
            "\n",
            "0: 640x640 1 marmoset, 4.3ms\n",
            "Speed: 1.5ms preprocess, 4.3ms inference, 0.8ms postprocess per image at shape (1, 3, 640, 640)\n"
          ]
        },
        {
          "name": "stderr",
          "output_type": "stream",
          "text": [
            " 17%|█▋        | 350/2108 [03:18<17:57,  1.63it/s]"
          ]
        },
        {
          "name": "stdout",
          "output_type": "stream",
          "text": [
            "\n",
            "0: 480x640 1 marmoset, 4.6ms\n",
            "Speed: 1.1ms preprocess, 4.6ms inference, 0.8ms postprocess per image at shape (1, 3, 480, 640)\n"
          ]
        },
        {
          "name": "stderr",
          "output_type": "stream",
          "text": [
            " 17%|█▋        | 351/2108 [03:18<17:30,  1.67it/s]"
          ]
        },
        {
          "name": "stdout",
          "output_type": "stream",
          "text": [
            "\n",
            "0: 640x640 2 marmosets, 4.5ms\n",
            "Speed: 1.5ms preprocess, 4.5ms inference, 0.8ms postprocess per image at shape (1, 3, 640, 640)\n"
          ]
        },
        {
          "name": "stderr",
          "output_type": "stream",
          "text": [
            " 17%|█▋        | 352/2108 [03:19<17:21,  1.69it/s]"
          ]
        },
        {
          "name": "stdout",
          "output_type": "stream",
          "text": [
            "\n",
            "0: 640x640 1 marmoset, 4.0ms\n",
            "Speed: 1.4ms preprocess, 4.0ms inference, 0.8ms postprocess per image at shape (1, 3, 640, 640)\n"
          ]
        },
        {
          "name": "stderr",
          "output_type": "stream",
          "text": [
            " 17%|█▋        | 353/2108 [03:19<17:14,  1.70it/s]"
          ]
        },
        {
          "name": "stdout",
          "output_type": "stream",
          "text": [
            "\n",
            "0: 640x640 1 marmoset, 3.9ms\n",
            "Speed: 1.4ms preprocess, 3.9ms inference, 0.7ms postprocess per image at shape (1, 3, 640, 640)\n"
          ]
        },
        {
          "name": "stderr",
          "output_type": "stream",
          "text": [
            " 17%|█▋        | 354/2108 [03:20<17:04,  1.71it/s]"
          ]
        },
        {
          "name": "stdout",
          "output_type": "stream",
          "text": [
            "\n",
            "0: 640x640 1 marmoset, 3.9ms\n",
            "Speed: 1.4ms preprocess, 3.9ms inference, 0.7ms postprocess per image at shape (1, 3, 640, 640)\n"
          ]
        },
        {
          "name": "stderr",
          "output_type": "stream",
          "text": [
            " 17%|█▋        | 355/2108 [03:20<16:50,  1.73it/s]"
          ]
        },
        {
          "name": "stdout",
          "output_type": "stream",
          "text": [
            "\n",
            "0: 640x640 1 marmoset, 3.9ms\n",
            "Speed: 1.4ms preprocess, 3.9ms inference, 0.7ms postprocess per image at shape (1, 3, 640, 640)\n"
          ]
        },
        {
          "name": "stderr",
          "output_type": "stream",
          "text": [
            " 17%|█▋        | 356/2108 [03:21<17:11,  1.70it/s]"
          ]
        },
        {
          "name": "stdout",
          "output_type": "stream",
          "text": [
            "\n",
            "0: 640x640 1 marmoset, 3.9ms\n",
            "Speed: 1.4ms preprocess, 3.9ms inference, 0.7ms postprocess per image at shape (1, 3, 640, 640)\n"
          ]
        },
        {
          "name": "stderr",
          "output_type": "stream",
          "text": [
            " 17%|█▋        | 357/2108 [03:22<17:30,  1.67it/s]"
          ]
        },
        {
          "name": "stdout",
          "output_type": "stream",
          "text": [
            "\n",
            "0: 640x640 1 marmoset, 3.9ms\n",
            "Speed: 1.4ms preprocess, 3.9ms inference, 0.7ms postprocess per image at shape (1, 3, 640, 640)\n"
          ]
        },
        {
          "name": "stderr",
          "output_type": "stream",
          "text": [
            " 17%|█▋        | 358/2108 [03:22<17:36,  1.66it/s]"
          ]
        },
        {
          "name": "stdout",
          "output_type": "stream",
          "text": [
            "\n",
            "0: 640x640 1 marmoset, 3.9ms\n",
            "Speed: 1.4ms preprocess, 3.9ms inference, 0.7ms postprocess per image at shape (1, 3, 640, 640)\n"
          ]
        },
        {
          "name": "stderr",
          "output_type": "stream",
          "text": [
            " 17%|█▋        | 359/2108 [03:23<17:16,  1.69it/s]"
          ]
        },
        {
          "name": "stdout",
          "output_type": "stream",
          "text": [
            "\n",
            "0: 640x640 1 marmoset, 4.3ms\n",
            "Speed: 1.6ms preprocess, 4.3ms inference, 0.8ms postprocess per image at shape (1, 3, 640, 640)\n"
          ]
        },
        {
          "name": "stderr",
          "output_type": "stream",
          "text": [
            " 17%|█▋        | 360/2108 [03:23<17:04,  1.71it/s]"
          ]
        },
        {
          "name": "stdout",
          "output_type": "stream",
          "text": [
            "\n",
            "0: 640x640 2 marmosets, 4.2ms\n",
            "Speed: 1.4ms preprocess, 4.2ms inference, 0.8ms postprocess per image at shape (1, 3, 640, 640)\n"
          ]
        },
        {
          "name": "stderr",
          "output_type": "stream",
          "text": [
            " 17%|█▋        | 361/2108 [03:24<17:01,  1.71it/s]"
          ]
        },
        {
          "name": "stdout",
          "output_type": "stream",
          "text": [
            "\n",
            "0: 640x640 1 marmoset, 4.3ms\n",
            "Speed: 1.6ms preprocess, 4.3ms inference, 0.8ms postprocess per image at shape (1, 3, 640, 640)\n"
          ]
        },
        {
          "name": "stderr",
          "output_type": "stream",
          "text": [
            " 17%|█▋        | 362/2108 [03:25<17:06,  1.70it/s]"
          ]
        },
        {
          "name": "stdout",
          "output_type": "stream",
          "text": [
            "\n",
            "0: 480x640 1 marmoset, 4.6ms\n",
            "Speed: 1.0ms preprocess, 4.6ms inference, 0.8ms postprocess per image at shape (1, 3, 480, 640)\n"
          ]
        },
        {
          "name": "stderr",
          "output_type": "stream",
          "text": [
            " 17%|█▋        | 363/2108 [03:25<16:52,  1.72it/s]"
          ]
        },
        {
          "name": "stdout",
          "output_type": "stream",
          "text": [
            "\n",
            "0: 480x640 1 marmoset, 4.2ms\n",
            "Speed: 1.1ms preprocess, 4.2ms inference, 0.8ms postprocess per image at shape (1, 3, 480, 640)\n"
          ]
        },
        {
          "name": "stderr",
          "output_type": "stream",
          "text": [
            " 17%|█▋        | 364/2108 [03:26<16:44,  1.74it/s]"
          ]
        },
        {
          "name": "stdout",
          "output_type": "stream",
          "text": [
            "\n",
            "0: 640x640 2 marmosets, 4.5ms\n",
            "Speed: 1.4ms preprocess, 4.5ms inference, 0.8ms postprocess per image at shape (1, 3, 640, 640)\n"
          ]
        },
        {
          "name": "stderr",
          "output_type": "stream",
          "text": [
            " 17%|█▋        | 365/2108 [03:26<17:19,  1.68it/s]"
          ]
        },
        {
          "name": "stdout",
          "output_type": "stream",
          "text": [
            "\n",
            "0: 480x640 1 marmoset, 4.6ms\n",
            "Speed: 1.1ms preprocess, 4.6ms inference, 0.8ms postprocess per image at shape (1, 3, 480, 640)\n"
          ]
        },
        {
          "name": "stderr",
          "output_type": "stream",
          "text": [
            " 17%|█▋        | 366/2108 [03:27<17:36,  1.65it/s]"
          ]
        },
        {
          "name": "stdout",
          "output_type": "stream",
          "text": [
            "\n",
            "0: 640x640 1 marmoset, 4.5ms\n",
            "Speed: 1.5ms preprocess, 4.5ms inference, 0.8ms postprocess per image at shape (1, 3, 640, 640)\n"
          ]
        },
        {
          "name": "stderr",
          "output_type": "stream",
          "text": [
            " 17%|█▋        | 367/2108 [03:28<17:22,  1.67it/s]"
          ]
        },
        {
          "name": "stdout",
          "output_type": "stream",
          "text": [
            "\n",
            "0: 640x640 1 marmoset, 4.2ms\n",
            "Speed: 1.5ms preprocess, 4.2ms inference, 0.8ms postprocess per image at shape (1, 3, 640, 640)\n"
          ]
        },
        {
          "name": "stderr",
          "output_type": "stream",
          "text": [
            " 17%|█▋        | 368/2108 [03:28<17:06,  1.69it/s]"
          ]
        },
        {
          "name": "stdout",
          "output_type": "stream",
          "text": [
            "\n",
            "0: 640x640 1 marmoset, 4.2ms\n",
            "Speed: 1.5ms preprocess, 4.2ms inference, 0.8ms postprocess per image at shape (1, 3, 640, 640)\n"
          ]
        },
        {
          "name": "stderr",
          "output_type": "stream",
          "text": [
            " 18%|█▊        | 369/2108 [03:29<17:43,  1.64it/s]"
          ]
        },
        {
          "name": "stdout",
          "output_type": "stream",
          "text": [
            "\n",
            "0: 640x640 1 marmoset, 3.9ms\n",
            "Speed: 1.4ms preprocess, 3.9ms inference, 0.7ms postprocess per image at shape (1, 3, 640, 640)\n"
          ]
        },
        {
          "name": "stderr",
          "output_type": "stream",
          "text": [
            " 18%|█▊        | 370/2108 [03:29<17:50,  1.62it/s]"
          ]
        },
        {
          "name": "stdout",
          "output_type": "stream",
          "text": [
            "\n",
            "0: 640x640 1 marmoset, 3.9ms\n",
            "Speed: 1.4ms preprocess, 3.9ms inference, 0.7ms postprocess per image at shape (1, 3, 640, 640)\n"
          ]
        },
        {
          "name": "stderr",
          "output_type": "stream",
          "text": [
            " 18%|█▊        | 371/2108 [03:30<17:33,  1.65it/s]"
          ]
        },
        {
          "name": "stdout",
          "output_type": "stream",
          "text": [
            "\n",
            "0: 640x640 1 marmoset, 3.9ms\n",
            "Speed: 1.4ms preprocess, 3.9ms inference, 0.7ms postprocess per image at shape (1, 3, 640, 640)\n"
          ]
        },
        {
          "name": "stderr",
          "output_type": "stream",
          "text": [
            " 18%|█▊        | 372/2108 [03:31<17:20,  1.67it/s]"
          ]
        },
        {
          "name": "stdout",
          "output_type": "stream",
          "text": [
            "\n",
            "0: 640x640 1 marmoset, 4.2ms\n",
            "Speed: 1.6ms preprocess, 4.2ms inference, 0.8ms postprocess per image at shape (1, 3, 640, 640)\n"
          ]
        },
        {
          "name": "stderr",
          "output_type": "stream",
          "text": [
            " 18%|█▊        | 373/2108 [03:31<17:18,  1.67it/s]"
          ]
        },
        {
          "name": "stdout",
          "output_type": "stream",
          "text": [
            "\n",
            "0: 640x640 1 marmoset, 4.3ms\n",
            "Speed: 1.4ms preprocess, 4.3ms inference, 0.8ms postprocess per image at shape (1, 3, 640, 640)\n"
          ]
        },
        {
          "name": "stderr",
          "output_type": "stream",
          "text": [
            " 18%|█▊        | 374/2108 [03:32<17:11,  1.68it/s]"
          ]
        },
        {
          "name": "stdout",
          "output_type": "stream",
          "text": [
            "\n",
            "0: 640x640 1 marmoset, 4.2ms\n",
            "Speed: 1.5ms preprocess, 4.2ms inference, 0.8ms postprocess per image at shape (1, 3, 640, 640)\n"
          ]
        },
        {
          "name": "stderr",
          "output_type": "stream",
          "text": [
            " 18%|█▊        | 375/2108 [03:32<17:08,  1.69it/s]"
          ]
        },
        {
          "name": "stdout",
          "output_type": "stream",
          "text": [
            "\n",
            "0: 640x640 2 marmosets, 4.3ms\n",
            "Speed: 1.5ms preprocess, 4.3ms inference, 0.8ms postprocess per image at shape (1, 3, 640, 640)\n"
          ]
        },
        {
          "name": "stderr",
          "output_type": "stream",
          "text": [
            " 18%|█▊        | 376/2108 [03:33<17:13,  1.68it/s]"
          ]
        },
        {
          "name": "stdout",
          "output_type": "stream",
          "text": [
            "\n",
            "0: 640x640 2 marmosets, 4.2ms\n",
            "Speed: 1.4ms preprocess, 4.2ms inference, 0.8ms postprocess per image at shape (1, 3, 640, 640)\n"
          ]
        },
        {
          "name": "stderr",
          "output_type": "stream",
          "text": [
            " 18%|█▊        | 377/2108 [03:34<17:39,  1.63it/s]"
          ]
        },
        {
          "name": "stdout",
          "output_type": "stream",
          "text": [
            "\n",
            "0: 640x640 2 marmosets, 4.2ms\n",
            "Speed: 1.4ms preprocess, 4.2ms inference, 0.8ms postprocess per image at shape (1, 3, 640, 640)\n"
          ]
        },
        {
          "name": "stderr",
          "output_type": "stream",
          "text": [
            " 18%|█▊        | 378/2108 [03:34<17:26,  1.65it/s]"
          ]
        },
        {
          "name": "stdout",
          "output_type": "stream",
          "text": [
            "\n",
            "0: 640x640 2 marmosets, 4.3ms\n",
            "Speed: 1.6ms preprocess, 4.3ms inference, 0.8ms postprocess per image at shape (1, 3, 640, 640)\n"
          ]
        },
        {
          "name": "stderr",
          "output_type": "stream",
          "text": [
            " 18%|█▊        | 379/2108 [03:35<17:11,  1.68it/s]"
          ]
        },
        {
          "name": "stdout",
          "output_type": "stream",
          "text": [
            "\n",
            "0: 480x640 1 marmoset, 4.6ms\n",
            "Speed: 1.0ms preprocess, 4.6ms inference, 0.8ms postprocess per image at shape (1, 3, 480, 640)\n"
          ]
        },
        {
          "name": "stderr",
          "output_type": "stream",
          "text": [
            " 18%|█▊        | 380/2108 [03:35<16:30,  1.74it/s]"
          ]
        },
        {
          "name": "stdout",
          "output_type": "stream",
          "text": [
            "\n",
            "0: 480x640 1 marmoset, 4.2ms\n",
            "Speed: 1.1ms preprocess, 4.2ms inference, 0.8ms postprocess per image at shape (1, 3, 480, 640)\n"
          ]
        },
        {
          "name": "stderr",
          "output_type": "stream",
          "text": [
            " 18%|█▊        | 381/2108 [03:36<16:04,  1.79it/s]"
          ]
        },
        {
          "name": "stdout",
          "output_type": "stream",
          "text": [
            "\n",
            "0: 640x640 2 marmosets, 4.5ms\n",
            "Speed: 1.5ms preprocess, 4.5ms inference, 0.8ms postprocess per image at shape (1, 3, 640, 640)\n"
          ]
        },
        {
          "name": "stderr",
          "output_type": "stream",
          "text": [
            " 18%|█▊        | 382/2108 [03:36<16:50,  1.71it/s]"
          ]
        },
        {
          "name": "stdout",
          "output_type": "stream",
          "text": [
            "\n",
            "0: 480x640 1 marmoset, 4.6ms\n",
            "Speed: 1.0ms preprocess, 4.6ms inference, 0.8ms postprocess per image at shape (1, 3, 480, 640)\n"
          ]
        },
        {
          "name": "stderr",
          "output_type": "stream",
          "text": [
            " 18%|█▊        | 383/2108 [03:37<16:57,  1.70it/s]"
          ]
        },
        {
          "name": "stdout",
          "output_type": "stream",
          "text": [
            "\n",
            "0: 640x640 2 marmosets, 4.5ms\n",
            "Speed: 1.4ms preprocess, 4.5ms inference, 0.7ms postprocess per image at shape (1, 3, 640, 640)\n"
          ]
        },
        {
          "name": "stderr",
          "output_type": "stream",
          "text": [
            " 18%|█▊        | 384/2108 [03:38<16:59,  1.69it/s]"
          ]
        },
        {
          "name": "stdout",
          "output_type": "stream",
          "text": [
            "\n",
            "0: 640x640 1 marmoset, 4.2ms\n",
            "Speed: 1.5ms preprocess, 4.2ms inference, 0.8ms postprocess per image at shape (1, 3, 640, 640)\n"
          ]
        },
        {
          "name": "stderr",
          "output_type": "stream",
          "text": [
            " 18%|█▊        | 385/2108 [03:38<16:48,  1.71it/s]"
          ]
        },
        {
          "name": "stdout",
          "output_type": "stream",
          "text": [
            "\n",
            "0: 640x640 1 marmoset, 4.3ms\n",
            "Speed: 1.5ms preprocess, 4.3ms inference, 0.8ms postprocess per image at shape (1, 3, 640, 640)\n"
          ]
        },
        {
          "name": "stderr",
          "output_type": "stream",
          "text": [
            " 18%|█▊        | 386/2108 [03:39<16:44,  1.71it/s]"
          ]
        },
        {
          "name": "stdout",
          "output_type": "stream",
          "text": [
            "\n",
            "0: 640x640 2 marmosets, 4.2ms\n",
            "Speed: 1.4ms preprocess, 4.2ms inference, 0.8ms postprocess per image at shape (1, 3, 640, 640)\n"
          ]
        },
        {
          "name": "stderr",
          "output_type": "stream",
          "text": [
            " 18%|█▊        | 387/2108 [03:39<16:43,  1.72it/s]"
          ]
        },
        {
          "name": "stdout",
          "output_type": "stream",
          "text": [
            "\n",
            "0: 480x640 1 marmoset, 4.6ms\n",
            "Speed: 1.1ms preprocess, 4.6ms inference, 0.8ms postprocess per image at shape (1, 3, 480, 640)\n"
          ]
        },
        {
          "name": "stderr",
          "output_type": "stream",
          "text": [
            " 18%|█▊        | 388/2108 [03:40<16:35,  1.73it/s]"
          ]
        },
        {
          "name": "stdout",
          "output_type": "stream",
          "text": [
            "\n",
            "0: 640x640 2 marmosets, 4.5ms\n",
            "Speed: 1.4ms preprocess, 4.5ms inference, 0.8ms postprocess per image at shape (1, 3, 640, 640)\n"
          ]
        },
        {
          "name": "stderr",
          "output_type": "stream",
          "text": [
            " 18%|█▊        | 389/2108 [03:41<17:20,  1.65it/s]"
          ]
        },
        {
          "name": "stdout",
          "output_type": "stream",
          "text": [
            "\n",
            "0: 640x640 1 marmoset, 4.2ms\n",
            "Speed: 1.5ms preprocess, 4.2ms inference, 0.8ms postprocess per image at shape (1, 3, 640, 640)\n"
          ]
        },
        {
          "name": "stderr",
          "output_type": "stream",
          "text": [
            " 19%|█▊        | 390/2108 [03:41<17:17,  1.66it/s]"
          ]
        },
        {
          "name": "stdout",
          "output_type": "stream",
          "text": [
            "\n",
            "0: 640x640 1 marmoset, 4.0ms\n",
            "Speed: 1.4ms preprocess, 4.0ms inference, 0.8ms postprocess per image at shape (1, 3, 640, 640)\n"
          ]
        },
        {
          "name": "stderr",
          "output_type": "stream",
          "text": [
            " 19%|█▊        | 391/2108 [03:42<17:05,  1.67it/s]"
          ]
        },
        {
          "name": "stdout",
          "output_type": "stream",
          "text": [
            "\n",
            "0: 640x640 1 marmoset, 3.9ms\n",
            "Speed: 1.4ms preprocess, 3.9ms inference, 0.7ms postprocess per image at shape (1, 3, 640, 640)\n"
          ]
        },
        {
          "name": "stderr",
          "output_type": "stream",
          "text": [
            " 19%|█▊        | 392/2108 [03:42<16:56,  1.69it/s]"
          ]
        },
        {
          "name": "stdout",
          "output_type": "stream",
          "text": [
            "\n",
            "0: 480x640 1 marmoset, 4.2ms\n",
            "Speed: 1.0ms preprocess, 4.2ms inference, 0.7ms postprocess per image at shape (1, 3, 480, 640)\n"
          ]
        },
        {
          "name": "stderr",
          "output_type": "stream",
          "text": [
            " 19%|█▊        | 393/2108 [03:43<16:45,  1.71it/s]"
          ]
        },
        {
          "name": "stdout",
          "output_type": "stream",
          "text": [
            "\n",
            "0: 640x640 1 marmoset, 4.5ms\n",
            "Speed: 1.6ms preprocess, 4.5ms inference, 0.8ms postprocess per image at shape (1, 3, 640, 640)\n"
          ]
        },
        {
          "name": "stderr",
          "output_type": "stream",
          "text": [
            " 19%|█▊        | 394/2108 [03:44<16:45,  1.70it/s]"
          ]
        },
        {
          "name": "stdout",
          "output_type": "stream",
          "text": [
            "\n",
            "0: 640x640 2 marmosets, 4.2ms\n",
            "Speed: 1.4ms preprocess, 4.2ms inference, 0.8ms postprocess per image at shape (1, 3, 640, 640)\n"
          ]
        },
        {
          "name": "stderr",
          "output_type": "stream",
          "text": [
            " 19%|█▊        | 395/2108 [03:44<16:45,  1.70it/s]"
          ]
        },
        {
          "name": "stdout",
          "output_type": "stream",
          "text": [
            "\n",
            "0: 640x640 1 marmoset, 4.2ms\n",
            "Speed: 1.5ms preprocess, 4.2ms inference, 0.8ms postprocess per image at shape (1, 3, 640, 640)\n"
          ]
        },
        {
          "name": "stderr",
          "output_type": "stream",
          "text": [
            " 19%|█▉        | 396/2108 [03:45<16:43,  1.71it/s]"
          ]
        },
        {
          "name": "stdout",
          "output_type": "stream",
          "text": [
            "\n",
            "0: 640x640 1 marmoset, 4.2ms\n",
            "Speed: 1.5ms preprocess, 4.2ms inference, 0.8ms postprocess per image at shape (1, 3, 640, 640)\n"
          ]
        },
        {
          "name": "stderr",
          "output_type": "stream",
          "text": [
            " 19%|█▉        | 397/2108 [03:45<16:44,  1.70it/s]"
          ]
        },
        {
          "name": "stdout",
          "output_type": "stream",
          "text": [
            "\n",
            "0: 640x640 1 marmoset, 4.2ms\n",
            "Speed: 1.5ms preprocess, 4.2ms inference, 0.8ms postprocess per image at shape (1, 3, 640, 640)\n"
          ]
        },
        {
          "name": "stderr",
          "output_type": "stream",
          "text": [
            " 19%|█▉        | 398/2108 [03:46<16:41,  1.71it/s]"
          ]
        },
        {
          "name": "stdout",
          "output_type": "stream",
          "text": [
            "\n",
            "0: 640x640 1 marmoset, 4.3ms\n",
            "Speed: 1.5ms preprocess, 4.3ms inference, 0.8ms postprocess per image at shape (1, 3, 640, 640)\n"
          ]
        },
        {
          "name": "stderr",
          "output_type": "stream",
          "text": [
            " 19%|█▉        | 399/2108 [03:46<16:39,  1.71it/s]"
          ]
        },
        {
          "name": "stdout",
          "output_type": "stream",
          "text": [
            "\n",
            "0: 640x640 1 marmoset, 4.2ms\n",
            "Speed: 1.5ms preprocess, 4.2ms inference, 0.8ms postprocess per image at shape (1, 3, 640, 640)\n"
          ]
        },
        {
          "name": "stderr",
          "output_type": "stream",
          "text": [
            " 19%|█▉        | 400/2108 [03:47<16:28,  1.73it/s]"
          ]
        },
        {
          "name": "stdout",
          "output_type": "stream",
          "text": [
            "\n",
            "0: 480x640 1 marmoset, 4.6ms\n",
            "Speed: 1.1ms preprocess, 4.6ms inference, 0.8ms postprocess per image at shape (1, 3, 480, 640)\n"
          ]
        },
        {
          "name": "stderr",
          "output_type": "stream",
          "text": [
            " 19%|█▉        | 401/2108 [03:48<16:42,  1.70it/s]"
          ]
        },
        {
          "name": "stdout",
          "output_type": "stream",
          "text": [
            "\n",
            "0: 640x640 2 marmosets, 4.5ms\n",
            "Speed: 1.4ms preprocess, 4.5ms inference, 0.8ms postprocess per image at shape (1, 3, 640, 640)\n"
          ]
        },
        {
          "name": "stderr",
          "output_type": "stream",
          "text": [
            " 19%|█▉        | 402/2108 [03:48<17:04,  1.67it/s]"
          ]
        },
        {
          "name": "stdout",
          "output_type": "stream",
          "text": [
            "\n",
            "0: 640x640 1 marmoset, 4.2ms\n",
            "Speed: 1.6ms preprocess, 4.2ms inference, 0.8ms postprocess per image at shape (1, 3, 640, 640)\n"
          ]
        },
        {
          "name": "stderr",
          "output_type": "stream",
          "text": [
            " 19%|█▉        | 403/2108 [03:49<17:02,  1.67it/s]"
          ]
        },
        {
          "name": "stdout",
          "output_type": "stream",
          "text": [
            "\n",
            "0: 640x640 1 marmoset, 4.2ms\n",
            "Speed: 1.5ms preprocess, 4.2ms inference, 0.8ms postprocess per image at shape (1, 3, 640, 640)\n"
          ]
        },
        {
          "name": "stderr",
          "output_type": "stream",
          "text": [
            " 19%|█▉        | 404/2108 [03:49<16:56,  1.68it/s]"
          ]
        },
        {
          "name": "stdout",
          "output_type": "stream",
          "text": [
            "\n",
            "0: 640x640 1 marmoset, 4.2ms\n",
            "Speed: 1.5ms preprocess, 4.2ms inference, 0.8ms postprocess per image at shape (1, 3, 640, 640)\n"
          ]
        },
        {
          "name": "stderr",
          "output_type": "stream",
          "text": [
            " 19%|█▉        | 405/2108 [03:50<16:51,  1.68it/s]"
          ]
        },
        {
          "name": "stdout",
          "output_type": "stream",
          "text": [
            "\n",
            "0: 640x640 1 marmoset, 4.2ms\n",
            "Speed: 1.5ms preprocess, 4.2ms inference, 0.8ms postprocess per image at shape (1, 3, 640, 640)\n"
          ]
        },
        {
          "name": "stderr",
          "output_type": "stream",
          "text": [
            " 19%|█▉        | 406/2108 [03:51<16:48,  1.69it/s]"
          ]
        },
        {
          "name": "stdout",
          "output_type": "stream",
          "text": [
            "\n",
            "0: 640x640 1 marmoset, 4.2ms\n",
            "Speed: 1.5ms preprocess, 4.2ms inference, 0.8ms postprocess per image at shape (1, 3, 640, 640)\n"
          ]
        },
        {
          "name": "stderr",
          "output_type": "stream",
          "text": [
            " 19%|█▉        | 407/2108 [03:51<16:44,  1.69it/s]"
          ]
        },
        {
          "name": "stdout",
          "output_type": "stream",
          "text": [
            "\n",
            "0: 640x640 1 marmoset, 4.2ms\n",
            "Speed: 1.5ms preprocess, 4.2ms inference, 0.8ms postprocess per image at shape (1, 3, 640, 640)\n"
          ]
        },
        {
          "name": "stderr",
          "output_type": "stream",
          "text": [
            " 19%|█▉        | 408/2108 [03:52<16:41,  1.70it/s]"
          ]
        },
        {
          "name": "stdout",
          "output_type": "stream",
          "text": [
            "\n",
            "0: 640x640 2 marmosets, 4.2ms\n",
            "Speed: 1.5ms preprocess, 4.2ms inference, 0.8ms postprocess per image at shape (1, 3, 640, 640)\n"
          ]
        },
        {
          "name": "stderr",
          "output_type": "stream",
          "text": [
            " 19%|█▉        | 409/2108 [03:52<16:53,  1.68it/s]"
          ]
        },
        {
          "name": "stdout",
          "output_type": "stream",
          "text": [
            "\n",
            "0: 480x640 1 marmoset, 4.6ms\n",
            "Speed: 1.0ms preprocess, 4.6ms inference, 0.8ms postprocess per image at shape (1, 3, 480, 640)\n"
          ]
        },
        {
          "name": "stderr",
          "output_type": "stream",
          "text": [
            " 19%|█▉        | 410/2108 [03:53<17:02,  1.66it/s]"
          ]
        },
        {
          "name": "stdout",
          "output_type": "stream",
          "text": [
            "\n",
            "0: 480x640 1 marmoset, 4.2ms\n",
            "Speed: 1.1ms preprocess, 4.2ms inference, 0.8ms postprocess per image at shape (1, 3, 480, 640)\n"
          ]
        },
        {
          "name": "stderr",
          "output_type": "stream",
          "text": [
            " 19%|█▉        | 411/2108 [03:54<16:47,  1.68it/s]"
          ]
        },
        {
          "name": "stdout",
          "output_type": "stream",
          "text": [
            "\n",
            "0: 640x640 1 marmoset, 4.4ms\n",
            "Speed: 1.5ms preprocess, 4.4ms inference, 0.8ms postprocess per image at shape (1, 3, 640, 640)\n"
          ]
        },
        {
          "name": "stderr",
          "output_type": "stream",
          "text": [
            " 20%|█▉        | 412/2108 [03:54<16:42,  1.69it/s]"
          ]
        },
        {
          "name": "stdout",
          "output_type": "stream",
          "text": [
            "\n",
            "0: 640x640 1 marmoset, 4.2ms\n",
            "Speed: 1.5ms preprocess, 4.2ms inference, 0.8ms postprocess per image at shape (1, 3, 640, 640)\n"
          ]
        },
        {
          "name": "stderr",
          "output_type": "stream",
          "text": [
            " 20%|█▉        | 413/2108 [03:55<17:01,  1.66it/s]"
          ]
        },
        {
          "name": "stdout",
          "output_type": "stream",
          "text": [
            "\n",
            "0: 480x640 (no detections), 4.6ms\n",
            "Speed: 1.1ms preprocess, 4.6ms inference, 0.3ms postprocess per image at shape (1, 3, 480, 640)\n",
            "\n",
            "0: 480x640 1 marmoset, 4.0ms\n",
            "Speed: 1.0ms preprocess, 4.0ms inference, 0.7ms postprocess per image at shape (1, 3, 480, 640)\n"
          ]
        },
        {
          "name": "stderr",
          "output_type": "stream",
          "text": [
            " 20%|█▉        | 415/2108 [03:55<13:15,  2.13it/s]"
          ]
        },
        {
          "name": "stdout",
          "output_type": "stream",
          "text": [
            "\n",
            "0: 640x640 1 marmoset, 4.4ms\n",
            "Speed: 1.6ms preprocess, 4.4ms inference, 0.8ms postprocess per image at shape (1, 3, 640, 640)\n"
          ]
        },
        {
          "name": "stderr",
          "output_type": "stream",
          "text": [
            " 20%|█▉        | 416/2108 [03:56<14:03,  2.01it/s]"
          ]
        },
        {
          "name": "stdout",
          "output_type": "stream",
          "text": [
            "\n",
            "0: 640x640 1 marmoset, 4.2ms\n",
            "Speed: 1.5ms preprocess, 4.2ms inference, 0.8ms postprocess per image at shape (1, 3, 640, 640)\n"
          ]
        },
        {
          "name": "stderr",
          "output_type": "stream",
          "text": [
            " 20%|█▉        | 417/2108 [03:57<14:39,  1.92it/s]"
          ]
        },
        {
          "name": "stdout",
          "output_type": "stream",
          "text": [
            "\n",
            "0: 640x640 2 marmosets, 4.2ms\n",
            "Speed: 1.6ms preprocess, 4.2ms inference, 0.8ms postprocess per image at shape (1, 3, 640, 640)\n"
          ]
        },
        {
          "name": "stderr",
          "output_type": "stream",
          "text": [
            " 20%|█▉        | 418/2108 [03:57<15:12,  1.85it/s]"
          ]
        },
        {
          "name": "stdout",
          "output_type": "stream",
          "text": [
            "\n",
            "0: 640x640 1 marmoset, 4.3ms\n",
            "Speed: 1.5ms preprocess, 4.3ms inference, 0.8ms postprocess per image at shape (1, 3, 640, 640)\n"
          ]
        },
        {
          "name": "stderr",
          "output_type": "stream",
          "text": [
            " 20%|█▉        | 419/2108 [03:58<15:31,  1.81it/s]"
          ]
        },
        {
          "name": "stdout",
          "output_type": "stream",
          "text": [
            "\n",
            "0: 480x640 1 marmoset, 4.6ms\n",
            "Speed: 1.1ms preprocess, 4.6ms inference, 0.8ms postprocess per image at shape (1, 3, 480, 640)\n"
          ]
        },
        {
          "name": "stderr",
          "output_type": "stream",
          "text": [
            " 20%|█▉        | 420/2108 [03:58<15:40,  1.80it/s]"
          ]
        },
        {
          "name": "stdout",
          "output_type": "stream",
          "text": [
            "\n",
            "0: 640x640 1 marmoset, 4.5ms\n",
            "Speed: 1.5ms preprocess, 4.5ms inference, 0.8ms postprocess per image at shape (1, 3, 640, 640)\n"
          ]
        },
        {
          "name": "stderr",
          "output_type": "stream",
          "text": [
            " 20%|█▉        | 421/2108 [03:59<15:51,  1.77it/s]"
          ]
        },
        {
          "name": "stdout",
          "output_type": "stream",
          "text": [
            "\n",
            "0: 640x640 1 marmoset, 4.2ms\n",
            "Speed: 1.5ms preprocess, 4.2ms inference, 0.8ms postprocess per image at shape (1, 3, 640, 640)\n"
          ]
        },
        {
          "name": "stderr",
          "output_type": "stream",
          "text": [
            " 20%|██        | 422/2108 [04:00<16:02,  1.75it/s]"
          ]
        },
        {
          "name": "stdout",
          "output_type": "stream",
          "text": [
            "\n",
            "0: 640x640 1 marmoset, 4.2ms\n",
            "Speed: 1.5ms preprocess, 4.2ms inference, 0.8ms postprocess per image at shape (1, 3, 640, 640)\n"
          ]
        },
        {
          "name": "stderr",
          "output_type": "stream",
          "text": [
            " 20%|██        | 423/2108 [04:00<16:18,  1.72it/s]"
          ]
        },
        {
          "name": "stdout",
          "output_type": "stream",
          "text": [
            "\n",
            "0: 640x640 1 marmoset, 4.3ms\n",
            "Speed: 1.5ms preprocess, 4.3ms inference, 0.8ms postprocess per image at shape (1, 3, 640, 640)\n"
          ]
        },
        {
          "name": "stderr",
          "output_type": "stream",
          "text": [
            " 20%|██        | 424/2108 [04:01<16:29,  1.70it/s]"
          ]
        },
        {
          "name": "stdout",
          "output_type": "stream",
          "text": [
            "\n",
            "0: 640x640 2 marmosets, 4.2ms\n",
            "Speed: 1.4ms preprocess, 4.2ms inference, 0.8ms postprocess per image at shape (1, 3, 640, 640)\n"
          ]
        },
        {
          "name": "stderr",
          "output_type": "stream",
          "text": [
            " 20%|██        | 425/2108 [04:01<16:37,  1.69it/s]"
          ]
        },
        {
          "name": "stdout",
          "output_type": "stream",
          "text": [
            "\n",
            "0: 640x640 1 marmoset, 4.2ms\n",
            "Speed: 1.5ms preprocess, 4.2ms inference, 0.8ms postprocess per image at shape (1, 3, 640, 640)\n"
          ]
        },
        {
          "name": "stderr",
          "output_type": "stream",
          "text": [
            " 20%|██        | 426/2108 [04:02<16:42,  1.68it/s]"
          ]
        },
        {
          "name": "stdout",
          "output_type": "stream",
          "text": [
            "\n",
            "0: 640x640 (no detections), 4.2ms\n",
            "Speed: 1.5ms preprocess, 4.2ms inference, 0.3ms postprocess per image at shape (1, 3, 640, 640)\n",
            "\n",
            "0: 480x640 1 marmoset, 4.4ms\n",
            "Speed: 1.0ms preprocess, 4.4ms inference, 0.8ms postprocess per image at shape (1, 3, 480, 640)\n"
          ]
        },
        {
          "name": "stderr",
          "output_type": "stream",
          "text": [
            " 20%|██        | 428/2108 [04:03<12:55,  2.17it/s]"
          ]
        },
        {
          "name": "stdout",
          "output_type": "stream",
          "text": [
            "\n",
            "0: 640x640 1 marmoset, 4.4ms\n",
            "Speed: 1.5ms preprocess, 4.4ms inference, 0.8ms postprocess per image at shape (1, 3, 640, 640)\n"
          ]
        },
        {
          "name": "stderr",
          "output_type": "stream",
          "text": [
            " 20%|██        | 429/2108 [04:03<13:54,  2.01it/s]"
          ]
        },
        {
          "name": "stdout",
          "output_type": "stream",
          "text": [
            "\n",
            "0: 640x640 1 marmoset, 4.0ms\n",
            "Speed: 1.4ms preprocess, 4.0ms inference, 0.8ms postprocess per image at shape (1, 3, 640, 640)\n"
          ]
        },
        {
          "name": "stderr",
          "output_type": "stream",
          "text": [
            " 20%|██        | 430/2108 [04:04<14:43,  1.90it/s]"
          ]
        },
        {
          "name": "stdout",
          "output_type": "stream",
          "text": [
            "\n",
            "0: 640x640 1 marmoset, 3.9ms\n",
            "Speed: 1.4ms preprocess, 3.9ms inference, 0.7ms postprocess per image at shape (1, 3, 640, 640)\n"
          ]
        },
        {
          "name": "stderr",
          "output_type": "stream",
          "text": [
            " 20%|██        | 431/2108 [04:04<15:17,  1.83it/s]"
          ]
        },
        {
          "name": "stdout",
          "output_type": "stream",
          "text": [
            "\n",
            "0: 640x640 1 marmoset, 3.9ms\n",
            "Speed: 1.4ms preprocess, 3.9ms inference, 0.7ms postprocess per image at shape (1, 3, 640, 640)\n"
          ]
        },
        {
          "name": "stderr",
          "output_type": "stream",
          "text": [
            " 20%|██        | 432/2108 [04:05<15:33,  1.80it/s]"
          ]
        },
        {
          "name": "stdout",
          "output_type": "stream",
          "text": [
            "\n",
            "0: 640x640 1 marmoset, 4.2ms\n",
            "Speed: 1.6ms preprocess, 4.2ms inference, 0.8ms postprocess per image at shape (1, 3, 640, 640)\n"
          ]
        },
        {
          "name": "stderr",
          "output_type": "stream",
          "text": [
            " 21%|██        | 433/2108 [04:06<15:45,  1.77it/s]"
          ]
        },
        {
          "name": "stdout",
          "output_type": "stream",
          "text": [
            "\n",
            "0: 640x640 1 marmoset, 4.2ms\n",
            "Speed: 1.5ms preprocess, 4.2ms inference, 0.8ms postprocess per image at shape (1, 3, 640, 640)\n"
          ]
        },
        {
          "name": "stderr",
          "output_type": "stream",
          "text": [
            " 21%|██        | 434/2108 [04:06<15:56,  1.75it/s]"
          ]
        },
        {
          "name": "stdout",
          "output_type": "stream",
          "text": [
            "\n",
            "0: 480x640 1 marmoset, 4.6ms\n",
            "Speed: 1.0ms preprocess, 4.6ms inference, 0.8ms postprocess per image at shape (1, 3, 480, 640)\n"
          ]
        },
        {
          "name": "stderr",
          "output_type": "stream",
          "text": [
            " 21%|██        | 435/2108 [04:07<15:53,  1.75it/s]"
          ]
        },
        {
          "name": "stdout",
          "output_type": "stream",
          "text": [
            "\n",
            "0: 480x640 1 marmoset, 4.2ms\n",
            "Speed: 1.1ms preprocess, 4.2ms inference, 0.8ms postprocess per image at shape (1, 3, 480, 640)\n"
          ]
        },
        {
          "name": "stderr",
          "output_type": "stream",
          "text": [
            " 21%|██        | 436/2108 [04:07<15:53,  1.75it/s]"
          ]
        },
        {
          "name": "stdout",
          "output_type": "stream",
          "text": [
            "\n",
            "0: 640x640 1 marmoset, 4.5ms\n",
            "Speed: 1.5ms preprocess, 4.5ms inference, 0.8ms postprocess per image at shape (1, 3, 640, 640)\n"
          ]
        },
        {
          "name": "stderr",
          "output_type": "stream",
          "text": [
            " 21%|██        | 437/2108 [04:08<16:01,  1.74it/s]"
          ]
        },
        {
          "name": "stdout",
          "output_type": "stream",
          "text": [
            "\n",
            "0: 640x640 1 marmoset, 4.2ms\n",
            "Speed: 1.5ms preprocess, 4.2ms inference, 0.8ms postprocess per image at shape (1, 3, 640, 640)\n"
          ]
        },
        {
          "name": "stderr",
          "output_type": "stream",
          "text": [
            " 21%|██        | 438/2108 [04:08<16:04,  1.73it/s]"
          ]
        },
        {
          "name": "stdout",
          "output_type": "stream",
          "text": [
            "\n",
            "0: 640x640 2 marmosets, 4.2ms\n",
            "Speed: 1.4ms preprocess, 4.2ms inference, 0.8ms postprocess per image at shape (1, 3, 640, 640)\n"
          ]
        },
        {
          "name": "stderr",
          "output_type": "stream",
          "text": [
            " 21%|██        | 439/2108 [04:09<16:08,  1.72it/s]"
          ]
        },
        {
          "name": "stdout",
          "output_type": "stream",
          "text": [
            "\n",
            "0: 640x640 1 marmoset, 4.2ms\n",
            "Speed: 1.5ms preprocess, 4.2ms inference, 0.8ms postprocess per image at shape (1, 3, 640, 640)\n"
          ]
        },
        {
          "name": "stderr",
          "output_type": "stream",
          "text": [
            " 21%|██        | 440/2108 [04:10<16:11,  1.72it/s]"
          ]
        },
        {
          "name": "stdout",
          "output_type": "stream",
          "text": [
            "\n",
            "0: 640x640 2 marmosets, 4.3ms\n",
            "Speed: 1.5ms preprocess, 4.3ms inference, 0.8ms postprocess per image at shape (1, 3, 640, 640)\n"
          ]
        },
        {
          "name": "stderr",
          "output_type": "stream",
          "text": [
            " 21%|██        | 441/2108 [04:10<16:05,  1.73it/s]"
          ]
        },
        {
          "name": "stdout",
          "output_type": "stream",
          "text": [
            "\n",
            "0: 640x640 1 marmoset, 4.3ms\n",
            "Speed: 1.5ms preprocess, 4.3ms inference, 0.8ms postprocess per image at shape (1, 3, 640, 640)\n"
          ]
        },
        {
          "name": "stderr",
          "output_type": "stream",
          "text": [
            " 21%|██        | 442/2108 [04:11<15:28,  1.80it/s]"
          ]
        },
        {
          "name": "stdout",
          "output_type": "stream",
          "text": [
            "\n",
            "0: 640x640 1 marmoset, 4.2ms\n",
            "Speed: 1.5ms preprocess, 4.2ms inference, 0.8ms postprocess per image at shape (1, 3, 640, 640)\n"
          ]
        },
        {
          "name": "stderr",
          "output_type": "stream",
          "text": [
            " 21%|██        | 443/2108 [04:11<15:42,  1.77it/s]"
          ]
        },
        {
          "name": "stdout",
          "output_type": "stream",
          "text": [
            "\n",
            "0: 640x640 1 marmoset, 4.3ms\n",
            "Speed: 1.5ms preprocess, 4.3ms inference, 0.8ms postprocess per image at shape (1, 3, 640, 640)\n"
          ]
        },
        {
          "name": "stderr",
          "output_type": "stream",
          "text": [
            " 21%|██        | 444/2108 [04:12<16:02,  1.73it/s]"
          ]
        },
        {
          "name": "stdout",
          "output_type": "stream",
          "text": [
            "\n",
            "0: 640x640 1 marmoset, 4.2ms\n",
            "Speed: 1.6ms preprocess, 4.2ms inference, 0.8ms postprocess per image at shape (1, 3, 640, 640)\n"
          ]
        },
        {
          "name": "stderr",
          "output_type": "stream",
          "text": [
            " 21%|██        | 445/2108 [04:13<16:17,  1.70it/s]"
          ]
        },
        {
          "name": "stdout",
          "output_type": "stream",
          "text": [
            "\n",
            "0: 640x640 1 marmoset, 4.2ms\n",
            "Speed: 1.5ms preprocess, 4.2ms inference, 0.8ms postprocess per image at shape (1, 3, 640, 640)\n"
          ]
        },
        {
          "name": "stderr",
          "output_type": "stream",
          "text": [
            " 21%|██        | 446/2108 [04:13<16:15,  1.70it/s]"
          ]
        },
        {
          "name": "stdout",
          "output_type": "stream",
          "text": [
            "\n",
            "0: 640x640 1 marmoset, 4.2ms\n",
            "Speed: 1.5ms preprocess, 4.2ms inference, 0.8ms postprocess per image at shape (1, 3, 640, 640)\n"
          ]
        },
        {
          "name": "stderr",
          "output_type": "stream",
          "text": [
            " 21%|██        | 447/2108 [04:14<16:06,  1.72it/s]"
          ]
        },
        {
          "name": "stdout",
          "output_type": "stream",
          "text": [
            "\n",
            "0: 640x640 1 marmoset, 4.2ms\n",
            "Speed: 1.5ms preprocess, 4.2ms inference, 0.8ms postprocess per image at shape (1, 3, 640, 640)\n"
          ]
        },
        {
          "name": "stderr",
          "output_type": "stream",
          "text": [
            " 21%|██▏       | 448/2108 [04:14<16:01,  1.73it/s]"
          ]
        },
        {
          "name": "stdout",
          "output_type": "stream",
          "text": [
            "\n",
            "0: 640x640 2 marmosets, 4.2ms\n",
            "Speed: 1.4ms preprocess, 4.2ms inference, 0.8ms postprocess per image at shape (1, 3, 640, 640)\n"
          ]
        },
        {
          "name": "stderr",
          "output_type": "stream",
          "text": [
            " 21%|██▏       | 449/2108 [04:15<15:55,  1.74it/s]"
          ]
        },
        {
          "name": "stdout",
          "output_type": "stream",
          "text": [
            "\n",
            "0: 640x640 1 marmoset, 4.1ms\n",
            "Speed: 1.5ms preprocess, 4.1ms inference, 0.8ms postprocess per image at shape (1, 3, 640, 640)\n"
          ]
        },
        {
          "name": "stderr",
          "output_type": "stream",
          "text": [
            " 21%|██▏       | 450/2108 [04:15<15:59,  1.73it/s]"
          ]
        },
        {
          "name": "stdout",
          "output_type": "stream",
          "text": [
            "\n",
            "0: 480x640 (no detections), 4.5ms\n",
            "Speed: 1.1ms preprocess, 4.5ms inference, 0.3ms postprocess per image at shape (1, 3, 480, 640)\n",
            "\n",
            "0: 640x640 1 marmoset, 4.2ms\n",
            "Speed: 1.5ms preprocess, 4.2ms inference, 0.7ms postprocess per image at shape (1, 3, 640, 640)\n"
          ]
        },
        {
          "name": "stderr",
          "output_type": "stream",
          "text": [
            " 21%|██▏       | 452/2108 [04:16<12:26,  2.22it/s]"
          ]
        },
        {
          "name": "stdout",
          "output_type": "stream",
          "text": [
            "\n",
            "0: 640x640 1 marmoset, 4.1ms\n",
            "Speed: 1.5ms preprocess, 4.1ms inference, 0.8ms postprocess per image at shape (1, 3, 640, 640)\n"
          ]
        },
        {
          "name": "stderr",
          "output_type": "stream",
          "text": [
            " 21%|██▏       | 453/2108 [04:17<13:21,  2.06it/s]"
          ]
        },
        {
          "name": "stdout",
          "output_type": "stream",
          "text": [
            "\n",
            "0: 640x640 1 marmoset, 4.1ms\n",
            "Speed: 1.5ms preprocess, 4.1ms inference, 0.8ms postprocess per image at shape (1, 3, 640, 640)\n"
          ]
        },
        {
          "name": "stderr",
          "output_type": "stream",
          "text": [
            " 22%|██▏       | 454/2108 [04:17<13:58,  1.97it/s]"
          ]
        },
        {
          "name": "stdout",
          "output_type": "stream",
          "text": [
            "\n",
            "0: 480x640 1 marmoset, 4.5ms\n",
            "Speed: 1.1ms preprocess, 4.5ms inference, 0.8ms postprocess per image at shape (1, 3, 480, 640)\n"
          ]
        },
        {
          "name": "stderr",
          "output_type": "stream",
          "text": [
            " 22%|██▏       | 455/2108 [04:18<14:17,  1.93it/s]"
          ]
        },
        {
          "name": "stdout",
          "output_type": "stream",
          "text": [
            "\n",
            "0: 640x640 1 marmoset, 4.3ms\n",
            "Speed: 1.5ms preprocess, 4.3ms inference, 0.7ms postprocess per image at shape (1, 3, 640, 640)\n"
          ]
        },
        {
          "name": "stderr",
          "output_type": "stream",
          "text": [
            " 22%|██▏       | 456/2108 [04:18<15:29,  1.78it/s]"
          ]
        },
        {
          "name": "stdout",
          "output_type": "stream",
          "text": [
            "\n",
            "0: 640x640 1 marmoset, 4.1ms\n",
            "Speed: 1.5ms preprocess, 4.1ms inference, 0.8ms postprocess per image at shape (1, 3, 640, 640)\n"
          ]
        },
        {
          "name": "stderr",
          "output_type": "stream",
          "text": [
            " 22%|██▏       | 457/2108 [04:19<15:59,  1.72it/s]"
          ]
        },
        {
          "name": "stdout",
          "output_type": "stream",
          "text": [
            "\n",
            "0: 640x640 2 marmosets, 4.1ms\n",
            "Speed: 1.4ms preprocess, 4.1ms inference, 0.7ms postprocess per image at shape (1, 3, 640, 640)\n"
          ]
        },
        {
          "name": "stderr",
          "output_type": "stream",
          "text": [
            " 22%|██▏       | 458/2108 [04:20<16:00,  1.72it/s]"
          ]
        },
        {
          "name": "stdout",
          "output_type": "stream",
          "text": [
            "\n",
            "0: 640x640 2 marmosets, 4.1ms\n",
            "Speed: 1.4ms preprocess, 4.1ms inference, 0.7ms postprocess per image at shape (1, 3, 640, 640)\n"
          ]
        },
        {
          "name": "stderr",
          "output_type": "stream",
          "text": [
            " 22%|██▏       | 459/2108 [04:20<15:59,  1.72it/s]"
          ]
        },
        {
          "name": "stdout",
          "output_type": "stream",
          "text": [
            "\n",
            "0: 640x640 1 marmoset, 4.1ms\n",
            "Speed: 1.5ms preprocess, 4.1ms inference, 0.7ms postprocess per image at shape (1, 3, 640, 640)\n"
          ]
        },
        {
          "name": "stderr",
          "output_type": "stream",
          "text": [
            " 22%|██▏       | 460/2108 [04:21<15:57,  1.72it/s]"
          ]
        },
        {
          "name": "stdout",
          "output_type": "stream",
          "text": [
            "\n",
            "0: 640x640 1 marmoset, 4.2ms\n",
            "Speed: 1.5ms preprocess, 4.2ms inference, 0.8ms postprocess per image at shape (1, 3, 640, 640)\n"
          ]
        },
        {
          "name": "stderr",
          "output_type": "stream",
          "text": [
            " 22%|██▏       | 461/2108 [04:21<16:15,  1.69it/s]"
          ]
        },
        {
          "name": "stdout",
          "output_type": "stream",
          "text": [
            "\n",
            "0: 640x640 3 marmosets, 4.1ms\n",
            "Speed: 1.5ms preprocess, 4.1ms inference, 0.7ms postprocess per image at shape (1, 3, 640, 640)\n"
          ]
        },
        {
          "name": "stderr",
          "output_type": "stream",
          "text": [
            " 22%|██▏       | 462/2108 [04:22<16:38,  1.65it/s]"
          ]
        },
        {
          "name": "stdout",
          "output_type": "stream",
          "text": [
            "\n",
            "0: 640x640 1 marmoset, 4.2ms\n",
            "Speed: 1.5ms preprocess, 4.2ms inference, 0.8ms postprocess per image at shape (1, 3, 640, 640)\n"
          ]
        },
        {
          "name": "stderr",
          "output_type": "stream",
          "text": [
            " 22%|██▏       | 463/2108 [04:23<16:41,  1.64it/s]"
          ]
        },
        {
          "name": "stdout",
          "output_type": "stream",
          "text": [
            "\n",
            "0: 640x640 1 marmoset, 4.1ms\n",
            "Speed: 1.5ms preprocess, 4.1ms inference, 0.8ms postprocess per image at shape (1, 3, 640, 640)\n"
          ]
        },
        {
          "name": "stderr",
          "output_type": "stream",
          "text": [
            " 22%|██▏       | 464/2108 [04:23<16:44,  1.64it/s]"
          ]
        },
        {
          "name": "stdout",
          "output_type": "stream",
          "text": [
            "\n",
            "0: 480x640 1 marmoset, 4.5ms\n",
            "Speed: 1.1ms preprocess, 4.5ms inference, 0.7ms postprocess per image at shape (1, 3, 480, 640)\n"
          ]
        },
        {
          "name": "stderr",
          "output_type": "stream",
          "text": [
            " 22%|██▏       | 465/2108 [04:24<16:28,  1.66it/s]"
          ]
        },
        {
          "name": "stdout",
          "output_type": "stream",
          "text": [
            "\n",
            "0: 640x640 1 marmoset, 4.3ms\n",
            "Speed: 1.5ms preprocess, 4.3ms inference, 0.7ms postprocess per image at shape (1, 3, 640, 640)\n"
          ]
        },
        {
          "name": "stderr",
          "output_type": "stream",
          "text": [
            " 22%|██▏       | 466/2108 [04:24<16:16,  1.68it/s]"
          ]
        },
        {
          "name": "stdout",
          "output_type": "stream",
          "text": [
            "\n",
            "0: 640x640 1 marmoset, 4.1ms\n",
            "Speed: 1.5ms preprocess, 4.1ms inference, 0.8ms postprocess per image at shape (1, 3, 640, 640)\n"
          ]
        },
        {
          "name": "stderr",
          "output_type": "stream",
          "text": [
            " 22%|██▏       | 467/2108 [04:25<16:05,  1.70it/s]"
          ]
        },
        {
          "name": "stdout",
          "output_type": "stream",
          "text": [
            "\n",
            "0: 480x640 1 marmoset, 4.5ms\n",
            "Speed: 1.1ms preprocess, 4.5ms inference, 0.8ms postprocess per image at shape (1, 3, 480, 640)\n"
          ]
        },
        {
          "name": "stderr",
          "output_type": "stream",
          "text": [
            " 22%|██▏       | 468/2108 [04:26<15:53,  1.72it/s]"
          ]
        },
        {
          "name": "stdout",
          "output_type": "stream",
          "text": [
            "\n",
            "0: 640x640 1 marmoset, 4.4ms\n",
            "Speed: 1.4ms preprocess, 4.4ms inference, 0.7ms postprocess per image at shape (1, 3, 640, 640)\n"
          ]
        },
        {
          "name": "stderr",
          "output_type": "stream",
          "text": [
            " 22%|██▏       | 469/2108 [04:26<15:52,  1.72it/s]"
          ]
        },
        {
          "name": "stdout",
          "output_type": "stream",
          "text": [
            "\n",
            "0: 640x640 1 marmoset, 4.1ms\n",
            "Speed: 1.5ms preprocess, 4.1ms inference, 0.7ms postprocess per image at shape (1, 3, 640, 640)\n"
          ]
        },
        {
          "name": "stderr",
          "output_type": "stream",
          "text": [
            " 22%|██▏       | 470/2108 [04:27<15:53,  1.72it/s]"
          ]
        },
        {
          "name": "stdout",
          "output_type": "stream",
          "text": [
            "\n",
            "0: 640x640 2 marmosets, 4.1ms\n",
            "Speed: 1.4ms preprocess, 4.1ms inference, 0.7ms postprocess per image at shape (1, 3, 640, 640)\n"
          ]
        },
        {
          "name": "stderr",
          "output_type": "stream",
          "text": [
            " 22%|██▏       | 471/2108 [04:27<15:55,  1.71it/s]"
          ]
        },
        {
          "name": "stdout",
          "output_type": "stream",
          "text": [
            "\n",
            "0: 480x640 1 marmoset, 4.5ms\n",
            "Speed: 1.1ms preprocess, 4.5ms inference, 0.7ms postprocess per image at shape (1, 3, 480, 640)\n"
          ]
        },
        {
          "name": "stderr",
          "output_type": "stream",
          "text": [
            " 22%|██▏       | 472/2108 [04:28<15:48,  1.73it/s]"
          ]
        },
        {
          "name": "stdout",
          "output_type": "stream",
          "text": [
            "\n",
            "0: 640x640 1 marmoset, 4.4ms\n",
            "Speed: 1.5ms preprocess, 4.4ms inference, 0.7ms postprocess per image at shape (1, 3, 640, 640)\n"
          ]
        },
        {
          "name": "stderr",
          "output_type": "stream",
          "text": [
            " 22%|██▏       | 473/2108 [04:28<15:51,  1.72it/s]"
          ]
        },
        {
          "name": "stdout",
          "output_type": "stream",
          "text": [
            "\n",
            "0: 640x640 1 marmoset, 4.2ms\n",
            "Speed: 1.5ms preprocess, 4.2ms inference, 0.8ms postprocess per image at shape (1, 3, 640, 640)\n"
          ]
        },
        {
          "name": "stderr",
          "output_type": "stream",
          "text": [
            " 22%|██▏       | 474/2108 [04:29<15:45,  1.73it/s]"
          ]
        },
        {
          "name": "stdout",
          "output_type": "stream",
          "text": [
            "\n",
            "0: 640x640 1 marmoset, 4.1ms\n",
            "Speed: 1.5ms preprocess, 4.1ms inference, 0.7ms postprocess per image at shape (1, 3, 640, 640)\n"
          ]
        },
        {
          "name": "stderr",
          "output_type": "stream",
          "text": [
            " 23%|██▎       | 475/2108 [04:30<15:49,  1.72it/s]"
          ]
        },
        {
          "name": "stdout",
          "output_type": "stream",
          "text": [
            "\n",
            "0: 640x640 1 marmoset, 4.1ms\n",
            "Speed: 1.5ms preprocess, 4.1ms inference, 0.7ms postprocess per image at shape (1, 3, 640, 640)\n"
          ]
        },
        {
          "name": "stderr",
          "output_type": "stream",
          "text": [
            " 23%|██▎       | 476/2108 [04:30<15:52,  1.71it/s]"
          ]
        },
        {
          "name": "stdout",
          "output_type": "stream",
          "text": [
            "\n",
            "0: 640x640 1 marmoset, 4.2ms\n",
            "Speed: 1.4ms preprocess, 4.2ms inference, 0.7ms postprocess per image at shape (1, 3, 640, 640)\n"
          ]
        },
        {
          "name": "stderr",
          "output_type": "stream",
          "text": [
            " 23%|██▎       | 477/2108 [04:31<15:54,  1.71it/s]"
          ]
        },
        {
          "name": "stdout",
          "output_type": "stream",
          "text": [
            "\n",
            "0: 640x640 1 marmoset, 4.1ms\n",
            "Speed: 1.5ms preprocess, 4.1ms inference, 0.8ms postprocess per image at shape (1, 3, 640, 640)\n"
          ]
        },
        {
          "name": "stderr",
          "output_type": "stream",
          "text": [
            " 23%|██▎       | 478/2108 [04:31<15:54,  1.71it/s]"
          ]
        },
        {
          "name": "stdout",
          "output_type": "stream",
          "text": [
            "\n",
            "0: 640x640 2 marmosets, 4.1ms\n",
            "Speed: 1.5ms preprocess, 4.1ms inference, 0.7ms postprocess per image at shape (1, 3, 640, 640)\n"
          ]
        },
        {
          "name": "stderr",
          "output_type": "stream",
          "text": [
            " 23%|██▎       | 479/2108 [04:32<16:00,  1.70it/s]"
          ]
        },
        {
          "name": "stdout",
          "output_type": "stream",
          "text": [
            "\n",
            "0: 640x640 2 marmosets, 4.1ms\n",
            "Speed: 1.5ms preprocess, 4.1ms inference, 0.8ms postprocess per image at shape (1, 3, 640, 640)\n"
          ]
        },
        {
          "name": "stderr",
          "output_type": "stream",
          "text": [
            " 23%|██▎       | 480/2108 [04:33<16:06,  1.68it/s]"
          ]
        },
        {
          "name": "stdout",
          "output_type": "stream",
          "text": [
            "\n",
            "0: 640x640 1 marmoset, 4.2ms\n",
            "Speed: 1.5ms preprocess, 4.2ms inference, 0.8ms postprocess per image at shape (1, 3, 640, 640)\n"
          ]
        },
        {
          "name": "stderr",
          "output_type": "stream",
          "text": [
            " 23%|██▎       | 481/2108 [04:33<16:07,  1.68it/s]"
          ]
        },
        {
          "name": "stdout",
          "output_type": "stream",
          "text": [
            "\n",
            "0: 640x640 1 marmoset, 4.1ms\n",
            "Speed: 1.4ms preprocess, 4.1ms inference, 0.8ms postprocess per image at shape (1, 3, 640, 640)\n"
          ]
        },
        {
          "name": "stderr",
          "output_type": "stream",
          "text": [
            " 23%|██▎       | 482/2108 [04:34<15:56,  1.70it/s]"
          ]
        },
        {
          "name": "stdout",
          "output_type": "stream",
          "text": [
            "\n",
            "0: 480x640 (no detections), 4.5ms\n",
            "Speed: 1.1ms preprocess, 4.5ms inference, 0.3ms postprocess per image at shape (1, 3, 480, 640)\n",
            "\n",
            "0: 640x640 3 marmosets, 4.2ms\n",
            "Speed: 1.5ms preprocess, 4.2ms inference, 0.7ms postprocess per image at shape (1, 3, 640, 640)\n"
          ]
        },
        {
          "name": "stderr",
          "output_type": "stream",
          "text": [
            " 23%|██▎       | 484/2108 [04:34<12:33,  2.16it/s]"
          ]
        },
        {
          "name": "stdout",
          "output_type": "stream",
          "text": [
            "\n",
            "0: 640x640 2 marmosets, 4.2ms\n",
            "Speed: 1.4ms preprocess, 4.2ms inference, 0.8ms postprocess per image at shape (1, 3, 640, 640)\n"
          ]
        },
        {
          "name": "stderr",
          "output_type": "stream",
          "text": [
            " 23%|██▎       | 485/2108 [04:35<13:31,  2.00it/s]"
          ]
        },
        {
          "name": "stdout",
          "output_type": "stream",
          "text": [
            "\n",
            "0: 640x640 1 marmoset, 4.1ms\n",
            "Speed: 1.5ms preprocess, 4.1ms inference, 0.8ms postprocess per image at shape (1, 3, 640, 640)\n"
          ]
        },
        {
          "name": "stderr",
          "output_type": "stream",
          "text": [
            " 23%|██▎       | 486/2108 [04:36<14:18,  1.89it/s]"
          ]
        },
        {
          "name": "stdout",
          "output_type": "stream",
          "text": [
            "\n",
            "0: 480x640 1 marmoset, 4.5ms\n",
            "Speed: 1.0ms preprocess, 4.5ms inference, 0.8ms postprocess per image at shape (1, 3, 480, 640)\n"
          ]
        },
        {
          "name": "stderr",
          "output_type": "stream",
          "text": [
            " 23%|██▎       | 487/2108 [04:36<14:49,  1.82it/s]"
          ]
        },
        {
          "name": "stdout",
          "output_type": "stream",
          "text": [
            "\n",
            "0: 640x640 1 marmoset, 4.4ms\n",
            "Speed: 1.5ms preprocess, 4.4ms inference, 0.7ms postprocess per image at shape (1, 3, 640, 640)\n"
          ]
        },
        {
          "name": "stderr",
          "output_type": "stream",
          "text": [
            " 23%|██▎       | 488/2108 [04:37<15:18,  1.76it/s]"
          ]
        },
        {
          "name": "stdout",
          "output_type": "stream",
          "text": [
            "\n",
            "0: 640x640 1 marmoset, 4.2ms\n",
            "Speed: 1.5ms preprocess, 4.2ms inference, 0.8ms postprocess per image at shape (1, 3, 640, 640)\n"
          ]
        },
        {
          "name": "stderr",
          "output_type": "stream",
          "text": [
            " 23%|██▎       | 489/2108 [04:37<15:40,  1.72it/s]"
          ]
        },
        {
          "name": "stdout",
          "output_type": "stream",
          "text": [
            "\n",
            "0: 640x640 2 marmosets, 4.1ms\n",
            "Speed: 1.5ms preprocess, 4.1ms inference, 0.7ms postprocess per image at shape (1, 3, 640, 640)\n"
          ]
        },
        {
          "name": "stderr",
          "output_type": "stream",
          "text": [
            " 23%|██▎       | 490/2108 [04:38<15:55,  1.69it/s]"
          ]
        },
        {
          "name": "stdout",
          "output_type": "stream",
          "text": [
            "\n",
            "0: 640x640 1 marmoset, 4.2ms\n",
            "Speed: 1.5ms preprocess, 4.2ms inference, 0.8ms postprocess per image at shape (1, 3, 640, 640)\n"
          ]
        },
        {
          "name": "stderr",
          "output_type": "stream",
          "text": [
            " 23%|██▎       | 491/2108 [04:39<16:03,  1.68it/s]"
          ]
        },
        {
          "name": "stdout",
          "output_type": "stream",
          "text": [
            "\n",
            "0: 640x640 1 marmoset, 4.2ms\n",
            "Speed: 1.5ms preprocess, 4.2ms inference, 0.8ms postprocess per image at shape (1, 3, 640, 640)\n"
          ]
        },
        {
          "name": "stderr",
          "output_type": "stream",
          "text": [
            " 23%|██▎       | 492/2108 [04:39<16:10,  1.67it/s]"
          ]
        },
        {
          "name": "stdout",
          "output_type": "stream",
          "text": [
            "\n",
            "0: 640x640 1 marmoset, 4.1ms\n",
            "Speed: 1.5ms preprocess, 4.1ms inference, 0.8ms postprocess per image at shape (1, 3, 640, 640)\n"
          ]
        },
        {
          "name": "stderr",
          "output_type": "stream",
          "text": [
            " 23%|██▎       | 493/2108 [04:40<16:14,  1.66it/s]"
          ]
        },
        {
          "name": "stdout",
          "output_type": "stream",
          "text": [
            "\n",
            "0: 640x640 2 marmosets, 4.1ms\n",
            "Speed: 1.4ms preprocess, 4.1ms inference, 0.8ms postprocess per image at shape (1, 3, 640, 640)\n"
          ]
        },
        {
          "name": "stderr",
          "output_type": "stream",
          "text": [
            " 23%|██▎       | 494/2108 [04:41<16:17,  1.65it/s]"
          ]
        },
        {
          "name": "stdout",
          "output_type": "stream",
          "text": [
            "\n",
            "0: 640x640 2 marmosets, 4.1ms\n",
            "Speed: 1.4ms preprocess, 4.1ms inference, 0.8ms postprocess per image at shape (1, 3, 640, 640)\n"
          ]
        },
        {
          "name": "stderr",
          "output_type": "stream",
          "text": [
            " 23%|██▎       | 495/2108 [04:41<16:20,  1.65it/s]"
          ]
        },
        {
          "name": "stdout",
          "output_type": "stream",
          "text": [
            "\n",
            "0: 640x640 2 marmosets, 4.1ms\n",
            "Speed: 1.4ms preprocess, 4.1ms inference, 0.8ms postprocess per image at shape (1, 3, 640, 640)\n"
          ]
        },
        {
          "name": "stderr",
          "output_type": "stream",
          "text": [
            " 24%|██▎       | 496/2108 [04:42<16:21,  1.64it/s]"
          ]
        },
        {
          "name": "stdout",
          "output_type": "stream",
          "text": [
            "\n",
            "0: 640x640 2 marmosets, 4.1ms\n",
            "Speed: 1.5ms preprocess, 4.1ms inference, 0.7ms postprocess per image at shape (1, 3, 640, 640)\n"
          ]
        },
        {
          "name": "stderr",
          "output_type": "stream",
          "text": [
            " 24%|██▎       | 497/2108 [04:42<16:24,  1.64it/s]"
          ]
        },
        {
          "name": "stdout",
          "output_type": "stream",
          "text": [
            "\n",
            "0: 640x640 2 marmosets, 4.2ms\n",
            "Speed: 1.5ms preprocess, 4.2ms inference, 0.8ms postprocess per image at shape (1, 3, 640, 640)\n"
          ]
        },
        {
          "name": "stderr",
          "output_type": "stream",
          "text": [
            " 24%|██▎       | 498/2108 [04:43<16:29,  1.63it/s]"
          ]
        },
        {
          "name": "stdout",
          "output_type": "stream",
          "text": [
            "\n",
            "0: 640x640 1 marmoset, 4.2ms\n",
            "Speed: 1.5ms preprocess, 4.2ms inference, 0.8ms postprocess per image at shape (1, 3, 640, 640)\n"
          ]
        },
        {
          "name": "stderr",
          "output_type": "stream",
          "text": [
            " 24%|██▎       | 499/2108 [04:44<16:25,  1.63it/s]"
          ]
        },
        {
          "name": "stdout",
          "output_type": "stream",
          "text": [
            "\n",
            "0: 640x640 1 marmoset, 4.2ms\n",
            "Speed: 1.5ms preprocess, 4.2ms inference, 0.8ms postprocess per image at shape (1, 3, 640, 640)\n"
          ]
        },
        {
          "name": "stderr",
          "output_type": "stream",
          "text": [
            " 24%|██▎       | 500/2108 [04:44<16:26,  1.63it/s]"
          ]
        },
        {
          "name": "stdout",
          "output_type": "stream",
          "text": [
            "\n",
            "0: 480x640 1 marmoset, 4.5ms\n",
            "Speed: 1.0ms preprocess, 4.5ms inference, 0.8ms postprocess per image at shape (1, 3, 480, 640)\n"
          ]
        },
        {
          "name": "stderr",
          "output_type": "stream",
          "text": [
            " 24%|██▍       | 501/2108 [04:45<16:18,  1.64it/s]"
          ]
        },
        {
          "name": "stdout",
          "output_type": "stream",
          "text": [
            "\n",
            "0: 640x640 1 marmoset, 4.4ms\n",
            "Speed: 1.5ms preprocess, 4.4ms inference, 0.7ms postprocess per image at shape (1, 3, 640, 640)\n"
          ]
        },
        {
          "name": "stderr",
          "output_type": "stream",
          "text": [
            " 24%|██▍       | 502/2108 [04:45<16:18,  1.64it/s]"
          ]
        },
        {
          "name": "stdout",
          "output_type": "stream",
          "text": [
            "\n",
            "0: 640x640 2 marmosets, 4.2ms\n",
            "Speed: 1.4ms preprocess, 4.2ms inference, 0.8ms postprocess per image at shape (1, 3, 640, 640)\n"
          ]
        },
        {
          "name": "stderr",
          "output_type": "stream",
          "text": [
            " 24%|██▍       | 503/2108 [04:46<16:18,  1.64it/s]"
          ]
        },
        {
          "name": "stdout",
          "output_type": "stream",
          "text": [
            "\n",
            "0: 480x640 1 marmoset, 4.5ms\n",
            "Speed: 1.1ms preprocess, 4.5ms inference, 0.8ms postprocess per image at shape (1, 3, 480, 640)\n"
          ]
        },
        {
          "name": "stderr",
          "output_type": "stream",
          "text": [
            " 24%|██▍       | 504/2108 [04:47<16:12,  1.65it/s]"
          ]
        },
        {
          "name": "stdout",
          "output_type": "stream",
          "text": [
            "\n",
            "0: 640x640 1 marmoset, 4.4ms\n",
            "Speed: 1.5ms preprocess, 4.4ms inference, 0.7ms postprocess per image at shape (1, 3, 640, 640)\n"
          ]
        },
        {
          "name": "stderr",
          "output_type": "stream",
          "text": [
            " 24%|██▍       | 505/2108 [04:47<16:14,  1.64it/s]"
          ]
        },
        {
          "name": "stdout",
          "output_type": "stream",
          "text": [
            "\n",
            "0: 640x640 2 marmosets, 4.2ms\n",
            "Speed: 1.4ms preprocess, 4.2ms inference, 0.7ms postprocess per image at shape (1, 3, 640, 640)\n"
          ]
        },
        {
          "name": "stderr",
          "output_type": "stream",
          "text": [
            " 24%|██▍       | 506/2108 [04:48<16:09,  1.65it/s]"
          ]
        },
        {
          "name": "stdout",
          "output_type": "stream",
          "text": [
            "\n",
            "0: 640x640 1 marmoset, 4.1ms\n",
            "Speed: 1.5ms preprocess, 4.1ms inference, 0.8ms postprocess per image at shape (1, 3, 640, 640)\n"
          ]
        },
        {
          "name": "stderr",
          "output_type": "stream",
          "text": [
            " 24%|██▍       | 507/2108 [04:48<16:00,  1.67it/s]"
          ]
        },
        {
          "name": "stdout",
          "output_type": "stream",
          "text": [
            "\n",
            "0: 640x640 1 marmoset, 4.2ms\n",
            "Speed: 1.5ms preprocess, 4.2ms inference, 0.8ms postprocess per image at shape (1, 3, 640, 640)\n"
          ]
        },
        {
          "name": "stderr",
          "output_type": "stream",
          "text": [
            " 24%|██▍       | 508/2108 [04:49<15:56,  1.67it/s]"
          ]
        },
        {
          "name": "stdout",
          "output_type": "stream",
          "text": [
            "\n",
            "0: 640x640 1 marmoset, 4.1ms\n",
            "Speed: 1.5ms preprocess, 4.1ms inference, 0.8ms postprocess per image at shape (1, 3, 640, 640)\n"
          ]
        },
        {
          "name": "stderr",
          "output_type": "stream",
          "text": [
            " 24%|██▍       | 509/2108 [04:50<15:51,  1.68it/s]"
          ]
        },
        {
          "name": "stdout",
          "output_type": "stream",
          "text": [
            "\n",
            "0: 640x640 2 marmosets, 4.2ms\n",
            "Speed: 1.4ms preprocess, 4.2ms inference, 0.8ms postprocess per image at shape (1, 3, 640, 640)\n"
          ]
        },
        {
          "name": "stderr",
          "output_type": "stream",
          "text": [
            " 24%|██▍       | 510/2108 [04:50<15:50,  1.68it/s]"
          ]
        },
        {
          "name": "stdout",
          "output_type": "stream",
          "text": [
            "\n",
            "0: 640x640 1 marmoset, 4.1ms\n",
            "Speed: 1.5ms preprocess, 4.1ms inference, 0.8ms postprocess per image at shape (1, 3, 640, 640)\n"
          ]
        },
        {
          "name": "stderr",
          "output_type": "stream",
          "text": [
            " 24%|██▍       | 511/2108 [04:51<15:37,  1.70it/s]"
          ]
        },
        {
          "name": "stdout",
          "output_type": "stream",
          "text": [
            "\n",
            "0: 640x640 1 marmoset, 4.2ms\n",
            "Speed: 1.5ms preprocess, 4.2ms inference, 0.8ms postprocess per image at shape (1, 3, 640, 640)\n"
          ]
        },
        {
          "name": "stderr",
          "output_type": "stream",
          "text": [
            " 24%|██▍       | 512/2108 [04:51<15:56,  1.67it/s]"
          ]
        },
        {
          "name": "stdout",
          "output_type": "stream",
          "text": [
            "\n",
            "0: 480x640 1 marmoset, 4.5ms\n",
            "Speed: 1.1ms preprocess, 4.5ms inference, 0.8ms postprocess per image at shape (1, 3, 480, 640)\n"
          ]
        },
        {
          "name": "stderr",
          "output_type": "stream",
          "text": [
            " 24%|██▍       | 513/2108 [04:52<16:05,  1.65it/s]"
          ]
        },
        {
          "name": "stdout",
          "output_type": "stream",
          "text": [
            "\n",
            "0: 640x640 1 marmoset, 4.4ms\n",
            "Speed: 1.5ms preprocess, 4.4ms inference, 0.7ms postprocess per image at shape (1, 3, 640, 640)\n"
          ]
        },
        {
          "name": "stderr",
          "output_type": "stream",
          "text": [
            " 24%|██▍       | 514/2108 [04:53<15:55,  1.67it/s]"
          ]
        },
        {
          "name": "stdout",
          "output_type": "stream",
          "text": [
            "\n",
            "0: 480x640 1 marmoset, 4.5ms\n",
            "Speed: 1.0ms preprocess, 4.5ms inference, 0.7ms postprocess per image at shape (1, 3, 480, 640)\n"
          ]
        },
        {
          "name": "stderr",
          "output_type": "stream",
          "text": [
            " 24%|██▍       | 515/2108 [04:53<15:43,  1.69it/s]"
          ]
        },
        {
          "name": "stdout",
          "output_type": "stream",
          "text": [
            "\n",
            "0: 640x640 1 marmoset, 4.4ms\n",
            "Speed: 1.5ms preprocess, 4.4ms inference, 0.7ms postprocess per image at shape (1, 3, 640, 640)\n"
          ]
        },
        {
          "name": "stderr",
          "output_type": "stream",
          "text": [
            " 24%|██▍       | 516/2108 [04:54<15:39,  1.69it/s]"
          ]
        },
        {
          "name": "stdout",
          "output_type": "stream",
          "text": [
            "\n",
            "0: 640x640 2 marmosets, 4.2ms\n",
            "Speed: 1.4ms preprocess, 4.2ms inference, 0.8ms postprocess per image at shape (1, 3, 640, 640)\n"
          ]
        },
        {
          "name": "stderr",
          "output_type": "stream",
          "text": [
            " 25%|██▍       | 517/2108 [04:54<15:33,  1.70it/s]"
          ]
        },
        {
          "name": "stdout",
          "output_type": "stream",
          "text": [
            "\n",
            "0: 480x640 1 marmoset, 4.5ms\n",
            "Speed: 1.1ms preprocess, 4.5ms inference, 0.8ms postprocess per image at shape (1, 3, 480, 640)\n"
          ]
        },
        {
          "name": "stderr",
          "output_type": "stream",
          "text": [
            " 25%|██▍       | 518/2108 [04:55<15:31,  1.71it/s]"
          ]
        },
        {
          "name": "stdout",
          "output_type": "stream",
          "text": [
            "\n",
            "0: 480x640 1 marmoset, 4.1ms\n",
            "Speed: 1.0ms preprocess, 4.1ms inference, 0.7ms postprocess per image at shape (1, 3, 480, 640)\n"
          ]
        },
        {
          "name": "stderr",
          "output_type": "stream",
          "text": [
            " 25%|██▍       | 519/2108 [04:56<15:50,  1.67it/s]"
          ]
        },
        {
          "name": "stdout",
          "output_type": "stream",
          "text": [
            "\n",
            "0: 640x640 1 marmoset, 4.3ms\n",
            "Speed: 1.5ms preprocess, 4.3ms inference, 0.7ms postprocess per image at shape (1, 3, 640, 640)\n"
          ]
        },
        {
          "name": "stderr",
          "output_type": "stream",
          "text": [
            " 25%|██▍       | 520/2108 [04:56<15:54,  1.66it/s]"
          ]
        },
        {
          "name": "stdout",
          "output_type": "stream",
          "text": [
            "\n",
            "0: 640x640 2 marmosets, 4.2ms\n",
            "Speed: 1.5ms preprocess, 4.2ms inference, 0.8ms postprocess per image at shape (1, 3, 640, 640)\n"
          ]
        },
        {
          "name": "stderr",
          "output_type": "stream",
          "text": [
            " 25%|██▍       | 521/2108 [04:57<15:50,  1.67it/s]"
          ]
        },
        {
          "name": "stdout",
          "output_type": "stream",
          "text": [
            "\n",
            "0: 640x640 2 marmosets, 4.1ms\n",
            "Speed: 1.4ms preprocess, 4.1ms inference, 0.8ms postprocess per image at shape (1, 3, 640, 640)\n"
          ]
        },
        {
          "name": "stderr",
          "output_type": "stream",
          "text": [
            " 25%|██▍       | 522/2108 [04:57<15:38,  1.69it/s]"
          ]
        },
        {
          "name": "stdout",
          "output_type": "stream",
          "text": [
            "\n",
            "0: 640x640 1 marmoset, 4.1ms\n",
            "Speed: 1.5ms preprocess, 4.1ms inference, 0.8ms postprocess per image at shape (1, 3, 640, 640)\n"
          ]
        },
        {
          "name": "stderr",
          "output_type": "stream",
          "text": [
            " 25%|██▍       | 523/2108 [04:58<15:50,  1.67it/s]"
          ]
        },
        {
          "name": "stdout",
          "output_type": "stream",
          "text": [
            "\n",
            "0: 640x640 1 marmoset, 4.2ms\n",
            "Speed: 1.5ms preprocess, 4.2ms inference, 0.8ms postprocess per image at shape (1, 3, 640, 640)\n"
          ]
        },
        {
          "name": "stderr",
          "output_type": "stream",
          "text": [
            " 25%|██▍       | 524/2108 [04:59<16:04,  1.64it/s]"
          ]
        },
        {
          "name": "stdout",
          "output_type": "stream",
          "text": [
            "\n",
            "0: 640x640 2 marmosets, 4.2ms\n",
            "Speed: 1.5ms preprocess, 4.2ms inference, 0.8ms postprocess per image at shape (1, 3, 640, 640)\n"
          ]
        },
        {
          "name": "stderr",
          "output_type": "stream",
          "text": [
            " 25%|██▍       | 525/2108 [04:59<16:06,  1.64it/s]"
          ]
        },
        {
          "name": "stdout",
          "output_type": "stream",
          "text": [
            "\n",
            "0: 640x640 1 marmoset, 4.2ms\n",
            "Speed: 1.5ms preprocess, 4.2ms inference, 0.8ms postprocess per image at shape (1, 3, 640, 640)\n"
          ]
        },
        {
          "name": "stderr",
          "output_type": "stream",
          "text": [
            " 25%|██▍       | 526/2108 [05:00<15:48,  1.67it/s]"
          ]
        },
        {
          "name": "stdout",
          "output_type": "stream",
          "text": [
            "\n",
            "0: 640x640 2 marmosets, 4.2ms\n",
            "Speed: 1.4ms preprocess, 4.2ms inference, 0.8ms postprocess per image at shape (1, 3, 640, 640)\n"
          ]
        },
        {
          "name": "stderr",
          "output_type": "stream",
          "text": [
            " 25%|██▌       | 527/2108 [05:00<15:38,  1.69it/s]"
          ]
        },
        {
          "name": "stdout",
          "output_type": "stream",
          "text": [
            "\n",
            "0: 640x640 1 marmoset, 4.2ms\n",
            "Speed: 1.5ms preprocess, 4.2ms inference, 0.8ms postprocess per image at shape (1, 3, 640, 640)\n"
          ]
        },
        {
          "name": "stderr",
          "output_type": "stream",
          "text": [
            " 25%|██▌       | 528/2108 [05:01<15:32,  1.69it/s]"
          ]
        },
        {
          "name": "stdout",
          "output_type": "stream",
          "text": [
            "\n",
            "0: 640x640 1 marmoset, 4.2ms\n",
            "Speed: 1.5ms preprocess, 4.2ms inference, 0.8ms postprocess per image at shape (1, 3, 640, 640)\n"
          ]
        },
        {
          "name": "stderr",
          "output_type": "stream",
          "text": [
            " 25%|██▌       | 529/2108 [05:02<15:42,  1.68it/s]"
          ]
        },
        {
          "name": "stdout",
          "output_type": "stream",
          "text": [
            "\n",
            "0: 640x640 1 marmoset, 4.2ms\n",
            "Speed: 1.5ms preprocess, 4.2ms inference, 0.8ms postprocess per image at shape (1, 3, 640, 640)\n"
          ]
        },
        {
          "name": "stderr",
          "output_type": "stream",
          "text": [
            " 25%|██▌       | 530/2108 [05:02<15:49,  1.66it/s]"
          ]
        },
        {
          "name": "stdout",
          "output_type": "stream",
          "text": [
            "\n",
            "0: 640x640 2 marmosets, 4.1ms\n",
            "Speed: 1.5ms preprocess, 4.1ms inference, 0.7ms postprocess per image at shape (1, 3, 640, 640)\n"
          ]
        },
        {
          "name": "stderr",
          "output_type": "stream",
          "text": [
            " 25%|██▌       | 531/2108 [05:03<16:00,  1.64it/s]"
          ]
        },
        {
          "name": "stdout",
          "output_type": "stream",
          "text": [
            "\n",
            "0: 640x640 2 marmosets, 4.2ms\n",
            "Speed: 1.4ms preprocess, 4.2ms inference, 0.8ms postprocess per image at shape (1, 3, 640, 640)\n"
          ]
        },
        {
          "name": "stderr",
          "output_type": "stream",
          "text": [
            " 25%|██▌       | 532/2108 [05:03<16:02,  1.64it/s]"
          ]
        },
        {
          "name": "stdout",
          "output_type": "stream",
          "text": [
            "\n",
            "0: 640x640 2 marmosets, 4.1ms\n",
            "Speed: 1.4ms preprocess, 4.1ms inference, 0.7ms postprocess per image at shape (1, 3, 640, 640)\n"
          ]
        },
        {
          "name": "stderr",
          "output_type": "stream",
          "text": [
            " 25%|██▌       | 533/2108 [05:04<16:04,  1.63it/s]"
          ]
        },
        {
          "name": "stdout",
          "output_type": "stream",
          "text": [
            "\n",
            "0: 640x640 2 marmosets, 4.1ms\n",
            "Speed: 1.4ms preprocess, 4.1ms inference, 0.8ms postprocess per image at shape (1, 3, 640, 640)\n"
          ]
        },
        {
          "name": "stderr",
          "output_type": "stream",
          "text": [
            " 25%|██▌       | 534/2108 [05:05<16:03,  1.63it/s]"
          ]
        },
        {
          "name": "stdout",
          "output_type": "stream",
          "text": [
            "\n",
            "0: 640x640 1 marmoset, 4.1ms\n",
            "Speed: 1.5ms preprocess, 4.1ms inference, 0.8ms postprocess per image at shape (1, 3, 640, 640)\n"
          ]
        },
        {
          "name": "stderr",
          "output_type": "stream",
          "text": [
            " 25%|██▌       | 535/2108 [05:05<16:04,  1.63it/s]"
          ]
        },
        {
          "name": "stdout",
          "output_type": "stream",
          "text": [
            "\n",
            "0: 640x640 1 marmoset, 4.2ms\n",
            "Speed: 1.5ms preprocess, 4.2ms inference, 0.8ms postprocess per image at shape (1, 3, 640, 640)\n"
          ]
        },
        {
          "name": "stderr",
          "output_type": "stream",
          "text": [
            " 25%|██▌       | 536/2108 [05:06<16:04,  1.63it/s]"
          ]
        },
        {
          "name": "stdout",
          "output_type": "stream",
          "text": [
            "\n",
            "0: 480x640 1 marmoset, 4.5ms\n",
            "Speed: 1.1ms preprocess, 4.5ms inference, 0.8ms postprocess per image at shape (1, 3, 480, 640)\n"
          ]
        },
        {
          "name": "stderr",
          "output_type": "stream",
          "text": [
            " 25%|██▌       | 537/2108 [05:06<15:48,  1.66it/s]"
          ]
        },
        {
          "name": "stdout",
          "output_type": "stream",
          "text": [
            "\n",
            "0: 640x640 1 marmoset, 4.4ms\n",
            "Speed: 1.5ms preprocess, 4.4ms inference, 0.7ms postprocess per image at shape (1, 3, 640, 640)\n"
          ]
        },
        {
          "name": "stderr",
          "output_type": "stream",
          "text": [
            " 26%|██▌       | 538/2108 [05:07<15:43,  1.66it/s]"
          ]
        },
        {
          "name": "stdout",
          "output_type": "stream",
          "text": [
            "\n",
            "0: 640x640 1 marmoset, 4.1ms\n",
            "Speed: 1.5ms preprocess, 4.1ms inference, 0.8ms postprocess per image at shape (1, 3, 640, 640)\n"
          ]
        },
        {
          "name": "stderr",
          "output_type": "stream",
          "text": [
            " 26%|██▌       | 539/2108 [05:08<15:27,  1.69it/s]"
          ]
        },
        {
          "name": "stdout",
          "output_type": "stream",
          "text": [
            "\n",
            "0: 640x640 1 marmoset, 4.1ms\n",
            "Speed: 1.5ms preprocess, 4.1ms inference, 0.8ms postprocess per image at shape (1, 3, 640, 640)\n"
          ]
        },
        {
          "name": "stderr",
          "output_type": "stream",
          "text": [
            " 26%|██▌       | 540/2108 [05:08<15:25,  1.69it/s]"
          ]
        },
        {
          "name": "stdout",
          "output_type": "stream",
          "text": [
            "\n",
            "0: 640x640 2 marmosets, 4.2ms\n",
            "Speed: 1.4ms preprocess, 4.2ms inference, 0.8ms postprocess per image at shape (1, 3, 640, 640)\n"
          ]
        },
        {
          "name": "stderr",
          "output_type": "stream",
          "text": [
            " 26%|██▌       | 541/2108 [05:09<15:29,  1.69it/s]"
          ]
        },
        {
          "name": "stdout",
          "output_type": "stream",
          "text": [
            "\n",
            "0: 640x640 1 marmoset, 4.1ms\n",
            "Speed: 1.5ms preprocess, 4.1ms inference, 0.8ms postprocess per image at shape (1, 3, 640, 640)\n"
          ]
        },
        {
          "name": "stderr",
          "output_type": "stream",
          "text": [
            " 26%|██▌       | 542/2108 [05:09<15:31,  1.68it/s]"
          ]
        },
        {
          "name": "stdout",
          "output_type": "stream",
          "text": [
            "\n",
            "0: 640x640 1 marmoset, 4.2ms\n",
            "Speed: 1.5ms preprocess, 4.2ms inference, 0.8ms postprocess per image at shape (1, 3, 640, 640)\n"
          ]
        },
        {
          "name": "stderr",
          "output_type": "stream",
          "text": [
            " 26%|██▌       | 543/2108 [05:10<15:33,  1.68it/s]"
          ]
        },
        {
          "name": "stdout",
          "output_type": "stream",
          "text": [
            "\n",
            "0: 640x640 2 marmosets, 4.2ms\n",
            "Speed: 1.4ms preprocess, 4.2ms inference, 0.8ms postprocess per image at shape (1, 3, 640, 640)\n"
          ]
        },
        {
          "name": "stderr",
          "output_type": "stream",
          "text": [
            " 26%|██▌       | 544/2108 [05:11<15:34,  1.67it/s]"
          ]
        },
        {
          "name": "stdout",
          "output_type": "stream",
          "text": [
            "\n",
            "0: 640x640 1 marmoset, 4.2ms\n",
            "Speed: 1.5ms preprocess, 4.2ms inference, 0.7ms postprocess per image at shape (1, 3, 640, 640)\n"
          ]
        },
        {
          "name": "stderr",
          "output_type": "stream",
          "text": [
            " 26%|██▌       | 545/2108 [05:11<15:33,  1.67it/s]"
          ]
        },
        {
          "name": "stdout",
          "output_type": "stream",
          "text": [
            "\n",
            "0: 640x640 1 marmoset, 4.2ms\n",
            "Speed: 1.5ms preprocess, 4.2ms inference, 0.8ms postprocess per image at shape (1, 3, 640, 640)\n"
          ]
        },
        {
          "name": "stderr",
          "output_type": "stream",
          "text": [
            " 26%|██▌       | 546/2108 [05:12<15:34,  1.67it/s]"
          ]
        },
        {
          "name": "stdout",
          "output_type": "stream",
          "text": [
            "\n",
            "0: 640x640 1 marmoset, 4.2ms\n",
            "Speed: 1.5ms preprocess, 4.2ms inference, 0.8ms postprocess per image at shape (1, 3, 640, 640)\n"
          ]
        },
        {
          "name": "stderr",
          "output_type": "stream",
          "text": [
            " 26%|██▌       | 547/2108 [05:12<15:34,  1.67it/s]"
          ]
        },
        {
          "name": "stdout",
          "output_type": "stream",
          "text": [
            "\n",
            "0: 640x640 1 marmoset, 4.1ms\n",
            "Speed: 1.4ms preprocess, 4.1ms inference, 0.8ms postprocess per image at shape (1, 3, 640, 640)\n"
          ]
        },
        {
          "name": "stderr",
          "output_type": "stream",
          "text": [
            " 26%|██▌       | 548/2108 [05:13<15:32,  1.67it/s]"
          ]
        },
        {
          "name": "stdout",
          "output_type": "stream",
          "text": [
            "\n",
            "0: 640x640 1 marmoset, 4.1ms\n",
            "Speed: 1.5ms preprocess, 4.1ms inference, 0.8ms postprocess per image at shape (1, 3, 640, 640)\n"
          ]
        },
        {
          "name": "stderr",
          "output_type": "stream",
          "text": [
            " 26%|██▌       | 549/2108 [05:14<15:31,  1.67it/s]"
          ]
        },
        {
          "name": "stdout",
          "output_type": "stream",
          "text": [
            "\n",
            "0: 640x640 1 marmoset, 4.1ms\n",
            "Speed: 1.5ms preprocess, 4.1ms inference, 0.7ms postprocess per image at shape (1, 3, 640, 640)\n"
          ]
        },
        {
          "name": "stderr",
          "output_type": "stream",
          "text": [
            " 26%|██▌       | 550/2108 [05:14<15:30,  1.67it/s]"
          ]
        },
        {
          "name": "stdout",
          "output_type": "stream",
          "text": [
            "\n",
            "0: 640x640 1 marmoset, 4.1ms\n",
            "Speed: 1.5ms preprocess, 4.1ms inference, 0.8ms postprocess per image at shape (1, 3, 640, 640)\n"
          ]
        },
        {
          "name": "stderr",
          "output_type": "stream",
          "text": [
            " 26%|██▌       | 551/2108 [05:15<15:19,  1.69it/s]"
          ]
        },
        {
          "name": "stdout",
          "output_type": "stream",
          "text": [
            "\n",
            "0: 640x640 1 marmoset, 4.1ms\n",
            "Speed: 1.5ms preprocess, 4.1ms inference, 0.7ms postprocess per image at shape (1, 3, 640, 640)\n"
          ]
        },
        {
          "name": "stderr",
          "output_type": "stream",
          "text": [
            " 26%|██▌       | 552/2108 [05:15<15:32,  1.67it/s]"
          ]
        },
        {
          "name": "stdout",
          "output_type": "stream",
          "text": [
            "\n",
            "0: 640x640 2 marmosets, 4.1ms\n",
            "Speed: 1.5ms preprocess, 4.1ms inference, 0.7ms postprocess per image at shape (1, 3, 640, 640)\n"
          ]
        },
        {
          "name": "stderr",
          "output_type": "stream",
          "text": [
            " 26%|██▌       | 553/2108 [05:16<15:46,  1.64it/s]"
          ]
        },
        {
          "name": "stdout",
          "output_type": "stream",
          "text": [
            "\n",
            "0: 640x640 1 marmoset, 4.2ms\n",
            "Speed: 1.5ms preprocess, 4.2ms inference, 0.8ms postprocess per image at shape (1, 3, 640, 640)\n"
          ]
        },
        {
          "name": "stderr",
          "output_type": "stream",
          "text": [
            " 26%|██▋       | 554/2108 [05:17<15:28,  1.67it/s]"
          ]
        },
        {
          "name": "stdout",
          "output_type": "stream",
          "text": [
            "\n",
            "0: 640x640 1 marmoset, 4.1ms\n",
            "Speed: 1.5ms preprocess, 4.1ms inference, 0.7ms postprocess per image at shape (1, 3, 640, 640)\n"
          ]
        },
        {
          "name": "stderr",
          "output_type": "stream",
          "text": [
            " 26%|██▋       | 555/2108 [05:17<15:19,  1.69it/s]"
          ]
        },
        {
          "name": "stdout",
          "output_type": "stream",
          "text": [
            "\n",
            "0: 480x640 1 marmoset, 4.5ms\n",
            "Speed: 1.1ms preprocess, 4.5ms inference, 0.8ms postprocess per image at shape (1, 3, 480, 640)\n"
          ]
        },
        {
          "name": "stderr",
          "output_type": "stream",
          "text": [
            " 26%|██▋       | 556/2108 [05:18<15:24,  1.68it/s]"
          ]
        },
        {
          "name": "stdout",
          "output_type": "stream",
          "text": [
            "\n",
            "0: 640x640 1 marmoset, 4.4ms\n",
            "Speed: 1.5ms preprocess, 4.4ms inference, 0.7ms postprocess per image at shape (1, 3, 640, 640)\n"
          ]
        },
        {
          "name": "stderr",
          "output_type": "stream",
          "text": [
            " 26%|██▋       | 557/2108 [05:18<15:35,  1.66it/s]"
          ]
        },
        {
          "name": "stdout",
          "output_type": "stream",
          "text": [
            "\n",
            "0: 640x640 1 marmoset, 4.2ms\n",
            "Speed: 1.5ms preprocess, 4.2ms inference, 0.8ms postprocess per image at shape (1, 3, 640, 640)\n"
          ]
        },
        {
          "name": "stderr",
          "output_type": "stream",
          "text": [
            " 26%|██▋       | 558/2108 [05:19<15:40,  1.65it/s]"
          ]
        },
        {
          "name": "stdout",
          "output_type": "stream",
          "text": [
            "\n",
            "0: 640x640 2 marmosets, 4.2ms\n",
            "Speed: 1.5ms preprocess, 4.2ms inference, 0.8ms postprocess per image at shape (1, 3, 640, 640)\n"
          ]
        },
        {
          "name": "stderr",
          "output_type": "stream",
          "text": [
            " 27%|██▋       | 559/2108 [05:20<15:43,  1.64it/s]"
          ]
        },
        {
          "name": "stdout",
          "output_type": "stream",
          "text": [
            "\n",
            "0: 640x640 2 marmosets, 4.1ms\n",
            "Speed: 1.4ms preprocess, 4.1ms inference, 0.7ms postprocess per image at shape (1, 3, 640, 640)\n"
          ]
        },
        {
          "name": "stderr",
          "output_type": "stream",
          "text": [
            " 27%|██▋       | 560/2108 [05:20<15:47,  1.63it/s]"
          ]
        },
        {
          "name": "stdout",
          "output_type": "stream",
          "text": [
            "\n",
            "0: 640x640 2 marmosets, 4.1ms\n",
            "Speed: 1.5ms preprocess, 4.1ms inference, 0.8ms postprocess per image at shape (1, 3, 640, 640)\n"
          ]
        },
        {
          "name": "stderr",
          "output_type": "stream",
          "text": [
            " 27%|██▋       | 561/2108 [05:21<15:44,  1.64it/s]"
          ]
        },
        {
          "name": "stdout",
          "output_type": "stream",
          "text": [
            "\n",
            "0: 640x640 2 marmosets, 4.2ms\n",
            "Speed: 1.4ms preprocess, 4.2ms inference, 0.8ms postprocess per image at shape (1, 3, 640, 640)\n"
          ]
        },
        {
          "name": "stderr",
          "output_type": "stream",
          "text": [
            " 27%|██▋       | 562/2108 [05:21<15:37,  1.65it/s]"
          ]
        },
        {
          "name": "stdout",
          "output_type": "stream",
          "text": [
            "\n",
            "0: 640x640 1 marmoset, 4.1ms\n",
            "Speed: 1.5ms preprocess, 4.1ms inference, 0.8ms postprocess per image at shape (1, 3, 640, 640)\n"
          ]
        },
        {
          "name": "stderr",
          "output_type": "stream",
          "text": [
            " 27%|██▋       | 563/2108 [05:22<15:28,  1.66it/s]"
          ]
        },
        {
          "name": "stdout",
          "output_type": "stream",
          "text": [
            "\n",
            "0: 640x640 1 marmoset, 4.2ms\n",
            "Speed: 1.5ms preprocess, 4.2ms inference, 0.8ms postprocess per image at shape (1, 3, 640, 640)\n"
          ]
        },
        {
          "name": "stderr",
          "output_type": "stream",
          "text": [
            " 27%|██▋       | 564/2108 [05:23<15:24,  1.67it/s]"
          ]
        },
        {
          "name": "stdout",
          "output_type": "stream",
          "text": [
            "\n",
            "0: 640x640 2 marmosets, 4.2ms\n",
            "Speed: 1.4ms preprocess, 4.2ms inference, 0.8ms postprocess per image at shape (1, 3, 640, 640)\n"
          ]
        },
        {
          "name": "stderr",
          "output_type": "stream",
          "text": [
            " 27%|██▋       | 565/2108 [05:23<15:23,  1.67it/s]"
          ]
        },
        {
          "name": "stdout",
          "output_type": "stream",
          "text": [
            "\n",
            "0: 640x640 1 marmoset, 4.1ms\n",
            "Speed: 1.5ms preprocess, 4.1ms inference, 0.7ms postprocess per image at shape (1, 3, 640, 640)\n"
          ]
        },
        {
          "name": "stderr",
          "output_type": "stream",
          "text": [
            " 27%|██▋       | 566/2108 [05:24<15:23,  1.67it/s]"
          ]
        },
        {
          "name": "stdout",
          "output_type": "stream",
          "text": [
            "\n",
            "0: 480x640 1 marmoset, 4.5ms\n",
            "Speed: 1.1ms preprocess, 4.5ms inference, 0.8ms postprocess per image at shape (1, 3, 480, 640)\n"
          ]
        },
        {
          "name": "stderr",
          "output_type": "stream",
          "text": [
            " 27%|██▋       | 567/2108 [05:24<15:39,  1.64it/s]"
          ]
        },
        {
          "name": "stdout",
          "output_type": "stream",
          "text": [
            "\n",
            "0: 640x640 1 marmoset, 4.4ms\n",
            "Speed: 1.5ms preprocess, 4.4ms inference, 0.7ms postprocess per image at shape (1, 3, 640, 640)\n"
          ]
        },
        {
          "name": "stderr",
          "output_type": "stream",
          "text": [
            " 27%|██▋       | 568/2108 [05:25<15:41,  1.64it/s]"
          ]
        },
        {
          "name": "stdout",
          "output_type": "stream",
          "text": [
            "\n",
            "0: 640x640 1 marmoset, 4.1ms\n",
            "Speed: 1.5ms preprocess, 4.1ms inference, 0.8ms postprocess per image at shape (1, 3, 640, 640)\n"
          ]
        },
        {
          "name": "stderr",
          "output_type": "stream",
          "text": [
            " 27%|██▋       | 569/2108 [05:26<15:34,  1.65it/s]"
          ]
        },
        {
          "name": "stdout",
          "output_type": "stream",
          "text": [
            "\n",
            "0: 640x640 1 marmoset, 4.1ms\n",
            "Speed: 1.5ms preprocess, 4.1ms inference, 0.7ms postprocess per image at shape (1, 3, 640, 640)\n"
          ]
        },
        {
          "name": "stderr",
          "output_type": "stream",
          "text": [
            " 27%|██▋       | 570/2108 [05:26<15:23,  1.66it/s]"
          ]
        },
        {
          "name": "stdout",
          "output_type": "stream",
          "text": [
            "\n",
            "0: 640x640 1 marmoset, 4.2ms\n",
            "Speed: 1.5ms preprocess, 4.2ms inference, 0.8ms postprocess per image at shape (1, 3, 640, 640)\n"
          ]
        },
        {
          "name": "stderr",
          "output_type": "stream",
          "text": [
            " 27%|██▋       | 571/2108 [05:27<15:06,  1.70it/s]"
          ]
        },
        {
          "name": "stdout",
          "output_type": "stream",
          "text": [
            "\n",
            "0: 640x640 1 marmoset, 4.1ms\n",
            "Speed: 1.5ms preprocess, 4.1ms inference, 0.8ms postprocess per image at shape (1, 3, 640, 640)\n"
          ]
        },
        {
          "name": "stderr",
          "output_type": "stream",
          "text": [
            " 27%|██▋       | 572/2108 [05:27<15:23,  1.66it/s]"
          ]
        },
        {
          "name": "stdout",
          "output_type": "stream",
          "text": [
            "\n",
            "0: 640x640 1 marmoset, 4.1ms\n",
            "Speed: 1.5ms preprocess, 4.1ms inference, 0.8ms postprocess per image at shape (1, 3, 640, 640)\n"
          ]
        },
        {
          "name": "stderr",
          "output_type": "stream",
          "text": [
            " 27%|██▋       | 573/2108 [05:28<15:26,  1.66it/s]"
          ]
        },
        {
          "name": "stdout",
          "output_type": "stream",
          "text": [
            "\n",
            "0: 640x640 1 marmoset, 4.2ms\n",
            "Speed: 1.4ms preprocess, 4.2ms inference, 0.8ms postprocess per image at shape (1, 3, 640, 640)\n"
          ]
        },
        {
          "name": "stderr",
          "output_type": "stream",
          "text": [
            " 27%|██▋       | 574/2108 [05:29<15:23,  1.66it/s]"
          ]
        },
        {
          "name": "stdout",
          "output_type": "stream",
          "text": [
            "\n",
            "0: 640x640 1 marmoset, 4.1ms\n",
            "Speed: 1.5ms preprocess, 4.1ms inference, 0.8ms postprocess per image at shape (1, 3, 640, 640)\n"
          ]
        },
        {
          "name": "stderr",
          "output_type": "stream",
          "text": [
            " 27%|██▋       | 575/2108 [05:29<15:21,  1.66it/s]"
          ]
        },
        {
          "name": "stdout",
          "output_type": "stream",
          "text": [
            "\n",
            "0: 480x640 1 marmoset, 4.5ms\n",
            "Speed: 1.1ms preprocess, 4.5ms inference, 0.7ms postprocess per image at shape (1, 3, 480, 640)\n"
          ]
        },
        {
          "name": "stderr",
          "output_type": "stream",
          "text": [
            " 27%|██▋       | 576/2108 [05:30<15:13,  1.68it/s]"
          ]
        },
        {
          "name": "stdout",
          "output_type": "stream",
          "text": [
            "\n",
            "0: 640x640 1 marmoset, 4.4ms\n",
            "Speed: 1.5ms preprocess, 4.4ms inference, 0.7ms postprocess per image at shape (1, 3, 640, 640)\n"
          ]
        },
        {
          "name": "stderr",
          "output_type": "stream",
          "text": [
            " 27%|██▋       | 577/2108 [05:30<15:15,  1.67it/s]"
          ]
        },
        {
          "name": "stdout",
          "output_type": "stream",
          "text": [
            "\n",
            "0: 640x640 2 marmosets, 4.4ms\n",
            "Speed: 1.4ms preprocess, 4.4ms inference, 0.8ms postprocess per image at shape (1, 3, 640, 640)\n"
          ]
        },
        {
          "name": "stderr",
          "output_type": "stream",
          "text": [
            " 27%|██▋       | 578/2108 [05:31<15:15,  1.67it/s]"
          ]
        },
        {
          "name": "stdout",
          "output_type": "stream",
          "text": [
            "\n",
            "0: 640x640 1 marmoset, 4.1ms\n",
            "Speed: 1.5ms preprocess, 4.1ms inference, 0.8ms postprocess per image at shape (1, 3, 640, 640)\n"
          ]
        },
        {
          "name": "stderr",
          "output_type": "stream",
          "text": [
            " 27%|██▋       | 579/2108 [05:32<15:13,  1.67it/s]"
          ]
        },
        {
          "name": "stdout",
          "output_type": "stream",
          "text": [
            "\n",
            "0: 640x640 1 marmoset, 4.1ms\n",
            "Speed: 1.5ms preprocess, 4.1ms inference, 0.7ms postprocess per image at shape (1, 3, 640, 640)\n"
          ]
        },
        {
          "name": "stderr",
          "output_type": "stream",
          "text": [
            " 28%|██▊       | 580/2108 [05:32<15:11,  1.68it/s]"
          ]
        },
        {
          "name": "stdout",
          "output_type": "stream",
          "text": [
            "\n",
            "0: 640x640 1 marmoset, 4.1ms\n",
            "Speed: 1.5ms preprocess, 4.1ms inference, 0.7ms postprocess per image at shape (1, 3, 640, 640)\n"
          ]
        },
        {
          "name": "stderr",
          "output_type": "stream",
          "text": [
            " 28%|██▊       | 581/2108 [05:33<15:11,  1.67it/s]"
          ]
        },
        {
          "name": "stdout",
          "output_type": "stream",
          "text": [
            "\n",
            "0: 640x640 2 marmosets, 4.1ms\n",
            "Speed: 1.5ms preprocess, 4.1ms inference, 0.8ms postprocess per image at shape (1, 3, 640, 640)\n"
          ]
        },
        {
          "name": "stderr",
          "output_type": "stream",
          "text": [
            " 28%|██▊       | 582/2108 [05:33<15:10,  1.68it/s]"
          ]
        },
        {
          "name": "stdout",
          "output_type": "stream",
          "text": [
            "\n",
            "0: 640x640 1 marmoset, 4.2ms\n",
            "Speed: 1.5ms preprocess, 4.2ms inference, 0.8ms postprocess per image at shape (1, 3, 640, 640)\n"
          ]
        },
        {
          "name": "stderr",
          "output_type": "stream",
          "text": [
            " 28%|██▊       | 583/2108 [05:34<14:58,  1.70it/s]"
          ]
        },
        {
          "name": "stdout",
          "output_type": "stream",
          "text": [
            "\n",
            "0: 640x640 1 marmoset, 4.1ms\n",
            "Speed: 1.5ms preprocess, 4.1ms inference, 0.7ms postprocess per image at shape (1, 3, 640, 640)\n"
          ]
        },
        {
          "name": "stderr",
          "output_type": "stream",
          "text": [
            " 28%|██▊       | 584/2108 [05:35<15:28,  1.64it/s]"
          ]
        },
        {
          "name": "stdout",
          "output_type": "stream",
          "text": [
            "\n",
            "0: 640x640 1 marmoset, 4.1ms\n",
            "Speed: 1.5ms preprocess, 4.1ms inference, 0.7ms postprocess per image at shape (1, 3, 640, 640)\n"
          ]
        },
        {
          "name": "stderr",
          "output_type": "stream",
          "text": [
            " 28%|██▊       | 585/2108 [05:35<15:29,  1.64it/s]"
          ]
        },
        {
          "name": "stdout",
          "output_type": "stream",
          "text": [
            "\n",
            "0: 640x640 1 marmoset, 4.1ms\n",
            "Speed: 1.5ms preprocess, 4.1ms inference, 0.8ms postprocess per image at shape (1, 3, 640, 640)\n"
          ]
        },
        {
          "name": "stderr",
          "output_type": "stream",
          "text": [
            " 28%|██▊       | 586/2108 [05:36<15:17,  1.66it/s]"
          ]
        },
        {
          "name": "stdout",
          "output_type": "stream",
          "text": [
            "\n",
            "0: 640x640 1 marmoset, 4.1ms\n",
            "Speed: 1.5ms preprocess, 4.1ms inference, 0.7ms postprocess per image at shape (1, 3, 640, 640)\n"
          ]
        },
        {
          "name": "stderr",
          "output_type": "stream",
          "text": [
            " 28%|██▊       | 587/2108 [05:36<15:29,  1.64it/s]"
          ]
        },
        {
          "name": "stdout",
          "output_type": "stream",
          "text": [
            "\n",
            "0: 640x640 (no detections), 4.1ms\n",
            "Speed: 1.5ms preprocess, 4.1ms inference, 0.3ms postprocess per image at shape (1, 3, 640, 640)\n",
            "\n",
            "0: 640x640 1 marmoset, 3.9ms\n",
            "Speed: 1.5ms preprocess, 3.9ms inference, 0.7ms postprocess per image at shape (1, 3, 640, 640)\n"
          ]
        },
        {
          "name": "stderr",
          "output_type": "stream",
          "text": [
            " 28%|██▊       | 589/2108 [05:37<12:04,  2.10it/s]"
          ]
        },
        {
          "name": "stdout",
          "output_type": "stream",
          "text": [
            "\n",
            "0: 640x640 1 marmoset, 4.1ms\n",
            "Speed: 1.5ms preprocess, 4.1ms inference, 0.7ms postprocess per image at shape (1, 3, 640, 640)\n"
          ]
        },
        {
          "name": "stderr",
          "output_type": "stream",
          "text": [
            " 28%|██▊       | 590/2108 [05:38<12:43,  1.99it/s]"
          ]
        },
        {
          "name": "stdout",
          "output_type": "stream",
          "text": [
            "\n",
            "0: 640x640 1 marmoset, 4.1ms\n",
            "Speed: 1.4ms preprocess, 4.1ms inference, 0.8ms postprocess per image at shape (1, 3, 640, 640)\n"
          ]
        },
        {
          "name": "stderr",
          "output_type": "stream",
          "text": [
            " 28%|██▊       | 591/2108 [05:38<13:18,  1.90it/s]"
          ]
        },
        {
          "name": "stdout",
          "output_type": "stream",
          "text": [
            "\n",
            "0: 640x640 1 marmoset, 4.2ms\n",
            "Speed: 1.5ms preprocess, 4.2ms inference, 0.8ms postprocess per image at shape (1, 3, 640, 640)\n"
          ]
        },
        {
          "name": "stderr",
          "output_type": "stream",
          "text": [
            " 28%|██▊       | 592/2108 [05:39<13:51,  1.82it/s]"
          ]
        },
        {
          "name": "stdout",
          "output_type": "stream",
          "text": [
            "\n",
            "0: 640x640 2 marmosets, 4.2ms\n",
            "Speed: 1.4ms preprocess, 4.2ms inference, 0.8ms postprocess per image at shape (1, 3, 640, 640)\n"
          ]
        },
        {
          "name": "stderr",
          "output_type": "stream",
          "text": [
            " 28%|██▊       | 593/2108 [05:39<14:18,  1.77it/s]"
          ]
        },
        {
          "name": "stdout",
          "output_type": "stream",
          "text": [
            "\n",
            "0: 480x640 1 marmoset, 4.5ms\n",
            "Speed: 1.1ms preprocess, 4.5ms inference, 0.7ms postprocess per image at shape (1, 3, 480, 640)\n"
          ]
        },
        {
          "name": "stderr",
          "output_type": "stream",
          "text": [
            " 28%|██▊       | 594/2108 [05:40<14:31,  1.74it/s]"
          ]
        },
        {
          "name": "stdout",
          "output_type": "stream",
          "text": [
            "\n",
            "0: 640x640 1 marmoset, 4.6ms\n",
            "Speed: 1.5ms preprocess, 4.6ms inference, 0.8ms postprocess per image at shape (1, 3, 640, 640)\n"
          ]
        },
        {
          "name": "stderr",
          "output_type": "stream",
          "text": [
            " 28%|██▊       | 595/2108 [05:41<14:45,  1.71it/s]"
          ]
        },
        {
          "name": "stdout",
          "output_type": "stream",
          "text": [
            "\n",
            "0: 640x640 2 marmosets, 4.2ms\n",
            "Speed: 1.4ms preprocess, 4.2ms inference, 0.8ms postprocess per image at shape (1, 3, 640, 640)\n"
          ]
        },
        {
          "name": "stderr",
          "output_type": "stream",
          "text": [
            " 28%|██▊       | 596/2108 [05:41<14:56,  1.69it/s]"
          ]
        },
        {
          "name": "stdout",
          "output_type": "stream",
          "text": [
            "\n",
            "0: 640x640 2 marmosets, 4.1ms\n",
            "Speed: 1.4ms preprocess, 4.1ms inference, 0.8ms postprocess per image at shape (1, 3, 640, 640)\n"
          ]
        },
        {
          "name": "stderr",
          "output_type": "stream",
          "text": [
            " 28%|██▊       | 597/2108 [05:42<15:03,  1.67it/s]"
          ]
        },
        {
          "name": "stdout",
          "output_type": "stream",
          "text": [
            "\n",
            "0: 640x640 2 marmosets, 4.2ms\n",
            "Speed: 1.6ms preprocess, 4.2ms inference, 0.8ms postprocess per image at shape (1, 3, 640, 640)\n"
          ]
        },
        {
          "name": "stderr",
          "output_type": "stream",
          "text": [
            " 28%|██▊       | 598/2108 [05:43<15:16,  1.65it/s]"
          ]
        },
        {
          "name": "stdout",
          "output_type": "stream",
          "text": [
            "\n",
            "0: 640x640 1 marmoset, 4.2ms\n",
            "Speed: 1.5ms preprocess, 4.2ms inference, 0.8ms postprocess per image at shape (1, 3, 640, 640)\n"
          ]
        },
        {
          "name": "stderr",
          "output_type": "stream",
          "text": [
            " 28%|██▊       | 599/2108 [05:43<15:14,  1.65it/s]"
          ]
        },
        {
          "name": "stdout",
          "output_type": "stream",
          "text": [
            "\n",
            "0: 640x640 1 marmoset, 4.2ms\n",
            "Speed: 1.5ms preprocess, 4.2ms inference, 0.8ms postprocess per image at shape (1, 3, 640, 640)\n"
          ]
        },
        {
          "name": "stderr",
          "output_type": "stream",
          "text": [
            " 28%|██▊       | 600/2108 [05:44<15:14,  1.65it/s]"
          ]
        },
        {
          "name": "stdout",
          "output_type": "stream",
          "text": [
            "\n",
            "0: 640x640 1 marmoset, 4.1ms\n",
            "Speed: 1.5ms preprocess, 4.1ms inference, 0.8ms postprocess per image at shape (1, 3, 640, 640)\n"
          ]
        },
        {
          "name": "stderr",
          "output_type": "stream",
          "text": [
            " 29%|██▊       | 601/2108 [05:44<15:14,  1.65it/s]"
          ]
        },
        {
          "name": "stdout",
          "output_type": "stream",
          "text": [
            "\n",
            "0: 480x640 1 marmoset, 4.7ms\n",
            "Speed: 1.1ms preprocess, 4.7ms inference, 0.8ms postprocess per image at shape (1, 3, 480, 640)\n"
          ]
        },
        {
          "name": "stderr",
          "output_type": "stream",
          "text": [
            " 29%|██▊       | 602/2108 [05:45<15:11,  1.65it/s]"
          ]
        },
        {
          "name": "stdout",
          "output_type": "stream",
          "text": [
            "\n",
            "0: 640x640 2 marmosets, 4.4ms\n",
            "Speed: 1.4ms preprocess, 4.4ms inference, 0.7ms postprocess per image at shape (1, 3, 640, 640)\n"
          ]
        },
        {
          "name": "stderr",
          "output_type": "stream",
          "text": [
            " 29%|██▊       | 603/2108 [05:46<15:13,  1.65it/s]"
          ]
        },
        {
          "name": "stdout",
          "output_type": "stream",
          "text": [
            "\n",
            "0: 640x640 1 marmoset, 4.1ms\n",
            "Speed: 1.5ms preprocess, 4.1ms inference, 0.7ms postprocess per image at shape (1, 3, 640, 640)\n"
          ]
        },
        {
          "name": "stderr",
          "output_type": "stream",
          "text": [
            " 29%|██▊       | 604/2108 [05:46<15:13,  1.65it/s]"
          ]
        },
        {
          "name": "stdout",
          "output_type": "stream",
          "text": [
            "\n",
            "0: 640x640 1 marmoset, 4.1ms\n",
            "Speed: 1.5ms preprocess, 4.1ms inference, 0.7ms postprocess per image at shape (1, 3, 640, 640)\n"
          ]
        },
        {
          "name": "stderr",
          "output_type": "stream",
          "text": [
            " 29%|██▊       | 605/2108 [05:47<15:14,  1.64it/s]"
          ]
        },
        {
          "name": "stdout",
          "output_type": "stream",
          "text": [
            "\n",
            "0: 640x640 1 marmoset, 4.1ms\n",
            "Speed: 1.5ms preprocess, 4.1ms inference, 0.7ms postprocess per image at shape (1, 3, 640, 640)\n"
          ]
        },
        {
          "name": "stderr",
          "output_type": "stream",
          "text": [
            " 29%|██▊       | 606/2108 [05:47<15:15,  1.64it/s]"
          ]
        },
        {
          "name": "stdout",
          "output_type": "stream",
          "text": [
            "\n",
            "0: 480x640 1 marmoset, 4.5ms\n",
            "Speed: 1.0ms preprocess, 4.5ms inference, 0.8ms postprocess per image at shape (1, 3, 480, 640)\n"
          ]
        },
        {
          "name": "stderr",
          "output_type": "stream",
          "text": [
            " 29%|██▉       | 607/2108 [05:48<15:09,  1.65it/s]"
          ]
        },
        {
          "name": "stdout",
          "output_type": "stream",
          "text": [
            "\n",
            "0: 640x640 2 marmosets, 4.4ms\n",
            "Speed: 1.4ms preprocess, 4.4ms inference, 0.7ms postprocess per image at shape (1, 3, 640, 640)\n"
          ]
        },
        {
          "name": "stderr",
          "output_type": "stream",
          "text": [
            " 29%|██▉       | 608/2108 [05:49<15:11,  1.65it/s]"
          ]
        },
        {
          "name": "stdout",
          "output_type": "stream",
          "text": [
            "\n",
            "0: 640x640 1 marmoset, 4.2ms\n",
            "Speed: 1.5ms preprocess, 4.2ms inference, 0.8ms postprocess per image at shape (1, 3, 640, 640)\n"
          ]
        },
        {
          "name": "stderr",
          "output_type": "stream",
          "text": [
            " 29%|██▉       | 609/2108 [05:49<15:02,  1.66it/s]"
          ]
        },
        {
          "name": "stdout",
          "output_type": "stream",
          "text": [
            "\n",
            "0: 640x640 1 marmoset, 4.2ms\n",
            "Speed: 1.5ms preprocess, 4.2ms inference, 0.7ms postprocess per image at shape (1, 3, 640, 640)\n"
          ]
        },
        {
          "name": "stderr",
          "output_type": "stream",
          "text": [
            " 29%|██▉       | 610/2108 [05:50<14:55,  1.67it/s]"
          ]
        },
        {
          "name": "stdout",
          "output_type": "stream",
          "text": [
            "\n",
            "0: 640x640 1 marmoset, 4.1ms\n",
            "Speed: 1.5ms preprocess, 4.1ms inference, 0.7ms postprocess per image at shape (1, 3, 640, 640)\n"
          ]
        },
        {
          "name": "stderr",
          "output_type": "stream",
          "text": [
            " 29%|██▉       | 611/2108 [05:50<14:42,  1.70it/s]"
          ]
        },
        {
          "name": "stdout",
          "output_type": "stream",
          "text": [
            "\n",
            "0: 640x640 1 marmoset, 4.1ms\n",
            "Speed: 1.5ms preprocess, 4.1ms inference, 0.7ms postprocess per image at shape (1, 3, 640, 640)\n"
          ]
        },
        {
          "name": "stderr",
          "output_type": "stream",
          "text": [
            " 29%|██▉       | 612/2108 [05:51<14:55,  1.67it/s]"
          ]
        },
        {
          "name": "stdout",
          "output_type": "stream",
          "text": [
            "\n",
            "0: 640x640 1 marmoset, 4.1ms\n",
            "Speed: 1.5ms preprocess, 4.1ms inference, 0.8ms postprocess per image at shape (1, 3, 640, 640)\n"
          ]
        },
        {
          "name": "stderr",
          "output_type": "stream",
          "text": [
            " 29%|██▉       | 613/2108 [05:52<15:04,  1.65it/s]"
          ]
        },
        {
          "name": "stdout",
          "output_type": "stream",
          "text": [
            "\n",
            "0: 640x640 2 marmosets, 4.1ms\n",
            "Speed: 1.4ms preprocess, 4.1ms inference, 0.7ms postprocess per image at shape (1, 3, 640, 640)\n"
          ]
        },
        {
          "name": "stderr",
          "output_type": "stream",
          "text": [
            " 29%|██▉       | 614/2108 [05:52<15:05,  1.65it/s]"
          ]
        },
        {
          "name": "stdout",
          "output_type": "stream",
          "text": [
            "\n",
            "0: 640x640 1 marmoset, 4.1ms\n",
            "Speed: 1.5ms preprocess, 4.1ms inference, 0.7ms postprocess per image at shape (1, 3, 640, 640)\n"
          ]
        },
        {
          "name": "stderr",
          "output_type": "stream",
          "text": [
            " 29%|██▉       | 615/2108 [05:53<15:05,  1.65it/s]"
          ]
        },
        {
          "name": "stdout",
          "output_type": "stream",
          "text": [
            "\n",
            "0: 640x640 1 marmoset, 4.2ms\n",
            "Speed: 1.5ms preprocess, 4.2ms inference, 0.8ms postprocess per image at shape (1, 3, 640, 640)\n"
          ]
        },
        {
          "name": "stderr",
          "output_type": "stream",
          "text": [
            " 29%|██▉       | 616/2108 [05:53<15:05,  1.65it/s]"
          ]
        },
        {
          "name": "stdout",
          "output_type": "stream",
          "text": [
            "\n",
            "0: 640x640 1 marmoset, 4.1ms\n",
            "Speed: 1.5ms preprocess, 4.1ms inference, 0.7ms postprocess per image at shape (1, 3, 640, 640)\n"
          ]
        },
        {
          "name": "stderr",
          "output_type": "stream",
          "text": [
            " 29%|██▉       | 617/2108 [05:54<15:05,  1.65it/s]"
          ]
        },
        {
          "name": "stdout",
          "output_type": "stream",
          "text": [
            "\n",
            "0: 640x640 1 marmoset, 4.1ms\n",
            "Speed: 1.5ms preprocess, 4.1ms inference, 0.7ms postprocess per image at shape (1, 3, 640, 640)\n"
          ]
        },
        {
          "name": "stderr",
          "output_type": "stream",
          "text": [
            " 29%|██▉       | 618/2108 [05:55<15:06,  1.64it/s]"
          ]
        },
        {
          "name": "stdout",
          "output_type": "stream",
          "text": [
            "\n",
            "0: 640x640 2 marmosets, 4.1ms\n",
            "Speed: 1.4ms preprocess, 4.1ms inference, 0.8ms postprocess per image at shape (1, 3, 640, 640)\n"
          ]
        },
        {
          "name": "stderr",
          "output_type": "stream",
          "text": [
            " 29%|██▉       | 619/2108 [05:55<15:06,  1.64it/s]"
          ]
        },
        {
          "name": "stdout",
          "output_type": "stream",
          "text": [
            "\n",
            "0: 640x640 2 marmosets, 4.1ms\n",
            "Speed: 1.4ms preprocess, 4.1ms inference, 0.7ms postprocess per image at shape (1, 3, 640, 640)\n"
          ]
        },
        {
          "name": "stderr",
          "output_type": "stream",
          "text": [
            " 29%|██▉       | 620/2108 [05:56<15:05,  1.64it/s]"
          ]
        },
        {
          "name": "stdout",
          "output_type": "stream",
          "text": [
            "\n",
            "0: 640x640 1 marmoset, 4.1ms\n",
            "Speed: 1.5ms preprocess, 4.1ms inference, 0.7ms postprocess per image at shape (1, 3, 640, 640)\n"
          ]
        },
        {
          "name": "stderr",
          "output_type": "stream",
          "text": [
            " 29%|██▉       | 621/2108 [05:56<15:05,  1.64it/s]"
          ]
        },
        {
          "name": "stdout",
          "output_type": "stream",
          "text": [
            "\n",
            "0: 480x640 1 marmoset, 4.5ms\n",
            "Speed: 1.0ms preprocess, 4.5ms inference, 0.8ms postprocess per image at shape (1, 3, 480, 640)\n"
          ]
        },
        {
          "name": "stderr",
          "output_type": "stream",
          "text": [
            " 30%|██▉       | 622/2108 [05:57<15:00,  1.65it/s]"
          ]
        },
        {
          "name": "stdout",
          "output_type": "stream",
          "text": [
            "\n",
            "0: 640x640 1 marmoset, 4.4ms\n",
            "Speed: 1.5ms preprocess, 4.4ms inference, 0.7ms postprocess per image at shape (1, 3, 640, 640)\n"
          ]
        },
        {
          "name": "stderr",
          "output_type": "stream",
          "text": [
            " 30%|██▉       | 623/2108 [05:58<15:00,  1.65it/s]"
          ]
        },
        {
          "name": "stdout",
          "output_type": "stream",
          "text": [
            "\n",
            "0: 640x640 1 marmoset, 4.2ms\n",
            "Speed: 1.5ms preprocess, 4.2ms inference, 0.8ms postprocess per image at shape (1, 3, 640, 640)\n"
          ]
        },
        {
          "name": "stderr",
          "output_type": "stream",
          "text": [
            " 30%|██▉       | 624/2108 [05:58<14:59,  1.65it/s]"
          ]
        },
        {
          "name": "stdout",
          "output_type": "stream",
          "text": [
            "\n",
            "0: 640x640 1 marmoset, 4.1ms\n",
            "Speed: 1.5ms preprocess, 4.1ms inference, 0.8ms postprocess per image at shape (1, 3, 640, 640)\n"
          ]
        },
        {
          "name": "stderr",
          "output_type": "stream",
          "text": [
            " 30%|██▉       | 625/2108 [05:59<14:59,  1.65it/s]"
          ]
        },
        {
          "name": "stdout",
          "output_type": "stream",
          "text": [
            "\n",
            "0: 480x640 1 marmoset, 4.5ms\n",
            "Speed: 1.1ms preprocess, 4.5ms inference, 0.8ms postprocess per image at shape (1, 3, 480, 640)\n"
          ]
        },
        {
          "name": "stderr",
          "output_type": "stream",
          "text": [
            " 30%|██▉       | 626/2108 [05:59<14:55,  1.66it/s]"
          ]
        },
        {
          "name": "stdout",
          "output_type": "stream",
          "text": [
            "\n",
            "0: 640x640 2 marmosets, 4.4ms\n",
            "Speed: 1.4ms preprocess, 4.4ms inference, 0.7ms postprocess per image at shape (1, 3, 640, 640)\n"
          ]
        },
        {
          "name": "stderr",
          "output_type": "stream",
          "text": [
            " 30%|██▉       | 627/2108 [06:00<14:57,  1.65it/s]"
          ]
        },
        {
          "name": "stdout",
          "output_type": "stream",
          "text": [
            "\n",
            "0: 640x640 2 marmosets, 4.2ms\n",
            "Speed: 1.4ms preprocess, 4.2ms inference, 0.8ms postprocess per image at shape (1, 3, 640, 640)\n"
          ]
        },
        {
          "name": "stderr",
          "output_type": "stream",
          "text": [
            " 30%|██▉       | 628/2108 [06:01<14:57,  1.65it/s]"
          ]
        },
        {
          "name": "stdout",
          "output_type": "stream",
          "text": [
            "\n",
            "0: 640x640 1 marmoset, 4.1ms\n",
            "Speed: 1.5ms preprocess, 4.1ms inference, 0.7ms postprocess per image at shape (1, 3, 640, 640)\n"
          ]
        },
        {
          "name": "stderr",
          "output_type": "stream",
          "text": [
            " 30%|██▉       | 629/2108 [06:01<14:57,  1.65it/s]"
          ]
        },
        {
          "name": "stdout",
          "output_type": "stream",
          "text": [
            "\n",
            "0: 640x640 1 marmoset, 4.1ms\n",
            "Speed: 1.5ms preprocess, 4.1ms inference, 0.8ms postprocess per image at shape (1, 3, 640, 640)\n"
          ]
        },
        {
          "name": "stderr",
          "output_type": "stream",
          "text": [
            " 30%|██▉       | 630/2108 [06:02<14:56,  1.65it/s]"
          ]
        },
        {
          "name": "stdout",
          "output_type": "stream",
          "text": [
            "\n",
            "0: 640x640 1 marmoset, 4.1ms\n",
            "Speed: 1.5ms preprocess, 4.1ms inference, 0.8ms postprocess per image at shape (1, 3, 640, 640)\n"
          ]
        },
        {
          "name": "stderr",
          "output_type": "stream",
          "text": [
            " 30%|██▉       | 631/2108 [06:03<14:56,  1.65it/s]"
          ]
        },
        {
          "name": "stdout",
          "output_type": "stream",
          "text": [
            "\n",
            "0: 640x640 1 marmoset, 4.1ms\n",
            "Speed: 1.5ms preprocess, 4.1ms inference, 0.7ms postprocess per image at shape (1, 3, 640, 640)\n"
          ]
        },
        {
          "name": "stderr",
          "output_type": "stream",
          "text": [
            " 30%|██▉       | 632/2108 [06:03<14:56,  1.65it/s]"
          ]
        },
        {
          "name": "stdout",
          "output_type": "stream",
          "text": [
            "\n",
            "0: 640x640 2 marmosets, 4.2ms\n",
            "Speed: 1.4ms preprocess, 4.2ms inference, 0.8ms postprocess per image at shape (1, 3, 640, 640)\n"
          ]
        },
        {
          "name": "stderr",
          "output_type": "stream",
          "text": [
            " 30%|███       | 633/2108 [06:04<14:57,  1.64it/s]"
          ]
        },
        {
          "name": "stdout",
          "output_type": "stream",
          "text": [
            "\n",
            "0: 640x640 1 marmoset, 4.2ms\n",
            "Speed: 1.5ms preprocess, 4.2ms inference, 0.8ms postprocess per image at shape (1, 3, 640, 640)\n"
          ]
        },
        {
          "name": "stderr",
          "output_type": "stream",
          "text": [
            " 30%|███       | 634/2108 [06:04<14:48,  1.66it/s]"
          ]
        },
        {
          "name": "stdout",
          "output_type": "stream",
          "text": [
            "\n",
            "0: 480x640 1 marmoset, 4.5ms\n",
            "Speed: 1.1ms preprocess, 4.5ms inference, 0.8ms postprocess per image at shape (1, 3, 480, 640)\n"
          ]
        },
        {
          "name": "stderr",
          "output_type": "stream",
          "text": [
            " 30%|███       | 635/2108 [06:05<14:28,  1.70it/s]"
          ]
        },
        {
          "name": "stdout",
          "output_type": "stream",
          "text": [
            "\n",
            "0: 480x640 1 marmoset, 4.1ms\n",
            "Speed: 1.0ms preprocess, 4.1ms inference, 0.7ms postprocess per image at shape (1, 3, 480, 640)\n"
          ]
        },
        {
          "name": "stderr",
          "output_type": "stream",
          "text": [
            " 30%|███       | 636/2108 [06:06<14:37,  1.68it/s]"
          ]
        },
        {
          "name": "stdout",
          "output_type": "stream",
          "text": [
            "\n",
            "0: 640x640 2 marmosets, 4.4ms\n",
            "Speed: 1.4ms preprocess, 4.4ms inference, 0.7ms postprocess per image at shape (1, 3, 640, 640)\n"
          ]
        },
        {
          "name": "stderr",
          "output_type": "stream",
          "text": [
            " 30%|███       | 637/2108 [06:06<14:55,  1.64it/s]"
          ]
        },
        {
          "name": "stdout",
          "output_type": "stream",
          "text": [
            "\n",
            "0: 640x640 1 marmoset, 4.1ms\n",
            "Speed: 1.5ms preprocess, 4.1ms inference, 0.7ms postprocess per image at shape (1, 3, 640, 640)\n"
          ]
        },
        {
          "name": "stderr",
          "output_type": "stream",
          "text": [
            " 30%|███       | 638/2108 [06:07<14:52,  1.65it/s]"
          ]
        },
        {
          "name": "stdout",
          "output_type": "stream",
          "text": [
            "\n",
            "0: 640x640 2 marmosets, 4.1ms\n",
            "Speed: 1.5ms preprocess, 4.1ms inference, 0.7ms postprocess per image at shape (1, 3, 640, 640)\n"
          ]
        },
        {
          "name": "stderr",
          "output_type": "stream",
          "text": [
            " 30%|███       | 639/2108 [06:07<14:55,  1.64it/s]"
          ]
        },
        {
          "name": "stdout",
          "output_type": "stream",
          "text": [
            "\n",
            "0: 640x640 2 marmosets, 4.1ms\n",
            "Speed: 1.4ms preprocess, 4.1ms inference, 0.8ms postprocess per image at shape (1, 3, 640, 640)\n"
          ]
        },
        {
          "name": "stderr",
          "output_type": "stream",
          "text": [
            " 30%|███       | 640/2108 [06:08<14:53,  1.64it/s]"
          ]
        },
        {
          "name": "stdout",
          "output_type": "stream",
          "text": [
            "\n",
            "0: 640x640 2 marmosets, 4.2ms\n",
            "Speed: 1.4ms preprocess, 4.2ms inference, 0.7ms postprocess per image at shape (1, 3, 640, 640)\n"
          ]
        },
        {
          "name": "stderr",
          "output_type": "stream",
          "text": [
            " 30%|███       | 641/2108 [06:09<14:51,  1.64it/s]"
          ]
        },
        {
          "name": "stdout",
          "output_type": "stream",
          "text": [
            "\n",
            "0: 640x640 1 marmoset, 4.1ms\n",
            "Speed: 1.5ms preprocess, 4.1ms inference, 0.8ms postprocess per image at shape (1, 3, 640, 640)\n"
          ]
        },
        {
          "name": "stderr",
          "output_type": "stream",
          "text": [
            " 30%|███       | 642/2108 [06:09<14:48,  1.65it/s]"
          ]
        },
        {
          "name": "stdout",
          "output_type": "stream",
          "text": [
            "\n",
            "0: 640x640 2 marmosets, 4.2ms\n",
            "Speed: 1.5ms preprocess, 4.2ms inference, 0.8ms postprocess per image at shape (1, 3, 640, 640)\n"
          ]
        },
        {
          "name": "stderr",
          "output_type": "stream",
          "text": [
            " 31%|███       | 643/2108 [06:10<14:52,  1.64it/s]"
          ]
        },
        {
          "name": "stdout",
          "output_type": "stream",
          "text": [
            "\n",
            "0: 640x640 1 marmoset, 4.3ms\n",
            "Speed: 1.5ms preprocess, 4.3ms inference, 0.8ms postprocess per image at shape (1, 3, 640, 640)\n"
          ]
        },
        {
          "name": "stderr",
          "output_type": "stream",
          "text": [
            " 31%|███       | 644/2108 [06:10<14:49,  1.65it/s]"
          ]
        },
        {
          "name": "stdout",
          "output_type": "stream",
          "text": [
            "\n",
            "0: 640x640 2 marmosets, 4.2ms\n",
            "Speed: 1.6ms preprocess, 4.2ms inference, 0.8ms postprocess per image at shape (1, 3, 640, 640)\n"
          ]
        },
        {
          "name": "stderr",
          "output_type": "stream",
          "text": [
            " 31%|███       | 645/2108 [06:11<14:54,  1.64it/s]"
          ]
        },
        {
          "name": "stdout",
          "output_type": "stream",
          "text": [
            "\n",
            "0: 640x640 1 marmoset, 4.2ms\n",
            "Speed: 1.5ms preprocess, 4.2ms inference, 0.8ms postprocess per image at shape (1, 3, 640, 640)\n"
          ]
        },
        {
          "name": "stderr",
          "output_type": "stream",
          "text": [
            " 31%|███       | 646/2108 [06:12<14:49,  1.64it/s]"
          ]
        },
        {
          "name": "stdout",
          "output_type": "stream",
          "text": [
            "\n",
            "0: 640x640 1 marmoset, 4.2ms\n",
            "Speed: 1.5ms preprocess, 4.2ms inference, 0.8ms postprocess per image at shape (1, 3, 640, 640)\n"
          ]
        },
        {
          "name": "stderr",
          "output_type": "stream",
          "text": [
            " 31%|███       | 647/2108 [06:12<14:47,  1.65it/s]"
          ]
        },
        {
          "name": "stdout",
          "output_type": "stream",
          "text": [
            "\n",
            "0: 640x640 1 marmoset, 4.1ms\n",
            "Speed: 1.5ms preprocess, 4.1ms inference, 0.7ms postprocess per image at shape (1, 3, 640, 640)\n"
          ]
        },
        {
          "name": "stderr",
          "output_type": "stream",
          "text": [
            " 31%|███       | 648/2108 [06:13<14:45,  1.65it/s]"
          ]
        },
        {
          "name": "stdout",
          "output_type": "stream",
          "text": [
            "\n",
            "0: 480x640 1 marmoset, 4.5ms\n",
            "Speed: 1.1ms preprocess, 4.5ms inference, 0.8ms postprocess per image at shape (1, 3, 480, 640)\n"
          ]
        },
        {
          "name": "stderr",
          "output_type": "stream",
          "text": [
            " 31%|███       | 649/2108 [06:13<14:39,  1.66it/s]"
          ]
        },
        {
          "name": "stdout",
          "output_type": "stream",
          "text": [
            "\n",
            "0: 640x640 1 marmoset, 4.4ms\n",
            "Speed: 1.5ms preprocess, 4.4ms inference, 0.7ms postprocess per image at shape (1, 3, 640, 640)\n"
          ]
        },
        {
          "name": "stderr",
          "output_type": "stream",
          "text": [
            " 31%|███       | 650/2108 [06:14<14:38,  1.66it/s]"
          ]
        },
        {
          "name": "stdout",
          "output_type": "stream",
          "text": [
            "\n",
            "0: 640x640 1 marmoset, 4.1ms\n",
            "Speed: 1.5ms preprocess, 4.1ms inference, 0.8ms postprocess per image at shape (1, 3, 640, 640)\n"
          ]
        },
        {
          "name": "stderr",
          "output_type": "stream",
          "text": [
            " 31%|███       | 651/2108 [06:15<14:39,  1.66it/s]"
          ]
        },
        {
          "name": "stdout",
          "output_type": "stream",
          "text": [
            "\n",
            "0: 640x640 2 marmosets, 4.1ms\n",
            "Speed: 1.4ms preprocess, 4.1ms inference, 0.7ms postprocess per image at shape (1, 3, 640, 640)\n"
          ]
        },
        {
          "name": "stderr",
          "output_type": "stream",
          "text": [
            " 31%|███       | 652/2108 [06:15<14:40,  1.65it/s]"
          ]
        },
        {
          "name": "stdout",
          "output_type": "stream",
          "text": [
            "\n",
            "0: 640x640 1 marmoset, 4.1ms\n",
            "Speed: 1.5ms preprocess, 4.1ms inference, 0.7ms postprocess per image at shape (1, 3, 640, 640)\n"
          ]
        },
        {
          "name": "stderr",
          "output_type": "stream",
          "text": [
            " 31%|███       | 653/2108 [06:16<14:38,  1.66it/s]"
          ]
        },
        {
          "name": "stdout",
          "output_type": "stream",
          "text": [
            "\n",
            "0: 480x640 1 marmoset, 4.5ms\n",
            "Speed: 1.1ms preprocess, 4.5ms inference, 0.7ms postprocess per image at shape (1, 3, 480, 640)\n"
          ]
        },
        {
          "name": "stderr",
          "output_type": "stream",
          "text": [
            " 31%|███       | 654/2108 [06:16<14:33,  1.67it/s]"
          ]
        },
        {
          "name": "stdout",
          "output_type": "stream",
          "text": [
            "\n",
            "0: 640x640 1 marmoset, 4.3ms\n",
            "Speed: 1.5ms preprocess, 4.3ms inference, 0.7ms postprocess per image at shape (1, 3, 640, 640)\n"
          ]
        },
        {
          "name": "stderr",
          "output_type": "stream",
          "text": [
            " 31%|███       | 655/2108 [06:17<14:33,  1.66it/s]"
          ]
        },
        {
          "name": "stdout",
          "output_type": "stream",
          "text": [
            "\n",
            "0: 640x640 2 marmosets, 4.2ms\n",
            "Speed: 1.4ms preprocess, 4.2ms inference, 0.7ms postprocess per image at shape (1, 3, 640, 640)\n"
          ]
        },
        {
          "name": "stderr",
          "output_type": "stream",
          "text": [
            " 31%|███       | 656/2108 [06:18<14:25,  1.68it/s]"
          ]
        },
        {
          "name": "stdout",
          "output_type": "stream",
          "text": [
            "\n",
            "0: 640x640 2 marmosets, 4.1ms\n",
            "Speed: 1.4ms preprocess, 4.1ms inference, 0.7ms postprocess per image at shape (1, 3, 640, 640)\n"
          ]
        },
        {
          "name": "stderr",
          "output_type": "stream",
          "text": [
            " 31%|███       | 657/2108 [06:18<14:21,  1.68it/s]"
          ]
        },
        {
          "name": "stdout",
          "output_type": "stream",
          "text": [
            "\n",
            "0: 640x640 2 marmosets, 4.1ms\n",
            "Speed: 1.4ms preprocess, 4.1ms inference, 0.7ms postprocess per image at shape (1, 3, 640, 640)\n"
          ]
        },
        {
          "name": "stderr",
          "output_type": "stream",
          "text": [
            " 31%|███       | 658/2108 [06:19<14:36,  1.65it/s]"
          ]
        },
        {
          "name": "stdout",
          "output_type": "stream",
          "text": [
            "\n",
            "0: 640x640 1 marmoset, 4.1ms\n",
            "Speed: 1.5ms preprocess, 4.1ms inference, 0.7ms postprocess per image at shape (1, 3, 640, 640)\n"
          ]
        },
        {
          "name": "stderr",
          "output_type": "stream",
          "text": [
            " 31%|███▏      | 659/2108 [06:19<14:52,  1.62it/s]"
          ]
        },
        {
          "name": "stdout",
          "output_type": "stream",
          "text": [
            "\n",
            "0: 640x640 1 marmoset, 4.2ms\n",
            "Speed: 1.5ms preprocess, 4.2ms inference, 0.8ms postprocess per image at shape (1, 3, 640, 640)\n"
          ]
        },
        {
          "name": "stderr",
          "output_type": "stream",
          "text": [
            " 31%|███▏      | 660/2108 [06:20<14:42,  1.64it/s]"
          ]
        },
        {
          "name": "stdout",
          "output_type": "stream",
          "text": [
            "\n",
            "0: 640x640 1 marmoset, 4.2ms\n",
            "Speed: 1.5ms preprocess, 4.2ms inference, 0.8ms postprocess per image at shape (1, 3, 640, 640)\n"
          ]
        },
        {
          "name": "stderr",
          "output_type": "stream",
          "text": [
            " 31%|███▏      | 661/2108 [06:21<14:34,  1.65it/s]"
          ]
        },
        {
          "name": "stdout",
          "output_type": "stream",
          "text": [
            "\n",
            "0: 640x640 2 marmosets, 4.1ms\n",
            "Speed: 1.5ms preprocess, 4.1ms inference, 0.7ms postprocess per image at shape (1, 3, 640, 640)\n"
          ]
        },
        {
          "name": "stderr",
          "output_type": "stream",
          "text": [
            " 31%|███▏      | 662/2108 [06:21<14:36,  1.65it/s]"
          ]
        },
        {
          "name": "stdout",
          "output_type": "stream",
          "text": [
            "\n",
            "0: 480x640 1 marmoset, 4.5ms\n",
            "Speed: 1.0ms preprocess, 4.5ms inference, 0.8ms postprocess per image at shape (1, 3, 480, 640)\n"
          ]
        },
        {
          "name": "stderr",
          "output_type": "stream",
          "text": [
            " 31%|███▏      | 663/2108 [06:22<14:24,  1.67it/s]"
          ]
        },
        {
          "name": "stdout",
          "output_type": "stream",
          "text": [
            "\n",
            "0: 640x640 1 marmoset, 4.4ms\n",
            "Speed: 1.5ms preprocess, 4.4ms inference, 0.7ms postprocess per image at shape (1, 3, 640, 640)\n"
          ]
        },
        {
          "name": "stderr",
          "output_type": "stream",
          "text": [
            " 31%|███▏      | 664/2108 [06:22<14:21,  1.68it/s]"
          ]
        },
        {
          "name": "stdout",
          "output_type": "stream",
          "text": [
            "\n",
            "0: 640x640 3 marmosets, 4.1ms\n",
            "Speed: 1.4ms preprocess, 4.1ms inference, 0.7ms postprocess per image at shape (1, 3, 640, 640)\n"
          ]
        },
        {
          "name": "stderr",
          "output_type": "stream",
          "text": [
            " 32%|███▏      | 665/2108 [06:23<14:24,  1.67it/s]"
          ]
        },
        {
          "name": "stdout",
          "output_type": "stream",
          "text": [
            "\n",
            "0: 640x640 1 marmoset, 4.1ms\n",
            "Speed: 1.5ms preprocess, 4.1ms inference, 0.8ms postprocess per image at shape (1, 3, 640, 640)\n"
          ]
        },
        {
          "name": "stderr",
          "output_type": "stream",
          "text": [
            " 32%|███▏      | 666/2108 [06:24<14:20,  1.68it/s]"
          ]
        },
        {
          "name": "stdout",
          "output_type": "stream",
          "text": [
            "\n",
            "0: 640x640 1 marmoset, 4.1ms\n",
            "Speed: 1.5ms preprocess, 4.1ms inference, 0.8ms postprocess per image at shape (1, 3, 640, 640)\n"
          ]
        },
        {
          "name": "stderr",
          "output_type": "stream",
          "text": [
            " 32%|███▏      | 667/2108 [06:24<14:25,  1.67it/s]"
          ]
        },
        {
          "name": "stdout",
          "output_type": "stream",
          "text": [
            "\n",
            "0: 480x640 2 marmosets, 4.5ms\n",
            "Speed: 1.1ms preprocess, 4.5ms inference, 0.7ms postprocess per image at shape (1, 3, 480, 640)\n"
          ]
        },
        {
          "name": "stderr",
          "output_type": "stream",
          "text": [
            " 32%|███▏      | 668/2108 [06:25<14:27,  1.66it/s]"
          ]
        },
        {
          "name": "stdout",
          "output_type": "stream",
          "text": [
            "\n",
            "0: 480x640 1 marmoset, 4.1ms\n",
            "Speed: 1.0ms preprocess, 4.1ms inference, 0.7ms postprocess per image at shape (1, 3, 480, 640)\n"
          ]
        },
        {
          "name": "stderr",
          "output_type": "stream",
          "text": [
            " 32%|███▏      | 669/2108 [06:25<14:24,  1.67it/s]"
          ]
        },
        {
          "name": "stdout",
          "output_type": "stream",
          "text": [
            "\n",
            "0: 640x640 1 marmoset, 4.4ms\n",
            "Speed: 1.5ms preprocess, 4.4ms inference, 0.7ms postprocess per image at shape (1, 3, 640, 640)\n"
          ]
        },
        {
          "name": "stderr",
          "output_type": "stream",
          "text": [
            " 32%|███▏      | 670/2108 [06:26<14:28,  1.66it/s]"
          ]
        },
        {
          "name": "stdout",
          "output_type": "stream",
          "text": [
            "\n",
            "0: 640x640 1 marmoset, 4.2ms\n",
            "Speed: 1.5ms preprocess, 4.2ms inference, 0.8ms postprocess per image at shape (1, 3, 640, 640)\n"
          ]
        },
        {
          "name": "stderr",
          "output_type": "stream",
          "text": [
            " 32%|███▏      | 671/2108 [06:27<14:30,  1.65it/s]"
          ]
        },
        {
          "name": "stdout",
          "output_type": "stream",
          "text": [
            "\n",
            "0: 640x640 1 marmoset, 4.1ms\n",
            "Speed: 1.5ms preprocess, 4.1ms inference, 0.8ms postprocess per image at shape (1, 3, 640, 640)\n"
          ]
        },
        {
          "name": "stderr",
          "output_type": "stream",
          "text": [
            " 32%|███▏      | 672/2108 [06:27<14:32,  1.65it/s]"
          ]
        },
        {
          "name": "stdout",
          "output_type": "stream",
          "text": [
            "\n",
            "0: 640x640 1 marmoset, 4.1ms\n",
            "Speed: 1.5ms preprocess, 4.1ms inference, 0.7ms postprocess per image at shape (1, 3, 640, 640)\n"
          ]
        },
        {
          "name": "stderr",
          "output_type": "stream",
          "text": [
            " 32%|███▏      | 673/2108 [06:28<14:22,  1.66it/s]"
          ]
        },
        {
          "name": "stdout",
          "output_type": "stream",
          "text": [
            "\n",
            "0: 640x640 1 marmoset, 4.1ms\n",
            "Speed: 1.5ms preprocess, 4.1ms inference, 0.7ms postprocess per image at shape (1, 3, 640, 640)\n"
          ]
        },
        {
          "name": "stderr",
          "output_type": "stream",
          "text": [
            " 32%|███▏      | 674/2108 [06:28<14:06,  1.69it/s]"
          ]
        },
        {
          "name": "stdout",
          "output_type": "stream",
          "text": [
            "\n",
            "0: 640x640 1 marmoset, 4.1ms\n",
            "Speed: 1.5ms preprocess, 4.1ms inference, 0.7ms postprocess per image at shape (1, 3, 640, 640)\n"
          ]
        },
        {
          "name": "stderr",
          "output_type": "stream",
          "text": [
            " 32%|███▏      | 675/2108 [06:29<14:00,  1.70it/s]"
          ]
        },
        {
          "name": "stdout",
          "output_type": "stream",
          "text": [
            "\n",
            "0: 480x640 1 marmoset, 4.5ms\n",
            "Speed: 1.1ms preprocess, 4.5ms inference, 0.8ms postprocess per image at shape (1, 3, 480, 640)\n"
          ]
        },
        {
          "name": "stderr",
          "output_type": "stream",
          "text": [
            " 32%|███▏      | 676/2108 [06:30<14:02,  1.70it/s]"
          ]
        },
        {
          "name": "stdout",
          "output_type": "stream",
          "text": [
            "\n",
            "0: 640x640 1 marmoset, 4.4ms\n",
            "Speed: 1.5ms preprocess, 4.4ms inference, 0.7ms postprocess per image at shape (1, 3, 640, 640)\n"
          ]
        },
        {
          "name": "stderr",
          "output_type": "stream",
          "text": [
            " 32%|███▏      | 677/2108 [06:30<14:08,  1.69it/s]"
          ]
        },
        {
          "name": "stdout",
          "output_type": "stream",
          "text": [
            "\n",
            "0: 640x640 1 marmoset, 4.1ms\n",
            "Speed: 1.5ms preprocess, 4.1ms inference, 0.8ms postprocess per image at shape (1, 3, 640, 640)\n"
          ]
        },
        {
          "name": "stderr",
          "output_type": "stream",
          "text": [
            " 32%|███▏      | 678/2108 [06:31<14:10,  1.68it/s]"
          ]
        },
        {
          "name": "stdout",
          "output_type": "stream",
          "text": [
            "\n",
            "0: 640x640 1 marmoset, 4.1ms\n",
            "Speed: 1.5ms preprocess, 4.1ms inference, 0.7ms postprocess per image at shape (1, 3, 640, 640)\n"
          ]
        },
        {
          "name": "stderr",
          "output_type": "stream",
          "text": [
            " 32%|███▏      | 679/2108 [06:31<14:30,  1.64it/s]"
          ]
        },
        {
          "name": "stdout",
          "output_type": "stream",
          "text": [
            "\n",
            "0: 640x640 1 marmoset, 4.1ms\n",
            "Speed: 1.5ms preprocess, 4.1ms inference, 0.7ms postprocess per image at shape (1, 3, 640, 640)\n"
          ]
        },
        {
          "name": "stderr",
          "output_type": "stream",
          "text": [
            " 32%|███▏      | 680/2108 [06:32<14:41,  1.62it/s]"
          ]
        },
        {
          "name": "stdout",
          "output_type": "stream",
          "text": [
            "\n",
            "0: 640x640 1 marmoset, 4.2ms\n",
            "Speed: 1.4ms preprocess, 4.2ms inference, 0.8ms postprocess per image at shape (1, 3, 640, 640)\n"
          ]
        },
        {
          "name": "stderr",
          "output_type": "stream",
          "text": [
            " 32%|███▏      | 681/2108 [06:33<14:45,  1.61it/s]"
          ]
        },
        {
          "name": "stdout",
          "output_type": "stream",
          "text": [
            "\n",
            "0: 640x640 1 marmoset, 4.2ms\n",
            "Speed: 1.5ms preprocess, 4.2ms inference, 0.8ms postprocess per image at shape (1, 3, 640, 640)\n"
          ]
        },
        {
          "name": "stderr",
          "output_type": "stream",
          "text": [
            " 32%|███▏      | 682/2108 [06:33<14:47,  1.61it/s]"
          ]
        },
        {
          "name": "stdout",
          "output_type": "stream",
          "text": [
            "\n",
            "0: 480x640 1 marmoset, 4.5ms\n",
            "Speed: 1.1ms preprocess, 4.5ms inference, 0.8ms postprocess per image at shape (1, 3, 480, 640)\n"
          ]
        },
        {
          "name": "stderr",
          "output_type": "stream",
          "text": [
            " 32%|███▏      | 683/2108 [06:34<14:27,  1.64it/s]"
          ]
        },
        {
          "name": "stdout",
          "output_type": "stream",
          "text": [
            "\n",
            "0: 480x640 1 marmoset, 4.1ms\n",
            "Speed: 1.0ms preprocess, 4.1ms inference, 0.7ms postprocess per image at shape (1, 3, 480, 640)\n"
          ]
        },
        {
          "name": "stderr",
          "output_type": "stream",
          "text": [
            " 32%|███▏      | 684/2108 [06:34<14:12,  1.67it/s]"
          ]
        },
        {
          "name": "stdout",
          "output_type": "stream",
          "text": [
            "\n",
            "0: 640x640 1 marmoset, 4.4ms\n",
            "Speed: 1.5ms preprocess, 4.4ms inference, 0.7ms postprocess per image at shape (1, 3, 640, 640)\n"
          ]
        },
        {
          "name": "stderr",
          "output_type": "stream",
          "text": [
            " 32%|███▏      | 685/2108 [06:35<14:08,  1.68it/s]"
          ]
        },
        {
          "name": "stdout",
          "output_type": "stream",
          "text": [
            "\n",
            "0: 640x640 2 marmosets, 4.1ms\n",
            "Speed: 1.4ms preprocess, 4.1ms inference, 0.7ms postprocess per image at shape (1, 3, 640, 640)\n"
          ]
        },
        {
          "name": "stderr",
          "output_type": "stream",
          "text": [
            " 33%|███▎      | 686/2108 [06:36<15:14,  1.55it/s]"
          ]
        },
        {
          "name": "stdout",
          "output_type": "stream",
          "text": [
            "\n",
            "0: 480x640 1 marmoset, 4.5ms\n",
            "Speed: 1.1ms preprocess, 4.5ms inference, 0.8ms postprocess per image at shape (1, 3, 480, 640)\n"
          ]
        },
        {
          "name": "stderr",
          "output_type": "stream",
          "text": [
            " 33%|███▎      | 687/2108 [06:36<15:13,  1.56it/s]"
          ]
        },
        {
          "name": "stdout",
          "output_type": "stream",
          "text": [
            "\n",
            "0: 640x640 1 marmoset, 4.4ms\n",
            "Speed: 1.5ms preprocess, 4.4ms inference, 0.7ms postprocess per image at shape (1, 3, 640, 640)\n"
          ]
        },
        {
          "name": "stderr",
          "output_type": "stream",
          "text": [
            " 33%|███▎      | 688/2108 [06:37<14:49,  1.60it/s]"
          ]
        },
        {
          "name": "stdout",
          "output_type": "stream",
          "text": [
            "\n",
            "0: 640x640 1 marmoset, 4.2ms\n",
            "Speed: 1.5ms preprocess, 4.2ms inference, 0.8ms postprocess per image at shape (1, 3, 640, 640)\n"
          ]
        },
        {
          "name": "stderr",
          "output_type": "stream",
          "text": [
            " 33%|███▎      | 689/2108 [06:38<14:23,  1.64it/s]"
          ]
        },
        {
          "name": "stdout",
          "output_type": "stream",
          "text": [
            "\n",
            "0: 640x640 2 marmosets, 4.1ms\n",
            "Speed: 1.4ms preprocess, 4.1ms inference, 0.8ms postprocess per image at shape (1, 3, 640, 640)\n"
          ]
        },
        {
          "name": "stderr",
          "output_type": "stream",
          "text": [
            " 33%|███▎      | 690/2108 [06:38<14:11,  1.67it/s]"
          ]
        },
        {
          "name": "stdout",
          "output_type": "stream",
          "text": [
            "\n",
            "0: 640x640 1 marmoset, 4.0ms\n",
            "Speed: 1.4ms preprocess, 4.0ms inference, 0.8ms postprocess per image at shape (1, 3, 640, 640)\n"
          ]
        },
        {
          "name": "stderr",
          "output_type": "stream",
          "text": [
            " 33%|███▎      | 691/2108 [06:39<14:00,  1.69it/s]"
          ]
        },
        {
          "name": "stdout",
          "output_type": "stream",
          "text": [
            "\n",
            "0: 640x640 1 marmoset, 3.9ms\n",
            "Speed: 1.4ms preprocess, 3.9ms inference, 0.7ms postprocess per image at shape (1, 3, 640, 640)\n"
          ]
        },
        {
          "name": "stderr",
          "output_type": "stream",
          "text": [
            " 33%|███▎      | 692/2108 [06:39<14:01,  1.68it/s]"
          ]
        },
        {
          "name": "stdout",
          "output_type": "stream",
          "text": [
            "\n",
            "0: 480x640 1 marmoset, 4.2ms\n",
            "Speed: 1.0ms preprocess, 4.2ms inference, 0.7ms postprocess per image at shape (1, 3, 480, 640)\n"
          ]
        },
        {
          "name": "stderr",
          "output_type": "stream",
          "text": [
            " 33%|███▎      | 693/2108 [06:40<13:55,  1.69it/s]"
          ]
        },
        {
          "name": "stdout",
          "output_type": "stream",
          "text": [
            "\n",
            "0: 640x640 1 marmoset, 4.1ms\n",
            "Speed: 1.4ms preprocess, 4.1ms inference, 0.7ms postprocess per image at shape (1, 3, 640, 640)\n"
          ]
        },
        {
          "name": "stderr",
          "output_type": "stream",
          "text": [
            " 33%|███▎      | 694/2108 [06:41<14:05,  1.67it/s]"
          ]
        },
        {
          "name": "stdout",
          "output_type": "stream",
          "text": [
            "\n",
            "0: 480x640 1 marmoset, 4.2ms\n",
            "Speed: 1.0ms preprocess, 4.2ms inference, 0.7ms postprocess per image at shape (1, 3, 480, 640)\n"
          ]
        },
        {
          "name": "stderr",
          "output_type": "stream",
          "text": [
            " 33%|███▎      | 695/2108 [06:41<14:02,  1.68it/s]"
          ]
        },
        {
          "name": "stdout",
          "output_type": "stream",
          "text": [
            "\n",
            "0: 640x640 1 marmoset, 4.5ms\n",
            "Speed: 1.5ms preprocess, 4.5ms inference, 0.8ms postprocess per image at shape (1, 3, 640, 640)\n"
          ]
        },
        {
          "name": "stderr",
          "output_type": "stream",
          "text": [
            " 33%|███▎      | 696/2108 [06:42<13:57,  1.69it/s]"
          ]
        },
        {
          "name": "stdout",
          "output_type": "stream",
          "text": [
            "\n",
            "0: 640x640 1 marmoset, 4.0ms\n",
            "Speed: 1.5ms preprocess, 4.0ms inference, 0.7ms postprocess per image at shape (1, 3, 640, 640)\n"
          ]
        },
        {
          "name": "stderr",
          "output_type": "stream",
          "text": [
            " 33%|███▎      | 697/2108 [06:42<13:53,  1.69it/s]"
          ]
        },
        {
          "name": "stdout",
          "output_type": "stream",
          "text": [
            "\n",
            "0: 640x640 1 marmoset, 3.9ms\n",
            "Speed: 1.4ms preprocess, 3.9ms inference, 0.7ms postprocess per image at shape (1, 3, 640, 640)\n"
          ]
        },
        {
          "name": "stderr",
          "output_type": "stream",
          "text": [
            " 33%|███▎      | 698/2108 [06:43<13:57,  1.68it/s]"
          ]
        },
        {
          "name": "stdout",
          "output_type": "stream",
          "text": [
            "\n",
            "0: 640x640 1 marmoset, 3.9ms\n",
            "Speed: 1.4ms preprocess, 3.9ms inference, 0.7ms postprocess per image at shape (1, 3, 640, 640)\n"
          ]
        },
        {
          "name": "stderr",
          "output_type": "stream",
          "text": [
            " 33%|███▎      | 699/2108 [06:44<13:57,  1.68it/s]"
          ]
        },
        {
          "name": "stdout",
          "output_type": "stream",
          "text": [
            "\n",
            "0: 480x640 1 marmoset, 4.2ms\n",
            "Speed: 1.0ms preprocess, 4.2ms inference, 0.7ms postprocess per image at shape (1, 3, 480, 640)\n"
          ]
        },
        {
          "name": "stderr",
          "output_type": "stream",
          "text": [
            " 33%|███▎      | 700/2108 [06:44<13:53,  1.69it/s]"
          ]
        },
        {
          "name": "stdout",
          "output_type": "stream",
          "text": [
            "\n",
            "0: 480x640 1 marmoset, 4.2ms\n",
            "Speed: 1.1ms preprocess, 4.2ms inference, 0.7ms postprocess per image at shape (1, 3, 480, 640)\n"
          ]
        },
        {
          "name": "stderr",
          "output_type": "stream",
          "text": [
            " 33%|███▎      | 701/2108 [06:45<13:52,  1.69it/s]"
          ]
        },
        {
          "name": "stdout",
          "output_type": "stream",
          "text": [
            "\n",
            "0: 640x640 1 marmoset, 4.4ms\n",
            "Speed: 1.5ms preprocess, 4.4ms inference, 0.7ms postprocess per image at shape (1, 3, 640, 640)\n"
          ]
        },
        {
          "name": "stderr",
          "output_type": "stream",
          "text": [
            " 33%|███▎      | 702/2108 [06:45<14:09,  1.66it/s]"
          ]
        },
        {
          "name": "stdout",
          "output_type": "stream",
          "text": [
            "\n",
            "0: 640x640 2 marmosets, 4.2ms\n",
            "Speed: 1.4ms preprocess, 4.2ms inference, 0.8ms postprocess per image at shape (1, 3, 640, 640)\n"
          ]
        },
        {
          "name": "stderr",
          "output_type": "stream",
          "text": [
            " 33%|███▎      | 703/2108 [06:46<14:17,  1.64it/s]"
          ]
        },
        {
          "name": "stdout",
          "output_type": "stream",
          "text": [
            "\n",
            "0: 640x640 1 marmoset, 4.1ms\n",
            "Speed: 1.5ms preprocess, 4.1ms inference, 0.8ms postprocess per image at shape (1, 3, 640, 640)\n"
          ]
        },
        {
          "name": "stderr",
          "output_type": "stream",
          "text": [
            " 33%|███▎      | 704/2108 [06:47<14:17,  1.64it/s]"
          ]
        },
        {
          "name": "stdout",
          "output_type": "stream",
          "text": [
            "\n",
            "0: 640x640 1 marmoset, 4.2ms\n",
            "Speed: 1.5ms preprocess, 4.2ms inference, 0.8ms postprocess per image at shape (1, 3, 640, 640)\n"
          ]
        },
        {
          "name": "stderr",
          "output_type": "stream",
          "text": [
            " 33%|███▎      | 705/2108 [06:47<14:16,  1.64it/s]"
          ]
        },
        {
          "name": "stdout",
          "output_type": "stream",
          "text": [
            "\n",
            "0: 480x640 1 marmoset, 4.5ms\n",
            "Speed: 1.1ms preprocess, 4.5ms inference, 0.8ms postprocess per image at shape (1, 3, 480, 640)\n"
          ]
        },
        {
          "name": "stderr",
          "output_type": "stream",
          "text": [
            " 33%|███▎      | 706/2108 [06:48<14:11,  1.65it/s]"
          ]
        },
        {
          "name": "stdout",
          "output_type": "stream",
          "text": [
            "\n",
            "0: 480x640 1 marmoset, 4.1ms\n",
            "Speed: 1.0ms preprocess, 4.1ms inference, 0.7ms postprocess per image at shape (1, 3, 480, 640)\n"
          ]
        },
        {
          "name": "stderr",
          "output_type": "stream",
          "text": [
            " 34%|███▎      | 707/2108 [06:48<14:07,  1.65it/s]"
          ]
        },
        {
          "name": "stdout",
          "output_type": "stream",
          "text": [
            "\n",
            "0: 480x640 1 marmoset, 4.1ms\n",
            "Speed: 1.0ms preprocess, 4.1ms inference, 0.7ms postprocess per image at shape (1, 3, 480, 640)\n"
          ]
        },
        {
          "name": "stderr",
          "output_type": "stream",
          "text": [
            " 34%|███▎      | 708/2108 [06:49<14:04,  1.66it/s]"
          ]
        },
        {
          "name": "stdout",
          "output_type": "stream",
          "text": [
            "\n",
            "0: 640x640 1 marmoset, 4.4ms\n",
            "Speed: 1.5ms preprocess, 4.4ms inference, 0.7ms postprocess per image at shape (1, 3, 640, 640)\n"
          ]
        },
        {
          "name": "stderr",
          "output_type": "stream",
          "text": [
            " 34%|███▎      | 709/2108 [06:50<14:05,  1.65it/s]"
          ]
        },
        {
          "name": "stdout",
          "output_type": "stream",
          "text": [
            "\n",
            "0: 640x640 2 marmosets, 4.1ms\n",
            "Speed: 1.5ms preprocess, 4.1ms inference, 0.7ms postprocess per image at shape (1, 3, 640, 640)\n"
          ]
        },
        {
          "name": "stderr",
          "output_type": "stream",
          "text": [
            " 34%|███▎      | 710/2108 [06:50<14:04,  1.66it/s]"
          ]
        },
        {
          "name": "stdout",
          "output_type": "stream",
          "text": [
            "\n",
            "0: 640x640 1 marmoset, 4.2ms\n",
            "Speed: 1.5ms preprocess, 4.2ms inference, 0.8ms postprocess per image at shape (1, 3, 640, 640)\n"
          ]
        },
        {
          "name": "stderr",
          "output_type": "stream",
          "text": [
            " 34%|███▎      | 711/2108 [06:51<13:50,  1.68it/s]"
          ]
        },
        {
          "name": "stdout",
          "output_type": "stream",
          "text": [
            "\n",
            "0: 640x640 1 marmoset, 4.2ms\n",
            "Speed: 1.5ms preprocess, 4.2ms inference, 0.8ms postprocess per image at shape (1, 3, 640, 640)\n"
          ]
        },
        {
          "name": "stderr",
          "output_type": "stream",
          "text": [
            " 34%|███▍      | 712/2108 [06:51<13:22,  1.74it/s]"
          ]
        },
        {
          "name": "stdout",
          "output_type": "stream",
          "text": [
            "\n",
            "0: 640x640 1 marmoset, 4.2ms\n",
            "Speed: 1.5ms preprocess, 4.2ms inference, 0.8ms postprocess per image at shape (1, 3, 640, 640)\n"
          ]
        },
        {
          "name": "stderr",
          "output_type": "stream",
          "text": [
            " 34%|███▍      | 713/2108 [06:52<14:17,  1.63it/s]"
          ]
        },
        {
          "name": "stdout",
          "output_type": "stream",
          "text": [
            "\n",
            "0: 640x640 1 marmoset, 4.2ms\n",
            "Speed: 1.5ms preprocess, 4.2ms inference, 0.8ms postprocess per image at shape (1, 3, 640, 640)\n"
          ]
        },
        {
          "name": "stderr",
          "output_type": "stream",
          "text": [
            " 34%|███▍      | 714/2108 [06:53<14:32,  1.60it/s]"
          ]
        },
        {
          "name": "stdout",
          "output_type": "stream",
          "text": [
            "\n",
            "0: 640x640 2 marmosets, 4.2ms\n",
            "Speed: 1.4ms preprocess, 4.2ms inference, 0.8ms postprocess per image at shape (1, 3, 640, 640)\n"
          ]
        },
        {
          "name": "stderr",
          "output_type": "stream",
          "text": [
            " 34%|███▍      | 715/2108 [06:53<14:17,  1.63it/s]"
          ]
        },
        {
          "name": "stdout",
          "output_type": "stream",
          "text": [
            "\n",
            "0: 640x640 2 marmosets, 4.2ms\n",
            "Speed: 1.5ms preprocess, 4.2ms inference, 0.8ms postprocess per image at shape (1, 3, 640, 640)\n"
          ]
        },
        {
          "name": "stderr",
          "output_type": "stream",
          "text": [
            " 34%|███▍      | 716/2108 [06:54<13:56,  1.66it/s]"
          ]
        },
        {
          "name": "stdout",
          "output_type": "stream",
          "text": [
            "\n",
            "0: 640x640 2 marmosets, 4.1ms\n",
            "Speed: 1.5ms preprocess, 4.1ms inference, 0.7ms postprocess per image at shape (1, 3, 640, 640)\n"
          ]
        },
        {
          "name": "stderr",
          "output_type": "stream",
          "text": [
            " 34%|███▍      | 717/2108 [06:54<13:44,  1.69it/s]"
          ]
        },
        {
          "name": "stdout",
          "output_type": "stream",
          "text": [
            "\n",
            "0: 640x640 1 marmoset, 4.2ms\n",
            "Speed: 1.5ms preprocess, 4.2ms inference, 0.8ms postprocess per image at shape (1, 3, 640, 640)\n"
          ]
        },
        {
          "name": "stderr",
          "output_type": "stream",
          "text": [
            " 34%|███▍      | 718/2108 [06:55<13:45,  1.68it/s]"
          ]
        },
        {
          "name": "stdout",
          "output_type": "stream",
          "text": [
            "\n",
            "0: 640x640 1 marmoset, 4.2ms\n",
            "Speed: 1.5ms preprocess, 4.2ms inference, 0.8ms postprocess per image at shape (1, 3, 640, 640)\n"
          ]
        },
        {
          "name": "stderr",
          "output_type": "stream",
          "text": [
            " 34%|███▍      | 719/2108 [06:56<13:47,  1.68it/s]"
          ]
        },
        {
          "name": "stdout",
          "output_type": "stream",
          "text": [
            "\n",
            "0: 640x640 1 marmoset, 4.2ms\n",
            "Speed: 1.5ms preprocess, 4.2ms inference, 0.8ms postprocess per image at shape (1, 3, 640, 640)\n"
          ]
        },
        {
          "name": "stderr",
          "output_type": "stream",
          "text": [
            " 34%|███▍      | 720/2108 [06:56<13:47,  1.68it/s]"
          ]
        },
        {
          "name": "stdout",
          "output_type": "stream",
          "text": [
            "\n",
            "0: 640x640 1 marmoset, 4.2ms\n",
            "Speed: 1.5ms preprocess, 4.2ms inference, 0.8ms postprocess per image at shape (1, 3, 640, 640)\n"
          ]
        },
        {
          "name": "stderr",
          "output_type": "stream",
          "text": [
            " 34%|███▍      | 721/2108 [06:57<13:47,  1.68it/s]"
          ]
        },
        {
          "name": "stdout",
          "output_type": "stream",
          "text": [
            "\n",
            "0: 640x640 1 marmoset, 4.2ms\n",
            "Speed: 1.5ms preprocess, 4.2ms inference, 0.8ms postprocess per image at shape (1, 3, 640, 640)\n"
          ]
        },
        {
          "name": "stderr",
          "output_type": "stream",
          "text": [
            " 34%|███▍      | 722/2108 [06:57<13:48,  1.67it/s]"
          ]
        },
        {
          "name": "stdout",
          "output_type": "stream",
          "text": [
            "\n",
            "0: 640x640 1 marmoset, 4.1ms\n",
            "Speed: 1.5ms preprocess, 4.1ms inference, 0.8ms postprocess per image at shape (1, 3, 640, 640)\n"
          ]
        },
        {
          "name": "stderr",
          "output_type": "stream",
          "text": [
            " 34%|███▍      | 723/2108 [06:58<13:47,  1.67it/s]"
          ]
        },
        {
          "name": "stdout",
          "output_type": "stream",
          "text": [
            "\n",
            "0: 640x640 1 marmoset, 4.2ms\n",
            "Speed: 1.5ms preprocess, 4.2ms inference, 0.8ms postprocess per image at shape (1, 3, 640, 640)\n"
          ]
        },
        {
          "name": "stderr",
          "output_type": "stream",
          "text": [
            " 34%|███▍      | 724/2108 [06:59<13:40,  1.69it/s]"
          ]
        },
        {
          "name": "stdout",
          "output_type": "stream",
          "text": [
            "\n",
            "0: 640x640 1 marmoset, 4.1ms\n",
            "Speed: 1.5ms preprocess, 4.1ms inference, 0.8ms postprocess per image at shape (1, 3, 640, 640)\n"
          ]
        },
        {
          "name": "stderr",
          "output_type": "stream",
          "text": [
            " 34%|███▍      | 725/2108 [06:59<13:40,  1.69it/s]"
          ]
        },
        {
          "name": "stdout",
          "output_type": "stream",
          "text": [
            "\n",
            "0: 640x640 1 marmoset, 4.2ms\n",
            "Speed: 1.4ms preprocess, 4.2ms inference, 0.8ms postprocess per image at shape (1, 3, 640, 640)\n"
          ]
        },
        {
          "name": "stderr",
          "output_type": "stream",
          "text": [
            " 34%|███▍      | 726/2108 [07:00<13:39,  1.69it/s]"
          ]
        },
        {
          "name": "stdout",
          "output_type": "stream",
          "text": [
            "\n",
            "0: 640x640 2 marmosets, 4.2ms\n",
            "Speed: 1.4ms preprocess, 4.2ms inference, 0.8ms postprocess per image at shape (1, 3, 640, 640)\n"
          ]
        },
        {
          "name": "stderr",
          "output_type": "stream",
          "text": [
            " 34%|███▍      | 727/2108 [07:00<13:39,  1.69it/s]"
          ]
        },
        {
          "name": "stdout",
          "output_type": "stream",
          "text": [
            "\n",
            "0: 640x640 1 marmoset, 4.2ms\n",
            "Speed: 1.6ms preprocess, 4.2ms inference, 0.8ms postprocess per image at shape (1, 3, 640, 640)\n"
          ]
        },
        {
          "name": "stderr",
          "output_type": "stream",
          "text": [
            " 35%|███▍      | 728/2108 [07:01<13:38,  1.69it/s]"
          ]
        },
        {
          "name": "stdout",
          "output_type": "stream",
          "text": [
            "\n",
            "0: 640x640 2 marmosets, 4.2ms\n",
            "Speed: 1.5ms preprocess, 4.2ms inference, 0.8ms postprocess per image at shape (1, 3, 640, 640)\n"
          ]
        },
        {
          "name": "stderr",
          "output_type": "stream",
          "text": [
            " 35%|███▍      | 729/2108 [07:02<13:44,  1.67it/s]"
          ]
        },
        {
          "name": "stdout",
          "output_type": "stream",
          "text": [
            "\n",
            "0: 640x640 1 marmoset, 4.2ms\n",
            "Speed: 1.5ms preprocess, 4.2ms inference, 0.8ms postprocess per image at shape (1, 3, 640, 640)\n"
          ]
        },
        {
          "name": "stderr",
          "output_type": "stream",
          "text": [
            " 35%|███▍      | 730/2108 [07:02<13:43,  1.67it/s]"
          ]
        },
        {
          "name": "stdout",
          "output_type": "stream",
          "text": [
            "\n",
            "0: 640x640 1 marmoset, 4.2ms\n",
            "Speed: 1.5ms preprocess, 4.2ms inference, 0.8ms postprocess per image at shape (1, 3, 640, 640)\n"
          ]
        },
        {
          "name": "stderr",
          "output_type": "stream",
          "text": [
            " 35%|███▍      | 731/2108 [07:03<13:44,  1.67it/s]"
          ]
        },
        {
          "name": "stdout",
          "output_type": "stream",
          "text": [
            "\n",
            "0: 640x640 1 marmoset, 4.2ms\n",
            "Speed: 1.5ms preprocess, 4.2ms inference, 0.8ms postprocess per image at shape (1, 3, 640, 640)\n"
          ]
        },
        {
          "name": "stderr",
          "output_type": "stream",
          "text": [
            " 35%|███▍      | 732/2108 [07:03<13:42,  1.67it/s]"
          ]
        },
        {
          "name": "stdout",
          "output_type": "stream",
          "text": [
            "\n",
            "0: 480x640 1 marmoset, 4.6ms\n",
            "Speed: 1.1ms preprocess, 4.6ms inference, 0.8ms postprocess per image at shape (1, 3, 480, 640)\n"
          ]
        },
        {
          "name": "stderr",
          "output_type": "stream",
          "text": [
            " 35%|███▍      | 733/2108 [07:04<13:37,  1.68it/s]"
          ]
        },
        {
          "name": "stdout",
          "output_type": "stream",
          "text": [
            "\n",
            "0: 640x640 1 marmoset, 4.4ms\n",
            "Speed: 1.5ms preprocess, 4.4ms inference, 0.8ms postprocess per image at shape (1, 3, 640, 640)\n"
          ]
        },
        {
          "name": "stderr",
          "output_type": "stream",
          "text": [
            " 35%|███▍      | 734/2108 [07:05<13:38,  1.68it/s]"
          ]
        },
        {
          "name": "stdout",
          "output_type": "stream",
          "text": [
            "\n",
            "0: 640x640 1 marmoset, 4.2ms\n",
            "Speed: 1.5ms preprocess, 4.2ms inference, 0.8ms postprocess per image at shape (1, 3, 640, 640)\n"
          ]
        },
        {
          "name": "stderr",
          "output_type": "stream",
          "text": [
            " 35%|███▍      | 735/2108 [07:05<13:52,  1.65it/s]"
          ]
        },
        {
          "name": "stdout",
          "output_type": "stream",
          "text": [
            "\n",
            "0: 480x640 1 marmoset, 4.5ms\n",
            "Speed: 1.1ms preprocess, 4.5ms inference, 0.8ms postprocess per image at shape (1, 3, 480, 640)\n"
          ]
        },
        {
          "name": "stderr",
          "output_type": "stream",
          "text": [
            " 35%|███▍      | 736/2108 [07:06<13:45,  1.66it/s]"
          ]
        },
        {
          "name": "stdout",
          "output_type": "stream",
          "text": [
            "\n",
            "0: 640x640 1 marmoset, 4.4ms\n",
            "Speed: 1.5ms preprocess, 4.4ms inference, 0.7ms postprocess per image at shape (1, 3, 640, 640)\n"
          ]
        },
        {
          "name": "stderr",
          "output_type": "stream",
          "text": [
            " 35%|███▍      | 737/2108 [07:06<13:35,  1.68it/s]"
          ]
        },
        {
          "name": "stdout",
          "output_type": "stream",
          "text": [
            "\n",
            "0: 640x640 1 marmoset, 4.2ms\n",
            "Speed: 1.5ms preprocess, 4.2ms inference, 0.8ms postprocess per image at shape (1, 3, 640, 640)\n"
          ]
        },
        {
          "name": "stderr",
          "output_type": "stream",
          "text": [
            " 35%|███▌      | 738/2108 [07:07<13:26,  1.70it/s]"
          ]
        },
        {
          "name": "stdout",
          "output_type": "stream",
          "text": [
            "\n",
            "0: 640x640 1 marmoset, 4.1ms\n",
            "Speed: 1.5ms preprocess, 4.1ms inference, 0.8ms postprocess per image at shape (1, 3, 640, 640)\n"
          ]
        },
        {
          "name": "stderr",
          "output_type": "stream",
          "text": [
            " 35%|███▌      | 739/2108 [07:08<13:27,  1.69it/s]"
          ]
        },
        {
          "name": "stdout",
          "output_type": "stream",
          "text": [
            "\n",
            "0: 640x640 2 marmosets, 4.2ms\n",
            "Speed: 1.4ms preprocess, 4.2ms inference, 0.8ms postprocess per image at shape (1, 3, 640, 640)\n"
          ]
        },
        {
          "name": "stderr",
          "output_type": "stream",
          "text": [
            " 35%|███▌      | 740/2108 [07:08<13:30,  1.69it/s]"
          ]
        },
        {
          "name": "stdout",
          "output_type": "stream",
          "text": [
            "\n",
            "0: 640x640 1 marmoset, 4.1ms\n",
            "Speed: 1.5ms preprocess, 4.1ms inference, 0.8ms postprocess per image at shape (1, 3, 640, 640)\n"
          ]
        },
        {
          "name": "stderr",
          "output_type": "stream",
          "text": [
            " 35%|███▌      | 741/2108 [07:09<13:35,  1.68it/s]"
          ]
        },
        {
          "name": "stdout",
          "output_type": "stream",
          "text": [
            "\n",
            "0: 640x640 1 marmoset, 4.2ms\n",
            "Speed: 1.5ms preprocess, 4.2ms inference, 0.8ms postprocess per image at shape (1, 3, 640, 640)\n"
          ]
        },
        {
          "name": "stderr",
          "output_type": "stream",
          "text": [
            " 35%|███▌      | 742/2108 [07:09<13:45,  1.65it/s]"
          ]
        },
        {
          "name": "stdout",
          "output_type": "stream",
          "text": [
            "\n",
            "0: 640x640 2 marmosets, 4.2ms\n",
            "Speed: 1.4ms preprocess, 4.2ms inference, 0.8ms postprocess per image at shape (1, 3, 640, 640)\n"
          ]
        },
        {
          "name": "stderr",
          "output_type": "stream",
          "text": [
            " 35%|███▌      | 743/2108 [07:10<13:54,  1.64it/s]"
          ]
        },
        {
          "name": "stdout",
          "output_type": "stream",
          "text": [
            "\n",
            "0: 640x640 1 marmoset, 4.2ms\n",
            "Speed: 1.5ms preprocess, 4.2ms inference, 0.8ms postprocess per image at shape (1, 3, 640, 640)\n"
          ]
        },
        {
          "name": "stderr",
          "output_type": "stream",
          "text": [
            " 35%|███▌      | 744/2108 [07:11<13:57,  1.63it/s]"
          ]
        },
        {
          "name": "stdout",
          "output_type": "stream",
          "text": [
            "\n",
            "0: 640x640 1 marmoset, 4.2ms\n",
            "Speed: 1.5ms preprocess, 4.2ms inference, 0.8ms postprocess per image at shape (1, 3, 640, 640)\n"
          ]
        },
        {
          "name": "stderr",
          "output_type": "stream",
          "text": [
            " 35%|███▌      | 745/2108 [07:11<14:02,  1.62it/s]"
          ]
        },
        {
          "name": "stdout",
          "output_type": "stream",
          "text": [
            "\n",
            "0: 640x640 1 marmoset, 4.2ms\n",
            "Speed: 1.6ms preprocess, 4.2ms inference, 0.8ms postprocess per image at shape (1, 3, 640, 640)\n"
          ]
        },
        {
          "name": "stderr",
          "output_type": "stream",
          "text": [
            " 35%|███▌      | 746/2108 [07:12<13:51,  1.64it/s]"
          ]
        },
        {
          "name": "stdout",
          "output_type": "stream",
          "text": [
            "\n",
            "0: 640x640 1 marmoset, 4.2ms\n",
            "Speed: 1.5ms preprocess, 4.2ms inference, 0.8ms postprocess per image at shape (1, 3, 640, 640)\n"
          ]
        },
        {
          "name": "stderr",
          "output_type": "stream",
          "text": [
            " 35%|███▌      | 747/2108 [07:12<13:40,  1.66it/s]"
          ]
        },
        {
          "name": "stdout",
          "output_type": "stream",
          "text": [
            "\n",
            "0: 640x640 1 marmoset, 4.2ms\n",
            "Speed: 1.4ms preprocess, 4.2ms inference, 0.8ms postprocess per image at shape (1, 3, 640, 640)\n"
          ]
        },
        {
          "name": "stderr",
          "output_type": "stream",
          "text": [
            " 35%|███▌      | 748/2108 [07:13<13:40,  1.66it/s]"
          ]
        },
        {
          "name": "stdout",
          "output_type": "stream",
          "text": [
            "\n",
            "0: 480x640 1 marmoset, 4.5ms\n",
            "Speed: 1.1ms preprocess, 4.5ms inference, 0.8ms postprocess per image at shape (1, 3, 480, 640)\n"
          ]
        },
        {
          "name": "stderr",
          "output_type": "stream",
          "text": [
            " 36%|███▌      | 749/2108 [07:14<13:36,  1.66it/s]"
          ]
        },
        {
          "name": "stdout",
          "output_type": "stream",
          "text": [
            "\n",
            "0: 640x640 1 marmoset, 4.4ms\n",
            "Speed: 1.5ms preprocess, 4.4ms inference, 0.7ms postprocess per image at shape (1, 3, 640, 640)\n"
          ]
        },
        {
          "name": "stderr",
          "output_type": "stream",
          "text": [
            " 36%|███▌      | 750/2108 [07:14<13:38,  1.66it/s]"
          ]
        },
        {
          "name": "stdout",
          "output_type": "stream",
          "text": [
            "\n",
            "0: 640x640 1 marmoset, 4.2ms\n",
            "Speed: 1.5ms preprocess, 4.2ms inference, 0.8ms postprocess per image at shape (1, 3, 640, 640)\n"
          ]
        },
        {
          "name": "stderr",
          "output_type": "stream",
          "text": [
            " 36%|███▌      | 751/2108 [07:15<13:39,  1.66it/s]"
          ]
        },
        {
          "name": "stdout",
          "output_type": "stream",
          "text": [
            "\n",
            "0: 640x640 1 marmoset, 4.2ms\n",
            "Speed: 1.5ms preprocess, 4.2ms inference, 0.8ms postprocess per image at shape (1, 3, 640, 640)\n"
          ]
        },
        {
          "name": "stderr",
          "output_type": "stream",
          "text": [
            " 36%|███▌      | 752/2108 [07:15<13:31,  1.67it/s]"
          ]
        },
        {
          "name": "stdout",
          "output_type": "stream",
          "text": [
            "\n",
            "0: 640x640 1 marmoset, 4.2ms\n",
            "Speed: 1.5ms preprocess, 4.2ms inference, 0.8ms postprocess per image at shape (1, 3, 640, 640)\n"
          ]
        },
        {
          "name": "stderr",
          "output_type": "stream",
          "text": [
            " 36%|███▌      | 753/2108 [07:16<13:26,  1.68it/s]"
          ]
        },
        {
          "name": "stdout",
          "output_type": "stream",
          "text": [
            "\n",
            "0: 640x640 1 marmoset, 4.1ms\n",
            "Speed: 1.5ms preprocess, 4.1ms inference, 0.8ms postprocess per image at shape (1, 3, 640, 640)\n"
          ]
        },
        {
          "name": "stderr",
          "output_type": "stream",
          "text": [
            " 36%|███▌      | 754/2108 [07:17<13:23,  1.68it/s]"
          ]
        },
        {
          "name": "stdout",
          "output_type": "stream",
          "text": [
            "\n",
            "0: 640x640 1 marmoset, 4.1ms\n",
            "Speed: 1.5ms preprocess, 4.1ms inference, 0.7ms postprocess per image at shape (1, 3, 640, 640)\n"
          ]
        },
        {
          "name": "stderr",
          "output_type": "stream",
          "text": [
            " 36%|███▌      | 755/2108 [07:17<13:20,  1.69it/s]"
          ]
        },
        {
          "name": "stdout",
          "output_type": "stream",
          "text": [
            "\n",
            "0: 640x640 1 marmoset, 4.2ms\n",
            "Speed: 1.5ms preprocess, 4.2ms inference, 0.8ms postprocess per image at shape (1, 3, 640, 640)\n"
          ]
        },
        {
          "name": "stderr",
          "output_type": "stream",
          "text": [
            " 36%|███▌      | 756/2108 [07:18<13:17,  1.69it/s]"
          ]
        },
        {
          "name": "stdout",
          "output_type": "stream",
          "text": [
            "\n",
            "0: 480x640 1 marmoset, 4.5ms\n",
            "Speed: 1.1ms preprocess, 4.5ms inference, 0.8ms postprocess per image at shape (1, 3, 480, 640)\n"
          ]
        },
        {
          "name": "stderr",
          "output_type": "stream",
          "text": [
            " 36%|███▌      | 757/2108 [07:18<13:34,  1.66it/s]"
          ]
        },
        {
          "name": "stdout",
          "output_type": "stream",
          "text": [
            "\n",
            "0: 640x640 2 marmosets, 4.4ms\n",
            "Speed: 1.4ms preprocess, 4.4ms inference, 0.7ms postprocess per image at shape (1, 3, 640, 640)\n"
          ]
        },
        {
          "name": "stderr",
          "output_type": "stream",
          "text": [
            " 36%|███▌      | 758/2108 [07:19<13:42,  1.64it/s]"
          ]
        },
        {
          "name": "stdout",
          "output_type": "stream",
          "text": [
            "\n",
            "0: 640x640 2 marmosets, 4.1ms\n",
            "Speed: 1.4ms preprocess, 4.1ms inference, 0.7ms postprocess per image at shape (1, 3, 640, 640)\n"
          ]
        },
        {
          "name": "stderr",
          "output_type": "stream",
          "text": [
            " 36%|███▌      | 759/2108 [07:20<13:46,  1.63it/s]"
          ]
        },
        {
          "name": "stdout",
          "output_type": "stream",
          "text": [
            "\n",
            "0: 640x640 1 marmoset, 4.2ms\n",
            "Speed: 1.5ms preprocess, 4.2ms inference, 0.8ms postprocess per image at shape (1, 3, 640, 640)\n"
          ]
        },
        {
          "name": "stderr",
          "output_type": "stream",
          "text": [
            " 36%|███▌      | 760/2108 [07:20<13:45,  1.63it/s]"
          ]
        },
        {
          "name": "stdout",
          "output_type": "stream",
          "text": [
            "\n",
            "0: 640x640 2 marmosets, 4.2ms\n",
            "Speed: 1.5ms preprocess, 4.2ms inference, 0.8ms postprocess per image at shape (1, 3, 640, 640)\n"
          ]
        },
        {
          "name": "stderr",
          "output_type": "stream",
          "text": [
            " 36%|███▌      | 761/2108 [07:21<13:50,  1.62it/s]"
          ]
        },
        {
          "name": "stdout",
          "output_type": "stream",
          "text": [
            "\n",
            "0: 640x640 1 marmoset, 4.2ms\n",
            "Speed: 1.5ms preprocess, 4.2ms inference, 0.8ms postprocess per image at shape (1, 3, 640, 640)\n"
          ]
        },
        {
          "name": "stderr",
          "output_type": "stream",
          "text": [
            " 36%|███▌      | 762/2108 [07:21<13:50,  1.62it/s]"
          ]
        },
        {
          "name": "stdout",
          "output_type": "stream",
          "text": [
            "\n",
            "0: 640x640 2 marmosets, 4.2ms\n",
            "Speed: 1.4ms preprocess, 4.2ms inference, 0.7ms postprocess per image at shape (1, 3, 640, 640)\n"
          ]
        },
        {
          "name": "stderr",
          "output_type": "stream",
          "text": [
            " 36%|███▌      | 763/2108 [07:22<13:51,  1.62it/s]"
          ]
        },
        {
          "name": "stdout",
          "output_type": "stream",
          "text": [
            "\n",
            "0: 640x640 1 marmoset, 4.1ms\n",
            "Speed: 1.5ms preprocess, 4.1ms inference, 0.8ms postprocess per image at shape (1, 3, 640, 640)\n"
          ]
        },
        {
          "name": "stderr",
          "output_type": "stream",
          "text": [
            " 36%|███▌      | 764/2108 [07:23<13:50,  1.62it/s]"
          ]
        },
        {
          "name": "stdout",
          "output_type": "stream",
          "text": [
            "\n",
            "0: 480x640 1 marmoset, 4.5ms\n",
            "Speed: 1.1ms preprocess, 4.5ms inference, 0.7ms postprocess per image at shape (1, 3, 480, 640)\n"
          ]
        },
        {
          "name": "stderr",
          "output_type": "stream",
          "text": [
            " 36%|███▋      | 765/2108 [07:23<13:45,  1.63it/s]"
          ]
        },
        {
          "name": "stdout",
          "output_type": "stream",
          "text": [
            "\n",
            "0: 640x640 1 marmoset, 4.4ms\n",
            "Speed: 1.5ms preprocess, 4.4ms inference, 0.7ms postprocess per image at shape (1, 3, 640, 640)\n"
          ]
        },
        {
          "name": "stderr",
          "output_type": "stream",
          "text": [
            " 36%|███▋      | 766/2108 [07:24<13:46,  1.62it/s]"
          ]
        },
        {
          "name": "stdout",
          "output_type": "stream",
          "text": [
            "\n",
            "0: 640x640 1 marmoset, 4.2ms\n",
            "Speed: 1.5ms preprocess, 4.2ms inference, 0.7ms postprocess per image at shape (1, 3, 640, 640)\n"
          ]
        },
        {
          "name": "stderr",
          "output_type": "stream",
          "text": [
            " 36%|███▋      | 767/2108 [07:25<13:46,  1.62it/s]"
          ]
        },
        {
          "name": "stdout",
          "output_type": "stream",
          "text": [
            "\n",
            "0: 640x640 1 marmoset, 4.1ms\n",
            "Speed: 1.5ms preprocess, 4.1ms inference, 0.8ms postprocess per image at shape (1, 3, 640, 640)\n"
          ]
        },
        {
          "name": "stderr",
          "output_type": "stream",
          "text": [
            " 36%|███▋      | 768/2108 [07:25<13:46,  1.62it/s]"
          ]
        },
        {
          "name": "stdout",
          "output_type": "stream",
          "text": [
            "\n",
            "0: 640x640 1 marmoset, 4.1ms\n",
            "Speed: 1.5ms preprocess, 4.1ms inference, 0.8ms postprocess per image at shape (1, 3, 640, 640)\n"
          ]
        },
        {
          "name": "stderr",
          "output_type": "stream",
          "text": [
            " 36%|███▋      | 769/2108 [07:26<13:46,  1.62it/s]"
          ]
        },
        {
          "name": "stdout",
          "output_type": "stream",
          "text": [
            "\n",
            "0: 640x640 1 marmoset, 4.2ms\n",
            "Speed: 1.5ms preprocess, 4.2ms inference, 0.8ms postprocess per image at shape (1, 3, 640, 640)\n"
          ]
        },
        {
          "name": "stderr",
          "output_type": "stream",
          "text": [
            " 37%|███▋      | 770/2108 [07:26<13:45,  1.62it/s]"
          ]
        },
        {
          "name": "stdout",
          "output_type": "stream",
          "text": [
            "\n",
            "0: 480x640 1 marmoset, 4.5ms\n",
            "Speed: 1.1ms preprocess, 4.5ms inference, 0.8ms postprocess per image at shape (1, 3, 480, 640)\n"
          ]
        },
        {
          "name": "stderr",
          "output_type": "stream",
          "text": [
            " 37%|███▋      | 771/2108 [07:27<13:33,  1.64it/s]"
          ]
        },
        {
          "name": "stdout",
          "output_type": "stream",
          "text": [
            "\n",
            "0: 640x640 2 marmosets, 4.4ms\n",
            "Speed: 1.5ms preprocess, 4.4ms inference, 0.8ms postprocess per image at shape (1, 3, 640, 640)\n"
          ]
        },
        {
          "name": "stderr",
          "output_type": "stream",
          "text": [
            " 37%|███▋      | 772/2108 [07:28<13:35,  1.64it/s]"
          ]
        },
        {
          "name": "stdout",
          "output_type": "stream",
          "text": [
            "\n",
            "0: 640x640 1 marmoset, 4.2ms\n",
            "Speed: 1.5ms preprocess, 4.2ms inference, 0.8ms postprocess per image at shape (1, 3, 640, 640)\n"
          ]
        },
        {
          "name": "stderr",
          "output_type": "stream",
          "text": [
            " 37%|███▋      | 773/2108 [07:28<13:29,  1.65it/s]"
          ]
        },
        {
          "name": "stdout",
          "output_type": "stream",
          "text": [
            "\n",
            "0: 640x640 1 marmoset, 4.2ms\n",
            "Speed: 1.5ms preprocess, 4.2ms inference, 0.8ms postprocess per image at shape (1, 3, 640, 640)\n"
          ]
        },
        {
          "name": "stderr",
          "output_type": "stream",
          "text": [
            " 37%|███▋      | 774/2108 [07:29<13:25,  1.66it/s]"
          ]
        },
        {
          "name": "stdout",
          "output_type": "stream",
          "text": [
            "\n",
            "0: 640x640 1 marmoset, 4.1ms\n",
            "Speed: 1.5ms preprocess, 4.1ms inference, 0.8ms postprocess per image at shape (1, 3, 640, 640)\n"
          ]
        },
        {
          "name": "stderr",
          "output_type": "stream",
          "text": [
            " 37%|███▋      | 775/2108 [07:29<13:20,  1.66it/s]"
          ]
        },
        {
          "name": "stdout",
          "output_type": "stream",
          "text": [
            "\n",
            "0: 640x640 1 marmoset, 4.2ms\n",
            "Speed: 1.6ms preprocess, 4.2ms inference, 0.8ms postprocess per image at shape (1, 3, 640, 640)\n"
          ]
        },
        {
          "name": "stderr",
          "output_type": "stream",
          "text": [
            " 37%|███▋      | 776/2108 [07:30<13:19,  1.67it/s]"
          ]
        },
        {
          "name": "stdout",
          "output_type": "stream",
          "text": [
            "\n",
            "0: 640x640 1 marmoset, 4.2ms\n",
            "Speed: 1.4ms preprocess, 4.2ms inference, 0.8ms postprocess per image at shape (1, 3, 640, 640)\n"
          ]
        },
        {
          "name": "stderr",
          "output_type": "stream",
          "text": [
            " 37%|███▋      | 777/2108 [07:31<13:15,  1.67it/s]"
          ]
        },
        {
          "name": "stdout",
          "output_type": "stream",
          "text": [
            "\n",
            "0: 640x640 1 marmoset, 4.2ms\n",
            "Speed: 1.5ms preprocess, 4.2ms inference, 0.8ms postprocess per image at shape (1, 3, 640, 640)\n"
          ]
        },
        {
          "name": "stderr",
          "output_type": "stream",
          "text": [
            " 37%|███▋      | 778/2108 [07:31<13:14,  1.67it/s]"
          ]
        },
        {
          "name": "stdout",
          "output_type": "stream",
          "text": [
            "\n",
            "0: 640x640 1 marmoset, 4.1ms\n",
            "Speed: 1.5ms preprocess, 4.1ms inference, 0.8ms postprocess per image at shape (1, 3, 640, 640)\n"
          ]
        },
        {
          "name": "stderr",
          "output_type": "stream",
          "text": [
            " 37%|███▋      | 779/2108 [07:32<13:16,  1.67it/s]"
          ]
        },
        {
          "name": "stdout",
          "output_type": "stream",
          "text": [
            "\n",
            "0: 640x640 1 marmoset, 4.2ms\n",
            "Speed: 1.5ms preprocess, 4.2ms inference, 0.8ms postprocess per image at shape (1, 3, 640, 640)\n"
          ]
        },
        {
          "name": "stderr",
          "output_type": "stream",
          "text": [
            " 37%|███▋      | 780/2108 [07:32<13:42,  1.61it/s]"
          ]
        },
        {
          "name": "stdout",
          "output_type": "stream",
          "text": [
            "\n",
            "0: 480x640 1 marmoset, 4.5ms\n",
            "Speed: 1.1ms preprocess, 4.5ms inference, 0.8ms postprocess per image at shape (1, 3, 480, 640)\n"
          ]
        },
        {
          "name": "stderr",
          "output_type": "stream",
          "text": [
            " 37%|███▋      | 781/2108 [07:33<13:37,  1.62it/s]"
          ]
        },
        {
          "name": "stdout",
          "output_type": "stream",
          "text": [
            "\n",
            "0: 640x640 1 marmoset, 4.4ms\n",
            "Speed: 1.5ms preprocess, 4.4ms inference, 0.7ms postprocess per image at shape (1, 3, 640, 640)\n"
          ]
        },
        {
          "name": "stderr",
          "output_type": "stream",
          "text": [
            " 37%|███▋      | 782/2108 [07:34<13:28,  1.64it/s]"
          ]
        },
        {
          "name": "stdout",
          "output_type": "stream",
          "text": [
            "\n",
            "0: 640x640 1 marmoset, 4.2ms\n",
            "Speed: 1.5ms preprocess, 4.2ms inference, 0.8ms postprocess per image at shape (1, 3, 640, 640)\n"
          ]
        },
        {
          "name": "stderr",
          "output_type": "stream",
          "text": [
            " 37%|███▋      | 783/2108 [07:34<13:23,  1.65it/s]"
          ]
        },
        {
          "name": "stdout",
          "output_type": "stream",
          "text": [
            "\n",
            "0: 640x640 2 marmosets, 4.2ms\n",
            "Speed: 1.4ms preprocess, 4.2ms inference, 0.8ms postprocess per image at shape (1, 3, 640, 640)\n"
          ]
        },
        {
          "name": "stderr",
          "output_type": "stream",
          "text": [
            " 37%|███▋      | 784/2108 [07:35<13:20,  1.65it/s]"
          ]
        },
        {
          "name": "stdout",
          "output_type": "stream",
          "text": [
            "\n",
            "0: 640x640 1 marmoset, 4.2ms\n",
            "Speed: 1.5ms preprocess, 4.2ms inference, 0.8ms postprocess per image at shape (1, 3, 640, 640)\n"
          ]
        },
        {
          "name": "stderr",
          "output_type": "stream",
          "text": [
            " 37%|███▋      | 785/2108 [07:35<13:09,  1.68it/s]"
          ]
        },
        {
          "name": "stdout",
          "output_type": "stream",
          "text": [
            "\n",
            "0: 640x640 2 marmosets, 4.2ms\n",
            "Speed: 1.5ms preprocess, 4.2ms inference, 0.8ms postprocess per image at shape (1, 3, 640, 640)\n"
          ]
        },
        {
          "name": "stderr",
          "output_type": "stream",
          "text": [
            " 37%|███▋      | 786/2108 [07:36<13:04,  1.69it/s]"
          ]
        },
        {
          "name": "stdout",
          "output_type": "stream",
          "text": [
            "\n",
            "0: 640x640 2 marmosets, 4.1ms\n",
            "Speed: 1.4ms preprocess, 4.1ms inference, 0.8ms postprocess per image at shape (1, 3, 640, 640)\n"
          ]
        },
        {
          "name": "stderr",
          "output_type": "stream",
          "text": [
            " 37%|███▋      | 787/2108 [07:37<13:28,  1.63it/s]"
          ]
        },
        {
          "name": "stdout",
          "output_type": "stream",
          "text": [
            "\n",
            "0: 640x640 1 marmoset, 4.1ms\n",
            "Speed: 1.5ms preprocess, 4.1ms inference, 0.8ms postprocess per image at shape (1, 3, 640, 640)\n"
          ]
        },
        {
          "name": "stderr",
          "output_type": "stream",
          "text": [
            " 37%|███▋      | 788/2108 [07:37<13:37,  1.62it/s]"
          ]
        },
        {
          "name": "stdout",
          "output_type": "stream",
          "text": [
            "\n",
            "0: 640x640 1 marmoset, 4.2ms\n",
            "Speed: 1.5ms preprocess, 4.2ms inference, 0.8ms postprocess per image at shape (1, 3, 640, 640)\n"
          ]
        },
        {
          "name": "stderr",
          "output_type": "stream",
          "text": [
            " 37%|███▋      | 789/2108 [07:38<13:27,  1.63it/s]"
          ]
        },
        {
          "name": "stdout",
          "output_type": "stream",
          "text": [
            "\n",
            "0: 640x640 2 marmosets, 4.2ms\n",
            "Speed: 1.4ms preprocess, 4.2ms inference, 0.8ms postprocess per image at shape (1, 3, 640, 640)\n"
          ]
        },
        {
          "name": "stderr",
          "output_type": "stream",
          "text": [
            " 37%|███▋      | 790/2108 [07:38<13:13,  1.66it/s]"
          ]
        },
        {
          "name": "stdout",
          "output_type": "stream",
          "text": [
            "\n",
            "0: 640x640 2 marmosets, 4.1ms\n",
            "Speed: 1.4ms preprocess, 4.1ms inference, 0.8ms postprocess per image at shape (1, 3, 640, 640)\n"
          ]
        },
        {
          "name": "stderr",
          "output_type": "stream",
          "text": [
            " 38%|███▊      | 791/2108 [07:39<13:10,  1.67it/s]"
          ]
        },
        {
          "name": "stdout",
          "output_type": "stream",
          "text": [
            "\n",
            "0: 480x640 1 marmoset, 4.5ms\n",
            "Speed: 1.1ms preprocess, 4.5ms inference, 0.8ms postprocess per image at shape (1, 3, 480, 640)\n"
          ]
        },
        {
          "name": "stderr",
          "output_type": "stream",
          "text": [
            " 38%|███▊      | 792/2108 [07:40<13:09,  1.67it/s]"
          ]
        },
        {
          "name": "stdout",
          "output_type": "stream",
          "text": [
            "\n",
            "0: 640x640 1 marmoset, 4.4ms\n",
            "Speed: 1.4ms preprocess, 4.4ms inference, 0.7ms postprocess per image at shape (1, 3, 640, 640)\n"
          ]
        },
        {
          "name": "stderr",
          "output_type": "stream",
          "text": [
            " 38%|███▊      | 793/2108 [07:40<13:10,  1.66it/s]"
          ]
        },
        {
          "name": "stdout",
          "output_type": "stream",
          "text": [
            "\n",
            "0: 640x640 2 marmosets, 4.2ms\n",
            "Speed: 1.4ms preprocess, 4.2ms inference, 0.8ms postprocess per image at shape (1, 3, 640, 640)\n"
          ]
        },
        {
          "name": "stderr",
          "output_type": "stream",
          "text": [
            " 38%|███▊      | 794/2108 [07:41<13:15,  1.65it/s]"
          ]
        },
        {
          "name": "stdout",
          "output_type": "stream",
          "text": [
            "\n",
            "0: 640x640 1 marmoset, 4.2ms\n",
            "Speed: 1.5ms preprocess, 4.2ms inference, 0.8ms postprocess per image at shape (1, 3, 640, 640)\n"
          ]
        },
        {
          "name": "stderr",
          "output_type": "stream",
          "text": [
            " 38%|███▊      | 795/2108 [07:42<13:16,  1.65it/s]"
          ]
        },
        {
          "name": "stdout",
          "output_type": "stream",
          "text": [
            "\n",
            "0: 640x640 1 marmoset, 4.2ms\n",
            "Speed: 1.5ms preprocess, 4.2ms inference, 0.8ms postprocess per image at shape (1, 3, 640, 640)\n"
          ]
        },
        {
          "name": "stderr",
          "output_type": "stream",
          "text": [
            " 38%|███▊      | 796/2108 [07:42<13:19,  1.64it/s]"
          ]
        },
        {
          "name": "stdout",
          "output_type": "stream",
          "text": [
            "\n",
            "0: 640x640 1 marmoset, 4.2ms\n",
            "Speed: 1.5ms preprocess, 4.2ms inference, 0.8ms postprocess per image at shape (1, 3, 640, 640)\n"
          ]
        },
        {
          "name": "stderr",
          "output_type": "stream",
          "text": [
            " 38%|███▊      | 797/2108 [07:43<13:19,  1.64it/s]"
          ]
        },
        {
          "name": "stdout",
          "output_type": "stream",
          "text": [
            "\n",
            "0: 640x640 1 marmoset, 4.2ms\n",
            "Speed: 1.6ms preprocess, 4.2ms inference, 0.8ms postprocess per image at shape (1, 3, 640, 640)\n"
          ]
        },
        {
          "name": "stderr",
          "output_type": "stream",
          "text": [
            " 38%|███▊      | 798/2108 [07:43<13:20,  1.64it/s]"
          ]
        },
        {
          "name": "stdout",
          "output_type": "stream",
          "text": [
            "\n",
            "0: 640x640 1 marmoset, 4.2ms\n",
            "Speed: 1.5ms preprocess, 4.2ms inference, 0.8ms postprocess per image at shape (1, 3, 640, 640)\n"
          ]
        },
        {
          "name": "stderr",
          "output_type": "stream",
          "text": [
            " 38%|███▊      | 799/2108 [07:44<13:19,  1.64it/s]"
          ]
        },
        {
          "name": "stdout",
          "output_type": "stream",
          "text": [
            "\n",
            "0: 640x640 1 marmoset, 4.2ms\n",
            "Speed: 1.5ms preprocess, 4.2ms inference, 0.8ms postprocess per image at shape (1, 3, 640, 640)\n"
          ]
        },
        {
          "name": "stderr",
          "output_type": "stream",
          "text": [
            " 38%|███▊      | 800/2108 [07:45<13:17,  1.64it/s]"
          ]
        },
        {
          "name": "stdout",
          "output_type": "stream",
          "text": [
            "\n",
            "0: 640x640 1 marmoset, 4.2ms\n",
            "Speed: 1.5ms preprocess, 4.2ms inference, 0.8ms postprocess per image at shape (1, 3, 640, 640)\n"
          ]
        },
        {
          "name": "stderr",
          "output_type": "stream",
          "text": [
            " 38%|███▊      | 801/2108 [07:45<13:17,  1.64it/s]"
          ]
        },
        {
          "name": "stdout",
          "output_type": "stream",
          "text": [
            "\n",
            "0: 640x640 1 marmoset, 4.2ms\n",
            "Speed: 1.5ms preprocess, 4.2ms inference, 0.8ms postprocess per image at shape (1, 3, 640, 640)\n"
          ]
        },
        {
          "name": "stderr",
          "output_type": "stream",
          "text": [
            " 38%|███▊      | 802/2108 [07:46<13:17,  1.64it/s]"
          ]
        },
        {
          "name": "stdout",
          "output_type": "stream",
          "text": [
            "\n",
            "0: 480x640 1 marmoset, 4.5ms\n",
            "Speed: 1.1ms preprocess, 4.5ms inference, 0.8ms postprocess per image at shape (1, 3, 480, 640)\n"
          ]
        },
        {
          "name": "stderr",
          "output_type": "stream",
          "text": [
            " 38%|███▊      | 803/2108 [07:46<13:12,  1.65it/s]"
          ]
        },
        {
          "name": "stdout",
          "output_type": "stream",
          "text": [
            "\n",
            "0: 640x640 1 marmoset, 4.4ms\n",
            "Speed: 1.5ms preprocess, 4.4ms inference, 0.8ms postprocess per image at shape (1, 3, 640, 640)\n"
          ]
        },
        {
          "name": "stderr",
          "output_type": "stream",
          "text": [
            " 38%|███▊      | 804/2108 [07:47<13:14,  1.64it/s]"
          ]
        },
        {
          "name": "stdout",
          "output_type": "stream",
          "text": [
            "\n",
            "0: 640x640 1 marmoset, 4.2ms\n",
            "Speed: 1.5ms preprocess, 4.2ms inference, 0.8ms postprocess per image at shape (1, 3, 640, 640)\n"
          ]
        },
        {
          "name": "stderr",
          "output_type": "stream",
          "text": [
            " 38%|███▊      | 805/2108 [07:48<13:14,  1.64it/s]"
          ]
        },
        {
          "name": "stdout",
          "output_type": "stream",
          "text": [
            "\n",
            "0: 640x640 1 marmoset, 4.2ms\n",
            "Speed: 1.5ms preprocess, 4.2ms inference, 0.8ms postprocess per image at shape (1, 3, 640, 640)\n"
          ]
        },
        {
          "name": "stderr",
          "output_type": "stream",
          "text": [
            " 38%|███▊      | 806/2108 [07:48<13:14,  1.64it/s]"
          ]
        },
        {
          "name": "stdout",
          "output_type": "stream",
          "text": [
            "\n",
            "0: 640x640 2 marmosets, 4.2ms\n",
            "Speed: 1.4ms preprocess, 4.2ms inference, 0.8ms postprocess per image at shape (1, 3, 640, 640)\n"
          ]
        },
        {
          "name": "stderr",
          "output_type": "stream",
          "text": [
            " 38%|███▊      | 807/2108 [07:49<13:15,  1.64it/s]"
          ]
        },
        {
          "name": "stdout",
          "output_type": "stream",
          "text": [
            "\n",
            "0: 640x640 2 marmosets, 4.2ms\n",
            "Speed: 1.5ms preprocess, 4.2ms inference, 0.8ms postprocess per image at shape (1, 3, 640, 640)\n"
          ]
        },
        {
          "name": "stderr",
          "output_type": "stream",
          "text": [
            " 38%|███▊      | 808/2108 [07:49<13:13,  1.64it/s]"
          ]
        },
        {
          "name": "stdout",
          "output_type": "stream",
          "text": [
            "\n",
            "0: 640x640 1 marmoset, 4.2ms\n",
            "Speed: 1.5ms preprocess, 4.2ms inference, 0.8ms postprocess per image at shape (1, 3, 640, 640)\n"
          ]
        },
        {
          "name": "stderr",
          "output_type": "stream",
          "text": [
            " 38%|███▊      | 809/2108 [07:50<13:13,  1.64it/s]"
          ]
        },
        {
          "name": "stdout",
          "output_type": "stream",
          "text": [
            "\n",
            "0: 640x640 1 marmoset, 4.2ms\n",
            "Speed: 1.5ms preprocess, 4.2ms inference, 0.8ms postprocess per image at shape (1, 3, 640, 640)\n"
          ]
        },
        {
          "name": "stderr",
          "output_type": "stream",
          "text": [
            " 38%|███▊      | 810/2108 [07:51<13:12,  1.64it/s]"
          ]
        },
        {
          "name": "stdout",
          "output_type": "stream",
          "text": [
            "\n",
            "0: 640x640 1 marmoset, 4.2ms\n",
            "Speed: 1.5ms preprocess, 4.2ms inference, 0.8ms postprocess per image at shape (1, 3, 640, 640)\n"
          ]
        },
        {
          "name": "stderr",
          "output_type": "stream",
          "text": [
            " 38%|███▊      | 811/2108 [07:51<13:13,  1.64it/s]"
          ]
        },
        {
          "name": "stdout",
          "output_type": "stream",
          "text": [
            "\n",
            "0: 640x640 1 marmoset, 4.2ms\n",
            "Speed: 1.5ms preprocess, 4.2ms inference, 0.8ms postprocess per image at shape (1, 3, 640, 640)\n"
          ]
        },
        {
          "name": "stderr",
          "output_type": "stream",
          "text": [
            " 39%|███▊      | 812/2108 [07:52<13:11,  1.64it/s]"
          ]
        },
        {
          "name": "stdout",
          "output_type": "stream",
          "text": [
            "\n",
            "0: 640x640 2 marmosets, 4.2ms\n",
            "Speed: 1.4ms preprocess, 4.2ms inference, 0.8ms postprocess per image at shape (1, 3, 640, 640)\n"
          ]
        },
        {
          "name": "stderr",
          "output_type": "stream",
          "text": [
            " 39%|███▊      | 813/2108 [07:53<13:12,  1.63it/s]"
          ]
        },
        {
          "name": "stdout",
          "output_type": "stream",
          "text": [
            "\n",
            "0: 640x640 2 marmosets, 4.2ms\n",
            "Speed: 1.4ms preprocess, 4.2ms inference, 0.8ms postprocess per image at shape (1, 3, 640, 640)\n"
          ]
        },
        {
          "name": "stderr",
          "output_type": "stream",
          "text": [
            " 39%|███▊      | 814/2108 [07:53<13:12,  1.63it/s]"
          ]
        },
        {
          "name": "stdout",
          "output_type": "stream",
          "text": [
            "\n",
            "0: 640x640 1 marmoset, 4.1ms\n",
            "Speed: 1.5ms preprocess, 4.1ms inference, 0.8ms postprocess per image at shape (1, 3, 640, 640)\n"
          ]
        },
        {
          "name": "stderr",
          "output_type": "stream",
          "text": [
            " 39%|███▊      | 815/2108 [07:54<13:10,  1.63it/s]"
          ]
        },
        {
          "name": "stdout",
          "output_type": "stream",
          "text": [
            "\n",
            "0: 480x640 1 marmoset, 4.6ms\n",
            "Speed: 1.1ms preprocess, 4.6ms inference, 0.8ms postprocess per image at shape (1, 3, 480, 640)\n"
          ]
        },
        {
          "name": "stderr",
          "output_type": "stream",
          "text": [
            " 39%|███▊      | 816/2108 [07:54<12:57,  1.66it/s]"
          ]
        },
        {
          "name": "stdout",
          "output_type": "stream",
          "text": [
            "\n",
            "0: 640x640 1 marmoset, 4.4ms\n",
            "Speed: 1.5ms preprocess, 4.4ms inference, 0.7ms postprocess per image at shape (1, 3, 640, 640)\n"
          ]
        },
        {
          "name": "stderr",
          "output_type": "stream",
          "text": [
            " 39%|███▉      | 817/2108 [07:55<12:46,  1.68it/s]"
          ]
        },
        {
          "name": "stdout",
          "output_type": "stream",
          "text": [
            "\n",
            "0: 640x640 1 marmoset, 4.2ms\n",
            "Speed: 1.5ms preprocess, 4.2ms inference, 0.8ms postprocess per image at shape (1, 3, 640, 640)\n"
          ]
        },
        {
          "name": "stderr",
          "output_type": "stream",
          "text": [
            " 39%|███▉      | 818/2108 [07:55<12:18,  1.75it/s]"
          ]
        },
        {
          "name": "stdout",
          "output_type": "stream",
          "text": [
            "\n",
            "0: 640x640 1 marmoset, 4.2ms\n",
            "Speed: 1.5ms preprocess, 4.2ms inference, 0.8ms postprocess per image at shape (1, 3, 640, 640)\n"
          ]
        },
        {
          "name": "stderr",
          "output_type": "stream",
          "text": [
            " 39%|███▉      | 819/2108 [07:56<12:29,  1.72it/s]"
          ]
        },
        {
          "name": "stdout",
          "output_type": "stream",
          "text": [
            "\n",
            "0: 640x640 1 marmoset, 4.2ms\n",
            "Speed: 1.5ms preprocess, 4.2ms inference, 0.8ms postprocess per image at shape (1, 3, 640, 640)\n"
          ]
        },
        {
          "name": "stderr",
          "output_type": "stream",
          "text": [
            " 39%|███▉      | 820/2108 [07:57<12:59,  1.65it/s]"
          ]
        },
        {
          "name": "stdout",
          "output_type": "stream",
          "text": [
            "\n",
            "0: 640x640 1 marmoset, 4.2ms\n",
            "Speed: 1.5ms preprocess, 4.2ms inference, 0.8ms postprocess per image at shape (1, 3, 640, 640)\n"
          ]
        },
        {
          "name": "stderr",
          "output_type": "stream",
          "text": [
            " 39%|███▉      | 821/2108 [07:57<13:01,  1.65it/s]"
          ]
        },
        {
          "name": "stdout",
          "output_type": "stream",
          "text": [
            "\n",
            "0: 640x640 1 marmoset, 4.2ms\n",
            "Speed: 1.5ms preprocess, 4.2ms inference, 0.8ms postprocess per image at shape (1, 3, 640, 640)\n"
          ]
        },
        {
          "name": "stderr",
          "output_type": "stream",
          "text": [
            " 39%|███▉      | 822/2108 [07:58<13:01,  1.65it/s]"
          ]
        },
        {
          "name": "stdout",
          "output_type": "stream",
          "text": [
            "\n",
            "0: 640x640 2 marmosets, 4.2ms\n",
            "Speed: 1.4ms preprocess, 4.2ms inference, 0.8ms postprocess per image at shape (1, 3, 640, 640)\n"
          ]
        },
        {
          "name": "stderr",
          "output_type": "stream",
          "text": [
            " 39%|███▉      | 823/2108 [07:58<13:00,  1.65it/s]"
          ]
        },
        {
          "name": "stdout",
          "output_type": "stream",
          "text": [
            "\n",
            "0: 640x640 1 marmoset, 4.2ms\n",
            "Speed: 1.4ms preprocess, 4.2ms inference, 0.8ms postprocess per image at shape (1, 3, 640, 640)\n"
          ]
        },
        {
          "name": "stderr",
          "output_type": "stream",
          "text": [
            " 39%|███▉      | 824/2108 [07:59<12:57,  1.65it/s]"
          ]
        },
        {
          "name": "stdout",
          "output_type": "stream",
          "text": [
            "\n",
            "0: 480x640 1 marmoset, 4.5ms\n",
            "Speed: 1.1ms preprocess, 4.5ms inference, 0.8ms postprocess per image at shape (1, 3, 480, 640)\n"
          ]
        },
        {
          "name": "stderr",
          "output_type": "stream",
          "text": [
            " 39%|███▉      | 825/2108 [08:00<12:52,  1.66it/s]"
          ]
        },
        {
          "name": "stdout",
          "output_type": "stream",
          "text": [
            "\n",
            "0: 640x640 1 marmoset, 4.5ms\n",
            "Speed: 1.5ms preprocess, 4.5ms inference, 0.8ms postprocess per image at shape (1, 3, 640, 640)\n"
          ]
        },
        {
          "name": "stderr",
          "output_type": "stream",
          "text": [
            " 39%|███▉      | 826/2108 [08:00<12:53,  1.66it/s]"
          ]
        },
        {
          "name": "stdout",
          "output_type": "stream",
          "text": [
            "\n",
            "0: 640x640 1 marmoset, 4.2ms\n",
            "Speed: 1.5ms preprocess, 4.2ms inference, 0.8ms postprocess per image at shape (1, 3, 640, 640)\n"
          ]
        },
        {
          "name": "stderr",
          "output_type": "stream",
          "text": [
            " 39%|███▉      | 827/2108 [08:01<12:53,  1.66it/s]"
          ]
        },
        {
          "name": "stdout",
          "output_type": "stream",
          "text": [
            "\n",
            "0: 640x640 2 marmosets, 4.2ms\n",
            "Speed: 1.4ms preprocess, 4.2ms inference, 0.8ms postprocess per image at shape (1, 3, 640, 640)\n"
          ]
        },
        {
          "name": "stderr",
          "output_type": "stream",
          "text": [
            " 39%|███▉      | 828/2108 [08:02<12:55,  1.65it/s]"
          ]
        },
        {
          "name": "stdout",
          "output_type": "stream",
          "text": [
            "\n",
            "0: 640x640 1 marmoset, 4.2ms\n",
            "Speed: 1.5ms preprocess, 4.2ms inference, 0.8ms postprocess per image at shape (1, 3, 640, 640)\n"
          ]
        },
        {
          "name": "stderr",
          "output_type": "stream",
          "text": [
            " 39%|███▉      | 829/2108 [08:02<12:56,  1.65it/s]"
          ]
        },
        {
          "name": "stdout",
          "output_type": "stream",
          "text": [
            "\n",
            "0: 640x640 1 marmoset, 4.2ms\n",
            "Speed: 1.5ms preprocess, 4.2ms inference, 0.8ms postprocess per image at shape (1, 3, 640, 640)\n"
          ]
        },
        {
          "name": "stderr",
          "output_type": "stream",
          "text": [
            " 39%|███▉      | 830/2108 [08:03<12:56,  1.65it/s]"
          ]
        },
        {
          "name": "stdout",
          "output_type": "stream",
          "text": [
            "\n",
            "0: 640x640 2 marmosets, 4.2ms\n",
            "Speed: 1.5ms preprocess, 4.2ms inference, 0.8ms postprocess per image at shape (1, 3, 640, 640)\n"
          ]
        },
        {
          "name": "stderr",
          "output_type": "stream",
          "text": [
            " 39%|███▉      | 831/2108 [08:03<12:56,  1.65it/s]"
          ]
        },
        {
          "name": "stdout",
          "output_type": "stream",
          "text": [
            "\n",
            "0: 640x640 1 marmoset, 4.1ms\n",
            "Speed: 1.5ms preprocess, 4.1ms inference, 0.8ms postprocess per image at shape (1, 3, 640, 640)\n"
          ]
        },
        {
          "name": "stderr",
          "output_type": "stream",
          "text": [
            " 39%|███▉      | 832/2108 [08:04<12:55,  1.65it/s]"
          ]
        },
        {
          "name": "stdout",
          "output_type": "stream",
          "text": [
            "\n",
            "0: 640x640 2 marmosets, 4.2ms\n",
            "Speed: 1.7ms preprocess, 4.2ms inference, 0.8ms postprocess per image at shape (1, 3, 640, 640)\n"
          ]
        },
        {
          "name": "stderr",
          "output_type": "stream",
          "text": [
            " 40%|███▉      | 833/2108 [08:05<12:47,  1.66it/s]"
          ]
        },
        {
          "name": "stdout",
          "output_type": "stream",
          "text": [
            "\n",
            "0: 640x640 1 marmoset, 4.2ms\n",
            "Speed: 1.5ms preprocess, 4.2ms inference, 0.8ms postprocess per image at shape (1, 3, 640, 640)\n"
          ]
        },
        {
          "name": "stderr",
          "output_type": "stream",
          "text": [
            " 40%|███▉      | 834/2108 [08:05<12:33,  1.69it/s]"
          ]
        },
        {
          "name": "stdout",
          "output_type": "stream",
          "text": [
            "\n",
            "0: 640x640 2 marmosets, 4.3ms\n",
            "Speed: 1.5ms preprocess, 4.3ms inference, 0.8ms postprocess per image at shape (1, 3, 640, 640)\n"
          ]
        },
        {
          "name": "stderr",
          "output_type": "stream",
          "text": [
            " 40%|███▉      | 835/2108 [08:06<12:47,  1.66it/s]"
          ]
        },
        {
          "name": "stdout",
          "output_type": "stream",
          "text": [
            "\n",
            "0: 640x640 1 marmoset, 4.3ms\n",
            "Speed: 1.5ms preprocess, 4.3ms inference, 0.8ms postprocess per image at shape (1, 3, 640, 640)\n"
          ]
        },
        {
          "name": "stderr",
          "output_type": "stream",
          "text": [
            " 40%|███▉      | 836/2108 [08:06<12:51,  1.65it/s]"
          ]
        },
        {
          "name": "stdout",
          "output_type": "stream",
          "text": [
            "\n",
            "0: 640x640 1 marmoset, 4.3ms\n",
            "Speed: 1.5ms preprocess, 4.3ms inference, 0.8ms postprocess per image at shape (1, 3, 640, 640)\n"
          ]
        },
        {
          "name": "stderr",
          "output_type": "stream",
          "text": [
            " 40%|███▉      | 837/2108 [08:07<12:52,  1.65it/s]"
          ]
        },
        {
          "name": "stdout",
          "output_type": "stream",
          "text": [
            "\n",
            "0: 640x640 2 marmosets, 4.3ms\n",
            "Speed: 1.4ms preprocess, 4.3ms inference, 0.8ms postprocess per image at shape (1, 3, 640, 640)\n"
          ]
        },
        {
          "name": "stderr",
          "output_type": "stream",
          "text": [
            " 40%|███▉      | 838/2108 [08:08<12:55,  1.64it/s]"
          ]
        },
        {
          "name": "stdout",
          "output_type": "stream",
          "text": [
            "\n",
            "0: 480x640 2 marmosets, 4.6ms\n",
            "Speed: 1.1ms preprocess, 4.6ms inference, 0.8ms postprocess per image at shape (1, 3, 480, 640)\n"
          ]
        },
        {
          "name": "stderr",
          "output_type": "stream",
          "text": [
            " 40%|███▉      | 839/2108 [08:08<12:53,  1.64it/s]"
          ]
        },
        {
          "name": "stdout",
          "output_type": "stream",
          "text": [
            "\n",
            "0: 480x640 1 marmoset, 4.3ms\n",
            "Speed: 1.1ms preprocess, 4.3ms inference, 0.8ms postprocess per image at shape (1, 3, 480, 640)\n"
          ]
        },
        {
          "name": "stderr",
          "output_type": "stream",
          "text": [
            " 40%|███▉      | 840/2108 [08:09<12:50,  1.65it/s]"
          ]
        },
        {
          "name": "stdout",
          "output_type": "stream",
          "text": [
            "\n",
            "0: 640x640 2 marmosets, 4.6ms\n",
            "Speed: 1.5ms preprocess, 4.6ms inference, 0.8ms postprocess per image at shape (1, 3, 640, 640)\n"
          ]
        },
        {
          "name": "stderr",
          "output_type": "stream",
          "text": [
            " 40%|███▉      | 841/2108 [08:09<12:53,  1.64it/s]"
          ]
        },
        {
          "name": "stdout",
          "output_type": "stream",
          "text": [
            "\n",
            "0: 640x640 1 marmoset, 4.3ms\n",
            "Speed: 1.5ms preprocess, 4.3ms inference, 0.8ms postprocess per image at shape (1, 3, 640, 640)\n"
          ]
        },
        {
          "name": "stderr",
          "output_type": "stream",
          "text": [
            " 40%|███▉      | 842/2108 [08:10<12:54,  1.63it/s]"
          ]
        },
        {
          "name": "stdout",
          "output_type": "stream",
          "text": [
            "\n",
            "0: 640x640 2 marmosets, 4.3ms\n",
            "Speed: 1.6ms preprocess, 4.3ms inference, 0.8ms postprocess per image at shape (1, 3, 640, 640)\n"
          ]
        },
        {
          "name": "stderr",
          "output_type": "stream",
          "text": [
            " 40%|███▉      | 843/2108 [08:11<13:01,  1.62it/s]"
          ]
        },
        {
          "name": "stdout",
          "output_type": "stream",
          "text": [
            "\n",
            "0: 640x640 1 marmoset, 4.3ms\n",
            "Speed: 1.5ms preprocess, 4.3ms inference, 0.8ms postprocess per image at shape (1, 3, 640, 640)\n"
          ]
        },
        {
          "name": "stderr",
          "output_type": "stream",
          "text": [
            " 40%|████      | 844/2108 [08:11<12:57,  1.62it/s]"
          ]
        },
        {
          "name": "stdout",
          "output_type": "stream",
          "text": [
            "\n",
            "0: 640x640 1 marmoset, 4.2ms\n",
            "Speed: 1.5ms preprocess, 4.2ms inference, 0.8ms postprocess per image at shape (1, 3, 640, 640)\n"
          ]
        },
        {
          "name": "stderr",
          "output_type": "stream",
          "text": [
            " 40%|████      | 845/2108 [08:12<12:54,  1.63it/s]"
          ]
        },
        {
          "name": "stdout",
          "output_type": "stream",
          "text": [
            "\n",
            "0: 640x640 1 marmoset, 4.3ms\n",
            "Speed: 1.5ms preprocess, 4.3ms inference, 0.8ms postprocess per image at shape (1, 3, 640, 640)\n"
          ]
        },
        {
          "name": "stderr",
          "output_type": "stream",
          "text": [
            " 40%|████      | 846/2108 [08:12<12:54,  1.63it/s]"
          ]
        },
        {
          "name": "stdout",
          "output_type": "stream",
          "text": [
            "\n",
            "0: 640x640 1 marmoset, 4.3ms\n",
            "Speed: 1.5ms preprocess, 4.3ms inference, 0.8ms postprocess per image at shape (1, 3, 640, 640)\n"
          ]
        },
        {
          "name": "stderr",
          "output_type": "stream",
          "text": [
            " 40%|████      | 847/2108 [08:13<12:53,  1.63it/s]"
          ]
        },
        {
          "name": "stdout",
          "output_type": "stream",
          "text": [
            "\n",
            "0: 640x640 1 marmoset, 4.3ms\n",
            "Speed: 1.5ms preprocess, 4.3ms inference, 0.8ms postprocess per image at shape (1, 3, 640, 640)\n"
          ]
        },
        {
          "name": "stderr",
          "output_type": "stream",
          "text": [
            " 40%|████      | 848/2108 [08:14<12:53,  1.63it/s]"
          ]
        },
        {
          "name": "stdout",
          "output_type": "stream",
          "text": [
            "\n",
            "0: 640x640 2 marmosets, 4.3ms\n",
            "Speed: 1.4ms preprocess, 4.3ms inference, 0.8ms postprocess per image at shape (1, 3, 640, 640)\n"
          ]
        },
        {
          "name": "stderr",
          "output_type": "stream",
          "text": [
            " 40%|████      | 849/2108 [08:14<12:53,  1.63it/s]"
          ]
        },
        {
          "name": "stdout",
          "output_type": "stream",
          "text": [
            "\n",
            "0: 640x640 1 marmoset, 4.2ms\n",
            "Speed: 1.5ms preprocess, 4.2ms inference, 0.8ms postprocess per image at shape (1, 3, 640, 640)\n"
          ]
        },
        {
          "name": "stderr",
          "output_type": "stream",
          "text": [
            " 40%|████      | 850/2108 [08:15<12:51,  1.63it/s]"
          ]
        },
        {
          "name": "stdout",
          "output_type": "stream",
          "text": [
            "\n",
            "0: 640x640 1 marmoset, 4.3ms\n",
            "Speed: 1.5ms preprocess, 4.3ms inference, 0.8ms postprocess per image at shape (1, 3, 640, 640)\n"
          ]
        },
        {
          "name": "stderr",
          "output_type": "stream",
          "text": [
            " 40%|████      | 851/2108 [08:16<12:48,  1.63it/s]"
          ]
        },
        {
          "name": "stdout",
          "output_type": "stream",
          "text": [
            "\n",
            "0: 640x640 1 marmoset, 4.3ms\n",
            "Speed: 1.5ms preprocess, 4.3ms inference, 0.8ms postprocess per image at shape (1, 3, 640, 640)\n"
          ]
        },
        {
          "name": "stderr",
          "output_type": "stream",
          "text": [
            " 40%|████      | 852/2108 [08:16<12:48,  1.63it/s]"
          ]
        },
        {
          "name": "stdout",
          "output_type": "stream",
          "text": [
            "\n",
            "0: 640x640 2 marmosets, 4.3ms\n",
            "Speed: 1.4ms preprocess, 4.3ms inference, 0.8ms postprocess per image at shape (1, 3, 640, 640)\n"
          ]
        },
        {
          "name": "stderr",
          "output_type": "stream",
          "text": [
            " 40%|████      | 853/2108 [08:17<12:49,  1.63it/s]"
          ]
        },
        {
          "name": "stdout",
          "output_type": "stream",
          "text": [
            "\n",
            "0: 480x640 1 marmoset, 4.6ms\n",
            "Speed: 1.1ms preprocess, 4.6ms inference, 0.8ms postprocess per image at shape (1, 3, 480, 640)\n"
          ]
        },
        {
          "name": "stderr",
          "output_type": "stream",
          "text": [
            " 41%|████      | 854/2108 [08:17<12:45,  1.64it/s]"
          ]
        },
        {
          "name": "stdout",
          "output_type": "stream",
          "text": [
            "\n",
            "0: 640x640 1 marmoset, 4.6ms\n",
            "Speed: 1.5ms preprocess, 4.6ms inference, 0.8ms postprocess per image at shape (1, 3, 640, 640)\n"
          ]
        },
        {
          "name": "stderr",
          "output_type": "stream",
          "text": [
            " 41%|████      | 855/2108 [08:18<12:46,  1.64it/s]"
          ]
        },
        {
          "name": "stdout",
          "output_type": "stream",
          "text": [
            "\n",
            "0: 640x640 1 marmoset, 4.3ms\n",
            "Speed: 1.5ms preprocess, 4.3ms inference, 0.8ms postprocess per image at shape (1, 3, 640, 640)\n"
          ]
        },
        {
          "name": "stderr",
          "output_type": "stream",
          "text": [
            " 41%|████      | 856/2108 [08:19<12:47,  1.63it/s]"
          ]
        },
        {
          "name": "stdout",
          "output_type": "stream",
          "text": [
            "\n",
            "0: 640x640 1 marmoset, 4.3ms\n",
            "Speed: 1.5ms preprocess, 4.3ms inference, 0.8ms postprocess per image at shape (1, 3, 640, 640)\n"
          ]
        },
        {
          "name": "stderr",
          "output_type": "stream",
          "text": [
            " 41%|████      | 857/2108 [08:19<12:46,  1.63it/s]"
          ]
        },
        {
          "name": "stdout",
          "output_type": "stream",
          "text": [
            "\n",
            "0: 640x640 1 marmoset, 4.3ms\n",
            "Speed: 1.5ms preprocess, 4.3ms inference, 0.8ms postprocess per image at shape (1, 3, 640, 640)\n"
          ]
        },
        {
          "name": "stderr",
          "output_type": "stream",
          "text": [
            " 41%|████      | 858/2108 [08:20<12:47,  1.63it/s]"
          ]
        },
        {
          "name": "stdout",
          "output_type": "stream",
          "text": [
            "\n",
            "0: 640x640 1 marmoset, 4.3ms\n",
            "Speed: 1.5ms preprocess, 4.3ms inference, 0.8ms postprocess per image at shape (1, 3, 640, 640)\n"
          ]
        },
        {
          "name": "stderr",
          "output_type": "stream",
          "text": [
            " 41%|████      | 859/2108 [08:20<12:45,  1.63it/s]"
          ]
        },
        {
          "name": "stdout",
          "output_type": "stream",
          "text": [
            "\n",
            "0: 640x640 1 marmoset, 4.3ms\n",
            "Speed: 1.5ms preprocess, 4.3ms inference, 0.8ms postprocess per image at shape (1, 3, 640, 640)\n"
          ]
        },
        {
          "name": "stderr",
          "output_type": "stream",
          "text": [
            " 41%|████      | 860/2108 [08:21<12:42,  1.64it/s]"
          ]
        },
        {
          "name": "stdout",
          "output_type": "stream",
          "text": [
            "\n",
            "0: 640x640 1 marmoset, 4.2ms\n",
            "Speed: 1.5ms preprocess, 4.2ms inference, 0.8ms postprocess per image at shape (1, 3, 640, 640)\n"
          ]
        },
        {
          "name": "stderr",
          "output_type": "stream",
          "text": [
            " 41%|████      | 861/2108 [08:22<12:43,  1.63it/s]"
          ]
        },
        {
          "name": "stdout",
          "output_type": "stream",
          "text": [
            "\n",
            "0: 640x640 1 marmoset, 4.3ms\n",
            "Speed: 1.5ms preprocess, 4.3ms inference, 0.8ms postprocess per image at shape (1, 3, 640, 640)\n"
          ]
        },
        {
          "name": "stderr",
          "output_type": "stream",
          "text": [
            " 41%|████      | 862/2108 [08:22<12:43,  1.63it/s]"
          ]
        },
        {
          "name": "stdout",
          "output_type": "stream",
          "text": [
            "\n",
            "0: 640x640 1 marmoset, 4.3ms\n",
            "Speed: 1.5ms preprocess, 4.3ms inference, 0.8ms postprocess per image at shape (1, 3, 640, 640)\n"
          ]
        },
        {
          "name": "stderr",
          "output_type": "stream",
          "text": [
            " 41%|████      | 863/2108 [08:23<12:36,  1.65it/s]"
          ]
        },
        {
          "name": "stdout",
          "output_type": "stream",
          "text": [
            "\n",
            "0: 640x640 2 marmosets, 4.3ms\n",
            "Speed: 1.4ms preprocess, 4.3ms inference, 0.8ms postprocess per image at shape (1, 3, 640, 640)\n"
          ]
        },
        {
          "name": "stderr",
          "output_type": "stream",
          "text": [
            " 41%|████      | 864/2108 [08:23<12:31,  1.66it/s]"
          ]
        },
        {
          "name": "stdout",
          "output_type": "stream",
          "text": [
            "\n",
            "0: 640x640 1 marmoset, 4.3ms\n",
            "Speed: 1.5ms preprocess, 4.3ms inference, 0.8ms postprocess per image at shape (1, 3, 640, 640)\n"
          ]
        },
        {
          "name": "stderr",
          "output_type": "stream",
          "text": [
            " 41%|████      | 865/2108 [08:24<12:26,  1.67it/s]"
          ]
        },
        {
          "name": "stdout",
          "output_type": "stream",
          "text": [
            "\n",
            "0: 640x640 1 marmoset, 4.3ms\n",
            "Speed: 1.5ms preprocess, 4.3ms inference, 0.8ms postprocess per image at shape (1, 3, 640, 640)\n"
          ]
        },
        {
          "name": "stderr",
          "output_type": "stream",
          "text": [
            " 41%|████      | 866/2108 [08:25<12:31,  1.65it/s]"
          ]
        },
        {
          "name": "stdout",
          "output_type": "stream",
          "text": [
            "\n",
            "0: 480x640 1 marmoset, 4.6ms\n",
            "Speed: 1.1ms preprocess, 4.6ms inference, 0.8ms postprocess per image at shape (1, 3, 480, 640)\n"
          ]
        },
        {
          "name": "stderr",
          "output_type": "stream",
          "text": [
            " 41%|████      | 867/2108 [08:25<12:32,  1.65it/s]"
          ]
        },
        {
          "name": "stdout",
          "output_type": "stream",
          "text": [
            "\n",
            "0: 640x640 1 marmoset, 4.5ms\n",
            "Speed: 1.5ms preprocess, 4.5ms inference, 0.8ms postprocess per image at shape (1, 3, 640, 640)\n"
          ]
        },
        {
          "name": "stderr",
          "output_type": "stream",
          "text": [
            " 41%|████      | 868/2108 [08:26<12:35,  1.64it/s]"
          ]
        },
        {
          "name": "stdout",
          "output_type": "stream",
          "text": [
            "\n",
            "0: 640x640 1 marmoset, 4.3ms\n",
            "Speed: 1.5ms preprocess, 4.3ms inference, 0.8ms postprocess per image at shape (1, 3, 640, 640)\n"
          ]
        },
        {
          "name": "stderr",
          "output_type": "stream",
          "text": [
            " 41%|████      | 869/2108 [08:27<12:37,  1.63it/s]"
          ]
        },
        {
          "name": "stdout",
          "output_type": "stream",
          "text": [
            "\n",
            "0: 640x640 1 marmoset, 4.3ms\n",
            "Speed: 1.5ms preprocess, 4.3ms inference, 0.8ms postprocess per image at shape (1, 3, 640, 640)\n"
          ]
        },
        {
          "name": "stderr",
          "output_type": "stream",
          "text": [
            " 41%|████▏     | 870/2108 [08:27<12:39,  1.63it/s]"
          ]
        },
        {
          "name": "stdout",
          "output_type": "stream",
          "text": [
            "\n",
            "0: 640x640 1 marmoset, 4.3ms\n",
            "Speed: 1.5ms preprocess, 4.3ms inference, 0.8ms postprocess per image at shape (1, 3, 640, 640)\n"
          ]
        },
        {
          "name": "stderr",
          "output_type": "stream",
          "text": [
            " 41%|████▏     | 871/2108 [08:28<12:34,  1.64it/s]"
          ]
        },
        {
          "name": "stdout",
          "output_type": "stream",
          "text": [
            "\n",
            "0: 480x640 1 marmoset, 4.6ms\n",
            "Speed: 1.1ms preprocess, 4.6ms inference, 0.8ms postprocess per image at shape (1, 3, 480, 640)\n"
          ]
        },
        {
          "name": "stderr",
          "output_type": "stream",
          "text": [
            " 41%|████▏     | 872/2108 [08:28<12:25,  1.66it/s]"
          ]
        },
        {
          "name": "stdout",
          "output_type": "stream",
          "text": [
            "\n",
            "0: 640x640 1 marmoset, 4.6ms\n",
            "Speed: 1.5ms preprocess, 4.6ms inference, 0.8ms postprocess per image at shape (1, 3, 640, 640)\n"
          ]
        },
        {
          "name": "stderr",
          "output_type": "stream",
          "text": [
            " 41%|████▏     | 873/2108 [08:29<12:22,  1.66it/s]"
          ]
        },
        {
          "name": "stdout",
          "output_type": "stream",
          "text": [
            "\n",
            "0: 640x640 2 marmosets, 4.3ms\n",
            "Speed: 1.5ms preprocess, 4.3ms inference, 0.8ms postprocess per image at shape (1, 3, 640, 640)\n"
          ]
        },
        {
          "name": "stderr",
          "output_type": "stream",
          "text": [
            " 41%|████▏     | 874/2108 [08:30<12:21,  1.66it/s]"
          ]
        },
        {
          "name": "stdout",
          "output_type": "stream",
          "text": [
            "\n",
            "0: 640x640 2 marmosets, 4.3ms\n",
            "Speed: 1.5ms preprocess, 4.3ms inference, 0.8ms postprocess per image at shape (1, 3, 640, 640)\n"
          ]
        },
        {
          "name": "stderr",
          "output_type": "stream",
          "text": [
            " 42%|████▏     | 875/2108 [08:30<12:22,  1.66it/s]"
          ]
        },
        {
          "name": "stdout",
          "output_type": "stream",
          "text": [
            "\n",
            "0: 640x640 1 marmoset, 4.0ms\n",
            "Speed: 1.4ms preprocess, 4.0ms inference, 0.7ms postprocess per image at shape (1, 3, 640, 640)\n"
          ]
        },
        {
          "name": "stderr",
          "output_type": "stream",
          "text": [
            " 42%|████▏     | 876/2108 [08:31<12:22,  1.66it/s]"
          ]
        },
        {
          "name": "stdout",
          "output_type": "stream",
          "text": [
            "\n",
            "0: 640x640 1 marmoset, 3.9ms\n",
            "Speed: 1.4ms preprocess, 3.9ms inference, 0.7ms postprocess per image at shape (1, 3, 640, 640)\n"
          ]
        },
        {
          "name": "stderr",
          "output_type": "stream",
          "text": [
            " 42%|████▏     | 877/2108 [08:31<12:25,  1.65it/s]"
          ]
        },
        {
          "name": "stdout",
          "output_type": "stream",
          "text": [
            "\n",
            "0: 640x640 1 marmoset, 3.9ms\n",
            "Speed: 1.4ms preprocess, 3.9ms inference, 0.7ms postprocess per image at shape (1, 3, 640, 640)\n"
          ]
        },
        {
          "name": "stderr",
          "output_type": "stream",
          "text": [
            " 42%|████▏     | 878/2108 [08:32<12:24,  1.65it/s]"
          ]
        },
        {
          "name": "stdout",
          "output_type": "stream",
          "text": [
            "\n",
            "0: 640x640 1 marmoset, 3.9ms\n",
            "Speed: 1.4ms preprocess, 3.9ms inference, 0.7ms postprocess per image at shape (1, 3, 640, 640)\n"
          ]
        },
        {
          "name": "stderr",
          "output_type": "stream",
          "text": [
            " 42%|████▏     | 879/2108 [08:33<12:23,  1.65it/s]"
          ]
        },
        {
          "name": "stdout",
          "output_type": "stream",
          "text": [
            "\n",
            "0: 640x640 1 marmoset, 3.9ms\n",
            "Speed: 1.4ms preprocess, 3.9ms inference, 0.7ms postprocess per image at shape (1, 3, 640, 640)\n"
          ]
        },
        {
          "name": "stderr",
          "output_type": "stream",
          "text": [
            " 42%|████▏     | 880/2108 [08:33<12:23,  1.65it/s]"
          ]
        },
        {
          "name": "stdout",
          "output_type": "stream",
          "text": [
            "\n",
            "0: 640x640 1 marmoset, 3.8ms\n",
            "Speed: 1.4ms preprocess, 3.8ms inference, 0.7ms postprocess per image at shape (1, 3, 640, 640)\n"
          ]
        },
        {
          "name": "stderr",
          "output_type": "stream",
          "text": [
            " 42%|████▏     | 881/2108 [08:34<12:22,  1.65it/s]"
          ]
        },
        {
          "name": "stdout",
          "output_type": "stream",
          "text": [
            "\n",
            "0: 640x640 1 marmoset, 3.8ms\n",
            "Speed: 1.4ms preprocess, 3.8ms inference, 0.7ms postprocess per image at shape (1, 3, 640, 640)\n"
          ]
        },
        {
          "name": "stderr",
          "output_type": "stream",
          "text": [
            " 42%|████▏     | 882/2108 [08:34<12:21,  1.65it/s]"
          ]
        },
        {
          "name": "stdout",
          "output_type": "stream",
          "text": [
            "\n",
            "0: 480x640 1 marmoset, 4.2ms\n",
            "Speed: 1.3ms preprocess, 4.2ms inference, 0.7ms postprocess per image at shape (1, 3, 480, 640)\n"
          ]
        },
        {
          "name": "stderr",
          "output_type": "stream",
          "text": [
            " 42%|████▏     | 883/2108 [08:35<12:17,  1.66it/s]"
          ]
        },
        {
          "name": "stdout",
          "output_type": "stream",
          "text": [
            "\n",
            "0: 640x640 1 marmoset, 4.1ms\n",
            "Speed: 1.4ms preprocess, 4.1ms inference, 0.7ms postprocess per image at shape (1, 3, 640, 640)\n"
          ]
        },
        {
          "name": "stderr",
          "output_type": "stream",
          "text": [
            " 42%|████▏     | 884/2108 [08:36<12:17,  1.66it/s]"
          ]
        },
        {
          "name": "stdout",
          "output_type": "stream",
          "text": [
            "\n",
            "0: 640x640 1 marmoset, 4.4ms\n",
            "Speed: 1.7ms preprocess, 4.4ms inference, 0.8ms postprocess per image at shape (1, 3, 640, 640)\n"
          ]
        },
        {
          "name": "stderr",
          "output_type": "stream",
          "text": [
            " 42%|████▏     | 885/2108 [08:36<12:20,  1.65it/s]"
          ]
        },
        {
          "name": "stdout",
          "output_type": "stream",
          "text": [
            "\n",
            "0: 640x640 1 marmoset, 4.3ms\n",
            "Speed: 1.5ms preprocess, 4.3ms inference, 0.8ms postprocess per image at shape (1, 3, 640, 640)\n"
          ]
        },
        {
          "name": "stderr",
          "output_type": "stream",
          "text": [
            " 42%|████▏     | 886/2108 [08:37<12:20,  1.65it/s]"
          ]
        },
        {
          "name": "stdout",
          "output_type": "stream",
          "text": [
            "\n",
            "0: 480x640 1 marmoset, 4.7ms\n",
            "Speed: 1.1ms preprocess, 4.7ms inference, 0.8ms postprocess per image at shape (1, 3, 480, 640)\n"
          ]
        },
        {
          "name": "stderr",
          "output_type": "stream",
          "text": [
            " 42%|████▏     | 887/2108 [08:37<12:17,  1.66it/s]"
          ]
        },
        {
          "name": "stdout",
          "output_type": "stream",
          "text": [
            "\n",
            "0: 640x640 1 marmoset, 4.6ms\n",
            "Speed: 1.5ms preprocess, 4.6ms inference, 0.8ms postprocess per image at shape (1, 3, 640, 640)\n"
          ]
        },
        {
          "name": "stderr",
          "output_type": "stream",
          "text": [
            " 42%|████▏     | 888/2108 [08:38<12:18,  1.65it/s]"
          ]
        },
        {
          "name": "stdout",
          "output_type": "stream",
          "text": [
            "\n",
            "0: 480x640 (no detections), 4.7ms\n",
            "Speed: 1.1ms preprocess, 4.7ms inference, 0.3ms postprocess per image at shape (1, 3, 480, 640)\n",
            "\n",
            "0: 640x640 2 marmosets, 4.3ms\n",
            "Speed: 1.4ms preprocess, 4.3ms inference, 0.8ms postprocess per image at shape (1, 3, 640, 640)\n"
          ]
        },
        {
          "name": "stderr",
          "output_type": "stream",
          "text": [
            " 42%|████▏     | 890/2108 [08:39<09:32,  2.13it/s]"
          ]
        },
        {
          "name": "stdout",
          "output_type": "stream",
          "text": [
            "\n",
            "0: 640x640 1 marmoset, 4.3ms\n",
            "Speed: 1.5ms preprocess, 4.3ms inference, 0.8ms postprocess per image at shape (1, 3, 640, 640)\n"
          ]
        },
        {
          "name": "stderr",
          "output_type": "stream",
          "text": [
            " 42%|████▏     | 891/2108 [08:39<10:13,  1.98it/s]"
          ]
        },
        {
          "name": "stdout",
          "output_type": "stream",
          "text": [
            "\n",
            "0: 640x640 1 marmoset, 4.3ms\n",
            "Speed: 1.5ms preprocess, 4.3ms inference, 0.8ms postprocess per image at shape (1, 3, 640, 640)\n"
          ]
        },
        {
          "name": "stderr",
          "output_type": "stream",
          "text": [
            " 42%|████▏     | 892/2108 [08:40<10:43,  1.89it/s]"
          ]
        },
        {
          "name": "stdout",
          "output_type": "stream",
          "text": [
            "\n",
            "0: 640x640 1 marmoset, 4.3ms\n",
            "Speed: 1.5ms preprocess, 4.3ms inference, 0.8ms postprocess per image at shape (1, 3, 640, 640)\n"
          ]
        },
        {
          "name": "stderr",
          "output_type": "stream",
          "text": [
            " 42%|████▏     | 893/2108 [08:40<11:09,  1.82it/s]"
          ]
        },
        {
          "name": "stdout",
          "output_type": "stream",
          "text": [
            "\n",
            "0: 640x640 2 marmosets, 3.9ms\n",
            "Speed: 1.4ms preprocess, 3.9ms inference, 0.7ms postprocess per image at shape (1, 3, 640, 640)\n"
          ]
        },
        {
          "name": "stderr",
          "output_type": "stream",
          "text": [
            " 42%|████▏     | 894/2108 [08:41<11:29,  1.76it/s]"
          ]
        },
        {
          "name": "stdout",
          "output_type": "stream",
          "text": [
            "\n",
            "0: 640x640 2 marmosets, 3.9ms\n",
            "Speed: 1.3ms preprocess, 3.9ms inference, 0.7ms postprocess per image at shape (1, 3, 640, 640)\n"
          ]
        },
        {
          "name": "stderr",
          "output_type": "stream",
          "text": [
            " 42%|████▏     | 895/2108 [08:42<11:42,  1.73it/s]"
          ]
        },
        {
          "name": "stdout",
          "output_type": "stream",
          "text": [
            "\n",
            "0: 480x640 1 marmoset, 4.2ms\n",
            "Speed: 1.0ms preprocess, 4.2ms inference, 0.7ms postprocess per image at shape (1, 3, 480, 640)\n"
          ]
        },
        {
          "name": "stderr",
          "output_type": "stream",
          "text": [
            " 43%|████▎     | 896/2108 [08:42<11:47,  1.71it/s]"
          ]
        },
        {
          "name": "stdout",
          "output_type": "stream",
          "text": [
            "\n",
            "0: 640x640 1 marmoset, 4.1ms\n",
            "Speed: 1.4ms preprocess, 4.1ms inference, 0.7ms postprocess per image at shape (1, 3, 640, 640)\n"
          ]
        },
        {
          "name": "stderr",
          "output_type": "stream",
          "text": [
            " 43%|████▎     | 897/2108 [08:43<11:54,  1.69it/s]"
          ]
        },
        {
          "name": "stdout",
          "output_type": "stream",
          "text": [
            "\n",
            "0: 640x640 1 marmoset, 3.9ms\n",
            "Speed: 1.4ms preprocess, 3.9ms inference, 0.7ms postprocess per image at shape (1, 3, 640, 640)\n"
          ]
        },
        {
          "name": "stderr",
          "output_type": "stream",
          "text": [
            " 43%|████▎     | 898/2108 [08:43<11:51,  1.70it/s]"
          ]
        },
        {
          "name": "stdout",
          "output_type": "stream",
          "text": [
            "\n",
            "0: 640x640 2 marmosets, 3.9ms\n",
            "Speed: 1.3ms preprocess, 3.9ms inference, 0.7ms postprocess per image at shape (1, 3, 640, 640)\n"
          ]
        },
        {
          "name": "stderr",
          "output_type": "stream",
          "text": [
            " 43%|████▎     | 899/2108 [08:44<11:50,  1.70it/s]"
          ]
        },
        {
          "name": "stdout",
          "output_type": "stream",
          "text": [
            "\n",
            "0: 480x640 1 marmoset, 4.2ms\n",
            "Speed: 1.1ms preprocess, 4.2ms inference, 0.7ms postprocess per image at shape (1, 3, 480, 640)\n"
          ]
        },
        {
          "name": "stderr",
          "output_type": "stream",
          "text": [
            " 43%|████▎     | 900/2108 [08:45<12:01,  1.67it/s]"
          ]
        },
        {
          "name": "stdout",
          "output_type": "stream",
          "text": [
            "\n",
            "0: 640x640 1 marmoset, 4.1ms\n",
            "Speed: 1.4ms preprocess, 4.1ms inference, 0.7ms postprocess per image at shape (1, 3, 640, 640)\n"
          ]
        },
        {
          "name": "stderr",
          "output_type": "stream",
          "text": [
            " 43%|████▎     | 901/2108 [08:45<12:16,  1.64it/s]"
          ]
        },
        {
          "name": "stdout",
          "output_type": "stream",
          "text": [
            "\n",
            "0: 640x640 1 marmoset, 3.8ms\n",
            "Speed: 1.4ms preprocess, 3.8ms inference, 0.7ms postprocess per image at shape (1, 3, 640, 640)\n"
          ]
        },
        {
          "name": "stderr",
          "output_type": "stream",
          "text": [
            " 43%|████▎     | 902/2108 [08:46<12:11,  1.65it/s]"
          ]
        },
        {
          "name": "stdout",
          "output_type": "stream",
          "text": [
            "\n",
            "0: 640x640 2 marmosets, 3.9ms\n",
            "Speed: 1.3ms preprocess, 3.9ms inference, 0.7ms postprocess per image at shape (1, 3, 640, 640)\n"
          ]
        },
        {
          "name": "stderr",
          "output_type": "stream",
          "text": [
            " 43%|████▎     | 903/2108 [08:46<11:57,  1.68it/s]"
          ]
        },
        {
          "name": "stdout",
          "output_type": "stream",
          "text": [
            "\n",
            "0: 640x640 1 marmoset, 3.8ms\n",
            "Speed: 1.4ms preprocess, 3.8ms inference, 0.7ms postprocess per image at shape (1, 3, 640, 640)\n"
          ]
        },
        {
          "name": "stderr",
          "output_type": "stream",
          "text": [
            " 43%|████▎     | 904/2108 [08:47<11:46,  1.70it/s]"
          ]
        },
        {
          "name": "stdout",
          "output_type": "stream",
          "text": [
            "\n",
            "0: 640x640 1 marmoset, 3.9ms\n",
            "Speed: 1.4ms preprocess, 3.9ms inference, 0.7ms postprocess per image at shape (1, 3, 640, 640)\n"
          ]
        },
        {
          "name": "stderr",
          "output_type": "stream",
          "text": [
            " 43%|████▎     | 905/2108 [08:48<12:20,  1.62it/s]"
          ]
        },
        {
          "name": "stdout",
          "output_type": "stream",
          "text": [
            "\n",
            "0: 480x640 1 marmoset, 4.2ms\n",
            "Speed: 1.0ms preprocess, 4.2ms inference, 0.7ms postprocess per image at shape (1, 3, 480, 640)\n"
          ]
        },
        {
          "name": "stderr",
          "output_type": "stream",
          "text": [
            " 43%|████▎     | 906/2108 [08:48<12:21,  1.62it/s]"
          ]
        },
        {
          "name": "stdout",
          "output_type": "stream",
          "text": [
            "\n",
            "0: 640x640 1 marmoset, 4.1ms\n",
            "Speed: 1.4ms preprocess, 4.1ms inference, 0.7ms postprocess per image at shape (1, 3, 640, 640)\n"
          ]
        },
        {
          "name": "stderr",
          "output_type": "stream",
          "text": [
            " 43%|████▎     | 907/2108 [08:49<12:06,  1.65it/s]"
          ]
        },
        {
          "name": "stdout",
          "output_type": "stream",
          "text": [
            "\n",
            "0: 640x640 1 marmoset, 3.9ms\n",
            "Speed: 1.4ms preprocess, 3.9ms inference, 0.7ms postprocess per image at shape (1, 3, 640, 640)\n"
          ]
        },
        {
          "name": "stderr",
          "output_type": "stream",
          "text": [
            " 43%|████▎     | 908/2108 [08:49<11:55,  1.68it/s]"
          ]
        },
        {
          "name": "stdout",
          "output_type": "stream",
          "text": [
            "\n",
            "0: 640x640 2 marmosets, 3.9ms\n",
            "Speed: 1.3ms preprocess, 3.9ms inference, 0.7ms postprocess per image at shape (1, 3, 640, 640)\n"
          ]
        },
        {
          "name": "stderr",
          "output_type": "stream",
          "text": [
            " 43%|████▎     | 909/2108 [08:50<12:14,  1.63it/s]"
          ]
        },
        {
          "name": "stdout",
          "output_type": "stream",
          "text": [
            "\n",
            "0: 640x640 1 marmoset, 3.9ms\n",
            "Speed: 1.4ms preprocess, 3.9ms inference, 0.7ms postprocess per image at shape (1, 3, 640, 640)\n"
          ]
        },
        {
          "name": "stderr",
          "output_type": "stream",
          "text": [
            " 43%|████▎     | 910/2108 [08:51<12:15,  1.63it/s]"
          ]
        },
        {
          "name": "stdout",
          "output_type": "stream",
          "text": [
            "\n",
            "0: 640x640 1 marmoset, 3.9ms\n",
            "Speed: 1.4ms preprocess, 3.9ms inference, 0.7ms postprocess per image at shape (1, 3, 640, 640)\n"
          ]
        },
        {
          "name": "stderr",
          "output_type": "stream",
          "text": [
            " 43%|████▎     | 911/2108 [08:51<12:10,  1.64it/s]"
          ]
        },
        {
          "name": "stdout",
          "output_type": "stream",
          "text": [
            "\n",
            "0: 640x640 2 marmosets, 3.9ms\n",
            "Speed: 1.3ms preprocess, 3.9ms inference, 0.7ms postprocess per image at shape (1, 3, 640, 640)\n"
          ]
        },
        {
          "name": "stderr",
          "output_type": "stream",
          "text": [
            " 43%|████▎     | 912/2108 [08:52<12:07,  1.64it/s]"
          ]
        },
        {
          "name": "stdout",
          "output_type": "stream",
          "text": [
            "\n",
            "0: 640x640 1 marmoset, 3.9ms\n",
            "Speed: 1.4ms preprocess, 3.9ms inference, 0.7ms postprocess per image at shape (1, 3, 640, 640)\n"
          ]
        },
        {
          "name": "stderr",
          "output_type": "stream",
          "text": [
            " 43%|████▎     | 913/2108 [08:53<12:03,  1.65it/s]"
          ]
        },
        {
          "name": "stdout",
          "output_type": "stream",
          "text": [
            "\n",
            "0: 480x640 1 marmoset, 4.2ms\n",
            "Speed: 1.0ms preprocess, 4.2ms inference, 0.7ms postprocess per image at shape (1, 3, 480, 640)\n"
          ]
        },
        {
          "name": "stderr",
          "output_type": "stream",
          "text": [
            " 43%|████▎     | 914/2108 [08:53<11:58,  1.66it/s]"
          ]
        },
        {
          "name": "stdout",
          "output_type": "stream",
          "text": [
            "\n",
            "0: 640x640 1 marmoset, 4.1ms\n",
            "Speed: 1.4ms preprocess, 4.1ms inference, 0.7ms postprocess per image at shape (1, 3, 640, 640)\n"
          ]
        },
        {
          "name": "stderr",
          "output_type": "stream",
          "text": [
            " 43%|████▎     | 915/2108 [08:54<11:57,  1.66it/s]"
          ]
        },
        {
          "name": "stdout",
          "output_type": "stream",
          "text": [
            "\n",
            "0: 640x640 1 marmoset, 3.9ms\n",
            "Speed: 1.4ms preprocess, 3.9ms inference, 0.7ms postprocess per image at shape (1, 3, 640, 640)\n"
          ]
        },
        {
          "name": "stderr",
          "output_type": "stream",
          "text": [
            " 43%|████▎     | 916/2108 [08:54<11:56,  1.66it/s]"
          ]
        },
        {
          "name": "stdout",
          "output_type": "stream",
          "text": [
            "\n",
            "0: 640x640 1 marmoset, 3.9ms\n",
            "Speed: 1.4ms preprocess, 3.9ms inference, 0.7ms postprocess per image at shape (1, 3, 640, 640)\n"
          ]
        },
        {
          "name": "stderr",
          "output_type": "stream",
          "text": [
            " 44%|████▎     | 917/2108 [08:55<11:56,  1.66it/s]"
          ]
        },
        {
          "name": "stdout",
          "output_type": "stream",
          "text": [
            "\n",
            "0: 640x640 2 marmosets, 3.9ms\n",
            "Speed: 1.4ms preprocess, 3.9ms inference, 0.7ms postprocess per image at shape (1, 3, 640, 640)\n"
          ]
        },
        {
          "name": "stderr",
          "output_type": "stream",
          "text": [
            " 44%|████▎     | 918/2108 [08:56<11:59,  1.65it/s]"
          ]
        },
        {
          "name": "stdout",
          "output_type": "stream",
          "text": [
            "\n",
            "0: 640x640 2 marmosets, 3.9ms\n",
            "Speed: 1.3ms preprocess, 3.9ms inference, 0.7ms postprocess per image at shape (1, 3, 640, 640)\n"
          ]
        },
        {
          "name": "stderr",
          "output_type": "stream",
          "text": [
            " 44%|████▎     | 919/2108 [08:56<11:50,  1.67it/s]"
          ]
        },
        {
          "name": "stdout",
          "output_type": "stream",
          "text": [
            "\n",
            "0: 640x640 2 marmosets, 3.9ms\n",
            "Speed: 1.4ms preprocess, 3.9ms inference, 0.7ms postprocess per image at shape (1, 3, 640, 640)\n"
          ]
        },
        {
          "name": "stderr",
          "output_type": "stream",
          "text": [
            " 44%|████▎     | 920/2108 [08:57<11:46,  1.68it/s]"
          ]
        },
        {
          "name": "stdout",
          "output_type": "stream",
          "text": [
            "\n",
            "0: 640x640 1 marmoset, 3.9ms\n",
            "Speed: 1.4ms preprocess, 3.9ms inference, 0.7ms postprocess per image at shape (1, 3, 640, 640)\n"
          ]
        },
        {
          "name": "stderr",
          "output_type": "stream",
          "text": [
            " 44%|████▎     | 921/2108 [08:57<11:26,  1.73it/s]"
          ]
        },
        {
          "name": "stdout",
          "output_type": "stream",
          "text": [
            "\n",
            "0: 640x640 1 marmoset, 3.9ms\n",
            "Speed: 1.4ms preprocess, 3.9ms inference, 0.7ms postprocess per image at shape (1, 3, 640, 640)\n"
          ]
        },
        {
          "name": "stderr",
          "output_type": "stream",
          "text": [
            " 44%|████▎     | 922/2108 [08:58<11:53,  1.66it/s]"
          ]
        },
        {
          "name": "stdout",
          "output_type": "stream",
          "text": [
            "\n",
            "0: 640x640 1 marmoset, 3.8ms\n",
            "Speed: 1.4ms preprocess, 3.8ms inference, 0.7ms postprocess per image at shape (1, 3, 640, 640)\n"
          ]
        },
        {
          "name": "stderr",
          "output_type": "stream",
          "text": [
            " 44%|████▍     | 923/2108 [08:59<12:03,  1.64it/s]"
          ]
        },
        {
          "name": "stdout",
          "output_type": "stream",
          "text": [
            "\n",
            "0: 640x640 1 marmoset, 3.9ms\n",
            "Speed: 1.4ms preprocess, 3.9ms inference, 0.7ms postprocess per image at shape (1, 3, 640, 640)\n"
          ]
        },
        {
          "name": "stderr",
          "output_type": "stream",
          "text": [
            " 44%|████▍     | 924/2108 [08:59<12:02,  1.64it/s]"
          ]
        },
        {
          "name": "stdout",
          "output_type": "stream",
          "text": [
            "\n",
            "0: 640x640 1 marmoset, 3.9ms\n",
            "Speed: 1.4ms preprocess, 3.9ms inference, 0.7ms postprocess per image at shape (1, 3, 640, 640)\n"
          ]
        },
        {
          "name": "stderr",
          "output_type": "stream",
          "text": [
            " 44%|████▍     | 925/2108 [09:00<12:03,  1.64it/s]"
          ]
        },
        {
          "name": "stdout",
          "output_type": "stream",
          "text": [
            "\n",
            "0: 480x640 1 marmoset, 4.3ms\n",
            "Speed: 1.0ms preprocess, 4.3ms inference, 0.7ms postprocess per image at shape (1, 3, 480, 640)\n"
          ]
        },
        {
          "name": "stderr",
          "output_type": "stream",
          "text": [
            " 44%|████▍     | 926/2108 [09:00<11:59,  1.64it/s]"
          ]
        },
        {
          "name": "stdout",
          "output_type": "stream",
          "text": [
            "\n",
            "0: 640x640 1 marmoset, 4.2ms\n",
            "Speed: 1.4ms preprocess, 4.2ms inference, 0.7ms postprocess per image at shape (1, 3, 640, 640)\n"
          ]
        },
        {
          "name": "stderr",
          "output_type": "stream",
          "text": [
            " 44%|████▍     | 927/2108 [09:01<11:59,  1.64it/s]"
          ]
        },
        {
          "name": "stdout",
          "output_type": "stream",
          "text": [
            "\n",
            "0: 640x640 1 marmoset, 3.9ms\n",
            "Speed: 1.4ms preprocess, 3.9ms inference, 0.7ms postprocess per image at shape (1, 3, 640, 640)\n"
          ]
        },
        {
          "name": "stderr",
          "output_type": "stream",
          "text": [
            " 44%|████▍     | 928/2108 [09:02<11:59,  1.64it/s]"
          ]
        },
        {
          "name": "stdout",
          "output_type": "stream",
          "text": [
            "\n",
            "0: 640x640 1 marmoset, 3.9ms\n",
            "Speed: 1.4ms preprocess, 3.9ms inference, 0.7ms postprocess per image at shape (1, 3, 640, 640)\n"
          ]
        },
        {
          "name": "stderr",
          "output_type": "stream",
          "text": [
            " 44%|████▍     | 929/2108 [09:02<11:59,  1.64it/s]"
          ]
        },
        {
          "name": "stdout",
          "output_type": "stream",
          "text": [
            "\n",
            "0: 640x640 2 marmosets, 3.9ms\n",
            "Speed: 1.3ms preprocess, 3.9ms inference, 0.7ms postprocess per image at shape (1, 3, 640, 640)\n"
          ]
        },
        {
          "name": "stderr",
          "output_type": "stream",
          "text": [
            " 44%|████▍     | 930/2108 [09:03<11:59,  1.64it/s]"
          ]
        },
        {
          "name": "stdout",
          "output_type": "stream",
          "text": [
            "\n",
            "0: 640x640 1 marmoset, 3.9ms\n",
            "Speed: 1.4ms preprocess, 3.9ms inference, 0.7ms postprocess per image at shape (1, 3, 640, 640)\n"
          ]
        },
        {
          "name": "stderr",
          "output_type": "stream",
          "text": [
            " 44%|████▍     | 931/2108 [09:03<11:54,  1.65it/s]"
          ]
        },
        {
          "name": "stdout",
          "output_type": "stream",
          "text": [
            "\n",
            "0: 640x640 2 marmosets, 4.3ms\n",
            "Speed: 1.5ms preprocess, 4.3ms inference, 0.8ms postprocess per image at shape (1, 3, 640, 640)\n"
          ]
        },
        {
          "name": "stderr",
          "output_type": "stream",
          "text": [
            " 44%|████▍     | 932/2108 [09:04<11:50,  1.66it/s]"
          ]
        },
        {
          "name": "stdout",
          "output_type": "stream",
          "text": [
            "\n",
            "0: 480x640 1 marmoset, 4.6ms\n",
            "Speed: 1.1ms preprocess, 4.6ms inference, 0.8ms postprocess per image at shape (1, 3, 480, 640)\n"
          ]
        },
        {
          "name": "stderr",
          "output_type": "stream",
          "text": [
            " 44%|████▍     | 933/2108 [09:05<11:42,  1.67it/s]"
          ]
        },
        {
          "name": "stdout",
          "output_type": "stream",
          "text": [
            "\n",
            "0: 640x640 1 marmoset, 4.6ms\n",
            "Speed: 1.5ms preprocess, 4.6ms inference, 0.8ms postprocess per image at shape (1, 3, 640, 640)\n"
          ]
        },
        {
          "name": "stderr",
          "output_type": "stream",
          "text": [
            " 44%|████▍     | 934/2108 [09:05<11:40,  1.68it/s]"
          ]
        },
        {
          "name": "stdout",
          "output_type": "stream",
          "text": [
            "\n",
            "0: 640x640 1 marmoset, 4.3ms\n",
            "Speed: 1.5ms preprocess, 4.3ms inference, 0.8ms postprocess per image at shape (1, 3, 640, 640)\n"
          ]
        },
        {
          "name": "stderr",
          "output_type": "stream",
          "text": [
            " 44%|████▍     | 935/2108 [09:06<11:39,  1.68it/s]"
          ]
        },
        {
          "name": "stdout",
          "output_type": "stream",
          "text": [
            "\n",
            "0: 480x640 1 marmoset, 4.6ms\n",
            "Speed: 1.1ms preprocess, 4.6ms inference, 0.8ms postprocess per image at shape (1, 3, 480, 640)\n"
          ]
        },
        {
          "name": "stderr",
          "output_type": "stream",
          "text": [
            " 44%|████▍     | 936/2108 [09:06<11:27,  1.70it/s]"
          ]
        },
        {
          "name": "stdout",
          "output_type": "stream",
          "text": [
            "\n",
            "0: 640x640 2 marmosets, 4.5ms\n",
            "Speed: 1.5ms preprocess, 4.5ms inference, 0.8ms postprocess per image at shape (1, 3, 640, 640)\n"
          ]
        },
        {
          "name": "stderr",
          "output_type": "stream",
          "text": [
            " 44%|████▍     | 937/2108 [09:07<11:31,  1.69it/s]"
          ]
        },
        {
          "name": "stdout",
          "output_type": "stream",
          "text": [
            "\n",
            "0: 640x640 2 marmosets, 4.3ms\n",
            "Speed: 1.4ms preprocess, 4.3ms inference, 0.8ms postprocess per image at shape (1, 3, 640, 640)\n"
          ]
        },
        {
          "name": "stderr",
          "output_type": "stream",
          "text": [
            " 44%|████▍     | 938/2108 [09:08<11:47,  1.65it/s]"
          ]
        },
        {
          "name": "stdout",
          "output_type": "stream",
          "text": [
            "\n",
            "0: 640x640 1 marmoset, 4.3ms\n",
            "Speed: 1.6ms preprocess, 4.3ms inference, 0.8ms postprocess per image at shape (1, 3, 640, 640)\n"
          ]
        },
        {
          "name": "stderr",
          "output_type": "stream",
          "text": [
            " 45%|████▍     | 939/2108 [09:08<11:53,  1.64it/s]"
          ]
        },
        {
          "name": "stdout",
          "output_type": "stream",
          "text": [
            "\n",
            "0: 640x640 1 marmoset, 4.3ms\n",
            "Speed: 1.5ms preprocess, 4.3ms inference, 0.8ms postprocess per image at shape (1, 3, 640, 640)\n"
          ]
        },
        {
          "name": "stderr",
          "output_type": "stream",
          "text": [
            " 45%|████▍     | 940/2108 [09:09<11:50,  1.65it/s]"
          ]
        },
        {
          "name": "stdout",
          "output_type": "stream",
          "text": [
            "\n",
            "0: 640x640 1 marmoset, 4.4ms\n",
            "Speed: 1.5ms preprocess, 4.4ms inference, 0.8ms postprocess per image at shape (1, 3, 640, 640)\n"
          ]
        },
        {
          "name": "stderr",
          "output_type": "stream",
          "text": [
            " 45%|████▍     | 941/2108 [09:09<11:45,  1.65it/s]"
          ]
        },
        {
          "name": "stdout",
          "output_type": "stream",
          "text": [
            "\n",
            "0: 640x640 1 marmoset, 4.4ms\n",
            "Speed: 1.6ms preprocess, 4.4ms inference, 0.8ms postprocess per image at shape (1, 3, 640, 640)\n"
          ]
        },
        {
          "name": "stderr",
          "output_type": "stream",
          "text": [
            " 45%|████▍     | 942/2108 [09:10<11:45,  1.65it/s]"
          ]
        },
        {
          "name": "stdout",
          "output_type": "stream",
          "text": [
            "\n",
            "0: 640x640 2 marmosets, 4.4ms\n",
            "Speed: 1.5ms preprocess, 4.4ms inference, 0.8ms postprocess per image at shape (1, 3, 640, 640)\n"
          ]
        },
        {
          "name": "stderr",
          "output_type": "stream",
          "text": [
            " 45%|████▍     | 943/2108 [09:11<11:47,  1.65it/s]"
          ]
        },
        {
          "name": "stdout",
          "output_type": "stream",
          "text": [
            "\n",
            "0: 640x640 1 marmoset, 4.3ms\n",
            "Speed: 1.6ms preprocess, 4.3ms inference, 0.8ms postprocess per image at shape (1, 3, 640, 640)\n"
          ]
        },
        {
          "name": "stderr",
          "output_type": "stream",
          "text": [
            " 45%|████▍     | 944/2108 [09:11<11:45,  1.65it/s]"
          ]
        },
        {
          "name": "stdout",
          "output_type": "stream",
          "text": [
            "\n",
            "0: 640x640 1 marmoset, 4.3ms\n",
            "Speed: 1.5ms preprocess, 4.3ms inference, 0.8ms postprocess per image at shape (1, 3, 640, 640)\n"
          ]
        },
        {
          "name": "stderr",
          "output_type": "stream",
          "text": [
            " 45%|████▍     | 945/2108 [09:12<11:43,  1.65it/s]"
          ]
        },
        {
          "name": "stdout",
          "output_type": "stream",
          "text": [
            "\n",
            "0: 640x640 1 marmoset, 4.3ms\n",
            "Speed: 1.5ms preprocess, 4.3ms inference, 0.8ms postprocess per image at shape (1, 3, 640, 640)\n"
          ]
        },
        {
          "name": "stderr",
          "output_type": "stream",
          "text": [
            " 45%|████▍     | 946/2108 [09:12<11:41,  1.66it/s]"
          ]
        },
        {
          "name": "stdout",
          "output_type": "stream",
          "text": [
            "\n",
            "0: 640x640 2 marmosets, 4.2ms\n",
            "Speed: 1.4ms preprocess, 4.2ms inference, 0.8ms postprocess per image at shape (1, 3, 640, 640)\n"
          ]
        },
        {
          "name": "stderr",
          "output_type": "stream",
          "text": [
            " 45%|████▍     | 947/2108 [09:13<11:40,  1.66it/s]"
          ]
        },
        {
          "name": "stdout",
          "output_type": "stream",
          "text": [
            "\n",
            "0: 640x640 1 marmoset, 4.3ms\n",
            "Speed: 1.6ms preprocess, 4.3ms inference, 0.8ms postprocess per image at shape (1, 3, 640, 640)\n"
          ]
        },
        {
          "name": "stderr",
          "output_type": "stream",
          "text": [
            " 45%|████▍     | 948/2108 [09:14<11:38,  1.66it/s]"
          ]
        },
        {
          "name": "stdout",
          "output_type": "stream",
          "text": [
            "\n",
            "0: 480x640 1 marmoset, 4.6ms\n",
            "Speed: 1.0ms preprocess, 4.6ms inference, 0.8ms postprocess per image at shape (1, 3, 480, 640)\n"
          ]
        },
        {
          "name": "stderr",
          "output_type": "stream",
          "text": [
            " 45%|████▌     | 949/2108 [09:14<11:32,  1.67it/s]"
          ]
        },
        {
          "name": "stdout",
          "output_type": "stream",
          "text": [
            "\n",
            "0: 640x640 1 marmoset, 4.5ms\n",
            "Speed: 1.5ms preprocess, 4.5ms inference, 0.8ms postprocess per image at shape (1, 3, 640, 640)\n"
          ]
        },
        {
          "name": "stderr",
          "output_type": "stream",
          "text": [
            " 45%|████▌     | 950/2108 [09:15<11:32,  1.67it/s]"
          ]
        },
        {
          "name": "stdout",
          "output_type": "stream",
          "text": [
            "\n",
            "0: 640x640 2 marmosets, 4.3ms\n",
            "Speed: 1.5ms preprocess, 4.3ms inference, 0.8ms postprocess per image at shape (1, 3, 640, 640)\n"
          ]
        },
        {
          "name": "stderr",
          "output_type": "stream",
          "text": [
            " 45%|████▌     | 951/2108 [09:15<11:34,  1.66it/s]"
          ]
        },
        {
          "name": "stdout",
          "output_type": "stream",
          "text": [
            "\n",
            "0: 640x640 2 marmosets, 4.3ms\n",
            "Speed: 1.5ms preprocess, 4.3ms inference, 0.8ms postprocess per image at shape (1, 3, 640, 640)\n"
          ]
        },
        {
          "name": "stderr",
          "output_type": "stream",
          "text": [
            " 45%|████▌     | 952/2108 [09:16<11:37,  1.66it/s]"
          ]
        },
        {
          "name": "stdout",
          "output_type": "stream",
          "text": [
            "\n",
            "0: 640x640 1 marmoset, 4.3ms\n",
            "Speed: 1.5ms preprocess, 4.3ms inference, 0.8ms postprocess per image at shape (1, 3, 640, 640)\n"
          ]
        },
        {
          "name": "stderr",
          "output_type": "stream",
          "text": [
            " 45%|████▌     | 953/2108 [09:17<11:35,  1.66it/s]"
          ]
        },
        {
          "name": "stdout",
          "output_type": "stream",
          "text": [
            "\n",
            "0: 640x640 1 marmoset, 4.3ms\n",
            "Speed: 1.5ms preprocess, 4.3ms inference, 0.8ms postprocess per image at shape (1, 3, 640, 640)\n"
          ]
        },
        {
          "name": "stderr",
          "output_type": "stream",
          "text": [
            " 45%|████▌     | 954/2108 [09:17<11:32,  1.67it/s]"
          ]
        },
        {
          "name": "stdout",
          "output_type": "stream",
          "text": [
            "\n",
            "0: 640x640 1 marmoset, 4.3ms\n",
            "Speed: 1.5ms preprocess, 4.3ms inference, 0.8ms postprocess per image at shape (1, 3, 640, 640)\n"
          ]
        },
        {
          "name": "stderr",
          "output_type": "stream",
          "text": [
            " 45%|████▌     | 955/2108 [09:18<11:24,  1.68it/s]"
          ]
        },
        {
          "name": "stdout",
          "output_type": "stream",
          "text": [
            "\n",
            "0: 640x640 1 marmoset, 4.3ms\n",
            "Speed: 1.5ms preprocess, 4.3ms inference, 0.8ms postprocess per image at shape (1, 3, 640, 640)\n"
          ]
        },
        {
          "name": "stderr",
          "output_type": "stream",
          "text": [
            " 45%|████▌     | 956/2108 [09:18<11:20,  1.69it/s]"
          ]
        },
        {
          "name": "stdout",
          "output_type": "stream",
          "text": [
            "\n",
            "0: 480x640 1 marmoset, 4.6ms\n",
            "Speed: 1.1ms preprocess, 4.6ms inference, 0.8ms postprocess per image at shape (1, 3, 480, 640)\n"
          ]
        },
        {
          "name": "stderr",
          "output_type": "stream",
          "text": [
            " 45%|████▌     | 957/2108 [09:19<11:30,  1.67it/s]"
          ]
        },
        {
          "name": "stdout",
          "output_type": "stream",
          "text": [
            "\n",
            "0: 640x640 1 marmoset, 4.5ms\n",
            "Speed: 1.5ms preprocess, 4.5ms inference, 0.8ms postprocess per image at shape (1, 3, 640, 640)\n"
          ]
        },
        {
          "name": "stderr",
          "output_type": "stream",
          "text": [
            " 45%|████▌     | 958/2108 [09:20<11:33,  1.66it/s]"
          ]
        },
        {
          "name": "stdout",
          "output_type": "stream",
          "text": [
            "\n",
            "0: 640x640 1 marmoset, 4.3ms\n",
            "Speed: 1.5ms preprocess, 4.3ms inference, 0.8ms postprocess per image at shape (1, 3, 640, 640)\n"
          ]
        },
        {
          "name": "stderr",
          "output_type": "stream",
          "text": [
            " 45%|████▌     | 959/2108 [09:20<11:35,  1.65it/s]"
          ]
        },
        {
          "name": "stdout",
          "output_type": "stream",
          "text": [
            "\n",
            "0: 480x640 1 marmoset, 4.6ms\n",
            "Speed: 1.1ms preprocess, 4.6ms inference, 0.8ms postprocess per image at shape (1, 3, 480, 640)\n"
          ]
        },
        {
          "name": "stderr",
          "output_type": "stream",
          "text": [
            " 46%|████▌     | 960/2108 [09:21<11:32,  1.66it/s]"
          ]
        },
        {
          "name": "stdout",
          "output_type": "stream",
          "text": [
            "\n",
            "0: 640x640 1 marmoset, 4.5ms\n",
            "Speed: 1.5ms preprocess, 4.5ms inference, 0.8ms postprocess per image at shape (1, 3, 640, 640)\n"
          ]
        },
        {
          "name": "stderr",
          "output_type": "stream",
          "text": [
            " 46%|████▌     | 961/2108 [09:21<11:28,  1.67it/s]"
          ]
        },
        {
          "name": "stdout",
          "output_type": "stream",
          "text": [
            "\n",
            "0: 640x640 1 marmoset, 4.3ms\n",
            "Speed: 1.5ms preprocess, 4.3ms inference, 0.8ms postprocess per image at shape (1, 3, 640, 640)\n"
          ]
        },
        {
          "name": "stderr",
          "output_type": "stream",
          "text": [
            " 46%|████▌     | 962/2108 [09:22<11:24,  1.67it/s]"
          ]
        },
        {
          "name": "stdout",
          "output_type": "stream",
          "text": [
            "\n",
            "0: 480x640 (no detections), 4.6ms\n",
            "Speed: 1.1ms preprocess, 4.6ms inference, 0.3ms postprocess per image at shape (1, 3, 480, 640)\n",
            "\n",
            "0: 640x640 2 marmosets, 4.2ms\n",
            "Speed: 1.4ms preprocess, 4.2ms inference, 0.8ms postprocess per image at shape (1, 3, 640, 640)\n"
          ]
        },
        {
          "name": "stderr",
          "output_type": "stream",
          "text": [
            " 46%|████▌     | 964/2108 [09:23<08:46,  2.17it/s]"
          ]
        },
        {
          "name": "stdout",
          "output_type": "stream",
          "text": [
            "\n",
            "0: 480x640 1 marmoset, 4.6ms\n",
            "Speed: 1.1ms preprocess, 4.6ms inference, 0.8ms postprocess per image at shape (1, 3, 480, 640)\n"
          ]
        },
        {
          "name": "stderr",
          "output_type": "stream",
          "text": [
            " 46%|████▌     | 965/2108 [09:23<09:22,  2.03it/s]"
          ]
        },
        {
          "name": "stdout",
          "output_type": "stream",
          "text": [
            "\n",
            "0: 640x640 2 marmosets, 4.5ms\n",
            "Speed: 1.5ms preprocess, 4.5ms inference, 0.8ms postprocess per image at shape (1, 3, 640, 640)\n"
          ]
        },
        {
          "name": "stderr",
          "output_type": "stream",
          "text": [
            " 46%|████▌     | 966/2108 [09:24<09:59,  1.90it/s]"
          ]
        },
        {
          "name": "stdout",
          "output_type": "stream",
          "text": [
            "\n",
            "0: 640x640 1 marmoset, 4.3ms\n",
            "Speed: 1.5ms preprocess, 4.3ms inference, 0.8ms postprocess per image at shape (1, 3, 640, 640)\n"
          ]
        },
        {
          "name": "stderr",
          "output_type": "stream",
          "text": [
            " 46%|████▌     | 967/2108 [09:24<10:27,  1.82it/s]"
          ]
        },
        {
          "name": "stdout",
          "output_type": "stream",
          "text": [
            "\n",
            "0: 640x640 1 marmoset, 4.3ms\n",
            "Speed: 1.5ms preprocess, 4.3ms inference, 0.8ms postprocess per image at shape (1, 3, 640, 640)\n"
          ]
        },
        {
          "name": "stderr",
          "output_type": "stream",
          "text": [
            " 46%|████▌     | 968/2108 [09:25<10:47,  1.76it/s]"
          ]
        },
        {
          "name": "stdout",
          "output_type": "stream",
          "text": [
            "\n",
            "0: 640x640 1 marmoset, 4.3ms\n",
            "Speed: 1.4ms preprocess, 4.3ms inference, 0.8ms postprocess per image at shape (1, 3, 640, 640)\n"
          ]
        },
        {
          "name": "stderr",
          "output_type": "stream",
          "text": [
            " 46%|████▌     | 969/2108 [09:26<11:02,  1.72it/s]"
          ]
        },
        {
          "name": "stdout",
          "output_type": "stream",
          "text": [
            "\n",
            "0: 640x640 1 marmoset, 4.2ms\n",
            "Speed: 1.5ms preprocess, 4.2ms inference, 0.8ms postprocess per image at shape (1, 3, 640, 640)\n"
          ]
        },
        {
          "name": "stderr",
          "output_type": "stream",
          "text": [
            " 46%|████▌     | 970/2108 [09:26<11:12,  1.69it/s]"
          ]
        },
        {
          "name": "stdout",
          "output_type": "stream",
          "text": [
            "\n",
            "0: 480x640 1 marmoset, 4.6ms\n",
            "Speed: 1.1ms preprocess, 4.6ms inference, 0.8ms postprocess per image at shape (1, 3, 480, 640)\n"
          ]
        },
        {
          "name": "stderr",
          "output_type": "stream",
          "text": [
            " 46%|████▌     | 971/2108 [09:27<11:12,  1.69it/s]"
          ]
        },
        {
          "name": "stdout",
          "output_type": "stream",
          "text": [
            "\n",
            "0: 480x640 1 marmoset, 4.3ms\n",
            "Speed: 1.1ms preprocess, 4.3ms inference, 0.8ms postprocess per image at shape (1, 3, 480, 640)\n"
          ]
        },
        {
          "name": "stderr",
          "output_type": "stream",
          "text": [
            " 46%|████▌     | 972/2108 [09:27<11:01,  1.72it/s]"
          ]
        },
        {
          "name": "stdout",
          "output_type": "stream",
          "text": [
            "\n",
            "0: 640x640 2 marmosets, 4.6ms\n",
            "Speed: 1.5ms preprocess, 4.6ms inference, 0.8ms postprocess per image at shape (1, 3, 640, 640)\n"
          ]
        },
        {
          "name": "stderr",
          "output_type": "stream",
          "text": [
            " 46%|████▌     | 973/2108 [09:28<11:00,  1.72it/s]"
          ]
        },
        {
          "name": "stdout",
          "output_type": "stream",
          "text": [
            "\n",
            "0: 640x640 1 marmoset, 4.2ms\n",
            "Speed: 1.5ms preprocess, 4.2ms inference, 0.8ms postprocess per image at shape (1, 3, 640, 640)\n"
          ]
        },
        {
          "name": "stderr",
          "output_type": "stream",
          "text": [
            " 46%|████▌     | 974/2108 [09:29<10:59,  1.72it/s]"
          ]
        },
        {
          "name": "stdout",
          "output_type": "stream",
          "text": [
            "\n",
            "0: 640x640 2 marmosets, 4.2ms\n",
            "Speed: 1.5ms preprocess, 4.2ms inference, 0.8ms postprocess per image at shape (1, 3, 640, 640)\n"
          ]
        },
        {
          "name": "stderr",
          "output_type": "stream",
          "text": [
            " 46%|████▋     | 975/2108 [09:29<11:10,  1.69it/s]"
          ]
        },
        {
          "name": "stdout",
          "output_type": "stream",
          "text": [
            "\n",
            "0: 640x640 1 marmoset, 4.2ms\n",
            "Speed: 1.5ms preprocess, 4.2ms inference, 0.8ms postprocess per image at shape (1, 3, 640, 640)\n"
          ]
        },
        {
          "name": "stderr",
          "output_type": "stream",
          "text": [
            " 46%|████▋     | 976/2108 [09:30<11:15,  1.68it/s]"
          ]
        },
        {
          "name": "stdout",
          "output_type": "stream",
          "text": [
            "\n",
            "0: 480x640 1 marmoset, 4.5ms\n",
            "Speed: 1.1ms preprocess, 4.5ms inference, 0.8ms postprocess per image at shape (1, 3, 480, 640)\n"
          ]
        },
        {
          "name": "stderr",
          "output_type": "stream",
          "text": [
            " 46%|████▋     | 977/2108 [09:30<11:15,  1.68it/s]"
          ]
        },
        {
          "name": "stdout",
          "output_type": "stream",
          "text": [
            "\n",
            "0: 480x640 (no detections), 4.1ms\n",
            "Speed: 1.1ms preprocess, 4.1ms inference, 0.3ms postprocess per image at shape (1, 3, 480, 640)\n",
            "\n",
            "0: 640x640 1 marmoset, 4.2ms\n",
            "Speed: 1.5ms preprocess, 4.2ms inference, 0.7ms postprocess per image at shape (1, 3, 640, 640)\n"
          ]
        },
        {
          "name": "stderr",
          "output_type": "stream",
          "text": [
            " 46%|████▋     | 979/2108 [09:31<08:44,  2.15it/s]"
          ]
        },
        {
          "name": "stdout",
          "output_type": "stream",
          "text": [
            "\n",
            "0: 640x640 1 marmoset, 4.3ms\n",
            "Speed: 1.5ms preprocess, 4.3ms inference, 0.8ms postprocess per image at shape (1, 3, 640, 640)\n"
          ]
        },
        {
          "name": "stderr",
          "output_type": "stream",
          "text": [
            " 46%|████▋     | 980/2108 [09:32<09:24,  2.00it/s]"
          ]
        },
        {
          "name": "stdout",
          "output_type": "stream",
          "text": [
            "\n",
            "0: 640x640 2 marmosets, 4.3ms\n",
            "Speed: 1.4ms preprocess, 4.3ms inference, 0.8ms postprocess per image at shape (1, 3, 640, 640)\n"
          ]
        },
        {
          "name": "stderr",
          "output_type": "stream",
          "text": [
            " 47%|████▋     | 981/2108 [09:32<09:56,  1.89it/s]"
          ]
        },
        {
          "name": "stdout",
          "output_type": "stream",
          "text": [
            "\n",
            "0: 480x640 2 marmosets, 4.6ms\n",
            "Speed: 1.1ms preprocess, 4.6ms inference, 0.8ms postprocess per image at shape (1, 3, 480, 640)\n"
          ]
        },
        {
          "name": "stderr",
          "output_type": "stream",
          "text": [
            " 47%|████▋     | 982/2108 [09:33<10:19,  1.82it/s]"
          ]
        },
        {
          "name": "stdout",
          "output_type": "stream",
          "text": [
            "\n",
            "0: 640x640 1 marmoset, 4.5ms\n",
            "Speed: 1.5ms preprocess, 4.5ms inference, 0.8ms postprocess per image at shape (1, 3, 640, 640)\n"
          ]
        },
        {
          "name": "stderr",
          "output_type": "stream",
          "text": [
            " 47%|████▋     | 983/2108 [09:33<10:36,  1.77it/s]"
          ]
        },
        {
          "name": "stdout",
          "output_type": "stream",
          "text": [
            "\n",
            "0: 640x640 1 marmoset, 4.3ms\n",
            "Speed: 1.5ms preprocess, 4.3ms inference, 0.8ms postprocess per image at shape (1, 3, 640, 640)\n"
          ]
        },
        {
          "name": "stderr",
          "output_type": "stream",
          "text": [
            " 47%|████▋     | 984/2108 [09:34<10:50,  1.73it/s]"
          ]
        },
        {
          "name": "stdout",
          "output_type": "stream",
          "text": [
            "\n",
            "0: 640x640 2 marmosets, 4.2ms\n",
            "Speed: 1.4ms preprocess, 4.2ms inference, 0.8ms postprocess per image at shape (1, 3, 640, 640)\n"
          ]
        },
        {
          "name": "stderr",
          "output_type": "stream",
          "text": [
            " 47%|████▋     | 985/2108 [09:35<11:00,  1.70it/s]"
          ]
        },
        {
          "name": "stdout",
          "output_type": "stream",
          "text": [
            "\n",
            "0: 640x640 1 marmoset, 4.3ms\n",
            "Speed: 1.7ms preprocess, 4.3ms inference, 0.8ms postprocess per image at shape (1, 3, 640, 640)\n"
          ]
        },
        {
          "name": "stderr",
          "output_type": "stream",
          "text": [
            " 47%|████▋     | 986/2108 [09:35<11:08,  1.68it/s]"
          ]
        },
        {
          "name": "stdout",
          "output_type": "stream",
          "text": [
            "\n",
            "0: 640x640 1 marmoset, 4.3ms\n",
            "Speed: 1.5ms preprocess, 4.3ms inference, 0.8ms postprocess per image at shape (1, 3, 640, 640)\n"
          ]
        },
        {
          "name": "stderr",
          "output_type": "stream",
          "text": [
            " 47%|████▋     | 987/2108 [09:36<11:11,  1.67it/s]"
          ]
        },
        {
          "name": "stdout",
          "output_type": "stream",
          "text": [
            "\n",
            "0: 640x640 1 marmoset, 4.3ms\n",
            "Speed: 1.6ms preprocess, 4.3ms inference, 0.8ms postprocess per image at shape (1, 3, 640, 640)\n"
          ]
        },
        {
          "name": "stderr",
          "output_type": "stream",
          "text": [
            " 47%|████▋     | 988/2108 [09:37<11:15,  1.66it/s]"
          ]
        },
        {
          "name": "stdout",
          "output_type": "stream",
          "text": [
            "\n",
            "0: 640x640 1 marmoset, 4.3ms\n",
            "Speed: 1.5ms preprocess, 4.3ms inference, 0.8ms postprocess per image at shape (1, 3, 640, 640)\n"
          ]
        },
        {
          "name": "stderr",
          "output_type": "stream",
          "text": [
            " 47%|████▋     | 989/2108 [09:37<11:15,  1.66it/s]"
          ]
        },
        {
          "name": "stdout",
          "output_type": "stream",
          "text": [
            "\n",
            "0: 640x640 1 marmoset, 4.3ms\n",
            "Speed: 1.5ms preprocess, 4.3ms inference, 0.8ms postprocess per image at shape (1, 3, 640, 640)\n"
          ]
        },
        {
          "name": "stderr",
          "output_type": "stream",
          "text": [
            " 47%|████▋     | 990/2108 [09:38<11:16,  1.65it/s]"
          ]
        },
        {
          "name": "stdout",
          "output_type": "stream",
          "text": [
            "\n",
            "0: 640x640 1 marmoset, 4.3ms\n",
            "Speed: 1.5ms preprocess, 4.3ms inference, 0.8ms postprocess per image at shape (1, 3, 640, 640)\n"
          ]
        },
        {
          "name": "stderr",
          "output_type": "stream",
          "text": [
            " 47%|████▋     | 991/2108 [09:38<11:16,  1.65it/s]"
          ]
        },
        {
          "name": "stdout",
          "output_type": "stream",
          "text": [
            "\n",
            "0: 480x640 1 marmoset, 4.6ms\n",
            "Speed: 1.1ms preprocess, 4.6ms inference, 0.8ms postprocess per image at shape (1, 3, 480, 640)\n"
          ]
        },
        {
          "name": "stderr",
          "output_type": "stream",
          "text": [
            " 47%|████▋     | 992/2108 [09:39<11:06,  1.67it/s]"
          ]
        },
        {
          "name": "stdout",
          "output_type": "stream",
          "text": [
            "\n",
            "0: 480x640 1 marmoset, 4.3ms\n",
            "Speed: 1.1ms preprocess, 4.3ms inference, 0.8ms postprocess per image at shape (1, 3, 480, 640)\n"
          ]
        },
        {
          "name": "stderr",
          "output_type": "stream",
          "text": [
            " 47%|████▋     | 993/2108 [09:39<10:51,  1.71it/s]"
          ]
        },
        {
          "name": "stdout",
          "output_type": "stream",
          "text": [
            "\n",
            "0: 640x640 1 marmoset, 4.5ms\n",
            "Speed: 1.5ms preprocess, 4.5ms inference, 0.8ms postprocess per image at shape (1, 3, 640, 640)\n"
          ]
        },
        {
          "name": "stderr",
          "output_type": "stream",
          "text": [
            " 47%|████▋     | 994/2108 [09:40<10:59,  1.69it/s]"
          ]
        },
        {
          "name": "stdout",
          "output_type": "stream",
          "text": [
            "\n",
            "0: 480x640 1 marmoset, 4.6ms\n",
            "Speed: 1.1ms preprocess, 4.6ms inference, 0.8ms postprocess per image at shape (1, 3, 480, 640)\n"
          ]
        },
        {
          "name": "stderr",
          "output_type": "stream",
          "text": [
            " 47%|████▋     | 995/2108 [09:41<11:03,  1.68it/s]"
          ]
        },
        {
          "name": "stdout",
          "output_type": "stream",
          "text": [
            "\n",
            "0: 480x640 1 marmoset, 4.2ms\n",
            "Speed: 1.1ms preprocess, 4.2ms inference, 0.8ms postprocess per image at shape (1, 3, 480, 640)\n"
          ]
        },
        {
          "name": "stderr",
          "output_type": "stream",
          "text": [
            " 47%|████▋     | 996/2108 [09:41<11:06,  1.67it/s]"
          ]
        },
        {
          "name": "stdout",
          "output_type": "stream",
          "text": [
            "\n",
            "0: 640x640 2 marmosets, 4.5ms\n",
            "Speed: 1.5ms preprocess, 4.5ms inference, 0.8ms postprocess per image at shape (1, 3, 640, 640)\n"
          ]
        },
        {
          "name": "stderr",
          "output_type": "stream",
          "text": [
            " 47%|████▋     | 997/2108 [09:42<11:12,  1.65it/s]"
          ]
        },
        {
          "name": "stdout",
          "output_type": "stream",
          "text": [
            "\n",
            "0: 480x640 1 marmoset, 4.6ms\n",
            "Speed: 1.1ms preprocess, 4.6ms inference, 0.8ms postprocess per image at shape (1, 3, 480, 640)\n"
          ]
        },
        {
          "name": "stderr",
          "output_type": "stream",
          "text": [
            " 47%|████▋     | 998/2108 [09:43<11:11,  1.65it/s]"
          ]
        },
        {
          "name": "stdout",
          "output_type": "stream",
          "text": [
            "\n",
            "0: 640x640 1 marmoset, 4.5ms\n",
            "Speed: 1.5ms preprocess, 4.5ms inference, 0.8ms postprocess per image at shape (1, 3, 640, 640)\n"
          ]
        },
        {
          "name": "stderr",
          "output_type": "stream",
          "text": [
            " 47%|████▋     | 999/2108 [09:43<11:15,  1.64it/s]"
          ]
        },
        {
          "name": "stdout",
          "output_type": "stream",
          "text": [
            "\n",
            "0: 640x640 1 marmoset, 4.3ms\n",
            "Speed: 1.5ms preprocess, 4.3ms inference, 0.8ms postprocess per image at shape (1, 3, 640, 640)\n"
          ]
        },
        {
          "name": "stderr",
          "output_type": "stream",
          "text": [
            " 47%|████▋     | 1000/2108 [09:44<11:17,  1.64it/s]"
          ]
        },
        {
          "name": "stdout",
          "output_type": "stream",
          "text": [
            "\n",
            "0: 640x640 2 marmosets, 4.3ms\n",
            "Speed: 1.4ms preprocess, 4.3ms inference, 0.8ms postprocess per image at shape (1, 3, 640, 640)\n"
          ]
        },
        {
          "name": "stderr",
          "output_type": "stream",
          "text": [
            " 47%|████▋     | 1001/2108 [09:44<11:19,  1.63it/s]"
          ]
        },
        {
          "name": "stdout",
          "output_type": "stream",
          "text": [
            "\n",
            "0: 640x640 1 marmoset, 4.3ms\n",
            "Speed: 1.5ms preprocess, 4.3ms inference, 0.8ms postprocess per image at shape (1, 3, 640, 640)\n"
          ]
        },
        {
          "name": "stderr",
          "output_type": "stream",
          "text": [
            " 48%|████▊     | 1002/2108 [09:45<11:16,  1.63it/s]"
          ]
        },
        {
          "name": "stdout",
          "output_type": "stream",
          "text": [
            "\n",
            "0: 640x640 1 marmoset, 4.3ms\n",
            "Speed: 1.5ms preprocess, 4.3ms inference, 0.8ms postprocess per image at shape (1, 3, 640, 640)\n"
          ]
        },
        {
          "name": "stderr",
          "output_type": "stream",
          "text": [
            " 48%|████▊     | 1003/2108 [09:46<11:11,  1.65it/s]"
          ]
        },
        {
          "name": "stdout",
          "output_type": "stream",
          "text": [
            "\n",
            "0: 640x640 1 marmoset, 4.3ms\n",
            "Speed: 1.5ms preprocess, 4.3ms inference, 0.8ms postprocess per image at shape (1, 3, 640, 640)\n"
          ]
        },
        {
          "name": "stderr",
          "output_type": "stream",
          "text": [
            " 48%|████▊     | 1004/2108 [09:46<11:07,  1.65it/s]"
          ]
        },
        {
          "name": "stdout",
          "output_type": "stream",
          "text": [
            "\n",
            "0: 640x640 1 marmoset, 4.3ms\n",
            "Speed: 1.5ms preprocess, 4.3ms inference, 0.8ms postprocess per image at shape (1, 3, 640, 640)\n"
          ]
        },
        {
          "name": "stderr",
          "output_type": "stream",
          "text": [
            " 48%|████▊     | 1005/2108 [09:47<11:04,  1.66it/s]"
          ]
        },
        {
          "name": "stdout",
          "output_type": "stream",
          "text": [
            "\n",
            "0: 640x640 1 marmoset, 4.3ms\n",
            "Speed: 1.5ms preprocess, 4.3ms inference, 0.8ms postprocess per image at shape (1, 3, 640, 640)\n"
          ]
        },
        {
          "name": "stderr",
          "output_type": "stream",
          "text": [
            " 48%|████▊     | 1006/2108 [09:47<11:25,  1.61it/s]"
          ]
        },
        {
          "name": "stdout",
          "output_type": "stream",
          "text": [
            "\n",
            "0: 640x640 2 marmosets, 4.3ms\n",
            "Speed: 1.4ms preprocess, 4.3ms inference, 0.8ms postprocess per image at shape (1, 3, 640, 640)\n"
          ]
        },
        {
          "name": "stderr",
          "output_type": "stream",
          "text": [
            " 48%|████▊     | 1007/2108 [09:48<11:21,  1.62it/s]"
          ]
        },
        {
          "name": "stdout",
          "output_type": "stream",
          "text": [
            "\n",
            "0: 480x640 1 marmoset, 4.6ms\n",
            "Speed: 1.1ms preprocess, 4.6ms inference, 0.8ms postprocess per image at shape (1, 3, 480, 640)\n"
          ]
        },
        {
          "name": "stderr",
          "output_type": "stream",
          "text": [
            " 48%|████▊     | 1008/2108 [09:49<11:08,  1.65it/s]"
          ]
        },
        {
          "name": "stdout",
          "output_type": "stream",
          "text": [
            "\n",
            "0: 480x640 1 marmoset, 4.2ms\n",
            "Speed: 1.1ms preprocess, 4.2ms inference, 0.8ms postprocess per image at shape (1, 3, 480, 640)\n"
          ]
        },
        {
          "name": "stderr",
          "output_type": "stream",
          "text": [
            " 48%|████▊     | 1009/2108 [09:49<10:58,  1.67it/s]"
          ]
        },
        {
          "name": "stdout",
          "output_type": "stream",
          "text": [
            "\n",
            "0: 640x640 1 marmoset, 4.5ms\n",
            "Speed: 1.5ms preprocess, 4.5ms inference, 0.8ms postprocess per image at shape (1, 3, 640, 640)\n"
          ]
        },
        {
          "name": "stderr",
          "output_type": "stream",
          "text": [
            " 48%|████▊     | 1010/2108 [09:50<10:56,  1.67it/s]"
          ]
        },
        {
          "name": "stdout",
          "output_type": "stream",
          "text": [
            "\n",
            "0: 640x640 2 marmosets, 4.3ms\n",
            "Speed: 1.5ms preprocess, 4.3ms inference, 0.8ms postprocess per image at shape (1, 3, 640, 640)\n"
          ]
        },
        {
          "name": "stderr",
          "output_type": "stream",
          "text": [
            " 48%|████▊     | 1011/2108 [09:50<10:55,  1.67it/s]"
          ]
        },
        {
          "name": "stdout",
          "output_type": "stream",
          "text": [
            "\n",
            "0: 480x640 1 marmoset, 4.5ms\n",
            "Speed: 1.1ms preprocess, 4.5ms inference, 0.8ms postprocess per image at shape (1, 3, 480, 640)\n"
          ]
        },
        {
          "name": "stderr",
          "output_type": "stream",
          "text": [
            " 48%|████▊     | 1012/2108 [09:51<10:44,  1.70it/s]"
          ]
        },
        {
          "name": "stdout",
          "output_type": "stream",
          "text": [
            "\n",
            "0: 640x640 1 marmoset, 4.4ms\n",
            "Speed: 1.4ms preprocess, 4.4ms inference, 0.7ms postprocess per image at shape (1, 3, 640, 640)\n"
          ]
        },
        {
          "name": "stderr",
          "output_type": "stream",
          "text": [
            " 48%|████▊     | 1013/2108 [09:52<10:52,  1.68it/s]"
          ]
        },
        {
          "name": "stdout",
          "output_type": "stream",
          "text": [
            "\n",
            "0: 480x640 1 marmoset, 4.5ms\n",
            "Speed: 1.1ms preprocess, 4.5ms inference, 0.8ms postprocess per image at shape (1, 3, 480, 640)\n"
          ]
        },
        {
          "name": "stderr",
          "output_type": "stream",
          "text": [
            " 48%|████▊     | 1014/2108 [09:52<11:00,  1.66it/s]"
          ]
        },
        {
          "name": "stdout",
          "output_type": "stream",
          "text": [
            "\n",
            "0: 640x640 1 marmoset, 4.4ms\n",
            "Speed: 1.5ms preprocess, 4.4ms inference, 0.7ms postprocess per image at shape (1, 3, 640, 640)\n"
          ]
        },
        {
          "name": "stderr",
          "output_type": "stream",
          "text": [
            " 48%|████▊     | 1015/2108 [09:53<11:01,  1.65it/s]"
          ]
        },
        {
          "name": "stdout",
          "output_type": "stream",
          "text": [
            "\n",
            "0: 640x640 2 marmosets, 4.2ms\n",
            "Speed: 1.5ms preprocess, 4.2ms inference, 0.8ms postprocess per image at shape (1, 3, 640, 640)\n"
          ]
        },
        {
          "name": "stderr",
          "output_type": "stream",
          "text": [
            " 48%|████▊     | 1016/2108 [09:53<11:05,  1.64it/s]"
          ]
        },
        {
          "name": "stdout",
          "output_type": "stream",
          "text": [
            "\n",
            "0: 480x640 1 marmoset, 4.5ms\n",
            "Speed: 1.1ms preprocess, 4.5ms inference, 0.8ms postprocess per image at shape (1, 3, 480, 640)\n"
          ]
        },
        {
          "name": "stderr",
          "output_type": "stream",
          "text": [
            " 48%|████▊     | 1017/2108 [09:54<10:58,  1.66it/s]"
          ]
        },
        {
          "name": "stdout",
          "output_type": "stream",
          "text": [
            "\n",
            "0: 640x640 1 marmoset, 4.5ms\n",
            "Speed: 1.5ms preprocess, 4.5ms inference, 0.8ms postprocess per image at shape (1, 3, 640, 640)\n"
          ]
        },
        {
          "name": "stderr",
          "output_type": "stream",
          "text": [
            " 48%|████▊     | 1018/2108 [09:55<10:58,  1.65it/s]"
          ]
        },
        {
          "name": "stdout",
          "output_type": "stream",
          "text": [
            "\n",
            "0: 640x640 1 marmoset, 4.2ms\n",
            "Speed: 1.5ms preprocess, 4.2ms inference, 0.8ms postprocess per image at shape (1, 3, 640, 640)\n"
          ]
        },
        {
          "name": "stderr",
          "output_type": "stream",
          "text": [
            " 48%|████▊     | 1019/2108 [09:55<10:58,  1.65it/s]"
          ]
        },
        {
          "name": "stdout",
          "output_type": "stream",
          "text": [
            "\n",
            "0: 640x640 1 marmoset, 4.2ms\n",
            "Speed: 1.4ms preprocess, 4.2ms inference, 0.8ms postprocess per image at shape (1, 3, 640, 640)\n"
          ]
        },
        {
          "name": "stderr",
          "output_type": "stream",
          "text": [
            " 48%|████▊     | 1020/2108 [09:56<10:57,  1.65it/s]"
          ]
        },
        {
          "name": "stdout",
          "output_type": "stream",
          "text": [
            "\n",
            "0: 640x640 1 marmoset, 4.2ms\n",
            "Speed: 1.5ms preprocess, 4.2ms inference, 0.8ms postprocess per image at shape (1, 3, 640, 640)\n"
          ]
        },
        {
          "name": "stderr",
          "output_type": "stream",
          "text": [
            " 48%|████▊     | 1021/2108 [09:56<10:57,  1.65it/s]"
          ]
        },
        {
          "name": "stdout",
          "output_type": "stream",
          "text": [
            "\n",
            "0: 480x640 1 marmoset, 4.5ms\n",
            "Speed: 1.1ms preprocess, 4.5ms inference, 0.8ms postprocess per image at shape (1, 3, 480, 640)\n"
          ]
        },
        {
          "name": "stderr",
          "output_type": "stream",
          "text": [
            " 48%|████▊     | 1022/2108 [09:57<10:54,  1.66it/s]"
          ]
        },
        {
          "name": "stdout",
          "output_type": "stream",
          "text": [
            "\n",
            "0: 640x640 1 marmoset, 4.4ms\n",
            "Speed: 1.5ms preprocess, 4.4ms inference, 0.7ms postprocess per image at shape (1, 3, 640, 640)\n"
          ]
        },
        {
          "name": "stderr",
          "output_type": "stream",
          "text": [
            " 49%|████▊     | 1023/2108 [09:58<10:55,  1.65it/s]"
          ]
        },
        {
          "name": "stdout",
          "output_type": "stream",
          "text": [
            "\n",
            "0: 640x640 1 marmoset, 4.2ms\n",
            "Speed: 1.5ms preprocess, 4.2ms inference, 0.8ms postprocess per image at shape (1, 3, 640, 640)\n"
          ]
        },
        {
          "name": "stderr",
          "output_type": "stream",
          "text": [
            " 49%|████▊     | 1024/2108 [09:58<10:55,  1.65it/s]"
          ]
        },
        {
          "name": "stdout",
          "output_type": "stream",
          "text": [
            "\n",
            "0: 640x640 1 marmoset, 4.2ms\n",
            "Speed: 1.5ms preprocess, 4.2ms inference, 0.8ms postprocess per image at shape (1, 3, 640, 640)\n"
          ]
        },
        {
          "name": "stderr",
          "output_type": "stream",
          "text": [
            " 49%|████▊     | 1025/2108 [09:59<10:56,  1.65it/s]"
          ]
        },
        {
          "name": "stdout",
          "output_type": "stream",
          "text": [
            "\n",
            "0: 480x640 1 marmoset, 4.5ms\n",
            "Speed: 1.1ms preprocess, 4.5ms inference, 0.8ms postprocess per image at shape (1, 3, 480, 640)\n"
          ]
        },
        {
          "name": "stderr",
          "output_type": "stream",
          "text": [
            " 49%|████▊     | 1026/2108 [09:59<10:52,  1.66it/s]"
          ]
        },
        {
          "name": "stdout",
          "output_type": "stream",
          "text": [
            "\n",
            "0: 640x640 1 marmoset, 4.4ms\n",
            "Speed: 1.5ms preprocess, 4.4ms inference, 0.7ms postprocess per image at shape (1, 3, 640, 640)\n"
          ]
        },
        {
          "name": "stderr",
          "output_type": "stream",
          "text": [
            " 49%|████▊     | 1027/2108 [10:00<10:54,  1.65it/s]"
          ]
        },
        {
          "name": "stdout",
          "output_type": "stream",
          "text": [
            "\n",
            "0: 640x640 1 marmoset, 4.2ms\n",
            "Speed: 1.5ms preprocess, 4.2ms inference, 0.8ms postprocess per image at shape (1, 3, 640, 640)\n"
          ]
        },
        {
          "name": "stderr",
          "output_type": "stream",
          "text": [
            " 49%|████▉     | 1028/2108 [10:01<10:53,  1.65it/s]"
          ]
        },
        {
          "name": "stdout",
          "output_type": "stream",
          "text": [
            "\n",
            "0: 640x640 1 marmoset, 4.2ms\n",
            "Speed: 1.5ms preprocess, 4.2ms inference, 0.8ms postprocess per image at shape (1, 3, 640, 640)\n"
          ]
        },
        {
          "name": "stderr",
          "output_type": "stream",
          "text": [
            " 49%|████▉     | 1029/2108 [10:01<10:54,  1.65it/s]"
          ]
        },
        {
          "name": "stdout",
          "output_type": "stream",
          "text": [
            "\n",
            "0: 640x640 2 marmosets, 4.2ms\n",
            "Speed: 1.4ms preprocess, 4.2ms inference, 0.8ms postprocess per image at shape (1, 3, 640, 640)\n"
          ]
        },
        {
          "name": "stderr",
          "output_type": "stream",
          "text": [
            " 49%|████▉     | 1030/2108 [10:02<10:47,  1.67it/s]"
          ]
        },
        {
          "name": "stdout",
          "output_type": "stream",
          "text": [
            "\n",
            "0: 640x640 1 marmoset, 4.1ms\n",
            "Speed: 1.5ms preprocess, 4.1ms inference, 0.8ms postprocess per image at shape (1, 3, 640, 640)\n"
          ]
        },
        {
          "name": "stderr",
          "output_type": "stream",
          "text": [
            " 49%|████▉     | 1031/2108 [10:02<10:41,  1.68it/s]"
          ]
        },
        {
          "name": "stdout",
          "output_type": "stream",
          "text": [
            "\n",
            "0: 640x640 1 marmoset, 4.2ms\n",
            "Speed: 1.5ms preprocess, 4.2ms inference, 0.8ms postprocess per image at shape (1, 3, 640, 640)\n"
          ]
        },
        {
          "name": "stderr",
          "output_type": "stream",
          "text": [
            " 49%|████▉     | 1032/2108 [10:03<10:44,  1.67it/s]"
          ]
        },
        {
          "name": "stdout",
          "output_type": "stream",
          "text": [
            "\n",
            "0: 640x640 2 marmosets, 4.2ms\n",
            "Speed: 1.4ms preprocess, 4.2ms inference, 0.8ms postprocess per image at shape (1, 3, 640, 640)\n"
          ]
        },
        {
          "name": "stderr",
          "output_type": "stream",
          "text": [
            " 49%|████▉     | 1033/2108 [10:04<10:44,  1.67it/s]"
          ]
        },
        {
          "name": "stdout",
          "output_type": "stream",
          "text": [
            "\n",
            "0: 640x640 1 marmoset, 4.2ms\n",
            "Speed: 1.5ms preprocess, 4.2ms inference, 0.8ms postprocess per image at shape (1, 3, 640, 640)\n"
          ]
        },
        {
          "name": "stderr",
          "output_type": "stream",
          "text": [
            " 49%|████▉     | 1034/2108 [10:04<10:43,  1.67it/s]"
          ]
        },
        {
          "name": "stdout",
          "output_type": "stream",
          "text": [
            "\n",
            "0: 640x640 3 marmosets, 4.2ms\n",
            "Speed: 1.4ms preprocess, 4.2ms inference, 0.7ms postprocess per image at shape (1, 3, 640, 640)\n"
          ]
        },
        {
          "name": "stderr",
          "output_type": "stream",
          "text": [
            " 49%|████▉     | 1035/2108 [10:05<10:47,  1.66it/s]"
          ]
        },
        {
          "name": "stdout",
          "output_type": "stream",
          "text": [
            "\n",
            "0: 480x640 1 marmoset, 4.5ms\n",
            "Speed: 1.1ms preprocess, 4.5ms inference, 0.8ms postprocess per image at shape (1, 3, 480, 640)\n"
          ]
        },
        {
          "name": "stderr",
          "output_type": "stream",
          "text": [
            " 49%|████▉     | 1036/2108 [10:05<10:42,  1.67it/s]"
          ]
        },
        {
          "name": "stdout",
          "output_type": "stream",
          "text": [
            "\n",
            "0: 640x640 1 marmoset, 4.4ms\n",
            "Speed: 1.5ms preprocess, 4.4ms inference, 0.7ms postprocess per image at shape (1, 3, 640, 640)\n"
          ]
        },
        {
          "name": "stderr",
          "output_type": "stream",
          "text": [
            " 49%|████▉     | 1037/2108 [10:06<10:42,  1.67it/s]"
          ]
        },
        {
          "name": "stdout",
          "output_type": "stream",
          "text": [
            "\n",
            "0: 640x640 1 marmoset, 4.2ms\n",
            "Speed: 1.5ms preprocess, 4.2ms inference, 0.8ms postprocess per image at shape (1, 3, 640, 640)\n"
          ]
        },
        {
          "name": "stderr",
          "output_type": "stream",
          "text": [
            " 49%|████▉     | 1038/2108 [10:07<10:42,  1.67it/s]"
          ]
        },
        {
          "name": "stdout",
          "output_type": "stream",
          "text": [
            "\n",
            "0: 640x640 2 marmosets, 4.2ms\n",
            "Speed: 1.4ms preprocess, 4.2ms inference, 0.8ms postprocess per image at shape (1, 3, 640, 640)\n"
          ]
        },
        {
          "name": "stderr",
          "output_type": "stream",
          "text": [
            " 49%|████▉     | 1039/2108 [10:07<10:43,  1.66it/s]"
          ]
        },
        {
          "name": "stdout",
          "output_type": "stream",
          "text": [
            "\n",
            "0: 480x640 1 marmoset, 4.5ms\n",
            "Speed: 1.1ms preprocess, 4.5ms inference, 0.8ms postprocess per image at shape (1, 3, 480, 640)\n"
          ]
        },
        {
          "name": "stderr",
          "output_type": "stream",
          "text": [
            " 49%|████▉     | 1040/2108 [10:08<10:38,  1.67it/s]"
          ]
        },
        {
          "name": "stdout",
          "output_type": "stream",
          "text": [
            "\n",
            "0: 640x640 1 marmoset, 4.4ms\n",
            "Speed: 1.5ms preprocess, 4.4ms inference, 0.7ms postprocess per image at shape (1, 3, 640, 640)\n"
          ]
        },
        {
          "name": "stderr",
          "output_type": "stream",
          "text": [
            " 49%|████▉     | 1041/2108 [10:08<10:38,  1.67it/s]"
          ]
        },
        {
          "name": "stdout",
          "output_type": "stream",
          "text": [
            "\n",
            "0: 640x640 2 marmosets, 4.2ms\n",
            "Speed: 1.5ms preprocess, 4.2ms inference, 0.8ms postprocess per image at shape (1, 3, 640, 640)\n"
          ]
        },
        {
          "name": "stderr",
          "output_type": "stream",
          "text": [
            " 49%|████▉     | 1042/2108 [10:09<10:39,  1.67it/s]"
          ]
        },
        {
          "name": "stdout",
          "output_type": "stream",
          "text": [
            "\n",
            "0: 640x640 2 marmosets, 4.2ms\n",
            "Speed: 1.5ms preprocess, 4.2ms inference, 0.8ms postprocess per image at shape (1, 3, 640, 640)\n"
          ]
        },
        {
          "name": "stderr",
          "output_type": "stream",
          "text": [
            " 49%|████▉     | 1043/2108 [10:10<10:44,  1.65it/s]"
          ]
        },
        {
          "name": "stdout",
          "output_type": "stream",
          "text": [
            "\n",
            "0: 640x640 1 marmoset, 4.3ms\n",
            "Speed: 1.5ms preprocess, 4.3ms inference, 0.8ms postprocess per image at shape (1, 3, 640, 640)\n"
          ]
        },
        {
          "name": "stderr",
          "output_type": "stream",
          "text": [
            " 50%|████▉     | 1044/2108 [10:10<10:42,  1.66it/s]"
          ]
        },
        {
          "name": "stdout",
          "output_type": "stream",
          "text": [
            "\n",
            "0: 640x640 1 marmoset, 4.2ms\n",
            "Speed: 1.5ms preprocess, 4.2ms inference, 0.7ms postprocess per image at shape (1, 3, 640, 640)\n"
          ]
        },
        {
          "name": "stderr",
          "output_type": "stream",
          "text": [
            " 50%|████▉     | 1045/2108 [10:11<10:41,  1.66it/s]"
          ]
        },
        {
          "name": "stdout",
          "output_type": "stream",
          "text": [
            "\n",
            "0: 640x640 2 marmosets, 4.2ms\n",
            "Speed: 1.4ms preprocess, 4.2ms inference, 0.8ms postprocess per image at shape (1, 3, 640, 640)\n"
          ]
        },
        {
          "name": "stderr",
          "output_type": "stream",
          "text": [
            " 50%|████▉     | 1046/2108 [10:11<10:33,  1.68it/s]"
          ]
        },
        {
          "name": "stdout",
          "output_type": "stream",
          "text": [
            "\n",
            "0: 640x640 2 marmosets, 4.1ms\n",
            "Speed: 1.4ms preprocess, 4.1ms inference, 0.7ms postprocess per image at shape (1, 3, 640, 640)\n"
          ]
        },
        {
          "name": "stderr",
          "output_type": "stream",
          "text": [
            " 50%|████▉     | 1047/2108 [10:12<10:33,  1.67it/s]"
          ]
        },
        {
          "name": "stdout",
          "output_type": "stream",
          "text": [
            "\n",
            "0: 640x640 1 marmoset, 4.1ms\n",
            "Speed: 1.5ms preprocess, 4.1ms inference, 0.8ms postprocess per image at shape (1, 3, 640, 640)\n"
          ]
        },
        {
          "name": "stderr",
          "output_type": "stream",
          "text": [
            " 50%|████▉     | 1048/2108 [10:13<10:37,  1.66it/s]"
          ]
        },
        {
          "name": "stdout",
          "output_type": "stream",
          "text": [
            "\n",
            "0: 480x640 1 marmoset, 4.5ms\n",
            "Speed: 1.1ms preprocess, 4.5ms inference, 0.8ms postprocess per image at shape (1, 3, 480, 640)\n"
          ]
        },
        {
          "name": "stderr",
          "output_type": "stream",
          "text": [
            " 50%|████▉     | 1049/2108 [10:13<10:36,  1.66it/s]"
          ]
        },
        {
          "name": "stdout",
          "output_type": "stream",
          "text": [
            "\n",
            "0: 640x640 2 marmosets, 4.4ms\n",
            "Speed: 1.5ms preprocess, 4.4ms inference, 0.7ms postprocess per image at shape (1, 3, 640, 640)\n"
          ]
        },
        {
          "name": "stderr",
          "output_type": "stream",
          "text": [
            " 50%|████▉     | 1050/2108 [10:14<10:44,  1.64it/s]"
          ]
        },
        {
          "name": "stdout",
          "output_type": "stream",
          "text": [
            "\n",
            "0: 640x640 1 marmoset, 4.2ms\n",
            "Speed: 1.5ms preprocess, 4.2ms inference, 0.8ms postprocess per image at shape (1, 3, 640, 640)\n"
          ]
        },
        {
          "name": "stderr",
          "output_type": "stream",
          "text": [
            " 50%|████▉     | 1051/2108 [10:15<10:43,  1.64it/s]"
          ]
        },
        {
          "name": "stdout",
          "output_type": "stream",
          "text": [
            "\n",
            "0: 640x640 1 marmoset, 4.2ms\n",
            "Speed: 1.5ms preprocess, 4.2ms inference, 0.8ms postprocess per image at shape (1, 3, 640, 640)\n"
          ]
        },
        {
          "name": "stderr",
          "output_type": "stream",
          "text": [
            " 50%|████▉     | 1052/2108 [10:15<10:45,  1.64it/s]"
          ]
        },
        {
          "name": "stdout",
          "output_type": "stream",
          "text": [
            "\n",
            "0: 640x640 2 marmosets, 4.2ms\n",
            "Speed: 1.4ms preprocess, 4.2ms inference, 0.8ms postprocess per image at shape (1, 3, 640, 640)\n"
          ]
        },
        {
          "name": "stderr",
          "output_type": "stream",
          "text": [
            " 50%|████▉     | 1053/2108 [10:16<10:45,  1.63it/s]"
          ]
        },
        {
          "name": "stdout",
          "output_type": "stream",
          "text": [
            "\n",
            "0: 640x640 1 marmoset, 4.2ms\n",
            "Speed: 1.5ms preprocess, 4.2ms inference, 0.8ms postprocess per image at shape (1, 3, 640, 640)\n"
          ]
        },
        {
          "name": "stderr",
          "output_type": "stream",
          "text": [
            " 50%|█████     | 1054/2108 [10:16<10:43,  1.64it/s]"
          ]
        },
        {
          "name": "stdout",
          "output_type": "stream",
          "text": [
            "\n",
            "0: 640x640 1 marmoset, 4.2ms\n",
            "Speed: 1.5ms preprocess, 4.2ms inference, 0.8ms postprocess per image at shape (1, 3, 640, 640)\n"
          ]
        },
        {
          "name": "stderr",
          "output_type": "stream",
          "text": [
            " 50%|█████     | 1055/2108 [10:17<10:43,  1.64it/s]"
          ]
        },
        {
          "name": "stdout",
          "output_type": "stream",
          "text": [
            "\n",
            "0: 640x640 2 marmosets, 4.2ms\n",
            "Speed: 1.4ms preprocess, 4.2ms inference, 0.8ms postprocess per image at shape (1, 3, 640, 640)\n"
          ]
        },
        {
          "name": "stderr",
          "output_type": "stream",
          "text": [
            " 50%|█████     | 1056/2108 [10:18<10:42,  1.64it/s]"
          ]
        },
        {
          "name": "stdout",
          "output_type": "stream",
          "text": [
            "\n",
            "0: 640x640 1 marmoset, 4.2ms\n",
            "Speed: 1.5ms preprocess, 4.2ms inference, 0.7ms postprocess per image at shape (1, 3, 640, 640)\n"
          ]
        },
        {
          "name": "stderr",
          "output_type": "stream",
          "text": [
            " 50%|█████     | 1057/2108 [10:18<10:41,  1.64it/s]"
          ]
        },
        {
          "name": "stdout",
          "output_type": "stream",
          "text": [
            "\n",
            "0: 640x640 1 marmoset, 4.2ms\n",
            "Speed: 1.5ms preprocess, 4.2ms inference, 0.8ms postprocess per image at shape (1, 3, 640, 640)\n"
          ]
        },
        {
          "name": "stderr",
          "output_type": "stream",
          "text": [
            " 50%|█████     | 1058/2108 [10:19<10:39,  1.64it/s]"
          ]
        },
        {
          "name": "stdout",
          "output_type": "stream",
          "text": [
            "\n",
            "0: 640x640 1 marmoset, 4.2ms\n",
            "Speed: 1.5ms preprocess, 4.2ms inference, 0.8ms postprocess per image at shape (1, 3, 640, 640)\n"
          ]
        },
        {
          "name": "stderr",
          "output_type": "stream",
          "text": [
            " 50%|█████     | 1059/2108 [10:19<10:39,  1.64it/s]"
          ]
        },
        {
          "name": "stdout",
          "output_type": "stream",
          "text": [
            "\n",
            "0: 640x640 1 marmoset, 4.2ms\n",
            "Speed: 1.5ms preprocess, 4.2ms inference, 0.8ms postprocess per image at shape (1, 3, 640, 640)\n"
          ]
        },
        {
          "name": "stderr",
          "output_type": "stream",
          "text": [
            " 50%|█████     | 1060/2108 [10:20<10:39,  1.64it/s]"
          ]
        },
        {
          "name": "stdout",
          "output_type": "stream",
          "text": [
            "\n",
            "0: 640x640 2 marmosets, 4.2ms\n",
            "Speed: 1.4ms preprocess, 4.2ms inference, 0.8ms postprocess per image at shape (1, 3, 640, 640)\n"
          ]
        },
        {
          "name": "stderr",
          "output_type": "stream",
          "text": [
            " 50%|█████     | 1061/2108 [10:21<10:39,  1.64it/s]"
          ]
        },
        {
          "name": "stdout",
          "output_type": "stream",
          "text": [
            "\n",
            "0: 640x640 1 marmoset, 4.2ms\n",
            "Speed: 1.5ms preprocess, 4.2ms inference, 0.8ms postprocess per image at shape (1, 3, 640, 640)\n"
          ]
        },
        {
          "name": "stderr",
          "output_type": "stream",
          "text": [
            " 50%|█████     | 1062/2108 [10:21<10:38,  1.64it/s]"
          ]
        },
        {
          "name": "stdout",
          "output_type": "stream",
          "text": [
            "\n",
            "0: 640x640 1 marmoset, 4.2ms\n",
            "Speed: 1.5ms preprocess, 4.2ms inference, 0.8ms postprocess per image at shape (1, 3, 640, 640)\n"
          ]
        },
        {
          "name": "stderr",
          "output_type": "stream",
          "text": [
            " 50%|█████     | 1063/2108 [10:22<10:39,  1.64it/s]"
          ]
        },
        {
          "name": "stdout",
          "output_type": "stream",
          "text": [
            "\n",
            "0: 640x640 2 marmosets, 4.2ms\n",
            "Speed: 1.4ms preprocess, 4.2ms inference, 0.8ms postprocess per image at shape (1, 3, 640, 640)\n"
          ]
        },
        {
          "name": "stderr",
          "output_type": "stream",
          "text": [
            " 50%|█████     | 1064/2108 [10:22<10:39,  1.63it/s]"
          ]
        },
        {
          "name": "stdout",
          "output_type": "stream",
          "text": [
            "\n",
            "0: 640x640 1 marmoset, 4.1ms\n",
            "Speed: 1.5ms preprocess, 4.1ms inference, 0.8ms postprocess per image at shape (1, 3, 640, 640)\n"
          ]
        },
        {
          "name": "stderr",
          "output_type": "stream",
          "text": [
            " 51%|█████     | 1065/2108 [10:23<10:38,  1.63it/s]"
          ]
        },
        {
          "name": "stdout",
          "output_type": "stream",
          "text": [
            "\n",
            "0: 640x640 1 marmoset, 4.2ms\n",
            "Speed: 1.5ms preprocess, 4.2ms inference, 0.8ms postprocess per image at shape (1, 3, 640, 640)\n"
          ]
        },
        {
          "name": "stderr",
          "output_type": "stream",
          "text": [
            " 51%|█████     | 1066/2108 [10:24<10:38,  1.63it/s]"
          ]
        },
        {
          "name": "stdout",
          "output_type": "stream",
          "text": [
            "\n",
            "0: 640x640 2 marmosets, 4.2ms\n",
            "Speed: 1.5ms preprocess, 4.2ms inference, 0.8ms postprocess per image at shape (1, 3, 640, 640)\n"
          ]
        },
        {
          "name": "stderr",
          "output_type": "stream",
          "text": [
            " 51%|█████     | 1067/2108 [10:24<10:42,  1.62it/s]"
          ]
        },
        {
          "name": "stdout",
          "output_type": "stream",
          "text": [
            "\n",
            "0: 640x640 1 marmoset, 4.3ms\n",
            "Speed: 1.5ms preprocess, 4.3ms inference, 0.8ms postprocess per image at shape (1, 3, 640, 640)\n"
          ]
        },
        {
          "name": "stderr",
          "output_type": "stream",
          "text": [
            " 51%|█████     | 1068/2108 [10:25<10:40,  1.62it/s]"
          ]
        },
        {
          "name": "stdout",
          "output_type": "stream",
          "text": [
            "\n",
            "0: 640x640 1 marmoset, 4.2ms\n",
            "Speed: 1.5ms preprocess, 4.2ms inference, 0.8ms postprocess per image at shape (1, 3, 640, 640)\n"
          ]
        },
        {
          "name": "stderr",
          "output_type": "stream",
          "text": [
            " 51%|█████     | 1069/2108 [10:26<10:37,  1.63it/s]"
          ]
        },
        {
          "name": "stdout",
          "output_type": "stream",
          "text": [
            "\n",
            "0: 640x640 1 marmoset, 4.2ms\n",
            "Speed: 1.5ms preprocess, 4.2ms inference, 0.8ms postprocess per image at shape (1, 3, 640, 640)\n"
          ]
        },
        {
          "name": "stderr",
          "output_type": "stream",
          "text": [
            " 51%|█████     | 1070/2108 [10:26<10:36,  1.63it/s]"
          ]
        },
        {
          "name": "stdout",
          "output_type": "stream",
          "text": [
            "\n",
            "0: 640x640 1 marmoset, 4.2ms\n",
            "Speed: 1.5ms preprocess, 4.2ms inference, 0.8ms postprocess per image at shape (1, 3, 640, 640)\n"
          ]
        },
        {
          "name": "stderr",
          "output_type": "stream",
          "text": [
            " 51%|█████     | 1071/2108 [10:27<10:35,  1.63it/s]"
          ]
        },
        {
          "name": "stdout",
          "output_type": "stream",
          "text": [
            "\n",
            "0: 480x640 1 marmoset, 4.5ms\n",
            "Speed: 1.1ms preprocess, 4.5ms inference, 0.8ms postprocess per image at shape (1, 3, 480, 640)\n"
          ]
        },
        {
          "name": "stderr",
          "output_type": "stream",
          "text": [
            " 51%|█████     | 1072/2108 [10:27<10:30,  1.64it/s]"
          ]
        },
        {
          "name": "stdout",
          "output_type": "stream",
          "text": [
            "\n",
            "0: 480x640 1 marmoset, 4.1ms\n",
            "Speed: 1.0ms preprocess, 4.1ms inference, 0.7ms postprocess per image at shape (1, 3, 480, 640)\n"
          ]
        },
        {
          "name": "stderr",
          "output_type": "stream",
          "text": [
            " 51%|█████     | 1073/2108 [10:28<10:26,  1.65it/s]"
          ]
        },
        {
          "name": "stdout",
          "output_type": "stream",
          "text": [
            "\n",
            "0: 640x640 1 marmoset, 4.4ms\n",
            "Speed: 1.5ms preprocess, 4.4ms inference, 0.7ms postprocess per image at shape (1, 3, 640, 640)\n"
          ]
        },
        {
          "name": "stderr",
          "output_type": "stream",
          "text": [
            " 51%|█████     | 1074/2108 [10:29<10:27,  1.65it/s]"
          ]
        },
        {
          "name": "stdout",
          "output_type": "stream",
          "text": [
            "\n",
            "0: 480x640 1 marmoset, 4.5ms\n",
            "Speed: 1.2ms preprocess, 4.5ms inference, 0.8ms postprocess per image at shape (1, 3, 480, 640)\n"
          ]
        },
        {
          "name": "stderr",
          "output_type": "stream",
          "text": [
            " 51%|█████     | 1075/2108 [10:29<10:25,  1.65it/s]"
          ]
        },
        {
          "name": "stdout",
          "output_type": "stream",
          "text": [
            "\n",
            "0: 640x640 1 marmoset, 4.4ms\n",
            "Speed: 1.5ms preprocess, 4.4ms inference, 0.7ms postprocess per image at shape (1, 3, 640, 640)\n"
          ]
        },
        {
          "name": "stderr",
          "output_type": "stream",
          "text": [
            " 51%|█████     | 1076/2108 [10:30<10:27,  1.65it/s]"
          ]
        },
        {
          "name": "stdout",
          "output_type": "stream",
          "text": [
            "\n",
            "0: 640x640 1 marmoset, 4.2ms\n",
            "Speed: 1.5ms preprocess, 4.2ms inference, 0.8ms postprocess per image at shape (1, 3, 640, 640)\n"
          ]
        },
        {
          "name": "stderr",
          "output_type": "stream",
          "text": [
            " 51%|█████     | 1077/2108 [10:30<10:27,  1.64it/s]"
          ]
        },
        {
          "name": "stdout",
          "output_type": "stream",
          "text": [
            "\n",
            "0: 640x640 1 marmoset, 4.2ms\n",
            "Speed: 1.5ms preprocess, 4.2ms inference, 0.8ms postprocess per image at shape (1, 3, 640, 640)\n"
          ]
        },
        {
          "name": "stderr",
          "output_type": "stream",
          "text": [
            " 51%|█████     | 1078/2108 [10:31<10:28,  1.64it/s]"
          ]
        },
        {
          "name": "stdout",
          "output_type": "stream",
          "text": [
            "\n",
            "0: 640x640 1 marmoset, 4.1ms\n",
            "Speed: 1.5ms preprocess, 4.1ms inference, 0.7ms postprocess per image at shape (1, 3, 640, 640)\n"
          ]
        },
        {
          "name": "stderr",
          "output_type": "stream",
          "text": [
            " 51%|█████     | 1079/2108 [10:32<10:29,  1.63it/s]"
          ]
        },
        {
          "name": "stdout",
          "output_type": "stream",
          "text": [
            "\n",
            "0: 640x640 1 marmoset, 4.2ms\n",
            "Speed: 1.5ms preprocess, 4.2ms inference, 0.8ms postprocess per image at shape (1, 3, 640, 640)\n"
          ]
        },
        {
          "name": "stderr",
          "output_type": "stream",
          "text": [
            " 51%|█████     | 1080/2108 [10:32<10:28,  1.63it/s]"
          ]
        },
        {
          "name": "stdout",
          "output_type": "stream",
          "text": [
            "\n",
            "0: 640x640 1 marmoset, 4.2ms\n",
            "Speed: 1.5ms preprocess, 4.2ms inference, 0.8ms postprocess per image at shape (1, 3, 640, 640)\n"
          ]
        },
        {
          "name": "stderr",
          "output_type": "stream",
          "text": [
            " 51%|█████▏    | 1081/2108 [10:33<10:28,  1.63it/s]"
          ]
        },
        {
          "name": "stdout",
          "output_type": "stream",
          "text": [
            "\n",
            "0: 480x640 1 marmoset, 4.5ms\n",
            "Speed: 1.1ms preprocess, 4.5ms inference, 0.8ms postprocess per image at shape (1, 3, 480, 640)\n"
          ]
        },
        {
          "name": "stderr",
          "output_type": "stream",
          "text": [
            " 51%|█████▏    | 1082/2108 [10:33<10:24,  1.64it/s]"
          ]
        },
        {
          "name": "stdout",
          "output_type": "stream",
          "text": [
            "\n",
            "0: 640x640 1 marmoset, 4.4ms\n",
            "Speed: 1.5ms preprocess, 4.4ms inference, 0.7ms postprocess per image at shape (1, 3, 640, 640)\n"
          ]
        },
        {
          "name": "stderr",
          "output_type": "stream",
          "text": [
            " 51%|█████▏    | 1083/2108 [10:34<10:25,  1.64it/s]"
          ]
        },
        {
          "name": "stdout",
          "output_type": "stream",
          "text": [
            "\n",
            "0: 640x640 1 marmoset, 4.2ms\n",
            "Speed: 1.5ms preprocess, 4.2ms inference, 0.8ms postprocess per image at shape (1, 3, 640, 640)\n"
          ]
        },
        {
          "name": "stderr",
          "output_type": "stream",
          "text": [
            " 51%|█████▏    | 1084/2108 [10:35<10:25,  1.64it/s]"
          ]
        },
        {
          "name": "stdout",
          "output_type": "stream",
          "text": [
            "\n",
            "0: 640x640 1 marmoset, 4.1ms\n",
            "Speed: 1.5ms preprocess, 4.1ms inference, 0.8ms postprocess per image at shape (1, 3, 640, 640)\n"
          ]
        },
        {
          "name": "stderr",
          "output_type": "stream",
          "text": [
            " 51%|█████▏    | 1085/2108 [10:35<10:24,  1.64it/s]"
          ]
        },
        {
          "name": "stdout",
          "output_type": "stream",
          "text": [
            "\n",
            "0: 640x640 1 marmoset, 4.1ms\n",
            "Speed: 1.5ms preprocess, 4.1ms inference, 0.8ms postprocess per image at shape (1, 3, 640, 640)\n"
          ]
        },
        {
          "name": "stderr",
          "output_type": "stream",
          "text": [
            " 52%|█████▏    | 1086/2108 [10:36<10:25,  1.63it/s]"
          ]
        },
        {
          "name": "stdout",
          "output_type": "stream",
          "text": [
            "\n",
            "0: 640x640 1 marmoset, 4.2ms\n",
            "Speed: 1.5ms preprocess, 4.2ms inference, 0.8ms postprocess per image at shape (1, 3, 640, 640)\n"
          ]
        },
        {
          "name": "stderr",
          "output_type": "stream",
          "text": [
            " 52%|█████▏    | 1087/2108 [10:37<10:24,  1.64it/s]"
          ]
        },
        {
          "name": "stdout",
          "output_type": "stream",
          "text": [
            "\n",
            "0: 640x640 1 marmoset, 4.2ms\n",
            "Speed: 1.5ms preprocess, 4.2ms inference, 0.8ms postprocess per image at shape (1, 3, 640, 640)\n"
          ]
        },
        {
          "name": "stderr",
          "output_type": "stream",
          "text": [
            " 52%|█████▏    | 1088/2108 [10:37<10:24,  1.63it/s]"
          ]
        },
        {
          "name": "stdout",
          "output_type": "stream",
          "text": [
            "\n",
            "0: 640x640 1 marmoset, 4.2ms\n",
            "Speed: 1.4ms preprocess, 4.2ms inference, 0.8ms postprocess per image at shape (1, 3, 640, 640)\n"
          ]
        },
        {
          "name": "stderr",
          "output_type": "stream",
          "text": [
            " 52%|█████▏    | 1089/2108 [10:38<10:24,  1.63it/s]"
          ]
        },
        {
          "name": "stdout",
          "output_type": "stream",
          "text": [
            "\n",
            "0: 640x640 1 marmoset, 4.2ms\n",
            "Speed: 1.5ms preprocess, 4.2ms inference, 0.8ms postprocess per image at shape (1, 3, 640, 640)\n"
          ]
        },
        {
          "name": "stderr",
          "output_type": "stream",
          "text": [
            " 52%|█████▏    | 1090/2108 [10:38<10:16,  1.65it/s]"
          ]
        },
        {
          "name": "stdout",
          "output_type": "stream",
          "text": [
            "\n",
            "0: 640x640 1 marmoset, 4.2ms\n",
            "Speed: 1.5ms preprocess, 4.2ms inference, 0.8ms postprocess per image at shape (1, 3, 640, 640)\n"
          ]
        },
        {
          "name": "stderr",
          "output_type": "stream",
          "text": [
            " 52%|█████▏    | 1091/2108 [10:39<10:07,  1.67it/s]"
          ]
        },
        {
          "name": "stdout",
          "output_type": "stream",
          "text": [
            "\n",
            "0: 640x640 1 marmoset, 4.1ms\n",
            "Speed: 1.5ms preprocess, 4.1ms inference, 0.8ms postprocess per image at shape (1, 3, 640, 640)\n"
          ]
        },
        {
          "name": "stderr",
          "output_type": "stream",
          "text": [
            " 52%|█████▏    | 1092/2108 [10:39<09:46,  1.73it/s]"
          ]
        },
        {
          "name": "stdout",
          "output_type": "stream",
          "text": [
            "\n",
            "0: 640x640 1 marmoset, 4.2ms\n",
            "Speed: 1.5ms preprocess, 4.2ms inference, 0.7ms postprocess per image at shape (1, 3, 640, 640)\n"
          ]
        },
        {
          "name": "stderr",
          "output_type": "stream",
          "text": [
            " 52%|█████▏    | 1093/2108 [10:40<10:03,  1.68it/s]"
          ]
        },
        {
          "name": "stdout",
          "output_type": "stream",
          "text": [
            "\n",
            "0: 480x640 1 marmoset, 4.5ms\n",
            "Speed: 1.1ms preprocess, 4.5ms inference, 0.7ms postprocess per image at shape (1, 3, 480, 640)\n"
          ]
        },
        {
          "name": "stderr",
          "output_type": "stream",
          "text": [
            " 52%|█████▏    | 1094/2108 [10:41<10:17,  1.64it/s]"
          ]
        },
        {
          "name": "stdout",
          "output_type": "stream",
          "text": [
            "\n",
            "0: 640x640 (no detections), 4.4ms\n",
            "Speed: 1.5ms preprocess, 4.4ms inference, 0.3ms postprocess per image at shape (1, 3, 640, 640)\n",
            "\n",
            "0: 640x640 1 marmoset, 3.9ms\n",
            "Speed: 1.5ms preprocess, 3.9ms inference, 0.7ms postprocess per image at shape (1, 3, 640, 640)\n"
          ]
        },
        {
          "name": "stderr",
          "output_type": "stream",
          "text": [
            " 52%|█████▏    | 1096/2108 [10:41<08:05,  2.08it/s]"
          ]
        },
        {
          "name": "stdout",
          "output_type": "stream",
          "text": [
            "\n",
            "0: 640x640 1 marmoset, 4.3ms\n",
            "Speed: 1.5ms preprocess, 4.3ms inference, 0.8ms postprocess per image at shape (1, 3, 640, 640)\n"
          ]
        },
        {
          "name": "stderr",
          "output_type": "stream",
          "text": [
            " 52%|█████▏    | 1097/2108 [10:42<08:38,  1.95it/s]"
          ]
        },
        {
          "name": "stdout",
          "output_type": "stream",
          "text": [
            "\n",
            "0: 640x640 1 marmoset, 4.2ms\n",
            "Speed: 1.5ms preprocess, 4.2ms inference, 0.8ms postprocess per image at shape (1, 3, 640, 640)\n"
          ]
        },
        {
          "name": "stderr",
          "output_type": "stream",
          "text": [
            " 52%|█████▏    | 1098/2108 [10:43<09:02,  1.86it/s]"
          ]
        },
        {
          "name": "stdout",
          "output_type": "stream",
          "text": [
            "\n",
            "0: 640x640 1 marmoset, 4.2ms\n",
            "Speed: 1.5ms preprocess, 4.2ms inference, 0.8ms postprocess per image at shape (1, 3, 640, 640)\n"
          ]
        },
        {
          "name": "stderr",
          "output_type": "stream",
          "text": [
            " 52%|█████▏    | 1099/2108 [10:43<09:19,  1.80it/s]"
          ]
        },
        {
          "name": "stdout",
          "output_type": "stream",
          "text": [
            "\n",
            "0: 640x640 1 marmoset, 4.2ms\n",
            "Speed: 1.5ms preprocess, 4.2ms inference, 0.8ms postprocess per image at shape (1, 3, 640, 640)\n"
          ]
        },
        {
          "name": "stderr",
          "output_type": "stream",
          "text": [
            " 52%|█████▏    | 1100/2108 [10:44<09:32,  1.76it/s]"
          ]
        },
        {
          "name": "stdout",
          "output_type": "stream",
          "text": [
            "\n",
            "0: 640x640 2 marmosets, 4.2ms\n",
            "Speed: 1.4ms preprocess, 4.2ms inference, 0.7ms postprocess per image at shape (1, 3, 640, 640)\n"
          ]
        },
        {
          "name": "stderr",
          "output_type": "stream",
          "text": [
            " 52%|█████▏    | 1101/2108 [10:44<09:42,  1.73it/s]"
          ]
        },
        {
          "name": "stdout",
          "output_type": "stream",
          "text": [
            "\n",
            "0: 480x640 1 marmoset, 4.6ms\n",
            "Speed: 1.1ms preprocess, 4.6ms inference, 0.8ms postprocess per image at shape (1, 3, 480, 640)\n"
          ]
        },
        {
          "name": "stderr",
          "output_type": "stream",
          "text": [
            " 52%|█████▏    | 1102/2108 [10:45<09:45,  1.72it/s]"
          ]
        },
        {
          "name": "stdout",
          "output_type": "stream",
          "text": [
            "\n",
            "0: 640x640 1 marmoset, 4.4ms\n",
            "Speed: 1.5ms preprocess, 4.4ms inference, 0.7ms postprocess per image at shape (1, 3, 640, 640)\n"
          ]
        },
        {
          "name": "stderr",
          "output_type": "stream",
          "text": [
            " 52%|█████▏    | 1103/2108 [10:46<09:51,  1.70it/s]"
          ]
        },
        {
          "name": "stdout",
          "output_type": "stream",
          "text": [
            "\n",
            "0: 640x640 1 marmoset, 4.2ms\n",
            "Speed: 1.5ms preprocess, 4.2ms inference, 0.8ms postprocess per image at shape (1, 3, 640, 640)\n"
          ]
        },
        {
          "name": "stderr",
          "output_type": "stream",
          "text": [
            " 52%|█████▏    | 1104/2108 [10:46<09:54,  1.69it/s]"
          ]
        },
        {
          "name": "stdout",
          "output_type": "stream",
          "text": [
            "\n",
            "0: 640x640 1 marmoset, 4.2ms\n",
            "Speed: 1.5ms preprocess, 4.2ms inference, 0.8ms postprocess per image at shape (1, 3, 640, 640)\n"
          ]
        },
        {
          "name": "stderr",
          "output_type": "stream",
          "text": [
            " 52%|█████▏    | 1105/2108 [10:47<09:56,  1.68it/s]"
          ]
        },
        {
          "name": "stdout",
          "output_type": "stream",
          "text": [
            "\n",
            "0: 640x640 1 marmoset, 4.2ms\n",
            "Speed: 1.5ms preprocess, 4.2ms inference, 0.8ms postprocess per image at shape (1, 3, 640, 640)\n"
          ]
        },
        {
          "name": "stderr",
          "output_type": "stream",
          "text": [
            " 52%|█████▏    | 1106/2108 [10:47<09:58,  1.67it/s]"
          ]
        },
        {
          "name": "stdout",
          "output_type": "stream",
          "text": [
            "\n",
            "0: 480x640 1 marmoset, 4.5ms\n",
            "Speed: 1.1ms preprocess, 4.5ms inference, 0.8ms postprocess per image at shape (1, 3, 480, 640)\n"
          ]
        },
        {
          "name": "stderr",
          "output_type": "stream",
          "text": [
            " 53%|█████▎    | 1107/2108 [10:48<09:56,  1.68it/s]"
          ]
        },
        {
          "name": "stdout",
          "output_type": "stream",
          "text": [
            "\n",
            "0: 640x640 1 marmoset, 4.4ms\n",
            "Speed: 1.5ms preprocess, 4.4ms inference, 0.7ms postprocess per image at shape (1, 3, 640, 640)\n"
          ]
        },
        {
          "name": "stderr",
          "output_type": "stream",
          "text": [
            " 53%|█████▎    | 1108/2108 [10:49<09:57,  1.67it/s]"
          ]
        },
        {
          "name": "stdout",
          "output_type": "stream",
          "text": [
            "\n",
            "0: 640x640 1 marmoset, 4.2ms\n",
            "Speed: 1.5ms preprocess, 4.2ms inference, 0.8ms postprocess per image at shape (1, 3, 640, 640)\n"
          ]
        },
        {
          "name": "stderr",
          "output_type": "stream",
          "text": [
            " 53%|█████▎    | 1109/2108 [10:49<10:24,  1.60it/s]"
          ]
        },
        {
          "name": "stdout",
          "output_type": "stream",
          "text": [
            "\n",
            "0: 480x640 1 marmoset, 4.6ms\n",
            "Speed: 1.0ms preprocess, 4.6ms inference, 0.8ms postprocess per image at shape (1, 3, 480, 640)\n"
          ]
        },
        {
          "name": "stderr",
          "output_type": "stream",
          "text": [
            " 53%|█████▎    | 1110/2108 [10:50<09:55,  1.68it/s]"
          ]
        },
        {
          "name": "stdout",
          "output_type": "stream",
          "text": [
            "\n",
            "0: 640x640 1 marmoset, 4.4ms\n",
            "Speed: 1.5ms preprocess, 4.4ms inference, 0.7ms postprocess per image at shape (1, 3, 640, 640)\n"
          ]
        },
        {
          "name": "stderr",
          "output_type": "stream",
          "text": [
            " 53%|█████▎    | 1111/2108 [10:51<10:59,  1.51it/s]"
          ]
        },
        {
          "name": "stdout",
          "output_type": "stream",
          "text": [
            "\n",
            "0: 640x640 1 marmoset, 4.2ms\n",
            "Speed: 1.5ms preprocess, 4.2ms inference, 0.8ms postprocess per image at shape (1, 3, 640, 640)\n"
          ]
        },
        {
          "name": "stderr",
          "output_type": "stream",
          "text": [
            " 53%|█████▎    | 1112/2108 [10:51<11:02,  1.50it/s]"
          ]
        },
        {
          "name": "stdout",
          "output_type": "stream",
          "text": [
            "\n",
            "0: 640x640 1 marmoset, 4.2ms\n",
            "Speed: 1.5ms preprocess, 4.2ms inference, 0.8ms postprocess per image at shape (1, 3, 640, 640)\n"
          ]
        },
        {
          "name": "stderr",
          "output_type": "stream",
          "text": [
            " 53%|█████▎    | 1113/2108 [10:52<11:35,  1.43it/s]"
          ]
        },
        {
          "name": "stdout",
          "output_type": "stream",
          "text": [
            "\n",
            "0: 640x640 1 marmoset, 4.2ms\n",
            "Speed: 1.5ms preprocess, 4.2ms inference, 0.8ms postprocess per image at shape (1, 3, 640, 640)\n"
          ]
        },
        {
          "name": "stderr",
          "output_type": "stream",
          "text": [
            " 53%|█████▎    | 1114/2108 [10:53<11:31,  1.44it/s]"
          ]
        },
        {
          "name": "stdout",
          "output_type": "stream",
          "text": [
            "\n",
            "0: 640x640 1 marmoset, 4.1ms\n",
            "Speed: 1.5ms preprocess, 4.1ms inference, 0.7ms postprocess per image at shape (1, 3, 640, 640)\n"
          ]
        },
        {
          "name": "stderr",
          "output_type": "stream",
          "text": [
            " 53%|█████▎    | 1115/2108 [10:53<11:05,  1.49it/s]"
          ]
        },
        {
          "name": "stdout",
          "output_type": "stream",
          "text": [
            "\n",
            "0: 640x640 2 marmosets, 4.2ms\n",
            "Speed: 1.4ms preprocess, 4.2ms inference, 0.8ms postprocess per image at shape (1, 3, 640, 640)\n"
          ]
        },
        {
          "name": "stderr",
          "output_type": "stream",
          "text": [
            " 53%|█████▎    | 1116/2108 [10:54<10:43,  1.54it/s]"
          ]
        },
        {
          "name": "stdout",
          "output_type": "stream",
          "text": [
            "\n",
            "0: 640x640 1 marmoset, 4.2ms\n",
            "Speed: 1.5ms preprocess, 4.2ms inference, 0.8ms postprocess per image at shape (1, 3, 640, 640)\n"
          ]
        },
        {
          "name": "stderr",
          "output_type": "stream",
          "text": [
            " 53%|█████▎    | 1117/2108 [10:55<10:26,  1.58it/s]"
          ]
        },
        {
          "name": "stdout",
          "output_type": "stream",
          "text": [
            "\n",
            "0: 640x640 1 marmoset, 4.2ms\n",
            "Speed: 1.5ms preprocess, 4.2ms inference, 0.8ms postprocess per image at shape (1, 3, 640, 640)\n"
          ]
        },
        {
          "name": "stderr",
          "output_type": "stream",
          "text": [
            " 53%|█████▎    | 1118/2108 [10:55<10:14,  1.61it/s]"
          ]
        },
        {
          "name": "stdout",
          "output_type": "stream",
          "text": [
            "\n",
            "0: 640x640 1 marmoset, 4.2ms\n",
            "Speed: 1.5ms preprocess, 4.2ms inference, 0.8ms postprocess per image at shape (1, 3, 640, 640)\n"
          ]
        },
        {
          "name": "stderr",
          "output_type": "stream",
          "text": [
            " 53%|█████▎    | 1119/2108 [10:56<10:07,  1.63it/s]"
          ]
        },
        {
          "name": "stdout",
          "output_type": "stream",
          "text": [
            "\n",
            "0: 640x640 1 marmoset, 4.2ms\n",
            "Speed: 1.5ms preprocess, 4.2ms inference, 0.8ms postprocess per image at shape (1, 3, 640, 640)\n"
          ]
        },
        {
          "name": "stderr",
          "output_type": "stream",
          "text": [
            " 53%|█████▎    | 1120/2108 [10:56<10:01,  1.64it/s]"
          ]
        },
        {
          "name": "stdout",
          "output_type": "stream",
          "text": [
            "\n",
            "0: 640x640 3 marmosets, 4.2ms\n",
            "Speed: 1.5ms preprocess, 4.2ms inference, 0.8ms postprocess per image at shape (1, 3, 640, 640)\n"
          ]
        },
        {
          "name": "stderr",
          "output_type": "stream",
          "text": [
            " 53%|█████▎    | 1121/2108 [10:57<09:59,  1.65it/s]"
          ]
        },
        {
          "name": "stdout",
          "output_type": "stream",
          "text": [
            "\n",
            "0: 640x640 1 marmoset, 4.2ms\n",
            "Speed: 1.5ms preprocess, 4.2ms inference, 0.8ms postprocess per image at shape (1, 3, 640, 640)\n"
          ]
        },
        {
          "name": "stderr",
          "output_type": "stream",
          "text": [
            " 53%|█████▎    | 1122/2108 [10:58<10:00,  1.64it/s]"
          ]
        },
        {
          "name": "stdout",
          "output_type": "stream",
          "text": [
            "\n",
            "0: 640x640 1 marmoset, 4.2ms\n",
            "Speed: 1.5ms preprocess, 4.2ms inference, 0.8ms postprocess per image at shape (1, 3, 640, 640)\n"
          ]
        },
        {
          "name": "stderr",
          "output_type": "stream",
          "text": [
            " 53%|█████▎    | 1123/2108 [10:58<10:07,  1.62it/s]"
          ]
        },
        {
          "name": "stdout",
          "output_type": "stream",
          "text": [
            "\n",
            "0: 480x640 1 marmoset, 4.5ms\n",
            "Speed: 1.1ms preprocess, 4.5ms inference, 0.8ms postprocess per image at shape (1, 3, 480, 640)\n"
          ]
        },
        {
          "name": "stderr",
          "output_type": "stream",
          "text": [
            " 53%|█████▎    | 1124/2108 [10:59<09:58,  1.64it/s]"
          ]
        },
        {
          "name": "stdout",
          "output_type": "stream",
          "text": [
            "\n",
            "0: 640x640 1 marmoset, 4.4ms\n",
            "Speed: 1.4ms preprocess, 4.4ms inference, 0.7ms postprocess per image at shape (1, 3, 640, 640)\n"
          ]
        },
        {
          "name": "stderr",
          "output_type": "stream",
          "text": [
            " 53%|█████▎    | 1125/2108 [10:59<09:48,  1.67it/s]"
          ]
        },
        {
          "name": "stdout",
          "output_type": "stream",
          "text": [
            "\n",
            "0: 640x640 2 marmosets, 4.2ms\n",
            "Speed: 1.5ms preprocess, 4.2ms inference, 0.8ms postprocess per image at shape (1, 3, 640, 640)\n"
          ]
        },
        {
          "name": "stderr",
          "output_type": "stream",
          "text": [
            " 53%|█████▎    | 1126/2108 [11:00<09:51,  1.66it/s]"
          ]
        },
        {
          "name": "stdout",
          "output_type": "stream",
          "text": [
            "\n",
            "0: 640x640 1 marmoset, 4.2ms\n",
            "Speed: 1.5ms preprocess, 4.2ms inference, 0.8ms postprocess per image at shape (1, 3, 640, 640)\n"
          ]
        },
        {
          "name": "stderr",
          "output_type": "stream",
          "text": [
            " 53%|█████▎    | 1127/2108 [11:01<09:59,  1.64it/s]"
          ]
        },
        {
          "name": "stdout",
          "output_type": "stream",
          "text": [
            "\n",
            "0: 640x640 1 marmoset, 4.2ms\n",
            "Speed: 1.5ms preprocess, 4.2ms inference, 0.8ms postprocess per image at shape (1, 3, 640, 640)\n"
          ]
        },
        {
          "name": "stderr",
          "output_type": "stream",
          "text": [
            " 54%|█████▎    | 1128/2108 [11:01<09:58,  1.64it/s]"
          ]
        },
        {
          "name": "stdout",
          "output_type": "stream",
          "text": [
            "\n",
            "0: 640x640 1 marmoset, 4.2ms\n",
            "Speed: 1.5ms preprocess, 4.2ms inference, 0.8ms postprocess per image at shape (1, 3, 640, 640)\n"
          ]
        },
        {
          "name": "stderr",
          "output_type": "stream",
          "text": [
            " 54%|█████▎    | 1129/2108 [11:02<09:56,  1.64it/s]"
          ]
        },
        {
          "name": "stdout",
          "output_type": "stream",
          "text": [
            "\n",
            "0: 640x640 1 marmoset, 4.2ms\n",
            "Speed: 1.5ms preprocess, 4.2ms inference, 0.8ms postprocess per image at shape (1, 3, 640, 640)\n"
          ]
        },
        {
          "name": "stderr",
          "output_type": "stream",
          "text": [
            " 54%|█████▎    | 1130/2108 [11:02<09:55,  1.64it/s]"
          ]
        },
        {
          "name": "stdout",
          "output_type": "stream",
          "text": [
            "\n",
            "0: 640x640 1 marmoset, 4.2ms\n",
            "Speed: 1.5ms preprocess, 4.2ms inference, 0.8ms postprocess per image at shape (1, 3, 640, 640)\n"
          ]
        },
        {
          "name": "stderr",
          "output_type": "stream",
          "text": [
            " 54%|█████▎    | 1131/2108 [11:03<09:54,  1.64it/s]"
          ]
        },
        {
          "name": "stdout",
          "output_type": "stream",
          "text": [
            "\n",
            "0: 640x640 1 marmoset, 4.2ms\n",
            "Speed: 1.5ms preprocess, 4.2ms inference, 0.8ms postprocess per image at shape (1, 3, 640, 640)\n"
          ]
        },
        {
          "name": "stderr",
          "output_type": "stream",
          "text": [
            " 54%|█████▎    | 1132/2108 [11:04<09:52,  1.65it/s]"
          ]
        },
        {
          "name": "stdout",
          "output_type": "stream",
          "text": [
            "\n",
            "0: 480x640 1 marmoset, 4.6ms\n",
            "Speed: 1.1ms preprocess, 4.6ms inference, 0.8ms postprocess per image at shape (1, 3, 480, 640)\n"
          ]
        },
        {
          "name": "stderr",
          "output_type": "stream",
          "text": [
            " 54%|█████▎    | 1133/2108 [11:04<09:48,  1.66it/s]"
          ]
        },
        {
          "name": "stdout",
          "output_type": "stream",
          "text": [
            "\n",
            "0: 640x640 1 marmoset, 4.4ms\n",
            "Speed: 1.5ms preprocess, 4.4ms inference, 0.7ms postprocess per image at shape (1, 3, 640, 640)\n"
          ]
        },
        {
          "name": "stderr",
          "output_type": "stream",
          "text": [
            " 54%|█████▍    | 1134/2108 [11:05<09:48,  1.66it/s]"
          ]
        },
        {
          "name": "stdout",
          "output_type": "stream",
          "text": [
            "\n",
            "0: 640x640 1 marmoset, 4.2ms\n",
            "Speed: 1.5ms preprocess, 4.2ms inference, 0.8ms postprocess per image at shape (1, 3, 640, 640)\n"
          ]
        },
        {
          "name": "stderr",
          "output_type": "stream",
          "text": [
            " 54%|█████▍    | 1135/2108 [11:05<09:48,  1.65it/s]"
          ]
        },
        {
          "name": "stdout",
          "output_type": "stream",
          "text": [
            "\n",
            "0: 640x640 1 marmoset, 4.2ms\n",
            "Speed: 1.6ms preprocess, 4.2ms inference, 0.8ms postprocess per image at shape (1, 3, 640, 640)\n"
          ]
        },
        {
          "name": "stderr",
          "output_type": "stream",
          "text": [
            " 54%|█████▍    | 1136/2108 [11:06<09:50,  1.65it/s]"
          ]
        },
        {
          "name": "stdout",
          "output_type": "stream",
          "text": [
            "\n",
            "0: 480x640 1 marmoset, 4.5ms\n",
            "Speed: 1.0ms preprocess, 4.5ms inference, 0.8ms postprocess per image at shape (1, 3, 480, 640)\n"
          ]
        },
        {
          "name": "stderr",
          "output_type": "stream",
          "text": [
            " 54%|█████▍    | 1137/2108 [11:07<09:46,  1.66it/s]"
          ]
        },
        {
          "name": "stdout",
          "output_type": "stream",
          "text": [
            "\n",
            "0: 640x640 1 marmoset, 4.4ms\n",
            "Speed: 1.5ms preprocess, 4.4ms inference, 0.8ms postprocess per image at shape (1, 3, 640, 640)\n"
          ]
        },
        {
          "name": "stderr",
          "output_type": "stream",
          "text": [
            " 54%|█████▍    | 1138/2108 [11:07<09:47,  1.65it/s]"
          ]
        },
        {
          "name": "stdout",
          "output_type": "stream",
          "text": [
            "\n",
            "0: 640x640 1 marmoset, 4.2ms\n",
            "Speed: 1.5ms preprocess, 4.2ms inference, 0.8ms postprocess per image at shape (1, 3, 640, 640)\n"
          ]
        },
        {
          "name": "stderr",
          "output_type": "stream",
          "text": [
            " 54%|█████▍    | 1139/2108 [11:08<09:47,  1.65it/s]"
          ]
        },
        {
          "name": "stdout",
          "output_type": "stream",
          "text": [
            "\n",
            "0: 640x640 1 marmoset, 4.1ms\n",
            "Speed: 1.5ms preprocess, 4.1ms inference, 0.8ms postprocess per image at shape (1, 3, 640, 640)\n"
          ]
        },
        {
          "name": "stderr",
          "output_type": "stream",
          "text": [
            " 54%|█████▍    | 1140/2108 [11:09<09:47,  1.65it/s]"
          ]
        },
        {
          "name": "stdout",
          "output_type": "stream",
          "text": [
            "\n",
            "0: 640x640 1 marmoset, 4.2ms\n",
            "Speed: 1.5ms preprocess, 4.2ms inference, 0.8ms postprocess per image at shape (1, 3, 640, 640)\n"
          ]
        },
        {
          "name": "stderr",
          "output_type": "stream",
          "text": [
            " 54%|█████▍    | 1141/2108 [11:09<09:47,  1.65it/s]"
          ]
        },
        {
          "name": "stdout",
          "output_type": "stream",
          "text": [
            "\n",
            "0: 640x640 1 marmoset, 4.2ms\n",
            "Speed: 1.5ms preprocess, 4.2ms inference, 0.8ms postprocess per image at shape (1, 3, 640, 640)\n"
          ]
        },
        {
          "name": "stderr",
          "output_type": "stream",
          "text": [
            " 54%|█████▍    | 1142/2108 [11:10<09:47,  1.65it/s]"
          ]
        },
        {
          "name": "stdout",
          "output_type": "stream",
          "text": [
            "\n",
            "0: 640x640 1 marmoset, 4.2ms\n",
            "Speed: 1.5ms preprocess, 4.2ms inference, 0.8ms postprocess per image at shape (1, 3, 640, 640)\n"
          ]
        },
        {
          "name": "stderr",
          "output_type": "stream",
          "text": [
            " 54%|█████▍    | 1143/2108 [11:10<09:48,  1.64it/s]"
          ]
        },
        {
          "name": "stdout",
          "output_type": "stream",
          "text": [
            "\n",
            "0: 480x640 1 marmoset, 4.6ms\n",
            "Speed: 1.0ms preprocess, 4.6ms inference, 0.8ms postprocess per image at shape (1, 3, 480, 640)\n"
          ]
        },
        {
          "name": "stderr",
          "output_type": "stream",
          "text": [
            " 54%|█████▍    | 1144/2108 [11:11<09:44,  1.65it/s]"
          ]
        },
        {
          "name": "stdout",
          "output_type": "stream",
          "text": [
            "\n",
            "0: 480x640 1 marmoset, 4.2ms\n",
            "Speed: 1.0ms preprocess, 4.2ms inference, 0.7ms postprocess per image at shape (1, 3, 480, 640)\n"
          ]
        },
        {
          "name": "stderr",
          "output_type": "stream",
          "text": [
            " 54%|█████▍    | 1145/2108 [11:12<09:41,  1.66it/s]"
          ]
        },
        {
          "name": "stdout",
          "output_type": "stream",
          "text": [
            "\n",
            "0: 640x640 1 marmoset, 4.5ms\n",
            "Speed: 1.5ms preprocess, 4.5ms inference, 0.8ms postprocess per image at shape (1, 3, 640, 640)\n"
          ]
        },
        {
          "name": "stderr",
          "output_type": "stream",
          "text": [
            " 54%|█████▍    | 1146/2108 [11:12<09:42,  1.65it/s]"
          ]
        },
        {
          "name": "stdout",
          "output_type": "stream",
          "text": [
            "\n",
            "0: 640x640 1 marmoset, 4.3ms\n",
            "Speed: 1.5ms preprocess, 4.3ms inference, 0.8ms postprocess per image at shape (1, 3, 640, 640)\n"
          ]
        },
        {
          "name": "stderr",
          "output_type": "stream",
          "text": [
            " 54%|█████▍    | 1147/2108 [11:13<09:36,  1.67it/s]"
          ]
        },
        {
          "name": "stdout",
          "output_type": "stream",
          "text": [
            "\n",
            "0: 640x640 2 marmosets, 4.2ms\n",
            "Speed: 1.5ms preprocess, 4.2ms inference, 0.7ms postprocess per image at shape (1, 3, 640, 640)\n"
          ]
        },
        {
          "name": "stderr",
          "output_type": "stream",
          "text": [
            " 54%|█████▍    | 1148/2108 [11:13<09:32,  1.68it/s]"
          ]
        },
        {
          "name": "stdout",
          "output_type": "stream",
          "text": [
            "\n",
            "0: 640x640 1 marmoset, 4.2ms\n",
            "Speed: 1.5ms preprocess, 4.2ms inference, 0.8ms postprocess per image at shape (1, 3, 640, 640)\n"
          ]
        },
        {
          "name": "stderr",
          "output_type": "stream",
          "text": [
            " 55%|█████▍    | 1149/2108 [11:14<09:39,  1.66it/s]"
          ]
        },
        {
          "name": "stdout",
          "output_type": "stream",
          "text": [
            "\n",
            "0: 640x640 2 marmosets, 4.2ms\n",
            "Speed: 1.5ms preprocess, 4.2ms inference, 0.8ms postprocess per image at shape (1, 3, 640, 640)\n"
          ]
        },
        {
          "name": "stderr",
          "output_type": "stream",
          "text": [
            " 55%|█████▍    | 1150/2108 [11:15<09:51,  1.62it/s]"
          ]
        },
        {
          "name": "stdout",
          "output_type": "stream",
          "text": [
            "\n",
            "0: 640x640 2 marmosets, 4.2ms\n",
            "Speed: 1.5ms preprocess, 4.2ms inference, 0.8ms postprocess per image at shape (1, 3, 640, 640)\n"
          ]
        },
        {
          "name": "stderr",
          "output_type": "stream",
          "text": [
            " 55%|█████▍    | 1151/2108 [11:15<09:51,  1.62it/s]"
          ]
        },
        {
          "name": "stdout",
          "output_type": "stream",
          "text": [
            "\n",
            "0: 640x640 1 marmoset, 4.2ms\n",
            "Speed: 1.5ms preprocess, 4.2ms inference, 0.8ms postprocess per image at shape (1, 3, 640, 640)\n"
          ]
        },
        {
          "name": "stderr",
          "output_type": "stream",
          "text": [
            " 55%|█████▍    | 1152/2108 [11:16<09:49,  1.62it/s]"
          ]
        },
        {
          "name": "stdout",
          "output_type": "stream",
          "text": [
            "\n",
            "0: 640x640 2 marmosets, 4.2ms\n",
            "Speed: 1.4ms preprocess, 4.2ms inference, 0.8ms postprocess per image at shape (1, 3, 640, 640)\n"
          ]
        },
        {
          "name": "stderr",
          "output_type": "stream",
          "text": [
            " 55%|█████▍    | 1153/2108 [11:16<10:00,  1.59it/s]"
          ]
        },
        {
          "name": "stdout",
          "output_type": "stream",
          "text": [
            "\n",
            "0: 640x640 2 marmosets, 4.2ms\n",
            "Speed: 1.4ms preprocess, 4.2ms inference, 0.8ms postprocess per image at shape (1, 3, 640, 640)\n"
          ]
        },
        {
          "name": "stderr",
          "output_type": "stream",
          "text": [
            " 55%|█████▍    | 1154/2108 [11:17<09:58,  1.59it/s]"
          ]
        },
        {
          "name": "stdout",
          "output_type": "stream",
          "text": [
            "\n",
            "0: 640x640 1 marmoset, 4.2ms\n",
            "Speed: 1.5ms preprocess, 4.2ms inference, 0.7ms postprocess per image at shape (1, 3, 640, 640)\n"
          ]
        },
        {
          "name": "stderr",
          "output_type": "stream",
          "text": [
            " 55%|█████▍    | 1155/2108 [11:18<09:50,  1.61it/s]"
          ]
        },
        {
          "name": "stdout",
          "output_type": "stream",
          "text": [
            "\n",
            "0: 640x640 2 marmosets, 4.2ms\n",
            "Speed: 1.5ms preprocess, 4.2ms inference, 0.8ms postprocess per image at shape (1, 3, 640, 640)\n"
          ]
        },
        {
          "name": "stderr",
          "output_type": "stream",
          "text": [
            " 55%|█████▍    | 1156/2108 [11:18<09:50,  1.61it/s]"
          ]
        },
        {
          "name": "stdout",
          "output_type": "stream",
          "text": [
            "\n",
            "0: 640x640 2 marmosets, 4.2ms\n",
            "Speed: 1.4ms preprocess, 4.2ms inference, 0.8ms postprocess per image at shape (1, 3, 640, 640)\n"
          ]
        },
        {
          "name": "stderr",
          "output_type": "stream",
          "text": [
            " 55%|█████▍    | 1157/2108 [11:19<09:46,  1.62it/s]"
          ]
        },
        {
          "name": "stdout",
          "output_type": "stream",
          "text": [
            "\n",
            "0: 640x640 1 marmoset, 4.3ms\n",
            "Speed: 1.5ms preprocess, 4.3ms inference, 0.8ms postprocess per image at shape (1, 3, 640, 640)\n"
          ]
        },
        {
          "name": "stderr",
          "output_type": "stream",
          "text": [
            " 55%|█████▍    | 1158/2108 [11:20<09:42,  1.63it/s]"
          ]
        },
        {
          "name": "stdout",
          "output_type": "stream",
          "text": [
            "\n",
            "0: 640x640 1 marmoset, 4.3ms\n",
            "Speed: 1.5ms preprocess, 4.3ms inference, 0.8ms postprocess per image at shape (1, 3, 640, 640)\n"
          ]
        },
        {
          "name": "stderr",
          "output_type": "stream",
          "text": [
            " 55%|█████▍    | 1159/2108 [11:20<09:40,  1.63it/s]"
          ]
        },
        {
          "name": "stdout",
          "output_type": "stream",
          "text": [
            "\n",
            "0: 640x640 1 marmoset, 4.2ms\n",
            "Speed: 1.5ms preprocess, 4.2ms inference, 0.8ms postprocess per image at shape (1, 3, 640, 640)\n"
          ]
        },
        {
          "name": "stderr",
          "output_type": "stream",
          "text": [
            " 55%|█████▌    | 1160/2108 [11:21<09:39,  1.63it/s]"
          ]
        },
        {
          "name": "stdout",
          "output_type": "stream",
          "text": [
            "\n",
            "0: 640x640 2 marmosets, 4.2ms\n",
            "Speed: 1.4ms preprocess, 4.2ms inference, 0.8ms postprocess per image at shape (1, 3, 640, 640)\n"
          ]
        },
        {
          "name": "stderr",
          "output_type": "stream",
          "text": [
            " 55%|█████▌    | 1161/2108 [11:21<09:38,  1.64it/s]"
          ]
        },
        {
          "name": "stdout",
          "output_type": "stream",
          "text": [
            "\n",
            "0: 640x640 1 marmoset, 4.2ms\n",
            "Speed: 1.5ms preprocess, 4.2ms inference, 0.8ms postprocess per image at shape (1, 3, 640, 640)\n"
          ]
        },
        {
          "name": "stderr",
          "output_type": "stream",
          "text": [
            " 55%|█████▌    | 1162/2108 [11:22<09:37,  1.64it/s]"
          ]
        },
        {
          "name": "stdout",
          "output_type": "stream",
          "text": [
            "\n",
            "0: 640x640 1 marmoset, 4.2ms\n",
            "Speed: 1.5ms preprocess, 4.2ms inference, 0.8ms postprocess per image at shape (1, 3, 640, 640)\n"
          ]
        },
        {
          "name": "stderr",
          "output_type": "stream",
          "text": [
            " 55%|█████▌    | 1163/2108 [11:23<09:36,  1.64it/s]"
          ]
        },
        {
          "name": "stdout",
          "output_type": "stream",
          "text": [
            "\n",
            "0: 640x640 1 marmoset, 4.2ms\n",
            "Speed: 1.5ms preprocess, 4.2ms inference, 0.8ms postprocess per image at shape (1, 3, 640, 640)\n"
          ]
        },
        {
          "name": "stderr",
          "output_type": "stream",
          "text": [
            " 55%|█████▌    | 1164/2108 [11:23<09:29,  1.66it/s]"
          ]
        },
        {
          "name": "stdout",
          "output_type": "stream",
          "text": [
            "\n",
            "0: 640x640 1 marmoset, 4.3ms\n",
            "Speed: 1.6ms preprocess, 4.3ms inference, 0.8ms postprocess per image at shape (1, 3, 640, 640)\n"
          ]
        },
        {
          "name": "stderr",
          "output_type": "stream",
          "text": [
            " 55%|█████▌    | 1165/2108 [11:24<09:24,  1.67it/s]"
          ]
        },
        {
          "name": "stdout",
          "output_type": "stream",
          "text": [
            "\n",
            "0: 640x640 2 marmosets, 4.2ms\n",
            "Speed: 1.4ms preprocess, 4.2ms inference, 0.8ms postprocess per image at shape (1, 3, 640, 640)\n"
          ]
        },
        {
          "name": "stderr",
          "output_type": "stream",
          "text": [
            " 55%|█████▌    | 1166/2108 [11:24<09:28,  1.66it/s]"
          ]
        },
        {
          "name": "stdout",
          "output_type": "stream",
          "text": [
            "\n",
            "0: 640x640 1 marmoset, 4.3ms\n",
            "Speed: 1.6ms preprocess, 4.3ms inference, 0.8ms postprocess per image at shape (1, 3, 640, 640)\n"
          ]
        },
        {
          "name": "stderr",
          "output_type": "stream",
          "text": [
            " 55%|█████▌    | 1167/2108 [11:25<09:35,  1.63it/s]"
          ]
        },
        {
          "name": "stdout",
          "output_type": "stream",
          "text": [
            "\n",
            "0: 640x640 2 marmosets, 4.3ms\n",
            "Speed: 1.5ms preprocess, 4.3ms inference, 0.8ms postprocess per image at shape (1, 3, 640, 640)\n"
          ]
        },
        {
          "name": "stderr",
          "output_type": "stream",
          "text": [
            " 55%|█████▌    | 1168/2108 [11:26<09:41,  1.62it/s]"
          ]
        },
        {
          "name": "stdout",
          "output_type": "stream",
          "text": [
            "\n",
            "0: 640x640 1 marmoset, 4.2ms\n",
            "Speed: 1.5ms preprocess, 4.2ms inference, 0.8ms postprocess per image at shape (1, 3, 640, 640)\n"
          ]
        },
        {
          "name": "stderr",
          "output_type": "stream",
          "text": [
            " 55%|█████▌    | 1169/2108 [11:26<09:36,  1.63it/s]"
          ]
        },
        {
          "name": "stdout",
          "output_type": "stream",
          "text": [
            "\n",
            "0: 640x640 2 marmosets, 4.2ms\n",
            "Speed: 1.4ms preprocess, 4.2ms inference, 0.8ms postprocess per image at shape (1, 3, 640, 640)\n"
          ]
        },
        {
          "name": "stderr",
          "output_type": "stream",
          "text": [
            " 56%|█████▌    | 1170/2108 [11:27<09:33,  1.64it/s]"
          ]
        },
        {
          "name": "stdout",
          "output_type": "stream",
          "text": [
            "\n",
            "0: 640x640 2 marmosets, 4.2ms\n",
            "Speed: 1.4ms preprocess, 4.2ms inference, 0.8ms postprocess per image at shape (1, 3, 640, 640)\n"
          ]
        },
        {
          "name": "stderr",
          "output_type": "stream",
          "text": [
            " 56%|█████▌    | 1171/2108 [11:27<09:31,  1.64it/s]"
          ]
        },
        {
          "name": "stdout",
          "output_type": "stream",
          "text": [
            "\n",
            "0: 640x640 1 marmoset, 4.2ms\n",
            "Speed: 1.5ms preprocess, 4.2ms inference, 0.7ms postprocess per image at shape (1, 3, 640, 640)\n"
          ]
        },
        {
          "name": "stderr",
          "output_type": "stream",
          "text": [
            " 56%|█████▌    | 1172/2108 [11:28<09:28,  1.65it/s]"
          ]
        },
        {
          "name": "stdout",
          "output_type": "stream",
          "text": [
            "\n",
            "0: 640x640 1 marmoset, 4.3ms\n",
            "Speed: 1.6ms preprocess, 4.3ms inference, 0.8ms postprocess per image at shape (1, 3, 640, 640)\n"
          ]
        },
        {
          "name": "stderr",
          "output_type": "stream",
          "text": [
            " 56%|█████▌    | 1173/2108 [11:29<09:31,  1.64it/s]"
          ]
        },
        {
          "name": "stdout",
          "output_type": "stream",
          "text": [
            "\n",
            "0: 640x640 (no detections), 4.2ms\n",
            "Speed: 1.5ms preprocess, 4.2ms inference, 0.3ms postprocess per image at shape (1, 3, 640, 640)\n",
            "\n",
            "0: 640x640 1 marmoset, 3.9ms\n",
            "Speed: 1.5ms preprocess, 3.9ms inference, 0.8ms postprocess per image at shape (1, 3, 640, 640)\n"
          ]
        },
        {
          "name": "stderr",
          "output_type": "stream",
          "text": [
            " 56%|█████▌    | 1175/2108 [11:29<07:27,  2.08it/s]"
          ]
        },
        {
          "name": "stdout",
          "output_type": "stream",
          "text": [
            "\n",
            "0: 640x640 1 marmoset, 4.3ms\n",
            "Speed: 1.5ms preprocess, 4.3ms inference, 0.8ms postprocess per image at shape (1, 3, 640, 640)\n"
          ]
        },
        {
          "name": "stderr",
          "output_type": "stream",
          "text": [
            " 56%|█████▌    | 1176/2108 [11:30<07:57,  1.95it/s]"
          ]
        },
        {
          "name": "stdout",
          "output_type": "stream",
          "text": [
            "\n",
            "0: 640x640 1 marmoset, 4.2ms\n",
            "Speed: 1.6ms preprocess, 4.2ms inference, 0.8ms postprocess per image at shape (1, 3, 640, 640)\n"
          ]
        },
        {
          "name": "stderr",
          "output_type": "stream",
          "text": [
            " 56%|█████▌    | 1177/2108 [11:31<08:17,  1.87it/s]"
          ]
        },
        {
          "name": "stdout",
          "output_type": "stream",
          "text": [
            "\n",
            "0: 640x640 1 marmoset, 4.2ms\n",
            "Speed: 1.5ms preprocess, 4.2ms inference, 0.8ms postprocess per image at shape (1, 3, 640, 640)\n"
          ]
        },
        {
          "name": "stderr",
          "output_type": "stream",
          "text": [
            " 56%|█████▌    | 1178/2108 [11:31<08:35,  1.80it/s]"
          ]
        },
        {
          "name": "stdout",
          "output_type": "stream",
          "text": [
            "\n",
            "0: 640x640 1 marmoset, 4.3ms\n",
            "Speed: 1.5ms preprocess, 4.3ms inference, 0.8ms postprocess per image at shape (1, 3, 640, 640)\n"
          ]
        },
        {
          "name": "stderr",
          "output_type": "stream",
          "text": [
            " 56%|█████▌    | 1179/2108 [11:32<08:43,  1.78it/s]"
          ]
        },
        {
          "name": "stdout",
          "output_type": "stream",
          "text": [
            "\n",
            "0: 640x640 1 marmoset, 4.3ms\n",
            "Speed: 1.5ms preprocess, 4.3ms inference, 0.8ms postprocess per image at shape (1, 3, 640, 640)\n"
          ]
        },
        {
          "name": "stderr",
          "output_type": "stream",
          "text": [
            " 56%|█████▌    | 1180/2108 [11:32<08:48,  1.75it/s]"
          ]
        },
        {
          "name": "stdout",
          "output_type": "stream",
          "text": [
            "\n",
            "0: 640x640 1 marmoset, 4.2ms\n",
            "Speed: 1.5ms preprocess, 4.2ms inference, 0.8ms postprocess per image at shape (1, 3, 640, 640)\n"
          ]
        },
        {
          "name": "stderr",
          "output_type": "stream",
          "text": [
            " 56%|█████▌    | 1181/2108 [11:33<08:58,  1.72it/s]"
          ]
        },
        {
          "name": "stdout",
          "output_type": "stream",
          "text": [
            "\n",
            "0: 640x640 1 marmoset, 4.2ms\n",
            "Speed: 1.5ms preprocess, 4.2ms inference, 0.8ms postprocess per image at shape (1, 3, 640, 640)\n"
          ]
        },
        {
          "name": "stderr",
          "output_type": "stream",
          "text": [
            " 56%|█████▌    | 1182/2108 [11:34<09:04,  1.70it/s]"
          ]
        },
        {
          "name": "stdout",
          "output_type": "stream",
          "text": [
            "\n",
            "0: 640x640 2 marmosets, 4.2ms\n",
            "Speed: 1.4ms preprocess, 4.2ms inference, 0.8ms postprocess per image at shape (1, 3, 640, 640)\n"
          ]
        },
        {
          "name": "stderr",
          "output_type": "stream",
          "text": [
            " 56%|█████▌    | 1183/2108 [11:34<09:10,  1.68it/s]"
          ]
        },
        {
          "name": "stdout",
          "output_type": "stream",
          "text": [
            "\n",
            "0: 640x640 1 marmoset, 4.2ms\n",
            "Speed: 1.5ms preprocess, 4.2ms inference, 0.8ms postprocess per image at shape (1, 3, 640, 640)\n"
          ]
        },
        {
          "name": "stderr",
          "output_type": "stream",
          "text": [
            " 56%|█████▌    | 1184/2108 [11:35<09:13,  1.67it/s]"
          ]
        },
        {
          "name": "stdout",
          "output_type": "stream",
          "text": [
            "\n",
            "0: 640x640 1 marmoset, 4.2ms\n",
            "Speed: 1.5ms preprocess, 4.2ms inference, 0.8ms postprocess per image at shape (1, 3, 640, 640)\n"
          ]
        },
        {
          "name": "stderr",
          "output_type": "stream",
          "text": [
            " 56%|█████▌    | 1185/2108 [11:35<09:13,  1.67it/s]"
          ]
        },
        {
          "name": "stdout",
          "output_type": "stream",
          "text": [
            "\n",
            "0: 640x640 1 marmoset, 4.1ms\n",
            "Speed: 1.5ms preprocess, 4.1ms inference, 0.8ms postprocess per image at shape (1, 3, 640, 640)\n"
          ]
        },
        {
          "name": "stderr",
          "output_type": "stream",
          "text": [
            " 56%|█████▋    | 1186/2108 [11:36<09:15,  1.66it/s]"
          ]
        },
        {
          "name": "stdout",
          "output_type": "stream",
          "text": [
            "\n",
            "0: 480x640 1 marmoset, 4.5ms\n",
            "Speed: 1.4ms preprocess, 4.5ms inference, 0.8ms postprocess per image at shape (1, 3, 480, 640)\n"
          ]
        },
        {
          "name": "stderr",
          "output_type": "stream",
          "text": [
            " 56%|█████▋    | 1187/2108 [11:37<09:13,  1.66it/s]"
          ]
        },
        {
          "name": "stdout",
          "output_type": "stream",
          "text": [
            "\n",
            "0: 480x640 1 marmoset, 4.2ms\n",
            "Speed: 1.0ms preprocess, 4.2ms inference, 0.7ms postprocess per image at shape (1, 3, 480, 640)\n"
          ]
        },
        {
          "name": "stderr",
          "output_type": "stream",
          "text": [
            " 56%|█████▋    | 1188/2108 [11:37<09:12,  1.67it/s]"
          ]
        },
        {
          "name": "stdout",
          "output_type": "stream",
          "text": [
            "\n",
            "0: 640x640 1 marmoset, 4.4ms\n",
            "Speed: 1.5ms preprocess, 4.4ms inference, 0.7ms postprocess per image at shape (1, 3, 640, 640)\n"
          ]
        },
        {
          "name": "stderr",
          "output_type": "stream",
          "text": [
            " 56%|█████▋    | 1189/2108 [11:38<09:16,  1.65it/s]"
          ]
        },
        {
          "name": "stdout",
          "output_type": "stream",
          "text": [
            "\n",
            "0: 640x640 1 marmoset, 4.2ms\n",
            "Speed: 1.5ms preprocess, 4.2ms inference, 0.8ms postprocess per image at shape (1, 3, 640, 640)\n"
          ]
        },
        {
          "name": "stderr",
          "output_type": "stream",
          "text": [
            " 56%|█████▋    | 1190/2108 [11:38<09:16,  1.65it/s]"
          ]
        },
        {
          "name": "stdout",
          "output_type": "stream",
          "text": [
            "\n",
            "0: 640x640 2 marmosets, 4.2ms\n",
            "Speed: 1.6ms preprocess, 4.2ms inference, 0.8ms postprocess per image at shape (1, 3, 640, 640)\n"
          ]
        },
        {
          "name": "stderr",
          "output_type": "stream",
          "text": [
            " 56%|█████▋    | 1191/2108 [11:39<09:20,  1.63it/s]"
          ]
        },
        {
          "name": "stdout",
          "output_type": "stream",
          "text": [
            "\n",
            "0: 480x640 1 marmoset, 4.6ms\n",
            "Speed: 1.1ms preprocess, 4.6ms inference, 0.8ms postprocess per image at shape (1, 3, 480, 640)\n"
          ]
        },
        {
          "name": "stderr",
          "output_type": "stream",
          "text": [
            " 57%|█████▋    | 1192/2108 [11:40<09:16,  1.65it/s]"
          ]
        },
        {
          "name": "stdout",
          "output_type": "stream",
          "text": [
            "\n",
            "0: 640x640 1 marmoset, 4.4ms\n",
            "Speed: 1.5ms preprocess, 4.4ms inference, 0.7ms postprocess per image at shape (1, 3, 640, 640)\n"
          ]
        },
        {
          "name": "stderr",
          "output_type": "stream",
          "text": [
            " 57%|█████▋    | 1193/2108 [11:40<09:14,  1.65it/s]"
          ]
        },
        {
          "name": "stdout",
          "output_type": "stream",
          "text": [
            "\n",
            "0: 640x640 2 marmosets, 4.2ms\n",
            "Speed: 1.4ms preprocess, 4.2ms inference, 0.8ms postprocess per image at shape (1, 3, 640, 640)\n"
          ]
        },
        {
          "name": "stderr",
          "output_type": "stream",
          "text": [
            " 57%|█████▋    | 1194/2108 [11:41<09:15,  1.65it/s]"
          ]
        },
        {
          "name": "stdout",
          "output_type": "stream",
          "text": [
            "\n",
            "0: 480x640 1 marmoset, 4.5ms\n",
            "Speed: 1.1ms preprocess, 4.5ms inference, 0.8ms postprocess per image at shape (1, 3, 480, 640)\n"
          ]
        },
        {
          "name": "stderr",
          "output_type": "stream",
          "text": [
            " 57%|█████▋    | 1195/2108 [11:41<09:11,  1.65it/s]"
          ]
        },
        {
          "name": "stdout",
          "output_type": "stream",
          "text": [
            "\n",
            "0: 640x640 2 marmosets, 4.4ms\n",
            "Speed: 1.5ms preprocess, 4.4ms inference, 0.7ms postprocess per image at shape (1, 3, 640, 640)\n"
          ]
        },
        {
          "name": "stderr",
          "output_type": "stream",
          "text": [
            " 57%|█████▋    | 1196/2108 [11:42<09:16,  1.64it/s]"
          ]
        },
        {
          "name": "stdout",
          "output_type": "stream",
          "text": [
            "\n",
            "0: 640x640 2 marmosets, 4.2ms\n",
            "Speed: 1.6ms preprocess, 4.2ms inference, 0.8ms postprocess per image at shape (1, 3, 640, 640)\n"
          ]
        },
        {
          "name": "stderr",
          "output_type": "stream",
          "text": [
            " 57%|█████▋    | 1197/2108 [11:43<09:31,  1.60it/s]"
          ]
        },
        {
          "name": "stdout",
          "output_type": "stream",
          "text": [
            "\n",
            "0: 640x640 1 marmoset, 4.3ms\n",
            "Speed: 1.5ms preprocess, 4.3ms inference, 0.8ms postprocess per image at shape (1, 3, 640, 640)\n"
          ]
        },
        {
          "name": "stderr",
          "output_type": "stream",
          "text": [
            " 57%|█████▋    | 1198/2108 [11:43<09:29,  1.60it/s]"
          ]
        },
        {
          "name": "stdout",
          "output_type": "stream",
          "text": [
            "\n",
            "0: 640x640 1 marmoset, 4.2ms\n",
            "Speed: 1.5ms preprocess, 4.2ms inference, 0.8ms postprocess per image at shape (1, 3, 640, 640)\n"
          ]
        },
        {
          "name": "stderr",
          "output_type": "stream",
          "text": [
            " 57%|█████▋    | 1199/2108 [11:44<09:22,  1.62it/s]"
          ]
        },
        {
          "name": "stdout",
          "output_type": "stream",
          "text": [
            "\n",
            "0: 640x640 1 marmoset, 4.2ms\n",
            "Speed: 1.5ms preprocess, 4.2ms inference, 0.8ms postprocess per image at shape (1, 3, 640, 640)\n"
          ]
        },
        {
          "name": "stderr",
          "output_type": "stream",
          "text": [
            " 57%|█████▋    | 1200/2108 [11:45<09:17,  1.63it/s]"
          ]
        },
        {
          "name": "stdout",
          "output_type": "stream",
          "text": [
            "\n",
            "0: 640x640 1 marmoset, 4.2ms\n",
            "Speed: 1.5ms preprocess, 4.2ms inference, 0.8ms postprocess per image at shape (1, 3, 640, 640)\n"
          ]
        },
        {
          "name": "stderr",
          "output_type": "stream",
          "text": [
            " 57%|█████▋    | 1201/2108 [11:45<09:14,  1.64it/s]"
          ]
        },
        {
          "name": "stdout",
          "output_type": "stream",
          "text": [
            "\n",
            "0: 640x640 1 marmoset, 4.2ms\n",
            "Speed: 1.5ms preprocess, 4.2ms inference, 0.8ms postprocess per image at shape (1, 3, 640, 640)\n"
          ]
        },
        {
          "name": "stderr",
          "output_type": "stream",
          "text": [
            " 57%|█████▋    | 1202/2108 [11:46<09:12,  1.64it/s]"
          ]
        },
        {
          "name": "stdout",
          "output_type": "stream",
          "text": [
            "\n",
            "0: 640x640 1 marmoset, 4.2ms\n",
            "Speed: 1.5ms preprocess, 4.2ms inference, 0.8ms postprocess per image at shape (1, 3, 640, 640)\n"
          ]
        },
        {
          "name": "stderr",
          "output_type": "stream",
          "text": [
            " 57%|█████▋    | 1203/2108 [11:46<09:09,  1.65it/s]"
          ]
        },
        {
          "name": "stdout",
          "output_type": "stream",
          "text": [
            "\n",
            "0: 640x640 1 marmoset, 4.2ms\n",
            "Speed: 1.5ms preprocess, 4.2ms inference, 0.8ms postprocess per image at shape (1, 3, 640, 640)\n"
          ]
        },
        {
          "name": "stderr",
          "output_type": "stream",
          "text": [
            " 57%|█████▋    | 1204/2108 [11:47<09:04,  1.66it/s]"
          ]
        },
        {
          "name": "stdout",
          "output_type": "stream",
          "text": [
            "\n",
            "0: 640x640 1 marmoset, 4.1ms\n",
            "Speed: 1.5ms preprocess, 4.1ms inference, 0.8ms postprocess per image at shape (1, 3, 640, 640)\n"
          ]
        },
        {
          "name": "stderr",
          "output_type": "stream",
          "text": [
            " 57%|█████▋    | 1205/2108 [11:48<09:10,  1.64it/s]"
          ]
        },
        {
          "name": "stdout",
          "output_type": "stream",
          "text": [
            "\n",
            "0: 640x640 1 marmoset, 4.2ms\n",
            "Speed: 1.5ms preprocess, 4.2ms inference, 0.8ms postprocess per image at shape (1, 3, 640, 640)\n"
          ]
        },
        {
          "name": "stderr",
          "output_type": "stream",
          "text": [
            " 57%|█████▋    | 1206/2108 [11:48<09:22,  1.60it/s]"
          ]
        },
        {
          "name": "stdout",
          "output_type": "stream",
          "text": [
            "\n",
            "0: 640x640 2 marmosets, 4.2ms\n",
            "Speed: 1.4ms preprocess, 4.2ms inference, 0.8ms postprocess per image at shape (1, 3, 640, 640)\n"
          ]
        },
        {
          "name": "stderr",
          "output_type": "stream",
          "text": [
            " 57%|█████▋    | 1207/2108 [11:49<09:19,  1.61it/s]"
          ]
        },
        {
          "name": "stdout",
          "output_type": "stream",
          "text": [
            "\n",
            "0: 640x640 2 marmosets, 4.2ms\n",
            "Speed: 1.4ms preprocess, 4.2ms inference, 0.8ms postprocess per image at shape (1, 3, 640, 640)\n"
          ]
        },
        {
          "name": "stderr",
          "output_type": "stream",
          "text": [
            " 57%|█████▋    | 1208/2108 [11:49<09:16,  1.62it/s]"
          ]
        },
        {
          "name": "stdout",
          "output_type": "stream",
          "text": [
            "\n",
            "0: 640x640 1 marmoset, 4.2ms\n",
            "Speed: 1.5ms preprocess, 4.2ms inference, 0.7ms postprocess per image at shape (1, 3, 640, 640)\n"
          ]
        },
        {
          "name": "stderr",
          "output_type": "stream",
          "text": [
            " 57%|█████▋    | 1209/2108 [11:50<09:13,  1.62it/s]"
          ]
        },
        {
          "name": "stdout",
          "output_type": "stream",
          "text": [
            "\n",
            "0: 640x640 1 marmoset, 4.2ms\n",
            "Speed: 1.5ms preprocess, 4.2ms inference, 0.8ms postprocess per image at shape (1, 3, 640, 640)\n"
          ]
        },
        {
          "name": "stderr",
          "output_type": "stream",
          "text": [
            " 57%|█████▋    | 1210/2108 [11:51<09:32,  1.57it/s]"
          ]
        },
        {
          "name": "stdout",
          "output_type": "stream",
          "text": [
            "\n",
            "0: 640x640 2 marmosets, 4.2ms\n",
            "Speed: 1.5ms preprocess, 4.2ms inference, 0.8ms postprocess per image at shape (1, 3, 640, 640)\n"
          ]
        },
        {
          "name": "stderr",
          "output_type": "stream",
          "text": [
            " 57%|█████▋    | 1211/2108 [11:51<09:26,  1.58it/s]"
          ]
        },
        {
          "name": "stdout",
          "output_type": "stream",
          "text": [
            "\n",
            "0: 640x640 2 marmosets, 4.2ms\n",
            "Speed: 1.5ms preprocess, 4.2ms inference, 0.8ms postprocess per image at shape (1, 3, 640, 640)\n"
          ]
        },
        {
          "name": "stderr",
          "output_type": "stream",
          "text": [
            " 57%|█████▋    | 1212/2108 [11:52<09:23,  1.59it/s]"
          ]
        },
        {
          "name": "stdout",
          "output_type": "stream",
          "text": [
            "\n",
            "0: 640x640 1 marmoset, 4.2ms\n",
            "Speed: 1.5ms preprocess, 4.2ms inference, 0.8ms postprocess per image at shape (1, 3, 640, 640)\n"
          ]
        },
        {
          "name": "stderr",
          "output_type": "stream",
          "text": [
            " 58%|█████▊    | 1213/2108 [11:53<09:18,  1.60it/s]"
          ]
        },
        {
          "name": "stdout",
          "output_type": "stream",
          "text": [
            "\n",
            "0: 640x640 1 marmoset, 4.2ms\n",
            "Speed: 1.5ms preprocess, 4.2ms inference, 0.8ms postprocess per image at shape (1, 3, 640, 640)\n"
          ]
        },
        {
          "name": "stderr",
          "output_type": "stream",
          "text": [
            " 58%|█████▊    | 1214/2108 [11:53<09:15,  1.61it/s]"
          ]
        },
        {
          "name": "stdout",
          "output_type": "stream",
          "text": [
            "\n",
            "0: 640x640 1 marmoset, 4.2ms\n",
            "Speed: 1.5ms preprocess, 4.2ms inference, 0.8ms postprocess per image at shape (1, 3, 640, 640)\n"
          ]
        },
        {
          "name": "stderr",
          "output_type": "stream",
          "text": [
            " 58%|█████▊    | 1215/2108 [11:54<09:12,  1.62it/s]"
          ]
        },
        {
          "name": "stdout",
          "output_type": "stream",
          "text": [
            "\n",
            "0: 640x640 2 marmosets, 4.3ms\n",
            "Speed: 1.5ms preprocess, 4.3ms inference, 0.8ms postprocess per image at shape (1, 3, 640, 640)\n"
          ]
        },
        {
          "name": "stderr",
          "output_type": "stream",
          "text": [
            " 58%|█████▊    | 1216/2108 [11:54<09:15,  1.61it/s]"
          ]
        },
        {
          "name": "stdout",
          "output_type": "stream",
          "text": [
            "\n",
            "0: 640x640 2 marmosets, 4.3ms\n",
            "Speed: 1.4ms preprocess, 4.3ms inference, 0.8ms postprocess per image at shape (1, 3, 640, 640)\n"
          ]
        },
        {
          "name": "stderr",
          "output_type": "stream",
          "text": [
            " 58%|█████▊    | 1217/2108 [11:55<09:13,  1.61it/s]"
          ]
        },
        {
          "name": "stdout",
          "output_type": "stream",
          "text": [
            "\n",
            "0: 640x640 1 marmoset, 4.3ms\n",
            "Speed: 1.5ms preprocess, 4.3ms inference, 0.8ms postprocess per image at shape (1, 3, 640, 640)\n"
          ]
        },
        {
          "name": "stderr",
          "output_type": "stream",
          "text": [
            " 58%|█████▊    | 1218/2108 [11:56<09:10,  1.62it/s]"
          ]
        },
        {
          "name": "stdout",
          "output_type": "stream",
          "text": [
            "\n",
            "0: 640x640 1 marmoset, 4.3ms\n",
            "Speed: 1.5ms preprocess, 4.3ms inference, 0.8ms postprocess per image at shape (1, 3, 640, 640)\n"
          ]
        },
        {
          "name": "stderr",
          "output_type": "stream",
          "text": [
            " 58%|█████▊    | 1219/2108 [11:56<09:08,  1.62it/s]"
          ]
        },
        {
          "name": "stdout",
          "output_type": "stream",
          "text": [
            "\n",
            "0: 640x640 1 marmoset, 4.2ms\n",
            "Speed: 1.5ms preprocess, 4.2ms inference, 0.8ms postprocess per image at shape (1, 3, 640, 640)\n"
          ]
        },
        {
          "name": "stderr",
          "output_type": "stream",
          "text": [
            " 58%|█████▊    | 1220/2108 [11:57<09:07,  1.62it/s]"
          ]
        },
        {
          "name": "stdout",
          "output_type": "stream",
          "text": [
            "\n",
            "0: 640x640 1 marmoset, 4.2ms\n",
            "Speed: 1.5ms preprocess, 4.2ms inference, 0.8ms postprocess per image at shape (1, 3, 640, 640)\n"
          ]
        },
        {
          "name": "stderr",
          "output_type": "stream",
          "text": [
            " 58%|█████▊    | 1221/2108 [11:58<09:05,  1.63it/s]"
          ]
        },
        {
          "name": "stdout",
          "output_type": "stream",
          "text": [
            "\n",
            "0: 640x640 1 marmoset, 4.2ms\n",
            "Speed: 1.5ms preprocess, 4.2ms inference, 0.8ms postprocess per image at shape (1, 3, 640, 640)\n"
          ]
        },
        {
          "name": "stderr",
          "output_type": "stream",
          "text": [
            " 58%|█████▊    | 1222/2108 [11:58<09:04,  1.63it/s]"
          ]
        },
        {
          "name": "stdout",
          "output_type": "stream",
          "text": [
            "\n",
            "0: 640x640 1 marmoset, 4.2ms\n",
            "Speed: 1.5ms preprocess, 4.2ms inference, 0.8ms postprocess per image at shape (1, 3, 640, 640)\n"
          ]
        },
        {
          "name": "stderr",
          "output_type": "stream",
          "text": [
            " 58%|█████▊    | 1223/2108 [11:59<09:04,  1.63it/s]"
          ]
        },
        {
          "name": "stdout",
          "output_type": "stream",
          "text": [
            "\n",
            "0: 640x640 2 marmosets, 4.2ms\n",
            "Speed: 1.4ms preprocess, 4.2ms inference, 0.8ms postprocess per image at shape (1, 3, 640, 640)\n"
          ]
        },
        {
          "name": "stderr",
          "output_type": "stream",
          "text": [
            " 58%|█████▊    | 1224/2108 [11:59<09:03,  1.63it/s]"
          ]
        },
        {
          "name": "stdout",
          "output_type": "stream",
          "text": [
            "\n",
            "0: 640x640 1 marmoset, 4.2ms\n",
            "Speed: 1.5ms preprocess, 4.2ms inference, 0.8ms postprocess per image at shape (1, 3, 640, 640)\n"
          ]
        },
        {
          "name": "stderr",
          "output_type": "stream",
          "text": [
            " 58%|█████▊    | 1225/2108 [12:00<09:03,  1.63it/s]"
          ]
        },
        {
          "name": "stdout",
          "output_type": "stream",
          "text": [
            "\n",
            "0: 640x640 1 marmoset, 4.2ms\n",
            "Speed: 1.5ms preprocess, 4.2ms inference, 0.8ms postprocess per image at shape (1, 3, 640, 640)\n"
          ]
        },
        {
          "name": "stderr",
          "output_type": "stream",
          "text": [
            " 58%|█████▊    | 1226/2108 [12:01<09:01,  1.63it/s]"
          ]
        },
        {
          "name": "stdout",
          "output_type": "stream",
          "text": [
            "\n",
            "0: 640x640 1 marmoset, 4.2ms\n",
            "Speed: 1.5ms preprocess, 4.2ms inference, 0.8ms postprocess per image at shape (1, 3, 640, 640)\n"
          ]
        },
        {
          "name": "stderr",
          "output_type": "stream",
          "text": [
            " 58%|█████▊    | 1227/2108 [12:01<09:00,  1.63it/s]"
          ]
        },
        {
          "name": "stdout",
          "output_type": "stream",
          "text": [
            "\n",
            "0: 640x640 2 marmosets, 4.2ms\n",
            "Speed: 1.4ms preprocess, 4.2ms inference, 0.8ms postprocess per image at shape (1, 3, 640, 640)\n"
          ]
        },
        {
          "name": "stderr",
          "output_type": "stream",
          "text": [
            " 58%|█████▊    | 1228/2108 [12:02<09:01,  1.63it/s]"
          ]
        },
        {
          "name": "stdout",
          "output_type": "stream",
          "text": [
            "\n",
            "0: 640x640 1 marmoset, 4.2ms\n",
            "Speed: 1.5ms preprocess, 4.2ms inference, 0.8ms postprocess per image at shape (1, 3, 640, 640)\n"
          ]
        },
        {
          "name": "stderr",
          "output_type": "stream",
          "text": [
            " 58%|█████▊    | 1229/2108 [12:02<09:00,  1.63it/s]"
          ]
        },
        {
          "name": "stdout",
          "output_type": "stream",
          "text": [
            "\n",
            "0: 640x640 1 marmoset, 4.3ms\n",
            "Speed: 1.5ms preprocess, 4.3ms inference, 0.8ms postprocess per image at shape (1, 3, 640, 640)\n"
          ]
        },
        {
          "name": "stderr",
          "output_type": "stream",
          "text": [
            " 58%|█████▊    | 1230/2108 [12:03<09:00,  1.63it/s]"
          ]
        },
        {
          "name": "stdout",
          "output_type": "stream",
          "text": [
            "\n",
            "0: 640x640 1 marmoset, 4.3ms\n",
            "Speed: 1.5ms preprocess, 4.3ms inference, 0.8ms postprocess per image at shape (1, 3, 640, 640)\n"
          ]
        },
        {
          "name": "stderr",
          "output_type": "stream",
          "text": [
            " 58%|█████▊    | 1231/2108 [12:04<08:59,  1.63it/s]"
          ]
        },
        {
          "name": "stdout",
          "output_type": "stream",
          "text": [
            "\n",
            "0: 640x640 1 marmoset, 4.0ms\n",
            "Speed: 1.4ms preprocess, 4.0ms inference, 0.8ms postprocess per image at shape (1, 3, 640, 640)\n"
          ]
        },
        {
          "name": "stderr",
          "output_type": "stream",
          "text": [
            " 58%|█████▊    | 1232/2108 [12:04<08:59,  1.62it/s]"
          ]
        },
        {
          "name": "stdout",
          "output_type": "stream",
          "text": [
            "\n",
            "0: 640x640 1 marmoset, 3.9ms\n",
            "Speed: 1.4ms preprocess, 3.9ms inference, 0.7ms postprocess per image at shape (1, 3, 640, 640)\n"
          ]
        },
        {
          "name": "stderr",
          "output_type": "stream",
          "text": [
            " 58%|█████▊    | 1233/2108 [12:05<08:57,  1.63it/s]"
          ]
        },
        {
          "name": "stdout",
          "output_type": "stream",
          "text": [
            "\n",
            "0: 640x640 2 marmosets, 3.9ms\n",
            "Speed: 1.4ms preprocess, 3.9ms inference, 0.7ms postprocess per image at shape (1, 3, 640, 640)\n"
          ]
        },
        {
          "name": "stderr",
          "output_type": "stream",
          "text": [
            " 59%|█████▊    | 1234/2108 [12:06<08:56,  1.63it/s]"
          ]
        },
        {
          "name": "stdout",
          "output_type": "stream",
          "text": [
            "\n",
            "0: 480x640 1 marmoset, 4.2ms\n",
            "Speed: 1.0ms preprocess, 4.2ms inference, 0.7ms postprocess per image at shape (1, 3, 480, 640)\n"
          ]
        },
        {
          "name": "stderr",
          "output_type": "stream",
          "text": [
            " 59%|█████▊    | 1235/2108 [12:06<08:52,  1.64it/s]"
          ]
        },
        {
          "name": "stdout",
          "output_type": "stream",
          "text": [
            "\n",
            "0: 640x640 1 marmoset, 4.2ms\n",
            "Speed: 1.8ms preprocess, 4.2ms inference, 0.7ms postprocess per image at shape (1, 3, 640, 640)\n"
          ]
        },
        {
          "name": "stderr",
          "output_type": "stream",
          "text": [
            " 59%|█████▊    | 1236/2108 [12:07<08:53,  1.64it/s]"
          ]
        },
        {
          "name": "stdout",
          "output_type": "stream",
          "text": [
            "\n",
            "0: 640x640 3 marmosets, 4.0ms\n",
            "Speed: 1.4ms preprocess, 4.0ms inference, 0.7ms postprocess per image at shape (1, 3, 640, 640)\n"
          ]
        }
      ],
      "source": [
        "model = Marmo(\"marmo.pt\", \"./sam_vit_h.pth\")\n",
        "image_paths = glob.glob(\"./test/marmoset-dlc-2021-05-07/labeled-data/reachingvideo1/*.png\")\n",
        "\n",
        "model.predict_images(image_paths, \"./predict/\", mode=\"box\")"
      ]
    },
    {
      "cell_type": "code",
      "execution_count": 30,
      "metadata": {
        "id": "OUDsZfvh7aZW"
      },
      "outputs": [
        {
          "name": "stdout",
          "output_type": "stream",
          "text": [
            "  adding: predict/ (stored 0%)\n",
            "  adding: predict/img01497.png (deflated 3%)\n",
            "  adding: predict/img01926.png (deflated 4%)\n",
            "  adding: predict/img02443.png (deflated 4%)\n",
            "  adding: predict/img02735.png (deflated 4%)\n",
            "  adding: predict/img00807.png (deflated 5%)\n",
            "  adding: predict/img04052.png (deflated 4%)\n",
            "  adding: predict/img04441.png (deflated 4%)\n",
            "  adding: predict/img03357.png (deflated 3%)\n",
            "  adding: predict/img03744.png (deflated 3%)\n",
            "  adding: predict/img06275.png (deflated 4%)\n",
            "  adding: predict/img02416.png (deflated 4%)\n",
            "  adding: predict/img02405.png (deflated 5%)\n",
            "  adding: predict/img06949.png (deflated 7%)\n",
            "  adding: predict/img01464.png (deflated 3%)\n",
            "  adding: predict/img02022.png (deflated 4%)\n",
            "  adding: predict/img04287.png (deflated 4%)\n",
            "  adding: predict/img00999.png (deflated 3%)\n",
            "  adding: predict/img00001.png (deflated 3%)\n",
            "  adding: predict/img03968.png (deflated 4%)\n",
            "  adding: predict/img02675.png (deflated 4%)\n",
            "  adding: predict/img00953.png (deflated 4%)\n",
            "  adding: predict/img00341.png (deflated 3%)\n",
            "  adding: predict/img06244.png (deflated 4%)\n",
            "  adding: predict/img01475.png (deflated 3%)\n",
            "  adding: predict/img00980.png (deflated 3%)\n",
            "  adding: predict/img04863.png (deflated 3%)\n",
            "  adding: predict/img03441.png (deflated 3%)\n",
            "  adding: predict/img01403.png (deflated 3%)\n",
            "  adding: predict/img01392.png (deflated 3%)\n",
            "  adding: predict/img05224.png (deflated 3%)\n",
            "  adding: predict/img01367.png (deflated 4%)\n",
            "  adding: predict/img06593.png (deflated 3%)\n",
            "  adding: predict/img02423.png (deflated 4%)\n",
            "  adding: predict/img03489.png (deflated 3%)\n",
            "  adding: predict/img05042.png (deflated 3%)\n",
            "  adding: predict/img04794.png (deflated 4%)\n",
            "  adding: predict/img04777.png (deflated 2%)\n",
            "  adding: predict/img00394.png (deflated 4%)\n",
            "  adding: predict/img05238.png (deflated 3%)\n",
            "  adding: predict/img03503.png (deflated 4%)\n",
            "  adding: predict/img06168.png (deflated 3%)\n",
            "  adding: predict/img02990.png (deflated 4%)\n",
            "  adding: predict/img03740.png (deflated 3%)\n",
            "  adding: predict/img06947.png (deflated 2%)\n",
            "  adding: predict/img04126.png (deflated 3%)\n",
            "  adding: predict/img04480.png (deflated 3%)\n",
            "  adding: predict/img05422.png (deflated 4%)\n",
            "  adding: predict/img05137.png (deflated 2%)\n",
            "  adding: predict/img06724.png (deflated 3%)\n",
            "  adding: predict/img04336.png (deflated 3%)\n",
            "  adding: predict/img03688.png (deflated 3%)\n",
            "  adding: predict/img05560.png (deflated 4%)\n",
            "  adding: predict/img03169.png (deflated 3%)\n",
            "  adding: predict/img02730.png (deflated 5%)\n",
            "  adding: predict/img03771.png (deflated 3%)\n",
            "  adding: predict/img05075.png (deflated 2%)\n",
            "  adding: predict/img03898.png (deflated 4%)\n",
            "  adding: predict/img06878.png (deflated 3%)\n",
            "  adding: predict/img02445.png (deflated 4%)\n",
            "  adding: predict/img02387.png (deflated 4%)\n",
            "  adding: predict/img02762.png (deflated 4%)\n",
            "  adding: predict/img05345.png (deflated 3%)\n",
            "  adding: predict/img01078.png (deflated 3%)\n",
            "  adding: predict/img02553.png (deflated 4%)\n",
            "  adding: predict/img05267.png (deflated 3%)\n",
            "  adding: predict/img01069.png (deflated 3%)\n",
            "  adding: predict/img06030.png (deflated 4%)\n",
            "  adding: predict/img01836.png (deflated 3%)\n",
            "  adding: predict/img01252.png (deflated 2%)\n",
            "  adding: predict/img03663.png (deflated 3%)\n",
            "  adding: predict/img03522.png (deflated 4%)\n",
            "  adding: predict/img06061.png (deflated 4%)\n",
            "  adding: predict/img06134.png (deflated 4%)\n",
            "  adding: predict/img01041.png (deflated 3%)\n",
            "  adding: predict/img05991.png (deflated 4%)\n",
            "  adding: predict/img05534.png (deflated 4%)\n",
            "  adding: predict/img03723.png (deflated 4%)\n",
            "  adding: predict/img00812.png (deflated 4%)\n",
            "  adding: predict/img04643.png (deflated 2%)\n",
            "  adding: predict/img06507.png (deflated 3%)\n",
            "  adding: predict/img03141.png (deflated 3%)\n",
            "  adding: predict/img03314.png (deflated 3%)\n",
            "  adding: predict/img04198.png (deflated 4%)\n",
            "  adding: predict/img06857.png (deflated 3%)\n",
            "  adding: predict/img04767.png (deflated 2%)\n",
            "  adding: predict/img06406.png (deflated 4%)\n",
            "  adding: predict/img01192.png (deflated 3%)\n",
            "  adding: predict/img02359.png (deflated 4%)\n",
            "  adding: predict/img04901.png (deflated 2%)\n",
            "  adding: predict/img03236.png (deflated 3%)\n",
            "  adding: predict/img05908.png (deflated 3%)\n",
            "  adding: predict/img01429.png (deflated 4%)\n",
            "  adding: predict/img06821.png (deflated 3%)\n",
            "  adding: predict/img04864.png (deflated 3%)\n",
            "  adding: predict/img02650.png (deflated 4%)\n",
            "  adding: predict/img01742.png (deflated 3%)\n",
            "  adding: predict/img01652.png (deflated 3%)\n",
            "  adding: predict/img03929.png (deflated 4%)\n",
            "  adding: predict/img03360.png (deflated 3%)\n",
            "  adding: predict/img05272.png (deflated 2%)\n",
            "  adding: predict/img06961.png (deflated 2%)\n",
            "  adding: predict/img03232.png (deflated 3%)\n",
            "  adding: predict/img05438.png (deflated 3%)\n",
            "  adding: predict/img02852.png (deflated 4%)\n",
            "  adding: predict/img06069.png (deflated 5%)\n",
            "  adding: predict/img02658.png (deflated 4%)\n",
            "  adding: predict/img02372.png (deflated 4%)\n",
            "  adding: predict/img00287.png (deflated 4%)\n",
            "  adding: predict/img06807.png (deflated 2%)\n",
            "  adding: predict/img02586.png (deflated 4%)\n",
            "  adding: predict/img06095.png (deflated 3%)\n",
            "  adding: predict/img04263.png (deflated 3%)\n",
            "  adding: predict/img02558.png (deflated 4%)\n",
            "  adding: predict/img03177.png (deflated 3%)\n",
            "  adding: predict/img05716.png (deflated 4%)\n",
            "  adding: predict/img01627.png (deflated 2%)\n",
            "  adding: predict/img03106.png (deflated 3%)\n",
            "  adding: predict/img02817.png (deflated 3%)\n",
            "  adding: predict/img04690.png (deflated 4%)\n",
            "  adding: predict/img02470.png (deflated 5%)\n",
            "  adding: predict/img00717.png (deflated 3%)\n",
            "  adding: predict/img02302.png (deflated 5%)\n",
            "  adding: predict/img06448.png (deflated 4%)\n",
            "  adding: predict/img03618.png (deflated 3%)\n",
            "  adding: predict/img02656.png (deflated 4%)\n",
            "  adding: predict/img04385.png (deflated 4%)\n",
            "  adding: predict/img06381.png (deflated 3%)\n",
            "  adding: predict/img03283.png (deflated 2%)\n",
            "  adding: predict/img03822.png (deflated 3%)\n",
            "  adding: predict/img05588.png (deflated 2%)\n",
            "  adding: predict/img05987.png (deflated 4%)\n",
            "  adding: predict/img00826.png (deflated 5%)\n",
            "  adding: predict/img02870.png (deflated 5%)\n",
            "  adding: predict/img06582.png (deflated 4%)\n",
            "  adding: predict/img03524.png (deflated 3%)\n",
            "  adding: predict/img00190.png (deflated 4%)\n",
            "  adding: predict/img02186.png (deflated 3%)\n",
            "  adding: predict/img06677.png (deflated 3%)\n",
            "  adding: predict/img01109.png (deflated 3%)\n",
            "  adding: predict/img01135.png (deflated 4%)\n",
            "  adding: predict/img03438.png (deflated 2%)\n",
            "  adding: predict/img03040.png (deflated 3%)\n",
            "  adding: predict/img06222.png (deflated 4%)\n",
            "  adding: predict/img04116.png (deflated 3%)\n",
            "  adding: predict/img01660.png (deflated 3%)\n",
            "  adding: predict/img03039.png (deflated 3%)\n",
            "  adding: predict/img00071.png (deflated 4%)\n",
            "  adding: predict/img04920.png (deflated 4%)\n",
            "  adding: predict/img02027.png (deflated 5%)\n",
            "  adding: predict/img00008.png (deflated 4%)\n",
            "  adding: predict/img04438.png (deflated 4%)\n",
            "  adding: predict/img02505.png (deflated 4%)\n",
            "  adding: predict/img03640.png (deflated 3%)\n",
            "  adding: predict/img00091.png (deflated 4%)\n",
            "  adding: predict/img05520.png (deflated 7%)\n",
            "  adding: predict/img00055.png (deflated 3%)\n",
            "  adding: predict/img02728.png (deflated 5%)\n",
            "  adding: predict/img02665.png (deflated 4%)\n",
            "  adding: predict/img03897.png (deflated 3%)\n",
            "  adding: predict/img00333.png (deflated 4%)\n",
            "  adding: predict/img02996.png (deflated 4%)\n",
            "  adding: predict/img06363.png (deflated 3%)\n",
            "  adding: predict/img03166.png (deflated 3%)\n",
            "  adding: predict/img04209.png (deflated 4%)\n",
            "  adding: predict/img06121.png (deflated 5%)\n",
            "  adding: predict/img03153.png (deflated 4%)\n",
            "  adding: predict/img05352.png (deflated 3%)\n",
            "  adding: predict/img06200.png (deflated 5%)\n",
            "  adding: predict/img03992.png (deflated 3%)\n",
            "  adding: predict/img01390.png (deflated 5%)\n",
            "  adding: predict/img05682.png (deflated 6%)\n",
            "  adding: predict/img03174.png (deflated 3%)\n",
            "  adding: predict/img05485.png (deflated 2%)\n",
            "  adding: predict/img01050.png (deflated 3%)\n",
            "  adding: predict/img06931.png (deflated 2%)\n",
            "  adding: predict/img01594.png (deflated 2%)\n",
            "  adding: predict/img04467.png (deflated 3%)\n",
            "  adding: predict/img05929.png (deflated 4%)\n",
            "  adding: predict/img06983.png (deflated 2%)\n",
            "  adding: predict/img01676.png (deflated 2%)\n",
            "  adding: predict/img06310.png (deflated 3%)\n",
            "  adding: predict/img05302.png (deflated 3%)\n",
            "  adding: predict/img02106.png (deflated 2%)\n",
            "  adding: predict/img02065.png (deflated 3%)\n",
            "  adding: predict/img00375.png (deflated 4%)\n",
            "  adding: predict/img04491.png (deflated 3%)\n",
            "  adding: predict/img00694.png (deflated 3%)\n",
            "  adding: predict/img05194.png (deflated 3%)\n",
            "  adding: predict/img00317.png (deflated 3%)\n",
            "  adding: predict/img01889.png (deflated 4%)\n",
            "  adding: predict/img00523.png (deflated 3%)\n",
            "  adding: predict/img01668.png (deflated 3%)\n",
            "  adding: predict/img03303.png (deflated 3%)\n",
            "  adding: predict/img06692.png (deflated 2%)\n",
            "  adding: predict/img04176.png (deflated 3%)\n",
            "  adding: predict/img03109.png (deflated 3%)\n",
            "  adding: predict/img04594.png (deflated 2%)\n",
            "  adding: predict/img04250.png (deflated 3%)\n",
            "  adding: predict/img05611.png (deflated 2%)\n",
            "  adding: predict/img04678.png (deflated 3%)\n",
            "  adding: predict/img03654.png (deflated 4%)\n",
            "  adding: predict/img03325.png (deflated 3%)\n",
            "  adding: predict/img06715.png (deflated 2%)\n",
            "  adding: predict/img03371.png (deflated 3%)\n",
            "  adding: predict/img02008.png (deflated 3%)\n",
            "  adding: predict/img02149.png (deflated 7%)\n",
            "  adding: predict/img00069.png (deflated 4%)\n",
            "  adding: predict/img00436.png (deflated 4%)\n",
            "  adding: predict/img02683.png (deflated 4%)\n",
            "  adding: predict/img06881.png (deflated 3%)\n",
            "  adding: predict/img04859.png (deflated 4%)\n",
            "  adding: predict/img02512.png (deflated 4%)\n",
            "  adding: predict/img06407.png (deflated 3%)\n",
            "  adding: predict/img00410.png (deflated 4%)\n",
            "  adding: predict/img04226.png (deflated 4%)\n",
            "  adding: predict/img00040.png (deflated 3%)\n",
            "  adding: predict/img05468.png (deflated 2%)\n",
            "  adding: predict/img01762.png (deflated 3%)\n",
            "  adding: predict/img01334.png (deflated 3%)\n",
            "  adding: predict/img03086.png (deflated 3%)\n",
            "  adding: predict/img05083.png (deflated 3%)\n",
            "  adding: predict/img00455.png (deflated 4%)\n",
            "  adding: predict/img06769.png (deflated 2%)\n",
            "  adding: predict/img02150.png (deflated 6%)\n",
            "  adding: predict/img04006.png (deflated 3%)\n",
            "  adding: predict/img01176.png (deflated 3%)\n",
            "  adding: predict/img00483.png (deflated 4%)\n",
            "  adding: predict/img06301.png (deflated 4%)\n",
            "  adding: predict/img05769.png (deflated 3%)\n",
            "  adding: predict/img01696.png (deflated 3%)\n",
            "  adding: predict/img01083.png (deflated 4%)\n",
            "  adding: predict/img05535.png (deflated 5%)\n",
            "  adding: predict/img01277.png (deflated 2%)\n",
            "  adding: predict/img02713.png (deflated 5%)\n",
            "  adding: predict/img04016.png (deflated 4%)\n",
            "  adding: predict/img02628.png (deflated 4%)\n",
            "  adding: predict/img04136.png (deflated 3%)\n",
            "  adding: predict/img02781.png (deflated 4%)\n",
            "  adding: predict/img01608.png (deflated 3%)\n",
            "  adding: predict/img04256.png (deflated 3%)\n",
            "  adding: predict/img03875.png (deflated 4%)\n",
            "  adding: predict/img00646.png (deflated 3%)\n",
            "  adding: predict/img00239.png (deflated 4%)\n",
            "  adding: predict/img00187.png (deflated 3%)\n",
            "  adding: predict/img01713.png (deflated 2%)\n",
            "  adding: predict/img02596.png (deflated 4%)\n",
            "  adding: predict/img05732.png (deflated 5%)\n",
            "  adding: predict/img01979.png (deflated 4%)\n",
            "  adding: predict/img05138.png (deflated 3%)\n",
            "  adding: predict/img02324.png (deflated 4%)\n",
            "  adding: predict/img02717.png (deflated 5%)\n",
            "  adding: predict/img05364.png (deflated 3%)\n",
            "  adding: predict/img02039.png (deflated 3%)\n",
            "  adding: predict/img05521.png (deflated 4%)\n",
            "  adding: predict/img06825.png (deflated 3%)\n",
            "  adding: predict/img02440.png (deflated 4%)\n",
            "  adding: predict/img05746.png (deflated 3%)\n",
            "  adding: predict/img03525.png (deflated 4%)\n",
            "  adding: predict/img03107.png (deflated 3%)\n",
            "  adding: predict/img02206.png (deflated 3%)\n",
            "  adding: predict/img01396.png (deflated 2%)\n",
            "  adding: predict/img00470.png (deflated 4%)\n",
            "  adding: predict/img06217.png (deflated 4%)\n",
            "  adding: predict/img06480.png (deflated 4%)\n",
            "  adding: predict/img03206.png (deflated 3%)\n",
            "  adding: predict/img05461.png (deflated 2%)\n",
            "  adding: predict/img01922.png (deflated 4%)\n",
            "  adding: predict/img00652.png (deflated 4%)\n",
            "  adding: predict/img05593.png (deflated 3%)\n",
            "  adding: predict/img05747.png (deflated 6%)\n",
            "  adding: predict/img05320.png (deflated 3%)\n",
            "  adding: predict/img03701.png (deflated 4%)\n",
            "  adding: predict/img06555.png (deflated 3%)\n",
            "  adding: predict/img05014.png (deflated 3%)\n",
            "  adding: predict/img05700.png (deflated 3%)\n",
            "  adding: predict/img00888.png (deflated 3%)\n",
            "  adding: predict/img04898.png (deflated 2%)\n",
            "  adding: predict/img03904.png (deflated 4%)\n",
            "  adding: predict/img05009.png (deflated 3%)\n",
            "  adding: predict/img00772.png (deflated 4%)\n",
            "  adding: predict/img01260.png (deflated 3%)\n",
            "  adding: predict/img04440.png (deflated 2%)\n",
            "  adding: predict/img00747.png (deflated 3%)\n",
            "  adding: predict/img06768.png (deflated 3%)\n",
            "  adding: predict/img04724.png (deflated 3%)\n",
            "  adding: predict/img02331.png (deflated 4%)\n",
            "  adding: predict/img02575.png (deflated 4%)\n",
            "  adding: predict/img02836.png (deflated 4%)\n",
            "  adding: predict/img06932.png (deflated 3%)\n",
            "  adding: predict/img01376.png (deflated 4%)\n",
            "  adding: predict/img05771.png (deflated 4%)\n",
            "  adding: predict/img01061.png (deflated 2%)\n",
            "  adding: predict/img04613.png (deflated 4%)\n",
            "  adding: predict/img01495.png (deflated 4%)\n",
            "  adding: predict/img05339.png (deflated 3%)\n",
            "  adding: predict/img05062.png (deflated 2%)\n",
            "  adding: predict/img00699.png (deflated 4%)\n",
            "  adding: predict/img03044.png (deflated 3%)\n",
            "  adding: predict/img03793.png (deflated 3%)\n",
            "  adding: predict/img05264.png (deflated 3%)\n",
            "  adding: predict/img05827.png (deflated 4%)\n",
            "  adding: predict/img00775.png (deflated 3%)\n",
            "  adding: predict/img02680.png (deflated 4%)\n",
            "  adding: predict/img03758.png (deflated 3%)\n",
            "  adding: predict/img05542.png (deflated 4%)\n",
            "  adding: predict/img00202.png (deflated 4%)\n",
            "  adding: predict/img05335.png (deflated 4%)\n",
            "  adding: predict/img04517.png (deflated 2%)\n",
            "  adding: predict/img05885.png (deflated 4%)\n",
            "  adding: predict/img06748.png (deflated 3%)\n",
            "  adding: predict/img01791.png (deflated 2%)\n",
            "  adding: predict/img06519.png (deflated 3%)\n",
            "  adding: predict/img02175.png (deflated 4%)\n",
            "  adding: predict/img00377.png (deflated 3%)\n",
            "  adding: predict/img04751.png (deflated 4%)\n",
            "  adding: predict/img03365.png (deflated 3%)\n",
            "  adding: predict/img05141.png (deflated 2%)\n",
            "  adding: predict/img03969.png (deflated 3%)\n",
            "  adding: predict/img02001.png (deflated 4%)\n",
            "  adding: predict/img05309.png (deflated 3%)\n",
            "  adding: predict/img05968.png (deflated 4%)\n",
            "  adding: predict/img03415.png (deflated 2%)\n",
            "  adding: predict/img02457.png (deflated 4%)\n",
            "  adding: predict/img04542.png (deflated 3%)\n",
            "  adding: predict/img02810.png (deflated 4%)\n",
            "  adding: predict/img06016.png (deflated 5%)\n",
            "  adding: predict/img03175.png (deflated 3%)\n",
            "  adding: predict/img01709.png (deflated 2%)\n",
            "  adding: predict/img00126.png (deflated 4%)\n",
            "  adding: predict/img02087.png (deflated 4%)\n",
            "  adding: predict/img05157.png (deflated 3%)\n",
            "  adding: predict/img06826.png (deflated 3%)\n",
            "  adding: predict/img01294.png (deflated 4%)\n",
            "  adding: predict/img00023.png (deflated 3%)\n",
            "  adding: predict/img01419.png (deflated 3%)\n",
            "  adding: predict/img06574.png (deflated 3%)\n",
            "  adding: predict/img02283.png (deflated 3%)\n",
            "  adding: predict/img06374.png (deflated 4%)\n",
            "  adding: predict/img01485.png (deflated 2%)\n",
            "  adding: predict/img06795.png (deflated 3%)\n",
            "  adding: predict/img00465.png (deflated 4%)\n",
            "  adding: predict/img04742.png (deflated 2%)\n",
            "  adding: predict/img06263.png (deflated 4%)\n",
            "  adding: predict/img04970.png (deflated 3%)\n",
            "  adding: predict/img03813.png (deflated 4%)\n",
            "  adding: predict/img04874.png (deflated 3%)\n",
            "  adding: predict/img03229.png (deflated 3%)\n",
            "  adding: predict/img02079.png (deflated 4%)\n",
            "  adding: predict/img02420.png (deflated 4%)\n",
            "  adding: predict/img02648.png (deflated 4%)\n",
            "  adding: predict/img02069.png (deflated 3%)\n",
            "  adding: predict/img06082.png (deflated 4%)\n",
            "  adding: predict/img02667.png (deflated 4%)\n",
            "  adding: predict/img01244.png (deflated 4%)\n",
            "  adding: predict/img02384.png (deflated 5%)\n",
            "  adding: predict/img04968.png (deflated 3%)\n",
            "  adding: predict/img00151.png (deflated 3%)\n",
            "  adding: predict/img01220.png (deflated 2%)\n",
            "  adding: predict/img06230.png (deflated 4%)\n",
            "  adding: predict/img05160.png (deflated 3%)\n",
            "  adding: predict/img03148.png (deflated 3%)\n",
            "  adding: predict/img02305.png (deflated 4%)\n",
            "  adding: predict/img05579.png (deflated 4%)\n",
            "  adding: predict/img02025.png (deflated 4%)\n",
            "  adding: predict/img03133.png (deflated 3%)\n",
            "  adding: predict/img05333.png (deflated 3%)\n",
            "  adding: predict/img04536.png (deflated 4%)\n",
            "  adding: predict/img01535.png (deflated 3%)\n",
            "  adding: predict/img04043.png (deflated 3%)\n",
            "  adding: predict/img02983.png (deflated 4%)\n",
            "  adding: predict/img03901.png (deflated 4%)\n",
            "  adding: predict/img00503.png (deflated 3%)\n",
            "  adding: predict/img02652.png (deflated 4%)\n",
            "  adding: predict/img05884.png (deflated 4%)\n",
            "  adding: predict/img04401.png (deflated 4%)\n",
            "  adding: predict/img03055.png (deflated 3%)\n",
            "  adding: predict/img03426.png (deflated 3%)\n",
            "  adding: predict/img03028.png (deflated 3%)\n",
            "  adding: predict/img02616.png (deflated 4%)\n",
            "  adding: predict/img01920.png (deflated 3%)\n",
            "  adding: predict/img05665.png (deflated 4%)\n",
            "  adding: predict/img02409.png (deflated 4%)\n",
            "  adding: predict/img05789.png (deflated 3%)\n",
            "  adding: predict/img03444.png (deflated 2%)\n",
            "  adding: predict/img04650.png (deflated 3%)\n",
            "  adding: predict/img03768.png (deflated 4%)\n",
            "  adding: predict/img06732.png (deflated 3%)\n",
            "  adding: predict/img05489.png (deflated 4%)\n",
            "  adding: predict/img06522.png (deflated 3%)\n",
            "  adding: predict/img04034.png (deflated 4%)\n",
            "  adding: predict/img00267.png (deflated 3%)\n",
            "  adding: predict/img03954.png (deflated 4%)\n",
            "  adding: predict/img05386.png (deflated 3%)\n",
            "  adding: predict/img04851.png (deflated 4%)\n",
            "  adding: predict/img06745.png (deflated 3%)\n",
            "  adding: predict/img04348.png (deflated 4%)\n",
            "  adding: predict/img02325.png (deflated 5%)\n",
            "  adding: predict/img06047.png (deflated 3%)\n",
            "  adding: predict/img04807.png (deflated 4%)\n",
            "  adding: predict/img04059.png (deflated 3%)\n",
            "  adding: predict/img02194.png (deflated 6%)\n",
            "  adding: predict/img06527.png (deflated 3%)\n",
            "  adding: predict/img02755.png (deflated 3%)\n",
            "  adding: predict/img00997.png (deflated 4%)\n",
            "  adding: predict/img01139.png (deflated 2%)\n",
            "  adding: predict/img05059.png (deflated 2%)\n",
            "  adding: predict/img06127.png (deflated 5%)\n",
            "  adding: predict/img04531.png (deflated 3%)\n",
            "  adding: predict/img06019.png (deflated 4%)\n",
            "  adding: predict/img05324.png (deflated 4%)\n",
            "  adding: predict/img05446.png (deflated 5%)\n",
            "  adding: predict/img00123.png (deflated 4%)\n",
            "  adding: predict/img06340.png (deflated 3%)\n",
            "  adding: predict/img02026.png (deflated 6%)\n",
            "  adding: predict/img05550.png (deflated 4%)\n",
            "  adding: predict/img02747.png (deflated 4%)\n",
            "  adding: predict/img00939.png (deflated 5%)\n",
            "  adding: predict/img02511.png (deflated 4%)\n",
            "  adding: predict/img03976.png (deflated 3%)\n",
            "  adding: predict/img02031.png (deflated 4%)\n",
            "  adding: predict/img04630.png (deflated 3%)\n",
            "  adding: predict/img00612.png (deflated 4%)\n",
            "  adding: predict/img06129.png (deflated 4%)\n",
            "  adding: predict/img00308.png (deflated 3%)\n",
            "  adding: predict/img03306.png (deflated 3%)\n",
            "  adding: predict/img00862.png (deflated 4%)\n",
            "  adding: predict/img04234.png (deflated 12%)\n",
            "  adding: predict/img02120.png (deflated 5%)\n",
            "  adding: predict/img03550.png (deflated 3%)\n",
            "  adding: predict/img02929.png (deflated 4%)\n",
            "  adding: predict/img04223.png (deflated 3%)\n",
            "  adding: predict/img04991.png (deflated 3%)\n",
            "  adding: predict/img01310.png (deflated 3%)\n",
            "  adding: predict/img02534.png (deflated 5%)\n",
            "  adding: predict/img05570.png (deflated 4%)\n",
            "  adding: predict/img02263.png (deflated 4%)\n",
            "  adding: predict/img01125.png (deflated 2%)\n",
            "  adding: predict/img01195.png (deflated 3%)\n",
            "  adding: predict/img06804.png (deflated 2%)\n",
            "  adding: predict/img04372.png (deflated 3%)\n",
            "  adding: predict/img03421.png (deflated 2%)\n",
            "  adding: predict/img05036.png (deflated 3%)\n",
            "  adding: predict/img02733.png (deflated 4%)\n",
            "  adding: predict/img05121.png (deflated 3%)\n",
            "  adding: predict/img02871.png (deflated 4%)\n",
            "  adding: predict/img04386.png (deflated 4%)\n",
            "  adding: predict/img06173.png (deflated 4%)\n",
            "  adding: predict/img00183.png (deflated 3%)\n",
            "  adding: predict/img06941.png (deflated 2%)\n",
            "  adding: predict/img01612.png (deflated 3%)\n",
            "  adding: predict/img01923.png (deflated 10%)\n",
            "  adding: predict/img06388.png (deflated 4%)\n",
            "  adding: predict/img04354.png (deflated 4%)\n",
            "  adding: predict/img04162.png (deflated 4%)\n",
            "  adding: predict/img02295.png (deflated 5%)\n",
            "  adding: predict/img05078.png (deflated 2%)\n",
            "  adding: predict/img06428.png (deflated 4%)\n",
            "  adding: predict/img06999.png (deflated 2%)\n",
            "  adding: predict/img06743.png (deflated 2%)\n",
            "  adding: predict/img01086.png (deflated 2%)\n",
            "  adding: predict/img02985.png (deflated 3%)\n",
            "  adding: predict/img02821.png (deflated 3%)\n",
            "  adding: predict/img04174.png (deflated 3%)\n",
            "  adding: predict/img05979.png (deflated 4%)\n",
            "  adding: predict/img05578.png (deflated 3%)\n",
            "  adding: predict/img01206.png (deflated 2%)\n",
            "  adding: predict/img04371.png (deflated 3%)\n",
            "  adding: predict/img02082.png (deflated 4%)\n",
            "  adding: predict/img03152.png (deflated 3%)\n",
            "  adding: predict/img00707.png (deflated 4%)\n",
            "  adding: predict/img06747.png (deflated 3%)\n",
            "  adding: predict/img01959.png (deflated 4%)\n",
            "  adding: predict/img01446.png (deflated 3%)\n",
            "  adding: predict/img04167.png (deflated 4%)\n",
            "  adding: predict/img03747.png (deflated 4%)\n",
            "  adding: predict/img00629.png (deflated 4%)\n",
            "  adding: predict/img00146.png (deflated 4%)\n",
            "  adding: predict/img00112.png (deflated 3%)\n",
            "  adding: predict/img05939.png (deflated 4%)\n",
            "  adding: predict/img06026.png (deflated 4%)\n",
            "  adding: predict/img01029.png (deflated 2%)\n",
            "  adding: predict/img03338.png (deflated 4%)\n",
            "  adding: predict/img05423.png (deflated 10%)\n",
            "  adding: predict/img02881.png (deflated 4%)\n",
            "  adding: predict/img03398.png (deflated 3%)\n",
            "  adding: predict/img02374.png (deflated 5%)\n",
            "  adding: predict/img02016.png (deflated 3%)\n",
            "  adding: predict/img02396.png (deflated 5%)\n",
            "  adding: predict/img00492.png (deflated 3%)\n",
            "  adding: predict/img06497.png (deflated 3%)\n",
            "  adding: predict/img04472.png (deflated 3%)\n",
            "  adding: predict/img00940.png (deflated 2%)\n",
            "  adding: predict/img00456.png (deflated 4%)\n",
            "  adding: predict/img06970.png (deflated 2%)\n",
            "  adding: predict/img03001.png (deflated 3%)\n",
            "  adding: predict/img06728.png (deflated 3%)\n",
            "  adding: predict/img06338.png (deflated 4%)\n",
            "  adding: predict/img02385.png (deflated 4%)\n",
            "  adding: predict/img05874.png (deflated 4%)\n",
            "  adding: predict/img02555.png (deflated 3%)\n",
            "  adding: predict/img02216.png (deflated 4%)\n",
            "  adding: predict/img01688.png (deflated 4%)\n",
            "  adding: predict/img06955.png (deflated 3%)\n",
            "  adding: predict/img05478.png (deflated 5%)\n",
            "  adding: predict/img01375.png (deflated 2%)\n",
            "  adding: predict/img03207.png (deflated 3%)\n",
            "  adding: predict/img04439.png (deflated 5%)\n",
            "  adding: predict/img00750.png (deflated 3%)\n",
            "  adding: predict/img04749.png (deflated 2%)\n",
            "  adding: predict/img06868.png (deflated 3%)\n",
            "  adding: predict/img00383.png (deflated 4%)\n",
            "  adding: predict/img01522.png (deflated 2%)\n",
            "  adding: predict/img01826.png (deflated 3%)\n",
            "  adding: predict/img05945.png (deflated 5%)\n",
            "  adding: predict/img05457.png (deflated 4%)\n",
            "  adding: predict/img01331.png (deflated 4%)\n",
            "  adding: predict/img06886.png (deflated 2%)\n",
            "  adding: predict/img05697.png (deflated 4%)\n",
            "  adding: predict/img05634.png (deflated 3%)\n",
            "  adding: predict/img01770.png (deflated 4%)\n",
            "  adding: predict/img03171.png (deflated 3%)\n",
            "  adding: predict/img06777.png (deflated 3%)\n",
            "  adding: predict/img00085.png (deflated 3%)\n",
            "  adding: predict/img02952.png (deflated 4%)\n",
            "  adding: predict/img01342.png (deflated 2%)\n",
            "  adding: predict/img05065.png (deflated 2%)\n",
            "  adding: predict/img06694.png (deflated 3%)\n",
            "  adding: predict/img01519.png (deflated 3%)\n",
            "  adding: predict/img04506.png (deflated 3%)\n",
            "  adding: predict/img01319.png (deflated 3%)\n",
            "  adding: predict/img02924.png (deflated 4%)\n",
            "  adding: predict/img03006.png (deflated 3%)\n",
            "  adding: predict/img03294.png (deflated 3%)\n",
            "  adding: predict/img06759.png (deflated 3%)\n",
            "  adding: predict/img00288.png (deflated 3%)\n",
            "  adding: predict/img01028.png (deflated 2%)\n",
            "  adding: predict/img02063.png (deflated 2%)\n",
            "  adding: predict/img04604.png (deflated 3%)\n",
            "  adding: predict/img06413.png (deflated 4%)\n",
            "  adding: predict/img00592.png (deflated 4%)\n",
            "  adding: predict/img03374.png (deflated 3%)\n",
            "  adding: predict/img01168.png (deflated 3%)\n",
            "  adding: predict/img01323.png (deflated 3%)\n",
            "  adding: predict/img06771.png (deflated 3%)\n",
            "  adding: predict/img05101.png (deflated 2%)\n",
            "  adding: predict/img00529.png (deflated 4%)\n",
            "  adding: predict/img00178.png (deflated 3%)\n",
            "  adding: predict/img05949.png (deflated 4%)\n",
            "  adding: predict/img04124.png (deflated 4%)\n",
            "  adding: predict/img04281.png (deflated 3%)\n",
            "  adding: predict/img06052.png (deflated 4%)\n",
            "  adding: predict/img00668.png (deflated 4%)\n",
            "  adding: predict/img02838.png (deflated 4%)\n",
            "  adding: predict/img01058.png (deflated 4%)\n",
            "  adding: predict/img04045.png (deflated 3%)\n",
            "  adding: predict/img02012.png (deflated 2%)\n",
            "  adding: predict/img02700.png (deflated 5%)\n",
            "  adding: predict/img00466.png (deflated 3%)\n",
            "  adding: predict/img03162.png (deflated 3%)\n",
            "  adding: predict/img03253.png (deflated 3%)\n",
            "  adding: predict/img02563.png (deflated 4%)\n",
            "  adding: predict/img06580.png (deflated 3%)\n",
            "  adding: predict/img00844.png (deflated 3%)\n",
            "  adding: predict/img05244.png (deflated 2%)\n",
            "  adding: predict/img06979.png (deflated 3%)\n",
            "  adding: predict/img01335.png (deflated 3%)\n",
            "  adding: predict/img02046.png (deflated 4%)\n",
            "  adding: predict/img00998.png (deflated 2%)\n",
            "  adding: predict/img01296.png (deflated 3%)\n",
            "  adding: predict/img02514.png (deflated 5%)\n",
            "  adding: predict/img01798.png (deflated 4%)\n",
            "  adding: predict/img03539.png (deflated 4%)\n",
            "  adding: predict/img01070.png (deflated 3%)\n",
            "  adding: predict/img03948.png (deflated 3%)\n",
            "  adding: predict/img03784.png (deflated 3%)\n",
            "  adding: predict/img05486.png (deflated 4%)\n",
            "  adding: predict/img02315.png (deflated 4%)\n",
            "  adding: predict/img06789.png (deflated 3%)\n",
            "  adding: predict/img06087.png (deflated 4%)\n",
            "  adding: predict/img01629.png (deflated 2%)\n",
            "  adding: predict/img00526.png (deflated 4%)\n",
            "  adding: predict/img02513.png (deflated 4%)\n",
            "  adding: predict/img00035.png (deflated 4%)\n",
            "  adding: predict/img00362.png (deflated 4%)\n",
            "  adding: predict/img04540.png (deflated 3%)\n",
            "  adding: predict/img01401.png (deflated 2%)\n",
            "  adding: predict/img04856.png (deflated 4%)\n",
            "  adding: predict/img01686.png (deflated 11%)\n",
            "  adding: predict/img04076.png (deflated 4%)\n",
            "  adding: predict/img00364.png (deflated 3%)\n",
            "  adding: predict/img06838.png (deflated 4%)\n",
            "  adding: predict/img04311.png (deflated 4%)\n",
            "  adding: predict/img06502.png (deflated 3%)\n",
            "  adding: predict/img01971.png (deflated 5%)\n",
            "  adding: predict/img00974.png (deflated 3%)\n",
            "  adding: predict/img06560.png (deflated 3%)\n",
            "  adding: predict/img06968.png (deflated 2%)\n",
            "  adding: predict/img02428.png (deflated 4%)\n",
            "  adding: predict/img05877.png (deflated 5%)\n",
            "  adding: predict/img01104.png (deflated 3%)\n",
            "  adding: predict/img03878.png (deflated 3%)\n",
            "  adding: predict/img02172.png (deflated 3%)\n",
            "  adding: predict/img03414.png (deflated 3%)\n",
            "  adding: predict/img00715.png (deflated 3%)\n",
            "  adding: predict/img01695.png (deflated 2%)\n",
            "  adding: predict/img02837.png (deflated 5%)\n",
            "  adding: predict/img05312.png (deflated 3%)\n",
            "  adding: predict/img03197.png (deflated 3%)\n",
            "  adding: predict/img01717.png (deflated 4%)\n",
            "  adding: predict/img05886.png (deflated 5%)\n",
            "  adding: predict/img00554.png (deflated 3%)\n",
            "  adding: predict/img00517.png (deflated 3%)\n",
            "  adding: predict/img06325.png (deflated 4%)\n",
            "  adding: predict/img06842.png (deflated 3%)\n",
            "  adding: predict/img03820.png (deflated 3%)\n",
            "  adding: predict/img05003.png (deflated 3%)\n",
            "  adding: predict/img00711.png (deflated 3%)\n",
            "  adding: predict/img00491.png (deflated 4%)\n",
            "  adding: predict/img03318.png (deflated 3%)\n",
            "  adding: predict/img03411.png (deflated 3%)\n",
            "  adding: predict/img02961.png (deflated 4%)\n",
            "  adding: predict/img05424.png (deflated 3%)\n",
            "  adding: predict/img06495.png (deflated 4%)\n",
            "  adding: predict/img04005.png (deflated 4%)\n",
            "  adding: predict/img05284.png (deflated 3%)\n",
            "  adding: predict/img02231.png (deflated 5%)\n",
            "  adding: predict/img06634.png (deflated 3%)\n",
            "  adding: predict/img06874.png (deflated 3%)\n",
            "  adding: predict/img01575.png (deflated 2%)\n",
            "  adding: predict/img00472.png (deflated 4%)\n",
            "  adding: predict/img00057.png (deflated 4%)\n",
            "  adding: predict/img04575.png (deflated 3%)\n",
            "  adding: predict/img06829.png (deflated 3%)\n",
            "  adding: predict/img04718.png (deflated 3%)\n",
            "  adding: predict/img01807.png (deflated 5%)\n",
            "  adding: predict/img02005.png (deflated 3%)\n",
            "  adding: predict/img03352.png (deflated 4%)\n",
            "  adding: predict/img06489.png (deflated 4%)\n",
            "  adding: predict/img06333.png (deflated 4%)\n",
            "  adding: predict/img03393.png (deflated 3%)\n",
            "  adding: predict/img03348.png (deflated 3%)\n",
            "  adding: predict/img03564.png (deflated 3%)\n",
            "  adding: predict/img02498.png (deflated 5%)\n",
            "  adding: predict/img03566.png (deflated 3%)\n",
            "  adding: predict/img02411.png (deflated 4%)\n",
            "  adding: predict/img05060.png (deflated 2%)\n",
            "  adding: predict/img00105.png (deflated 4%)\n",
            "  adding: predict/img00962.png (deflated 3%)\n",
            "  adding: predict/img05703.png (deflated 3%)\n",
            "  adding: predict/img04361.png (deflated 3%)\n",
            "  adding: predict/img05079.png (deflated 2%)\n",
            "  adding: predict/img06996.png (deflated 3%)\n",
            "  adding: predict/img01558.png (deflated 3%)\n",
            "  adding: predict/img05490.png (deflated 4%)\n",
            "  adding: predict/img03993.png (deflated 4%)\n",
            "  adding: predict/img06552.png (deflated 3%)\n",
            "  adding: predict/img03222.png (deflated 3%)\n",
            "  adding: predict/img03080.png (deflated 3%)\n",
            "  adding: predict/img01633.png (deflated 3%)\n",
            "  adding: predict/img00679.png (deflated 3%)\n",
            "  adding: predict/img04603.png (deflated 2%)\n",
            "  adding: predict/img02432.png (deflated 4%)\n",
            "  adding: predict/img02177.png (deflated 6%)\n",
            "  adding: predict/img01301.png (deflated 4%)\n",
            "  adding: predict/img03089.png (deflated 3%)\n",
            "  adding: predict/img03796.png (deflated 4%)\n",
            "  adding: predict/img06237.png (deflated 5%)\n",
            "  adding: predict/img01968.png (deflated 2%)\n",
            "  adding: predict/img02238.png (deflated 5%)\n",
            "  adding: predict/img05864.png (deflated 4%)\n",
            "  adding: predict/img04818.png (deflated 4%)\n",
            "  adding: predict/img05142.png (deflated 2%)\n",
            "  adding: predict/img00759.png (deflated 3%)\n",
            "  adding: predict/img04331.png (deflated 5%)\n",
            "  adding: predict/img01758.png (deflated 3%)\n",
            "  adding: predict/img01973.png (deflated 4%)\n",
            "  adding: predict/img01647.png (deflated 2%)\n",
            "  adding: predict/img04017.png (deflated 3%)\n",
            "  adding: predict/img04067.png (deflated 4%)\n",
            "  adding: predict/img02795.png (deflated 3%)\n",
            "  adding: predict/img00913.png (deflated 5%)\n",
            "  adding: predict/img03628.png (deflated 3%)\n",
            "  adding: predict/img05793.png (deflated 2%)\n",
            "  adding: predict/img02161.png (deflated 5%)\n",
            "  adding: predict/img00289.png (deflated 3%)\n",
            "  adding: predict/img06908.png (deflated 3%)\n",
            "  adding: predict/img02010.png (deflated 2%)\n",
            "  adding: predict/img05290.png (deflated 3%)\n",
            "  adding: predict/img05294.png (deflated 2%)\n",
            "  adding: predict/img03450.png (deflated 2%)\n",
            "  adding: predict/img04502.png (deflated 3%)\n",
            "  adding: predict/img02863.png (deflated 3%)\n",
            "  adding: predict/img05310.png (deflated 3%)\n",
            "  adding: predict/img06293.png (deflated 4%)\n",
            "  adding: predict/img01869.png (deflated 3%)\n",
            "  adding: predict/img00464.png (deflated 3%)\n",
            "  adding: predict/img00691.png (deflated 4%)\n",
            "  adding: predict/img02677.png (deflated 4%)\n",
            "  adding: predict/img05941.png (deflated 5%)\n",
            "  adding: predict/img02054.png (deflated 3%)\n",
            "  adding: predict/img01928.png (deflated 4%)\n",
            "  adding: predict/img03867.png (deflated 4%)\n",
            "  adding: predict/img06894.png (deflated 3%)\n",
            "  adding: predict/img00314.png (deflated 3%)\n",
            "  adding: predict/img01040.png (deflated 3%)\n",
            "  adding: predict/img05505.png (deflated 3%)\n",
            "  adding: predict/img05629.png (deflated 1%)\n",
            "  adding: predict/img05395.png (deflated 3%)\n",
            "  adding: predict/img04308.png (deflated 5%)\n",
            "  adding: predict/img02646.png (deflated 4%)\n",
            "  adding: predict/img00173.png (deflated 3%)\n",
            "  adding: predict/img06375.png (deflated 4%)\n",
            "  adding: predict/img05903.png (deflated 4%)\n",
            "  adding: predict/img00439.png (deflated 4%)\n",
            "  adding: predict/img06640.png (deflated 2%)\n",
            "  adding: predict/img03319.png (deflated 3%)\n",
            "  adding: predict/img06049.png (deflated 4%)\n",
            "  adding: predict/img00786.png (deflated 3%)\n",
            "  adding: predict/img02706.png (deflated 4%)\n",
            "  adding: predict/img01378.png (deflated 4%)\n",
            "  adding: predict/img04763.png (deflated 4%)\n",
            "  adding: predict/img00611.png (deflated 3%)\n",
            "  adding: predict/img01499.png (deflated 3%)\n",
            "  adding: predict/img06452.png (deflated 3%)\n",
            "  adding: predict/img06042.png (deflated 5%)\n",
            "  adding: predict/img00220.png (deflated 4%)\n",
            "  adding: predict/img03347.png (deflated 2%)\n",
            "  adding: predict/img04100.png (deflated 4%)\n",
            "  adding: predict/img02543.png (deflated 3%)\n",
            "  adding: predict/img00094.png (deflated 4%)\n",
            "  adding: predict/img04895.png (deflated 2%)\n",
            "  adding: predict/img04524.png (deflated 3%)\n",
            "  adding: predict/img05694.png (deflated 6%)\n",
            "  adding: predict/img00749.png (deflated 3%)\n",
            "  adding: predict/img00268.png (deflated 4%)\n",
            "  adding: predict/img02173.png (deflated 3%)\n",
            "  adding: predict/img00058.png (deflated 3%)\n",
            "  adding: predict/img05072.png (deflated 3%)\n",
            "  adding: predict/img04326.png (deflated 5%)\n",
            "  adding: predict/img03007.png (deflated 3%)\n",
            "  adding: predict/img00553.png (deflated 4%)\n",
            "  adding: predict/img04030.png (deflated 4%)\n",
            "  adding: predict/img03220.png (deflated 2%)\n",
            "  adding: predict/img05851.png (deflated 6%)\n",
            "  adding: predict/img01364.png (deflated 3%)\n",
            "  adding: predict/img02446.png (deflated 4%)\n",
            "  adding: predict/img02679.png (deflated 4%)\n",
            "  adding: predict/img06349.png (deflated 4%)\n",
            "  adding: predict/img01833.png (deflated 3%)\n",
            "  adding: predict/img00582.png (deflated 4%)\n",
            "  adding: predict/img03562.png (deflated 3%)\n",
            "  adding: predict/img05896.png (deflated 5%)\n",
            "  adding: predict/img04046.png (deflated 3%)\n",
            "  adding: predict/img04431.png (deflated 3%)\n",
            "  adding: predict/img00225.png (deflated 4%)\n",
            "  adding: predict/img01486.png (deflated 3%)\n",
            "  adding: predict/img01977.png (deflated 3%)\n",
            "  adding: predict/img06738.png (deflated 3%)\n",
            "  adding: predict/img06583.png (deflated 3%)\n",
            "  adding: predict/img06281.png (deflated 4%)\n",
            "  adding: predict/img01690.png (deflated 2%)\n",
            "  adding: predict/img04671.png (deflated 4%)\n",
            "  adding: predict/img06672.png (deflated 3%)\n",
            "  adding: predict/img05116.png (deflated 3%)\n",
            "  adding: predict/img05531.png (deflated 3%)\n",
            "  adding: predict/img04152.png (deflated 4%)\n",
            "  adding: predict/img00938.png (deflated 4%)\n",
            "  adding: predict/img03656.png (deflated 3%)\n",
            "  adding: predict/img04840.png (deflated 3%)\n",
            "  adding: predict/img06296.png (deflated 4%)\n",
            "  adding: predict/img05452.png (deflated 4%)\n",
            "  adding: predict/img02645.png (deflated 4%)\n",
            "  adding: predict/img03680.png (deflated 4%)\n",
            "  adding: predict/img03779.png (deflated 3%)\n",
            "  adding: predict/img06437.png (deflated 5%)\n",
            "  adding: predict/img01621.png (deflated 3%)\n",
            "  adding: predict/img03459.png (deflated 3%)\n",
            "  adding: predict/img03894.png (deflated 4%)\n",
            "  adding: predict/img05962.png (deflated 4%)\n",
            "  adding: predict/img01548.png (deflated 4%)\n",
            "  adding: predict/img01985.png (deflated 2%)\n",
            "  adding: predict/img03521.png (deflated 3%)\n",
            "  adding: predict/img06390.png (deflated 4%)\n",
            "  adding: predict/img03340.png (deflated 3%)\n",
            "  adding: predict/img03728.png (deflated 3%)\n",
            "  adding: predict/img06895.png (deflated 3%)\n",
            "  adding: predict/img03243.png (deflated 2%)\n",
            "  adding: predict/img03952.png (deflated 4%)\n",
            "  adding: predict/img04236.png (deflated 3%)\n",
            "  adding: predict/img03263.png (deflated 3%)\n",
            "  adding: predict/img06919.png (deflated 3%)\n",
            "  adding: predict/img02136.png (deflated 3%)\n",
            "  adding: predict/img03372.png (deflated 4%)\n",
            "  adding: predict/img03464.png (deflated 2%)\n",
            "  adding: predict/img06292.png (deflated 3%)\n",
            "  adding: predict/img02791.png (deflated 4%)\n",
            "  adding: predict/img06058.png (deflated 3%)\n",
            "  adding: predict/img02306.png (deflated 4%)\n",
            "  adding: predict/img00262.png (deflated 3%)\n",
            "  adding: predict/img00303.png (deflated 4%)\n",
            "  adding: predict/img00497.png (deflated 3%)\n",
            "  adding: predict/img06395.png (deflated 4%)\n",
            "  adding: predict/img05630.png (deflated 2%)\n",
            "  adding: predict/img00768.png (deflated 3%)\n",
            "  adding: predict/img05269.png (deflated 3%)\n",
            "  adding: predict/img03582.png (deflated 3%)\n",
            "  adding: predict/img06526.png (deflated 3%)\n",
            "  adding: predict/img06664.png (deflated 3%)\n",
            "  adding: predict/img04255.png (deflated 3%)\n",
            "  adding: predict/img01144.png (deflated 3%)\n",
            "  adding: predict/img01448.png (deflated 3%)\n",
            "  adding: predict/img03735.png (deflated 4%)\n",
            "  adding: predict/img03013.png (deflated 3%)\n",
            "  adding: predict/img03344.png (deflated 3%)\n",
            "  adding: predict/img04343.png (deflated 4%)\n",
            "  adding: predict/img01803.png (deflated 3%)\n",
            "  adding: predict/img05289.png (deflated 2%)\n",
            "  adding: predict/img04111.png (deflated 3%)\n",
            "  adding: predict/img06108.png (deflated 4%)\n",
            "  adding: predict/img04020.png (deflated 4%)\n",
            "  adding: predict/img05013.png (deflated 3%)\n",
            "  adding: predict/img03742.png (deflated 3%)\n",
            "  adding: predict/img06570.png (deflated 3%)\n",
            "  adding: predict/img03078.png (deflated 3%)\n",
            "  adding: predict/img02224.png (deflated 3%)\n",
            "  adding: predict/img04068.png (deflated 4%)\n",
            "  adding: predict/img05844.png (deflated 5%)\n",
            "  adding: predict/img03382.png (deflated 4%)\n",
            "  adding: predict/img02846.png (deflated 4%)\n",
            "  adding: predict/img00052.png (deflated 5%)\n",
            "  adding: predict/img03180.png (deflated 3%)\n",
            "  adding: predict/img00164.png (deflated 4%)\n",
            "  adding: predict/img06876.png (deflated 3%)\n",
            "  adding: predict/img06466.png (deflated 4%)\n",
            "  adding: predict/img06815.png (deflated 3%)\n",
            "  adding: predict/img05103.png (deflated 3%)\n",
            "  adding: predict/img00502.png (deflated 4%)\n",
            "  adding: predict/img03470.png (deflated 2%)\n",
            "  adding: predict/img05782.png (deflated 3%)\n",
            "  adding: predict/img05633.png (deflated 4%)\n",
            "  adding: predict/img06022.png (deflated 3%)\n",
            "  adding: predict/img03914.png (deflated 3%)\n",
            "  adding: predict/img02991.png (deflated 3%)\n",
            "  adding: predict/img05862.png (deflated 4%)\n",
            "  adding: predict/img03449.png (deflated 2%)\n",
            "  adding: predict/img01133.png (deflated 4%)\n",
            "  adding: predict/img00641.png (deflated 3%)\n",
            "  adding: predict/img06170.png (deflated 3%)\n",
            "  adding: predict/img03178.png (deflated 3%)\n",
            "  adding: predict/img00286.png (deflated 3%)\n",
            "  adding: predict/img06380.png (deflated 4%)\n",
            "  adding: predict/img04938.png (deflated 2%)\n",
            "  adding: predict/img06696.png (deflated 3%)\n",
            "  adding: predict/img02154.png (deflated 3%)\n",
            "  adding: predict/img00235.png (deflated 4%)\n",
            "  adding: predict/img02951.png (deflated 5%)\n",
            "  adding: predict/img04993.png (deflated 3%)\n",
            "  adding: predict/img00275.png (deflated 4%)\n",
            "  adding: predict/img06462.png (deflated 4%)\n",
            "  adding: predict/img06332.png (deflated 4%)\n",
            "  adding: predict/img05104.png (deflated 2%)\n",
            "  adding: predict/img05259.png (deflated 2%)\n",
            "  adding: predict/img01620.png (deflated 3%)\n",
            "  adding: predict/img03105.png (deflated 3%)\n",
            "  adding: predict/img04754.png (deflated 3%)\n",
            "  adding: predict/img06172.png (deflated 4%)\n",
            "  adding: predict/img05483.png (deflated 3%)\n",
            "  adding: predict/img01683.png (deflated 4%)\n",
            "  adding: predict/img00736.png (deflated 3%)\n",
            "  adding: predict/img03987.png (deflated 4%)\n",
            "  adding: predict/img04546.png (deflated 2%)\n",
            "  adding: predict/img01868.png (deflated 3%)\n",
            "  adding: predict/img05148.png (deflated 3%)\n",
            "  adding: predict/img04641.png (deflated 3%)\n",
            "  adding: predict/img03431.png (deflated 2%)\n",
            "  adding: predict/img05070.png (deflated 3%)\n",
            "  adding: predict/img02486.png (deflated 4%)\n",
            "  adding: predict/img04746.png (deflated 2%)\n",
            "  adding: predict/img05973.png (deflated 4%)\n",
            "  adding: predict/img01218.png (deflated 3%)\n",
            "  adding: predict/img04876.png (deflated 4%)\n",
            "  adding: predict/img00761.png (deflated 3%)\n",
            "  adding: predict/img05731.png (deflated 5%)\n",
            "  adding: predict/img04482.png (deflated 3%)\n",
            "  adding: predict/img04694.png (deflated 3%)\n",
            "  adding: predict/img01067.png (deflated 4%)\n",
            "  adding: predict/img05366.png (deflated 3%)\n",
            "  adding: predict/img00660.png (deflated 4%)\n",
            "  adding: predict/img01816.png (deflated 11%)\n",
            "  adding: predict/img06524.png (deflated 3%)\n",
            "  adding: predict/img04532.png (deflated 3%)\n",
            "  adding: predict/img06261.png (deflated 5%)\n",
            "  adding: predict/img03717.png (deflated 4%)\n",
            "  adding: predict/img05983.png (deflated 4%)\n",
            "  adding: predict/img03233.png (deflated 3%)\n",
            "  adding: predict/img02187.png (deflated 3%)\n",
            "  adding: predict/img01504.png (deflated 3%)\n",
            "  adding: predict/img00706.png (deflated 4%)\n",
            "  adding: predict/img06547.png (deflated 3%)\n",
            "  adding: predict/img02072.png (deflated 5%)\n",
            "  adding: predict/img06344.png (deflated 4%)\n",
            "  adding: predict/img06429.png (deflated 4%)\n",
            "  adding: predict/img03460.png (deflated 2%)\n",
            "  adding: predict/img00281.png (deflated 4%)\n",
            "  adding: predict/img04699.png (deflated 2%)\n",
            "  adding: predict/img05667.png (deflated 4%)\n",
            "  adding: predict/img01137.png (deflated 4%)\n",
            "  adding: predict/img06165.png (deflated 4%)\n",
            "  adding: predict/img06518.png (deflated 3%)\n",
            "  adding: predict/img06154.png (deflated 5%)\n",
            "  adding: predict/img00217.png (deflated 3%)\n",
            "  adding: predict/img06869.png (deflated 3%)\n",
            "  adding: predict/img00039.png (deflated 4%)\n",
            "  adding: predict/img02160.png (deflated 2%)\n",
            "  adding: predict/img05275.png (deflated 4%)\n",
            "  adding: predict/img06077.png (deflated 5%)\n",
            "  adding: predict/img01457.png (deflated 3%)\n",
            "  adding: predict/img05895.png (deflated 4%)\n",
            "  adding: predict/img06718.png (deflated 3%)\n",
            "  adding: predict/img06149.png (deflated 4%)\n",
            "  adding: predict/img05249.png (deflated 3%)\n",
            "  adding: predict/img00760.png (deflated 3%)\n",
            "  adding: predict/img01404.png (deflated 3%)\n",
            "  adding: predict/img04355.png (deflated 5%)\n",
            "  adding: predict/img04905.png (deflated 2%)\n",
            "  adding: predict/img02271.png (deflated 4%)\n",
            "  adding: predict/img05236.png (deflated 3%)\n",
            "  adding: predict/img00581.png (deflated 4%)\n",
            "  adding: predict/img01090.png (deflated 3%)\n",
            "  adding: predict/img03465.png (deflated 2%)\n",
            "  adding: predict/img03873.png (deflated 3%)\n",
            "  adding: predict/img06761.png (deflated 3%)\n",
            "  adding: predict/img05420.png (deflated 3%)\n",
            "  adding: predict/img01209.png (deflated 2%)\n",
            "  adding: predict/img03677.png (deflated 4%)\n",
            "  adding: predict/img05673.png (deflated 3%)\n",
            "  adding: predict/img02684.png (deflated 4%)\n",
            "  adding: predict/img03057.png (deflated 3%)\n",
            "  adding: predict/img02476.png (deflated 4%)\n",
            "  adding: predict/img04264.png (deflated 3%)\n",
            "  adding: predict/img00412.png (deflated 3%)\n",
            "  adding: predict/img02587.png (deflated 4%)\n",
            "  adding: predict/img02927.png (deflated 3%)\n",
            "  adding: predict/img02670.png (deflated 4%)\n",
            "  adding: predict/img04716.png (deflated 3%)\n",
            "  adding: predict/img04545.png (deflated 4%)\n",
            "  adding: predict/img06700.png (deflated 3%)\n",
            "  adding: predict/img02763.png (deflated 4%)\n",
            "  adding: predict/img01871.png (deflated 4%)\n",
            "  adding: predict/img04979.png (deflated 2%)\n",
            "  adding: predict/img05988.png (deflated 3%)\n",
            "  adding: predict/img02497.png (deflated 3%)\n",
            "  adding: predict/img00985.png (deflated 2%)\n",
            "  adding: predict/img00619.png (deflated 4%)\n",
            "  adding: predict/img01177.png (deflated 3%)\n",
            "  adding: predict/img03535.png (deflated 4%)\n",
            "  adding: predict/img02167.png (deflated 4%)\n",
            "  adding: predict/img01544.png (deflated 3%)\n",
            "  adding: predict/img00773.png (deflated 3%)\n",
            "  adding: predict/img05349.png (deflated 3%)\n",
            "  adding: predict/img05986.png (deflated 4%)\n",
            "  adding: predict/img03782.png (deflated 4%)\n",
            "  adding: predict/img02234.png (deflated 6%)\n",
            "  adding: predict/img03337.png (deflated 3%)\n",
            "  adding: predict/img05418.png (deflated 3%)\n",
            "  adding: predict/img03218.png (deflated 3%)\n",
            "  adding: predict/img03755.png (deflated 4%)\n",
            "  adding: predict/img01167.png (deflated 2%)\n",
            "  adding: predict/img06092.png (deflated 3%)\n",
            "  adding: predict/img06368.png (deflated 4%)\n",
            "  adding: predict/img05705.png (deflated 3%)\n",
            "  adding: predict/img05650.png (deflated 6%)\n",
            "  adding: predict/img03140.png (deflated 2%)\n",
            "  adding: predict/img00801.png (deflated 4%)\n",
            "  adding: predict/img06041.png (deflated 4%)\n",
            "  adding: predict/img04664.png (deflated 3%)\n",
            "  adding: predict/img02163.png (deflated 6%)\n",
            "  adding: predict/img02020.png (deflated 7%)\n",
            "  adding: predict/img01427.png (deflated 3%)\n",
            "  adding: predict/img04585.png (deflated 3%)\n",
            "  adding: predict/img06579.png (deflated 2%)\n",
            "  adding: predict/img01804.png (deflated 4%)\n",
            "  adding: predict/img05030.png (deflated 3%)\n",
            "  adding: predict/img03715.png (deflated 4%)\n",
            "  adding: predict/img06660.png (deflated 3%)\n",
            "  adding: predict/img02883.png (deflated 4%)\n",
            "  adding: predict/img04434.png (deflated 3%)\n",
            "  adding: predict/img02338.png (deflated 5%)\n",
            "  adding: predict/img01267.png (deflated 2%)\n",
            "  adding: predict/img05082.png (deflated 2%)\n",
            "  adding: predict/img00141.png (deflated 3%)\n",
            "  adding: predict/img05690.png (deflated 2%)\n",
            "  adding: predict/img05477.png (deflated 3%)\n",
            "  adding: predict/img04954.png (deflated 3%)\n",
            "  adding: predict/img02246.png (deflated 4%)\n",
            "  adding: predict/img05436.png (deflated 4%)\n",
            "  adding: predict/img03478.png (deflated 3%)\n",
            "  adding: predict/img05494.png (deflated 5%)\n",
            "  adding: predict/img00484.png (deflated 4%)\n",
            "  adding: predict/img01649.png (deflated 3%)\n",
            "  adding: predict/img06590.png (deflated 3%)\n",
            "  adding: predict/img04714.png (deflated 3%)\n",
            "  adding: predict/img00638.png (deflated 4%)\n",
            "  adding: predict/img05907.png (deflated 3%)\n",
            "  adding: predict/img05150.png (deflated 2%)\n",
            "  adding: predict/img04203.png (deflated 3%)\n",
            "  adding: predict/img06988.png (deflated 2%)\n",
            "  adding: predict/img05704.png (deflated 3%)\n",
            "  adding: predict/img05305.png (deflated 3%)\n",
            "  adding: predict/img03836.png (deflated 4%)\n",
            "  adding: predict/img03042.png (deflated 3%)\n",
            "  adding: predict/img01863.png (deflated 4%)\n",
            "  adding: predict/img03462.png (deflated 3%)\n",
            "  adding: predict/img02137.png (deflated 5%)\n",
            "  adding: predict/img04965.png (deflated 3%)\n",
            "  adding: predict/img02308.png (deflated 4%)\n",
            "  adding: predict/img05763.png (deflated 5%)\n",
            "  adding: predict/img00065.png (deflated 3%)\n",
            "  adding: predict/img01034.png (deflated 2%)\n",
            "  adding: predict/img06079.png (deflated 4%)\n",
            "  adding: predict/img03625.png (deflated 4%)\n",
            "  adding: predict/img05677.png (deflated 6%)\n",
            "  adding: predict/img00927.png (deflated 4%)\n",
            "  adding: predict/img04700.png (deflated 2%)\n",
            "  adding: predict/img05114.png (deflated 3%)\n",
            "  adding: predict/img05304.png (deflated 5%)\n",
            "  adding: predict/img02304.png (deflated 4%)\n",
            "  adding: predict/img04103.png (deflated 3%)\n",
            "  adding: predict/img03622.png (deflated 3%)\n",
            "  adding: predict/img06899.png (deflated 3%)\n",
            "  adding: predict/img04346.png (deflated 2%)\n",
            "  adding: predict/img00182.png (deflated 3%)\n",
            "  adding: predict/img03490.png (deflated 3%)\n",
            "  adding: predict/img05183.png (deflated 4%)\n",
            "  adding: predict/img03251.png (deflated 3%)\n",
            "  adding: predict/img01934.png (deflated 4%)\n",
            "  adding: predict/img03661.png (deflated 4%)\n",
            "  adding: predict/img00728.png (deflated 4%)\n",
            "  adding: predict/img06787.png (deflated 3%)\n",
            "  adding: predict/img05679.png (deflated 4%)\n",
            "  adding: predict/img04265.png (deflated 4%)\n",
            "  adding: predict/img06922.png (deflated 2%)\n",
            "  adding: predict/img02307.png (deflated 4%)\n",
            "  adding: predict/img00658.png (deflated 3%)\n",
            "  adding: predict/img01246.png (deflated 2%)\n",
            "  adding: predict/img06853.png (deflated 4%)\n",
            "  adding: predict/img03281.png (deflated 3%)\n",
            "  adding: predict/img00803.png (deflated 3%)\n",
            "  adding: predict/img02109.png (deflated 4%)\n",
            "  adding: predict/img02401.png (deflated 3%)\n",
            "  adding: predict/img05881.png (deflated 4%)\n",
            "  adding: predict/img02461.png (deflated 5%)\n",
            "  adding: predict/img03456.png (deflated 2%)\n",
            "  adding: predict/img04412.png (deflated 4%)\n",
            "  adding: predict/img05018.png (deflated 3%)\n",
            "  adding: predict/img06674.png (deflated 3%)\n",
            "  adding: predict/img00783.png (deflated 3%)\n",
            "  adding: predict/img06228.png (deflated 4%)\n",
            "  adding: predict/img04450.png (deflated 4%)\n",
            "  adding: predict/img06469.png (deflated 4%)\n",
            "  adding: predict/img06725.png (deflated 3%)\n",
            "  adding: predict/img00879.png (deflated 4%)\n",
            "  adding: predict/img00407.png (deflated 3%)\n",
            "  adding: predict/img06717.png (deflated 3%)\n",
            "  adding: predict/img00138.png (deflated 3%)\n",
            "  adding: predict/img03589.png (deflated 4%)\n",
            "  adding: predict/img02353.png (deflated 4%)\n",
            "  adding: predict/img05071.png (deflated 2%)\n",
            "  adding: predict/img00019.png (deflated 4%)\n",
            "  adding: predict/img04375.png (deflated 3%)\n",
            "  adding: predict/img00258.png (deflated 3%)\n",
            "  adding: predict/img05374.png (deflated 3%)\n",
            "  adding: predict/img01952.png (deflated 4%)\n",
            "  adding: predict/img00043.png (deflated 3%)\n",
            "  adding: predict/img05458.png (deflated 4%)\n",
            "  adding: predict/img00169.png (deflated 3%)\n",
            "  adding: predict/img00489.png (deflated 4%)\n",
            "  adding: predict/img00355.png (deflated 3%)\n",
            "  adding: predict/img02397.png (deflated 4%)\n",
            "  adding: predict/img03891.png (deflated 4%)\n",
            "  adding: predict/img04806.png (deflated 4%)\n",
            "  adding: predict/img02108.png (deflated 2%)\n",
            "  adding: predict/img03729.png (deflated 4%)\n",
            "  adding: predict/img01405.png (deflated 2%)\n",
            "  adding: predict/img04804.png (deflated 4%)\n",
            "  adding: predict/img04741.png (deflated 3%)\n",
            "  adding: predict/img05073.png (deflated 3%)\n",
            "  adding: predict/img02412.png (deflated 6%)\n",
            "  adding: predict/img01456.png (deflated 3%)\n",
            "  adding: predict/img04072.png (deflated 4%)\n",
            "  adding: predict/img04566.png (deflated 3%)\n",
            "  adding: predict/img04784.png (deflated 4%)\n",
            "  adding: predict/img03586.png (deflated 3%)\n",
            "  adding: predict/img05341.png (deflated 4%)\n",
            "  adding: predict/img02492.png (deflated 94%)\n",
            "  adding: predict/img02584.png (deflated 4%)\n",
            "  adding: predict/img04986.png (deflated 3%)\n",
            "  adding: predict/img03845.png (deflated 4%)\n",
            "  adding: predict/img05822.png (deflated 5%)\n",
            "  adding: predict/img03534.png (deflated 4%)\n",
            "  adding: predict/img03417.png (deflated 2%)\n",
            "  adding: predict/img01888.png (deflated 3%)\n",
            "  adding: predict/img00168.png (deflated 3%)\n",
            "  adding: predict/img01707.png (deflated 2%)\n",
            "  adding: predict/img05865.png (deflated 4%)\n",
            "  adding: predict/img00379.png (deflated 3%)\n",
            "  adding: predict/img02071.png (deflated 3%)\n",
            "  adding: predict/img00941.png (deflated 4%)\n",
            "  adding: predict/img02902.png (deflated 4%)\n",
            "  adding: predict/img02166.png (deflated 3%)\n",
            "  adding: predict/img00969.png (deflated 3%)\n",
            "  adding: predict/img01304.png (deflated 4%)\n",
            "  adding: predict/img03633.png (deflated 4%)\n",
            "  adding: predict/img06402.png (deflated 4%)\n",
            "  adding: predict/img01438.png (deflated 2%)\n",
            "  adding: predict/img06542.png (deflated 3%)\n",
            "  adding: predict/img04013.png (deflated 4%)\n",
            "  adding: predict/img00876.png (deflated 3%)\n",
            "  adding: predict/img05297.png (deflated 4%)\n",
            "  adding: predict/img00563.png (deflated 3%)\n",
            "  adding: predict/img04969.png (deflated 3%)\n",
            "  adding: predict/img05021.png (deflated 3%)\n",
            "  adding: predict/img01048.png (deflated 3%)\n",
            "  adding: predict/img05740.png (deflated 4%)\n",
            "  adding: predict/img00943.png (deflated 2%)\n",
            "  adding: predict/img02604.png (deflated 4%)\n",
            "  adding: predict/img06484.png (deflated 3%)\n",
            "  adding: predict/img01087.png (deflated 2%)\n",
            "  adding: predict/img04171.png (deflated 4%)\n",
            "  adding: predict/img04577.png (deflated 3%)\n",
            "  adding: predict/img03750.png (deflated 3%)\n",
            "  adding: predict/img00388.png (deflated 3%)\n",
            "  adding: predict/img01886.png (deflated 3%)\n",
            "  adding: predict/img04195.png (deflated 3%)\n",
            "  adding: predict/img03648.png (deflated 3%)\n",
            "  adding: predict/img02815.png (deflated 4%)\n",
            "  adding: predict/img02050.png (deflated 4%)\n",
            "  adding: predict/img01302.png (deflated 3%)\n",
            "  adding: predict/img05241.png (deflated 3%)\n",
            "  adding: predict/img03538.png (deflated 4%)\n",
            "  adding: predict/img04451.png (deflated 2%)\n",
            "  adding: predict/img04080.png (deflated 4%)\n",
            "  adding: predict/img02937.png (deflated 5%)\n",
            "  adding: predict/img05727.png (deflated 3%)\n",
            "  adding: predict/img05499.png (deflated 3%)\n",
            "  adding: predict/img04808.png (deflated 3%)\n",
            "  adding: predict/img04050.png (deflated 3%)\n",
            "  adding: predict/img02451.png (deflated 4%)\n",
            "  adding: predict/img05996.png (deflated 4%)\n",
            "  adding: predict/img05871.png (deflated 3%)\n",
            "  adding: predict/img02439.png (deflated 4%)\n",
            "  adding: predict/img00440.png (deflated 3%)\n",
            "  adding: predict/img03009.png (deflated 3%)\n",
            "  adding: predict/img03468.png (deflated 3%)\n",
            "  adding: predict/img06067.png (deflated 5%)\n",
            "  adding: predict/img02987.png (deflated 4%)\n",
            "  adding: predict/img06867.png (deflated 3%)\n",
            "  adding: predict/img05246.png (deflated 4%)\n",
            "  adding: predict/img00607.png (deflated 4%)\n",
            "  adding: predict/img04190.png (deflated 4%)\n",
            "  adding: predict/img06544.png (deflated 3%)\n",
            "  adding: predict/img04387.png (deflated 3%)\n",
            "  adding: predict/img02724.png (deflated 4%)\n",
            "  adding: predict/img05817.png (deflated 4%)\n",
            "  adding: predict/img02826.png (deflated 4%)\n",
            "  adding: predict/img06926.png (deflated 3%)\n",
            "  adding: predict/img02860.png (deflated 3%)\n",
            "  adding: predict/img05853.png (deflated 3%)\n",
            "  adding: predict/img03911.png (deflated 4%)\n",
            "  adding: predict/img06606.png (deflated 3%)\n",
            "  adding: predict/img06536.png (deflated 3%)\n",
            "  adding: predict/img05158.png (deflated 2%)\n",
            "  adding: predict/img02682.png (deflated 3%)\n",
            "  adding: predict/img04733.png (deflated 7%)\n",
            "  adding: predict/img02343.png (deflated 4%)\n",
            "  adding: predict/img01382.png (deflated 3%)\n",
            "  adding: predict/img02413.png (deflated 5%)\n",
            "  adding: predict/img04587.png (deflated 2%)\n",
            "  adding: predict/img04882.png (deflated 3%)\n",
            "  adding: predict/img00127.png (deflated 3%)\n",
            "  adding: predict/img06133.png (deflated 4%)\n",
            "  adding: predict/img03693.png (deflated 4%)\n",
            "  adding: predict/img03317.png (deflated 3%)\n",
            "  adding: predict/img04790.png (deflated 2%)\n",
            "  adding: predict/img06450.png (deflated 4%)\n",
            "  adding: predict/img01600.png (deflated 3%)\n",
            "  adding: predict/img05495.png (deflated 4%)\n",
            "  adding: predict/img05561.png (deflated 4%)\n",
            "  adding: predict/img02776.png (deflated 3%)\n",
            "  adding: predict/img01687.png (deflated 3%)\n",
            "  adding: predict/img02636.png (deflated 4%)\n",
            "  adding: predict/img05741.png (deflated 2%)\n",
            "  adding: predict/img06832.png (deflated 4%)\n",
            "  adding: predict/img03019.png (deflated 3%)\n",
            "  adding: predict/img05547.png (deflated 4%)\n",
            "  adding: predict/img06211.png (deflated 3%)\n",
            "  adding: predict/img02485.png (deflated 4%)\n",
            "  adding: predict/img04499.png (deflated 4%)\n",
            "  adding: predict/img05023.png (deflated 3%)\n",
            "  adding: predict/img00176.png (deflated 3%)\n",
            "  adding: predict/img00624.png (deflated 4%)\n",
            "  adding: predict/img06431.png (deflated 4%)\n",
            "  adding: predict/img01169.png (deflated 4%)\n",
            "  adding: predict/img04301.png (deflated 4%)\n",
            "  adding: predict/img03828.png (deflated 3%)\n",
            "  adding: predict/img04929.png (deflated 3%)\n",
            "  adding: predict/img06564.png (deflated 3%)\n",
            "  adding: predict/img06558.png (deflated 3%)\n",
            "  adding: predict/img02890.png (deflated 4%)\n",
            "  adding: predict/img05049.png (deflated 3%)\n",
            "  adding: predict/img03284.png (deflated 3%)\n",
            "  adding: predict/img05925.png (deflated 4%)\n",
            "  adding: predict/img00594.png (deflated 3%)\n",
            "  adding: predict/img03664.png (deflated 4%)\n",
            "  adding: predict/img05961.png (deflated 5%)\n",
            "  adding: predict/img02388.png (deflated 4%)\n",
            "  adding: predict/img06783.png (deflated 3%)\n",
            "  adding: predict/img00276.png (deflated 3%)\n",
            "  adding: predict/img03934.png (deflated 3%)\n",
            "  adding: predict/img04878.png (deflated 4%)\n",
            "  adding: predict/img04605.png (deflated 2%)\n",
            "  adding: predict/img05821.png (deflated 4%)\n",
            "  adding: predict/img00935.png (deflated 3%)\n",
            "  adding: predict/img03498.png (deflated 2%)\n",
            "  adding: predict/img03773.png (deflated 4%)\n",
            "  adding: predict/img00089.png (deflated 4%)\n",
            "  adding: predict/img04368.png (deflated 4%)\n",
            "  adding: predict/img06927.png (deflated 2%)\n",
            "  adding: predict/img01119.png (deflated 3%)\n",
            "  adding: predict/img04012.png (deflated 4%)\n",
            "  adding: predict/img05214.png (deflated 4%)\n",
            "  adding: predict/img02830.png (deflated 4%)\n",
            "  adding: predict/img04707.png (deflated 2%)\n",
            "  adding: predict/img06813.png (deflated 3%)\n",
            "  adding: predict/img02282.png (deflated 3%)\n",
            "  adding: predict/img03666.png (deflated 4%)\n",
            "  adding: predict/img06843.png (deflated 3%)\n",
            "  adding: predict/img06779.png (deflated 3%)\n",
            "  adding: predict/img01249.png (deflated 2%)\n",
            "  adding: predict/img04852.png (deflated 2%)\n",
            "  adding: predict/img00718.png (deflated 3%)\n",
            "  adding: predict/img06572.png (deflated 3%)\n",
            "  adding: predict/img01701.png (deflated 4%)\n",
            "  adding: predict/img02993.png (deflated 4%)\n",
            "  adding: predict/img01947.png (deflated 2%)\n",
            "  adding: predict/img03139.png (deflated 3%)\n",
            "  adding: predict/img02602.png (deflated 4%)\n",
            "  adding: predict/img01856.png (deflated 3%)\n",
            "  adding: predict/img04158.png (deflated 4%)\n",
            "  adding: predict/img05539.png (deflated 4%)\n",
            "  adding: predict/img01624.png (deflated 3%)\n",
            "  adding: predict/img02834.png (deflated 4%)\n",
            "  adding: predict/img06645.png (deflated 3%)\n",
            "  adding: predict/img03186.png (deflated 3%)\n",
            "  adding: predict/img00870.png (deflated 4%)\n",
            "  adding: predict/img06064.png (deflated 3%)\n",
            "  adding: predict/img01235.png (deflated 3%)\n",
            "  adding: predict/img00968.png (deflated 2%)\n",
            "  adding: predict/img04370.png (deflated 4%)\n",
            "  adding: predict/img05011.png (deflated 3%)\n",
            "  adding: predict/img06944.png (deflated 2%)\n",
            "  adding: predict/img02585.png (deflated 4%)\n",
            "  adding: predict/img06938.png (deflated 2%)\n",
            "  adding: predict/img05507.png (deflated 3%)\n",
            "  adding: predict/img06893.png (deflated 2%)\n",
            "  adding: predict/img00213.png (deflated 3%)\n",
            "  adding: predict/img05351.png (deflated 3%)\n",
            "  adding: predict/img00605.png (deflated 4%)\n",
            "  adding: predict/img03082.png (deflated 3%)\n",
            "  adding: predict/img03537.png (deflated 3%)\n",
            "  adding: predict/img01918.png (deflated 3%)\n",
            "  adding: predict/img04702.png (deflated 3%)\n",
            "  adding: predict/img04420.png (deflated 3%)\n",
            "  adding: predict/img06847.png (deflated 2%)\n",
            "  adding: predict/img02644.png (deflated 5%)\n",
            "  adding: predict/img03530.png (deflated 4%)\n",
            "  adding: predict/img01755.png (deflated 4%)\n",
            "  adding: predict/img00665.png (deflated 3%)\n",
            "  adding: predict/img04414.png (deflated 3%)\n",
            "  adding: predict/img02912.png (deflated 4%)\n",
            "  adding: predict/img02104.png (deflated 4%)\n",
            "  adding: predict/img06496.png (deflated 4%)\n",
            "  adding: predict/img04085.png (deflated 4%)\n",
            "  adding: predict/img03196.png (deflated 3%)\n",
            "  adding: predict/img00512.png (deflated 4%)\n",
            "  adding: predict/img00467.png (deflated 4%)\n",
            "  adding: predict/img06861.png (deflated 3%)\n",
            "  adding: predict/img00155.png (deflated 4%)\n",
            "  adding: predict/img06392.png (deflated 4%)\n",
            "  adding: predict/img04214.png (deflated 3%)\n",
            "  adding: predict/img01496.png (deflated 3%)\n",
            "  adding: predict/img03766.png (deflated 4%)\n",
            "  adding: predict/img06860.png (deflated 3%)\n",
            "  adding: predict/img06418.png (deflated 4%)\n",
            "  adding: predict/img01579.png (deflated 2%)\n",
            "  adding: predict/img01593.png (deflated 4%)\n",
            "  adding: predict/img02429.png (deflated 4%)\n",
            "  adding: predict/img00115.png (deflated 4%)\n",
            "  adding: predict/img01481.png (deflated 3%)\n",
            "  adding: predict/img06040.png (deflated 4%)\n",
            "  adding: predict/img06810.png (deflated 2%)\n",
            "  adding: predict/img00739.png (deflated 3%)\n",
            "  adding: predict/img02989.png (deflated 5%)\n",
            "  adding: predict/img01082.png (deflated 4%)\n",
            "  adding: predict/img02542.png (deflated 4%)\n",
            "  adding: predict/img04027.png (deflated 3%)\n",
            "  adding: predict/img03486.png (deflated 2%)\n",
            "  adding: predict/img03567.png (deflated 4%)\n",
            "  adding: predict/img01091.png (deflated 3%)\n",
            "  adding: predict/img06326.png (deflated 4%)\n",
            "  adding: predict/img02112.png (deflated 5%)\n",
            "  adding: predict/img04950.png (deflated 3%)\n",
            "  adding: predict/img03248.png (deflated 3%)\n",
            "  adding: predict/img02501.png (deflated 4%)\n",
            "  adding: predict/img02802.png (deflated 4%)\n",
            "  adding: predict/img03020.png (deflated 3%)\n",
            "  adding: predict/img06521.png (deflated 3%)\n",
            "  adding: predict/img03783.png (deflated 3%)\n",
            "  adding: predict/img00877.png (deflated 4%)\n",
            "  adding: predict/img02244.png (deflated 3%)\n",
            "  adding: predict/img04260.png (deflated 3%)\n",
            "  adding: predict/img02844.png (deflated 4%)\n",
            "  adding: predict/img02816.png (deflated 4%)\n",
            "  adding: predict/img02562.png (deflated 4%)\n",
            "  adding: predict/img04903.png (deflated 3%)\n",
            "  adding: predict/img01648.png (deflated 3%)\n",
            "  adding: predict/img06036.png (deflated 5%)\n",
            "  adding: predict/img00680.png (deflated 4%)\n",
            "  adding: predict/img01725.png (deflated 3%)\n",
            "  adding: predict/img01571.png (deflated 2%)\n",
            "  adding: predict/img06529.png (deflated 3%)\n",
            "  adding: predict/img01793.png (deflated 4%)\n",
            "  adding: predict/img02326.png (deflated 4%)\n",
            "  adding: predict/img06378.png (deflated 4%)\n",
            "  adding: predict/img00321.png (deflated 3%)\n",
            "  adding: predict/img04104.png (deflated 4%)\n",
            "  adding: predict/img04026.png (deflated 4%)\n",
            "  adding: predict/img02233.png (deflated 5%)\n",
            "  adding: predict/img00104.png (deflated 4%)\n",
            "  adding: predict/img02917.png (deflated 3%)\n",
            "  adding: predict/img00603.png (deflated 3%)\n",
            "  adding: predict/img02415.png (deflated 4%)\n",
            "  adding: predict/img03201.png (deflated 10%)\n",
            "  adding: predict/img05282.png (deflated 3%)\n",
            "  adding: predict/img01285.png (deflated 4%)\n",
            "  adding: predict/img00634.png (deflated 3%)\n",
            "  adding: predict/img00372.png (deflated 3%)\n",
            "  adding: predict/img04813.png (deflated 3%)\n",
            "  adding: predict/img02891.png (deflated 4%)\n",
            "  adding: predict/img01733.png (deflated 3%)\n",
            "  adding: predict/img03045.png (deflated 3%)\n",
            "  adding: predict/img01163.png (deflated 3%)\n",
            "  adding: predict/img01771.png (deflated 2%)\n",
            "  adding: predict/img04819.png (deflated 4%)\n",
            "  adding: predict/img02573.png (deflated 5%)\n",
            "  adding: predict/img06024.png (deflated 4%)\n",
            "  adding: predict/img02333.png (deflated 4%)\n",
            "  adding: predict/img04247.png (deflated 3%)\n",
            "  adding: predict/img01634.png (deflated 2%)\n",
            "  adding: predict/img04458.png (deflated 3%)\n",
            "  adding: predict/img03050.png (deflated 3%)\n",
            "  adding: predict/img01702.png (deflated 5%)\n",
            "  adding: predict/img01704.png (deflated 2%)\n",
            "  adding: predict/img00991.png (deflated 2%)\n",
            "  adding: predict/img02130.png (deflated 2%)\n",
            "  adding: predict/img01930.png (deflated 3%)\n",
            "  adding: predict/img05957.png (deflated 3%)\n",
            "  adding: predict/img03343.png (deflated 3%)\n",
            "  adding: predict/img05802.png (deflated 4%)\n",
            "  adding: predict/img02966.png (deflated 4%)\n",
            "  adding: predict/img01910.png (deflated 3%)\n",
            "  adding: predict/img03002.png (deflated 3%)\n",
            "  adding: predict/img06785.png (deflated 3%)\n",
            "  adding: predict/img03613.png (deflated 3%)\n",
            "  adding: predict/img01289.png (deflated 2%)\n",
            "  adding: predict/img01808.png (deflated 3%)\n",
            "  adding: predict/img03573.png (deflated 4%)\n",
            "  adding: predict/img06455.png (deflated 3%)\n",
            "  adding: predict/img06015.png (deflated 5%)\n",
            "  adding: predict/img05784.png (deflated 3%)\n",
            "  adding: predict/img03466.png (deflated 2%)\n",
            "  adding: predict/img02332.png (deflated 5%)\n",
            "  adding: predict/img05285.png (deflated 3%)\n",
            "  adding: predict/img03928.png (deflated 4%)\n",
            "  adding: predict/img01359.png (deflated 4%)\n",
            "  adding: predict/img05479.png (deflated 4%)\n",
            "  adding: predict/img05524.png (deflated 3%)\n",
            "  adding: predict/img03578.png (deflated 4%)\n",
            "  adding: predict/img04862.png (deflated 3%)\n",
            "  adding: predict/img00442.png (deflated 4%)\n",
            "  adding: predict/img03422.png (deflated 3%)\n",
            "  adding: predict/img05993.png (deflated 4%)\n",
            "  adding: predict/img01494.png (deflated 2%)\n",
            "  adding: predict/img05739.png (deflated 5%)\n",
            "  adding: predict/img00147.png (deflated 3%)\n",
            "  adding: predict/img00078.png (deflated 4%)\n",
            "  adding: predict/img01986.png (deflated 4%)\n",
            "  adding: predict/img06924.png (deflated 3%)\n",
            "  adding: predict/img01417.png (deflated 4%)\n",
            "  adding: predict/img05767.png (deflated 5%)\n",
            "  adding: predict/img04897.png (deflated 3%)\n",
            "  adding: predict/img01449.png (deflated 3%)\n",
            "  adding: predict/img05334.png (deflated 4%)\n",
            "  adding: predict/img04769.png (deflated 3%)\n",
            "  adding: predict/img02741.png (deflated 4%)\n",
            "  adding: predict/img00429.png (deflated 4%)\n",
            "  adding: predict/img05429.png (deflated 4%)\n",
            "  adding: predict/img06548.png (deflated 3%)\n",
            "  adding: predict/img06492.png (deflated 4%)\n",
            "  adding: predict/img05944.png (deflated 4%)\n",
            "  adding: predict/img00409.png (deflated 3%)\n",
            "  adding: predict/img03324.png (deflated 3%)\n",
            "  adding: predict/img01604.png (deflated 2%)\n",
            "  adding: predict/img05695.png (deflated 7%)\n",
            "  adding: predict/img06145.png (deflated 4%)\n",
            "  adding: predict/img04380.png (deflated 3%)\n",
            "  adding: predict/img04180.png (deflated 4%)\n",
            "  adding: predict/img02814.png (deflated 4%)\n",
            "  adding: predict/img01834.png (deflated 4%)\n",
            "  adding: predict/img02779.png (deflated 4%)\n",
            "  adding: predict/img05738.png (deflated 5%)\n",
            "  adding: predict/img03844.png (deflated 3%)\n",
            "  adding: predict/img00519.png (deflated 4%)\n",
            "  adding: predict/img02266.png (deflated 3%)\n",
            "  adding: predict/img05449.png (deflated 4%)\n",
            "  adding: predict/img03756.png (deflated 3%)\n",
            "  adding: predict/img04407.png (deflated 3%)\n",
            "  adding: predict/img03235.png (deflated 3%)\n",
            "  adding: predict/img05659.png (deflated 3%)\n",
            "  adding: predict/img01662.png (deflated 2%)\n",
            "  adding: predict/img02880.png (deflated 4%)\n",
            "  adding: predict/img06432.png (deflated 4%)\n",
            "  adding: predict/img03942.png (deflated 4%)\n",
            "  adding: predict/img05230.png (deflated 3%)\n",
            "  adding: predict/img00121.png (deflated 3%)\n",
            "  adding: predict/img00331.png (deflated 4%)\n",
            "  adding: predict/img06358.png (deflated 3%)\n",
            "  adding: predict/img05369.png (deflated 3%)\n",
            "  adding: predict/img01957.png (deflated 3%)\n",
            "  adding: predict/img04734.png (deflated 2%)\n",
            "  adding: predict/img04583.png (deflated 4%)\n",
            "  adding: predict/img00917.png (deflated 4%)\n",
            "  adding: predict/img02151.png (deflated 6%)\n",
            "  adding: predict/img01248.png (deflated 4%)\n",
            "  adding: predict/img01320.png (deflated 3%)\n",
            "  adding: predict/img06475.png (deflated 4%)\n",
            "  adding: predict/img04169.png (deflated 4%)\n",
            "  adding: predict/img01212.png (deflated 4%)\n",
            "  adding: predict/img00945.png (deflated 3%)\n",
            "  adding: predict/img06906.png (deflated 4%)\n",
            "  adding: predict/img06686.png (deflated 3%)\n",
            "  adding: predict/img02317.png (deflated 4%)\n",
            "  adding: predict/img02786.png (deflated 3%)\n",
            "  adding: predict/img01764.png (deflated 3%)\n",
            "  adding: predict/img00595.png (deflated 3%)\n",
            "  adding: predict/img02199.png (deflated 5%)\n",
            "  adding: predict/img00445.png (deflated 4%)\n",
            "  adding: predict/img04836.png (deflated 9%)\n",
            "  adding: predict/img05867.png (deflated 4%)\n",
            "  adding: predict/img05398.png (deflated 3%)\n",
            "  adding: predict/img00080.png (deflated 4%)\n",
            "  adding: predict/img00596.png (deflated 3%)\n",
            "  adding: predict/img06985.png (deflated 2%)\n",
            "  adding: predict/img05097.png (deflated 3%)\n",
            "  adding: predict/img04341.png (deflated 5%)\n",
            "  adding: predict/img03802.png (deflated 3%)\n",
            "  adding: predict/img00770.png (deflated 3%)\n",
            "  adding: predict/img05779.png (deflated 3%)\n",
            "  adding: predict/img04183.png (deflated 3%)\n",
            "  adding: predict/img04615.png (deflated 3%)\n",
            "  adding: predict/img02547.png (deflated 4%)\n",
            "  adding: predict/img02414.png (deflated 4%)\n",
            "  adding: predict/img02845.png (deflated 3%)\n",
            "  adding: predict/img06556.png (deflated 3%)\n",
            "  adding: predict/img05737.png (deflated 5%)\n",
            "  adding: predict/img02444.png (deflated 4%)\n",
            "  adding: predict/img04291.png (deflated 5%)\n",
            "  adding: predict/img04056.png (deflated 3%)\n",
            "  adding: predict/img06753.png (deflated 3%)\n",
            "  adding: predict/img03292.png (deflated 3%)\n",
            "  adding: predict/img02003.png (deflated 1%)\n",
            "  adding: predict/img04321.png (deflated 4%)\n",
            "  adding: predict/img01379.png (deflated 3%)\n",
            "  adding: predict/img00390.png (deflated 4%)\n",
            "  adding: predict/img01293.png (deflated 4%)\n",
            "  adding: predict/img03474.png (deflated 3%)\n",
            "  adding: predict/img01563.png (deflated 3%)\n",
            "  adding: predict/img01560.png (deflated 2%)\n",
            "  adding: predict/img05526.png (deflated 2%)\n",
            "  adding: predict/img03036.png (deflated 3%)\n",
            "  adding: predict/img06351.png (deflated 3%)\n",
            "  adding: predict/img03396.png (deflated 3%)\n",
            "  adding: predict/img04138.png (deflated 4%)\n",
            "  adding: predict/img00118.png (deflated 3%)\n",
            "  adding: predict/img00255.png (deflated 4%)\n",
            "  adding: predict/img03395.png (deflated 3%)\n",
            "  adding: predict/img04296.png (deflated 4%)\n",
            "  adding: predict/img01043.png (deflated 2%)\n",
            "  adding: predict/img02196.png (deflated 7%)\n",
            "  adding: predict/img01790.png (deflated 3%)\n",
            "  adding: predict/img05770.png (deflated 4%)\n",
            "  adding: predict/img00418.png (deflated 4%)\n",
            "  adding: predict/img01354.png (deflated 2%)\n",
            "  adding: predict/img06306.png (deflated 4%)\n",
            "  adding: predict/img02906.png (deflated 5%)\n",
            "  adding: predict/img01657.png (deflated 3%)\n",
            "  adding: predict/img00901.png (deflated 4%)\n",
            "  adding: predict/img03974.png (deflated 3%)\n",
            "  adding: predict/img06770.png (deflated 3%)\n",
            "  adding: predict/img02939.png (deflated 4%)\n",
            "  adding: predict/img04509.png (deflated 2%)\n",
            "  adding: predict/img04339.png (deflated 4%)\n",
            "  adding: predict/img05274.png (deflated 4%)\n",
            "  adding: predict/img01845.png (deflated 3%)\n",
            "  adding: predict/img02098.png (deflated 2%)\n",
            "  adding: predict/img04109.png (deflated 4%)\n",
            "  adding: predict/img04857.png (deflated 3%)\n",
            "  adding: predict/img05783.png (deflated 3%)\n",
            "  adding: predict/img00150.png (deflated 3%)\n",
            "  adding: predict/img00820.png (deflated 3%)\n",
            "  adding: predict/img02928.png (deflated 4%)\n",
            "  adding: predict/img06713.png (deflated 2%)\n",
            "  adding: predict/img05670.png (deflated 6%)\n",
            "  adding: predict/img01956.png (deflated 4%)\n",
            "  adding: predict/img06339.png (deflated 4%)\n",
            "  adding: predict/img04835.png (deflated 3%)\n",
            "  adding: predict/img01991.png (deflated 4%)\n",
            "  adding: predict/img04713.png (deflated 4%)\n",
            "  adding: predict/img03986.png (deflated 4%)\n",
            "  adding: predict/img04870.png (deflated 3%)\n",
            "  adding: predict/img01715.png (deflated 3%)\n",
            "  adding: predict/img01328.png (deflated 3%)\n",
            "  adding: predict/img04642.png (deflated 3%)\n",
            "  adding: predict/img05232.png (deflated 3%)\n",
            "  adding: predict/img04421.png (deflated 3%)\n",
            "  adding: predict/img04299.png (deflated 5%)\n",
            "  adding: predict/img03971.png (deflated 4%)\n",
            "  adding: predict/img03124.png (deflated 3%)\n",
            "  adding: predict/img06957.png (deflated 2%)\n",
            "  adding: predict/img03762.png (deflated 3%)\n",
            "  adding: predict/img02982.png (deflated 5%)\n",
            "  adding: predict/img02617.png (deflated 4%)\n",
            "  adding: predict/img03862.png (deflated 4%)\n",
            "  adding: predict/img04963.png (deflated 3%)\n",
            "  adding: predict/img05409.png (deflated 4%)\n",
            "  adding: predict/img02994.png (deflated 3%)\n",
            "  adding: predict/img03638.png (deflated 3%)\n",
            "  adding: predict/img05512.png (deflated 2%)\n",
            "  adding: predict/img04118.png (deflated 4%)\n",
            "  adding: predict/img06994.png (deflated 2%)\n",
            "  adding: predict/img01363.png (deflated 3%)\n",
            "  adding: predict/img03583.png (deflated 3%)\n",
            "  adding: predict/img03099.png (deflated 3%)\n",
            "  adding: predict/img00200.png (deflated 4%)\n",
            "  adding: predict/img05084.png (deflated 2%)\n",
            "  adding: predict/img05193.png (deflated 3%)\n",
            "  adding: predict/img02223.png (deflated 4%)\n",
            "  adding: predict/img05051.png (deflated 4%)\n",
            "  adding: predict/img01347.png (deflated 3%)\n",
            "  adding: predict/img06903.png (deflated 3%)\n",
            "  adding: predict/img02426.png (deflated 4%)\n",
            "  adding: predict/img04408.png (deflated 3%)\n",
            "  adding: predict/img05964.png (deflated 5%)\n",
            "  adding: predict/img04166.png (deflated 4%)\n",
            "  adding: predict/img05163.png (deflated 2%)\n",
            "  adding: predict/img02783.png (deflated 4%)\n",
            "  adding: predict/img03584.png (deflated 4%)\n",
            "  adding: predict/img05919.png (deflated 4%)\n",
            "  adding: predict/img03932.png (deflated 3%)\n",
            "  adding: predict/img04686.png (deflated 2%)\n",
            "  adding: predict/img00433.png (deflated 3%)\n",
            "  adding: predict/img02107.png (deflated 3%)\n",
            "  adding: predict/img02212.png (deflated 4%)\n",
            "  adding: predict/img06169.png (deflated 3%)\n",
            "  adding: predict/img03886.png (deflated 4%)\n",
            "  adding: predict/img06478.png (deflated 3%)\n",
            "  adding: predict/img06269.png (deflated 4%)\n",
            "  adding: predict/img03154.png (deflated 4%)\n",
            "  adding: predict/img01313.png (deflated 3%)\n",
            "  adding: predict/img05252.png (deflated 4%)\n",
            "  adding: predict/img00942.png (deflated 4%)\n",
            "  adding: predict/img04161.png (deflated 3%)\n",
            "  adding: predict/img00088.png (deflated 4%)\n",
            "  adding: predict/img04088.png (deflated 4%)\n",
            "  adding: predict/img00252.png (deflated 3%)\n",
            "  adding: predict/img05440.png (deflated 3%)\n",
            "  adding: predict/img04048.png (deflated 3%)\n",
            "  adding: predict/img01935.png (deflated 4%)\n",
            "  adding: predict/img05094.png (deflated 2%)\n",
            "  adding: predict/img00725.png (deflated 3%)\n",
            "  adding: predict/img06811.png (deflated 2%)\n",
            "  adding: predict/img06888.png (deflated 3%)\n",
            "  adding: predict/img02671.png (deflated 3%)\n",
            "  adding: predict/img05999.png (deflated 4%)\n",
            "  adding: predict/img03120.png (deflated 3%)\n",
            "  adding: predict/img01203.png (deflated 3%)\n",
            "  adding: predict/img03716.png (deflated 4%)\n",
            "  adding: predict/img06644.png (deflated 3%)\n",
            "  adding: predict/img00208.png (deflated 3%)\n",
            "  adding: predict/img00884.png (deflated 4%)\n",
            "  adding: predict/img01891.png (deflated 7%)\n",
            "  adding: predict/img04212.png (deflated 3%)\n",
            "  adding: predict/img03692.png (deflated 3%)\n",
            "  adding: predict/img00753.png (deflated 3%)\n",
            "  adding: predict/img00367.png (deflated 4%)\n",
            "  adding: predict/img00004.png (deflated 4%)\n",
            "  adding: predict/img04541.png (deflated 3%)\n",
            "  adding: predict/img02235.png (deflated 3%)\n",
            "  adding: predict/img05583.png (deflated 4%)\n",
            "  adding: predict/img01143.png (deflated 2%)\n",
            "  adding: predict/img01911.png (deflated 3%)\n",
            "  adding: predict/img01955.png (deflated 4%)\n",
            "  adding: predict/img00291.png (deflated 4%)\n",
            "  adding: predict/img02316.png (deflated 4%)\n",
            "  adding: predict/img05825.png (deflated 3%)\n",
            "  adding: predict/img00363.png (deflated 4%)\n",
            "  adding: predict/img02471.png (deflated 5%)\n",
            "  adding: predict/img04246.png (deflated 3%)\n",
            "  adding: predict/img06649.png (deflated 3%)\n",
            "  adding: predict/img01490.png (deflated 3%)\n",
            "  adding: predict/img02062.png (deflated 3%)\n",
            "  adding: predict/img06088.png (deflated 3%)\n",
            "  adding: predict/img06960.png (deflated 2%)\n",
            "  adding: predict/img04062.png (deflated 3%)\n",
            "  adding: predict/img01909.png (deflated 4%)\n",
            "  adding: predict/img02421.png (deflated 4%)\n",
            "  adding: predict/img01514.png (deflated 3%)\n",
            "  adding: predict/img05107.png (deflated 2%)\n",
            "  adding: predict/img03038.png (deflated 3%)\n",
            "  adding: predict/img01814.png (deflated 3%)\n",
            "  adding: predict/img03054.png (deflated 3%)\n",
            "  adding: predict/img03819.png (deflated 3%)\n",
            "  adding: predict/img00243.png (deflated 4%)\n",
            "  adding: predict/img02622.png (deflated 4%)\n",
            "  adding: predict/img04139.png (deflated 3%)\n",
            "  adding: predict/img03523.png (deflated 3%)\n",
            "  adding: predict/img05453.png (deflated 3%)\n",
            "  adding: predict/img03119.png (deflated 3%)\n",
            "  adding: predict/img06099.png (deflated 4%)\n",
            "  adding: predict/img01283.png (deflated 3%)\n",
            "  adding: predict/img04416.png (deflated 3%)\n",
            "  adding: predict/img06320.png (deflated 4%)\n",
            "  adding: predict/img04314.png (deflated 4%)\n",
            "  adding: predict/img06105.png (deflated 4%)\n",
            "  adding: predict/img01452.png (deflated 3%)\n",
            "  adding: predict/img04448.png (deflated 2%)\n",
            "  adding: predict/img06327.png (deflated 4%)\n",
            "  adding: predict/img05475.png (deflated 4%)\n",
            "  adding: predict/img02350.png (deflated 4%)\n",
            "  adding: predict/img02718.png (deflated 4%)\n",
            "  adding: predict/img04492.png (deflated 2%)\n",
            "  adding: predict/img00501.png (deflated 3%)\n",
            "  adding: predict/img01844.png (deflated 6%)\n",
            "  adding: predict/img00815.png (deflated 4%)\n",
            "  adding: predict/img00477.png (deflated 3%)\n",
            "  adding: predict/img03907.png (deflated 3%)\n",
            "  adding: predict/img05354.png (deflated 3%)\n",
            "  adding: predict/img00476.png (deflated 3%)\n",
            "  adding: predict/img03419.png (deflated 3%)\n",
            "  adding: predict/img06012.png (deflated 4%)\n",
            "  adding: predict/img03226.png (deflated 3%)\n",
            "  adding: predict/img04038.png (deflated 3%)\n",
            "  adding: predict/img06074.png (deflated 4%)\n",
            "  adding: predict/img05035.png (deflated 3%)\n",
            "  adding: predict/img01744.png (deflated 2%)\n",
            "  adding: predict/img05517.png (deflated 4%)\n",
            "  adding: predict/img02904.png (deflated 4%)\n",
            "  adding: predict/img04916.png (deflated 2%)\n",
            "  adding: predict/img06929.png (deflated 2%)\n",
            "  adding: predict/img01393.png (deflated 4%)\n",
            "  adding: predict/img01465.png (deflated 3%)\n",
            "  adding: predict/img06277.png (deflated 4%)\n",
            "  adding: predict/img01561.png (deflated 2%)\n",
            "  adding: predict/img05879.png (deflated 4%)\n",
            "  adding: predict/img06849.png (deflated 3%)\n",
            "  adding: predict/img06755.png (deflated 2%)\n",
            "  adding: predict/img06578.png (deflated 3%)\n",
            "  adding: predict/img02375.png (deflated 4%)\n",
            "  adding: predict/img05832.png (deflated 5%)\n",
            "  adding: predict/img01945.png (deflated 5%)\n",
            "  adding: predict/img01897.png (deflated 3%)\n",
            "  adding: predict/img05790.png (deflated 7%)\n",
            "  adding: predict/img05595.png (deflated 3%)\n",
            "  adding: predict/img00703.png (deflated 3%)\n",
            "  adding: predict/img02018.png (deflated 4%)\n",
            "  adding: predict/img06611.png (deflated 3%)\n",
            "  adding: predict/img06062.png (deflated 3%)\n",
            "  adding: predict/img01970.png (deflated 1%)\n",
            "  adding: predict/img06809.png (deflated 3%)\n",
            "  adding: predict/img03341.png (deflated 3%)\n",
            "  adding: predict/img00232.png (deflated 3%)\n",
            "  adding: predict/img05718.png (deflated 3%)\n",
            "  adding: predict/img05286.png (deflated 3%)\n",
            "  adding: predict/img04616.png (deflated 2%)\n",
            "  adding: predict/img05912.png (deflated 6%)\n",
            "  adding: predict/img03458.png (deflated 2%)\n",
            "  adding: predict/img01511.png (deflated 3%)\n",
            "  adding: predict/img03921.png (deflated 4%)\n",
            "  adding: predict/img06659.png (deflated 3%)\n",
            "  adding: predict/img06828.png (deflated 3%)\n",
            "  adding: predict/img05777.png (deflated 3%)\n",
            "  adding: predict/img01749.png (deflated 3%)\n",
            "  adding: predict/img00251.png (deflated 4%)\n",
            "  adding: predict/img05998.png (deflated 5%)\n",
            "  adding: predict/img00829.png (deflated 3%)\n",
            "  adding: predict/img04880.png (deflated 4%)\n",
            "  adding: predict/img00779.png (deflated 3%)\n",
            "  adding: predict/img00732.png (deflated 3%)\n",
            "  adding: predict/img00160.png (deflated 3%)\n",
            "  adding: predict/img04581.png (deflated 3%)\n",
            "  adding: predict/img02303.png (deflated 4%)\n",
            "  adding: predict/img04417.png (deflated 4%)\n",
            "  adding: predict/img05606.png (deflated 2%)\n",
            "  adding: predict/img05373.png (deflated 4%)\n",
            "  adding: predict/img05441.png (deflated 4%)\n",
            "  adding: predict/img05662.png (deflated 5%)\n",
            "  adding: predict/img02915.png (deflated 4%)\n",
            "  adding: predict/img00872.png (deflated 3%)\n",
            "  adding: predict/img06243.png (deflated 4%)\n",
            "  adding: predict/img04041.png (deflated 4%)\n",
            "  adding: predict/img02180.png (deflated 3%)\n",
            "  adding: predict/img06589.png (deflated 3%)\n",
            "  adding: predict/img01006.png (deflated 3%)\n",
            "  adding: predict/img06595.png (deflated 3%)\n",
            "  adding: predict/img02630.png (deflated 4%)\n",
            "  adding: predict/img05393.png (deflated 4%)\n",
            "  adding: predict/img00219.png (deflated 3%)\n",
            "  adding: predict/img05760.png (deflated 4%)\n",
            "  adding: predict/img05164.png (deflated 3%)\n",
            "  adding: predict/img02551.png (deflated 4%)\n",
            "  adding: predict/img04697.png (deflated 3%)\n",
            "  adding: predict/img01705.png (deflated 3%)\n",
            "  adding: predict/img06964.png (deflated 2%)\n",
            "  adding: predict/img02002.png (deflated 4%)\n",
            "  adding: predict/img01819.png (deflated 4%)\n",
            "  adding: predict/img05527.png (deflated 5%)\n",
            "  adding: predict/img02477.png (deflated 4%)\n",
            "  adding: predict/img05974.png (deflated 4%)\n",
            "  adding: predict/img02885.png (deflated 4%)\n",
            "  adding: predict/img02593.png (deflated 3%)\n",
            "  adding: predict/img01196.png (deflated 3%)\n",
            "  adding: predict/img05761.png (deflated 4%)\n",
            "  adding: predict/img02159.png (deflated 3%)\n",
            "  adding: predict/img00395.png (deflated 4%)\n",
            "  adding: predict/img06563.png (deflated 3%)\n",
            "  adding: predict/img02179.png (deflated 4%)\n",
            "  adding: predict/img04952.png (deflated 3%)\n",
            "  adding: predict/img06680.png (deflated 3%)\n",
            "  adding: predict/img00787.png (deflated 4%)\n",
            "  adding: predict/img00485.png (deflated 4%)\n",
            "  adding: predict/img05930.png (deflated 4%)\n",
            "  adding: predict/img04363.png (deflated 4%)\n",
            "  adding: predict/img05006.png (deflated 2%)\n",
            "  adding: predict/img04951.png (deflated 3%)\n",
            "  adding: predict/img00017.png (deflated 3%)\n",
            "  adding: predict/img02624.png (deflated 4%)\n",
            "  adding: predict/img01035.png (deflated 3%)\n",
            "  adding: predict/img02198.png (deflated 4%)\n",
            "  adding: predict/img00842.png (deflated 3%)\n",
            "  adding: predict/img01193.png (deflated 3%)\n",
            "  adding: predict/img04743.png (deflated 3%)\n",
            "  adding: predict/img02285.png (deflated 3%)\n",
            "  adding: predict/img03035.png (deflated 3%)\n",
            "  adding: predict/img05126.png (deflated 2%)\n",
            "  adding: predict/img02868.png (deflated 4%)\n",
            "  adding: predict/img06528.png (deflated 3%)\n",
            "  adding: predict/img02393.png (deflated 4%)\n",
            "  adding: predict/img02214.png (deflated 4%)\n",
            "  adding: predict/img06550.png (deflated 3%)\n",
            "  adding: predict/img00463.png (deflated 4%)\n",
            "  adding: predict/img05407.png (deflated 4%)\n",
            "  adding: predict/img01160.png (deflated 4%)\n",
            "  adding: predict/img05085.png (deflated 3%)\n",
            "  adding: predict/img01391.png (deflated 3%)\n",
            "  adding: predict/img00338.png (deflated 3%)\n",
            "  adding: predict/img00635.png (deflated 3%)\n",
            "  adding: predict/img01077.png (deflated 3%)\n",
            "  adding: predict/img01639.png (deflated 3%)\n",
            "  adding: predict/img05293.png (deflated 4%)\n",
            "  adding: predict/img02370.png (deflated 4%)\n",
            "  adding: predict/img06300.png (deflated 3%)\n",
            "  adding: predict/img04927.png (deflated 3%)\n",
            "  adding: predict/img00808.png (deflated 6%)\n",
            "  adding: predict/img01472.png (deflated 3%)\n",
            "  adding: predict/img05151.png (deflated 3%)\n",
            "  adding: predict/img00751.png (deflated 3%)\n",
            "  adding: predict/img01810.png (deflated 3%)\n",
            "  adding: predict/img01900.png (deflated 4%)\n",
            "  adding: predict/img00522.png (deflated 4%)\n",
            "  adding: predict/img05997.png (deflated 3%)\n",
            "  adding: predict/img03733.png (deflated 13%)\n",
            "  adding: predict/img05442.png (deflated 4%)\n",
            "  adding: predict/img00249.png (deflated 3%)\n",
            "  adding: predict/img00334.png (deflated 5%)\n",
            "  adding: predict/img03003.png (deflated 3%)\n",
            "  adding: predict/img05469.png (deflated 3%)\n",
            "  adding: predict/img01134.png (deflated 3%)\n",
            "  adding: predict/img02605.png (deflated 5%)\n",
            "  adding: predict/img05888.png (deflated 4%)\n",
            "  adding: predict/img06773.png (deflated 3%)\n",
            "  adding: predict/img00774.png (deflated 3%)\n",
            "  adding: predict/img00300.png (deflated 4%)\n",
            "  adding: predict/img06862.png (deflated 3%)\n",
            "  adding: predict/img04446.png (deflated 2%)\n",
            "  adding: predict/img04476.png (deflated 2%)\n",
            "  adding: predict/img00662.png (deflated 4%)\n",
            "  adding: predict/img01995.png (deflated 4%)\n",
            "  adding: predict/img05117.png (deflated 3%)\n",
            "  adding: predict/img01838.png (deflated 3%)\n",
            "  adding: predict/img06802.png (deflated 3%)\n",
            "  adding: predict/img01896.png (deflated 4%)\n",
            "  adding: predict/img01904.png (deflated 3%)\n",
            "  adding: predict/img05992.png (deflated 93%)\n",
            "  adding: predict/img06591.png (deflated 3%)\n",
            "  adding: predict/img04656.png (deflated 3%)\n",
            "  adding: predict/img03476.png (deflated 2%)\n",
            "  adding: predict/img03870.png (deflated 4%)\n",
            "  adding: predict/img05982.png (deflated 5%)\n",
            "  adding: predict/img00780.png (deflated 4%)\n",
            "  adding: predict/img01242.png (deflated 2%)\n",
            "  adding: predict/img03131.png (deflated 3%)\n",
            "  adding: predict/img00474.png (deflated 3%)\n",
            "  adding: predict/img05378.png (deflated 4%)\n",
            "  adding: predict/img05184.png (deflated 2%)\n",
            "  adding: predict/img03757.png (deflated 3%)\n",
            "  adding: predict/img03829.png (deflated 3%)\n",
            "  adding: predict/img03526.png (deflated 3%)\n",
            "  adding: predict/img04786.png (deflated 3%)\n",
            "  adding: predict/img05780.png (deflated 3%)\n",
            "  adding: predict/img04554.png (deflated 3%)\n",
            "  adding: predict/img03244.png (deflated 3%)\n",
            "  adding: predict/img03858.png (deflated 3%)\n",
            "  adding: predict/img03423.png (deflated 4%)\n",
            "  adding: predict/img01101.png (deflated 3%)\n",
            "  adding: predict/img04935.png (deflated 2%)\n",
            "  adding: predict/img06180.png (deflated 3%)\n",
            "  adding: predict/img03549.png (deflated 4%)\n",
            "  adding: predict/img03190.png (deflated 3%)\n",
            "  adding: predict/img04328.png (deflated 4%)\n",
            "  adding: predict/img05753.png (deflated 4%)\n",
            "  adding: predict/img00892.png (deflated 3%)\n",
            "  adding: predict/img03217.png (deflated 3%)\n",
            "  adding: predict/img01026.png (deflated 2%)\n",
            "  adding: predict/img02183.png (deflated 5%)\n",
            "  adding: predict/img05113.png (deflated 2%)\n",
            "  adding: predict/img00845.png (deflated 4%)\n",
            "  adding: predict/img03672.png (deflated 3%)\n",
            "  adding: predict/img01432.png (deflated 2%)\n",
            "  adding: predict/img05031.png (deflated 3%)\n",
            "  adding: predict/img00651.png (deflated 3%)\n",
            "  adding: predict/img06444.png (deflated 3%)\n",
            "  adding: predict/img03720.png (deflated 4%)\n",
            "  adding: predict/img00925.png (deflated 4%)\n",
            "  adding: predict/img05773.png (deflated 3%)\n",
            "  adding: predict/img06002.png (deflated 4%)\n",
            "  adding: predict/img02058.png (deflated 4%)\n",
            "  adding: predict/img00849.png (deflated 2%)\n",
            "  adding: predict/img02131.png (deflated 1%)\n",
            "  adding: predict/img03602.png (deflated 3%)\n",
            "  adding: predict/img06205.png (deflated 4%)\n",
            "  adding: predict/img05875.png (deflated 4%)\n",
            "  adding: predict/img04977.png (deflated 3%)\n",
            "  adding: predict/img05357.png (deflated 3%)\n",
            "  adding: predict/img02758.png (deflated 4%)\n",
            "  adding: predict/img03642.png (deflated 3%)\n",
            "  adding: predict/img04268.png (deflated 3%)\n",
            "  adding: predict/img05967.png (deflated 4%)\n",
            "  adding: predict/img02748.png (deflated 4%)\n",
            "  adding: predict/img02953.png (deflated 3%)\n",
            "  adding: predict/img00887.png (deflated 3%)\n",
            "  adding: predict/img00478.png (deflated 4%)\n",
            "  adding: predict/img01618.png (deflated 2%)\n",
            "  adding: predict/img04797.png (deflated 4%)\n",
            "  adding: predict/img06346.png (deflated 4%)\n",
            "  adding: predict/img01958.png (deflated 4%)\n",
            "  adding: predict/img00830.png (deflated 4%)\n",
            "  adding: predict/img06602.png (deflated 3%)\n",
            "  adding: predict/img02857.png (deflated 3%)\n",
            "  adding: predict/img03176.png (deflated 3%)\n",
            "  adding: predict/img03683.png (deflated 3%)\n",
            "  adding: predict/img02980.png (deflated 4%)\n",
            "  adding: predict/img01706.png (deflated 2%)\n",
            "  adding: predict/img02734.png (deflated 5%)\n",
            "  adding: predict/img03144.png (deflated 3%)\n",
            "  adding: predict/img06355.png (deflated 4%)\n",
            "  adding: predict/img03195.png (deflated 3%)\n",
            "  adding: predict/img00452.png (deflated 4%)\n",
            "  adding: predict/img06965.png (deflated 3%)\n",
            "  adding: predict/img05256.png (deflated 4%)\n",
            "  adding: predict/img00063.png (deflated 4%)\n",
            "  adding: predict/img01388.png (deflated 3%)\n",
            "  adding: predict/img03912.png (deflated 3%)\n",
            "  adding: predict/img00329.png (deflated 3%)\n",
            "  adding: predict/img00558.png (deflated 4%)\n",
            "  adding: predict/img02052.png (deflated 4%)\n",
            "  adding: predict/img05653.png (deflated 4%)\n",
            "  adding: predict/img02637.png (deflated 4%)\n",
            "  adding: predict/img00813.png (deflated 4%)\n",
            "  adding: predict/img01443.png (deflated 4%)\n",
            "  adding: predict/img02525.png (deflated 4%)\n",
            "  adding: predict/img01421.png (deflated 3%)\n",
            "  adding: predict/img01760.png (deflated 4%)\n",
            "  adding: predict/img00450.png (deflated 3%)\n",
            "  adding: predict/img00640.png (deflated 4%)\n",
            "  adding: predict/img06834.png (deflated 3%)\n",
            "  adding: predict/img03668.png (deflated 3%)\n",
            "  adding: predict/img02770.png (deflated 4%)\n",
            "  adding: predict/img06175.png (deflated 5%)\n",
            "  adding: predict/img03320.png (deflated 3%)\n",
            "  adding: predict/img01159.png (deflated 3%)\n",
            "  adding: predict/img04211.png (deflated 3%)\n",
            "  adding: predict/img03714.png (deflated 3%)\n",
            "  adding: predict/img05196.png (deflated 3%)\n",
            "  adding: predict/img00675.png (deflated 4%)\n",
            "  adding: predict/img05805.png (deflated 3%)\n",
            "  adding: predict/img05375.png (deflated 3%)\n",
            "  adding: predict/img01895.png (deflated 3%)\n",
            "  adding: predict/img05656.png (deflated 3%)\n",
            "  adding: predict/img06948.png (deflated 3%)\n",
            "  adding: predict/img06734.png (deflated 3%)\n",
            "  adding: predict/img02633.png (deflated 4%)\n",
            "  adding: predict/img06031.png (deflated 4%)\n",
            "  adding: predict/img06370.png (deflated 5%)\n",
            "  adding: predict/img04058.png (deflated 4%)\n",
            "  adding: predict/img01128.png (deflated 2%)\n",
            "  adding: predict/img00701.png (deflated 3%)\n",
            "  adding: predict/img05319.png (deflated 4%)\n",
            "  adding: predict/img05675.png (deflated 3%)\n",
            "  adding: predict/img02537.png (deflated 3%)\n",
            "  adding: predict/img04926.png (deflated 3%)\n",
            "  adding: predict/img03632.png (deflated 4%)\n",
            "  adding: predict/img06366.png (deflated 4%)\n",
            "  adding: predict/img03023.png (deflated 3%)\n",
            "  adding: predict/img04799.png (deflated 2%)\n",
            "  adding: predict/img02390.png (deflated 4%)\n",
            "  adding: predict/img00856.png (deflated 4%)\n",
            "  adding: predict/img05681.png (deflated 3%)\n",
            "  adding: predict/img02732.png (deflated 4%)\n",
            "  adding: predict/img04196.png (deflated 4%)\n",
            "  adding: predict/img06162.png (deflated 4%)\n",
            "  adding: predict/img00172.png (deflated 3%)\n",
            "  adding: predict/img01269.png (deflated 3%)\n",
            "  adding: predict/img01969.png (deflated 3%)\n",
            "  adding: predict/img05432.png (deflated 3%)\n",
            "  adding: predict/img00791.png (deflated 5%)\n",
            "  adding: predict/img06763.png (deflated 3%)\n",
            "  adding: predict/img03081.png (deflated 3%)\n",
            "  adding: predict/img00745.png (deflated 3%)\n",
            "  adding: predict/img05655.png (deflated 3%)\n",
            "  adding: predict/img01243.png (deflated 3%)\n",
            "  adding: predict/img00910.png (deflated 3%)\n",
            "  adding: predict/img03011.png (deflated 3%)\n",
            "  adding: predict/img01559.png (deflated 2%)\n",
            "  adding: predict/img06364.png (deflated 3%)\n",
            "  adding: predict/img06801.png (deflated 2%)\n",
            "  adding: predict/img02621.png (deflated 5%)\n",
            "  adding: predict/img04601.png (deflated 3%)\n",
            "  adding: predict/img03508.png (deflated 10%)\n",
            "  adding: predict/img03770.png (deflated 4%)\n",
            "  adding: predict/img06086.png (deflated 4%)\n",
            "  adding: predict/img06191.png (deflated 4%)\n",
            "  adding: predict/img03996.png (deflated 4%)\n",
            "  adding: predict/img05185.png (deflated 2%)\n",
            "  adding: predict/img06470.png (deflated 3%)\n",
            "  adding: predict/img06176.png (deflated 4%)\n",
            "  adding: predict/img02662.png (deflated 4%)\n",
            "  adding: predict/img00184.png (deflated 4%)\n",
            "  adding: predict/img00578.png (deflated 4%)\n",
            "  adding: predict/img06841.png (deflated 3%)\n",
            "  adding: predict/img01298.png (deflated 3%)\n"
          ]
        }
      ],
      "source": [
        "!zip -r ./predict-one.zip ./predict && rm -rf ./predict"
      ]
    },
    {
      "cell_type": "code",
      "execution_count": null,
      "metadata": {
        "id": "0S-w4Brs7wc_"
      },
      "outputs": [],
      "source": []
    },
    {
      "cell_type": "code",
      "execution_count": null,
      "metadata": {
        "id": "n6g_NC1476NQ"
      },
      "outputs": [],
      "source": []
    },
    {
      "cell_type": "markdown",
      "metadata": {
        "id": "AmtMQ28V7-TZ"
      },
      "source": [
        "Please make a pull request uploading predict-one.zip and predict-two.zip at https://github.com/sira-p/marmo-4b/tree/main"
      ]
    }
  ],
  "metadata": {
    "colab": {
      "provenance": []
    },
    "kernelspec": {
      "display_name": "Python 3",
      "name": "python3"
    },
    "language_info": {
      "codemirror_mode": {
        "name": "ipython",
        "version": 3
      },
      "file_extension": ".py",
      "mimetype": "text/x-python",
      "name": "python",
      "nbconvert_exporter": "python",
      "pygments_lexer": "ipython3",
      "version": "3.12.4"
    }
  },
  "nbformat": 4,
  "nbformat_minor": 0
}
